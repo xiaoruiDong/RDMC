{
 "cells": [
  {
   "cell_type": "markdown",
   "metadata": {},
   "source": [
    "# A Demo of using RDMC with XYZs\n",
    "Author: Xiaorui Dong\n",
    "\n",
    "This notebook demonstrates how RDMC handles XYZ. Molecules can be perceived by using [openbabel](http://openbabel.org/wiki/Main_Page) / [xyz2mol](https://github.com/jensengroup/xyz2mol). The created molecule can be visualized by `mol_viewer` and exported to xyz format."
   ]
  },
  {
   "cell_type": "code",
   "execution_count": null,
   "metadata": {},
   "outputs": [],
   "source": [
    "from rdmc.mol import Mol\n",
    "from rdtools.view import mol_viewer\n",
    "from rdkit.Chem.Draw import IPythonConsole"
   ]
  },
  {
   "cell_type": "markdown",
   "metadata": {},
   "source": [
    "## 1. An example of XYZ block"
   ]
  },
  {
   "cell_type": "code",
   "execution_count": null,
   "metadata": {},
   "outputs": [],
   "source": [
    "######################################\n",
    "# INPUT\n",
    "xyz=\"\"\"14\n",
    "\n",
    "C         -1.77596        0.55032       -0.86182\n",
    "C         -1.86964        0.09038       -2.31577\n",
    "H         -0.88733        1.17355       -0.71816\n",
    "H         -1.70996       -0.29898       -0.17103\n",
    "O         -2.90695        1.36613       -0.53334\n",
    "C         -0.58005       -0.57548       -2.76940\n",
    "H         -0.35617       -1.45641       -2.15753\n",
    "H          0.26635        0.11565       -2.71288\n",
    "H         -0.67469       -0.92675       -3.80265\n",
    "O         -2.92111       -0.86791       -2.44871\n",
    "H         -2.10410        0.93662       -2.97107\n",
    "O         -3.87923        0.48257        0.09884\n",
    "H         -4.43402        0.34141       -0.69232\n",
    "O         -4.16782       -0.23433       -2.64382\n",
    "\"\"\"\n",
    "\n",
    "xyz_without_header = \\\n",
    "\"\"\"O 2.136128  0.058786  -0.999372\n",
    "C -1.347448  0.039725  0.510465\n",
    "C 0.116046  -0.220125  0.294405\n",
    "C 0.810093  0.253091  -0.73937\n",
    "H -1.530204  0.552623  1.461378\n",
    "H -1.761309  0.662825  -0.286624\n",
    "H -1.923334  -0.892154  0.536088\n",
    "H 0.627132  -0.833978  1.035748\n",
    "H 0.359144  0.869454  -1.510183\n",
    "H 2.513751  -0.490247  -0.302535\"\"\"\n",
    "######################################"
   ]
  },
  {
   "cell_type": "markdown",
   "metadata": {},
   "source": [
    "## 2. Generate an Mol from xyz\n",
    "**Arguments:**\n",
    "- `backend`: choose the `openbabel` or `xyz2mol` backend\n",
    "- `header`: indicate if the str includes lines of atom number and title"
   ]
  },
  {
   "cell_type": "code",
   "execution_count": null,
   "metadata": {},
   "outputs": [],
   "source": [
    "Mol.FromXYZ(xyz, backend='openbabel', header=True)"
   ]
  },
  {
   "cell_type": "markdown",
   "metadata": {},
   "source": [
    "Next is an example of parsing XYZ without the first two lines (e.g., extracted from gaussian output), where `header` is set to `False`. Please set the `header` arguments correctly according to the input xyz."
   ]
  },
  {
   "cell_type": "code",
   "execution_count": null,
   "metadata": {},
   "outputs": [],
   "source": [
    "Mol.FromXYZ(xyz_without_header, backend='openbabel', header=False)"
   ]
  },
  {
   "cell_type": "markdown",
   "metadata": {},
   "source": [
    "Use `xyz2mol` backend. For most cases, xyz2mol's method returns the same molecule as using `openbabel` backend"
   ]
  },
  {
   "cell_type": "code",
   "execution_count": null,
   "metadata": {},
   "outputs": [],
   "source": [
    "Mol.FromXYZ(xyz, backend='xyz2mol', header=True)"
   ]
  },
  {
   "cell_type": "markdown",
   "metadata": {},
   "source": [
    "The optional arguments for the xyz2mol method are provided. Note, RDKit starts to have a native xyz2mol since version 2022.09, but you can choose to use the original python version (with minor modifications to work with RDMC) with `force_rdmc = True`. The reason to support both is that (1) we introduce the python version to rdmc since 2021 and (2) RDKit's native is not always reliable (e.g., rdkit-2023.09.6-macosarm64 version run into erros)"
   ]
  },
  {
   "cell_type": "code",
   "execution_count": null,
   "metadata": {},
   "outputs": [],
   "source": [
    "Mol.FromXYZ(\n",
    "    xyz,\n",
    "    backend='xyz2mol',\n",
    "    header=True,\n",
    "    allow_charged_fragments=False,  # radical => False\n",
    "    use_graph=True,  # Use networkx to accelerate (enabled by default)\n",
    "    use_huckel=True,  # Use extended Huckel bond orders to locate bonds\n",
    "    embed_chiral=True,  # Embed chiral information\n",
    "    force_rdmc=True,  # use RDMC's implementation of xyz2mol\n",
    ")"
   ]
  },
  {
   "cell_type": "markdown",
   "metadata": {},
   "source": [
    "## 3. Check the coordinates of the molecule and visualize it"
   ]
  },
  {
   "cell_type": "code",
   "execution_count": null,
   "metadata": {},
   "outputs": [],
   "source": [
    "mol = Mol.FromXYZ(xyz)\n",
    "print(f'xyz coordinate: \\n{mol.GetPositions(confId=0)}')"
   ]
  },
  {
   "cell_type": "markdown",
   "metadata": {},
   "source": [
    "## 4. Export XYZ"
   ]
  },
  {
   "cell_type": "code",
   "execution_count": null,
   "metadata": {},
   "outputs": [],
   "source": [
    "print(mol.ToXYZ(header=False))"
   ]
  },
  {
   "cell_type": "code",
   "execution_count": null,
   "metadata": {},
   "outputs": [],
   "source": []
  }
 ],
 "metadata": {
  "@webio": {
   "lastCommId": null,
   "lastKernelId": null
  },
  "kernelspec": {
   "display_name": "rdmc_v1.0",
   "language": "python",
   "name": "python3"
  },
  "language_info": {
   "codemirror_mode": {
    "name": "ipython",
    "version": 3
   },
   "file_extension": ".py",
   "mimetype": "text/x-python",
   "name": "python",
   "nbconvert_exporter": "python",
   "pygments_lexer": "ipython3",
   "version": "3.12.9"
  }
 },
 "nbformat": 4,
 "nbformat_minor": 4
}
