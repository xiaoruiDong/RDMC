{
 "cells": [
  {
   "cell_type": "markdown",
   "metadata": {},
   "source": [
    "# A demo of using RDKitFF and OpenBabelFF\n",
    "Demonstrate using the force field wrapper `RDKitFF` for RDKit force field and `OpenBabelFF` for Openbabel force field. Compared to the original APIs,\n",
    "- ROO cannot be optimized by RDKit Force Field, but RDKitFF provides a workaround for it.\n",
    "- more consistent APIs using RDKitFF and OpenBabelFF\n",
    "\n",
    "Something needs to keep in mind:\n",
    "- OpenBabelFF by default allowing interfragmental interactions, but you need to set `ignore_interfrag_interactions=False` to allow interfragmental interactions for RDKitFF.\n",
    "- When dealing with constrained optimization, in using OpenBabelFF, you need to set constraint before calling `setup()` (or calling `setup()` again after setting constraints); but in RDKitFF, you can only set constraint after calling `setup()`"
   ]
  },
  {
   "cell_type": "code",
   "execution_count": null,
   "metadata": {},
   "outputs": [],
   "source": [
    "from pathlib import Path\n",
    "import sys\n",
    "# To add this RDMC into PYTHONPATH in case you doesn't do it\n",
    "sys.path.append(str(Path(\"\").absolute().parent))\n",
    "\n",
    "import numpy as np\n",
    "import matplotlib.pyplot as plt\n",
    "\n",
    "from rdmc import OpenBabelFF, RDKitFF, Mol\n",
    "from rdmc.plotter import plot_curve\n",
    "from rdtools.view import grid_viewer, mol_viewer, animation_viewer\n",
    "\n",
    "%load_ext autoreload\n",
    "%autoreload 2"
   ]
  },
  {
   "cell_type": "markdown",
   "metadata": {},
   "source": [
    "## 1. RDKit Force Field"
   ]
  },
  {
   "cell_type": "code",
   "execution_count": null,
   "metadata": {},
   "outputs": [],
   "source": [
    "mol1 = Mol.FromSmiles('CCCO[O]')\n",
    "mol1.EmbedConformer()"
   ]
  },
  {
   "cell_type": "markdown",
   "metadata": {},
   "source": [
    "Create a force field object. Other options are `mmff94` and `uff`"
   ]
  },
  {
   "cell_type": "code",
   "execution_count": null,
   "metadata": {},
   "outputs": [],
   "source": [
    "ff = RDKitFF('mmff94s')\n",
    "print(ff.type)"
   ]
  },
  {
   "cell_type": "markdown",
   "metadata": {},
   "source": [
    "Check optimizibility and make molecule optimizable"
   ]
  },
  {
   "cell_type": "code",
   "execution_count": null,
   "metadata": {},
   "outputs": [],
   "source": [
    "opt_mol = mol1.Copy()\n",
    "ff.setup(opt_mol, ignore_interfrag_interactions=False)\n",
    "print(f'Optimizability of this molecule: {ff.is_optimizable()}')"
   ]
  },
  {
   "cell_type": "markdown",
   "metadata": {},
   "source": [
    "Optimize a single conformer (conformer 0)"
   ]
  },
  {
   "cell_type": "code",
   "execution_count": null,
   "metadata": {},
   "outputs": [],
   "source": [
    "success = ff.optimize()\n",
    "print(f'Optimization success: {success}')\n",
    "opt_mol = ff.get_optimized_mol()\n",
    "mol_viewer(opt_mol)"
   ]
  },
  {
   "cell_type": "markdown",
   "metadata": {},
   "source": [
    "## 2. Openbabel Force Field"
   ]
  },
  {
   "cell_type": "markdown",
   "metadata": {},
   "source": [
    "Create a Openbabel force field object. Options are `mmff94`, `mmff94s`, `uff`, `gaff`"
   ]
  },
  {
   "cell_type": "code",
   "execution_count": null,
   "metadata": {},
   "outputs": [],
   "source": [
    "obff = OpenBabelFF('gaff')\n",
    "print(obff.type)"
   ]
  },
  {
   "cell_type": "markdown",
   "metadata": {},
   "source": [
    "Check optimizibility and make molecule optimizable"
   ]
  },
  {
   "cell_type": "code",
   "execution_count": null,
   "metadata": {},
   "outputs": [],
   "source": [
    "opt_mol = mol1.Copy()\n",
    "obff.setup(opt_mol)\n",
    "print(f'Optimizability of this molecule: {obff.is_optimizable()}')"
   ]
  },
  {
   "cell_type": "code",
   "execution_count": null,
   "metadata": {},
   "outputs": [],
   "source": [
    "obff.optimize()\n",
    "opt_mol = obff.get_optimized_mol()\n",
    "mol_viewer(opt_mol)"
   ]
  },
  {
   "cell_type": "markdown",
   "metadata": {},
   "source": [
    "## 3. Intermolecular optimization\n",
    "RDKitFF and OpenBabelFF may not converge to the same orientation due to being differently parametrized"
   ]
  },
  {
   "cell_type": "markdown",
   "metadata": {},
   "source": [
    "Before Optimization"
   ]
  },
  {
   "cell_type": "code",
   "execution_count": null,
   "metadata": {},
   "outputs": [],
   "source": [
    "mol2 = Mol.FromSmiles('C=O.C=O')\n",
    "mol2.EmbedConformer()\n",
    "mol_viewer(mol2)"
   ]
  },
  {
   "cell_type": "markdown",
   "metadata": {},
   "source": [
    "RDKitFF"
   ]
  },
  {
   "cell_type": "code",
   "execution_count": null,
   "metadata": {},
   "outputs": [],
   "source": [
    "ff = RDKitFF()\n",
    "ff.setup(mol2.Copy(), ignore_interfrag_interactions=False)\n",
    "ff.optimize()\n",
    "mol_viewer(ff.get_optimized_mol())"
   ]
  },
  {
   "cell_type": "markdown",
   "metadata": {},
   "source": [
    "OpenBabelFF"
   ]
  },
  {
   "cell_type": "code",
   "execution_count": null,
   "metadata": {},
   "outputs": [],
   "source": [
    "ff = OpenBabelFF()\n",
    "ff.setup(mol2.Copy())\n",
    "ff.optimize()\n",
    "mol_viewer(ff.get_optimized_mol())"
   ]
  },
  {
   "cell_type": "markdown",
   "metadata": {},
   "source": [
    "## 4. Constrained optimization"
   ]
  },
  {
   "cell_type": "markdown",
   "metadata": {},
   "source": [
    "Set atom (1, 2) and (0, 3) = 2 Angstrom"
   ]
  },
  {
   "cell_type": "code",
   "execution_count": null,
   "metadata": {},
   "outputs": [],
   "source": [
    "xyz = \"\"\"C      2.164196    0.180658    0.005381\n",
    "O      0.942631    0.078687    0.002344\n",
    "C     -2.138178   -0.178485   -0.005316\n",
    "O     -3.360016   -0.280479   -0.008354\n",
    "H      2.826486   -0.691971    0.123773\n",
    "H      2.673219    1.151062   -0.110098\n",
    "H     -1.518697   -0.529599   -0.845624\n",
    "H     -1.589641    0.270129    0.837895\"\"\"\n",
    "\n",
    "mol3 = Mol.FromXYZ(xyz, header=False)\n",
    "\n",
    "print('Before optimization')\n",
    "print(\n",
    "      f'd(1,2) = {mol3.GetEditableConformer().GetBondLength([1,2])}\\n'\n",
    "      f'd(0,3) = {mol3.GetEditableConformer().GetBondLength([0,3])}\\n'\n",
    ")\n",
    "mol_viewer(mol3)"
   ]
  },
  {
   "cell_type": "markdown",
   "metadata": {},
   "source": [
    "Constrained optimization with RDKitFF"
   ]
  },
  {
   "cell_type": "code",
   "execution_count": null,
   "metadata": {},
   "outputs": [],
   "source": [
    "ff = RDKitFF()\n",
    "ff.setup(mol3.Copy())\n",
    "ff.add_distance_constraint([1,2], 2.0, force_constant=1e4)\n",
    "ff.add_distance_constraint([0,3], 2.0, force_constant=1e4)\n",
    "ff.optimize()\n",
    "opt_mol = ff.get_optimized_mol()\n",
    "print(\"After Optimization:\")\n",
    "print(\n",
    "    f'd(1,2) = {opt_mol.GetEditableConformer().GetBondLength([1,2])}\\n'\n",
    "    f'd(0,3) = {opt_mol.GetEditableConformer().GetBondLength([0,3])}\\n'\n",
    ")\n",
    "mol_viewer(opt_mol)"
   ]
  },
  {
   "cell_type": "markdown",
   "metadata": {},
   "source": [
    "Constrained optimization with OpenBabelFF"
   ]
  },
  {
   "cell_type": "code",
   "execution_count": null,
   "metadata": {},
   "outputs": [],
   "source": [
    "ff = OpenBabelFF()\n",
    "ff.setup(mol3.Copy())  # directly assign mol to allow correct atom index when setting constraints\n",
    "ff.add_distance_constraint([1,2], 2.0)\n",
    "ff.add_distance_constraint([0,3], 2.0)\n",
    "ff.optimize()\n",
    "opt_mol = ff.get_optimized_mol()\n",
    "\n",
    "print(\n",
    "    f'd(1,2) = {opt_mol.GetEditableConformer().GetBondLength([1,2])}\\n'\n",
    "    f'd(0,3) = {opt_mol.GetEditableConformer().GetBondLength([0,3])}\\n'\n",
    ")\n",
    "mol_viewer(opt_mol)"
   ]
  },
  {
   "cell_type": "markdown",
   "metadata": {},
   "source": [
    "### 5. Simultaneous constrained optimization for multiple conformers"
   ]
  },
  {
   "cell_type": "code",
   "execution_count": null,
   "metadata": {},
   "outputs": [],
   "source": [
    "xyz = \"\"\"C      2.164196    0.180658    0.005381\n",
    "O      0.942631    0.078687    0.002344\n",
    "C     -2.138178   -0.178485   -0.005316\n",
    "O     -3.360016   -0.280479   -0.008354\n",
    "H      2.826486   -0.691971    0.123773\n",
    "H      2.673219    1.151062   -0.110098\n",
    "H     -1.518697   -0.529599   -0.845624\n",
    "H     -1.589641    0.270129    0.837895\"\"\"\n",
    "\n",
    "mol5 = Mol.FromXYZ(xyz, header=False)\n",
    "mol5.EmbedMultipleConfs(4)\n",
    "\n",
    "viewer = grid_viewer(viewer_grid=(2, 2), viewer_size=(600, 400), linked=True)\n",
    "grids = [(0, 0), (0, 1), (1, 0), (1, 1)]\n",
    "for i in range(4):\n",
    "    print(f'conformer {i}')\n",
    "    print(\n",
    "        f'd(1,2) = {mol5.GetEditableConformer(i).GetBondLength([1,2])}\\n'\n",
    "        f'd(0,3) = {mol5.GetEditableConformer(i).GetBondLength([0,3])}\\n'\n",
    "    )\n",
    "    mol_viewer(opt_mol, viewer=viewer, viewer_loc=grids[i])\n",
    "viewer\n"
   ]
  },
  {
   "cell_type": "markdown",
   "metadata": {},
   "source": [
    "Optimization and constraint both d(1,2) and d(0,3) to be 2.0"
   ]
  },
  {
   "cell_type": "code",
   "execution_count": null,
   "metadata": {},
   "outputs": [],
   "source": [
    "ff = RDKitFF()\n",
    "ff.setup(mol5.Copy())\n",
    "ff.add_distance_constraint([1,2], 2.0, force_constant=1e3)\n",
    "ff.add_distance_constraint([0,3], 2.0, force_constant=1e3)\n",
    "ff.optimize_confs()\n",
    "opt_mol = ff.get_optimized_mol()\n",
    "\n",
    "viewer = grid_viewer(viewer_grid=(2, 2), viewer_size=(600, 400), linked=True)\n",
    "grids = [(0,0), (0,1), (1,0), (1,1)]\n",
    "for i in range(4):\n",
    "    print(f'conformer {i}')\n",
    "    print(f'd(1,2) = {opt_mol.GetEditableConformer(i).GetBondLength([1,2])}\\n'\n",
    "          f'd(0,3) = {opt_mol.GetEditableConformer(i).GetBondLength([0,3])}\\n')\n",
    "    mol_viewer(opt_mol, viewer=viewer, viewer_loc=grids[i])\n",
    "print(f'Force field energies for each conformers: {ff.get_conformer_energies()}')\n",
    "viewer"
   ]
  },
  {
   "cell_type": "markdown",
   "metadata": {},
   "source": [
    "### 6. 1D torsional scan"
   ]
  },
  {
   "cell_type": "code",
   "execution_count": null,
   "metadata": {},
   "outputs": [],
   "source": [
    "xyz = \"\"\"O     -1.4560320000   -0.6564780000   -0.0547780000\n",
    "  C      0.6264870000    0.6420160000   -0.2996580000\n",
    "  C     -0.7756090000    0.5456950000    0.3029210000\n",
    "  C      1.5452770000   -0.5075760000    0.1202110000\n",
    "  H      1.0636220000    1.6047080000   -0.0081600000\n",
    "  H      0.5390000000    0.6678840000   -1.3943400000\n",
    "  H     -1.3675760000    1.4276160000    0.0200750000\n",
    "  H     -0.7153500000    0.5286660000    1.3946760000\n",
    "  H      1.7247880000   -0.4909950000    1.1997250000\n",
    "  H      2.5146430000   -0.4479850000   -0.3811650000\n",
    "  H      1.0902030000   -1.4695310000   -0.1238680000\n",
    "  H     -1.5780000000   -0.6493500000   -1.0095640000\"\"\"\n",
    "\n",
    "mol6 = Mol.FromXYZ(xyz, header=False)\n",
    "\n",
    "torsion1 = mol6.GetTorsionalModes(excludeMethyl=True)[0]"
   ]
  },
  {
   "cell_type": "code",
   "execution_count": null,
   "metadata": {},
   "outputs": [],
   "source": [
    "ff = RDKitFF()\n",
    "ff.setup(mol6.Copy())\n",
    "angles1, rigid_E, xyzs1 = ff.torsional_scan_1d(torsion1, num_points=45, return_xyz=True)\n",
    "angles2, relax_E, xyzs2 = ff.torsional_scan_1d(torsion1, num_points=45, rigid=False, return_xyz=True)\n"
   ]
  },
  {
   "cell_type": "code",
   "execution_count": null,
   "metadata": {},
   "outputs": [],
   "source": [
    "fig, ax = plt.subplots(1, 1)\n",
    "plot_curve(x=angles1, y=rigid_E,\n",
    "           relative_x=0, periodic_x=360, relative_y='min',\n",
    "           ax=ax,\n",
    "           xlabel='Torsional angle (degree)',\n",
    "           ylabel='Energy (kcal/mol)')\n",
    "plot_curve(x=angles2, y=relax_E,\n",
    "           relative_x=0, periodic_x=360, relative_y=0,\n",
    "           ax=ax,\n",
    "           xlabel='Torsional angle (degree)',\n",
    "           ylabel='Energy (kcal/mol)')\n",
    "ax.legend(['Rigid', 'Relax'])\n"
   ]
  },
  {
   "cell_type": "code",
   "execution_count": null,
   "metadata": {},
   "outputs": [],
   "source": [
    "viewer = grid_viewer(viewer_grid=(1, 2), viewer_size=(800, 400), linked=True)\n",
    "\n",
    "animation_viewer(\"\".join(xyzs1), 'xyz', interval=120, viewer=viewer, viewer_loc=(0, 0))\n",
    "animation_viewer(\"\".join(xyzs2), 'xyz', interval=120, viewer=viewer, viewer_loc=(0, 1))\n",
    "\n",
    "viewer"
   ]
  },
  {
   "cell_type": "code",
   "execution_count": null,
   "metadata": {},
   "outputs": [],
   "source": []
  }
 ],
 "metadata": {
  "kernelspec": {
   "display_name": "xtb_env",
   "language": "python",
   "name": "python3"
  },
  "language_info": {
   "codemirror_mode": {
    "name": "ipython",
    "version": 3
   },
   "file_extension": ".py",
   "mimetype": "text/x-python",
   "name": "python",
   "nbconvert_exporter": "python",
   "pygments_lexer": "ipython3",
   "version": "3.11.8"
  }
 },
 "nbformat": 4,
 "nbformat_minor": 2
}
