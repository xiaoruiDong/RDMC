{
 "cells": [
  {
   "cell_type": "markdown",
   "metadata": {},
   "source": [
    "# A demo of using RDKitFF and OpenBabelFF\n",
    "Demonstrate using the force field wrapper `RDKitFF` for RDKit force field and `OpenBabelFF` for Openbabel force field. Compared to the original APIs,\n",
    "- ROO cannot be optimized by RDKit Force Field, but RDKitFF provides a workaround for it.\n",
    "- more consistent APIs using RDKitFF and OpenBabelFF\n",
    "\n",
    "Something needs to keep in mind:\n",
    "- OpenBabelFF by default allowing interfragmental interactions, but you need to set `ignore_interfrag_interactions=False` to allow interfragmental interactions for RDKitFF.\n",
    "- When dealing with constrained optimization, in using OpenBabelFF, you need to set constraint before calling `setup()` (or calling `setup()` again after setting constraints); but in RDKitFF, you can only set constraint after calling `setup()`"
   ]
  },
  {
   "cell_type": "code",
   "execution_count": 1,
   "metadata": {},
   "outputs": [
    {
     "name": "stderr",
     "output_type": "stream",
     "text": [
      "[23:59:16] WARNING: not removing hydrogen atom without neighbors\n"
     ]
    }
   ],
   "source": [
    "from pathlib import Path\n",
    "import sys\n",
    "# To add this RDMC into PYTHONPATH in case you doesn't do it\n",
    "sys.path.append(str(Path(\"\").absolute().parent))\n",
    "\n",
    "import numpy as np\n",
    "import matplotlib.pyplot as plt\n",
    "\n",
    "from rdmc import OpenBabelFF, RDKitFF, Mol\n",
    "from rdmc.plotter import plot_curve\n",
    "from rdtools.view import grid_viewer, mol_viewer, animation_viewer\n",
    "\n",
    "%load_ext autoreload\n",
    "%autoreload 2"
   ]
  },
  {
   "cell_type": "markdown",
   "metadata": {},
   "source": [
    "## 1. RDKit Force Field"
   ]
  },
  {
   "cell_type": "code",
   "execution_count": 2,
   "metadata": {},
   "outputs": [],
   "source": [
    "mol1 = Mol.FromSmiles('CCCO[O]')\n",
    "mol1.EmbedConformer()"
   ]
  },
  {
   "cell_type": "markdown",
   "metadata": {},
   "source": [
    "Create a force field object. Other options are `mmff94` and `uff`"
   ]
  },
  {
   "cell_type": "code",
   "execution_count": 3,
   "metadata": {},
   "outputs": [
    {
     "name": "stdout",
     "output_type": "stream",
     "text": [
      "mmff94s\n"
     ]
    }
   ],
   "source": [
    "ff = RDKitFF('mmff94s')\n",
    "print(ff.type)"
   ]
  },
  {
   "cell_type": "markdown",
   "metadata": {},
   "source": [
    "Check optimizibility and make molecule optimizable"
   ]
  },
  {
   "cell_type": "code",
   "execution_count": 4,
   "metadata": {},
   "outputs": [
    {
     "name": "stdout",
     "output_type": "stream",
     "text": [
      "Optimizability of this molecule: True\n"
     ]
    }
   ],
   "source": [
    "opt_mol = mol1.Copy()\n",
    "ff.setup(opt_mol, ignore_interfrag_interactions=False)\n",
    "print(f'Optimizability of this molecule: {ff.is_optimizable()}')"
   ]
  },
  {
   "cell_type": "markdown",
   "metadata": {},
   "source": [
    "Optimize a single conformer (conformer 0)"
   ]
  },
  {
   "cell_type": "code",
   "execution_count": 5,
   "metadata": {},
   "outputs": [
    {
     "name": "stdout",
     "output_type": "stream",
     "text": [
      "Optimization success: True\n"
     ]
    },
    {
     "data": {
      "application/3dmoljs_load.v0": "<div id=\"3dmolviewer_1744171156768999\"  style=\"position: relative; width: 400px; height: 400px;\">\n        <p id=\"3dmolwarning_1744171156768999\" style=\"background-color:#ffcccc;color:black\">3Dmol.js failed to load for some reason.  Please check your browser console for error messages.<br></p>\n        </div>\n<script>\n\nvar loadScriptAsync = function(uri){\n  return new Promise((resolve, reject) => {\n    //this is to ignore the existence of requirejs amd\n    var savedexports, savedmodule;\n    if (typeof exports !== 'undefined') savedexports = exports;\n    else exports = {}\n    if (typeof module !== 'undefined') savedmodule = module;\n    else module = {}\n\n    var tag = document.createElement('script');\n    tag.src = uri;\n    tag.async = true;\n    tag.onload = () => {\n        exports = savedexports;\n        module = savedmodule;\n        resolve();\n    };\n  var firstScriptTag = document.getElementsByTagName('script')[0];\n  firstScriptTag.parentNode.insertBefore(tag, firstScriptTag);\n});\n};\n\nif(typeof $3Dmolpromise === 'undefined') {\n$3Dmolpromise = null;\n  $3Dmolpromise = loadScriptAsync('https://cdnjs.cloudflare.com/ajax/libs/3Dmol/2.4.2/3Dmol-min.js');\n}\n\nvar viewer_1744171156768999 = null;\nvar warn = document.getElementById(\"3dmolwarning_1744171156768999\");\nif(warn) {\n    warn.parentNode.removeChild(warn);\n}\n$3Dmolpromise.then(function() {\nviewer_1744171156768999 = $3Dmol.createViewer(document.getElementById(\"3dmolviewer_1744171156768999\"),{backgroundColor:\"white\"});\nviewer_1744171156768999.zoomTo();\n\tviewer_1744171156768999.addModel(\"\\n     RDKit          3D\\n\\n 12 11  0  0  0  0  0  0  0  0999 V2000\\n   -1.5769   -0.0499   -0.0362 C   0  0  0  0  0  0  0  0  0  1  0  0\\n   -0.2802   -0.4682    0.6331 C   0  0  0  0  0  0  0  0  0  2  0  0\\n    0.9126    0.2990    0.0847 C   0  0  0  0  0  0  0  0  0  3  0  0\\n    2.0886   -0.1390    0.7507 O   0  0  0  0  0  0  0  0  0  4  0  0\\n    3.2257    0.5542    0.2661 O   0  0  0  0  0  1  0  0  0  5  0  0\\n   -2.4171   -0.6167    0.3767 H   0  0  0  0  0  0  0  0  0  6  0  0\\n   -1.5393   -0.2352   -1.1144 H   0  0  0  0  0  0  0  0  0  7  0  0\\n   -1.7746    1.0150    0.1230 H   0  0  0  0  0  0  0  0  0  8  0  0\\n   -0.3525   -0.3111    1.7160 H   0  0  0  0  0  0  0  0  0  9  0  0\\n   -0.1205   -1.5444    0.4953 H   0  0  0  0  0  0  0  0  0 10  0  0\\n    1.0350    0.1215   -0.9884 H   0  0  0  0  0  0  0  0  0 11  0  0\\n    0.7992    1.3747    0.2521 H   0  0  0  0  0  0  0  0  0 12  0  0\\n  1  2  1  0\\n  2  3  1  0\\n  3  4  1  0\\n  4  5  1  0\\n  1  6  1  0\\n  1  7  1  0\\n  1  8  1  0\\n  2  9  1  0\\n  2 10  1  0\\n  3 11  1  0\\n  3 12  1  0\\nM  RAD  1   5   2\\nM  END\\n\",\"sdf\");\n\tviewer_1744171156768999.setStyle({\"stick\": {\"radius\": 0.05, \"color\": \"#f2f2f2\"}, \"sphere\": {\"scale\": 0.25}});\n\tviewer_1744171156768999.addPropertyLabels(\"index\",{},{\"fontSize\": 15, \"fontColor\": \"white\", \"alignment\": \"center\", \"showBackground\": true, \"backgroundOpacity\": 0.2, \"backgroundColor\": \"black\"});\n\tviewer_1744171156768999.zoomTo();\nviewer_1744171156768999.render();\n});\n</script>",
      "text/html": [
       "<div id=\"3dmolviewer_1744171156768999\"  style=\"position: relative; width: 400px; height: 400px;\">\n",
       "        <p id=\"3dmolwarning_1744171156768999\" style=\"background-color:#ffcccc;color:black\">3Dmol.js failed to load for some reason.  Please check your browser console for error messages.<br></p>\n",
       "        </div>\n",
       "<script>\n",
       "\n",
       "var loadScriptAsync = function(uri){\n",
       "  return new Promise((resolve, reject) => {\n",
       "    //this is to ignore the existence of requirejs amd\n",
       "    var savedexports, savedmodule;\n",
       "    if (typeof exports !== 'undefined') savedexports = exports;\n",
       "    else exports = {}\n",
       "    if (typeof module !== 'undefined') savedmodule = module;\n",
       "    else module = {}\n",
       "\n",
       "    var tag = document.createElement('script');\n",
       "    tag.src = uri;\n",
       "    tag.async = true;\n",
       "    tag.onload = () => {\n",
       "        exports = savedexports;\n",
       "        module = savedmodule;\n",
       "        resolve();\n",
       "    };\n",
       "  var firstScriptTag = document.getElementsByTagName('script')[0];\n",
       "  firstScriptTag.parentNode.insertBefore(tag, firstScriptTag);\n",
       "});\n",
       "};\n",
       "\n",
       "if(typeof $3Dmolpromise === 'undefined') {\n",
       "$3Dmolpromise = null;\n",
       "  $3Dmolpromise = loadScriptAsync('https://cdnjs.cloudflare.com/ajax/libs/3Dmol/2.4.2/3Dmol-min.js');\n",
       "}\n",
       "\n",
       "var viewer_1744171156768999 = null;\n",
       "var warn = document.getElementById(\"3dmolwarning_1744171156768999\");\n",
       "if(warn) {\n",
       "    warn.parentNode.removeChild(warn);\n",
       "}\n",
       "$3Dmolpromise.then(function() {\n",
       "viewer_1744171156768999 = $3Dmol.createViewer(document.getElementById(\"3dmolviewer_1744171156768999\"),{backgroundColor:\"white\"});\n",
       "viewer_1744171156768999.zoomTo();\n",
       "\tviewer_1744171156768999.addModel(\"\\n     RDKit          3D\\n\\n 12 11  0  0  0  0  0  0  0  0999 V2000\\n   -1.5769   -0.0499   -0.0362 C   0  0  0  0  0  0  0  0  0  1  0  0\\n   -0.2802   -0.4682    0.6331 C   0  0  0  0  0  0  0  0  0  2  0  0\\n    0.9126    0.2990    0.0847 C   0  0  0  0  0  0  0  0  0  3  0  0\\n    2.0886   -0.1390    0.7507 O   0  0  0  0  0  0  0  0  0  4  0  0\\n    3.2257    0.5542    0.2661 O   0  0  0  0  0  1  0  0  0  5  0  0\\n   -2.4171   -0.6167    0.3767 H   0  0  0  0  0  0  0  0  0  6  0  0\\n   -1.5393   -0.2352   -1.1144 H   0  0  0  0  0  0  0  0  0  7  0  0\\n   -1.7746    1.0150    0.1230 H   0  0  0  0  0  0  0  0  0  8  0  0\\n   -0.3525   -0.3111    1.7160 H   0  0  0  0  0  0  0  0  0  9  0  0\\n   -0.1205   -1.5444    0.4953 H   0  0  0  0  0  0  0  0  0 10  0  0\\n    1.0350    0.1215   -0.9884 H   0  0  0  0  0  0  0  0  0 11  0  0\\n    0.7992    1.3747    0.2521 H   0  0  0  0  0  0  0  0  0 12  0  0\\n  1  2  1  0\\n  2  3  1  0\\n  3  4  1  0\\n  4  5  1  0\\n  1  6  1  0\\n  1  7  1  0\\n  1  8  1  0\\n  2  9  1  0\\n  2 10  1  0\\n  3 11  1  0\\n  3 12  1  0\\nM  RAD  1   5   2\\nM  END\\n\",\"sdf\");\n",
       "\tviewer_1744171156768999.setStyle({\"stick\": {\"radius\": 0.05, \"color\": \"#f2f2f2\"}, \"sphere\": {\"scale\": 0.25}});\n",
       "\tviewer_1744171156768999.addPropertyLabels(\"index\",{},{\"fontSize\": 15, \"fontColor\": \"white\", \"alignment\": \"center\", \"showBackground\": true, \"backgroundOpacity\": 0.2, \"backgroundColor\": \"black\"});\n",
       "\tviewer_1744171156768999.zoomTo();\n",
       "viewer_1744171156768999.render();\n",
       "});\n",
       "</script>"
      ]
     },
     "metadata": {},
     "output_type": "display_data"
    },
    {
     "data": {
      "text/plain": [
       "<py3Dmol.view at 0x7f812b1d8ec0>"
      ]
     },
     "execution_count": 5,
     "metadata": {},
     "output_type": "execute_result"
    }
   ],
   "source": [
    "success = ff.optimize()\n",
    "print(f'Optimization success: {success}')\n",
    "opt_mol = ff.get_optimized_mol()\n",
    "mol_viewer(opt_mol)"
   ]
  },
  {
   "cell_type": "markdown",
   "metadata": {},
   "source": [
    "## 2. Openbabel Force Field"
   ]
  },
  {
   "cell_type": "markdown",
   "metadata": {},
   "source": [
    "Create a Openbabel force field object. Options are `mmff94`, `mmff94s`, `uff`, `gaff`"
   ]
  },
  {
   "cell_type": "code",
   "execution_count": 6,
   "metadata": {},
   "outputs": [
    {
     "name": "stdout",
     "output_type": "stream",
     "text": [
      "gaff\n"
     ]
    }
   ],
   "source": [
    "obff = OpenBabelFF('gaff')\n",
    "print(obff.type)"
   ]
  },
  {
   "cell_type": "markdown",
   "metadata": {},
   "source": [
    "Check optimizibility and make molecule optimizable"
   ]
  },
  {
   "cell_type": "code",
   "execution_count": 7,
   "metadata": {},
   "outputs": [
    {
     "name": "stdout",
     "output_type": "stream",
     "text": [
      "Optimizability of this molecule: True\n"
     ]
    }
   ],
   "source": [
    "opt_mol = mol1.Copy()\n",
    "obff.setup(opt_mol)\n",
    "print(f'Optimizability of this molecule: {obff.is_optimizable()}')"
   ]
  },
  {
   "cell_type": "code",
   "execution_count": 8,
   "metadata": {},
   "outputs": [
    {
     "data": {
      "application/3dmoljs_load.v0": "<div id=\"3dmolviewer_17441711568791056\"  style=\"position: relative; width: 400px; height: 400px;\">\n        <p id=\"3dmolwarning_17441711568791056\" style=\"background-color:#ffcccc;color:black\">3Dmol.js failed to load for some reason.  Please check your browser console for error messages.<br></p>\n        </div>\n<script>\n\nvar loadScriptAsync = function(uri){\n  return new Promise((resolve, reject) => {\n    //this is to ignore the existence of requirejs amd\n    var savedexports, savedmodule;\n    if (typeof exports !== 'undefined') savedexports = exports;\n    else exports = {}\n    if (typeof module !== 'undefined') savedmodule = module;\n    else module = {}\n\n    var tag = document.createElement('script');\n    tag.src = uri;\n    tag.async = true;\n    tag.onload = () => {\n        exports = savedexports;\n        module = savedmodule;\n        resolve();\n    };\n  var firstScriptTag = document.getElementsByTagName('script')[0];\n  firstScriptTag.parentNode.insertBefore(tag, firstScriptTag);\n});\n};\n\nif(typeof $3Dmolpromise === 'undefined') {\n$3Dmolpromise = null;\n  $3Dmolpromise = loadScriptAsync('https://cdnjs.cloudflare.com/ajax/libs/3Dmol/2.4.2/3Dmol-min.js');\n}\n\nvar viewer_17441711568791056 = null;\nvar warn = document.getElementById(\"3dmolwarning_17441711568791056\");\nif(warn) {\n    warn.parentNode.removeChild(warn);\n}\n$3Dmolpromise.then(function() {\nviewer_17441711568791056 = $3Dmol.createViewer(document.getElementById(\"3dmolviewer_17441711568791056\"),{backgroundColor:\"white\"});\nviewer_17441711568791056.zoomTo();\n\tviewer_17441711568791056.addModel(\"\\n     RDKit          3D\\n\\n 12 11  0  0  0  0  0  0  0  0999 V2000\\n   -1.5927   -0.0498   -0.0502 C   0  0  0  0  0  0  0  0  0  1  0  0\\n   -0.2912   -0.4780    0.6513 C   0  0  0  0  0  0  0  0  0  2  0  0\\n    0.9234    0.2901    0.0990 C   0  0  0  0  0  0  0  0  0  3  0  0\\n    2.1043   -0.1749    0.7839 O   0  0  0  0  0  0  0  0  0  4  0  0\\n    3.2197    0.6218    0.1616 O   0  0  0  0  0  1  0  0  0  5  0  0\\n   -2.4364   -0.6257    0.3368 H   0  0  0  0  0  0  0  0  0  6  0  0\\n   -1.5253   -0.2225   -1.1269 H   0  0  0  0  0  0  0  0  0  7  0  0\\n   -1.7932    1.0104    0.1212 H   0  0  0  0  0  0  0  0  0  8  0  0\\n   -0.3814   -0.2970    1.7253 H   0  0  0  0  0  0  0  0  0  9  0  0\\n   -0.1395   -1.5508    0.5091 H   0  0  0  0  0  0  0  0  0 10  0  0\\n    1.0344    0.1014   -0.9724 H   0  0  0  0  0  0  0  0  0 11  0  0\\n    0.8056    1.3631    0.2747 H   0  0  0  0  0  0  0  0  0 12  0  0\\n  1  2  1  0\\n  2  3  1  0\\n  3  4  1  0\\n  4  5  1  0\\n  1  6  1  0\\n  1  7  1  0\\n  1  8  1  0\\n  2  9  1  0\\n  2 10  1  0\\n  3 11  1  0\\n  3 12  1  0\\nM  RAD  1   5   2\\nM  END\\n\",\"sdf\");\n\tviewer_17441711568791056.setStyle({\"stick\": {\"radius\": 0.05, \"color\": \"#f2f2f2\"}, \"sphere\": {\"scale\": 0.25}});\n\tviewer_17441711568791056.addPropertyLabels(\"index\",{},{\"fontSize\": 15, \"fontColor\": \"white\", \"alignment\": \"center\", \"showBackground\": true, \"backgroundOpacity\": 0.2, \"backgroundColor\": \"black\"});\n\tviewer_17441711568791056.zoomTo();\nviewer_17441711568791056.render();\n});\n</script>",
      "text/html": [
       "<div id=\"3dmolviewer_17441711568791056\"  style=\"position: relative; width: 400px; height: 400px;\">\n",
       "        <p id=\"3dmolwarning_17441711568791056\" style=\"background-color:#ffcccc;color:black\">3Dmol.js failed to load for some reason.  Please check your browser console for error messages.<br></p>\n",
       "        </div>\n",
       "<script>\n",
       "\n",
       "var loadScriptAsync = function(uri){\n",
       "  return new Promise((resolve, reject) => {\n",
       "    //this is to ignore the existence of requirejs amd\n",
       "    var savedexports, savedmodule;\n",
       "    if (typeof exports !== 'undefined') savedexports = exports;\n",
       "    else exports = {}\n",
       "    if (typeof module !== 'undefined') savedmodule = module;\n",
       "    else module = {}\n",
       "\n",
       "    var tag = document.createElement('script');\n",
       "    tag.src = uri;\n",
       "    tag.async = true;\n",
       "    tag.onload = () => {\n",
       "        exports = savedexports;\n",
       "        module = savedmodule;\n",
       "        resolve();\n",
       "    };\n",
       "  var firstScriptTag = document.getElementsByTagName('script')[0];\n",
       "  firstScriptTag.parentNode.insertBefore(tag, firstScriptTag);\n",
       "});\n",
       "};\n",
       "\n",
       "if(typeof $3Dmolpromise === 'undefined') {\n",
       "$3Dmolpromise = null;\n",
       "  $3Dmolpromise = loadScriptAsync('https://cdnjs.cloudflare.com/ajax/libs/3Dmol/2.4.2/3Dmol-min.js');\n",
       "}\n",
       "\n",
       "var viewer_17441711568791056 = null;\n",
       "var warn = document.getElementById(\"3dmolwarning_17441711568791056\");\n",
       "if(warn) {\n",
       "    warn.parentNode.removeChild(warn);\n",
       "}\n",
       "$3Dmolpromise.then(function() {\n",
       "viewer_17441711568791056 = $3Dmol.createViewer(document.getElementById(\"3dmolviewer_17441711568791056\"),{backgroundColor:\"white\"});\n",
       "viewer_17441711568791056.zoomTo();\n",
       "\tviewer_17441711568791056.addModel(\"\\n     RDKit          3D\\n\\n 12 11  0  0  0  0  0  0  0  0999 V2000\\n   -1.5927   -0.0498   -0.0502 C   0  0  0  0  0  0  0  0  0  1  0  0\\n   -0.2912   -0.4780    0.6513 C   0  0  0  0  0  0  0  0  0  2  0  0\\n    0.9234    0.2901    0.0990 C   0  0  0  0  0  0  0  0  0  3  0  0\\n    2.1043   -0.1749    0.7839 O   0  0  0  0  0  0  0  0  0  4  0  0\\n    3.2197    0.6218    0.1616 O   0  0  0  0  0  1  0  0  0  5  0  0\\n   -2.4364   -0.6257    0.3368 H   0  0  0  0  0  0  0  0  0  6  0  0\\n   -1.5253   -0.2225   -1.1269 H   0  0  0  0  0  0  0  0  0  7  0  0\\n   -1.7932    1.0104    0.1212 H   0  0  0  0  0  0  0  0  0  8  0  0\\n   -0.3814   -0.2970    1.7253 H   0  0  0  0  0  0  0  0  0  9  0  0\\n   -0.1395   -1.5508    0.5091 H   0  0  0  0  0  0  0  0  0 10  0  0\\n    1.0344    0.1014   -0.9724 H   0  0  0  0  0  0  0  0  0 11  0  0\\n    0.8056    1.3631    0.2747 H   0  0  0  0  0  0  0  0  0 12  0  0\\n  1  2  1  0\\n  2  3  1  0\\n  3  4  1  0\\n  4  5  1  0\\n  1  6  1  0\\n  1  7  1  0\\n  1  8  1  0\\n  2  9  1  0\\n  2 10  1  0\\n  3 11  1  0\\n  3 12  1  0\\nM  RAD  1   5   2\\nM  END\\n\",\"sdf\");\n",
       "\tviewer_17441711568791056.setStyle({\"stick\": {\"radius\": 0.05, \"color\": \"#f2f2f2\"}, \"sphere\": {\"scale\": 0.25}});\n",
       "\tviewer_17441711568791056.addPropertyLabels(\"index\",{},{\"fontSize\": 15, \"fontColor\": \"white\", \"alignment\": \"center\", \"showBackground\": true, \"backgroundOpacity\": 0.2, \"backgroundColor\": \"black\"});\n",
       "\tviewer_17441711568791056.zoomTo();\n",
       "viewer_17441711568791056.render();\n",
       "});\n",
       "</script>"
      ]
     },
     "metadata": {},
     "output_type": "display_data"
    },
    {
     "data": {
      "text/plain": [
       "<py3Dmol.view at 0x7f812d230290>"
      ]
     },
     "execution_count": 8,
     "metadata": {},
     "output_type": "execute_result"
    }
   ],
   "source": [
    "obff.optimize()\n",
    "opt_mol = obff.get_optimized_mol()\n",
    "mol_viewer(opt_mol)"
   ]
  },
  {
   "cell_type": "markdown",
   "metadata": {},
   "source": [
    "## 3. Intermolecular optimization\n",
    "RDKitFF and OpenBabelFF may not converge to the same orientation due to being differently parametrized"
   ]
  },
  {
   "cell_type": "markdown",
   "metadata": {},
   "source": [
    "Before Optimization"
   ]
  },
  {
   "cell_type": "code",
   "execution_count": 9,
   "metadata": {},
   "outputs": [
    {
     "data": {
      "application/3dmoljs_load.v0": "<div id=\"3dmolviewer_17441711568936152\"  style=\"position: relative; width: 400px; height: 400px;\">\n        <p id=\"3dmolwarning_17441711568936152\" style=\"background-color:#ffcccc;color:black\">3Dmol.js failed to load for some reason.  Please check your browser console for error messages.<br></p>\n        </div>\n<script>\n\nvar loadScriptAsync = function(uri){\n  return new Promise((resolve, reject) => {\n    //this is to ignore the existence of requirejs amd\n    var savedexports, savedmodule;\n    if (typeof exports !== 'undefined') savedexports = exports;\n    else exports = {}\n    if (typeof module !== 'undefined') savedmodule = module;\n    else module = {}\n\n    var tag = document.createElement('script');\n    tag.src = uri;\n    tag.async = true;\n    tag.onload = () => {\n        exports = savedexports;\n        module = savedmodule;\n        resolve();\n    };\n  var firstScriptTag = document.getElementsByTagName('script')[0];\n  firstScriptTag.parentNode.insertBefore(tag, firstScriptTag);\n});\n};\n\nif(typeof $3Dmolpromise === 'undefined') {\n$3Dmolpromise = null;\n  $3Dmolpromise = loadScriptAsync('https://cdnjs.cloudflare.com/ajax/libs/3Dmol/2.4.2/3Dmol-min.js');\n}\n\nvar viewer_17441711568936152 = null;\nvar warn = document.getElementById(\"3dmolwarning_17441711568936152\");\nif(warn) {\n    warn.parentNode.removeChild(warn);\n}\n$3Dmolpromise.then(function() {\nviewer_17441711568936152 = $3Dmol.createViewer(document.getElementById(\"3dmolviewer_17441711568936152\"),{backgroundColor:\"white\"});\nviewer_17441711568936152.zoomTo();\n\tviewer_17441711568936152.addModel(\"\\n     RDKit          3D\\n\\n  8  6  0  0  0  0  0  0  0  0999 V2000\\n   -0.0260   -0.0185    0.0058 C   0  0  0  0  0  0  0  0  0  1  0  0\\n    1.1810   -0.0537   -0.1665 O   0  0  0  0  0  0  0  0  0  2  0  0\\n   -0.0406   -0.0036   -0.0001 C   0  0  0  0  0  0  0  0  0  3  0  0\\n    1.1770   -0.0045   -0.0070 O   0  0  0  0  0  0  0  0  0  4  0  0\\n   -0.6461   -0.8790    0.1896 H   0  0  0  0  0  0  0  0  0  5  0  0\\n   -0.5089    0.9512   -0.0289 H   0  0  0  0  0  0  0  0  0  6  0  0\\n   -0.5630    0.9364    0.0938 H   0  0  0  0  0  0  0  0  0  7  0  0\\n   -0.5735   -0.9283   -0.0866 H   0  0  0  0  0  0  0  0  0  8  0  0\\n  1  2  2  0\\n  3  4  2  0\\n  1  5  1  0\\n  1  6  1  0\\n  3  7  1  0\\n  3  8  1  0\\nM  END\\n\",\"sdf\");\n\tviewer_17441711568936152.setStyle({\"stick\": {\"radius\": 0.05, \"color\": \"#f2f2f2\"}, \"sphere\": {\"scale\": 0.25}});\n\tviewer_17441711568936152.addPropertyLabels(\"index\",{},{\"fontSize\": 15, \"fontColor\": \"white\", \"alignment\": \"center\", \"showBackground\": true, \"backgroundOpacity\": 0.2, \"backgroundColor\": \"black\"});\n\tviewer_17441711568936152.zoomTo();\nviewer_17441711568936152.render();\n});\n</script>",
      "text/html": [
       "<div id=\"3dmolviewer_17441711568936152\"  style=\"position: relative; width: 400px; height: 400px;\">\n",
       "        <p id=\"3dmolwarning_17441711568936152\" style=\"background-color:#ffcccc;color:black\">3Dmol.js failed to load for some reason.  Please check your browser console for error messages.<br></p>\n",
       "        </div>\n",
       "<script>\n",
       "\n",
       "var loadScriptAsync = function(uri){\n",
       "  return new Promise((resolve, reject) => {\n",
       "    //this is to ignore the existence of requirejs amd\n",
       "    var savedexports, savedmodule;\n",
       "    if (typeof exports !== 'undefined') savedexports = exports;\n",
       "    else exports = {}\n",
       "    if (typeof module !== 'undefined') savedmodule = module;\n",
       "    else module = {}\n",
       "\n",
       "    var tag = document.createElement('script');\n",
       "    tag.src = uri;\n",
       "    tag.async = true;\n",
       "    tag.onload = () => {\n",
       "        exports = savedexports;\n",
       "        module = savedmodule;\n",
       "        resolve();\n",
       "    };\n",
       "  var firstScriptTag = document.getElementsByTagName('script')[0];\n",
       "  firstScriptTag.parentNode.insertBefore(tag, firstScriptTag);\n",
       "});\n",
       "};\n",
       "\n",
       "if(typeof $3Dmolpromise === 'undefined') {\n",
       "$3Dmolpromise = null;\n",
       "  $3Dmolpromise = loadScriptAsync('https://cdnjs.cloudflare.com/ajax/libs/3Dmol/2.4.2/3Dmol-min.js');\n",
       "}\n",
       "\n",
       "var viewer_17441711568936152 = null;\n",
       "var warn = document.getElementById(\"3dmolwarning_17441711568936152\");\n",
       "if(warn) {\n",
       "    warn.parentNode.removeChild(warn);\n",
       "}\n",
       "$3Dmolpromise.then(function() {\n",
       "viewer_17441711568936152 = $3Dmol.createViewer(document.getElementById(\"3dmolviewer_17441711568936152\"),{backgroundColor:\"white\"});\n",
       "viewer_17441711568936152.zoomTo();\n",
       "\tviewer_17441711568936152.addModel(\"\\n     RDKit          3D\\n\\n  8  6  0  0  0  0  0  0  0  0999 V2000\\n   -0.0260   -0.0185    0.0058 C   0  0  0  0  0  0  0  0  0  1  0  0\\n    1.1810   -0.0537   -0.1665 O   0  0  0  0  0  0  0  0  0  2  0  0\\n   -0.0406   -0.0036   -0.0001 C   0  0  0  0  0  0  0  0  0  3  0  0\\n    1.1770   -0.0045   -0.0070 O   0  0  0  0  0  0  0  0  0  4  0  0\\n   -0.6461   -0.8790    0.1896 H   0  0  0  0  0  0  0  0  0  5  0  0\\n   -0.5089    0.9512   -0.0289 H   0  0  0  0  0  0  0  0  0  6  0  0\\n   -0.5630    0.9364    0.0938 H   0  0  0  0  0  0  0  0  0  7  0  0\\n   -0.5735   -0.9283   -0.0866 H   0  0  0  0  0  0  0  0  0  8  0  0\\n  1  2  2  0\\n  3  4  2  0\\n  1  5  1  0\\n  1  6  1  0\\n  3  7  1  0\\n  3  8  1  0\\nM  END\\n\",\"sdf\");\n",
       "\tviewer_17441711568936152.setStyle({\"stick\": {\"radius\": 0.05, \"color\": \"#f2f2f2\"}, \"sphere\": {\"scale\": 0.25}});\n",
       "\tviewer_17441711568936152.addPropertyLabels(\"index\",{},{\"fontSize\": 15, \"fontColor\": \"white\", \"alignment\": \"center\", \"showBackground\": true, \"backgroundOpacity\": 0.2, \"backgroundColor\": \"black\"});\n",
       "\tviewer_17441711568936152.zoomTo();\n",
       "viewer_17441711568936152.render();\n",
       "});\n",
       "</script>"
      ]
     },
     "metadata": {},
     "output_type": "display_data"
    },
    {
     "data": {
      "text/plain": [
       "<py3Dmol.view at 0x7f812a061e80>"
      ]
     },
     "execution_count": 9,
     "metadata": {},
     "output_type": "execute_result"
    }
   ],
   "source": [
    "mol2 = Mol.FromSmiles('C=O.C=O')\n",
    "mol2.EmbedConformer()\n",
    "mol_viewer(mol2)"
   ]
  },
  {
   "cell_type": "markdown",
   "metadata": {},
   "source": [
    "RDKitFF"
   ]
  },
  {
   "cell_type": "code",
   "execution_count": 10,
   "metadata": {},
   "outputs": [
    {
     "data": {
      "application/3dmoljs_load.v0": "<div id=\"3dmolviewer_17441711569182782\"  style=\"position: relative; width: 400px; height: 400px;\">\n        <p id=\"3dmolwarning_17441711569182782\" style=\"background-color:#ffcccc;color:black\">3Dmol.js failed to load for some reason.  Please check your browser console for error messages.<br></p>\n        </div>\n<script>\n\nvar loadScriptAsync = function(uri){\n  return new Promise((resolve, reject) => {\n    //this is to ignore the existence of requirejs amd\n    var savedexports, savedmodule;\n    if (typeof exports !== 'undefined') savedexports = exports;\n    else exports = {}\n    if (typeof module !== 'undefined') savedmodule = module;\n    else module = {}\n\n    var tag = document.createElement('script');\n    tag.src = uri;\n    tag.async = true;\n    tag.onload = () => {\n        exports = savedexports;\n        module = savedmodule;\n        resolve();\n    };\n  var firstScriptTag = document.getElementsByTagName('script')[0];\n  firstScriptTag.parentNode.insertBefore(tag, firstScriptTag);\n});\n};\n\nif(typeof $3Dmolpromise === 'undefined') {\n$3Dmolpromise = null;\n  $3Dmolpromise = loadScriptAsync('https://cdnjs.cloudflare.com/ajax/libs/3Dmol/2.4.2/3Dmol-min.js');\n}\n\nvar viewer_17441711569182782 = null;\nvar warn = document.getElementById(\"3dmolwarning_17441711569182782\");\nif(warn) {\n    warn.parentNode.removeChild(warn);\n}\n$3Dmolpromise.then(function() {\nviewer_17441711569182782 = $3Dmol.createViewer(document.getElementById(\"3dmolviewer_17441711569182782\"),{backgroundColor:\"white\"});\nviewer_17441711569182782.zoomTo();\n\tviewer_17441711569182782.addModel(\"\\n     RDKit          3D\\n\\n  8  6  0  0  0  0  0  0  0  0999 V2000\\n    1.3064   -1.0291   -0.0076 C   0  0  0  0  0  0  0  0  0  1  0  0\\n    0.4455   -1.4187   -0.7898 O   0  0  0  0  0  0  0  0  0  2  0  0\\n   -1.3062    1.0293    0.0073 C   0  0  0  0  0  0  0  0  0  3  0  0\\n   -0.4225    1.4454    0.7494 O   0  0  0  0  0  0  0  0  0  4  0  0\\n    1.5057   -1.5385    0.9486 H   0  0  0  0  0  0  0  0  0  5  0  0\\n    1.9275   -0.1419   -0.2112 H   0  0  0  0  0  0  0  0  0  6  0  0\\n   -2.2445    0.6003    0.3936 H   0  0  0  0  0  0  0  0  0  7  0  0\\n   -1.2119    1.0532   -1.0903 H   0  0  0  0  0  0  0  0  0  8  0  0\\n  1  2  2  0\\n  3  4  2  0\\n  1  5  1  0\\n  1  6  1  0\\n  3  7  1  0\\n  3  8  1  0\\nM  END\\n\",\"sdf\");\n\tviewer_17441711569182782.setStyle({\"stick\": {\"radius\": 0.05, \"color\": \"#f2f2f2\"}, \"sphere\": {\"scale\": 0.25}});\n\tviewer_17441711569182782.addPropertyLabels(\"index\",{},{\"fontSize\": 15, \"fontColor\": \"white\", \"alignment\": \"center\", \"showBackground\": true, \"backgroundOpacity\": 0.2, \"backgroundColor\": \"black\"});\n\tviewer_17441711569182782.zoomTo();\nviewer_17441711569182782.render();\n});\n</script>",
      "text/html": [
       "<div id=\"3dmolviewer_17441711569182782\"  style=\"position: relative; width: 400px; height: 400px;\">\n",
       "        <p id=\"3dmolwarning_17441711569182782\" style=\"background-color:#ffcccc;color:black\">3Dmol.js failed to load for some reason.  Please check your browser console for error messages.<br></p>\n",
       "        </div>\n",
       "<script>\n",
       "\n",
       "var loadScriptAsync = function(uri){\n",
       "  return new Promise((resolve, reject) => {\n",
       "    //this is to ignore the existence of requirejs amd\n",
       "    var savedexports, savedmodule;\n",
       "    if (typeof exports !== 'undefined') savedexports = exports;\n",
       "    else exports = {}\n",
       "    if (typeof module !== 'undefined') savedmodule = module;\n",
       "    else module = {}\n",
       "\n",
       "    var tag = document.createElement('script');\n",
       "    tag.src = uri;\n",
       "    tag.async = true;\n",
       "    tag.onload = () => {\n",
       "        exports = savedexports;\n",
       "        module = savedmodule;\n",
       "        resolve();\n",
       "    };\n",
       "  var firstScriptTag = document.getElementsByTagName('script')[0];\n",
       "  firstScriptTag.parentNode.insertBefore(tag, firstScriptTag);\n",
       "});\n",
       "};\n",
       "\n",
       "if(typeof $3Dmolpromise === 'undefined') {\n",
       "$3Dmolpromise = null;\n",
       "  $3Dmolpromise = loadScriptAsync('https://cdnjs.cloudflare.com/ajax/libs/3Dmol/2.4.2/3Dmol-min.js');\n",
       "}\n",
       "\n",
       "var viewer_17441711569182782 = null;\n",
       "var warn = document.getElementById(\"3dmolwarning_17441711569182782\");\n",
       "if(warn) {\n",
       "    warn.parentNode.removeChild(warn);\n",
       "}\n",
       "$3Dmolpromise.then(function() {\n",
       "viewer_17441711569182782 = $3Dmol.createViewer(document.getElementById(\"3dmolviewer_17441711569182782\"),{backgroundColor:\"white\"});\n",
       "viewer_17441711569182782.zoomTo();\n",
       "\tviewer_17441711569182782.addModel(\"\\n     RDKit          3D\\n\\n  8  6  0  0  0  0  0  0  0  0999 V2000\\n    1.3064   -1.0291   -0.0076 C   0  0  0  0  0  0  0  0  0  1  0  0\\n    0.4455   -1.4187   -0.7898 O   0  0  0  0  0  0  0  0  0  2  0  0\\n   -1.3062    1.0293    0.0073 C   0  0  0  0  0  0  0  0  0  3  0  0\\n   -0.4225    1.4454    0.7494 O   0  0  0  0  0  0  0  0  0  4  0  0\\n    1.5057   -1.5385    0.9486 H   0  0  0  0  0  0  0  0  0  5  0  0\\n    1.9275   -0.1419   -0.2112 H   0  0  0  0  0  0  0  0  0  6  0  0\\n   -2.2445    0.6003    0.3936 H   0  0  0  0  0  0  0  0  0  7  0  0\\n   -1.2119    1.0532   -1.0903 H   0  0  0  0  0  0  0  0  0  8  0  0\\n  1  2  2  0\\n  3  4  2  0\\n  1  5  1  0\\n  1  6  1  0\\n  3  7  1  0\\n  3  8  1  0\\nM  END\\n\",\"sdf\");\n",
       "\tviewer_17441711569182782.setStyle({\"stick\": {\"radius\": 0.05, \"color\": \"#f2f2f2\"}, \"sphere\": {\"scale\": 0.25}});\n",
       "\tviewer_17441711569182782.addPropertyLabels(\"index\",{},{\"fontSize\": 15, \"fontColor\": \"white\", \"alignment\": \"center\", \"showBackground\": true, \"backgroundOpacity\": 0.2, \"backgroundColor\": \"black\"});\n",
       "\tviewer_17441711569182782.zoomTo();\n",
       "viewer_17441711569182782.render();\n",
       "});\n",
       "</script>"
      ]
     },
     "metadata": {},
     "output_type": "display_data"
    },
    {
     "data": {
      "text/plain": [
       "<py3Dmol.view at 0x7f8246d11e50>"
      ]
     },
     "execution_count": 10,
     "metadata": {},
     "output_type": "execute_result"
    }
   ],
   "source": [
    "ff = RDKitFF()\n",
    "ff.setup(mol2.Copy(), ignore_interfrag_interactions=False)\n",
    "ff.optimize()\n",
    "mol_viewer(ff.get_optimized_mol())"
   ]
  },
  {
   "cell_type": "markdown",
   "metadata": {},
   "source": [
    "OpenBabelFF"
   ]
  },
  {
   "cell_type": "code",
   "execution_count": 11,
   "metadata": {},
   "outputs": [
    {
     "data": {
      "application/3dmoljs_load.v0": "<div id=\"3dmolviewer_17441711569568093\"  style=\"position: relative; width: 400px; height: 400px;\">\n        <p id=\"3dmolwarning_17441711569568093\" style=\"background-color:#ffcccc;color:black\">3Dmol.js failed to load for some reason.  Please check your browser console for error messages.<br></p>\n        </div>\n<script>\n\nvar loadScriptAsync = function(uri){\n  return new Promise((resolve, reject) => {\n    //this is to ignore the existence of requirejs amd\n    var savedexports, savedmodule;\n    if (typeof exports !== 'undefined') savedexports = exports;\n    else exports = {}\n    if (typeof module !== 'undefined') savedmodule = module;\n    else module = {}\n\n    var tag = document.createElement('script');\n    tag.src = uri;\n    tag.async = true;\n    tag.onload = () => {\n        exports = savedexports;\n        module = savedmodule;\n        resolve();\n    };\n  var firstScriptTag = document.getElementsByTagName('script')[0];\n  firstScriptTag.parentNode.insertBefore(tag, firstScriptTag);\n});\n};\n\nif(typeof $3Dmolpromise === 'undefined') {\n$3Dmolpromise = null;\n  $3Dmolpromise = loadScriptAsync('https://cdnjs.cloudflare.com/ajax/libs/3Dmol/2.4.2/3Dmol-min.js');\n}\n\nvar viewer_17441711569568093 = null;\nvar warn = document.getElementById(\"3dmolwarning_17441711569568093\");\nif(warn) {\n    warn.parentNode.removeChild(warn);\n}\n$3Dmolpromise.then(function() {\nviewer_17441711569568093 = $3Dmol.createViewer(document.getElementById(\"3dmolviewer_17441711569568093\"),{backgroundColor:\"white\"});\nviewer_17441711569568093.zoomTo();\n\tviewer_17441711569568093.addModel(\"\\n     RDKit          3D\\n\\n  8  6  0  0  0  0  0  0  0  0999 V2000\\n    1.5111   -0.9817   -0.3696 C   0  0  0  0  0  0  0  0  0  1  0  0\\n    1.4366   -1.7316   -1.3362 O   0  0  0  0  0  0  0  0  0  2  0  0\\n   -1.4933    1.0062    0.5532 C   0  0  0  0  0  0  0  0  0  3  0  0\\n   -0.3517    0.8989    0.9892 O   0  0  0  0  0  0  0  0  0  4  0  0\\n    1.2508   -1.3091    0.6497 H   0  0  0  0  0  0  0  0  0  5  0  0\\n    1.8382    0.0664   -0.4626 H   0  0  0  0  0  0  0  0  0  6  0  0\\n   -2.2379    1.6752    1.0138 H   0  0  0  0  0  0  0  0  0  7  0  0\\n   -1.8411    0.4396   -0.3247 H   0  0  0  0  0  0  0  0  0  8  0  0\\n  1  2  2  0\\n  3  4  2  0\\n  1  5  1  0\\n  1  6  1  0\\n  3  7  1  0\\n  3  8  1  0\\nM  END\\n\",\"sdf\");\n\tviewer_17441711569568093.setStyle({\"stick\": {\"radius\": 0.05, \"color\": \"#f2f2f2\"}, \"sphere\": {\"scale\": 0.25}});\n\tviewer_17441711569568093.addPropertyLabels(\"index\",{},{\"fontSize\": 15, \"fontColor\": \"white\", \"alignment\": \"center\", \"showBackground\": true, \"backgroundOpacity\": 0.2, \"backgroundColor\": \"black\"});\n\tviewer_17441711569568093.zoomTo();\nviewer_17441711569568093.render();\n});\n</script>",
      "text/html": [
       "<div id=\"3dmolviewer_17441711569568093\"  style=\"position: relative; width: 400px; height: 400px;\">\n",
       "        <p id=\"3dmolwarning_17441711569568093\" style=\"background-color:#ffcccc;color:black\">3Dmol.js failed to load for some reason.  Please check your browser console for error messages.<br></p>\n",
       "        </div>\n",
       "<script>\n",
       "\n",
       "var loadScriptAsync = function(uri){\n",
       "  return new Promise((resolve, reject) => {\n",
       "    //this is to ignore the existence of requirejs amd\n",
       "    var savedexports, savedmodule;\n",
       "    if (typeof exports !== 'undefined') savedexports = exports;\n",
       "    else exports = {}\n",
       "    if (typeof module !== 'undefined') savedmodule = module;\n",
       "    else module = {}\n",
       "\n",
       "    var tag = document.createElement('script');\n",
       "    tag.src = uri;\n",
       "    tag.async = true;\n",
       "    tag.onload = () => {\n",
       "        exports = savedexports;\n",
       "        module = savedmodule;\n",
       "        resolve();\n",
       "    };\n",
       "  var firstScriptTag = document.getElementsByTagName('script')[0];\n",
       "  firstScriptTag.parentNode.insertBefore(tag, firstScriptTag);\n",
       "});\n",
       "};\n",
       "\n",
       "if(typeof $3Dmolpromise === 'undefined') {\n",
       "$3Dmolpromise = null;\n",
       "  $3Dmolpromise = loadScriptAsync('https://cdnjs.cloudflare.com/ajax/libs/3Dmol/2.4.2/3Dmol-min.js');\n",
       "}\n",
       "\n",
       "var viewer_17441711569568093 = null;\n",
       "var warn = document.getElementById(\"3dmolwarning_17441711569568093\");\n",
       "if(warn) {\n",
       "    warn.parentNode.removeChild(warn);\n",
       "}\n",
       "$3Dmolpromise.then(function() {\n",
       "viewer_17441711569568093 = $3Dmol.createViewer(document.getElementById(\"3dmolviewer_17441711569568093\"),{backgroundColor:\"white\"});\n",
       "viewer_17441711569568093.zoomTo();\n",
       "\tviewer_17441711569568093.addModel(\"\\n     RDKit          3D\\n\\n  8  6  0  0  0  0  0  0  0  0999 V2000\\n    1.5111   -0.9817   -0.3696 C   0  0  0  0  0  0  0  0  0  1  0  0\\n    1.4366   -1.7316   -1.3362 O   0  0  0  0  0  0  0  0  0  2  0  0\\n   -1.4933    1.0062    0.5532 C   0  0  0  0  0  0  0  0  0  3  0  0\\n   -0.3517    0.8989    0.9892 O   0  0  0  0  0  0  0  0  0  4  0  0\\n    1.2508   -1.3091    0.6497 H   0  0  0  0  0  0  0  0  0  5  0  0\\n    1.8382    0.0664   -0.4626 H   0  0  0  0  0  0  0  0  0  6  0  0\\n   -2.2379    1.6752    1.0138 H   0  0  0  0  0  0  0  0  0  7  0  0\\n   -1.8411    0.4396   -0.3247 H   0  0  0  0  0  0  0  0  0  8  0  0\\n  1  2  2  0\\n  3  4  2  0\\n  1  5  1  0\\n  1  6  1  0\\n  3  7  1  0\\n  3  8  1  0\\nM  END\\n\",\"sdf\");\n",
       "\tviewer_17441711569568093.setStyle({\"stick\": {\"radius\": 0.05, \"color\": \"#f2f2f2\"}, \"sphere\": {\"scale\": 0.25}});\n",
       "\tviewer_17441711569568093.addPropertyLabels(\"index\",{},{\"fontSize\": 15, \"fontColor\": \"white\", \"alignment\": \"center\", \"showBackground\": true, \"backgroundOpacity\": 0.2, \"backgroundColor\": \"black\"});\n",
       "\tviewer_17441711569568093.zoomTo();\n",
       "viewer_17441711569568093.render();\n",
       "});\n",
       "</script>"
      ]
     },
     "metadata": {},
     "output_type": "display_data"
    },
    {
     "data": {
      "text/plain": [
       "<py3Dmol.view at 0x7f8129e947d0>"
      ]
     },
     "execution_count": 11,
     "metadata": {},
     "output_type": "execute_result"
    }
   ],
   "source": [
    "ff = OpenBabelFF()\n",
    "ff.setup(mol2.Copy())\n",
    "ff.optimize()\n",
    "mol_viewer(ff.get_optimized_mol())"
   ]
  },
  {
   "cell_type": "markdown",
   "metadata": {},
   "source": [
    "## 4. Constrained optimization"
   ]
  },
  {
   "cell_type": "markdown",
   "metadata": {},
   "source": [
    "Set atom (1, 2) and (0, 3) = 2 Angstrom"
   ]
  },
  {
   "cell_type": "code",
   "execution_count": 12,
   "metadata": {},
   "outputs": [
    {
     "name": "stdout",
     "output_type": "stream",
     "text": [
      "Before optimization\n",
      "d(1,2) = 3.091533633597571\n",
      "d(0,3) = 5.54344245067431\n",
      "\n"
     ]
    },
    {
     "data": {
      "application/3dmoljs_load.v0": "<div id=\"3dmolviewer_17441711569738755\"  style=\"position: relative; width: 400px; height: 400px;\">\n        <p id=\"3dmolwarning_17441711569738755\" style=\"background-color:#ffcccc;color:black\">3Dmol.js failed to load for some reason.  Please check your browser console for error messages.<br></p>\n        </div>\n<script>\n\nvar loadScriptAsync = function(uri){\n  return new Promise((resolve, reject) => {\n    //this is to ignore the existence of requirejs amd\n    var savedexports, savedmodule;\n    if (typeof exports !== 'undefined') savedexports = exports;\n    else exports = {}\n    if (typeof module !== 'undefined') savedmodule = module;\n    else module = {}\n\n    var tag = document.createElement('script');\n    tag.src = uri;\n    tag.async = true;\n    tag.onload = () => {\n        exports = savedexports;\n        module = savedmodule;\n        resolve();\n    };\n  var firstScriptTag = document.getElementsByTagName('script')[0];\n  firstScriptTag.parentNode.insertBefore(tag, firstScriptTag);\n});\n};\n\nif(typeof $3Dmolpromise === 'undefined') {\n$3Dmolpromise = null;\n  $3Dmolpromise = loadScriptAsync('https://cdnjs.cloudflare.com/ajax/libs/3Dmol/2.4.2/3Dmol-min.js');\n}\n\nvar viewer_17441711569738755 = null;\nvar warn = document.getElementById(\"3dmolwarning_17441711569738755\");\nif(warn) {\n    warn.parentNode.removeChild(warn);\n}\n$3Dmolpromise.then(function() {\nviewer_17441711569738755 = $3Dmol.createViewer(document.getElementById(\"3dmolviewer_17441711569738755\"),{backgroundColor:\"white\"});\nviewer_17441711569738755.zoomTo();\n\tviewer_17441711569738755.addModel(\"\\n     RDKit          3D\\n\\n  8  6  0  0  0  0  0  0  0  0999 V2000\\n    2.1642    0.1807    0.0054 C   0  0  0  0  0  0  0  0  0  0  0  0\\n    0.9426    0.0787    0.0023 O   0  0  0  0  0  0  0  0  0  0  0  0\\n   -2.1382   -0.1785   -0.0053 C   0  0  0  0  0  0  0  0  0  0  0  0\\n   -3.3600   -0.2805   -0.0084 O   0  0  0  0  0  0  0  0  0  0  0  0\\n    2.8265   -0.6920    0.1238 H   0  0  0  0  0  0  0  0  0  0  0  0\\n    2.6732    1.1511   -0.1101 H   0  0  0  0  0  0  0  0  0  0  0  0\\n   -1.5187   -0.5296   -0.8456 H   0  0  0  0  0  0  0  0  0  0  0  0\\n   -1.5896    0.2701    0.8379 H   0  0  0  0  0  0  0  0  0  0  0  0\\n  7  3  1  0\\n  6  1  1  0\\n  4  3  2  0\\n  3  8  1  0\\n  2  1  2  0\\n  1  5  1  0\\nM  END\\n\",\"sdf\");\n\tviewer_17441711569738755.setStyle({\"stick\": {\"radius\": 0.05, \"color\": \"#f2f2f2\"}, \"sphere\": {\"scale\": 0.25}});\n\tviewer_17441711569738755.addPropertyLabels(\"index\",{},{\"fontSize\": 15, \"fontColor\": \"white\", \"alignment\": \"center\", \"showBackground\": true, \"backgroundOpacity\": 0.2, \"backgroundColor\": \"black\"});\n\tviewer_17441711569738755.zoomTo();\nviewer_17441711569738755.render();\n});\n</script>",
      "text/html": [
       "<div id=\"3dmolviewer_17441711569738755\"  style=\"position: relative; width: 400px; height: 400px;\">\n",
       "        <p id=\"3dmolwarning_17441711569738755\" style=\"background-color:#ffcccc;color:black\">3Dmol.js failed to load for some reason.  Please check your browser console for error messages.<br></p>\n",
       "        </div>\n",
       "<script>\n",
       "\n",
       "var loadScriptAsync = function(uri){\n",
       "  return new Promise((resolve, reject) => {\n",
       "    //this is to ignore the existence of requirejs amd\n",
       "    var savedexports, savedmodule;\n",
       "    if (typeof exports !== 'undefined') savedexports = exports;\n",
       "    else exports = {}\n",
       "    if (typeof module !== 'undefined') savedmodule = module;\n",
       "    else module = {}\n",
       "\n",
       "    var tag = document.createElement('script');\n",
       "    tag.src = uri;\n",
       "    tag.async = true;\n",
       "    tag.onload = () => {\n",
       "        exports = savedexports;\n",
       "        module = savedmodule;\n",
       "        resolve();\n",
       "    };\n",
       "  var firstScriptTag = document.getElementsByTagName('script')[0];\n",
       "  firstScriptTag.parentNode.insertBefore(tag, firstScriptTag);\n",
       "});\n",
       "};\n",
       "\n",
       "if(typeof $3Dmolpromise === 'undefined') {\n",
       "$3Dmolpromise = null;\n",
       "  $3Dmolpromise = loadScriptAsync('https://cdnjs.cloudflare.com/ajax/libs/3Dmol/2.4.2/3Dmol-min.js');\n",
       "}\n",
       "\n",
       "var viewer_17441711569738755 = null;\n",
       "var warn = document.getElementById(\"3dmolwarning_17441711569738755\");\n",
       "if(warn) {\n",
       "    warn.parentNode.removeChild(warn);\n",
       "}\n",
       "$3Dmolpromise.then(function() {\n",
       "viewer_17441711569738755 = $3Dmol.createViewer(document.getElementById(\"3dmolviewer_17441711569738755\"),{backgroundColor:\"white\"});\n",
       "viewer_17441711569738755.zoomTo();\n",
       "\tviewer_17441711569738755.addModel(\"\\n     RDKit          3D\\n\\n  8  6  0  0  0  0  0  0  0  0999 V2000\\n    2.1642    0.1807    0.0054 C   0  0  0  0  0  0  0  0  0  0  0  0\\n    0.9426    0.0787    0.0023 O   0  0  0  0  0  0  0  0  0  0  0  0\\n   -2.1382   -0.1785   -0.0053 C   0  0  0  0  0  0  0  0  0  0  0  0\\n   -3.3600   -0.2805   -0.0084 O   0  0  0  0  0  0  0  0  0  0  0  0\\n    2.8265   -0.6920    0.1238 H   0  0  0  0  0  0  0  0  0  0  0  0\\n    2.6732    1.1511   -0.1101 H   0  0  0  0  0  0  0  0  0  0  0  0\\n   -1.5187   -0.5296   -0.8456 H   0  0  0  0  0  0  0  0  0  0  0  0\\n   -1.5896    0.2701    0.8379 H   0  0  0  0  0  0  0  0  0  0  0  0\\n  7  3  1  0\\n  6  1  1  0\\n  4  3  2  0\\n  3  8  1  0\\n  2  1  2  0\\n  1  5  1  0\\nM  END\\n\",\"sdf\");\n",
       "\tviewer_17441711569738755.setStyle({\"stick\": {\"radius\": 0.05, \"color\": \"#f2f2f2\"}, \"sphere\": {\"scale\": 0.25}});\n",
       "\tviewer_17441711569738755.addPropertyLabels(\"index\",{},{\"fontSize\": 15, \"fontColor\": \"white\", \"alignment\": \"center\", \"showBackground\": true, \"backgroundOpacity\": 0.2, \"backgroundColor\": \"black\"});\n",
       "\tviewer_17441711569738755.zoomTo();\n",
       "viewer_17441711569738755.render();\n",
       "});\n",
       "</script>"
      ]
     },
     "metadata": {},
     "output_type": "display_data"
    },
    {
     "data": {
      "text/plain": [
       "<py3Dmol.view at 0x7f8129f0b080>"
      ]
     },
     "execution_count": 12,
     "metadata": {},
     "output_type": "execute_result"
    }
   ],
   "source": [
    "xyz = \"\"\"C      2.164196    0.180658    0.005381\n",
    "O      0.942631    0.078687    0.002344\n",
    "C     -2.138178   -0.178485   -0.005316\n",
    "O     -3.360016   -0.280479   -0.008354\n",
    "H      2.826486   -0.691971    0.123773\n",
    "H      2.673219    1.151062   -0.110098\n",
    "H     -1.518697   -0.529599   -0.845624\n",
    "H     -1.589641    0.270129    0.837895\"\"\"\n",
    "\n",
    "mol3 = Mol.FromXYZ(xyz, header=False)\n",
    "\n",
    "print('Before optimization')\n",
    "print(\n",
    "      f'd(1,2) = {mol3.GetEditableConformer().GetBondLength([1,2])}\\n'\n",
    "      f'd(0,3) = {mol3.GetEditableConformer().GetBondLength([0,3])}\\n'\n",
    ")\n",
    "mol_viewer(mol3)"
   ]
  },
  {
   "cell_type": "markdown",
   "metadata": {},
   "source": [
    "Constrained optimization with RDKitFF"
   ]
  },
  {
   "cell_type": "code",
   "execution_count": 13,
   "metadata": {},
   "outputs": [
    {
     "name": "stdout",
     "output_type": "stream",
     "text": [
      "After Optimization:\n",
      "d(1,2) = 2.0104160763727856\n",
      "d(0,3) = 2.0104162324093875\n",
      "\n"
     ]
    },
    {
     "data": {
      "application/3dmoljs_load.v0": "<div id=\"3dmolviewer_1744171156992283\"  style=\"position: relative; width: 400px; height: 400px;\">\n        <p id=\"3dmolwarning_1744171156992283\" style=\"background-color:#ffcccc;color:black\">3Dmol.js failed to load for some reason.  Please check your browser console for error messages.<br></p>\n        </div>\n<script>\n\nvar loadScriptAsync = function(uri){\n  return new Promise((resolve, reject) => {\n    //this is to ignore the existence of requirejs amd\n    var savedexports, savedmodule;\n    if (typeof exports !== 'undefined') savedexports = exports;\n    else exports = {}\n    if (typeof module !== 'undefined') savedmodule = module;\n    else module = {}\n\n    var tag = document.createElement('script');\n    tag.src = uri;\n    tag.async = true;\n    tag.onload = () => {\n        exports = savedexports;\n        module = savedmodule;\n        resolve();\n    };\n  var firstScriptTag = document.getElementsByTagName('script')[0];\n  firstScriptTag.parentNode.insertBefore(tag, firstScriptTag);\n});\n};\n\nif(typeof $3Dmolpromise === 'undefined') {\n$3Dmolpromise = null;\n  $3Dmolpromise = loadScriptAsync('https://cdnjs.cloudflare.com/ajax/libs/3Dmol/2.4.2/3Dmol-min.js');\n}\n\nvar viewer_1744171156992283 = null;\nvar warn = document.getElementById(\"3dmolwarning_1744171156992283\");\nif(warn) {\n    warn.parentNode.removeChild(warn);\n}\n$3Dmolpromise.then(function() {\nviewer_1744171156992283 = $3Dmol.createViewer(document.getElementById(\"3dmolviewer_1744171156992283\"),{backgroundColor:\"white\"});\nviewer_1744171156992283.zoomTo();\n\tviewer_1744171156992283.addModel(\"\\n     RDKit          3D\\n\\n  8  6  0  0  0  0  0  0  0  0999 V2000\\n    1.2067    0.2473    0.0577 C   0  0  0  0  0  0  0  0  0  0  0  0\\n    0.4954   -0.1154    1.0041 O   0  0  0  0  0  0  0  0  0  0  0  0\\n   -1.2067   -0.2473   -0.0577 C   0  0  0  0  0  0  0  0  0  0  0  0\\n   -0.4954    0.1156   -1.0041 O   0  0  0  0  0  0  0  0  0  0  0  0\\n    1.7693   -0.4731   -0.5635 H   0  0  0  0  0  0  0  0  0  0  0  0\\n    1.3844    1.3145   -0.1677 H   0  0  0  0  0  0  0  0  0  0  0  0\\n   -1.3841   -1.3145    0.1678 H   0  0  0  0  0  0  0  0  0  0  0  0\\n   -1.7696    0.4730    0.5635 H   0  0  0  0  0  0  0  0  0  0  0  0\\n  7  3  1  0\\n  6  1  1  0\\n  4  3  2  0\\n  3  8  1  0\\n  2  1  2  0\\n  1  5  1  0\\nM  END\\n\",\"sdf\");\n\tviewer_1744171156992283.setStyle({\"stick\": {\"radius\": 0.05, \"color\": \"#f2f2f2\"}, \"sphere\": {\"scale\": 0.25}});\n\tviewer_1744171156992283.addPropertyLabels(\"index\",{},{\"fontSize\": 15, \"fontColor\": \"white\", \"alignment\": \"center\", \"showBackground\": true, \"backgroundOpacity\": 0.2, \"backgroundColor\": \"black\"});\n\tviewer_1744171156992283.zoomTo();\nviewer_1744171156992283.render();\n});\n</script>",
      "text/html": [
       "<div id=\"3dmolviewer_1744171156992283\"  style=\"position: relative; width: 400px; height: 400px;\">\n",
       "        <p id=\"3dmolwarning_1744171156992283\" style=\"background-color:#ffcccc;color:black\">3Dmol.js failed to load for some reason.  Please check your browser console for error messages.<br></p>\n",
       "        </div>\n",
       "<script>\n",
       "\n",
       "var loadScriptAsync = function(uri){\n",
       "  return new Promise((resolve, reject) => {\n",
       "    //this is to ignore the existence of requirejs amd\n",
       "    var savedexports, savedmodule;\n",
       "    if (typeof exports !== 'undefined') savedexports = exports;\n",
       "    else exports = {}\n",
       "    if (typeof module !== 'undefined') savedmodule = module;\n",
       "    else module = {}\n",
       "\n",
       "    var tag = document.createElement('script');\n",
       "    tag.src = uri;\n",
       "    tag.async = true;\n",
       "    tag.onload = () => {\n",
       "        exports = savedexports;\n",
       "        module = savedmodule;\n",
       "        resolve();\n",
       "    };\n",
       "  var firstScriptTag = document.getElementsByTagName('script')[0];\n",
       "  firstScriptTag.parentNode.insertBefore(tag, firstScriptTag);\n",
       "});\n",
       "};\n",
       "\n",
       "if(typeof $3Dmolpromise === 'undefined') {\n",
       "$3Dmolpromise = null;\n",
       "  $3Dmolpromise = loadScriptAsync('https://cdnjs.cloudflare.com/ajax/libs/3Dmol/2.4.2/3Dmol-min.js');\n",
       "}\n",
       "\n",
       "var viewer_1744171156992283 = null;\n",
       "var warn = document.getElementById(\"3dmolwarning_1744171156992283\");\n",
       "if(warn) {\n",
       "    warn.parentNode.removeChild(warn);\n",
       "}\n",
       "$3Dmolpromise.then(function() {\n",
       "viewer_1744171156992283 = $3Dmol.createViewer(document.getElementById(\"3dmolviewer_1744171156992283\"),{backgroundColor:\"white\"});\n",
       "viewer_1744171156992283.zoomTo();\n",
       "\tviewer_1744171156992283.addModel(\"\\n     RDKit          3D\\n\\n  8  6  0  0  0  0  0  0  0  0999 V2000\\n    1.2067    0.2473    0.0577 C   0  0  0  0  0  0  0  0  0  0  0  0\\n    0.4954   -0.1154    1.0041 O   0  0  0  0  0  0  0  0  0  0  0  0\\n   -1.2067   -0.2473   -0.0577 C   0  0  0  0  0  0  0  0  0  0  0  0\\n   -0.4954    0.1156   -1.0041 O   0  0  0  0  0  0  0  0  0  0  0  0\\n    1.7693   -0.4731   -0.5635 H   0  0  0  0  0  0  0  0  0  0  0  0\\n    1.3844    1.3145   -0.1677 H   0  0  0  0  0  0  0  0  0  0  0  0\\n   -1.3841   -1.3145    0.1678 H   0  0  0  0  0  0  0  0  0  0  0  0\\n   -1.7696    0.4730    0.5635 H   0  0  0  0  0  0  0  0  0  0  0  0\\n  7  3  1  0\\n  6  1  1  0\\n  4  3  2  0\\n  3  8  1  0\\n  2  1  2  0\\n  1  5  1  0\\nM  END\\n\",\"sdf\");\n",
       "\tviewer_1744171156992283.setStyle({\"stick\": {\"radius\": 0.05, \"color\": \"#f2f2f2\"}, \"sphere\": {\"scale\": 0.25}});\n",
       "\tviewer_1744171156992283.addPropertyLabels(\"index\",{},{\"fontSize\": 15, \"fontColor\": \"white\", \"alignment\": \"center\", \"showBackground\": true, \"backgroundOpacity\": 0.2, \"backgroundColor\": \"black\"});\n",
       "\tviewer_1744171156992283.zoomTo();\n",
       "viewer_1744171156992283.render();\n",
       "});\n",
       "</script>"
      ]
     },
     "metadata": {},
     "output_type": "display_data"
    },
    {
     "data": {
      "text/plain": [
       "<py3Dmol.view at 0x7f8129c92420>"
      ]
     },
     "execution_count": 13,
     "metadata": {},
     "output_type": "execute_result"
    }
   ],
   "source": [
    "ff = RDKitFF()\n",
    "ff.setup(mol3.Copy())\n",
    "ff.add_distance_constraint([1,2], 2.0, force_constant=1e4)\n",
    "ff.add_distance_constraint([0,3], 2.0, force_constant=1e4)\n",
    "ff.optimize()\n",
    "opt_mol = ff.get_optimized_mol()\n",
    "print(\"After Optimization:\")\n",
    "print(\n",
    "    f'd(1,2) = {opt_mol.GetEditableConformer().GetBondLength([1,2])}\\n'\n",
    "    f'd(0,3) = {opt_mol.GetEditableConformer().GetBondLength([0,3])}\\n'\n",
    ")\n",
    "mol_viewer(opt_mol)"
   ]
  },
  {
   "cell_type": "markdown",
   "metadata": {},
   "source": [
    "Constrained optimization with OpenBabelFF"
   ]
  },
  {
   "cell_type": "code",
   "execution_count": 14,
   "metadata": {},
   "outputs": [
    {
     "name": "stdout",
     "output_type": "stream",
     "text": [
      "d(1,2) = 2.0010741552237183\n",
      "d(0,3) = 2.0011828625772585\n",
      "\n"
     ]
    },
    {
     "data": {
      "application/3dmoljs_load.v0": "<div id=\"3dmolviewer_1744171157051623\"  style=\"position: relative; width: 400px; height: 400px;\">\n        <p id=\"3dmolwarning_1744171157051623\" style=\"background-color:#ffcccc;color:black\">3Dmol.js failed to load for some reason.  Please check your browser console for error messages.<br></p>\n        </div>\n<script>\n\nvar loadScriptAsync = function(uri){\n  return new Promise((resolve, reject) => {\n    //this is to ignore the existence of requirejs amd\n    var savedexports, savedmodule;\n    if (typeof exports !== 'undefined') savedexports = exports;\n    else exports = {}\n    if (typeof module !== 'undefined') savedmodule = module;\n    else module = {}\n\n    var tag = document.createElement('script');\n    tag.src = uri;\n    tag.async = true;\n    tag.onload = () => {\n        exports = savedexports;\n        module = savedmodule;\n        resolve();\n    };\n  var firstScriptTag = document.getElementsByTagName('script')[0];\n  firstScriptTag.parentNode.insertBefore(tag, firstScriptTag);\n});\n};\n\nif(typeof $3Dmolpromise === 'undefined') {\n$3Dmolpromise = null;\n  $3Dmolpromise = loadScriptAsync('https://cdnjs.cloudflare.com/ajax/libs/3Dmol/2.4.2/3Dmol-min.js');\n}\n\nvar viewer_1744171157051623 = null;\nvar warn = document.getElementById(\"3dmolwarning_1744171157051623\");\nif(warn) {\n    warn.parentNode.removeChild(warn);\n}\n$3Dmolpromise.then(function() {\nviewer_1744171157051623 = $3Dmol.createViewer(document.getElementById(\"3dmolviewer_1744171157051623\"),{backgroundColor:\"white\"});\nviewer_1744171157051623.zoomTo();\n\tviewer_1744171157051623.addModel(\"\\n     RDKit          3D\\n\\n  8  6  0  0  0  0  0  0  0  0999 V2000\\n    1.0342    0.1276   -0.1168 C   0  0  0  0  0  0  0  0  0  0  0  0\\n    0.1978    0.9671   -0.4773 O   0  0  0  0  0  0  0  0  0  0  0  0\\n   -1.4023   -0.0638    0.1400 C   0  0  0  0  0  0  0  0  0  0  0  0\\n   -0.5662   -0.9049    0.4975 O   0  0  0  0  0  0  0  0  0  0  0  0\\n    1.3938   -0.6718   -0.7904 H   0  0  0  0  0  0  0  0  0  0  0  0\\n    1.5404    0.1904    0.8634 H   0  0  0  0  0  0  0  0  0  0  0  0\\n   -1.8801   -0.0960   -0.8564 H   0  0  0  0  0  0  0  0  0  0  0  0\\n   -1.7899    0.7061    0.8314 H   0  0  0  0  0  0  0  0  0  0  0  0\\n  7  3  1  0\\n  6  1  1  0\\n  4  3  2  0\\n  3  8  1  0\\n  2  1  2  0\\n  1  5  1  0\\nM  END\\n\",\"sdf\");\n\tviewer_1744171157051623.setStyle({\"stick\": {\"radius\": 0.05, \"color\": \"#f2f2f2\"}, \"sphere\": {\"scale\": 0.25}});\n\tviewer_1744171157051623.addPropertyLabels(\"index\",{},{\"fontSize\": 15, \"fontColor\": \"white\", \"alignment\": \"center\", \"showBackground\": true, \"backgroundOpacity\": 0.2, \"backgroundColor\": \"black\"});\n\tviewer_1744171157051623.zoomTo();\nviewer_1744171157051623.render();\n});\n</script>",
      "text/html": [
       "<div id=\"3dmolviewer_1744171157051623\"  style=\"position: relative; width: 400px; height: 400px;\">\n",
       "        <p id=\"3dmolwarning_1744171157051623\" style=\"background-color:#ffcccc;color:black\">3Dmol.js failed to load for some reason.  Please check your browser console for error messages.<br></p>\n",
       "        </div>\n",
       "<script>\n",
       "\n",
       "var loadScriptAsync = function(uri){\n",
       "  return new Promise((resolve, reject) => {\n",
       "    //this is to ignore the existence of requirejs amd\n",
       "    var savedexports, savedmodule;\n",
       "    if (typeof exports !== 'undefined') savedexports = exports;\n",
       "    else exports = {}\n",
       "    if (typeof module !== 'undefined') savedmodule = module;\n",
       "    else module = {}\n",
       "\n",
       "    var tag = document.createElement('script');\n",
       "    tag.src = uri;\n",
       "    tag.async = true;\n",
       "    tag.onload = () => {\n",
       "        exports = savedexports;\n",
       "        module = savedmodule;\n",
       "        resolve();\n",
       "    };\n",
       "  var firstScriptTag = document.getElementsByTagName('script')[0];\n",
       "  firstScriptTag.parentNode.insertBefore(tag, firstScriptTag);\n",
       "});\n",
       "};\n",
       "\n",
       "if(typeof $3Dmolpromise === 'undefined') {\n",
       "$3Dmolpromise = null;\n",
       "  $3Dmolpromise = loadScriptAsync('https://cdnjs.cloudflare.com/ajax/libs/3Dmol/2.4.2/3Dmol-min.js');\n",
       "}\n",
       "\n",
       "var viewer_1744171157051623 = null;\n",
       "var warn = document.getElementById(\"3dmolwarning_1744171157051623\");\n",
       "if(warn) {\n",
       "    warn.parentNode.removeChild(warn);\n",
       "}\n",
       "$3Dmolpromise.then(function() {\n",
       "viewer_1744171157051623 = $3Dmol.createViewer(document.getElementById(\"3dmolviewer_1744171157051623\"),{backgroundColor:\"white\"});\n",
       "viewer_1744171157051623.zoomTo();\n",
       "\tviewer_1744171157051623.addModel(\"\\n     RDKit          3D\\n\\n  8  6  0  0  0  0  0  0  0  0999 V2000\\n    1.0342    0.1276   -0.1168 C   0  0  0  0  0  0  0  0  0  0  0  0\\n    0.1978    0.9671   -0.4773 O   0  0  0  0  0  0  0  0  0  0  0  0\\n   -1.4023   -0.0638    0.1400 C   0  0  0  0  0  0  0  0  0  0  0  0\\n   -0.5662   -0.9049    0.4975 O   0  0  0  0  0  0  0  0  0  0  0  0\\n    1.3938   -0.6718   -0.7904 H   0  0  0  0  0  0  0  0  0  0  0  0\\n    1.5404    0.1904    0.8634 H   0  0  0  0  0  0  0  0  0  0  0  0\\n   -1.8801   -0.0960   -0.8564 H   0  0  0  0  0  0  0  0  0  0  0  0\\n   -1.7899    0.7061    0.8314 H   0  0  0  0  0  0  0  0  0  0  0  0\\n  7  3  1  0\\n  6  1  1  0\\n  4  3  2  0\\n  3  8  1  0\\n  2  1  2  0\\n  1  5  1  0\\nM  END\\n\",\"sdf\");\n",
       "\tviewer_1744171157051623.setStyle({\"stick\": {\"radius\": 0.05, \"color\": \"#f2f2f2\"}, \"sphere\": {\"scale\": 0.25}});\n",
       "\tviewer_1744171157051623.addPropertyLabels(\"index\",{},{\"fontSize\": 15, \"fontColor\": \"white\", \"alignment\": \"center\", \"showBackground\": true, \"backgroundOpacity\": 0.2, \"backgroundColor\": \"black\"});\n",
       "\tviewer_1744171157051623.zoomTo();\n",
       "viewer_1744171157051623.render();\n",
       "});\n",
       "</script>"
      ]
     },
     "metadata": {},
     "output_type": "display_data"
    },
    {
     "data": {
      "text/plain": [
       "<py3Dmol.view at 0x7f812935c560>"
      ]
     },
     "execution_count": 14,
     "metadata": {},
     "output_type": "execute_result"
    }
   ],
   "source": [
    "ff = OpenBabelFF()\n",
    "ff.setup(mol3.Copy())  # directly assign mol to allow correct atom index when setting constraints\n",
    "ff.add_distance_constraint([1,2], 2.0)\n",
    "ff.add_distance_constraint([0,3], 2.0)\n",
    "ff.optimize()\n",
    "opt_mol = ff.get_optimized_mol()\n",
    "\n",
    "print(\n",
    "    f'd(1,2) = {opt_mol.GetEditableConformer().GetBondLength([1,2])}\\n'\n",
    "    f'd(0,3) = {opt_mol.GetEditableConformer().GetBondLength([0,3])}\\n'\n",
    ")\n",
    "mol_viewer(opt_mol)"
   ]
  },
  {
   "cell_type": "markdown",
   "metadata": {},
   "source": [
    "### 5. Simultaneous constrained optimization for multiple conformers"
   ]
  },
  {
   "cell_type": "code",
   "execution_count": 15,
   "metadata": {},
   "outputs": [
    {
     "name": "stdout",
     "output_type": "stream",
     "text": [
      "conformer 0\n",
      "d(1,2) = 1.2141527189735224\n",
      "d(0,3) = 1.2049260995879592\n",
      "\n",
      "conformer 1\n",
      "d(1,2) = 1.211624809359097\n",
      "d(0,3) = 1.2294889805966405\n",
      "\n",
      "conformer 2\n",
      "d(1,2) = 1.1915044788704823\n",
      "d(0,3) = 1.2326126636214094\n",
      "\n",
      "conformer 3\n",
      "d(1,2) = 1.2094695345719848\n",
      "d(0,3) = 1.2261763584270955\n",
      "\n"
     ]
    },
    {
     "data": {
      "application/3dmoljs_load.v0": "<div id=\"3dmolviewer_17441711570656574\"  style=\"position: relative; width: 600px; height: 400px;\">\n        <p id=\"3dmolwarning_17441711570656574\" style=\"background-color:#ffcccc;color:black\">3Dmol.js failed to load for some reason.  Please check your browser console for error messages.<br></p>\n        </div>\n<script>\n\nvar loadScriptAsync = function(uri){\n  return new Promise((resolve, reject) => {\n    //this is to ignore the existence of requirejs amd\n    var savedexports, savedmodule;\n    if (typeof exports !== 'undefined') savedexports = exports;\n    else exports = {}\n    if (typeof module !== 'undefined') savedmodule = module;\n    else module = {}\n\n    var tag = document.createElement('script');\n    tag.src = uri;\n    tag.async = true;\n    tag.onload = () => {\n        exports = savedexports;\n        module = savedmodule;\n        resolve();\n    };\n  var firstScriptTag = document.getElementsByTagName('script')[0];\n  firstScriptTag.parentNode.insertBefore(tag, firstScriptTag);\n});\n};\n\nif(typeof $3Dmolpromise === 'undefined') {\n$3Dmolpromise = null;\n  $3Dmolpromise = loadScriptAsync('https://cdnjs.cloudflare.com/ajax/libs/3Dmol/2.4.2/3Dmol-min.js');\n}\n\nvar viewer_17441711570656574 = null;\nvar warn = document.getElementById(\"3dmolwarning_17441711570656574\");\nif(warn) {\n    warn.parentNode.removeChild(warn);\n}\n$3Dmolpromise.then(function() {\nvar viewergrid_17441711570656574 = null;\nviewergrid_17441711570656574 = $3Dmol.createViewerGrid(document.getElementById(\"3dmolviewer_17441711570656574\"),{rows: 2, cols: 2, control_all: true},{backgroundColor:\"white\"});\nviewer_17441711570656574 = viewergrid_17441711570656574[0][0];\nviewergrid_17441711570656574[0][0].zoomTo();viewergrid_17441711570656574[0][1].zoomTo();viewergrid_17441711570656574[1][0].zoomTo();viewergrid_17441711570656574[1][1].zoomTo();\tviewergrid_17441711570656574[0][0].addModel(\"\\n     RDKit          3D\\n\\n  8  6  0  0  0  0  0  0  0  0999 V2000\\n    1.0342    0.1276   -0.1168 C   0  0  0  0  0  0  0  0  0  0  0  0\\n    0.1978    0.9671   -0.4773 O   0  0  0  0  0  0  0  0  0  0  0  0\\n   -1.4023   -0.0638    0.1400 C   0  0  0  0  0  0  0  0  0  0  0  0\\n   -0.5662   -0.9049    0.4975 O   0  0  0  0  0  0  0  0  0  0  0  0\\n    1.3938   -0.6718   -0.7904 H   0  0  0  0  0  0  0  0  0  0  0  0\\n    1.5404    0.1904    0.8634 H   0  0  0  0  0  0  0  0  0  0  0  0\\n   -1.8801   -0.0960   -0.8564 H   0  0  0  0  0  0  0  0  0  0  0  0\\n   -1.7899    0.7061    0.8314 H   0  0  0  0  0  0  0  0  0  0  0  0\\n  7  3  1  0\\n  6  1  1  0\\n  4  3  2  0\\n  3  8  1  0\\n  2  1  2  0\\n  1  5  1  0\\nM  END\\n\",\"sdf\");\n\tviewergrid_17441711570656574[0][0].setStyle({\"stick\": {\"radius\": 0.05, \"color\": \"#f2f2f2\"}, \"sphere\": {\"scale\": 0.25}});\n\tviewergrid_17441711570656574[0][0].addPropertyLabels(\"index\",{},{\"fontSize\": 15, \"fontColor\": \"white\", \"alignment\": \"center\", \"showBackground\": true, \"backgroundOpacity\": 0.2, \"backgroundColor\": \"black\"});\n\tviewergrid_17441711570656574[0][0].zoomTo();\n\tviewergrid_17441711570656574[0][1].addModel(\"\\n     RDKit          3D\\n\\n  8  6  0  0  0  0  0  0  0  0999 V2000\\n    1.0342    0.1276   -0.1168 C   0  0  0  0  0  0  0  0  0  0  0  0\\n    0.1978    0.9671   -0.4773 O   0  0  0  0  0  0  0  0  0  0  0  0\\n   -1.4023   -0.0638    0.1400 C   0  0  0  0  0  0  0  0  0  0  0  0\\n   -0.5662   -0.9049    0.4975 O   0  0  0  0  0  0  0  0  0  0  0  0\\n    1.3938   -0.6718   -0.7904 H   0  0  0  0  0  0  0  0  0  0  0  0\\n    1.5404    0.1904    0.8634 H   0  0  0  0  0  0  0  0  0  0  0  0\\n   -1.8801   -0.0960   -0.8564 H   0  0  0  0  0  0  0  0  0  0  0  0\\n   -1.7899    0.7061    0.8314 H   0  0  0  0  0  0  0  0  0  0  0  0\\n  7  3  1  0\\n  6  1  1  0\\n  4  3  2  0\\n  3  8  1  0\\n  2  1  2  0\\n  1  5  1  0\\nM  END\\n\",\"sdf\");\n\tviewergrid_17441711570656574[0][1].setStyle({\"stick\": {\"radius\": 0.05, \"color\": \"#f2f2f2\"}, \"sphere\": {\"scale\": 0.25}});\n\tviewergrid_17441711570656574[0][1].addPropertyLabels(\"index\",{},{\"fontSize\": 15, \"fontColor\": \"white\", \"alignment\": \"center\", \"showBackground\": true, \"backgroundOpacity\": 0.2, \"backgroundColor\": \"black\"});\n\tviewergrid_17441711570656574[0][1].zoomTo();\n\tviewergrid_17441711570656574[1][0].addModel(\"\\n     RDKit          3D\\n\\n  8  6  0  0  0  0  0  0  0  0999 V2000\\n    1.0342    0.1276   -0.1168 C   0  0  0  0  0  0  0  0  0  0  0  0\\n    0.1978    0.9671   -0.4773 O   0  0  0  0  0  0  0  0  0  0  0  0\\n   -1.4023   -0.0638    0.1400 C   0  0  0  0  0  0  0  0  0  0  0  0\\n   -0.5662   -0.9049    0.4975 O   0  0  0  0  0  0  0  0  0  0  0  0\\n    1.3938   -0.6718   -0.7904 H   0  0  0  0  0  0  0  0  0  0  0  0\\n    1.5404    0.1904    0.8634 H   0  0  0  0  0  0  0  0  0  0  0  0\\n   -1.8801   -0.0960   -0.8564 H   0  0  0  0  0  0  0  0  0  0  0  0\\n   -1.7899    0.7061    0.8314 H   0  0  0  0  0  0  0  0  0  0  0  0\\n  7  3  1  0\\n  6  1  1  0\\n  4  3  2  0\\n  3  8  1  0\\n  2  1  2  0\\n  1  5  1  0\\nM  END\\n\",\"sdf\");\n\tviewergrid_17441711570656574[1][0].setStyle({\"stick\": {\"radius\": 0.05, \"color\": \"#f2f2f2\"}, \"sphere\": {\"scale\": 0.25}});\n\tviewergrid_17441711570656574[1][0].addPropertyLabels(\"index\",{},{\"fontSize\": 15, \"fontColor\": \"white\", \"alignment\": \"center\", \"showBackground\": true, \"backgroundOpacity\": 0.2, \"backgroundColor\": \"black\"});\n\tviewergrid_17441711570656574[1][0].zoomTo();\n\tviewergrid_17441711570656574[1][1].addModel(\"\\n     RDKit          3D\\n\\n  8  6  0  0  0  0  0  0  0  0999 V2000\\n    1.0342    0.1276   -0.1168 C   0  0  0  0  0  0  0  0  0  0  0  0\\n    0.1978    0.9671   -0.4773 O   0  0  0  0  0  0  0  0  0  0  0  0\\n   -1.4023   -0.0638    0.1400 C   0  0  0  0  0  0  0  0  0  0  0  0\\n   -0.5662   -0.9049    0.4975 O   0  0  0  0  0  0  0  0  0  0  0  0\\n    1.3938   -0.6718   -0.7904 H   0  0  0  0  0  0  0  0  0  0  0  0\\n    1.5404    0.1904    0.8634 H   0  0  0  0  0  0  0  0  0  0  0  0\\n   -1.8801   -0.0960   -0.8564 H   0  0  0  0  0  0  0  0  0  0  0  0\\n   -1.7899    0.7061    0.8314 H   0  0  0  0  0  0  0  0  0  0  0  0\\n  7  3  1  0\\n  6  1  1  0\\n  4  3  2  0\\n  3  8  1  0\\n  2  1  2  0\\n  1  5  1  0\\nM  END\\n\",\"sdf\");\n\tviewergrid_17441711570656574[1][1].setStyle({\"stick\": {\"radius\": 0.05, \"color\": \"#f2f2f2\"}, \"sphere\": {\"scale\": 0.25}});\n\tviewergrid_17441711570656574[1][1].addPropertyLabels(\"index\",{},{\"fontSize\": 15, \"fontColor\": \"white\", \"alignment\": \"center\", \"showBackground\": true, \"backgroundOpacity\": 0.2, \"backgroundColor\": \"black\"});\n\tviewergrid_17441711570656574[1][1].zoomTo();\nviewergrid_17441711570656574[1][1].render();\nviewergrid_17441711570656574[1][0].render();\nviewergrid_17441711570656574[0][1].render();\nviewergrid_17441711570656574[0][0].render();\n});\n</script>",
      "text/html": [
       "<div id=\"3dmolviewer_17441711570656574\"  style=\"position: relative; width: 600px; height: 400px;\">\n",
       "        <p id=\"3dmolwarning_17441711570656574\" style=\"background-color:#ffcccc;color:black\">3Dmol.js failed to load for some reason.  Please check your browser console for error messages.<br></p>\n",
       "        </div>\n",
       "<script>\n",
       "\n",
       "var loadScriptAsync = function(uri){\n",
       "  return new Promise((resolve, reject) => {\n",
       "    //this is to ignore the existence of requirejs amd\n",
       "    var savedexports, savedmodule;\n",
       "    if (typeof exports !== 'undefined') savedexports = exports;\n",
       "    else exports = {}\n",
       "    if (typeof module !== 'undefined') savedmodule = module;\n",
       "    else module = {}\n",
       "\n",
       "    var tag = document.createElement('script');\n",
       "    tag.src = uri;\n",
       "    tag.async = true;\n",
       "    tag.onload = () => {\n",
       "        exports = savedexports;\n",
       "        module = savedmodule;\n",
       "        resolve();\n",
       "    };\n",
       "  var firstScriptTag = document.getElementsByTagName('script')[0];\n",
       "  firstScriptTag.parentNode.insertBefore(tag, firstScriptTag);\n",
       "});\n",
       "};\n",
       "\n",
       "if(typeof $3Dmolpromise === 'undefined') {\n",
       "$3Dmolpromise = null;\n",
       "  $3Dmolpromise = loadScriptAsync('https://cdnjs.cloudflare.com/ajax/libs/3Dmol/2.4.2/3Dmol-min.js');\n",
       "}\n",
       "\n",
       "var viewer_17441711570656574 = null;\n",
       "var warn = document.getElementById(\"3dmolwarning_17441711570656574\");\n",
       "if(warn) {\n",
       "    warn.parentNode.removeChild(warn);\n",
       "}\n",
       "$3Dmolpromise.then(function() {\n",
       "var viewergrid_17441711570656574 = null;\n",
       "viewergrid_17441711570656574 = $3Dmol.createViewerGrid(document.getElementById(\"3dmolviewer_17441711570656574\"),{rows: 2, cols: 2, control_all: true},{backgroundColor:\"white\"});\n",
       "viewer_17441711570656574 = viewergrid_17441711570656574[0][0];\n",
       "viewergrid_17441711570656574[0][0].zoomTo();viewergrid_17441711570656574[0][1].zoomTo();viewergrid_17441711570656574[1][0].zoomTo();viewergrid_17441711570656574[1][1].zoomTo();\tviewergrid_17441711570656574[0][0].addModel(\"\\n     RDKit          3D\\n\\n  8  6  0  0  0  0  0  0  0  0999 V2000\\n    1.0342    0.1276   -0.1168 C   0  0  0  0  0  0  0  0  0  0  0  0\\n    0.1978    0.9671   -0.4773 O   0  0  0  0  0  0  0  0  0  0  0  0\\n   -1.4023   -0.0638    0.1400 C   0  0  0  0  0  0  0  0  0  0  0  0\\n   -0.5662   -0.9049    0.4975 O   0  0  0  0  0  0  0  0  0  0  0  0\\n    1.3938   -0.6718   -0.7904 H   0  0  0  0  0  0  0  0  0  0  0  0\\n    1.5404    0.1904    0.8634 H   0  0  0  0  0  0  0  0  0  0  0  0\\n   -1.8801   -0.0960   -0.8564 H   0  0  0  0  0  0  0  0  0  0  0  0\\n   -1.7899    0.7061    0.8314 H   0  0  0  0  0  0  0  0  0  0  0  0\\n  7  3  1  0\\n  6  1  1  0\\n  4  3  2  0\\n  3  8  1  0\\n  2  1  2  0\\n  1  5  1  0\\nM  END\\n\",\"sdf\");\n",
       "\tviewergrid_17441711570656574[0][0].setStyle({\"stick\": {\"radius\": 0.05, \"color\": \"#f2f2f2\"}, \"sphere\": {\"scale\": 0.25}});\n",
       "\tviewergrid_17441711570656574[0][0].addPropertyLabels(\"index\",{},{\"fontSize\": 15, \"fontColor\": \"white\", \"alignment\": \"center\", \"showBackground\": true, \"backgroundOpacity\": 0.2, \"backgroundColor\": \"black\"});\n",
       "\tviewergrid_17441711570656574[0][0].zoomTo();\n",
       "\tviewergrid_17441711570656574[0][1].addModel(\"\\n     RDKit          3D\\n\\n  8  6  0  0  0  0  0  0  0  0999 V2000\\n    1.0342    0.1276   -0.1168 C   0  0  0  0  0  0  0  0  0  0  0  0\\n    0.1978    0.9671   -0.4773 O   0  0  0  0  0  0  0  0  0  0  0  0\\n   -1.4023   -0.0638    0.1400 C   0  0  0  0  0  0  0  0  0  0  0  0\\n   -0.5662   -0.9049    0.4975 O   0  0  0  0  0  0  0  0  0  0  0  0\\n    1.3938   -0.6718   -0.7904 H   0  0  0  0  0  0  0  0  0  0  0  0\\n    1.5404    0.1904    0.8634 H   0  0  0  0  0  0  0  0  0  0  0  0\\n   -1.8801   -0.0960   -0.8564 H   0  0  0  0  0  0  0  0  0  0  0  0\\n   -1.7899    0.7061    0.8314 H   0  0  0  0  0  0  0  0  0  0  0  0\\n  7  3  1  0\\n  6  1  1  0\\n  4  3  2  0\\n  3  8  1  0\\n  2  1  2  0\\n  1  5  1  0\\nM  END\\n\",\"sdf\");\n",
       "\tviewergrid_17441711570656574[0][1].setStyle({\"stick\": {\"radius\": 0.05, \"color\": \"#f2f2f2\"}, \"sphere\": {\"scale\": 0.25}});\n",
       "\tviewergrid_17441711570656574[0][1].addPropertyLabels(\"index\",{},{\"fontSize\": 15, \"fontColor\": \"white\", \"alignment\": \"center\", \"showBackground\": true, \"backgroundOpacity\": 0.2, \"backgroundColor\": \"black\"});\n",
       "\tviewergrid_17441711570656574[0][1].zoomTo();\n",
       "\tviewergrid_17441711570656574[1][0].addModel(\"\\n     RDKit          3D\\n\\n  8  6  0  0  0  0  0  0  0  0999 V2000\\n    1.0342    0.1276   -0.1168 C   0  0  0  0  0  0  0  0  0  0  0  0\\n    0.1978    0.9671   -0.4773 O   0  0  0  0  0  0  0  0  0  0  0  0\\n   -1.4023   -0.0638    0.1400 C   0  0  0  0  0  0  0  0  0  0  0  0\\n   -0.5662   -0.9049    0.4975 O   0  0  0  0  0  0  0  0  0  0  0  0\\n    1.3938   -0.6718   -0.7904 H   0  0  0  0  0  0  0  0  0  0  0  0\\n    1.5404    0.1904    0.8634 H   0  0  0  0  0  0  0  0  0  0  0  0\\n   -1.8801   -0.0960   -0.8564 H   0  0  0  0  0  0  0  0  0  0  0  0\\n   -1.7899    0.7061    0.8314 H   0  0  0  0  0  0  0  0  0  0  0  0\\n  7  3  1  0\\n  6  1  1  0\\n  4  3  2  0\\n  3  8  1  0\\n  2  1  2  0\\n  1  5  1  0\\nM  END\\n\",\"sdf\");\n",
       "\tviewergrid_17441711570656574[1][0].setStyle({\"stick\": {\"radius\": 0.05, \"color\": \"#f2f2f2\"}, \"sphere\": {\"scale\": 0.25}});\n",
       "\tviewergrid_17441711570656574[1][0].addPropertyLabels(\"index\",{},{\"fontSize\": 15, \"fontColor\": \"white\", \"alignment\": \"center\", \"showBackground\": true, \"backgroundOpacity\": 0.2, \"backgroundColor\": \"black\"});\n",
       "\tviewergrid_17441711570656574[1][0].zoomTo();\n",
       "\tviewergrid_17441711570656574[1][1].addModel(\"\\n     RDKit          3D\\n\\n  8  6  0  0  0  0  0  0  0  0999 V2000\\n    1.0342    0.1276   -0.1168 C   0  0  0  0  0  0  0  0  0  0  0  0\\n    0.1978    0.9671   -0.4773 O   0  0  0  0  0  0  0  0  0  0  0  0\\n   -1.4023   -0.0638    0.1400 C   0  0  0  0  0  0  0  0  0  0  0  0\\n   -0.5662   -0.9049    0.4975 O   0  0  0  0  0  0  0  0  0  0  0  0\\n    1.3938   -0.6718   -0.7904 H   0  0  0  0  0  0  0  0  0  0  0  0\\n    1.5404    0.1904    0.8634 H   0  0  0  0  0  0  0  0  0  0  0  0\\n   -1.8801   -0.0960   -0.8564 H   0  0  0  0  0  0  0  0  0  0  0  0\\n   -1.7899    0.7061    0.8314 H   0  0  0  0  0  0  0  0  0  0  0  0\\n  7  3  1  0\\n  6  1  1  0\\n  4  3  2  0\\n  3  8  1  0\\n  2  1  2  0\\n  1  5  1  0\\nM  END\\n\",\"sdf\");\n",
       "\tviewergrid_17441711570656574[1][1].setStyle({\"stick\": {\"radius\": 0.05, \"color\": \"#f2f2f2\"}, \"sphere\": {\"scale\": 0.25}});\n",
       "\tviewergrid_17441711570656574[1][1].addPropertyLabels(\"index\",{},{\"fontSize\": 15, \"fontColor\": \"white\", \"alignment\": \"center\", \"showBackground\": true, \"backgroundOpacity\": 0.2, \"backgroundColor\": \"black\"});\n",
       "\tviewergrid_17441711570656574[1][1].zoomTo();\n",
       "viewergrid_17441711570656574[1][1].render();\n",
       "viewergrid_17441711570656574[1][0].render();\n",
       "viewergrid_17441711570656574[0][1].render();\n",
       "viewergrid_17441711570656574[0][0].render();\n",
       "});\n",
       "</script>"
      ]
     },
     "metadata": {},
     "output_type": "display_data"
    },
    {
     "data": {
      "text/plain": [
       "<py3Dmol.view at 0x7f812a2b3740>"
      ]
     },
     "execution_count": 15,
     "metadata": {},
     "output_type": "execute_result"
    }
   ],
   "source": [
    "xyz = \"\"\"C      2.164196    0.180658    0.005381\n",
    "O      0.942631    0.078687    0.002344\n",
    "C     -2.138178   -0.178485   -0.005316\n",
    "O     -3.360016   -0.280479   -0.008354\n",
    "H      2.826486   -0.691971    0.123773\n",
    "H      2.673219    1.151062   -0.110098\n",
    "H     -1.518697   -0.529599   -0.845624\n",
    "H     -1.589641    0.270129    0.837895\"\"\"\n",
    "\n",
    "mol5 = Mol.FromXYZ(xyz, header=False)\n",
    "mol5.EmbedMultipleConfs(4)\n",
    "\n",
    "viewer = grid_viewer(viewer_grid=(2, 2), viewer_size=(600, 400), linked=True)\n",
    "grids = [(0, 0), (0, 1), (1, 0), (1, 1)]\n",
    "for i in range(4):\n",
    "    print(f'conformer {i}')\n",
    "    print(\n",
    "        f'd(1,2) = {mol5.GetEditableConformer(i).GetBondLength([1,2])}\\n'\n",
    "        f'd(0,3) = {mol5.GetEditableConformer(i).GetBondLength([0,3])}\\n'\n",
    "    )\n",
    "    mol_viewer(opt_mol, viewer=viewer, viewer_loc=grids[i])\n",
    "viewer\n"
   ]
  },
  {
   "cell_type": "markdown",
   "metadata": {},
   "source": [
    "Optimization and constraint both d(1,2) and d(0,3) to be 2.0"
   ]
  },
  {
   "cell_type": "code",
   "execution_count": 16,
   "metadata": {},
   "outputs": [
    {
     "name": "stdout",
     "output_type": "stream",
     "text": [
      "conformer 0\n",
      "d(1,2) = 2.081315335310175\n",
      "d(0,3) = 2.081315591440897\n",
      "\n",
      "conformer 1\n",
      "d(1,2) = 2.081315639480094\n",
      "d(0,3) = 2.0813152151179652\n",
      "\n",
      "conformer 2\n",
      "d(1,2) = 2.0813159312952\n",
      "d(0,3) = 2.0813156821468963\n",
      "\n",
      "conformer 3\n",
      "d(1,2) = 2.081315517625727\n",
      "d(0,3) = 2.0813151409827673\n",
      "\n",
      "Force field energies for each conformers: [44.319330817486026, 44.31933085841403, 44.3193311427327, 44.31933088999806]\n"
     ]
    },
    {
     "data": {
      "application/3dmoljs_load.v0": "<div id=\"3dmolviewer_17441711571383185\"  style=\"position: relative; width: 600px; height: 400px;\">\n        <p id=\"3dmolwarning_17441711571383185\" style=\"background-color:#ffcccc;color:black\">3Dmol.js failed to load for some reason.  Please check your browser console for error messages.<br></p>\n        </div>\n<script>\n\nvar loadScriptAsync = function(uri){\n  return new Promise((resolve, reject) => {\n    //this is to ignore the existence of requirejs amd\n    var savedexports, savedmodule;\n    if (typeof exports !== 'undefined') savedexports = exports;\n    else exports = {}\n    if (typeof module !== 'undefined') savedmodule = module;\n    else module = {}\n\n    var tag = document.createElement('script');\n    tag.src = uri;\n    tag.async = true;\n    tag.onload = () => {\n        exports = savedexports;\n        module = savedmodule;\n        resolve();\n    };\n  var firstScriptTag = document.getElementsByTagName('script')[0];\n  firstScriptTag.parentNode.insertBefore(tag, firstScriptTag);\n});\n};\n\nif(typeof $3Dmolpromise === 'undefined') {\n$3Dmolpromise = null;\n  $3Dmolpromise = loadScriptAsync('https://cdnjs.cloudflare.com/ajax/libs/3Dmol/2.4.2/3Dmol-min.js');\n}\n\nvar viewer_17441711571383185 = null;\nvar warn = document.getElementById(\"3dmolwarning_17441711571383185\");\nif(warn) {\n    warn.parentNode.removeChild(warn);\n}\n$3Dmolpromise.then(function() {\nvar viewergrid_17441711571383185 = null;\nviewergrid_17441711571383185 = $3Dmol.createViewerGrid(document.getElementById(\"3dmolviewer_17441711571383185\"),{rows: 2, cols: 2, control_all: true},{backgroundColor:\"white\"});\nviewer_17441711571383185 = viewergrid_17441711571383185[0][0];\nviewergrid_17441711571383185[0][0].zoomTo();viewergrid_17441711571383185[0][1].zoomTo();viewergrid_17441711571383185[1][0].zoomTo();viewergrid_17441711571383185[1][1].zoomTo();\tviewergrid_17441711571383185[0][0].addModel(\"\\n     RDKit          3D\\n\\n  8  6  0  0  0  0  0  0  0  0999 V2000\\n    0.2967   -1.2262   -0.0123 C   0  0  0  0  0  0  0  0  0  0  0  0\\n    1.1072   -0.3024   -0.1449 O   0  0  0  0  0  0  0  0  0  0  0  0\\n   -0.2967    1.2261    0.0123 C   0  0  0  0  0  0  0  0  0  0  0  0\\n   -1.1072    0.3024    0.1448 O   0  0  0  0  0  0  0  0  0  0  0  0\\n   -0.1915   -1.7076   -0.8780 H   0  0  0  0  0  0  0  0  0  0  0  0\\n    0.0624   -1.6648    0.9737 H   0  0  0  0  0  0  0  0  0  0  0  0\\n    0.1916    1.7076    0.8780 H   0  0  0  0  0  0  0  0  0  0  0  0\\n   -0.0624    1.6648   -0.9737 H   0  0  0  0  0  0  0  0  0  0  0  0\\n  7  3  1  0\\n  6  1  1  0\\n  4  3  2  0\\n  3  8  1  0\\n  2  1  2  0\\n  1  5  1  0\\nM  END\\n\",\"sdf\");\n\tviewergrid_17441711571383185[0][0].setStyle({\"stick\": {\"radius\": 0.05, \"color\": \"#f2f2f2\"}, \"sphere\": {\"scale\": 0.25}});\n\tviewergrid_17441711571383185[0][0].addPropertyLabels(\"index\",{},{\"fontSize\": 15, \"fontColor\": \"white\", \"alignment\": \"center\", \"showBackground\": true, \"backgroundOpacity\": 0.2, \"backgroundColor\": \"black\"});\n\tviewergrid_17441711571383185[0][0].zoomTo();\n\tviewergrid_17441711571383185[0][1].addModel(\"\\n     RDKit          3D\\n\\n  8  6  0  0  0  0  0  0  0  0999 V2000\\n    0.2967   -1.2262   -0.0123 C   0  0  0  0  0  0  0  0  0  0  0  0\\n    1.1072   -0.3024   -0.1449 O   0  0  0  0  0  0  0  0  0  0  0  0\\n   -0.2967    1.2261    0.0123 C   0  0  0  0  0  0  0  0  0  0  0  0\\n   -1.1072    0.3024    0.1448 O   0  0  0  0  0  0  0  0  0  0  0  0\\n   -0.1915   -1.7076   -0.8780 H   0  0  0  0  0  0  0  0  0  0  0  0\\n    0.0624   -1.6648    0.9737 H   0  0  0  0  0  0  0  0  0  0  0  0\\n    0.1916    1.7076    0.8780 H   0  0  0  0  0  0  0  0  0  0  0  0\\n   -0.0624    1.6648   -0.9737 H   0  0  0  0  0  0  0  0  0  0  0  0\\n  7  3  1  0\\n  6  1  1  0\\n  4  3  2  0\\n  3  8  1  0\\n  2  1  2  0\\n  1  5  1  0\\nM  END\\n\",\"sdf\");\n\tviewergrid_17441711571383185[0][1].setStyle({\"stick\": {\"radius\": 0.05, \"color\": \"#f2f2f2\"}, \"sphere\": {\"scale\": 0.25}});\n\tviewergrid_17441711571383185[0][1].addPropertyLabels(\"index\",{},{\"fontSize\": 15, \"fontColor\": \"white\", \"alignment\": \"center\", \"showBackground\": true, \"backgroundOpacity\": 0.2, \"backgroundColor\": \"black\"});\n\tviewergrid_17441711571383185[0][1].zoomTo();\n\tviewergrid_17441711571383185[1][0].addModel(\"\\n     RDKit          3D\\n\\n  8  6  0  0  0  0  0  0  0  0999 V2000\\n    0.2967   -1.2262   -0.0123 C   0  0  0  0  0  0  0  0  0  0  0  0\\n    1.1072   -0.3024   -0.1449 O   0  0  0  0  0  0  0  0  0  0  0  0\\n   -0.2967    1.2261    0.0123 C   0  0  0  0  0  0  0  0  0  0  0  0\\n   -1.1072    0.3024    0.1448 O   0  0  0  0  0  0  0  0  0  0  0  0\\n   -0.1915   -1.7076   -0.8780 H   0  0  0  0  0  0  0  0  0  0  0  0\\n    0.0624   -1.6648    0.9737 H   0  0  0  0  0  0  0  0  0  0  0  0\\n    0.1916    1.7076    0.8780 H   0  0  0  0  0  0  0  0  0  0  0  0\\n   -0.0624    1.6648   -0.9737 H   0  0  0  0  0  0  0  0  0  0  0  0\\n  7  3  1  0\\n  6  1  1  0\\n  4  3  2  0\\n  3  8  1  0\\n  2  1  2  0\\n  1  5  1  0\\nM  END\\n\",\"sdf\");\n\tviewergrid_17441711571383185[1][0].setStyle({\"stick\": {\"radius\": 0.05, \"color\": \"#f2f2f2\"}, \"sphere\": {\"scale\": 0.25}});\n\tviewergrid_17441711571383185[1][0].addPropertyLabels(\"index\",{},{\"fontSize\": 15, \"fontColor\": \"white\", \"alignment\": \"center\", \"showBackground\": true, \"backgroundOpacity\": 0.2, \"backgroundColor\": \"black\"});\n\tviewergrid_17441711571383185[1][0].zoomTo();\n\tviewergrid_17441711571383185[1][1].addModel(\"\\n     RDKit          3D\\n\\n  8  6  0  0  0  0  0  0  0  0999 V2000\\n    0.2967   -1.2262   -0.0123 C   0  0  0  0  0  0  0  0  0  0  0  0\\n    1.1072   -0.3024   -0.1449 O   0  0  0  0  0  0  0  0  0  0  0  0\\n   -0.2967    1.2261    0.0123 C   0  0  0  0  0  0  0  0  0  0  0  0\\n   -1.1072    0.3024    0.1448 O   0  0  0  0  0  0  0  0  0  0  0  0\\n   -0.1915   -1.7076   -0.8780 H   0  0  0  0  0  0  0  0  0  0  0  0\\n    0.0624   -1.6648    0.9737 H   0  0  0  0  0  0  0  0  0  0  0  0\\n    0.1916    1.7076    0.8780 H   0  0  0  0  0  0  0  0  0  0  0  0\\n   -0.0624    1.6648   -0.9737 H   0  0  0  0  0  0  0  0  0  0  0  0\\n  7  3  1  0\\n  6  1  1  0\\n  4  3  2  0\\n  3  8  1  0\\n  2  1  2  0\\n  1  5  1  0\\nM  END\\n\",\"sdf\");\n\tviewergrid_17441711571383185[1][1].setStyle({\"stick\": {\"radius\": 0.05, \"color\": \"#f2f2f2\"}, \"sphere\": {\"scale\": 0.25}});\n\tviewergrid_17441711571383185[1][1].addPropertyLabels(\"index\",{},{\"fontSize\": 15, \"fontColor\": \"white\", \"alignment\": \"center\", \"showBackground\": true, \"backgroundOpacity\": 0.2, \"backgroundColor\": \"black\"});\n\tviewergrid_17441711571383185[1][1].zoomTo();\nviewergrid_17441711571383185[1][1].render();\nviewergrid_17441711571383185[1][0].render();\nviewergrid_17441711571383185[0][1].render();\nviewergrid_17441711571383185[0][0].render();\n});\n</script>",
      "text/html": [
       "<div id=\"3dmolviewer_17441711571383185\"  style=\"position: relative; width: 600px; height: 400px;\">\n",
       "        <p id=\"3dmolwarning_17441711571383185\" style=\"background-color:#ffcccc;color:black\">3Dmol.js failed to load for some reason.  Please check your browser console for error messages.<br></p>\n",
       "        </div>\n",
       "<script>\n",
       "\n",
       "var loadScriptAsync = function(uri){\n",
       "  return new Promise((resolve, reject) => {\n",
       "    //this is to ignore the existence of requirejs amd\n",
       "    var savedexports, savedmodule;\n",
       "    if (typeof exports !== 'undefined') savedexports = exports;\n",
       "    else exports = {}\n",
       "    if (typeof module !== 'undefined') savedmodule = module;\n",
       "    else module = {}\n",
       "\n",
       "    var tag = document.createElement('script');\n",
       "    tag.src = uri;\n",
       "    tag.async = true;\n",
       "    tag.onload = () => {\n",
       "        exports = savedexports;\n",
       "        module = savedmodule;\n",
       "        resolve();\n",
       "    };\n",
       "  var firstScriptTag = document.getElementsByTagName('script')[0];\n",
       "  firstScriptTag.parentNode.insertBefore(tag, firstScriptTag);\n",
       "});\n",
       "};\n",
       "\n",
       "if(typeof $3Dmolpromise === 'undefined') {\n",
       "$3Dmolpromise = null;\n",
       "  $3Dmolpromise = loadScriptAsync('https://cdnjs.cloudflare.com/ajax/libs/3Dmol/2.4.2/3Dmol-min.js');\n",
       "}\n",
       "\n",
       "var viewer_17441711571383185 = null;\n",
       "var warn = document.getElementById(\"3dmolwarning_17441711571383185\");\n",
       "if(warn) {\n",
       "    warn.parentNode.removeChild(warn);\n",
       "}\n",
       "$3Dmolpromise.then(function() {\n",
       "var viewergrid_17441711571383185 = null;\n",
       "viewergrid_17441711571383185 = $3Dmol.createViewerGrid(document.getElementById(\"3dmolviewer_17441711571383185\"),{rows: 2, cols: 2, control_all: true},{backgroundColor:\"white\"});\n",
       "viewer_17441711571383185 = viewergrid_17441711571383185[0][0];\n",
       "viewergrid_17441711571383185[0][0].zoomTo();viewergrid_17441711571383185[0][1].zoomTo();viewergrid_17441711571383185[1][0].zoomTo();viewergrid_17441711571383185[1][1].zoomTo();\tviewergrid_17441711571383185[0][0].addModel(\"\\n     RDKit          3D\\n\\n  8  6  0  0  0  0  0  0  0  0999 V2000\\n    0.2967   -1.2262   -0.0123 C   0  0  0  0  0  0  0  0  0  0  0  0\\n    1.1072   -0.3024   -0.1449 O   0  0  0  0  0  0  0  0  0  0  0  0\\n   -0.2967    1.2261    0.0123 C   0  0  0  0  0  0  0  0  0  0  0  0\\n   -1.1072    0.3024    0.1448 O   0  0  0  0  0  0  0  0  0  0  0  0\\n   -0.1915   -1.7076   -0.8780 H   0  0  0  0  0  0  0  0  0  0  0  0\\n    0.0624   -1.6648    0.9737 H   0  0  0  0  0  0  0  0  0  0  0  0\\n    0.1916    1.7076    0.8780 H   0  0  0  0  0  0  0  0  0  0  0  0\\n   -0.0624    1.6648   -0.9737 H   0  0  0  0  0  0  0  0  0  0  0  0\\n  7  3  1  0\\n  6  1  1  0\\n  4  3  2  0\\n  3  8  1  0\\n  2  1  2  0\\n  1  5  1  0\\nM  END\\n\",\"sdf\");\n",
       "\tviewergrid_17441711571383185[0][0].setStyle({\"stick\": {\"radius\": 0.05, \"color\": \"#f2f2f2\"}, \"sphere\": {\"scale\": 0.25}});\n",
       "\tviewergrid_17441711571383185[0][0].addPropertyLabels(\"index\",{},{\"fontSize\": 15, \"fontColor\": \"white\", \"alignment\": \"center\", \"showBackground\": true, \"backgroundOpacity\": 0.2, \"backgroundColor\": \"black\"});\n",
       "\tviewergrid_17441711571383185[0][0].zoomTo();\n",
       "\tviewergrid_17441711571383185[0][1].addModel(\"\\n     RDKit          3D\\n\\n  8  6  0  0  0  0  0  0  0  0999 V2000\\n    0.2967   -1.2262   -0.0123 C   0  0  0  0  0  0  0  0  0  0  0  0\\n    1.1072   -0.3024   -0.1449 O   0  0  0  0  0  0  0  0  0  0  0  0\\n   -0.2967    1.2261    0.0123 C   0  0  0  0  0  0  0  0  0  0  0  0\\n   -1.1072    0.3024    0.1448 O   0  0  0  0  0  0  0  0  0  0  0  0\\n   -0.1915   -1.7076   -0.8780 H   0  0  0  0  0  0  0  0  0  0  0  0\\n    0.0624   -1.6648    0.9737 H   0  0  0  0  0  0  0  0  0  0  0  0\\n    0.1916    1.7076    0.8780 H   0  0  0  0  0  0  0  0  0  0  0  0\\n   -0.0624    1.6648   -0.9737 H   0  0  0  0  0  0  0  0  0  0  0  0\\n  7  3  1  0\\n  6  1  1  0\\n  4  3  2  0\\n  3  8  1  0\\n  2  1  2  0\\n  1  5  1  0\\nM  END\\n\",\"sdf\");\n",
       "\tviewergrid_17441711571383185[0][1].setStyle({\"stick\": {\"radius\": 0.05, \"color\": \"#f2f2f2\"}, \"sphere\": {\"scale\": 0.25}});\n",
       "\tviewergrid_17441711571383185[0][1].addPropertyLabels(\"index\",{},{\"fontSize\": 15, \"fontColor\": \"white\", \"alignment\": \"center\", \"showBackground\": true, \"backgroundOpacity\": 0.2, \"backgroundColor\": \"black\"});\n",
       "\tviewergrid_17441711571383185[0][1].zoomTo();\n",
       "\tviewergrid_17441711571383185[1][0].addModel(\"\\n     RDKit          3D\\n\\n  8  6  0  0  0  0  0  0  0  0999 V2000\\n    0.2967   -1.2262   -0.0123 C   0  0  0  0  0  0  0  0  0  0  0  0\\n    1.1072   -0.3024   -0.1449 O   0  0  0  0  0  0  0  0  0  0  0  0\\n   -0.2967    1.2261    0.0123 C   0  0  0  0  0  0  0  0  0  0  0  0\\n   -1.1072    0.3024    0.1448 O   0  0  0  0  0  0  0  0  0  0  0  0\\n   -0.1915   -1.7076   -0.8780 H   0  0  0  0  0  0  0  0  0  0  0  0\\n    0.0624   -1.6648    0.9737 H   0  0  0  0  0  0  0  0  0  0  0  0\\n    0.1916    1.7076    0.8780 H   0  0  0  0  0  0  0  0  0  0  0  0\\n   -0.0624    1.6648   -0.9737 H   0  0  0  0  0  0  0  0  0  0  0  0\\n  7  3  1  0\\n  6  1  1  0\\n  4  3  2  0\\n  3  8  1  0\\n  2  1  2  0\\n  1  5  1  0\\nM  END\\n\",\"sdf\");\n",
       "\tviewergrid_17441711571383185[1][0].setStyle({\"stick\": {\"radius\": 0.05, \"color\": \"#f2f2f2\"}, \"sphere\": {\"scale\": 0.25}});\n",
       "\tviewergrid_17441711571383185[1][0].addPropertyLabels(\"index\",{},{\"fontSize\": 15, \"fontColor\": \"white\", \"alignment\": \"center\", \"showBackground\": true, \"backgroundOpacity\": 0.2, \"backgroundColor\": \"black\"});\n",
       "\tviewergrid_17441711571383185[1][0].zoomTo();\n",
       "\tviewergrid_17441711571383185[1][1].addModel(\"\\n     RDKit          3D\\n\\n  8  6  0  0  0  0  0  0  0  0999 V2000\\n    0.2967   -1.2262   -0.0123 C   0  0  0  0  0  0  0  0  0  0  0  0\\n    1.1072   -0.3024   -0.1449 O   0  0  0  0  0  0  0  0  0  0  0  0\\n   -0.2967    1.2261    0.0123 C   0  0  0  0  0  0  0  0  0  0  0  0\\n   -1.1072    0.3024    0.1448 O   0  0  0  0  0  0  0  0  0  0  0  0\\n   -0.1915   -1.7076   -0.8780 H   0  0  0  0  0  0  0  0  0  0  0  0\\n    0.0624   -1.6648    0.9737 H   0  0  0  0  0  0  0  0  0  0  0  0\\n    0.1916    1.7076    0.8780 H   0  0  0  0  0  0  0  0  0  0  0  0\\n   -0.0624    1.6648   -0.9737 H   0  0  0  0  0  0  0  0  0  0  0  0\\n  7  3  1  0\\n  6  1  1  0\\n  4  3  2  0\\n  3  8  1  0\\n  2  1  2  0\\n  1  5  1  0\\nM  END\\n\",\"sdf\");\n",
       "\tviewergrid_17441711571383185[1][1].setStyle({\"stick\": {\"radius\": 0.05, \"color\": \"#f2f2f2\"}, \"sphere\": {\"scale\": 0.25}});\n",
       "\tviewergrid_17441711571383185[1][1].addPropertyLabels(\"index\",{},{\"fontSize\": 15, \"fontColor\": \"white\", \"alignment\": \"center\", \"showBackground\": true, \"backgroundOpacity\": 0.2, \"backgroundColor\": \"black\"});\n",
       "\tviewergrid_17441711571383185[1][1].zoomTo();\n",
       "viewergrid_17441711571383185[1][1].render();\n",
       "viewergrid_17441711571383185[1][0].render();\n",
       "viewergrid_17441711571383185[0][1].render();\n",
       "viewergrid_17441711571383185[0][0].render();\n",
       "});\n",
       "</script>"
      ]
     },
     "metadata": {},
     "output_type": "display_data"
    },
    {
     "data": {
      "text/plain": [
       "<py3Dmol.view at 0x7f8129c83020>"
      ]
     },
     "execution_count": 16,
     "metadata": {},
     "output_type": "execute_result"
    }
   ],
   "source": [
    "ff = RDKitFF()\n",
    "ff.setup(mol5.Copy())\n",
    "ff.add_distance_constraint([1,2], 2.0, force_constant=1e3)\n",
    "ff.add_distance_constraint([0,3], 2.0, force_constant=1e3)\n",
    "ff.optimize_confs()\n",
    "opt_mol = ff.get_optimized_mol()\n",
    "\n",
    "viewer = grid_viewer(viewer_grid=(2, 2), viewer_size=(600, 400), linked=True)\n",
    "grids = [(0,0), (0,1), (1,0), (1,1)]\n",
    "for i in range(4):\n",
    "    print(f'conformer {i}')\n",
    "    print(f'd(1,2) = {opt_mol.GetEditableConformer(i).GetBondLength([1,2])}\\n'\n",
    "          f'd(0,3) = {opt_mol.GetEditableConformer(i).GetBondLength([0,3])}\\n')\n",
    "    mol_viewer(opt_mol, viewer=viewer, viewer_loc=grids[i])\n",
    "print(f'Force field energies for each conformers: {ff.get_conformer_energies()}')\n",
    "viewer"
   ]
  },
  {
   "cell_type": "markdown",
   "metadata": {},
   "source": [
    "### 6. 1D torsional scan"
   ]
  },
  {
   "cell_type": "code",
   "execution_count": 17,
   "metadata": {},
   "outputs": [],
   "source": [
    "xyz = \"\"\"O     -1.4560320000   -0.6564780000   -0.0547780000\n",
    "  C      0.6264870000    0.6420160000   -0.2996580000\n",
    "  C     -0.7756090000    0.5456950000    0.3029210000\n",
    "  C      1.5452770000   -0.5075760000    0.1202110000\n",
    "  H      1.0636220000    1.6047080000   -0.0081600000\n",
    "  H      0.5390000000    0.6678840000   -1.3943400000\n",
    "  H     -1.3675760000    1.4276160000    0.0200750000\n",
    "  H     -0.7153500000    0.5286660000    1.3946760000\n",
    "  H      1.7247880000   -0.4909950000    1.1997250000\n",
    "  H      2.5146430000   -0.4479850000   -0.3811650000\n",
    "  H      1.0902030000   -1.4695310000   -0.1238680000\n",
    "  H     -1.5780000000   -0.6493500000   -1.0095640000\"\"\"\n",
    "\n",
    "mol6 = Mol.FromXYZ(xyz, header=False)\n",
    "\n",
    "torsion1 = mol6.GetTorsionalModes(excludeMethyl=True)[0]"
   ]
  },
  {
   "cell_type": "code",
   "execution_count": 18,
   "metadata": {},
   "outputs": [],
   "source": [
    "ff = RDKitFF()\n",
    "ff.setup(mol6.Copy())\n",
    "angles1, rigid_E, xyzs1 = ff.torsional_scan_1d(torsion1, num_points=45, return_xyz=True)\n",
    "angles2, relax_E, xyzs2 = ff.torsional_scan_1d(torsion1, num_points=45, rigid=False, return_xyz=True)\n"
   ]
  },
  {
   "cell_type": "code",
   "execution_count": 19,
   "metadata": {},
   "outputs": [
    {
     "data": {
      "text/plain": [
       "<matplotlib.legend.Legend at 0x7f8246eb4950>"
      ]
     },
     "execution_count": 19,
     "metadata": {},
     "output_type": "execute_result"
    },
    {
     "data": {
      "image/png": "[encoded data removed]",
      "text/plain": [
       "<Figure size 640x480 with 1 Axes>"
      ]
     },
     "metadata": {},
     "output_type": "display_data"
    }
   ],
   "source": [
    "fig, ax = plt.subplots(1, 1)\n",
    "plot_curve(x=angles1, y=rigid_E,\n",
    "           relative_x=0, periodic_x=360, relative_y='min',\n",
    "           ax=ax,\n",
    "           xlabel='Torsional angle (degree)',\n",
    "           ylabel='Energy (kcal/mol)')\n",
    "plot_curve(x=angles2, y=relax_E,\n",
    "           relative_x=0, periodic_x=360, relative_y=0,\n",
    "           ax=ax,\n",
    "           xlabel='Torsional angle (degree)',\n",
    "           ylabel='Energy (kcal/mol)')\n",
    "ax.legend(['Rigid', 'Relax'])\n"
   ]
  },
  {
   "cell_type": "code",
   "execution_count": 20,
   "metadata": {},
   "outputs": [
    {
     "data": {
      "application/3dmoljs_load.v0": "<div id=\"3dmolviewer_17441711573396957\"  style=\"position: relative; width: 800px; height: 400px;\">\n        <p id=\"3dmolwarning_17441711573396957\" style=\"background-color:#ffcccc;color:black\">3Dmol.js failed to load for some reason.  Please check your browser console for error messages.<br></p>\n        </div>\n<script>\n\nvar loadScriptAsync = function(uri){\n  return new Promise((resolve, reject) => {\n    //this is to ignore the existence of requirejs amd\n    var savedexports, savedmodule;\n    if (typeof exports !== 'undefined') savedexports = exports;\n    else exports = {}\n    if (typeof module !== 'undefined') savedmodule = module;\n    else module = {}\n\n    var tag = document.createElement('script');\n    tag.src = uri;\n    tag.async = true;\n    tag.onload = () => {\n        exports = savedexports;\n        module = savedmodule;\n        resolve();\n    };\n  var firstScriptTag = document.getElementsByTagName('script')[0];\n  firstScriptTag.parentNode.insertBefore(tag, firstScriptTag);\n});\n};\n\nif(typeof $3Dmolpromise === 'undefined') {\n$3Dmolpromise = null;\n  $3Dmolpromise = loadScriptAsync('https://cdnjs.cloudflare.com/ajax/libs/3Dmol/2.4.2/3Dmol-min.js');\n}\n\nvar viewer_17441711573396957 = null;\nvar warn = document.getElementById(\"3dmolwarning_17441711573396957\");\nif(warn) {\n    warn.parentNode.removeChild(warn);\n}\n$3Dmolpromise.then(function() {\nvar viewergrid_17441711573396957 = null;\nviewergrid_17441711573396957 = $3Dmol.createViewerGrid(document.getElementById(\"3dmolviewer_17441711573396957\"),{rows: 1, cols: 2, control_all: true},{backgroundColor:\"white\"});\nviewer_17441711573396957 = viewergrid_17441711573396957[0][0];\nviewergrid_17441711573396957[0][0].zoomTo();viewergrid_17441711573396957[0][1].zoomTo();\tviewergrid_17441711573396957[0][0].addModelsAsFrames(\"12\\n\\nO     -1.456032   -0.656478   -0.054778\\nC      0.626487    0.642016   -0.299658\\nC     -0.775609    0.545695    0.302921\\nC      1.545277   -0.507576    0.120211\\nH      1.063622    1.604708   -0.008160\\nH      0.539000    0.667884   -1.394340\\nH     -1.367576    1.427616    0.020075\\nH     -0.715350    0.528666    1.394676\\nH      1.724788   -0.490995    1.199725\\nH      2.514643   -0.447985   -0.381165\\nH      1.090203   -1.469531   -0.123868\\nH     -1.578000   -0.649350   -1.009564\\n12\\n\\nO     -1.456032   -0.656478   -0.054778\\nC      0.541606    0.734892   -0.450339\\nC     -0.775609    0.545695    0.302921\\nC      1.538818   -0.402808   -0.219614\\nH      0.980150    1.693079   -0.146379\\nH      0.324350    0.827690   -1.523111\\nH     -1.423938    1.420348    0.151715\\nH     -0.585996    0.460843    1.376558\\nH      1.844296   -0.448731    0.830350\\nH      2.439679   -0.273534   -0.824872\\nH      1.088063   -1.364005   -0.474454\\nH     -1.578000   -0.649350   -1.009564\\n12\\n\\nO     -1.456032   -0.656478   -0.054778\\nC      0.436644    0.833903   -0.583437\\nC     -0.775609    0.545695    0.302921\\nC      1.488923   -0.276733   -0.548421\\nH      0.878201    1.786850   -0.267601\\nH      0.091114    0.986998   -1.614855\\nH     -1.464063    1.402448    0.288200\\nH     -0.457659    0.399395    1.338949\\nH      1.917858   -0.378196    0.453362\\nH      2.307334   -0.073950   -1.243893\\nH      1.041155   -1.236315   -0.814373\\nH     -1.578000   -0.649350   -1.009564\\n12\\n\\nO     -1.456032   -0.656478   -0.054778\\nC      0.313643    0.937121   -0.696363\\nC     -0.775609    0.545695    0.302921\\nC      1.396561   -0.131804   -0.859811\\nH      0.759760    1.884197   -0.369467\\nH     -0.156166    1.142706   -1.667787\\nH     -1.487170    1.374265    0.426874\\nH     -0.332836    0.345519    1.282580\\nH      1.944040   -0.280762    0.076099\\nH      2.120183    0.146882   -1.630074\\nH      0.950394   -1.088945   -1.137011\\nH     -1.578000   -0.649350   -1.009564\\n12\\n\\nO     -1.456032   -0.656478   -0.054778\\nC      0.174998    1.042537   -0.786917\\nC     -0.775609    0.545695    0.302921\\nC      1.263531    0.029156   -1.147723\\nH      0.627131    1.983224   -0.449994\\nH     -0.412679    1.291786   -1.680876\\nH     -1.492809    1.336347    0.565037\\nH     -0.213958    0.300262    1.208549\\nH      1.922333   -0.158327   -0.294096\\nH      1.881868    0.384664   -1.975898\\nH      0.817544   -0.924765   -1.436087\\nH     -1.578000   -0.649350   -1.009564\\n12\\n\\nO     -1.456032   -0.656478   -0.054778\\nC      0.023406    1.148100   -0.853338\\nC     -0.775609    0.545695    0.302921\\nC      1.092422    0.203016   -1.406554\\nH      0.482896    2.082005   -0.507614\\nH     -0.673430    1.431334   -1.653869\\nH     -1.480871    1.289433    0.700000\\nH     -0.103339    0.264506    1.118296\\nH      1.853160   -0.013274   -0.650019\\nH      1.597029    0.634769   -2.274633\\nH      0.645192   -0.746970   -1.705780\\nH     -1.578000   -0.649350   -1.009564\\n12\\n\\nO     -1.456032   -0.656478   -0.054778\\nC     -0.138181    1.251755   -0.894333\\nC     -0.775609    0.545695    0.302921\\nC      0.886565    0.386392   -1.631265\\nH      0.329862    2.178617   -0.541207\\nH     -0.933347    1.558634   -1.587289\\nH     -1.451587    1.234434    0.829137\\nH     -0.003131    0.238947    1.013578\\nH      1.737868    0.151576   -0.984740\\nH      1.271210    0.892327   -2.520466\\nH      0.436693   -0.559020   -1.940841\\nH     -1.578000   -0.649350   -1.009564\\n12\\n\\nO     -1.456032   -0.656478   -0.054778\\nC     -0.306618    1.351485   -0.909103\\nC     -0.775609    0.545695    0.302921\\nC      0.649966    0.575713   -1.817482\\nH      0.171009    2.271178   -0.550117\\nH     -1.187368    1.671210   -1.482434\\nH     -1.405528    1.172423    0.949934\\nH      0.084715    0.224082    0.896434\\nH      1.578700    0.333012   -1.291746\\nH      0.910751    1.152325   -2.708610\\nH      0.196105   -0.364573   -2.136694\\nH     -1.578000   -0.649350   -1.009564\\n12\\n\\nO     -1.456032   -0.656478   -0.054778\\nC     -0.478628    1.445348   -0.897362\\nC     -0.775609    0.545695    0.302921\\nC      0.387230    0.767296   -1.961582\\nH      0.009427    2.357888   -0.534173\\nH     -1.430550    1.766869   -1.341344\\nH     -1.343591    1.104606    1.060039\\nH      0.158490    0.220201    0.769143\\nH      1.378754    0.527503   -1.565061\\nH      0.522670    1.409704   -2.835405\\nH     -0.071889   -0.167415   -2.289528\\nH     -1.578000   -0.649350   -1.009564\\n12\\n\\nO     -1.456032   -0.656478   -0.054778\\nC     -0.650861    1.531517   -0.859338\\nC     -0.775609    0.545695    0.302921\\nC      0.103471    0.957412   -2.060759\\nH     -0.151738    2.437059   -0.493683\\nH     -1.658160    1.843750   -1.166765\\nH     -1.266980    1.032302    1.157310\\nH      0.216757    0.227379    0.634183\\nH      1.141922    0.731264   -1.799365\\nH      0.114519    1.659454   -2.898383\\nH     -0.362074    0.028617   -2.396368\\nH     -1.578000   -0.649350   -1.009564\\n12\\n\\nO     -1.456032   -0.656478   -0.054778\\nC     -0.819966    1.608315   -0.795770\\nC     -0.775609    0.545695    0.302921\\nC     -0.195787    1.142359   -2.113083\\nH     -0.309348    2.507150   -0.429437\\nH     -1.865767    1.900357   -0.962096\\nH     -1.177187    0.956920    1.239853\\nH      0.258382    0.245476    0.494181\\nH      0.872814    0.940329   -1.990098\\nH     -0.305757    1.896713   -2.896317\\nH     -0.668801    0.219709   -2.455133\\nH     -1.578000   -0.649350   -1.009564\\n12\\n\\nO     -1.456032   -0.656478   -0.054778\\nC     -0.982652    1.674248   -0.707897\\nC     -0.775609    0.545695    0.302921\\nC     -0.504720    1.318538   -2.117535\\nH     -0.460338    2.566796   -0.342684\\nH     -2.049331    1.935587   -0.731320\\nH     -1.075960    0.879926    1.306061\\nH      0.282556    0.274140    0.351862\\nH      0.576667    1.150629   -2.133546\\nH     -0.729979    2.116864   -2.829247\\nH     -0.986100    0.402139   -2.464682\\nH     -1.578000   -0.649350   -1.009564\\n12\\n\\nO     -1.456032   -0.656478   -0.054778\\nC     -1.135751    1.728032   -0.597429\\nC     -0.775609    0.545695    0.302921\\nC     -0.817316    1.482520   -2.074029\\nH     -0.601767    2.614837   -0.235113\\nH     -2.205279    1.948755   -0.478928\\nH     -0.965269    0.802819    1.354647\\nH      0.288807    0.312813    0.209996\\nH      0.259247    1.358069   -2.226919\\nH     -1.149888    2.315621   -2.698480\\nH     -1.307795    0.572358   -2.424826\\nH     -1.578000   -0.649350   -1.009564\\n12\\n\\nO     -1.456032   -0.656478   -0.054778\\nC     -1.276283    1.768620   -0.466515\\nC     -0.775609    0.545695    0.302921\\nC     -1.127489    1.631114   -1.983412\\nH     -0.730882    2.650338   -0.108819\\nH     -2.330575    1.939605   -0.209834\\nH     -0.847268    0.727100    1.384664\\nH      0.277014    0.360743    0.071344\\nH     -0.073270    1.558614   -2.268399\\nH     -1.557312    2.489116   -2.506561\\nH     -1.627625    0.727052   -2.336344\\nH     -1.578000   -0.649350   -1.009564\\n12\\n\\nO     -1.456032   -0.656478   -0.054778\\nC     -1.401515    1.795223   -0.317704\\nC     -0.775609    0.545695    0.302921\\nC     -1.429202    1.761427   -1.847448\\nH     -0.845172    2.672607    0.033741\\nH     -2.422781    1.908314    0.070725\\nH     -0.724254    0.654242    1.395529\\nH      0.247406    0.416996   -0.061395\\nH     -0.414411    1.748359   -2.257177\\nH     -1.944321    2.633972   -2.257224\\nH     -1.939364    0.863211   -2.200955\\nH     -1.578000   -0.649350   -1.009564\\n12\\n\\nO     -1.456032   -0.656478   -0.054778\\nC     -1.509007    1.807322   -0.153892\\nC     -0.775609    0.545695    0.302921\\nC     -1.716584    1.870922   -1.668782\\nH     -0.942411    2.681211    0.189793\\nH     -2.480102    1.855492    0.357289\\nH     -0.598622    0.585664    1.387029\\nH      0.200561    0.480478   -0.185638\\nH     -0.757536    1.923611   -2.193474\\nH     -2.303382    2.747370   -1.955323\\nH     -2.236945    0.978184   -2.021297\\nH     -1.578000   -0.649350   -1.009564\\n12\\n\\nO     -1.456032   -0.656478   -0.054778\\nC     -1.596668    1.804681    0.021733\\nC     -0.775609    0.545695    0.302921\\nC     -1.984040    1.957469   -1.450893\\nH     -1.020706    2.675983    0.356298\\nH     -2.501423    1.782167    0.644280\\nH     -0.472817    0.522701    1.359330\\nH      0.137388    0.549954   -0.298966\\nH     -1.095967    2.080960   -2.078529\\nH     -2.627507    2.827103   -1.606735\\nH     -2.514577    1.069733   -1.800865\\nH     -1.578000   -0.649350   -1.009564\\n12\\n\\nO     -1.456032   -0.656478   -0.054778\\nC     -1.662792    1.787354    0.205751\\nC     -0.775609    0.545695    0.302921\\nC     -2.226364    2.019383   -1.198021\\nH     -1.078534    2.657025    0.530016\\nH     -2.486327    1.689766    0.926111\\nH     -0.349287    0.466577    1.312971\\nH      0.059119    0.624069   -0.399173\\nH     -1.423116    2.217342   -1.914578\\nH     -2.910387    2.871618   -1.218243\\nH     -2.766854    1.136077   -1.543950\\nH     -1.578000   -0.649350   -1.009564\\n12\\n\\nO     -1.456032   -0.656478   -0.054778\\nC     -1.706092    1.755676    0.394581\\nC     -0.775609    0.545695    0.302921\\nC     -2.438841    2.055459   -0.915088\\nH     -1.114769    2.624705    0.707566\\nH     -2.435110    1.580088    1.197297\\nH     -0.230437    0.418386    1.248855\\nH     -0.032723    0.701384   -0.484310\\nH     -1.732615    2.330103   -1.704813\\nH     -3.146515    2.880049   -0.797410\\nH     -2.988867    1.175925   -1.255553\\nH     -1.578000   -0.649350   -1.009564\\n12\\n\\nO     -1.456032   -0.656478   -0.054778\\nC     -1.725724    1.710264    0.584549\\nC     -0.775609    0.545695    0.302921\\nC     -2.617334    2.064994   -0.607602\\nH     -1.128706    2.579653    0.885491\\nH     -2.348768    1.455267    1.452561\\nH     -0.118580    0.379065    1.168229\\nH     -0.136352    0.780391   -0.552718\\nH     -2.018442    2.417048   -1.453318\\nH     -3.331296    2.852232   -0.352427\\nH     -3.176294    1.188500   -0.941286\\nH     -1.578000   -0.649350   -1.009564\\n12\\n\\nO     -1.456032   -0.656478   -0.054778\\nC     -1.721307    1.652002    0.771956\\nC     -0.775609    0.545695    0.302921\\nC     -2.758370    2.047804   -0.281546\\nH     -1.120074    2.522745    1.060330\\nH     -2.228982    1.317733    1.686932\\nH     -0.015893    0.349380    1.072663\\nH     -0.249749    0.859554   -0.603067\\nH     -2.275032    2.476485   -1.164986\\nH     -3.461134    2.788709    0.108046\\nH     -3.325488    1.173557   -0.607267\\nH     -1.578000   -0.649350   -1.009564\\n12\\n\\nO     -1.456032   -0.656478   -0.054778\\nC     -1.692926    1.582024    0.953155\\nC     -0.775609    0.545695    0.302921\\nC     -2.859203    2.004222    0.056732\\nH     -1.089040    2.455089    1.228678\\nH     -2.078082    1.170162    1.895851\\nH      0.075625    0.329908    0.964017\\nH     -0.370708    0.937332   -0.634376\\nH     -2.497391    2.507257   -0.845431\\nH     -3.533501    2.690715    0.575046\\nH     -3.433545    1.131389   -0.259998\\nH     -1.578000   -0.649350   -1.009564\\n12\\n\\nO     -1.456032   -0.656478   -0.054778\\nC     -1.641135    1.501692    1.124619\\nC     -0.775609    0.545695    0.302921\\nC     -2.917871    1.935097    0.400649\\nH     -1.036209    2.378002    1.387259\\nH     -1.899007    1.015427    2.075250\\nH      0.154192    0.321029    0.844406\\nH     -0.496874    1.012211   -0.646036\\nH     -2.681191    2.508765   -0.500871\\nH     -3.546989    2.560159    1.039482\\nH     -3.498361    1.062815    0.093764\\nH     -1.578000   -0.649350   -1.009564\\n12\\n\\nO     -1.456032   -0.656478   -0.054778\\nC     -1.566940    1.412570    1.283010\\nC     -0.775609    0.545695    0.302921\\nC     -2.933231    1.841775    0.743510\\nH     -0.962609    2.292985    1.532986\\nH     -1.695242    0.856541    2.221637\\nH      0.218281    0.322915    0.716157\\nH     -0.625792    1.082733   -0.637821\\nH     -2.822855    2.480980   -0.138013\\nH     -3.501334    2.399581    1.492316\\nH     -3.518675    0.969170    0.447131\\nH     -1.578000   -0.649350   -1.009564\\n12\\n\\nO     -1.456032   -0.656478   -0.054778\\nC     -1.471787    1.316393    1.425246\\nC     -0.775609    0.545695    0.302921\\nC     -2.904985    1.726072    1.078642\\nH     -0.869672    2.201691    1.663024\\nH     -1.470752    0.696594    2.332164\\nH      0.266642    0.335530    0.581767\\nH     -0.754952    1.147526   -0.609889\\nH     -2.919625    2.424443    0.236079\\nH     -3.397427    2.212107    1.924734\\nH     -3.494091    0.852277    0.793227\\nH     -1.578000   -0.649350   -1.009564\\n12\\n\\nO     -1.456032   -0.656478   -0.054778\\nC     -1.357527    1.215032    1.548558\\nC     -0.775609    0.545695    0.302921\\nC     -2.833683    1.590239    1.399523\\nH     -0.759208    2.105899    1.774840\\nH     -1.229908    0.538701    2.404679\\nH      0.298335    0.358628    0.443852\\nH     -0.881841    1.205329   -0.562785\\nH     -2.969619    2.340254    0.614126\\nH     -3.237288    2.001385    2.328318\\nH     -3.425089    0.714412    1.125315\\nH     -1.578000   -0.649350   -1.009564\\n12\\n\\nO     -1.456032   -0.656478   -0.054778\\nC     -1.226385    1.110460    1.650547\\nC     -0.775609    0.545695    0.302921\\nC     -2.720712    1.436921    1.699906\\nH     -0.633366    2.007472    1.866259\\nH     -0.977396    0.385935    2.437770\\nH      0.312743    0.391759    0.305095\\nH     -1.003989    1.255017   -0.497426\\nH     -2.971862    2.230051    0.988768\\nH     -3.024036    1.771518    2.695214\\nH     -3.313010    0.558256    1.436931\\nH     -1.578000   -0.649350   -1.009564\\n12\\n\\nO     -1.456032   -0.656478   -0.054778\\nC     -1.080912    1.004712    1.729226\\nC     -0.775609    0.545695    0.302921\\nC     -2.568271    1.269102    1.973945\\nH     -0.494596    1.908326    1.935501\\nH     -0.718132    0.241269    2.430794\\nH      0.309586    0.434279    0.168199\\nH     -1.119018    1.295622   -0.415083\\nH     -2.926312    2.095980    1.352713\\nH     -2.761820    1.526979    3.018280\\nH     -3.160037    0.386851    1.722010\\nH     -1.578000   -0.649350   -1.009564\\n12\\n\\nO     -1.456032   -0.656478   -0.054778\\nC     -0.923940    0.899848    1.783065\\nC     -0.775609    0.545695    0.302921\\nC     -2.379328    1.090048    2.216306\\nH     -0.345599    1.810392    1.981219\\nH     -0.457163    0.107519    2.383886\\nH      0.288924    0.485360    0.035826\\nH     -1.224689    1.326354   -0.317360\\nH     -2.833854    1.940650    1.698878\\nH     -2.455745    1.272529    3.291229\\nH     -2.969146    0.203532    1.975003\\nH     -1.578000   -0.649350   -1.009564\\n12\\n\\nO     -1.456032   -0.656478   -0.054778\\nC     -0.758525    0.797907    1.811016\\nC     -0.775609    0.545695    0.302921\\nC     -2.157559    0.903244    2.422272\\nH     -0.189274    1.715574    2.002522\\nH     -0.199566   -0.012712    2.297959\\nH      0.251161    0.544007   -0.089446\\nH     -1.318946    1.346616   -0.206158\\nH     -2.696288    1.767085    2.020526\\nH     -2.111768    1.013118    3.508748\\nH     -2.744055    0.011867    2.190986\\nH     -1.578000   -0.649350   -1.009564\\n12\\n\\nO     -1.456032   -0.656478   -0.054778\\nC     -0.587886    0.700874    1.812534\\nC     -0.775609    0.545695    0.302921\\nC     -1.907282    0.712327    2.587833\\nH     -0.028665    1.625720    1.998997\\nH      0.049642   -0.117084    2.174687\\nH      0.197031    0.609080   -0.205178\\nH     -1.399953    1.356012   -0.083642\\nH     -2.516293    1.578662    2.311395\\nH     -1.736585    0.753798    3.666602\\nH     -2.489142   -0.184414    2.365755\\nH     -1.578000   -0.649350   -1.009564\\n12\\n\\nO     -1.456032   -0.656478   -0.054778\\nC     -0.415344    0.610639    1.787591\\nC     -0.775609    0.545695    0.302921\\nC     -1.633367    0.521012    2.709769\\nH      0.133102    1.542577    1.970711\\nH      0.285613   -0.203565    2.016467\\nH      0.127588    0.679312   -0.309119\\nH     -1.466135    1.354360    0.047804\\nH     -2.297371    1.379050    2.565824\\nH     -1.337496    0.499614    3.761720\\nH     -2.209371   -0.381489    2.495909\\nH     -1.578000   -0.649350   -1.009564\\n12\\n\\nO     -1.456032   -0.656478   -0.054778\\nC     -0.244258    0.528956    1.736671\\nC     -0.775609    0.545695    0.302921\\nC     -1.341147    0.333023    2.785704\\nH      0.292879    1.467764    1.918215\\nH      0.503753   -0.270471    1.826380\\nH      0.044183    0.753335   -0.399246\\nH     -1.516204    1.341691    0.185620\\nH     -2.043783    1.172133    2.778861\\nH     -0.922271    0.255515    3.792250\\nH     -1.910186   -0.575524    2.578914\\nH     -1.578000   -0.649350   -1.009564\\n12\\n\\nO     -1.456032   -0.656478   -0.054778\\nC     -0.077958    0.457416    1.660765\\nC     -0.775609    0.545695    0.302921\\nC     -1.036309    0.152019    2.814162\\nH      0.447555    1.402737    1.842531\\nH      0.699816   -0.316502    1.608125\\nH     -0.051560    0.829709   -0.473803\\nH     -1.549183    1.318254    0.327126\\nH     -1.760466    0.961938    2.946360\\nH     -0.498991    0.026252    3.757598\\nH     -1.597411   -0.762740    2.613154\\nH     -1.578000   -0.649350   -1.009564\\n12\\n\\nO     -1.456032   -0.656478   -0.054778\\nC      0.080320    0.397411    1.561352\\nC     -0.775609    0.545695    0.302921\\nC     -0.724785   -0.018478    2.794587\\nH      0.594122    1.348762    1.745132\\nH      0.869987   -0.340760    1.365952\\nH     -0.157778    0.906948   -0.531341\\nH     -1.564433    1.284503    0.469565\\nH     -1.452933    0.752558    3.065059\\nH     -0.075896   -0.183714    3.658438\\nH     -1.277134   -0.939496    2.597964\\nH     -1.578000   -0.649350   -1.009564\\n12\\n\\nO     -1.456032   -0.656478   -0.054778\\nC      0.227495    0.350110    1.440366\\nC     -0.775609    0.545695    0.302921\\nC     -0.412641   -0.175147    2.727362\\nH      0.729724    1.306889    1.627914\\nH      1.010952   -0.342774    1.104572\\nH     -0.272403    0.983547   -0.570738\\nH     -1.561655    1.241095    0.610167\\nH     -1.127170    0.548067    3.132650\\nH      0.338781   -0.370294    3.496701\\nH     -0.955589   -1.102349    2.533638\\nH     -1.578000   -0.649350   -1.009564\\n12\\n\\nO     -1.456032   -0.656478   -0.054778\\nC      0.360701    0.316433    1.300162\\nC     -0.775609    0.545695    0.302921\\nC     -0.105951   -0.314941    2.613795\\nH      0.851724    1.277933    1.493158\\nH      1.119969   -0.322504    0.829074\\nH     -0.393205    1.058017   -0.591229\\nH     -1.540904    1.188877    0.746194\\nH     -0.789519    0.352446    3.147816\\nH      0.736968   -0.529859    3.275534\\nH     -0.639033   -1.248130    2.421429\\nH     -1.578000   -0.649350   -1.009564\\n12\\n\\nO     -1.456032   -0.656478   -0.054778\\nC      0.477347    0.297035    1.143469\\nC     -0.775609    0.545695    0.302921\\nC      0.189316   -0.435138    2.456096\\nH      0.957746    1.262459    1.343488\\nH      1.194915   -0.280345    0.544820\\nH     -0.517831    1.128908   -0.592414\\nH     -1.502584    1.128863    0.874998\\nH     -0.446550    0.169502    3.110263\\nH      1.110914   -0.659301    2.999242\\nH     -0.333629   -1.374003    2.263521\\nH     -1.578000   -0.649350   -1.009564\\n12\\n\\nO     -1.456032   -0.656478   -0.054778\\nC      0.575162    0.292294    0.973337\\nC     -0.775609    0.545695    0.302921\\nC      0.467412   -0.533398    2.257334\\nH      1.045728    1.260766    1.181816\\nH      1.234332   -0.217117    0.257343\\nH     -0.643857    1.194839   -0.574270\\nH     -1.447441    1.062222    0.994074\\nH     -0.104940    0.002795    3.020720\\nH      1.453341   -0.756102    2.673203\\nH     -0.045320   -1.477516    2.062987\\nH     -1.578000   -0.649350   -1.009564\\n12\\n\\nO     -1.456032   -0.656478   -0.054778\\nC      0.652243    0.302302    0.793076\\nC     -0.775609    0.545695    0.302921\\nC      0.722925   -0.607810    2.021379\\nH      1.113956    1.272889    1.011289\\nH      1.237452   -0.134052   -0.027763\\nH     -0.768829    1.254528   -0.537151\\nH     -1.376547    0.990251    1.101102\\nH      0.228662   -0.144429    2.880931\\nH      1.757584   -0.818378    2.303763\\nH      0.220281   -1.556656    1.823731\\nH     -1.578000   -0.649350   -1.009564\\n12\\n\\nO     -1.456032   -0.656478   -0.054778\\nC      0.707088    0.326865    0.606197\\nC     -0.775609    0.545695    0.302921\\nC      0.950881   -0.656924    1.752822\\nH      1.161102    1.298591    0.835226\\nH      1.204215   -0.032766   -0.304947\\nH     -0.890315    1.306813   -0.481779\\nH     -1.291284    0.914351    1.194000\\nH      0.547763   -0.269304    2.693618\\nH      2.017722   -0.844915    1.898113\\nH      0.458005   -1.609881    1.550409\\nH     -1.578000   -0.649350   -1.009564\\n12\\n\\nO     -1.456032   -0.656478   -0.054778\\nC      0.738630    0.365504    0.416335\\nC     -0.775609    0.545695    0.302921\\nC      1.146843   -0.679786    1.456891\\nH      1.186250    1.337371    0.657054\\nH      1.135267    0.084770   -0.568814\\nH     -1.005950    1.350675   -0.409231\\nH     -1.193310    0.835999    1.270960\\nH      0.846153   -0.369401    2.462424\\nH      2.228691   -0.835199    1.464147\\nH      0.663225   -1.636156    1.248341\\nH     -1.578000   -0.649350   -1.009564\\n12\\n\\nO     -1.456032   -0.656478   -0.054778\\nC      0.746256    0.417468    0.227187\\nC     -0.775609    0.545695    0.302921\\nC      1.306998   -0.675949    1.139347\\nH      1.188908    1.388476    0.480242\\nH      1.031951    0.216268   -0.814230\\nH     -1.113484    1.385263   -0.320920\\nH     -1.084532    0.756721    1.330484\\nH      1.118024   -0.442771    2.191852\\nH      2.386384   -0.789417    1.010314\\nH      0.831947   -1.634970    0.923407\\nH     -1.578000   -0.649350   -1.009564\\n12\\n\\nO     -1.456032   -0.656478   -0.054778\\nC      0.729818    0.481744    0.042434\\nC     -0.775609    0.545695    0.302921\\nC      1.428228   -0.645489    0.806369\\nH      1.169027    1.450910    0.308230\\nH      0.896278    0.359169   -1.036416\\nH     -1.210824    1.409901   -0.218565\\nH     -0.967068    0.678059    1.371412\\nH      1.358083   -0.487986    1.887166\\nH      2.487734   -0.708462    0.545445\\nH      0.960887   -1.606345    0.581931\\nH     -1.578000   -0.649350   -1.009564\\n12\\n\\nO     -1.456032   -0.656478   -0.054778\\nC      0.689634    0.557082   -0.134328\\nC     -0.775609    0.545695    0.302921\\nC      1.508173   -0.588998    0.464438\\nH      1.126992    1.523458    0.144366\\nH      0.730888    0.510690   -1.231049\\nH     -1.296074    1.424111   -0.104158\\nH     -0.843204    0.601544    1.392949\\nH      1.561658   -0.504165    1.554297\\nH      2.530766   -0.593908    0.078590\\nH      1.047534   -1.550838    0.230560\\nH     -1.578000   -0.649350   -1.009564\\n\",\"xyz\");\n\tviewergrid_17441711573396957[0][0].setStyle({\"stick\": {\"radius\": 0.05, \"color\": \"#f2f2f2\"}, \"sphere\": {\"scale\": 0.25}});\n\tviewergrid_17441711573396957[0][0].animate({\"loop\": \"forward\", \"reps\": 0, \"step\": 1, \"interval\": 120});\n\tviewergrid_17441711573396957[0][0].setHoverable({},true,\"function(atom,viewer,event,container) {\\n            if(!atom.label) {\\n            atom.label = viewer.addLabel(\\n                atom.atom+\\\":\\\"+atom.index,\\n                {\\n                    position: atom,\\n                    backgroundColor: 'black',\\n                    fontColor: 'white',\\n                    alignment: 'center',\\n                    showBackground: true,\\n                    backgroundOpacity: 0.2\\n                }\\n            );\\n        }}\",\"function(atom,viewer) {\\n            if(atom.label) {\\n            viewer.removeLabel(atom.label);\\n            delete atom.label;\\n            }\\n        }\");\n\tviewergrid_17441711573396957[0][1].setHoverable({},true,\"function(atom,viewer,event,container) {\\n            if(!atom.label) {\\n            atom.label = viewer.addLabel(\\n                atom.atom+\\\":\\\"+atom.index,\\n                {\\n                    position: atom,\\n                    backgroundColor: 'black',\\n                    fontColor: 'white',\\n                    alignment: 'center',\\n                    showBackground: true,\\n                    backgroundOpacity: 0.2\\n                }\\n            );\\n        }}\",\"function(atom,viewer) {\\n            if(atom.label) {\\n            viewer.removeLabel(atom.label);\\n            delete atom.label;\\n            }\\n        }\");\n\tviewergrid_17441711573396957[0][0].zoomTo();\n\tviewergrid_17441711573396957[0][1].addModelsAsFrames(\"12\\n\\nO     -1.430607   -0.643928   -0.065245\\nC      0.614629    0.632253   -0.310563\\nC     -0.763861    0.546265    0.331805\\nC      1.528625   -0.503959    0.125286\\nH      1.078230    1.589740   -0.048792\\nH      0.515190    0.597806   -1.401663\\nH     -1.380179    1.401181    0.036810\\nH     -0.685807    0.545485    1.423549\\nH      1.667038   -0.500240    1.210977\\nH      2.512567   -0.397385   -0.342589\\nH      1.121131   -1.476953   -0.166516\\nH     -1.565503   -0.595595   -1.026984\\n12\\n\\nO     -1.433551   -0.644110   -0.065775\\nC      0.530800    0.727199   -0.457217\\nC     -0.760833    0.543563    0.329679\\nC      1.522704   -0.400812   -0.213531\\nH      0.992580    1.681420   -0.180334\\nH      0.306047    0.765792   -1.529578\\nH     -1.433967    1.389638    0.160922\\nH     -0.559140    0.480576    1.403609\\nH      1.798447   -0.456556    0.844340\\nH      2.435640   -0.232263   -0.793656\\nH      1.107992   -1.368377   -0.512643\\nH     -1.569330   -0.598430   -1.027382\\n12\\n\\nO     -1.440770   -0.640191   -0.062087\\nC      0.425603    0.825170   -0.592215\\nC     -0.755140    0.541432    0.328809\\nC      1.475318   -0.275470   -0.540757\\nH      0.886310    1.777831   -0.308485\\nH      0.073356    0.921103   -1.625771\\nH     -1.467100    1.372171    0.296637\\nH     -0.424981    0.418744    1.364970\\nH      1.866095   -0.396049    0.474652\\nH      2.313632   -0.028286   -1.199781\\nH      1.062477   -1.235251   -0.866940\\nH     -1.584932   -0.596936   -1.022522\\n12\\n\\nO     -1.446493   -0.638885   -0.060216\\nC      0.303094    0.928634   -0.704472\\nC     -0.751673    0.539482    0.325162\\nC      1.385826   -0.130878   -0.849937\\nH      0.763837    1.878280   -0.410647\\nH     -0.170854    1.077961   -1.681524\\nH     -1.486705    1.343679    0.429679\\nH     -0.299286    0.365232    1.306430\\nH      1.897950   -0.299908    0.102466\\nH      2.131689    0.190250   -1.583943\\nH      0.967782   -1.083662   -1.189757\\nH     -1.596399   -0.601138   -1.019624\\n12\\n\\nO     -1.452886   -0.638229   -0.056806\\nC      0.164174    1.034087   -0.794893\\nC     -0.747980    0.536631    0.321308\\nC      1.256459    0.031278   -1.136856\\nH      0.625426    1.980315   -0.491189\\nH     -0.426597    1.227278   -1.697590\\nH     -1.488130    1.305022    0.565770\\nH     -0.177200    0.316706    1.229041\\nH      1.883854   -0.176414   -0.264101\\nH      1.898643    0.428606   -1.929344\\nH      0.833534   -0.914860   -1.489243\\nH     -1.610979   -0.605668   -1.015524\\n12\\n\\nO     -1.460874   -0.636112   -0.054825\\nC      0.013686    1.139321   -0.859918\\nC     -0.745710    0.535317    0.316613\\nC      1.089320    0.205086   -1.394766\\nH      0.477784    2.080771   -0.546394\\nH     -0.685316    1.368311   -1.672606\\nH     -1.471957    1.259726    0.698114\\nH     -0.065946    0.276992    1.134764\\nH      1.826965   -0.025857   -0.619293\\nH      1.614024    0.674916   -2.232751\\nH      0.660607   -0.736521   -1.752058\\nH     -1.625756   -0.609163   -1.011810\\n12\\n\\nO     -1.475400   -0.629967   -0.045010\\nC     -0.150757    1.239881   -0.904885\\nC     -0.741122    0.533948    0.311366\\nC      0.891403    0.389614   -1.617546\\nH      0.311064    2.181204   -0.587499\\nH     -0.948743    1.483971   -1.615863\\nH     -1.427241    1.209392    0.831798\\nH      0.042900    0.241823    1.016855\\nH      1.716989    0.137594   -0.944110\\nH      1.305166    0.936832   -2.470611\\nH      0.458859   -0.542371   -1.993969\\nH     -1.656807   -0.608390   -0.999371\\n12\\n\\nO     -1.486811   -0.627524   -0.032634\\nC     -0.323016    1.336180   -0.922591\\nC     -0.737684    0.532141    0.305736\\nC      0.663160    0.582132   -1.803465\\nH      0.135258    2.277527   -0.599369\\nH     -1.207946    1.584816   -1.519378\\nH     -1.365766    1.150196    0.955157\\nH      0.137043    0.218951    0.884375\\nH      1.568663    0.325151   -1.244574\\nH      0.956158    1.202063   -2.656830\\nH      0.226845   -0.342327   -2.193816\\nH     -1.683812   -0.612583   -0.983852\\n12\\n\\nO     -1.498159   -0.625088   -0.016894\\nC     -0.500245    1.426223   -0.913617\\nC     -0.734363    0.531326    0.299539\\nC      0.409838    0.777515   -1.947471\\nH     -0.046795    2.367743   -0.583718\\nH     -1.458154    1.666008   -1.388995\\nH     -1.284389    1.085970    1.066192\\nH      0.214950    0.206449    0.737032\\nH      1.382834    0.530426   -1.511237\\nH      0.578120    1.463488   -2.783821\\nH     -0.028720   -0.140674   -2.349781\\nH     -1.712645   -0.617521   -0.963925\\n12\\n\\nO     -1.496777   -0.628105   -0.000634\\nC     -0.675195    1.510185   -0.875650\\nC     -0.732696    0.533437    0.294979\\nC      0.129744    0.969853   -2.049834\\nH     -0.220015    2.447664   -0.538069\\nH     -1.690860    1.736756   -1.219898\\nH     -1.198978    1.019260    1.158183\\nH      0.272413    0.217153    0.591036\\nH      1.153828    0.731402   -1.744816\\nH      0.179798    1.718410   -2.847034\\nH     -0.322874    0.065996   -2.467653\\nH     -1.721171   -0.633390   -0.945198\\n12\\n\\nO     -1.494717   -0.631559    0.017392\\nC     -0.850700    1.583284   -0.814126\\nC     -0.731708    0.536317    0.289886\\nC     -0.162783    1.158311   -2.103978\\nH     -0.398976    2.519843   -0.467478\\nH     -1.908581    1.779204   -1.026285\\nH     -1.097345    0.951089    1.234359\\nH      0.312046    0.238628    0.436506\\nH      0.896023    0.942732   -1.930375\\nH     -0.226972    1.960438   -2.845281\\nH     -0.627682    0.267434   -2.535763\\nH     -1.729665   -0.648527   -0.924177\\n12\\n\\nO     -1.493742   -0.633722    0.034681\\nC     -1.016741    1.645105   -0.725246\\nC     -0.728220    0.538005    0.284296\\nC     -0.467888    1.338096   -2.111497\\nH     -0.563387    2.577374   -0.369989\\nH     -2.097694    1.806547   -0.800846\\nH     -0.977722    0.881054    1.293535\\nH      0.332159    0.264882    0.274689\\nH      0.611676    1.160784   -2.075079\\nH     -0.649806    2.183594   -2.782486\\nH     -0.945865    0.456927   -2.549268\\nH     -1.742267   -0.659915   -0.903201\\n12\\n\\nO     -1.472338   -0.642252    0.036453\\nC     -1.169939    1.698663   -0.612091\\nC     -0.730891    0.544283    0.283634\\nC     -0.784947    1.499839   -2.071685\\nH     -0.705021    2.623704   -0.251634\\nH     -2.256517    1.824025   -0.548692\\nH     -0.882633    0.810453    1.334119\\nH      0.331979    0.322260    0.144379\\nH      0.292976    1.340998   -2.175168\\nH     -1.053809    2.387002   -2.654255\\nH     -1.303327    0.643729   -2.513675\\nH     -1.710184   -0.677012   -0.903888\\n12\\n\\nO     -1.456348   -0.647437    0.032710\\nC     -1.307833    1.739470   -0.477726\\nC     -0.732445    0.548469    0.282102\\nC     -1.100548    1.646086   -1.983229\\nH     -0.829033    2.656254   -0.115101\\nH     -2.382347    1.822052   -0.276477\\nH     -0.776318    0.738664    1.359346\\nH      0.315639    0.380797    0.014020\\nH     -0.040264    1.525590   -2.226908\\nH     -1.457421    2.560361   -2.468165\\nH     -1.651715    0.806052   -2.415647\\nH     -1.684699   -0.684191   -0.910220\\n12\\n\\nO     -1.445723   -0.649392    0.028370\\nC     -1.432049    1.765329   -0.325056\\nC     -0.730924    0.552772    0.277655\\nC     -1.405598    1.774272   -1.846901\\nH     -0.941922    2.676202    0.037820\\nH     -2.476457    1.791564    0.007480\\nH     -0.656657    0.669779    1.363120\\nH      0.283831    0.443427   -0.119054\\nH     -0.379672    1.708180   -2.222962\\nH     -1.845167    2.703376   -2.223064\\nH     -1.980942    0.943303   -2.265566\\nH     -1.671976   -0.684593   -0.915170\\n12\\n\\nO     -1.436483   -0.648954    0.010670\\nC     -1.533206    1.780151   -0.158344\\nC     -0.734714    0.556787    0.277914\\nC     -1.699374    1.877032   -1.668036\\nH     -1.025423    2.683024    0.198877\\nH     -2.528243    1.753340    0.300441\\nH     -0.553043    0.598233    1.356339\\nH      0.237391    0.516057   -0.224250\\nH     -0.727457    1.870522   -2.171495\\nH     -2.210230    2.809378   -1.929415\\nH     -2.298100    1.050032   -2.060764\\nH     -1.644786   -0.675480   -0.937654\\n12\\n\\nO     -1.434898   -0.645763   -0.001398\\nC     -1.615587    1.779366    0.020004\\nC     -0.737712    0.560286    0.276315\\nC     -1.969295    1.958211   -1.449709\\nH     -1.093171    2.676396    0.370518\\nH     -2.545948    1.690207    0.592910\\nH     -0.441179    0.533762    1.329560\\nH      0.173746    0.588267   -0.329196\\nH     -1.066401    2.023178   -2.065132\\nH     -2.541576    2.881132   -1.588761\\nH     -2.580583    1.129384   -1.818516\\nH     -1.633353   -0.663807   -0.952363\\n12\\n\\nO     -1.437442   -0.640643   -0.009810\\nC     -1.676880    1.764225    0.205706\\nC     -0.740651    0.564075    0.274519\\nC     -2.212202    2.014670   -1.196664\\nH     -1.142313    2.657134    0.548387\\nH     -2.527467    1.605938    0.878818\\nH     -0.328361    0.475821    1.284412\\nH      0.096760    0.664361   -0.423679\\nH     -1.393303    2.159124   -1.908816\\nH     -2.833537    2.916021   -1.206752\\nH     -2.829049    1.180403   -1.544021\\nH     -1.629738   -0.652051   -0.962634\\n12\\n\\nO     -1.441210   -0.636166   -0.015567\\nC     -1.715559    1.734535    0.395830\\nC     -0.744662    0.567656    0.272959\\nC     -2.424198    2.046345   -0.914413\\nH     -1.170439    2.624598    0.728967\\nH     -2.473356    1.504078    1.153611\\nH     -0.219022    0.425130    1.222274\\nH      0.006051    0.743633   -0.504545\\nH     -1.702574    2.274873   -1.705180\\nH     -3.078957    2.914948   -0.790992\\nH     -3.042354    1.205532   -1.243911\\nH     -1.629330   -0.643523   -0.969329\\n12\\n\\nO     -1.444628   -0.633555   -0.015918\\nC     -1.731197    1.690983    0.586198\\nC     -0.748822    0.571008    0.271649\\nC     -2.601801    2.053115   -0.608411\\nH     -1.177052    2.579071    0.909721\\nH     -2.384767    1.385517    1.411532\\nH     -0.112211    0.384882    1.142212\\nH     -0.099012    0.824193   -0.572690\\nH     -1.988407    2.366340   -1.459200\\nH     -3.271183    2.879782   -0.350184\\nH     -3.220235    1.206657   -0.922697\\nH     -1.631824   -0.640713   -0.970152\\n12\\n\\nO     -1.444965   -0.632805   -0.014424\\nC     -1.724860    1.633163    0.773858\\nC     -0.753097    0.574531    0.271340\\nC     -2.741538    2.034889   -0.284994\\nH     -1.164404    2.519795    1.089702\\nH     -2.266067    1.251150    1.647214\\nH     -0.013107    0.355339    1.047369\\nH     -0.215778    0.907187   -0.623350\\nH     -2.243234    2.427809   -1.177027\\nH     -3.404224    2.814080    0.104841\\nH     -3.362425    1.184613   -0.584107\\nH     -1.631971   -0.641916   -0.968782\\n12\\n\\nO     -1.442678   -0.634182   -0.011402\\nC     -1.695033    1.563213    0.954932\\nC     -0.757344    0.577671    0.271714\\nC     -2.841880    1.991176    0.050532\\nH     -1.129175    2.449295    1.263223\\nH     -2.116811    1.105249    1.857068\\nH      0.078034    0.338839    0.937085\\nH     -0.344187    0.989390   -0.655450\\nH     -2.464823    2.459127   -0.864423\\nH     -3.477970    2.717661    0.566017\\nH     -3.466400    1.137710   -0.231677\\nH     -1.630145   -0.647183   -0.965367\\n12\\n\\nO     -1.444124   -0.634243   -0.011135\\nC     -1.640546    1.485180    1.124911\\nC     -0.761784    0.578722    0.274565\\nC     -2.900742    1.921441    0.391720\\nH     -1.069520    2.372073    1.420712\\nH     -1.936164    0.957703    2.039140\\nH      0.152362    0.325946    0.820251\\nH     -0.473156    1.065670   -0.663140\\nH     -2.651384    2.468212   -0.523237\\nH     -3.498515    2.580943    1.028733\\nH     -3.522071    1.062228    0.120448\\nH     -1.627441   -0.648808   -0.965869\\n12\\n\\nO     -1.438666   -0.637096   -0.009566\\nC     -1.566120    1.394855    1.283314\\nC     -0.765214    0.580849    0.276547\\nC     -2.916435    1.829381    0.731534\\nH     -0.992248    2.282107    1.572564\\nH     -1.736513    0.797718    2.186628\\nH      0.216878    0.331858    0.689972\\nH     -0.612300    1.140781   -0.652625\\nH     -2.793136    2.438412   -0.169652\\nH     -3.452807    2.427813    1.474690\\nH     -3.540827    0.966178    0.480481\\nH     -1.620650   -0.653738   -0.964394\\n12\\n\\nO     -1.435226   -0.639326   -0.009430\\nC     -1.470055    1.298808    1.424751\\nC     -0.768574    0.581660    0.279328\\nC     -2.889152    1.714510    1.063983\\nH     -0.893833    2.187492    1.704729\\nH     -1.513633    0.639448    2.299313\\nH      0.263722    0.345792    0.554762\\nH     -0.749480    1.207280   -0.619919\\nH     -2.892473    2.383422    0.197531\\nH     -3.351671    2.244364    1.902919\\nH     -3.512047    0.845346    0.830487\\nH     -1.613869   -0.656296   -0.964882\\n12\\n\\nO     -1.431884   -0.641594   -0.009766\\nC     -1.354992    1.197722    1.547102\\nC     -0.771760    0.582016    0.282620\\nC     -2.819086    1.580145    1.382391\\nH     -0.777747    2.088738    1.817376\\nH     -1.274457    0.483140    2.374420\\nH      0.292931    0.369287    0.417271\\nH     -0.882434    1.264685   -0.567041\\nH     -2.945937    2.302134    0.569305\\nH     -3.195483    2.037017    2.303194\\nH     -3.438021    0.704140    1.164235\\nH     -1.606599   -0.657685   -0.966103\\n12\\n\\nO     -1.427696   -0.643832   -0.010943\\nC     -1.223523    1.093521    1.647780\\nC     -0.774747    0.582534    0.285404\\nC     -2.708148    1.427872    1.680972\\nH     -0.646579    1.987422    1.908820\\nH     -1.022663    0.331741    2.410010\\nH      0.304726    0.404358    0.279184\\nH     -1.010409    1.313151   -0.496072\\nH     -2.953467    2.193043    0.937552\\nH     -2.986181    1.812032    2.667504\\nH     -3.320476    0.543460    1.479440\\nH     -1.598489   -0.658046   -0.968009\\n12\\n\\nO     -1.424256   -0.646598   -0.012039\\nC     -1.077814    0.988380    1.725028\\nC     -0.777927    0.582118    0.288509\\nC     -2.557557    1.262321    1.953218\\nH     -0.501882    1.885555    1.976852\\nH     -0.764532    0.188157    2.405563\\nH      0.298197    0.446685    0.144844\\nH     -1.128998    1.350220   -0.408988\\nH     -2.912105    2.065000    1.298755\\nH     -2.728765    1.569308    2.989848\\nH     -3.162321    0.370356    1.762448\\nH     -1.591193   -0.658515   -0.969877\\n12\\n\\nO     -1.419379   -0.649210   -0.014599\\nC     -0.920780    0.884005    1.777404\\nC     -0.781631    0.582655    0.291226\\nC     -2.370741    1.084448    2.194949\\nH     -0.347667    1.785392    2.020680\\nH     -0.503578    0.054955    2.360660\\nH      0.273988    0.500037    0.015335\\nH     -1.238808    1.377758   -0.307362\\nH     -2.826326    1.911947    1.641768\\nH     -2.426711    1.318864    3.262660\\nH     -2.965236    0.182937    2.016850\\nH     -1.583311   -0.657690   -0.972939\\n12\\n\\nO     -1.416101   -0.651419   -0.017744\\nC     -0.755624    0.782255    1.803872\\nC     -0.785309    0.582369    0.294619\\nC     -2.151022    0.899795    2.400434\\nH     -0.185316    1.687433    2.039531\\nH     -0.246936   -0.065933    2.276582\\nH      0.233049    0.558214   -0.105210\\nH     -1.334775    1.394386   -0.193050\\nH     -2.694293    1.742820    1.961708\\nH     -2.086698    1.063179    3.480907\\nH     -2.734533   -0.010729    2.232044\\nH     -1.576902   -0.655798   -0.976687\\n12\\n\\nO     -1.412680   -0.653352   -0.021719\\nC     -0.585579    0.685648    1.803986\\nC     -0.788914    0.581887    0.298469\\nC     -1.902984    0.710434    2.566042\\nH     -0.019786    1.595467    2.032532\\nH      0.001940   -0.170627    2.155174\\nH      0.176641    0.622746   -0.215227\\nH     -1.416964    1.400299   -0.068181\\nH     -2.521086    1.557331    2.251234\\nH     -1.715564    0.808135    3.640069\\nH     -2.473280   -0.209959    2.406384\\nH     -1.570518   -0.653168   -0.981200\\n12\\n\\nO     -1.409234   -0.655385   -0.026096\\nC     -0.413889    0.596086    1.777727\\nC     -0.792414    0.581031    0.302815\\nC     -1.631250    0.520659    2.688515\\nH      0.146408    1.510944    1.999822\\nH      0.237883   -0.257340    1.998566\\nH      0.105419    0.692440   -0.313403\\nH     -1.484919    1.394900    0.065360\\nH     -2.308285    1.361458    2.506679\\nH     -1.319964    0.556303    3.737311\\nH     -2.187634   -0.409099    2.533871\\nH     -1.564545   -0.650620   -0.985913\\n12\\n\\nO     -1.407004   -0.657408   -0.030162\\nC     -0.243960    0.515137    1.725571\\nC     -0.794901    0.579116    0.307552\\nC     -1.341075    0.334776    2.765060\\nH      0.310279    1.434913    1.942317\\nH      0.455406   -0.324612    1.810333\\nH      0.021677    0.764034   -0.398022\\nH     -1.535151    1.378607    0.204487\\nH     -2.058086    1.160984    2.723925\\nH     -0.908078    0.311017    3.770116\\nH     -1.886120   -0.601848    2.611157\\nH     -1.559665   -0.648427   -0.990386\\n12\\n\\nO     -1.405111   -0.658692   -0.034736\\nC     -0.078902    0.444557    1.648641\\nC     -0.796758    0.577194    0.312372\\nC     -1.038140    0.154947    2.794355\\nH      0.467574    1.369817    1.861402\\nH      0.652060   -0.370506    1.593829\\nH     -0.074126    0.838644   -0.467830\\nH     -1.568913    1.351904    0.348267\\nH     -1.779160    0.954400    2.895224\\nH     -0.487600    0.081669    3.737641\\nH     -1.569570   -0.789422    2.640660\\nH     -1.555501   -0.645562   -0.995230\\n12\\n\\nO     -1.405377   -0.658041   -0.040185\\nC      0.078537    0.383345    1.548528\\nC     -0.796594    0.574715    0.317245\\nC     -0.729135   -0.013840    2.775938\\nH      0.619263    1.312802    1.758333\\nH      0.821214   -0.399078    1.353842\\nH     -0.179093    0.914198   -0.521128\\nH     -1.581807    1.316032    0.494324\\nH     -1.481376    0.745654    3.011711\\nH     -0.069839   -0.119016    3.643390\\nH     -1.240717   -0.969482    2.624356\\nH     -1.553247   -0.639688   -1.001066\\n12\\n\\nO     -1.404749   -0.659050   -0.044061\\nC      0.224265    0.337480    1.427370\\nC     -0.795232    0.571279    0.320903\\nC     -0.419760   -0.169014    2.710056\\nH      0.755774    1.272407    1.635826\\nH      0.963744   -0.400699    1.095722\\nH     -0.292247    0.987725   -0.558567\\nH     -1.576742    1.269263    0.636330\\nH     -1.159008    0.546022    3.085115\\nH      0.340920   -0.308111    3.484741\\nH     -0.919500   -1.129946    2.552949\\nH     -1.549614   -0.638345   -1.005173\\n12\\n\\nO     -1.406823   -0.657378   -0.048283\\nC      0.356858    0.302985    1.286184\\nC     -0.793522    0.568711    0.324811\\nC     -0.114663   -0.308298    2.597988\\nH      0.881160    1.242135    1.494180\\nH      1.073271   -0.384087    0.821075\\nH     -0.414237    1.062143   -0.576658\\nH     -1.552196    1.214253    0.777790\\nH     -0.829972    0.349931    3.101373\\nH      0.735870   -0.461784    3.269716\\nH     -0.594678   -1.278368    2.435893\\nH     -1.549957   -0.632105   -1.009558\\n12\\n\\nO     -1.408583   -0.656173   -0.051355\\nC      0.472603    0.283648    1.128860\\nC     -0.790731    0.565940    0.327358\\nC      0.178636   -0.427831    2.441903\\nH      0.988719    1.227085    1.338121\\nH      1.149816   -0.344102    0.538273\\nH     -0.539951    1.131900   -0.576353\\nH     -1.508661    1.151339    0.910038\\nH     -0.491710    0.168796    3.068793\\nH      1.107008   -0.591501    2.998315\\nH     -0.287562   -1.403295    2.271013\\nH     -1.549582   -0.627960   -1.012905\\n12\\n\\nO     -1.409686   -0.655569   -0.053971\\nC      0.569309    0.280121    0.958978\\nC     -0.787254    0.562999    0.328374\\nC      0.454176   -0.525676    2.245200\\nH      1.076204    1.227733    1.171530\\nH      1.192169   -0.281189    0.252929\\nH     -0.666990    1.195363   -0.557861\\nH     -1.447685    1.081715    1.030068\\nH     -0.153059    0.004466    2.985873\\nH      1.446622   -0.691543    2.676415\\nH     -0.001234   -1.504104    2.063499\\nH     -1.547796   -0.625667   -1.015911\\n12\\n\\nO     -1.412221   -0.653831   -0.056824\\nC      0.645529    0.289780    0.778210\\nC     -0.783842    0.560474    0.329482\\nC      0.708004   -0.599714    2.011750\\nH      1.145212    1.240614    0.993620\\nH      1.197096   -0.201567   -0.031761\\nH     -0.793869    1.253533   -0.518609\\nH     -1.369708    1.006754    1.139114\\nH      0.173603   -0.143101    2.850944\\nH      1.748859   -0.751526    2.314657\\nH      0.267646   -1.582601    1.817228\\nH     -1.548224   -0.620302   -1.018875\\n12\\n\\nO     -1.413660   -0.653164   -0.058607\\nC      0.699182    0.315717    0.591983\\nC     -0.780875    0.558106    0.330004\\nC      0.934592   -0.649294    1.745284\\nH      1.189883    1.269787    0.813999\\nH      1.167173   -0.099201   -0.308282\\nH     -0.916683    1.302018   -0.462284\\nH     -1.279228    0.929141    1.231214\\nH      0.493139   -0.267221    2.671258\\nH      2.008194   -0.783368    1.911367\\nH      0.501101   -1.632577    1.537334\\nH     -1.547282   -0.617248   -1.021032\\n12\\n\\nO     -1.416351   -0.650902   -0.060720\\nC      0.729875    0.354295    0.402300\\nC     -0.777339    0.556207    0.330025\\nC      1.128923   -0.672762    1.452457\\nH      1.214172    1.310114    0.629885\\nH      1.100872    0.015539   -0.572057\\nH     -1.031162    1.342088   -0.389087\\nH     -1.175193    0.850892    1.306225\\nH      0.787389   -0.367929    2.447027\\nH      2.218274   -0.775327    1.484564\\nH      0.704805   -1.656691    1.229375\\nH     -1.548107   -0.611879   -1.023308\\n12\\n\\nO     -1.419774   -0.648892   -0.062766\\nC      0.736315    0.406214    0.212962\\nC     -0.774345    0.553645    0.331310\\nC      1.288953   -0.669491    1.137279\\nH      1.214524    1.363678    0.446748\\nH      0.999024    0.144641   -0.818666\\nH     -1.137460    1.372864   -0.297967\\nH     -1.061296    0.770040    1.365240\\nH      1.056465   -0.443798    2.182881\\nH      2.377370   -0.729624    1.037443\\nH      0.874244   -1.653446    0.897025\\nH     -1.551209   -0.604876   -1.025227\\n12\\n\\nO     -1.421059   -0.649043   -0.064459\\nC      0.718852    0.472458    0.031008\\nC     -0.771880    0.550963    0.331295\\nC      1.409970   -0.640006    0.806375\\nH      1.190218    1.430709    0.276233\\nH      0.867423    0.292282   -1.039959\\nH     -1.232983    1.390834   -0.198243\\nH     -0.943324    0.692748    1.402848\\nH      1.303428   -0.488971    1.885225\\nH      2.478571   -0.656712    0.569888\\nH      0.994204   -1.620331    0.553219\\nH     -1.550899   -0.603561   -1.026843\\n12\\n\\nO     -1.423592   -0.647776   -0.065681\\nC      0.678341    0.549113   -0.143446\\nC     -0.768559    0.548603    0.331374\\nC      1.489737   -0.585057    0.466273\\nH      1.145191    1.506172    0.112545\\nH      0.705387    0.446307   -1.234557\\nH     -1.314950    1.400098   -0.087102\\nH     -0.818826    0.618505    1.422603\\nH      1.511981   -0.506269    1.558049\\nH      2.521492   -0.548278    0.102427\\nH      1.074048   -1.561770    0.200109\\nH     -1.553524   -0.600805   -1.028348\\n\",\"xyz\");\n\tviewergrid_17441711573396957[0][1].setStyle({\"stick\": {\"radius\": 0.05, \"color\": \"#f2f2f2\"}, \"sphere\": {\"scale\": 0.25}});\n\tviewergrid_17441711573396957[0][1].animate({\"loop\": \"forward\", \"reps\": 0, \"step\": 1, \"interval\": 120});\n\tviewergrid_17441711573396957[0][0].setHoverable({},true,\"function(atom,viewer,event,container) {\\n            if(!atom.label) {\\n            atom.label = viewer.addLabel(\\n                atom.atom+\\\":\\\"+atom.index,\\n                {\\n                    position: atom,\\n                    backgroundColor: 'black',\\n                    fontColor: 'white',\\n                    alignment: 'center',\\n                    showBackground: true,\\n                    backgroundOpacity: 0.2\\n                }\\n            );\\n        }}\",\"function(atom,viewer) {\\n            if(atom.label) {\\n            viewer.removeLabel(atom.label);\\n            delete atom.label;\\n            }\\n        }\");\n\tviewergrid_17441711573396957[0][1].setHoverable({},true,\"function(atom,viewer,event,container) {\\n            if(!atom.label) {\\n            atom.label = viewer.addLabel(\\n                atom.atom+\\\":\\\"+atom.index,\\n                {\\n                    position: atom,\\n                    backgroundColor: 'black',\\n                    fontColor: 'white',\\n                    alignment: 'center',\\n                    showBackground: true,\\n                    backgroundOpacity: 0.2\\n                }\\n            );\\n        }}\",\"function(atom,viewer) {\\n            if(atom.label) {\\n            viewer.removeLabel(atom.label);\\n            delete atom.label;\\n            }\\n        }\");\n\tviewergrid_17441711573396957[0][1].zoomTo();\nviewergrid_17441711573396957[0][1].render();\nviewergrid_17441711573396957[0][0].render();\n});\n</script>",
      "text/html": [
       "<div id=\"3dmolviewer_17441711573396957\"  style=\"position: relative; width: 800px; height: 400px;\">\n",
       "        <p id=\"3dmolwarning_17441711573396957\" style=\"background-color:#ffcccc;color:black\">3Dmol.js failed to load for some reason.  Please check your browser console for error messages.<br></p>\n",
       "        </div>\n",
       "<script>\n",
       "\n",
       "var loadScriptAsync = function(uri){\n",
       "  return new Promise((resolve, reject) => {\n",
       "    //this is to ignore the existence of requirejs amd\n",
       "    var savedexports, savedmodule;\n",
       "    if (typeof exports !== 'undefined') savedexports = exports;\n",
       "    else exports = {}\n",
       "    if (typeof module !== 'undefined') savedmodule = module;\n",
       "    else module = {}\n",
       "\n",
       "    var tag = document.createElement('script');\n",
       "    tag.src = uri;\n",
       "    tag.async = true;\n",
       "    tag.onload = () => {\n",
       "        exports = savedexports;\n",
       "        module = savedmodule;\n",
       "        resolve();\n",
       "    };\n",
       "  var firstScriptTag = document.getElementsByTagName('script')[0];\n",
       "  firstScriptTag.parentNode.insertBefore(tag, firstScriptTag);\n",
       "});\n",
       "};\n",
       "\n",
       "if(typeof $3Dmolpromise === 'undefined') {\n",
       "$3Dmolpromise = null;\n",
       "  $3Dmolpromise = loadScriptAsync('https://cdnjs.cloudflare.com/ajax/libs/3Dmol/2.4.2/3Dmol-min.js');\n",
       "}\n",
       "\n",
       "var viewer_17441711573396957 = null;\n",
       "var warn = document.getElementById(\"3dmolwarning_17441711573396957\");\n",
       "if(warn) {\n",
       "    warn.parentNode.removeChild(warn);\n",
       "}\n",
       "$3Dmolpromise.then(function() {\n",
       "var viewergrid_17441711573396957 = null;\n",
       "viewergrid_17441711573396957 = $3Dmol.createViewerGrid(document.getElementById(\"3dmolviewer_17441711573396957\"),{rows: 1, cols: 2, control_all: true},{backgroundColor:\"white\"});\n",
       "viewer_17441711573396957 = viewergrid_17441711573396957[0][0];\n",
       "viewergrid_17441711573396957[0][0].zoomTo();viewergrid_17441711573396957[0][1].zoomTo();\tviewergrid_17441711573396957[0][0].addModelsAsFrames(\"12\\n\\nO     -1.456032   -0.656478   -0.054778\\nC      0.626487    0.642016   -0.299658\\nC     -0.775609    0.545695    0.302921\\nC      1.545277   -0.507576    0.120211\\nH      1.063622    1.604708   -0.008160\\nH      0.539000    0.667884   -1.394340\\nH     -1.367576    1.427616    0.020075\\nH     -0.715350    0.528666    1.394676\\nH      1.724788   -0.490995    1.199725\\nH      2.514643   -0.447985   -0.381165\\nH      1.090203   -1.469531   -0.123868\\nH     -1.578000   -0.649350   -1.009564\\n12\\n\\nO     -1.456032   -0.656478   -0.054778\\nC      0.541606    0.734892   -0.450339\\nC     -0.775609    0.545695    0.302921\\nC      1.538818   -0.402808   -0.219614\\nH      0.980150    1.693079   -0.146379\\nH      0.324350    0.827690   -1.523111\\nH     -1.423938    1.420348    0.151715\\nH     -0.585996    0.460843    1.376558\\nH      1.844296   -0.448731    0.830350\\nH      2.439679   -0.273534   -0.824872\\nH      1.088063   -1.364005   -0.474454\\nH     -1.578000   -0.649350   -1.009564\\n12\\n\\nO     -1.456032   -0.656478   -0.054778\\nC      0.436644    0.833903   -0.583437\\nC     -0.775609    0.545695    0.302921\\nC      1.488923   -0.276733   -0.548421\\nH      0.878201    1.786850   -0.267601\\nH      0.091114    0.986998   -1.614855\\nH     -1.464063    1.402448    0.288200\\nH     -0.457659    0.399395    1.338949\\nH      1.917858   -0.378196    0.453362\\nH      2.307334   -0.073950   -1.243893\\nH      1.041155   -1.236315   -0.814373\\nH     -1.578000   -0.649350   -1.009564\\n12\\n\\nO     -1.456032   -0.656478   -0.054778\\nC      0.313643    0.937121   -0.696363\\nC     -0.775609    0.545695    0.302921\\nC      1.396561   -0.131804   -0.859811\\nH      0.759760    1.884197   -0.369467\\nH     -0.156166    1.142706   -1.667787\\nH     -1.487170    1.374265    0.426874\\nH     -0.332836    0.345519    1.282580\\nH      1.944040   -0.280762    0.076099\\nH      2.120183    0.146882   -1.630074\\nH      0.950394   -1.088945   -1.137011\\nH     -1.578000   -0.649350   -1.009564\\n12\\n\\nO     -1.456032   -0.656478   -0.054778\\nC      0.174998    1.042537   -0.786917\\nC     -0.775609    0.545695    0.302921\\nC      1.263531    0.029156   -1.147723\\nH      0.627131    1.983224   -0.449994\\nH     -0.412679    1.291786   -1.680876\\nH     -1.492809    1.336347    0.565037\\nH     -0.213958    0.300262    1.208549\\nH      1.922333   -0.158327   -0.294096\\nH      1.881868    0.384664   -1.975898\\nH      0.817544   -0.924765   -1.436087\\nH     -1.578000   -0.649350   -1.009564\\n12\\n\\nO     -1.456032   -0.656478   -0.054778\\nC      0.023406    1.148100   -0.853338\\nC     -0.775609    0.545695    0.302921\\nC      1.092422    0.203016   -1.406554\\nH      0.482896    2.082005   -0.507614\\nH     -0.673430    1.431334   -1.653869\\nH     -1.480871    1.289433    0.700000\\nH     -0.103339    0.264506    1.118296\\nH      1.853160   -0.013274   -0.650019\\nH      1.597029    0.634769   -2.274633\\nH      0.645192   -0.746970   -1.705780\\nH     -1.578000   -0.649350   -1.009564\\n12\\n\\nO     -1.456032   -0.656478   -0.054778\\nC     -0.138181    1.251755   -0.894333\\nC     -0.775609    0.545695    0.302921\\nC      0.886565    0.386392   -1.631265\\nH      0.329862    2.178617   -0.541207\\nH     -0.933347    1.558634   -1.587289\\nH     -1.451587    1.234434    0.829137\\nH     -0.003131    0.238947    1.013578\\nH      1.737868    0.151576   -0.984740\\nH      1.271210    0.892327   -2.520466\\nH      0.436693   -0.559020   -1.940841\\nH     -1.578000   -0.649350   -1.009564\\n12\\n\\nO     -1.456032   -0.656478   -0.054778\\nC     -0.306618    1.351485   -0.909103\\nC     -0.775609    0.545695    0.302921\\nC      0.649966    0.575713   -1.817482\\nH      0.171009    2.271178   -0.550117\\nH     -1.187368    1.671210   -1.482434\\nH     -1.405528    1.172423    0.949934\\nH      0.084715    0.224082    0.896434\\nH      1.578700    0.333012   -1.291746\\nH      0.910751    1.152325   -2.708610\\nH      0.196105   -0.364573   -2.136694\\nH     -1.578000   -0.649350   -1.009564\\n12\\n\\nO     -1.456032   -0.656478   -0.054778\\nC     -0.478628    1.445348   -0.897362\\nC     -0.775609    0.545695    0.302921\\nC      0.387230    0.767296   -1.961582\\nH      0.009427    2.357888   -0.534173\\nH     -1.430550    1.766869   -1.341344\\nH     -1.343591    1.104606    1.060039\\nH      0.158490    0.220201    0.769143\\nH      1.378754    0.527503   -1.565061\\nH      0.522670    1.409704   -2.835405\\nH     -0.071889   -0.167415   -2.289528\\nH     -1.578000   -0.649350   -1.009564\\n12\\n\\nO     -1.456032   -0.656478   -0.054778\\nC     -0.650861    1.531517   -0.859338\\nC     -0.775609    0.545695    0.302921\\nC      0.103471    0.957412   -2.060759\\nH     -0.151738    2.437059   -0.493683\\nH     -1.658160    1.843750   -1.166765\\nH     -1.266980    1.032302    1.157310\\nH      0.216757    0.227379    0.634183\\nH      1.141922    0.731264   -1.799365\\nH      0.114519    1.659454   -2.898383\\nH     -0.362074    0.028617   -2.396368\\nH     -1.578000   -0.649350   -1.009564\\n12\\n\\nO     -1.456032   -0.656478   -0.054778\\nC     -0.819966    1.608315   -0.795770\\nC     -0.775609    0.545695    0.302921\\nC     -0.195787    1.142359   -2.113083\\nH     -0.309348    2.507150   -0.429437\\nH     -1.865767    1.900357   -0.962096\\nH     -1.177187    0.956920    1.239853\\nH      0.258382    0.245476    0.494181\\nH      0.872814    0.940329   -1.990098\\nH     -0.305757    1.896713   -2.896317\\nH     -0.668801    0.219709   -2.455133\\nH     -1.578000   -0.649350   -1.009564\\n12\\n\\nO     -1.456032   -0.656478   -0.054778\\nC     -0.982652    1.674248   -0.707897\\nC     -0.775609    0.545695    0.302921\\nC     -0.504720    1.318538   -2.117535\\nH     -0.460338    2.566796   -0.342684\\nH     -2.049331    1.935587   -0.731320\\nH     -1.075960    0.879926    1.306061\\nH      0.282556    0.274140    0.351862\\nH      0.576667    1.150629   -2.133546\\nH     -0.729979    2.116864   -2.829247\\nH     -0.986100    0.402139   -2.464682\\nH     -1.578000   -0.649350   -1.009564\\n12\\n\\nO     -1.456032   -0.656478   -0.054778\\nC     -1.135751    1.728032   -0.597429\\nC     -0.775609    0.545695    0.302921\\nC     -0.817316    1.482520   -2.074029\\nH     -0.601767    2.614837   -0.235113\\nH     -2.205279    1.948755   -0.478928\\nH     -0.965269    0.802819    1.354647\\nH      0.288807    0.312813    0.209996\\nH      0.259247    1.358069   -2.226919\\nH     -1.149888    2.315621   -2.698480\\nH     -1.307795    0.572358   -2.424826\\nH     -1.578000   -0.649350   -1.009564\\n12\\n\\nO     -1.456032   -0.656478   -0.054778\\nC     -1.276283    1.768620   -0.466515\\nC     -0.775609    0.545695    0.302921\\nC     -1.127489    1.631114   -1.983412\\nH     -0.730882    2.650338   -0.108819\\nH     -2.330575    1.939605   -0.209834\\nH     -0.847268    0.727100    1.384664\\nH      0.277014    0.360743    0.071344\\nH     -0.073270    1.558614   -2.268399\\nH     -1.557312    2.489116   -2.506561\\nH     -1.627625    0.727052   -2.336344\\nH     -1.578000   -0.649350   -1.009564\\n12\\n\\nO     -1.456032   -0.656478   -0.054778\\nC     -1.401515    1.795223   -0.317704\\nC     -0.775609    0.545695    0.302921\\nC     -1.429202    1.761427   -1.847448\\nH     -0.845172    2.672607    0.033741\\nH     -2.422781    1.908314    0.070725\\nH     -0.724254    0.654242    1.395529\\nH      0.247406    0.416996   -0.061395\\nH     -0.414411    1.748359   -2.257177\\nH     -1.944321    2.633972   -2.257224\\nH     -1.939364    0.863211   -2.200955\\nH     -1.578000   -0.649350   -1.009564\\n12\\n\\nO     -1.456032   -0.656478   -0.054778\\nC     -1.509007    1.807322   -0.153892\\nC     -0.775609    0.545695    0.302921\\nC     -1.716584    1.870922   -1.668782\\nH     -0.942411    2.681211    0.189793\\nH     -2.480102    1.855492    0.357289\\nH     -0.598622    0.585664    1.387029\\nH      0.200561    0.480478   -0.185638\\nH     -0.757536    1.923611   -2.193474\\nH     -2.303382    2.747370   -1.955323\\nH     -2.236945    0.978184   -2.021297\\nH     -1.578000   -0.649350   -1.009564\\n12\\n\\nO     -1.456032   -0.656478   -0.054778\\nC     -1.596668    1.804681    0.021733\\nC     -0.775609    0.545695    0.302921\\nC     -1.984040    1.957469   -1.450893\\nH     -1.020706    2.675983    0.356298\\nH     -2.501423    1.782167    0.644280\\nH     -0.472817    0.522701    1.359330\\nH      0.137388    0.549954   -0.298966\\nH     -1.095967    2.080960   -2.078529\\nH     -2.627507    2.827103   -1.606735\\nH     -2.514577    1.069733   -1.800865\\nH     -1.578000   -0.649350   -1.009564\\n12\\n\\nO     -1.456032   -0.656478   -0.054778\\nC     -1.662792    1.787354    0.205751\\nC     -0.775609    0.545695    0.302921\\nC     -2.226364    2.019383   -1.198021\\nH     -1.078534    2.657025    0.530016\\nH     -2.486327    1.689766    0.926111\\nH     -0.349287    0.466577    1.312971\\nH      0.059119    0.624069   -0.399173\\nH     -1.423116    2.217342   -1.914578\\nH     -2.910387    2.871618   -1.218243\\nH     -2.766854    1.136077   -1.543950\\nH     -1.578000   -0.649350   -1.009564\\n12\\n\\nO     -1.456032   -0.656478   -0.054778\\nC     -1.706092    1.755676    0.394581\\nC     -0.775609    0.545695    0.302921\\nC     -2.438841    2.055459   -0.915088\\nH     -1.114769    2.624705    0.707566\\nH     -2.435110    1.580088    1.197297\\nH     -0.230437    0.418386    1.248855\\nH     -0.032723    0.701384   -0.484310\\nH     -1.732615    2.330103   -1.704813\\nH     -3.146515    2.880049   -0.797410\\nH     -2.988867    1.175925   -1.255553\\nH     -1.578000   -0.649350   -1.009564\\n12\\n\\nO     -1.456032   -0.656478   -0.054778\\nC     -1.725724    1.710264    0.584549\\nC     -0.775609    0.545695    0.302921\\nC     -2.617334    2.064994   -0.607602\\nH     -1.128706    2.579653    0.885491\\nH     -2.348768    1.455267    1.452561\\nH     -0.118580    0.379065    1.168229\\nH     -0.136352    0.780391   -0.552718\\nH     -2.018442    2.417048   -1.453318\\nH     -3.331296    2.852232   -0.352427\\nH     -3.176294    1.188500   -0.941286\\nH     -1.578000   -0.649350   -1.009564\\n12\\n\\nO     -1.456032   -0.656478   -0.054778\\nC     -1.721307    1.652002    0.771956\\nC     -0.775609    0.545695    0.302921\\nC     -2.758370    2.047804   -0.281546\\nH     -1.120074    2.522745    1.060330\\nH     -2.228982    1.317733    1.686932\\nH     -0.015893    0.349380    1.072663\\nH     -0.249749    0.859554   -0.603067\\nH     -2.275032    2.476485   -1.164986\\nH     -3.461134    2.788709    0.108046\\nH     -3.325488    1.173557   -0.607267\\nH     -1.578000   -0.649350   -1.009564\\n12\\n\\nO     -1.456032   -0.656478   -0.054778\\nC     -1.692926    1.582024    0.953155\\nC     -0.775609    0.545695    0.302921\\nC     -2.859203    2.004222    0.056732\\nH     -1.089040    2.455089    1.228678\\nH     -2.078082    1.170162    1.895851\\nH      0.075625    0.329908    0.964017\\nH     -0.370708    0.937332   -0.634376\\nH     -2.497391    2.507257   -0.845431\\nH     -3.533501    2.690715    0.575046\\nH     -3.433545    1.131389   -0.259998\\nH     -1.578000   -0.649350   -1.009564\\n12\\n\\nO     -1.456032   -0.656478   -0.054778\\nC     -1.641135    1.501692    1.124619\\nC     -0.775609    0.545695    0.302921\\nC     -2.917871    1.935097    0.400649\\nH     -1.036209    2.378002    1.387259\\nH     -1.899007    1.015427    2.075250\\nH      0.154192    0.321029    0.844406\\nH     -0.496874    1.012211   -0.646036\\nH     -2.681191    2.508765   -0.500871\\nH     -3.546989    2.560159    1.039482\\nH     -3.498361    1.062815    0.093764\\nH     -1.578000   -0.649350   -1.009564\\n12\\n\\nO     -1.456032   -0.656478   -0.054778\\nC     -1.566940    1.412570    1.283010\\nC     -0.775609    0.545695    0.302921\\nC     -2.933231    1.841775    0.743510\\nH     -0.962609    2.292985    1.532986\\nH     -1.695242    0.856541    2.221637\\nH      0.218281    0.322915    0.716157\\nH     -0.625792    1.082733   -0.637821\\nH     -2.822855    2.480980   -0.138013\\nH     -3.501334    2.399581    1.492316\\nH     -3.518675    0.969170    0.447131\\nH     -1.578000   -0.649350   -1.009564\\n12\\n\\nO     -1.456032   -0.656478   -0.054778\\nC     -1.471787    1.316393    1.425246\\nC     -0.775609    0.545695    0.302921\\nC     -2.904985    1.726072    1.078642\\nH     -0.869672    2.201691    1.663024\\nH     -1.470752    0.696594    2.332164\\nH      0.266642    0.335530    0.581767\\nH     -0.754952    1.147526   -0.609889\\nH     -2.919625    2.424443    0.236079\\nH     -3.397427    2.212107    1.924734\\nH     -3.494091    0.852277    0.793227\\nH     -1.578000   -0.649350   -1.009564\\n12\\n\\nO     -1.456032   -0.656478   -0.054778\\nC     -1.357527    1.215032    1.548558\\nC     -0.775609    0.545695    0.302921\\nC     -2.833683    1.590239    1.399523\\nH     -0.759208    2.105899    1.774840\\nH     -1.229908    0.538701    2.404679\\nH      0.298335    0.358628    0.443852\\nH     -0.881841    1.205329   -0.562785\\nH     -2.969619    2.340254    0.614126\\nH     -3.237288    2.001385    2.328318\\nH     -3.425089    0.714412    1.125315\\nH     -1.578000   -0.649350   -1.009564\\n12\\n\\nO     -1.456032   -0.656478   -0.054778\\nC     -1.226385    1.110460    1.650547\\nC     -0.775609    0.545695    0.302921\\nC     -2.720712    1.436921    1.699906\\nH     -0.633366    2.007472    1.866259\\nH     -0.977396    0.385935    2.437770\\nH      0.312743    0.391759    0.305095\\nH     -1.003989    1.255017   -0.497426\\nH     -2.971862    2.230051    0.988768\\nH     -3.024036    1.771518    2.695214\\nH     -3.313010    0.558256    1.436931\\nH     -1.578000   -0.649350   -1.009564\\n12\\n\\nO     -1.456032   -0.656478   -0.054778\\nC     -1.080912    1.004712    1.729226\\nC     -0.775609    0.545695    0.302921\\nC     -2.568271    1.269102    1.973945\\nH     -0.494596    1.908326    1.935501\\nH     -0.718132    0.241269    2.430794\\nH      0.309586    0.434279    0.168199\\nH     -1.119018    1.295622   -0.415083\\nH     -2.926312    2.095980    1.352713\\nH     -2.761820    1.526979    3.018280\\nH     -3.160037    0.386851    1.722010\\nH     -1.578000   -0.649350   -1.009564\\n12\\n\\nO     -1.456032   -0.656478   -0.054778\\nC     -0.923940    0.899848    1.783065\\nC     -0.775609    0.545695    0.302921\\nC     -2.379328    1.090048    2.216306\\nH     -0.345599    1.810392    1.981219\\nH     -0.457163    0.107519    2.383886\\nH      0.288924    0.485360    0.035826\\nH     -1.224689    1.326354   -0.317360\\nH     -2.833854    1.940650    1.698878\\nH     -2.455745    1.272529    3.291229\\nH     -2.969146    0.203532    1.975003\\nH     -1.578000   -0.649350   -1.009564\\n12\\n\\nO     -1.456032   -0.656478   -0.054778\\nC     -0.758525    0.797907    1.811016\\nC     -0.775609    0.545695    0.302921\\nC     -2.157559    0.903244    2.422272\\nH     -0.189274    1.715574    2.002522\\nH     -0.199566   -0.012712    2.297959\\nH      0.251161    0.544007   -0.089446\\nH     -1.318946    1.346616   -0.206158\\nH     -2.696288    1.767085    2.020526\\nH     -2.111768    1.013118    3.508748\\nH     -2.744055    0.011867    2.190986\\nH     -1.578000   -0.649350   -1.009564\\n12\\n\\nO     -1.456032   -0.656478   -0.054778\\nC     -0.587886    0.700874    1.812534\\nC     -0.775609    0.545695    0.302921\\nC     -1.907282    0.712327    2.587833\\nH     -0.028665    1.625720    1.998997\\nH      0.049642   -0.117084    2.174687\\nH      0.197031    0.609080   -0.205178\\nH     -1.399953    1.356012   -0.083642\\nH     -2.516293    1.578662    2.311395\\nH     -1.736585    0.753798    3.666602\\nH     -2.489142   -0.184414    2.365755\\nH     -1.578000   -0.649350   -1.009564\\n12\\n\\nO     -1.456032   -0.656478   -0.054778\\nC     -0.415344    0.610639    1.787591\\nC     -0.775609    0.545695    0.302921\\nC     -1.633367    0.521012    2.709769\\nH      0.133102    1.542577    1.970711\\nH      0.285613   -0.203565    2.016467\\nH      0.127588    0.679312   -0.309119\\nH     -1.466135    1.354360    0.047804\\nH     -2.297371    1.379050    2.565824\\nH     -1.337496    0.499614    3.761720\\nH     -2.209371   -0.381489    2.495909\\nH     -1.578000   -0.649350   -1.009564\\n12\\n\\nO     -1.456032   -0.656478   -0.054778\\nC     -0.244258    0.528956    1.736671\\nC     -0.775609    0.545695    0.302921\\nC     -1.341147    0.333023    2.785704\\nH      0.292879    1.467764    1.918215\\nH      0.503753   -0.270471    1.826380\\nH      0.044183    0.753335   -0.399246\\nH     -1.516204    1.341691    0.185620\\nH     -2.043783    1.172133    2.778861\\nH     -0.922271    0.255515    3.792250\\nH     -1.910186   -0.575524    2.578914\\nH     -1.578000   -0.649350   -1.009564\\n12\\n\\nO     -1.456032   -0.656478   -0.054778\\nC     -0.077958    0.457416    1.660765\\nC     -0.775609    0.545695    0.302921\\nC     -1.036309    0.152019    2.814162\\nH      0.447555    1.402737    1.842531\\nH      0.699816   -0.316502    1.608125\\nH     -0.051560    0.829709   -0.473803\\nH     -1.549183    1.318254    0.327126\\nH     -1.760466    0.961938    2.946360\\nH     -0.498991    0.026252    3.757598\\nH     -1.597411   -0.762740    2.613154\\nH     -1.578000   -0.649350   -1.009564\\n12\\n\\nO     -1.456032   -0.656478   -0.054778\\nC      0.080320    0.397411    1.561352\\nC     -0.775609    0.545695    0.302921\\nC     -0.724785   -0.018478    2.794587\\nH      0.594122    1.348762    1.745132\\nH      0.869987   -0.340760    1.365952\\nH     -0.157778    0.906948   -0.531341\\nH     -1.564433    1.284503    0.469565\\nH     -1.452933    0.752558    3.065059\\nH     -0.075896   -0.183714    3.658438\\nH     -1.277134   -0.939496    2.597964\\nH     -1.578000   -0.649350   -1.009564\\n12\\n\\nO     -1.456032   -0.656478   -0.054778\\nC      0.227495    0.350110    1.440366\\nC     -0.775609    0.545695    0.302921\\nC     -0.412641   -0.175147    2.727362\\nH      0.729724    1.306889    1.627914\\nH      1.010952   -0.342774    1.104572\\nH     -0.272403    0.983547   -0.570738\\nH     -1.561655    1.241095    0.610167\\nH     -1.127170    0.548067    3.132650\\nH      0.338781   -0.370294    3.496701\\nH     -0.955589   -1.102349    2.533638\\nH     -1.578000   -0.649350   -1.009564\\n12\\n\\nO     -1.456032   -0.656478   -0.054778\\nC      0.360701    0.316433    1.300162\\nC     -0.775609    0.545695    0.302921\\nC     -0.105951   -0.314941    2.613795\\nH      0.851724    1.277933    1.493158\\nH      1.119969   -0.322504    0.829074\\nH     -0.393205    1.058017   -0.591229\\nH     -1.540904    1.188877    0.746194\\nH     -0.789519    0.352446    3.147816\\nH      0.736968   -0.529859    3.275534\\nH     -0.639033   -1.248130    2.421429\\nH     -1.578000   -0.649350   -1.009564\\n12\\n\\nO     -1.456032   -0.656478   -0.054778\\nC      0.477347    0.297035    1.143469\\nC     -0.775609    0.545695    0.302921\\nC      0.189316   -0.435138    2.456096\\nH      0.957746    1.262459    1.343488\\nH      1.194915   -0.280345    0.544820\\nH     -0.517831    1.128908   -0.592414\\nH     -1.502584    1.128863    0.874998\\nH     -0.446550    0.169502    3.110263\\nH      1.110914   -0.659301    2.999242\\nH     -0.333629   -1.374003    2.263521\\nH     -1.578000   -0.649350   -1.009564\\n12\\n\\nO     -1.456032   -0.656478   -0.054778\\nC      0.575162    0.292294    0.973337\\nC     -0.775609    0.545695    0.302921\\nC      0.467412   -0.533398    2.257334\\nH      1.045728    1.260766    1.181816\\nH      1.234332   -0.217117    0.257343\\nH     -0.643857    1.194839   -0.574270\\nH     -1.447441    1.062222    0.994074\\nH     -0.104940    0.002795    3.020720\\nH      1.453341   -0.756102    2.673203\\nH     -0.045320   -1.477516    2.062987\\nH     -1.578000   -0.649350   -1.009564\\n12\\n\\nO     -1.456032   -0.656478   -0.054778\\nC      0.652243    0.302302    0.793076\\nC     -0.775609    0.545695    0.302921\\nC      0.722925   -0.607810    2.021379\\nH      1.113956    1.272889    1.011289\\nH      1.237452   -0.134052   -0.027763\\nH     -0.768829    1.254528   -0.537151\\nH     -1.376547    0.990251    1.101102\\nH      0.228662   -0.144429    2.880931\\nH      1.757584   -0.818378    2.303763\\nH      0.220281   -1.556656    1.823731\\nH     -1.578000   -0.649350   -1.009564\\n12\\n\\nO     -1.456032   -0.656478   -0.054778\\nC      0.707088    0.326865    0.606197\\nC     -0.775609    0.545695    0.302921\\nC      0.950881   -0.656924    1.752822\\nH      1.161102    1.298591    0.835226\\nH      1.204215   -0.032766   -0.304947\\nH     -0.890315    1.306813   -0.481779\\nH     -1.291284    0.914351    1.194000\\nH      0.547763   -0.269304    2.693618\\nH      2.017722   -0.844915    1.898113\\nH      0.458005   -1.609881    1.550409\\nH     -1.578000   -0.649350   -1.009564\\n12\\n\\nO     -1.456032   -0.656478   -0.054778\\nC      0.738630    0.365504    0.416335\\nC     -0.775609    0.545695    0.302921\\nC      1.146843   -0.679786    1.456891\\nH      1.186250    1.337371    0.657054\\nH      1.135267    0.084770   -0.568814\\nH     -1.005950    1.350675   -0.409231\\nH     -1.193310    0.835999    1.270960\\nH      0.846153   -0.369401    2.462424\\nH      2.228691   -0.835199    1.464147\\nH      0.663225   -1.636156    1.248341\\nH     -1.578000   -0.649350   -1.009564\\n12\\n\\nO     -1.456032   -0.656478   -0.054778\\nC      0.746256    0.417468    0.227187\\nC     -0.775609    0.545695    0.302921\\nC      1.306998   -0.675949    1.139347\\nH      1.188908    1.388476    0.480242\\nH      1.031951    0.216268   -0.814230\\nH     -1.113484    1.385263   -0.320920\\nH     -1.084532    0.756721    1.330484\\nH      1.118024   -0.442771    2.191852\\nH      2.386384   -0.789417    1.010314\\nH      0.831947   -1.634970    0.923407\\nH     -1.578000   -0.649350   -1.009564\\n12\\n\\nO     -1.456032   -0.656478   -0.054778\\nC      0.729818    0.481744    0.042434\\nC     -0.775609    0.545695    0.302921\\nC      1.428228   -0.645489    0.806369\\nH      1.169027    1.450910    0.308230\\nH      0.896278    0.359169   -1.036416\\nH     -1.210824    1.409901   -0.218565\\nH     -0.967068    0.678059    1.371412\\nH      1.358083   -0.487986    1.887166\\nH      2.487734   -0.708462    0.545445\\nH      0.960887   -1.606345    0.581931\\nH     -1.578000   -0.649350   -1.009564\\n12\\n\\nO     -1.456032   -0.656478   -0.054778\\nC      0.689634    0.557082   -0.134328\\nC     -0.775609    0.545695    0.302921\\nC      1.508173   -0.588998    0.464438\\nH      1.126992    1.523458    0.144366\\nH      0.730888    0.510690   -1.231049\\nH     -1.296074    1.424111   -0.104158\\nH     -0.843204    0.601544    1.392949\\nH      1.561658   -0.504165    1.554297\\nH      2.530766   -0.593908    0.078590\\nH      1.047534   -1.550838    0.230560\\nH     -1.578000   -0.649350   -1.009564\\n\",\"xyz\");\n",
       "\tviewergrid_17441711573396957[0][0].setStyle({\"stick\": {\"radius\": 0.05, \"color\": \"#f2f2f2\"}, \"sphere\": {\"scale\": 0.25}});\n",
       "\tviewergrid_17441711573396957[0][0].animate({\"loop\": \"forward\", \"reps\": 0, \"step\": 1, \"interval\": 120});\n",
       "\tviewergrid_17441711573396957[0][0].setHoverable({},true,\"function(atom,viewer,event,container) {\\n            if(!atom.label) {\\n            atom.label = viewer.addLabel(\\n                atom.atom+\\\":\\\"+atom.index,\\n                {\\n                    position: atom,\\n                    backgroundColor: 'black',\\n                    fontColor: 'white',\\n                    alignment: 'center',\\n                    showBackground: true,\\n                    backgroundOpacity: 0.2\\n                }\\n            );\\n        }}\",\"function(atom,viewer) {\\n            if(atom.label) {\\n            viewer.removeLabel(atom.label);\\n            delete atom.label;\\n            }\\n        }\");\n",
       "\tviewergrid_17441711573396957[0][1].setHoverable({},true,\"function(atom,viewer,event,container) {\\n            if(!atom.label) {\\n            atom.label = viewer.addLabel(\\n                atom.atom+\\\":\\\"+atom.index,\\n                {\\n                    position: atom,\\n                    backgroundColor: 'black',\\n                    fontColor: 'white',\\n                    alignment: 'center',\\n                    showBackground: true,\\n                    backgroundOpacity: 0.2\\n                }\\n            );\\n        }}\",\"function(atom,viewer) {\\n            if(atom.label) {\\n            viewer.removeLabel(atom.label);\\n            delete atom.label;\\n            }\\n        }\");\n",
       "\tviewergrid_17441711573396957[0][0].zoomTo();\n",
       "\tviewergrid_17441711573396957[0][1].addModelsAsFrames(\"12\\n\\nO     -1.430607   -0.643928   -0.065245\\nC      0.614629    0.632253   -0.310563\\nC     -0.763861    0.546265    0.331805\\nC      1.528625   -0.503959    0.125286\\nH      1.078230    1.589740   -0.048792\\nH      0.515190    0.597806   -1.401663\\nH     -1.380179    1.401181    0.036810\\nH     -0.685807    0.545485    1.423549\\nH      1.667038   -0.500240    1.210977\\nH      2.512567   -0.397385   -0.342589\\nH      1.121131   -1.476953   -0.166516\\nH     -1.565503   -0.595595   -1.026984\\n12\\n\\nO     -1.433551   -0.644110   -0.065775\\nC      0.530800    0.727199   -0.457217\\nC     -0.760833    0.543563    0.329679\\nC      1.522704   -0.400812   -0.213531\\nH      0.992580    1.681420   -0.180334\\nH      0.306047    0.765792   -1.529578\\nH     -1.433967    1.389638    0.160922\\nH     -0.559140    0.480576    1.403609\\nH      1.798447   -0.456556    0.844340\\nH      2.435640   -0.232263   -0.793656\\nH      1.107992   -1.368377   -0.512643\\nH     -1.569330   -0.598430   -1.027382\\n12\\n\\nO     -1.440770   -0.640191   -0.062087\\nC      0.425603    0.825170   -0.592215\\nC     -0.755140    0.541432    0.328809\\nC      1.475318   -0.275470   -0.540757\\nH      0.886310    1.777831   -0.308485\\nH      0.073356    0.921103   -1.625771\\nH     -1.467100    1.372171    0.296637\\nH     -0.424981    0.418744    1.364970\\nH      1.866095   -0.396049    0.474652\\nH      2.313632   -0.028286   -1.199781\\nH      1.062477   -1.235251   -0.866940\\nH     -1.584932   -0.596936   -1.022522\\n12\\n\\nO     -1.446493   -0.638885   -0.060216\\nC      0.303094    0.928634   -0.704472\\nC     -0.751673    0.539482    0.325162\\nC      1.385826   -0.130878   -0.849937\\nH      0.763837    1.878280   -0.410647\\nH     -0.170854    1.077961   -1.681524\\nH     -1.486705    1.343679    0.429679\\nH     -0.299286    0.365232    1.306430\\nH      1.897950   -0.299908    0.102466\\nH      2.131689    0.190250   -1.583943\\nH      0.967782   -1.083662   -1.189757\\nH     -1.596399   -0.601138   -1.019624\\n12\\n\\nO     -1.452886   -0.638229   -0.056806\\nC      0.164174    1.034087   -0.794893\\nC     -0.747980    0.536631    0.321308\\nC      1.256459    0.031278   -1.136856\\nH      0.625426    1.980315   -0.491189\\nH     -0.426597    1.227278   -1.697590\\nH     -1.488130    1.305022    0.565770\\nH     -0.177200    0.316706    1.229041\\nH      1.883854   -0.176414   -0.264101\\nH      1.898643    0.428606   -1.929344\\nH      0.833534   -0.914860   -1.489243\\nH     -1.610979   -0.605668   -1.015524\\n12\\n\\nO     -1.460874   -0.636112   -0.054825\\nC      0.013686    1.139321   -0.859918\\nC     -0.745710    0.535317    0.316613\\nC      1.089320    0.205086   -1.394766\\nH      0.477784    2.080771   -0.546394\\nH     -0.685316    1.368311   -1.672606\\nH     -1.471957    1.259726    0.698114\\nH     -0.065946    0.276992    1.134764\\nH      1.826965   -0.025857   -0.619293\\nH      1.614024    0.674916   -2.232751\\nH      0.660607   -0.736521   -1.752058\\nH     -1.625756   -0.609163   -1.011810\\n12\\n\\nO     -1.475400   -0.629967   -0.045010\\nC     -0.150757    1.239881   -0.904885\\nC     -0.741122    0.533948    0.311366\\nC      0.891403    0.389614   -1.617546\\nH      0.311064    2.181204   -0.587499\\nH     -0.948743    1.483971   -1.615863\\nH     -1.427241    1.209392    0.831798\\nH      0.042900    0.241823    1.016855\\nH      1.716989    0.137594   -0.944110\\nH      1.305166    0.936832   -2.470611\\nH      0.458859   -0.542371   -1.993969\\nH     -1.656807   -0.608390   -0.999371\\n12\\n\\nO     -1.486811   -0.627524   -0.032634\\nC     -0.323016    1.336180   -0.922591\\nC     -0.737684    0.532141    0.305736\\nC      0.663160    0.582132   -1.803465\\nH      0.135258    2.277527   -0.599369\\nH     -1.207946    1.584816   -1.519378\\nH     -1.365766    1.150196    0.955157\\nH      0.137043    0.218951    0.884375\\nH      1.568663    0.325151   -1.244574\\nH      0.956158    1.202063   -2.656830\\nH      0.226845   -0.342327   -2.193816\\nH     -1.683812   -0.612583   -0.983852\\n12\\n\\nO     -1.498159   -0.625088   -0.016894\\nC     -0.500245    1.426223   -0.913617\\nC     -0.734363    0.531326    0.299539\\nC      0.409838    0.777515   -1.947471\\nH     -0.046795    2.367743   -0.583718\\nH     -1.458154    1.666008   -1.388995\\nH     -1.284389    1.085970    1.066192\\nH      0.214950    0.206449    0.737032\\nH      1.382834    0.530426   -1.511237\\nH      0.578120    1.463488   -2.783821\\nH     -0.028720   -0.140674   -2.349781\\nH     -1.712645   -0.617521   -0.963925\\n12\\n\\nO     -1.496777   -0.628105   -0.000634\\nC     -0.675195    1.510185   -0.875650\\nC     -0.732696    0.533437    0.294979\\nC      0.129744    0.969853   -2.049834\\nH     -0.220015    2.447664   -0.538069\\nH     -1.690860    1.736756   -1.219898\\nH     -1.198978    1.019260    1.158183\\nH      0.272413    0.217153    0.591036\\nH      1.153828    0.731402   -1.744816\\nH      0.179798    1.718410   -2.847034\\nH     -0.322874    0.065996   -2.467653\\nH     -1.721171   -0.633390   -0.945198\\n12\\n\\nO     -1.494717   -0.631559    0.017392\\nC     -0.850700    1.583284   -0.814126\\nC     -0.731708    0.536317    0.289886\\nC     -0.162783    1.158311   -2.103978\\nH     -0.398976    2.519843   -0.467478\\nH     -1.908581    1.779204   -1.026285\\nH     -1.097345    0.951089    1.234359\\nH      0.312046    0.238628    0.436506\\nH      0.896023    0.942732   -1.930375\\nH     -0.226972    1.960438   -2.845281\\nH     -0.627682    0.267434   -2.535763\\nH     -1.729665   -0.648527   -0.924177\\n12\\n\\nO     -1.493742   -0.633722    0.034681\\nC     -1.016741    1.645105   -0.725246\\nC     -0.728220    0.538005    0.284296\\nC     -0.467888    1.338096   -2.111497\\nH     -0.563387    2.577374   -0.369989\\nH     -2.097694    1.806547   -0.800846\\nH     -0.977722    0.881054    1.293535\\nH      0.332159    0.264882    0.274689\\nH      0.611676    1.160784   -2.075079\\nH     -0.649806    2.183594   -2.782486\\nH     -0.945865    0.456927   -2.549268\\nH     -1.742267   -0.659915   -0.903201\\n12\\n\\nO     -1.472338   -0.642252    0.036453\\nC     -1.169939    1.698663   -0.612091\\nC     -0.730891    0.544283    0.283634\\nC     -0.784947    1.499839   -2.071685\\nH     -0.705021    2.623704   -0.251634\\nH     -2.256517    1.824025   -0.548692\\nH     -0.882633    0.810453    1.334119\\nH      0.331979    0.322260    0.144379\\nH      0.292976    1.340998   -2.175168\\nH     -1.053809    2.387002   -2.654255\\nH     -1.303327    0.643729   -2.513675\\nH     -1.710184   -0.677012   -0.903888\\n12\\n\\nO     -1.456348   -0.647437    0.032710\\nC     -1.307833    1.739470   -0.477726\\nC     -0.732445    0.548469    0.282102\\nC     -1.100548    1.646086   -1.983229\\nH     -0.829033    2.656254   -0.115101\\nH     -2.382347    1.822052   -0.276477\\nH     -0.776318    0.738664    1.359346\\nH      0.315639    0.380797    0.014020\\nH     -0.040264    1.525590   -2.226908\\nH     -1.457421    2.560361   -2.468165\\nH     -1.651715    0.806052   -2.415647\\nH     -1.684699   -0.684191   -0.910220\\n12\\n\\nO     -1.445723   -0.649392    0.028370\\nC     -1.432049    1.765329   -0.325056\\nC     -0.730924    0.552772    0.277655\\nC     -1.405598    1.774272   -1.846901\\nH     -0.941922    2.676202    0.037820\\nH     -2.476457    1.791564    0.007480\\nH     -0.656657    0.669779    1.363120\\nH      0.283831    0.443427   -0.119054\\nH     -0.379672    1.708180   -2.222962\\nH     -1.845167    2.703376   -2.223064\\nH     -1.980942    0.943303   -2.265566\\nH     -1.671976   -0.684593   -0.915170\\n12\\n\\nO     -1.436483   -0.648954    0.010670\\nC     -1.533206    1.780151   -0.158344\\nC     -0.734714    0.556787    0.277914\\nC     -1.699374    1.877032   -1.668036\\nH     -1.025423    2.683024    0.198877\\nH     -2.528243    1.753340    0.300441\\nH     -0.553043    0.598233    1.356339\\nH      0.237391    0.516057   -0.224250\\nH     -0.727457    1.870522   -2.171495\\nH     -2.210230    2.809378   -1.929415\\nH     -2.298100    1.050032   -2.060764\\nH     -1.644786   -0.675480   -0.937654\\n12\\n\\nO     -1.434898   -0.645763   -0.001398\\nC     -1.615587    1.779366    0.020004\\nC     -0.737712    0.560286    0.276315\\nC     -1.969295    1.958211   -1.449709\\nH     -1.093171    2.676396    0.370518\\nH     -2.545948    1.690207    0.592910\\nH     -0.441179    0.533762    1.329560\\nH      0.173746    0.588267   -0.329196\\nH     -1.066401    2.023178   -2.065132\\nH     -2.541576    2.881132   -1.588761\\nH     -2.580583    1.129384   -1.818516\\nH     -1.633353   -0.663807   -0.952363\\n12\\n\\nO     -1.437442   -0.640643   -0.009810\\nC     -1.676880    1.764225    0.205706\\nC     -0.740651    0.564075    0.274519\\nC     -2.212202    2.014670   -1.196664\\nH     -1.142313    2.657134    0.548387\\nH     -2.527467    1.605938    0.878818\\nH     -0.328361    0.475821    1.284412\\nH      0.096760    0.664361   -0.423679\\nH     -1.393303    2.159124   -1.908816\\nH     -2.833537    2.916021   -1.206752\\nH     -2.829049    1.180403   -1.544021\\nH     -1.629738   -0.652051   -0.962634\\n12\\n\\nO     -1.441210   -0.636166   -0.015567\\nC     -1.715559    1.734535    0.395830\\nC     -0.744662    0.567656    0.272959\\nC     -2.424198    2.046345   -0.914413\\nH     -1.170439    2.624598    0.728967\\nH     -2.473356    1.504078    1.153611\\nH     -0.219022    0.425130    1.222274\\nH      0.006051    0.743633   -0.504545\\nH     -1.702574    2.274873   -1.705180\\nH     -3.078957    2.914948   -0.790992\\nH     -3.042354    1.205532   -1.243911\\nH     -1.629330   -0.643523   -0.969329\\n12\\n\\nO     -1.444628   -0.633555   -0.015918\\nC     -1.731197    1.690983    0.586198\\nC     -0.748822    0.571008    0.271649\\nC     -2.601801    2.053115   -0.608411\\nH     -1.177052    2.579071    0.909721\\nH     -2.384767    1.385517    1.411532\\nH     -0.112211    0.384882    1.142212\\nH     -0.099012    0.824193   -0.572690\\nH     -1.988407    2.366340   -1.459200\\nH     -3.271183    2.879782   -0.350184\\nH     -3.220235    1.206657   -0.922697\\nH     -1.631824   -0.640713   -0.970152\\n12\\n\\nO     -1.444965   -0.632805   -0.014424\\nC     -1.724860    1.633163    0.773858\\nC     -0.753097    0.574531    0.271340\\nC     -2.741538    2.034889   -0.284994\\nH     -1.164404    2.519795    1.089702\\nH     -2.266067    1.251150    1.647214\\nH     -0.013107    0.355339    1.047369\\nH     -0.215778    0.907187   -0.623350\\nH     -2.243234    2.427809   -1.177027\\nH     -3.404224    2.814080    0.104841\\nH     -3.362425    1.184613   -0.584107\\nH     -1.631971   -0.641916   -0.968782\\n12\\n\\nO     -1.442678   -0.634182   -0.011402\\nC     -1.695033    1.563213    0.954932\\nC     -0.757344    0.577671    0.271714\\nC     -2.841880    1.991176    0.050532\\nH     -1.129175    2.449295    1.263223\\nH     -2.116811    1.105249    1.857068\\nH      0.078034    0.338839    0.937085\\nH     -0.344187    0.989390   -0.655450\\nH     -2.464823    2.459127   -0.864423\\nH     -3.477970    2.717661    0.566017\\nH     -3.466400    1.137710   -0.231677\\nH     -1.630145   -0.647183   -0.965367\\n12\\n\\nO     -1.444124   -0.634243   -0.011135\\nC     -1.640546    1.485180    1.124911\\nC     -0.761784    0.578722    0.274565\\nC     -2.900742    1.921441    0.391720\\nH     -1.069520    2.372073    1.420712\\nH     -1.936164    0.957703    2.039140\\nH      0.152362    0.325946    0.820251\\nH     -0.473156    1.065670   -0.663140\\nH     -2.651384    2.468212   -0.523237\\nH     -3.498515    2.580943    1.028733\\nH     -3.522071    1.062228    0.120448\\nH     -1.627441   -0.648808   -0.965869\\n12\\n\\nO     -1.438666   -0.637096   -0.009566\\nC     -1.566120    1.394855    1.283314\\nC     -0.765214    0.580849    0.276547\\nC     -2.916435    1.829381    0.731534\\nH     -0.992248    2.282107    1.572564\\nH     -1.736513    0.797718    2.186628\\nH      0.216878    0.331858    0.689972\\nH     -0.612300    1.140781   -0.652625\\nH     -2.793136    2.438412   -0.169652\\nH     -3.452807    2.427813    1.474690\\nH     -3.540827    0.966178    0.480481\\nH     -1.620650   -0.653738   -0.964394\\n12\\n\\nO     -1.435226   -0.639326   -0.009430\\nC     -1.470055    1.298808    1.424751\\nC     -0.768574    0.581660    0.279328\\nC     -2.889152    1.714510    1.063983\\nH     -0.893833    2.187492    1.704729\\nH     -1.513633    0.639448    2.299313\\nH      0.263722    0.345792    0.554762\\nH     -0.749480    1.207280   -0.619919\\nH     -2.892473    2.383422    0.197531\\nH     -3.351671    2.244364    1.902919\\nH     -3.512047    0.845346    0.830487\\nH     -1.613869   -0.656296   -0.964882\\n12\\n\\nO     -1.431884   -0.641594   -0.009766\\nC     -1.354992    1.197722    1.547102\\nC     -0.771760    0.582016    0.282620\\nC     -2.819086    1.580145    1.382391\\nH     -0.777747    2.088738    1.817376\\nH     -1.274457    0.483140    2.374420\\nH      0.292931    0.369287    0.417271\\nH     -0.882434    1.264685   -0.567041\\nH     -2.945937    2.302134    0.569305\\nH     -3.195483    2.037017    2.303194\\nH     -3.438021    0.704140    1.164235\\nH     -1.606599   -0.657685   -0.966103\\n12\\n\\nO     -1.427696   -0.643832   -0.010943\\nC     -1.223523    1.093521    1.647780\\nC     -0.774747    0.582534    0.285404\\nC     -2.708148    1.427872    1.680972\\nH     -0.646579    1.987422    1.908820\\nH     -1.022663    0.331741    2.410010\\nH      0.304726    0.404358    0.279184\\nH     -1.010409    1.313151   -0.496072\\nH     -2.953467    2.193043    0.937552\\nH     -2.986181    1.812032    2.667504\\nH     -3.320476    0.543460    1.479440\\nH     -1.598489   -0.658046   -0.968009\\n12\\n\\nO     -1.424256   -0.646598   -0.012039\\nC     -1.077814    0.988380    1.725028\\nC     -0.777927    0.582118    0.288509\\nC     -2.557557    1.262321    1.953218\\nH     -0.501882    1.885555    1.976852\\nH     -0.764532    0.188157    2.405563\\nH      0.298197    0.446685    0.144844\\nH     -1.128998    1.350220   -0.408988\\nH     -2.912105    2.065000    1.298755\\nH     -2.728765    1.569308    2.989848\\nH     -3.162321    0.370356    1.762448\\nH     -1.591193   -0.658515   -0.969877\\n12\\n\\nO     -1.419379   -0.649210   -0.014599\\nC     -0.920780    0.884005    1.777404\\nC     -0.781631    0.582655    0.291226\\nC     -2.370741    1.084448    2.194949\\nH     -0.347667    1.785392    2.020680\\nH     -0.503578    0.054955    2.360660\\nH      0.273988    0.500037    0.015335\\nH     -1.238808    1.377758   -0.307362\\nH     -2.826326    1.911947    1.641768\\nH     -2.426711    1.318864    3.262660\\nH     -2.965236    0.182937    2.016850\\nH     -1.583311   -0.657690   -0.972939\\n12\\n\\nO     -1.416101   -0.651419   -0.017744\\nC     -0.755624    0.782255    1.803872\\nC     -0.785309    0.582369    0.294619\\nC     -2.151022    0.899795    2.400434\\nH     -0.185316    1.687433    2.039531\\nH     -0.246936   -0.065933    2.276582\\nH      0.233049    0.558214   -0.105210\\nH     -1.334775    1.394386   -0.193050\\nH     -2.694293    1.742820    1.961708\\nH     -2.086698    1.063179    3.480907\\nH     -2.734533   -0.010729    2.232044\\nH     -1.576902   -0.655798   -0.976687\\n12\\n\\nO     -1.412680   -0.653352   -0.021719\\nC     -0.585579    0.685648    1.803986\\nC     -0.788914    0.581887    0.298469\\nC     -1.902984    0.710434    2.566042\\nH     -0.019786    1.595467    2.032532\\nH      0.001940   -0.170627    2.155174\\nH      0.176641    0.622746   -0.215227\\nH     -1.416964    1.400299   -0.068181\\nH     -2.521086    1.557331    2.251234\\nH     -1.715564    0.808135    3.640069\\nH     -2.473280   -0.209959    2.406384\\nH     -1.570518   -0.653168   -0.981200\\n12\\n\\nO     -1.409234   -0.655385   -0.026096\\nC     -0.413889    0.596086    1.777727\\nC     -0.792414    0.581031    0.302815\\nC     -1.631250    0.520659    2.688515\\nH      0.146408    1.510944    1.999822\\nH      0.237883   -0.257340    1.998566\\nH      0.105419    0.692440   -0.313403\\nH     -1.484919    1.394900    0.065360\\nH     -2.308285    1.361458    2.506679\\nH     -1.319964    0.556303    3.737311\\nH     -2.187634   -0.409099    2.533871\\nH     -1.564545   -0.650620   -0.985913\\n12\\n\\nO     -1.407004   -0.657408   -0.030162\\nC     -0.243960    0.515137    1.725571\\nC     -0.794901    0.579116    0.307552\\nC     -1.341075    0.334776    2.765060\\nH      0.310279    1.434913    1.942317\\nH      0.455406   -0.324612    1.810333\\nH      0.021677    0.764034   -0.398022\\nH     -1.535151    1.378607    0.204487\\nH     -2.058086    1.160984    2.723925\\nH     -0.908078    0.311017    3.770116\\nH     -1.886120   -0.601848    2.611157\\nH     -1.559665   -0.648427   -0.990386\\n12\\n\\nO     -1.405111   -0.658692   -0.034736\\nC     -0.078902    0.444557    1.648641\\nC     -0.796758    0.577194    0.312372\\nC     -1.038140    0.154947    2.794355\\nH      0.467574    1.369817    1.861402\\nH      0.652060   -0.370506    1.593829\\nH     -0.074126    0.838644   -0.467830\\nH     -1.568913    1.351904    0.348267\\nH     -1.779160    0.954400    2.895224\\nH     -0.487600    0.081669    3.737641\\nH     -1.569570   -0.789422    2.640660\\nH     -1.555501   -0.645562   -0.995230\\n12\\n\\nO     -1.405377   -0.658041   -0.040185\\nC      0.078537    0.383345    1.548528\\nC     -0.796594    0.574715    0.317245\\nC     -0.729135   -0.013840    2.775938\\nH      0.619263    1.312802    1.758333\\nH      0.821214   -0.399078    1.353842\\nH     -0.179093    0.914198   -0.521128\\nH     -1.581807    1.316032    0.494324\\nH     -1.481376    0.745654    3.011711\\nH     -0.069839   -0.119016    3.643390\\nH     -1.240717   -0.969482    2.624356\\nH     -1.553247   -0.639688   -1.001066\\n12\\n\\nO     -1.404749   -0.659050   -0.044061\\nC      0.224265    0.337480    1.427370\\nC     -0.795232    0.571279    0.320903\\nC     -0.419760   -0.169014    2.710056\\nH      0.755774    1.272407    1.635826\\nH      0.963744   -0.400699    1.095722\\nH     -0.292247    0.987725   -0.558567\\nH     -1.576742    1.269263    0.636330\\nH     -1.159008    0.546022    3.085115\\nH      0.340920   -0.308111    3.484741\\nH     -0.919500   -1.129946    2.552949\\nH     -1.549614   -0.638345   -1.005173\\n12\\n\\nO     -1.406823   -0.657378   -0.048283\\nC      0.356858    0.302985    1.286184\\nC     -0.793522    0.568711    0.324811\\nC     -0.114663   -0.308298    2.597988\\nH      0.881160    1.242135    1.494180\\nH      1.073271   -0.384087    0.821075\\nH     -0.414237    1.062143   -0.576658\\nH     -1.552196    1.214253    0.777790\\nH     -0.829972    0.349931    3.101373\\nH      0.735870   -0.461784    3.269716\\nH     -0.594678   -1.278368    2.435893\\nH     -1.549957   -0.632105   -1.009558\\n12\\n\\nO     -1.408583   -0.656173   -0.051355\\nC      0.472603    0.283648    1.128860\\nC     -0.790731    0.565940    0.327358\\nC      0.178636   -0.427831    2.441903\\nH      0.988719    1.227085    1.338121\\nH      1.149816   -0.344102    0.538273\\nH     -0.539951    1.131900   -0.576353\\nH     -1.508661    1.151339    0.910038\\nH     -0.491710    0.168796    3.068793\\nH      1.107008   -0.591501    2.998315\\nH     -0.287562   -1.403295    2.271013\\nH     -1.549582   -0.627960   -1.012905\\n12\\n\\nO     -1.409686   -0.655569   -0.053971\\nC      0.569309    0.280121    0.958978\\nC     -0.787254    0.562999    0.328374\\nC      0.454176   -0.525676    2.245200\\nH      1.076204    1.227733    1.171530\\nH      1.192169   -0.281189    0.252929\\nH     -0.666990    1.195363   -0.557861\\nH     -1.447685    1.081715    1.030068\\nH     -0.153059    0.004466    2.985873\\nH      1.446622   -0.691543    2.676415\\nH     -0.001234   -1.504104    2.063499\\nH     -1.547796   -0.625667   -1.015911\\n12\\n\\nO     -1.412221   -0.653831   -0.056824\\nC      0.645529    0.289780    0.778210\\nC     -0.783842    0.560474    0.329482\\nC      0.708004   -0.599714    2.011750\\nH      1.145212    1.240614    0.993620\\nH      1.197096   -0.201567   -0.031761\\nH     -0.793869    1.253533   -0.518609\\nH     -1.369708    1.006754    1.139114\\nH      0.173603   -0.143101    2.850944\\nH      1.748859   -0.751526    2.314657\\nH      0.267646   -1.582601    1.817228\\nH     -1.548224   -0.620302   -1.018875\\n12\\n\\nO     -1.413660   -0.653164   -0.058607\\nC      0.699182    0.315717    0.591983\\nC     -0.780875    0.558106    0.330004\\nC      0.934592   -0.649294    1.745284\\nH      1.189883    1.269787    0.813999\\nH      1.167173   -0.099201   -0.308282\\nH     -0.916683    1.302018   -0.462284\\nH     -1.279228    0.929141    1.231214\\nH      0.493139   -0.267221    2.671258\\nH      2.008194   -0.783368    1.911367\\nH      0.501101   -1.632577    1.537334\\nH     -1.547282   -0.617248   -1.021032\\n12\\n\\nO     -1.416351   -0.650902   -0.060720\\nC      0.729875    0.354295    0.402300\\nC     -0.777339    0.556207    0.330025\\nC      1.128923   -0.672762    1.452457\\nH      1.214172    1.310114    0.629885\\nH      1.100872    0.015539   -0.572057\\nH     -1.031162    1.342088   -0.389087\\nH     -1.175193    0.850892    1.306225\\nH      0.787389   -0.367929    2.447027\\nH      2.218274   -0.775327    1.484564\\nH      0.704805   -1.656691    1.229375\\nH     -1.548107   -0.611879   -1.023308\\n12\\n\\nO     -1.419774   -0.648892   -0.062766\\nC      0.736315    0.406214    0.212962\\nC     -0.774345    0.553645    0.331310\\nC      1.288953   -0.669491    1.137279\\nH      1.214524    1.363678    0.446748\\nH      0.999024    0.144641   -0.818666\\nH     -1.137460    1.372864   -0.297967\\nH     -1.061296    0.770040    1.365240\\nH      1.056465   -0.443798    2.182881\\nH      2.377370   -0.729624    1.037443\\nH      0.874244   -1.653446    0.897025\\nH     -1.551209   -0.604876   -1.025227\\n12\\n\\nO     -1.421059   -0.649043   -0.064459\\nC      0.718852    0.472458    0.031008\\nC     -0.771880    0.550963    0.331295\\nC      1.409970   -0.640006    0.806375\\nH      1.190218    1.430709    0.276233\\nH      0.867423    0.292282   -1.039959\\nH     -1.232983    1.390834   -0.198243\\nH     -0.943324    0.692748    1.402848\\nH      1.303428   -0.488971    1.885225\\nH      2.478571   -0.656712    0.569888\\nH      0.994204   -1.620331    0.553219\\nH     -1.550899   -0.603561   -1.026843\\n12\\n\\nO     -1.423592   -0.647776   -0.065681\\nC      0.678341    0.549113   -0.143446\\nC     -0.768559    0.548603    0.331374\\nC      1.489737   -0.585057    0.466273\\nH      1.145191    1.506172    0.112545\\nH      0.705387    0.446307   -1.234557\\nH     -1.314950    1.400098   -0.087102\\nH     -0.818826    0.618505    1.422603\\nH      1.511981   -0.506269    1.558049\\nH      2.521492   -0.548278    0.102427\\nH      1.074048   -1.561770    0.200109\\nH     -1.553524   -0.600805   -1.028348\\n\",\"xyz\");\n",
       "\tviewergrid_17441711573396957[0][1].setStyle({\"stick\": {\"radius\": 0.05, \"color\": \"#f2f2f2\"}, \"sphere\": {\"scale\": 0.25}});\n",
       "\tviewergrid_17441711573396957[0][1].animate({\"loop\": \"forward\", \"reps\": 0, \"step\": 1, \"interval\": 120});\n",
       "\tviewergrid_17441711573396957[0][0].setHoverable({},true,\"function(atom,viewer,event,container) {\\n            if(!atom.label) {\\n            atom.label = viewer.addLabel(\\n                atom.atom+\\\":\\\"+atom.index,\\n                {\\n                    position: atom,\\n                    backgroundColor: 'black',\\n                    fontColor: 'white',\\n                    alignment: 'center',\\n                    showBackground: true,\\n                    backgroundOpacity: 0.2\\n                }\\n            );\\n        }}\",\"function(atom,viewer) {\\n            if(atom.label) {\\n            viewer.removeLabel(atom.label);\\n            delete atom.label;\\n            }\\n        }\");\n",
       "\tviewergrid_17441711573396957[0][1].setHoverable({},true,\"function(atom,viewer,event,container) {\\n            if(!atom.label) {\\n            atom.label = viewer.addLabel(\\n                atom.atom+\\\":\\\"+atom.index,\\n                {\\n                    position: atom,\\n                    backgroundColor: 'black',\\n                    fontColor: 'white',\\n                    alignment: 'center',\\n                    showBackground: true,\\n                    backgroundOpacity: 0.2\\n                }\\n            );\\n        }}\",\"function(atom,viewer) {\\n            if(atom.label) {\\n            viewer.removeLabel(atom.label);\\n            delete atom.label;\\n            }\\n        }\");\n",
       "\tviewergrid_17441711573396957[0][1].zoomTo();\n",
       "viewergrid_17441711573396957[0][1].render();\n",
       "viewergrid_17441711573396957[0][0].render();\n",
       "});\n",
       "</script>"
      ]
     },
     "metadata": {},
     "output_type": "display_data"
    },
    {
     "data": {
      "text/plain": [
       "<py3Dmol.view at 0x7f8129e950a0>"
      ]
     },
     "execution_count": 20,
     "metadata": {},
     "output_type": "execute_result"
    }
   ],
   "source": [
    "viewer = grid_viewer(viewer_grid=(1, 2), viewer_size=(800, 400), linked=True)\n",
    "\n",
    "animation_viewer(\"\".join(xyzs1), 'xyz', interval=120, viewer=viewer, viewer_loc=(0, 0))\n",
    "animation_viewer(\"\".join(xyzs2), 'xyz', interval=120, viewer=viewer, viewer_loc=(0, 1))\n",
    "\n",
    "viewer"
   ]
  },
  {
   "cell_type": "code",
   "execution_count": null,
   "metadata": {},
   "outputs": [],
   "source": []
  }
 ],
 "metadata": {
  "kernelspec": {
   "display_name": "rdmc_v1.0",
   "language": "python",
   "name": "python3"
  },
  "language_info": {
   "codemirror_mode": {
    "name": "ipython",
    "version": 3
   },
   "file_extension": ".py",
   "mimetype": "text/x-python",
   "name": "python",
   "nbconvert_exporter": "python",
   "pygments_lexer": "ipython3",
   "version": "3.12.9"
  }
 },
 "nbformat": 4,
 "nbformat_minor": 2
}
