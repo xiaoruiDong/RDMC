{
 "cells": [
  {
   "cell_type": "markdown",
   "metadata": {},
   "source": [
    "# A demo of using RDKitFF and OpenBabelFF\n",
    "Demonstrate using the force field wrapper `RDKitFF` for RDKit force field and `OpenBabelFF` for Openbabel force field. Compared to the original APIs,\n",
    "- ROO cannot be optimized by RDKit Force Field, but RDKitFF provides a workaround for it.\n",
    "- more consistent APIs using RDKitFF and OpenBabelFF\n",
    "\n",
    "Something needs to keep in mind:\n",
    "- OpenBabelFF by default allowing interfragmental interactions, but you need to set `ignore_interfrag_interactions=False` to allow interfragmental interactions for RDKitFF.\n",
    "- When dealing with constrained optimization, in using OpenBabelFF, you need to set constraint before calling `setup()` (or calling `setup()` again after setting constraints); but in RDKitFF, you can only set constraint after calling `setup()`"
   ]
  },
  {
   "cell_type": "code",
   "execution_count": 10,
   "metadata": {},
   "outputs": [
    {
     "name": "stdout",
     "output_type": "stream",
     "text": [
      "The autoreload extension is already loaded. To reload it, use:\n",
      "  %reload_ext autoreload\n"
     ]
    }
   ],
   "source": [
    "from pathlib import Path\n",
    "import sys\n",
    "# To add this RDMC into PYTHONPATH in case you doesn't do it\n",
    "sys.path.append(str(Path(\"\").absolute().parent))\n",
    "\n",
    "import numpy as np\n",
    "import matplotlib.pyplot as plt\n",
    "\n",
    "from rdmc import OpenBabelFF, RDKitFF, Mol\n",
    "from rdmc.plotter import plot_curve\n",
    "from rdtools.view import grid_viewer, mol_viewer, animation_viewer\n",
    "\n",
    "%load_ext autoreload\n",
    "%autoreload 2"
   ]
  },
  {
   "cell_type": "markdown",
   "metadata": {},
   "source": [
    "## 1. RDKit Force Field"
   ]
  },
  {
   "cell_type": "code",
   "execution_count": 4,
   "metadata": {},
   "outputs": [],
   "source": [
    "mol1 = Mol.FromSmiles('CCCO[O]')\n",
    "mol1.EmbedConformer()"
   ]
  },
  {
   "cell_type": "markdown",
   "metadata": {},
   "source": [
    "Create a force field object. Other options are `mmff94` and `uff`"
   ]
  },
  {
   "cell_type": "code",
   "execution_count": 5,
   "metadata": {},
   "outputs": [
    {
     "name": "stdout",
     "output_type": "stream",
     "text": [
      "mmff94s\n"
     ]
    }
   ],
   "source": [
    "ff = RDKitFF('mmff94s')\n",
    "print(ff.type)"
   ]
  },
  {
   "cell_type": "markdown",
   "metadata": {},
   "source": [
    "Check optimizibility and make molecule optimizable"
   ]
  },
  {
   "cell_type": "code",
   "execution_count": 6,
   "metadata": {},
   "outputs": [
    {
     "name": "stdout",
     "output_type": "stream",
     "text": [
      "Optimizability of this molecule: True\n"
     ]
    }
   ],
   "source": [
    "opt_mol = mol1.Copy()\n",
    "ff.setup(opt_mol, ignore_interfrag_interactions=False)\n",
    "print(f'Optimizability of this molecule: {ff.is_optimizable()}')"
   ]
  },
  {
   "cell_type": "markdown",
   "metadata": {},
   "source": [
    "Optimize a single conformer (conformer 0)"
   ]
  },
  {
   "cell_type": "code",
   "execution_count": 8,
   "metadata": {},
   "outputs": [
    {
     "name": "stdout",
     "output_type": "stream",
     "text": [
      "Optimization success: True\n"
     ]
    },
    {
     "data": {
      "application/3dmoljs_load.v0": "<div id=\"3dmolviewer_1711054440895725\"  style=\"position: relative; width: 400px; height: 400px;\">\n        <p id=\"3dmolwarning_1711054440895725\" style=\"background-color:#ffcccc;color:black\">3Dmol.js failed to load for some reason.  Please check your browser console for error messages.<br></p>\n        </div>\n<script>\n\nvar loadScriptAsync = function(uri){\n  return new Promise((resolve, reject) => {\n    //this is to ignore the existence of requirejs amd\n    var savedexports, savedmodule;\n    if (typeof exports !== 'undefined') savedexports = exports;\n    else exports = {}\n    if (typeof module !== 'undefined') savedmodule = module;\n    else module = {}\n\n    var tag = document.createElement('script');\n    tag.src = uri;\n    tag.async = true;\n    tag.onload = () => {\n        exports = savedexports;\n        module = savedmodule;\n        resolve();\n    };\n  var firstScriptTag = document.getElementsByTagName('script')[0];\n  firstScriptTag.parentNode.insertBefore(tag, firstScriptTag);\n});\n};\n\nif(typeof $3Dmolpromise === 'undefined') {\n$3Dmolpromise = null;\n  $3Dmolpromise = loadScriptAsync('https://cdnjs.cloudflare.com/ajax/libs/3Dmol/2.1.0/3Dmol-min.js');\n}\n\nvar viewer_1711054440895725 = null;\nvar warn = document.getElementById(\"3dmolwarning_1711054440895725\");\nif(warn) {\n    warn.parentNode.removeChild(warn);\n}\n$3Dmolpromise.then(function() {\nviewer_1711054440895725 = $3Dmol.createViewer(document.getElementById(\"3dmolviewer_1711054440895725\"),{backgroundColor:\"white\"});\nviewer_1711054440895725.zoomTo();\n\tviewer_1711054440895725.addModel(\"\\n     RDKit          3D\\n\\n 12 11  0  0  0  0  0  0  0  0999 V2000\\n   -1.5426   -0.3102   -0.0613 C   0  0  0  0  0  0  0  0  0  1  0  0\\n   -0.1266   -0.6610    0.3586 C   0  0  0  0  0  0  0  0  0  2  0  0\\n    0.8060    0.5357    0.2579 C   0  0  0  0  0  0  0  0  0  3  0  0\\n    2.1090    0.1405    0.6634 O   0  0  0  0  0  0  0  0  0  4  0  0\\n    3.0104    1.2312    0.5837 O   0  0  0  0  0  1  0  0  0  5  0  0\\n   -2.1912   -1.1879    0.0208 H   0  0  0  0  0  0  0  0  0  6  0  0\\n   -1.5695    0.0361   -1.0994 H   0  0  0  0  0  0  0  0  0  7  0  0\\n   -1.9563    0.4786    0.5751 H   0  0  0  0  0  0  0  0  0  8  0  0\\n   -0.1268   -1.0419    1.3869 H   0  0  0  0  0  0  0  0  0  9  0  0\\n    0.2549   -1.4784   -0.2649 H   0  0  0  0  0  0  0  0  0 10  0  0\\n    0.8603    0.9068   -0.7704 H   0  0  0  0  0  0  0  0  0 11  0  0\\n    0.4724    1.3504    0.9082 H   0  0  0  0  0  0  0  0  0 12  0  0\\n  1  2  1  0\\n  2  3  1  0\\n  3  4  1  0\\n  4  5  1  0\\n  1  6  1  0\\n  1  7  1  0\\n  1  8  1  0\\n  2  9  1  0\\n  2 10  1  0\\n  3 11  1  0\\n  3 12  1  0\\nM  RAD  1   5   2\\nM  END\\n\",\"sdf\");\n\tviewer_1711054440895725.setStyle({\"stick\": {\"radius\": 0.05, \"color\": \"#f2f2f2\"}, \"sphere\": {\"scale\": 0.25}});\n\tviewer_1711054440895725.addPropertyLabels(\"index\",{},{\"fontSize\": 15, \"fontColor\": \"white\", \"alignment\": \"center\", \"showBackground\": true, \"backgroundOpacity\": 0.2, \"backgroundColor\": \"black\"});\n\tviewer_1711054440895725.zoomTo();\nviewer_1711054440895725.render();\n});\n</script>",
      "text/html": [
       "<div id=\"3dmolviewer_1711054440895725\"  style=\"position: relative; width: 400px; height: 400px;\">\n",
       "        <p id=\"3dmolwarning_1711054440895725\" style=\"background-color:#ffcccc;color:black\">3Dmol.js failed to load for some reason.  Please check your browser console for error messages.<br></p>\n",
       "        </div>\n",
       "<script>\n",
       "\n",
       "var loadScriptAsync = function(uri){\n",
       "  return new Promise((resolve, reject) => {\n",
       "    //this is to ignore the existence of requirejs amd\n",
       "    var savedexports, savedmodule;\n",
       "    if (typeof exports !== 'undefined') savedexports = exports;\n",
       "    else exports = {}\n",
       "    if (typeof module !== 'undefined') savedmodule = module;\n",
       "    else module = {}\n",
       "\n",
       "    var tag = document.createElement('script');\n",
       "    tag.src = uri;\n",
       "    tag.async = true;\n",
       "    tag.onload = () => {\n",
       "        exports = savedexports;\n",
       "        module = savedmodule;\n",
       "        resolve();\n",
       "    };\n",
       "  var firstScriptTag = document.getElementsByTagName('script')[0];\n",
       "  firstScriptTag.parentNode.insertBefore(tag, firstScriptTag);\n",
       "});\n",
       "};\n",
       "\n",
       "if(typeof $3Dmolpromise === 'undefined') {\n",
       "$3Dmolpromise = null;\n",
       "  $3Dmolpromise = loadScriptAsync('https://cdnjs.cloudflare.com/ajax/libs/3Dmol/2.1.0/3Dmol-min.js');\n",
       "}\n",
       "\n",
       "var viewer_1711054440895725 = null;\n",
       "var warn = document.getElementById(\"3dmolwarning_1711054440895725\");\n",
       "if(warn) {\n",
       "    warn.parentNode.removeChild(warn);\n",
       "}\n",
       "$3Dmolpromise.then(function() {\n",
       "viewer_1711054440895725 = $3Dmol.createViewer(document.getElementById(\"3dmolviewer_1711054440895725\"),{backgroundColor:\"white\"});\n",
       "viewer_1711054440895725.zoomTo();\n",
       "\tviewer_1711054440895725.addModel(\"\\n     RDKit          3D\\n\\n 12 11  0  0  0  0  0  0  0  0999 V2000\\n   -1.5426   -0.3102   -0.0613 C   0  0  0  0  0  0  0  0  0  1  0  0\\n   -0.1266   -0.6610    0.3586 C   0  0  0  0  0  0  0  0  0  2  0  0\\n    0.8060    0.5357    0.2579 C   0  0  0  0  0  0  0  0  0  3  0  0\\n    2.1090    0.1405    0.6634 O   0  0  0  0  0  0  0  0  0  4  0  0\\n    3.0104    1.2312    0.5837 O   0  0  0  0  0  1  0  0  0  5  0  0\\n   -2.1912   -1.1879    0.0208 H   0  0  0  0  0  0  0  0  0  6  0  0\\n   -1.5695    0.0361   -1.0994 H   0  0  0  0  0  0  0  0  0  7  0  0\\n   -1.9563    0.4786    0.5751 H   0  0  0  0  0  0  0  0  0  8  0  0\\n   -0.1268   -1.0419    1.3869 H   0  0  0  0  0  0  0  0  0  9  0  0\\n    0.2549   -1.4784   -0.2649 H   0  0  0  0  0  0  0  0  0 10  0  0\\n    0.8603    0.9068   -0.7704 H   0  0  0  0  0  0  0  0  0 11  0  0\\n    0.4724    1.3504    0.9082 H   0  0  0  0  0  0  0  0  0 12  0  0\\n  1  2  1  0\\n  2  3  1  0\\n  3  4  1  0\\n  4  5  1  0\\n  1  6  1  0\\n  1  7  1  0\\n  1  8  1  0\\n  2  9  1  0\\n  2 10  1  0\\n  3 11  1  0\\n  3 12  1  0\\nM  RAD  1   5   2\\nM  END\\n\",\"sdf\");\n",
       "\tviewer_1711054440895725.setStyle({\"stick\": {\"radius\": 0.05, \"color\": \"#f2f2f2\"}, \"sphere\": {\"scale\": 0.25}});\n",
       "\tviewer_1711054440895725.addPropertyLabels(\"index\",{},{\"fontSize\": 15, \"fontColor\": \"white\", \"alignment\": \"center\", \"showBackground\": true, \"backgroundOpacity\": 0.2, \"backgroundColor\": \"black\"});\n",
       "\tviewer_1711054440895725.zoomTo();\n",
       "viewer_1711054440895725.render();\n",
       "});\n",
       "</script>"
      ]
     },
     "metadata": {},
     "output_type": "display_data"
    },
    {
     "data": {
      "text/plain": [
       "<py3Dmol.view at 0x177a08dd0>"
      ]
     },
     "execution_count": 8,
     "metadata": {},
     "output_type": "execute_result"
    }
   ],
   "source": [
    "success = ff.optimize()\n",
    "print(f'Optimization success: {success}')\n",
    "opt_mol = ff.get_optimized_mol()\n",
    "mol_viewer(opt_mol)"
   ]
  },
  {
   "cell_type": "markdown",
   "metadata": {},
   "source": [
    "## 2. Openbabel Force Field"
   ]
  },
  {
   "cell_type": "markdown",
   "metadata": {},
   "source": [
    "Create a Openbabel force field object. Options are `mmff94`, `mmff94s`, `uff`, `gaff`"
   ]
  },
  {
   "cell_type": "code",
   "execution_count": 10,
   "metadata": {},
   "outputs": [
    {
     "name": "stdout",
     "output_type": "stream",
     "text": [
      "gaff\n"
     ]
    }
   ],
   "source": [
    "obff = OpenBabelFF('gaff')\n",
    "print(obff.type)"
   ]
  },
  {
   "cell_type": "markdown",
   "metadata": {},
   "source": [
    "Check optimizibility and make molecule optimizable"
   ]
  },
  {
   "cell_type": "code",
   "execution_count": 11,
   "metadata": {},
   "outputs": [
    {
     "name": "stdout",
     "output_type": "stream",
     "text": [
      "Optimizability of this molecule: True\n"
     ]
    }
   ],
   "source": [
    "opt_mol = mol1.Copy()\n",
    "obff.setup(opt_mol)\n",
    "print(f'Optimizability of this molecule: {obff.is_optimizable()}')"
   ]
  },
  {
   "cell_type": "code",
   "execution_count": 13,
   "metadata": {},
   "outputs": [
    {
     "data": {
      "application/3dmoljs_load.v0": "<div id=\"3dmolviewer_1711054549338419\"  style=\"position: relative; width: 400px; height: 400px;\">\n        <p id=\"3dmolwarning_1711054549338419\" style=\"background-color:#ffcccc;color:black\">3Dmol.js failed to load for some reason.  Please check your browser console for error messages.<br></p>\n        </div>\n<script>\n\nvar loadScriptAsync = function(uri){\n  return new Promise((resolve, reject) => {\n    //this is to ignore the existence of requirejs amd\n    var savedexports, savedmodule;\n    if (typeof exports !== 'undefined') savedexports = exports;\n    else exports = {}\n    if (typeof module !== 'undefined') savedmodule = module;\n    else module = {}\n\n    var tag = document.createElement('script');\n    tag.src = uri;\n    tag.async = true;\n    tag.onload = () => {\n        exports = savedexports;\n        module = savedmodule;\n        resolve();\n    };\n  var firstScriptTag = document.getElementsByTagName('script')[0];\n  firstScriptTag.parentNode.insertBefore(tag, firstScriptTag);\n});\n};\n\nif(typeof $3Dmolpromise === 'undefined') {\n$3Dmolpromise = null;\n  $3Dmolpromise = loadScriptAsync('https://cdnjs.cloudflare.com/ajax/libs/3Dmol/2.1.0/3Dmol-min.js');\n}\n\nvar viewer_1711054549338419 = null;\nvar warn = document.getElementById(\"3dmolwarning_1711054549338419\");\nif(warn) {\n    warn.parentNode.removeChild(warn);\n}\n$3Dmolpromise.then(function() {\nviewer_1711054549338419 = $3Dmol.createViewer(document.getElementById(\"3dmolviewer_1711054549338419\"),{backgroundColor:\"white\"});\nviewer_1711054549338419.zoomTo();\n\tviewer_1711054549338419.addModel(\"\\n     RDKit          3D\\n\\n 12 11  0  0  0  0  0  0  0  0999 V2000\\n   -1.5544   -0.2992   -0.0767 C   0  0  0  0  0  0  0  0  0  1  0  0\\n   -0.1271   -0.6779    0.3572 C   0  0  0  0  0  0  0  0  0  2  0  0\\n    0.8203    0.5318    0.2699 C   0  0  0  0  0  0  0  0  0  3  0  0\\n    2.1405    0.1115    0.6693 O   0  0  0  0  0  0  0  0  0  4  0  0\\n    2.9671    1.3641    0.5514 O   0  0  0  0  0  1  0  0  0  5  0  0\\n   -2.2190   -1.1608    0.0171 H   0  0  0  0  0  0  0  0  0  6  0  0\\n   -1.5652    0.0313   -1.1183 H   0  0  0  0  0  0  0  0  0  7  0  0\\n   -1.9466    0.5065    0.5490 H   0  0  0  0  0  0  0  0  0  8  0  0\\n   -0.1464   -1.0531    1.3833 H   0  0  0  0  0  0  0  0  0  9  0  0\\n    0.2452   -1.4827   -0.2818 H   0  0  0  0  0  0  0  0  0 10  0  0\\n    0.8604    0.9078   -0.7567 H   0  0  0  0  0  0  0  0  0 11  0  0\\n    0.4799    1.3266    0.9400 H   0  0  0  0  0  0  0  0  0 12  0  0\\n  1  2  1  0\\n  2  3  1  0\\n  3  4  1  0\\n  4  5  1  0\\n  1  6  1  0\\n  1  7  1  0\\n  1  8  1  0\\n  2  9  1  0\\n  2 10  1  0\\n  3 11  1  0\\n  3 12  1  0\\nM  RAD  1   5   2\\nM  END\\n\",\"sdf\");\n\tviewer_1711054549338419.setStyle({\"stick\": {\"radius\": 0.05, \"color\": \"#f2f2f2\"}, \"sphere\": {\"scale\": 0.25}});\n\tviewer_1711054549338419.addPropertyLabels(\"index\",{},{\"fontSize\": 15, \"fontColor\": \"white\", \"alignment\": \"center\", \"showBackground\": true, \"backgroundOpacity\": 0.2, \"backgroundColor\": \"black\"});\n\tviewer_1711054549338419.zoomTo();\nviewer_1711054549338419.render();\n});\n</script>",
      "text/html": [
       "<div id=\"3dmolviewer_1711054549338419\"  style=\"position: relative; width: 400px; height: 400px;\">\n",
       "        <p id=\"3dmolwarning_1711054549338419\" style=\"background-color:#ffcccc;color:black\">3Dmol.js failed to load for some reason.  Please check your browser console for error messages.<br></p>\n",
       "        </div>\n",
       "<script>\n",
       "\n",
       "var loadScriptAsync = function(uri){\n",
       "  return new Promise((resolve, reject) => {\n",
       "    //this is to ignore the existence of requirejs amd\n",
       "    var savedexports, savedmodule;\n",
       "    if (typeof exports !== 'undefined') savedexports = exports;\n",
       "    else exports = {}\n",
       "    if (typeof module !== 'undefined') savedmodule = module;\n",
       "    else module = {}\n",
       "\n",
       "    var tag = document.createElement('script');\n",
       "    tag.src = uri;\n",
       "    tag.async = true;\n",
       "    tag.onload = () => {\n",
       "        exports = savedexports;\n",
       "        module = savedmodule;\n",
       "        resolve();\n",
       "    };\n",
       "  var firstScriptTag = document.getElementsByTagName('script')[0];\n",
       "  firstScriptTag.parentNode.insertBefore(tag, firstScriptTag);\n",
       "});\n",
       "};\n",
       "\n",
       "if(typeof $3Dmolpromise === 'undefined') {\n",
       "$3Dmolpromise = null;\n",
       "  $3Dmolpromise = loadScriptAsync('https://cdnjs.cloudflare.com/ajax/libs/3Dmol/2.1.0/3Dmol-min.js');\n",
       "}\n",
       "\n",
       "var viewer_1711054549338419 = null;\n",
       "var warn = document.getElementById(\"3dmolwarning_1711054549338419\");\n",
       "if(warn) {\n",
       "    warn.parentNode.removeChild(warn);\n",
       "}\n",
       "$3Dmolpromise.then(function() {\n",
       "viewer_1711054549338419 = $3Dmol.createViewer(document.getElementById(\"3dmolviewer_1711054549338419\"),{backgroundColor:\"white\"});\n",
       "viewer_1711054549338419.zoomTo();\n",
       "\tviewer_1711054549338419.addModel(\"\\n     RDKit          3D\\n\\n 12 11  0  0  0  0  0  0  0  0999 V2000\\n   -1.5544   -0.2992   -0.0767 C   0  0  0  0  0  0  0  0  0  1  0  0\\n   -0.1271   -0.6779    0.3572 C   0  0  0  0  0  0  0  0  0  2  0  0\\n    0.8203    0.5318    0.2699 C   0  0  0  0  0  0  0  0  0  3  0  0\\n    2.1405    0.1115    0.6693 O   0  0  0  0  0  0  0  0  0  4  0  0\\n    2.9671    1.3641    0.5514 O   0  0  0  0  0  1  0  0  0  5  0  0\\n   -2.2190   -1.1608    0.0171 H   0  0  0  0  0  0  0  0  0  6  0  0\\n   -1.5652    0.0313   -1.1183 H   0  0  0  0  0  0  0  0  0  7  0  0\\n   -1.9466    0.5065    0.5490 H   0  0  0  0  0  0  0  0  0  8  0  0\\n   -0.1464   -1.0531    1.3833 H   0  0  0  0  0  0  0  0  0  9  0  0\\n    0.2452   -1.4827   -0.2818 H   0  0  0  0  0  0  0  0  0 10  0  0\\n    0.8604    0.9078   -0.7567 H   0  0  0  0  0  0  0  0  0 11  0  0\\n    0.4799    1.3266    0.9400 H   0  0  0  0  0  0  0  0  0 12  0  0\\n  1  2  1  0\\n  2  3  1  0\\n  3  4  1  0\\n  4  5  1  0\\n  1  6  1  0\\n  1  7  1  0\\n  1  8  1  0\\n  2  9  1  0\\n  2 10  1  0\\n  3 11  1  0\\n  3 12  1  0\\nM  RAD  1   5   2\\nM  END\\n\",\"sdf\");\n",
       "\tviewer_1711054549338419.setStyle({\"stick\": {\"radius\": 0.05, \"color\": \"#f2f2f2\"}, \"sphere\": {\"scale\": 0.25}});\n",
       "\tviewer_1711054549338419.addPropertyLabels(\"index\",{},{\"fontSize\": 15, \"fontColor\": \"white\", \"alignment\": \"center\", \"showBackground\": true, \"backgroundOpacity\": 0.2, \"backgroundColor\": \"black\"});\n",
       "\tviewer_1711054549338419.zoomTo();\n",
       "viewer_1711054549338419.render();\n",
       "});\n",
       "</script>"
      ]
     },
     "metadata": {},
     "output_type": "display_data"
    },
    {
     "data": {
      "text/plain": [
       "<py3Dmol.view at 0x11ca52990>"
      ]
     },
     "execution_count": 13,
     "metadata": {},
     "output_type": "execute_result"
    }
   ],
   "source": [
    "obff.optimize()\n",
    "opt_mol = obff.get_optimized_mol()\n",
    "mol_viewer(opt_mol)"
   ]
  },
  {
   "cell_type": "markdown",
   "metadata": {},
   "source": [
    "## 3. Intermolecular optimization\n",
    "RDKitFF and OpenBabelFF may not converge to the same orientation due to being differently parametrized"
   ]
  },
  {
   "cell_type": "markdown",
   "metadata": {},
   "source": [
    "Before Optimization"
   ]
  },
  {
   "cell_type": "code",
   "execution_count": 16,
   "metadata": {},
   "outputs": [
    {
     "data": {
      "application/3dmoljs_load.v0": "<div id=\"3dmolviewer_1711054624873312\"  style=\"position: relative; width: 400px; height: 400px;\">\n        <p id=\"3dmolwarning_1711054624873312\" style=\"background-color:#ffcccc;color:black\">3Dmol.js failed to load for some reason.  Please check your browser console for error messages.<br></p>\n        </div>\n<script>\n\nvar loadScriptAsync = function(uri){\n  return new Promise((resolve, reject) => {\n    //this is to ignore the existence of requirejs amd\n    var savedexports, savedmodule;\n    if (typeof exports !== 'undefined') savedexports = exports;\n    else exports = {}\n    if (typeof module !== 'undefined') savedmodule = module;\n    else module = {}\n\n    var tag = document.createElement('script');\n    tag.src = uri;\n    tag.async = true;\n    tag.onload = () => {\n        exports = savedexports;\n        module = savedmodule;\n        resolve();\n    };\n  var firstScriptTag = document.getElementsByTagName('script')[0];\n  firstScriptTag.parentNode.insertBefore(tag, firstScriptTag);\n});\n};\n\nif(typeof $3Dmolpromise === 'undefined') {\n$3Dmolpromise = null;\n  $3Dmolpromise = loadScriptAsync('https://cdnjs.cloudflare.com/ajax/libs/3Dmol/2.1.0/3Dmol-min.js');\n}\n\nvar viewer_1711054624873312 = null;\nvar warn = document.getElementById(\"3dmolwarning_1711054624873312\");\nif(warn) {\n    warn.parentNode.removeChild(warn);\n}\n$3Dmolpromise.then(function() {\nviewer_1711054624873312 = $3Dmol.createViewer(document.getElementById(\"3dmolviewer_1711054624873312\"),{backgroundColor:\"white\"});\nviewer_1711054624873312.zoomTo();\n\tviewer_1711054624873312.addModel(\"\\n     RDKit          3D\\n\\n  8  6  0  0  0  0  0  0  0  0999 V2000\\n   -0.0321    0.0069    0.0046 C   0  0  0  0  0  0  0  0  0  1  0  0\\n    1.1659   -0.0246   -0.1596 O   0  0  0  0  0  0  0  0  0  2  0  0\\n   -0.0335   -0.0115    0.0033 C   0  0  0  0  0  0  0  0  0  3  0  0\\n    1.1681   -0.1635   -0.0898 O   0  0  0  0  0  0  0  0  0  4  0  0\\n   -0.5753   -0.9283    0.0474 H   0  0  0  0  0  0  0  0  0  5  0  0\\n   -0.5585    0.9461    0.1076 H   0  0  0  0  0  0  0  0  0  6  0  0\\n   -0.7164   -0.8252    0.0944 H   0  0  0  0  0  0  0  0  0  7  0  0\\n   -0.4182    1.0002   -0.0079 H   0  0  0  0  0  0  0  0  0  8  0  0\\n  1  2  2  0\\n  3  4  2  0\\n  1  5  1  0\\n  1  6  1  0\\n  3  7  1  0\\n  3  8  1  0\\nM  END\\n\",\"sdf\");\n\tviewer_1711054624873312.setStyle({\"stick\": {\"radius\": 0.05, \"color\": \"#f2f2f2\"}, \"sphere\": {\"scale\": 0.25}});\n\tviewer_1711054624873312.addPropertyLabels(\"index\",{},{\"fontSize\": 15, \"fontColor\": \"white\", \"alignment\": \"center\", \"showBackground\": true, \"backgroundOpacity\": 0.2, \"backgroundColor\": \"black\"});\n\tviewer_1711054624873312.zoomTo();\nviewer_1711054624873312.render();\n});\n</script>",
      "text/html": [
       "<div id=\"3dmolviewer_1711054624873312\"  style=\"position: relative; width: 400px; height: 400px;\">\n",
       "        <p id=\"3dmolwarning_1711054624873312\" style=\"background-color:#ffcccc;color:black\">3Dmol.js failed to load for some reason.  Please check your browser console for error messages.<br></p>\n",
       "        </div>\n",
       "<script>\n",
       "\n",
       "var loadScriptAsync = function(uri){\n",
       "  return new Promise((resolve, reject) => {\n",
       "    //this is to ignore the existence of requirejs amd\n",
       "    var savedexports, savedmodule;\n",
       "    if (typeof exports !== 'undefined') savedexports = exports;\n",
       "    else exports = {}\n",
       "    if (typeof module !== 'undefined') savedmodule = module;\n",
       "    else module = {}\n",
       "\n",
       "    var tag = document.createElement('script');\n",
       "    tag.src = uri;\n",
       "    tag.async = true;\n",
       "    tag.onload = () => {\n",
       "        exports = savedexports;\n",
       "        module = savedmodule;\n",
       "        resolve();\n",
       "    };\n",
       "  var firstScriptTag = document.getElementsByTagName('script')[0];\n",
       "  firstScriptTag.parentNode.insertBefore(tag, firstScriptTag);\n",
       "});\n",
       "};\n",
       "\n",
       "if(typeof $3Dmolpromise === 'undefined') {\n",
       "$3Dmolpromise = null;\n",
       "  $3Dmolpromise = loadScriptAsync('https://cdnjs.cloudflare.com/ajax/libs/3Dmol/2.1.0/3Dmol-min.js');\n",
       "}\n",
       "\n",
       "var viewer_1711054624873312 = null;\n",
       "var warn = document.getElementById(\"3dmolwarning_1711054624873312\");\n",
       "if(warn) {\n",
       "    warn.parentNode.removeChild(warn);\n",
       "}\n",
       "$3Dmolpromise.then(function() {\n",
       "viewer_1711054624873312 = $3Dmol.createViewer(document.getElementById(\"3dmolviewer_1711054624873312\"),{backgroundColor:\"white\"});\n",
       "viewer_1711054624873312.zoomTo();\n",
       "\tviewer_1711054624873312.addModel(\"\\n     RDKit          3D\\n\\n  8  6  0  0  0  0  0  0  0  0999 V2000\\n   -0.0321    0.0069    0.0046 C   0  0  0  0  0  0  0  0  0  1  0  0\\n    1.1659   -0.0246   -0.1596 O   0  0  0  0  0  0  0  0  0  2  0  0\\n   -0.0335   -0.0115    0.0033 C   0  0  0  0  0  0  0  0  0  3  0  0\\n    1.1681   -0.1635   -0.0898 O   0  0  0  0  0  0  0  0  0  4  0  0\\n   -0.5753   -0.9283    0.0474 H   0  0  0  0  0  0  0  0  0  5  0  0\\n   -0.5585    0.9461    0.1076 H   0  0  0  0  0  0  0  0  0  6  0  0\\n   -0.7164   -0.8252    0.0944 H   0  0  0  0  0  0  0  0  0  7  0  0\\n   -0.4182    1.0002   -0.0079 H   0  0  0  0  0  0  0  0  0  8  0  0\\n  1  2  2  0\\n  3  4  2  0\\n  1  5  1  0\\n  1  6  1  0\\n  3  7  1  0\\n  3  8  1  0\\nM  END\\n\",\"sdf\");\n",
       "\tviewer_1711054624873312.setStyle({\"stick\": {\"radius\": 0.05, \"color\": \"#f2f2f2\"}, \"sphere\": {\"scale\": 0.25}});\n",
       "\tviewer_1711054624873312.addPropertyLabels(\"index\",{},{\"fontSize\": 15, \"fontColor\": \"white\", \"alignment\": \"center\", \"showBackground\": true, \"backgroundOpacity\": 0.2, \"backgroundColor\": \"black\"});\n",
       "\tviewer_1711054624873312.zoomTo();\n",
       "viewer_1711054624873312.render();\n",
       "});\n",
       "</script>"
      ]
     },
     "metadata": {},
     "output_type": "display_data"
    },
    {
     "data": {
      "text/plain": [
       "<py3Dmol.view at 0x17a3c0dd0>"
      ]
     },
     "execution_count": 16,
     "metadata": {},
     "output_type": "execute_result"
    }
   ],
   "source": [
    "mol2 = Mol.FromSmiles('C=O.C=O')\n",
    "mol2.EmbedConformer()\n",
    "mol_viewer(mol2)"
   ]
  },
  {
   "cell_type": "markdown",
   "metadata": {},
   "source": [
    "RDKitFF"
   ]
  },
  {
   "cell_type": "code",
   "execution_count": 18,
   "metadata": {},
   "outputs": [
    {
     "data": {
      "application/3dmoljs_load.v0": "<div id=\"3dmolviewer_171105478107425\"  style=\"position: relative; width: 400px; height: 400px;\">\n        <p id=\"3dmolwarning_171105478107425\" style=\"background-color:#ffcccc;color:black\">3Dmol.js failed to load for some reason.  Please check your browser console for error messages.<br></p>\n        </div>\n<script>\n\nvar loadScriptAsync = function(uri){\n  return new Promise((resolve, reject) => {\n    //this is to ignore the existence of requirejs amd\n    var savedexports, savedmodule;\n    if (typeof exports !== 'undefined') savedexports = exports;\n    else exports = {}\n    if (typeof module !== 'undefined') savedmodule = module;\n    else module = {}\n\n    var tag = document.createElement('script');\n    tag.src = uri;\n    tag.async = true;\n    tag.onload = () => {\n        exports = savedexports;\n        module = savedmodule;\n        resolve();\n    };\n  var firstScriptTag = document.getElementsByTagName('script')[0];\n  firstScriptTag.parentNode.insertBefore(tag, firstScriptTag);\n});\n};\n\nif(typeof $3Dmolpromise === 'undefined') {\n$3Dmolpromise = null;\n  $3Dmolpromise = loadScriptAsync('https://cdnjs.cloudflare.com/ajax/libs/3Dmol/2.1.0/3Dmol-min.js');\n}\n\nvar viewer_171105478107425 = null;\nvar warn = document.getElementById(\"3dmolwarning_171105478107425\");\nif(warn) {\n    warn.parentNode.removeChild(warn);\n}\n$3Dmolpromise.then(function() {\nviewer_171105478107425 = $3Dmol.createViewer(document.getElementById(\"3dmolviewer_171105478107425\"),{backgroundColor:\"white\"});\nviewer_171105478107425.zoomTo();\n\tviewer_171105478107425.addModel(\"\\n     RDKit          3D\\n\\n  8  6  0  0  0  0  0  0  0  0999 V2000\\n    0.3013    1.4798    0.6965 C   0  0  0  0  0  0  0  0  0  1  0  0\\n    0.7048    0.5731    1.4175 O   0  0  0  0  0  0  0  0  0  2  0  0\\n   -0.3016   -1.4798   -0.6963 C   0  0  0  0  0  0  0  0  0  3  0  0\\n   -0.7513   -0.5744   -1.3911 O   0  0  0  0  0  0  0  0  0  4  0  0\\n    0.9872    2.1315    0.1322 H   0  0  0  0  0  0  0  0  0  5  0  0\\n   -0.7718    1.6926    0.5644 H   0  0  0  0  0  0  0  0  0  6  0  0\\n   -0.7595   -1.7667    0.2641 H   0  0  0  0  0  0  0  0  0  7  0  0\\n    0.5910   -2.0561   -0.9873 H   0  0  0  0  0  0  0  0  0  8  0  0\\n  1  2  2  0\\n  3  4  2  0\\n  1  5  1  0\\n  1  6  1  0\\n  3  7  1  0\\n  3  8  1  0\\nM  END\\n\",\"sdf\");\n\tviewer_171105478107425.setStyle({\"stick\": {\"radius\": 0.05, \"color\": \"#f2f2f2\"}, \"sphere\": {\"scale\": 0.25}});\n\tviewer_171105478107425.addPropertyLabels(\"index\",{},{\"fontSize\": 15, \"fontColor\": \"white\", \"alignment\": \"center\", \"showBackground\": true, \"backgroundOpacity\": 0.2, \"backgroundColor\": \"black\"});\n\tviewer_171105478107425.zoomTo();\nviewer_171105478107425.render();\n});\n</script>",
      "text/html": [
       "<div id=\"3dmolviewer_171105478107425\"  style=\"position: relative; width: 400px; height: 400px;\">\n",
       "        <p id=\"3dmolwarning_171105478107425\" style=\"background-color:#ffcccc;color:black\">3Dmol.js failed to load for some reason.  Please check your browser console for error messages.<br></p>\n",
       "        </div>\n",
       "<script>\n",
       "\n",
       "var loadScriptAsync = function(uri){\n",
       "  return new Promise((resolve, reject) => {\n",
       "    //this is to ignore the existence of requirejs amd\n",
       "    var savedexports, savedmodule;\n",
       "    if (typeof exports !== 'undefined') savedexports = exports;\n",
       "    else exports = {}\n",
       "    if (typeof module !== 'undefined') savedmodule = module;\n",
       "    else module = {}\n",
       "\n",
       "    var tag = document.createElement('script');\n",
       "    tag.src = uri;\n",
       "    tag.async = true;\n",
       "    tag.onload = () => {\n",
       "        exports = savedexports;\n",
       "        module = savedmodule;\n",
       "        resolve();\n",
       "    };\n",
       "  var firstScriptTag = document.getElementsByTagName('script')[0];\n",
       "  firstScriptTag.parentNode.insertBefore(tag, firstScriptTag);\n",
       "});\n",
       "};\n",
       "\n",
       "if(typeof $3Dmolpromise === 'undefined') {\n",
       "$3Dmolpromise = null;\n",
       "  $3Dmolpromise = loadScriptAsync('https://cdnjs.cloudflare.com/ajax/libs/3Dmol/2.1.0/3Dmol-min.js');\n",
       "}\n",
       "\n",
       "var viewer_171105478107425 = null;\n",
       "var warn = document.getElementById(\"3dmolwarning_171105478107425\");\n",
       "if(warn) {\n",
       "    warn.parentNode.removeChild(warn);\n",
       "}\n",
       "$3Dmolpromise.then(function() {\n",
       "viewer_171105478107425 = $3Dmol.createViewer(document.getElementById(\"3dmolviewer_171105478107425\"),{backgroundColor:\"white\"});\n",
       "viewer_171105478107425.zoomTo();\n",
       "\tviewer_171105478107425.addModel(\"\\n     RDKit          3D\\n\\n  8  6  0  0  0  0  0  0  0  0999 V2000\\n    0.3013    1.4798    0.6965 C   0  0  0  0  0  0  0  0  0  1  0  0\\n    0.7048    0.5731    1.4175 O   0  0  0  0  0  0  0  0  0  2  0  0\\n   -0.3016   -1.4798   -0.6963 C   0  0  0  0  0  0  0  0  0  3  0  0\\n   -0.7513   -0.5744   -1.3911 O   0  0  0  0  0  0  0  0  0  4  0  0\\n    0.9872    2.1315    0.1322 H   0  0  0  0  0  0  0  0  0  5  0  0\\n   -0.7718    1.6926    0.5644 H   0  0  0  0  0  0  0  0  0  6  0  0\\n   -0.7595   -1.7667    0.2641 H   0  0  0  0  0  0  0  0  0  7  0  0\\n    0.5910   -2.0561   -0.9873 H   0  0  0  0  0  0  0  0  0  8  0  0\\n  1  2  2  0\\n  3  4  2  0\\n  1  5  1  0\\n  1  6  1  0\\n  3  7  1  0\\n  3  8  1  0\\nM  END\\n\",\"sdf\");\n",
       "\tviewer_171105478107425.setStyle({\"stick\": {\"radius\": 0.05, \"color\": \"#f2f2f2\"}, \"sphere\": {\"scale\": 0.25}});\n",
       "\tviewer_171105478107425.addPropertyLabels(\"index\",{},{\"fontSize\": 15, \"fontColor\": \"white\", \"alignment\": \"center\", \"showBackground\": true, \"backgroundOpacity\": 0.2, \"backgroundColor\": \"black\"});\n",
       "\tviewer_171105478107425.zoomTo();\n",
       "viewer_171105478107425.render();\n",
       "});\n",
       "</script>"
      ]
     },
     "metadata": {},
     "output_type": "display_data"
    },
    {
     "data": {
      "text/plain": [
       "<py3Dmol.view at 0x17cbc0790>"
      ]
     },
     "execution_count": 18,
     "metadata": {},
     "output_type": "execute_result"
    }
   ],
   "source": [
    "ff = RDKitFF()\n",
    "ff.setup(mol2.Copy(), ignore_interfrag_interactions=False)\n",
    "ff.optimize()\n",
    "mol_viewer(ff.get_optimized_mol())"
   ]
  },
  {
   "cell_type": "markdown",
   "metadata": {},
   "source": [
    "OpenBabelFF"
   ]
  },
  {
   "cell_type": "code",
   "execution_count": 19,
   "metadata": {},
   "outputs": [
    {
     "data": {
      "application/3dmoljs_load.v0": "<div id=\"3dmolviewer_1711054795899416\"  style=\"position: relative; width: 400px; height: 400px;\">\n        <p id=\"3dmolwarning_1711054795899416\" style=\"background-color:#ffcccc;color:black\">3Dmol.js failed to load for some reason.  Please check your browser console for error messages.<br></p>\n        </div>\n<script>\n\nvar loadScriptAsync = function(uri){\n  return new Promise((resolve, reject) => {\n    //this is to ignore the existence of requirejs amd\n    var savedexports, savedmodule;\n    if (typeof exports !== 'undefined') savedexports = exports;\n    else exports = {}\n    if (typeof module !== 'undefined') savedmodule = module;\n    else module = {}\n\n    var tag = document.createElement('script');\n    tag.src = uri;\n    tag.async = true;\n    tag.onload = () => {\n        exports = savedexports;\n        module = savedmodule;\n        resolve();\n    };\n  var firstScriptTag = document.getElementsByTagName('script')[0];\n  firstScriptTag.parentNode.insertBefore(tag, firstScriptTag);\n});\n};\n\nif(typeof $3Dmolpromise === 'undefined') {\n$3Dmolpromise = null;\n  $3Dmolpromise = loadScriptAsync('https://cdnjs.cloudflare.com/ajax/libs/3Dmol/2.1.0/3Dmol-min.js');\n}\n\nvar viewer_1711054795899416 = null;\nvar warn = document.getElementById(\"3dmolwarning_1711054795899416\");\nif(warn) {\n    warn.parentNode.removeChild(warn);\n}\n$3Dmolpromise.then(function() {\nviewer_1711054795899416 = $3Dmol.createViewer(document.getElementById(\"3dmolviewer_1711054795899416\"),{backgroundColor:\"white\"});\nviewer_1711054795899416.zoomTo();\n\tviewer_1711054795899416.addModel(\"\\n     RDKit          3D\\n\\n  8  6  0  0  0  0  0  0  0  0999 V2000\\n   -0.4446    0.0731    1.4457 C   0  0  0  0  0  0  0  0  0  1  0  0\\n   -0.2504    1.0090    0.6773 O   0  0  0  0  0  0  0  0  0  2  0  0\\n    0.2699   -0.4378   -1.8636 C   0  0  0  0  0  0  0  0  0  3  0  0\\n    0.4429   -1.5947   -1.4967 O   0  0  0  0  0  0  0  0  0  4  0  0\\n    0.2492   -0.7796    1.5246 H   0  0  0  0  0  0  0  0  0  5  0  0\\n   -1.3292    0.0279    2.1010 H   0  0  0  0  0  0  0  0  0  6  0  0\\n   -0.7174   -0.0625   -2.1751 H   0  0  0  0  0  0  0  0  0  7  0  0\\n    1.0885    0.3008   -1.8927 H   0  0  0  0  0  0  0  0  0  8  0  0\\n  1  2  2  0\\n  3  4  2  0\\n  1  5  1  0\\n  1  6  1  0\\n  3  7  1  0\\n  3  8  1  0\\nM  END\\n\",\"sdf\");\n\tviewer_1711054795899416.setStyle({\"stick\": {\"radius\": 0.05, \"color\": \"#f2f2f2\"}, \"sphere\": {\"scale\": 0.25}});\n\tviewer_1711054795899416.addPropertyLabels(\"index\",{},{\"fontSize\": 15, \"fontColor\": \"white\", \"alignment\": \"center\", \"showBackground\": true, \"backgroundOpacity\": 0.2, \"backgroundColor\": \"black\"});\n\tviewer_1711054795899416.zoomTo();\nviewer_1711054795899416.render();\n});\n</script>",
      "text/html": [
       "<div id=\"3dmolviewer_1711054795899416\"  style=\"position: relative; width: 400px; height: 400px;\">\n",
       "        <p id=\"3dmolwarning_1711054795899416\" style=\"background-color:#ffcccc;color:black\">3Dmol.js failed to load for some reason.  Please check your browser console for error messages.<br></p>\n",
       "        </div>\n",
       "<script>\n",
       "\n",
       "var loadScriptAsync = function(uri){\n",
       "  return new Promise((resolve, reject) => {\n",
       "    //this is to ignore the existence of requirejs amd\n",
       "    var savedexports, savedmodule;\n",
       "    if (typeof exports !== 'undefined') savedexports = exports;\n",
       "    else exports = {}\n",
       "    if (typeof module !== 'undefined') savedmodule = module;\n",
       "    else module = {}\n",
       "\n",
       "    var tag = document.createElement('script');\n",
       "    tag.src = uri;\n",
       "    tag.async = true;\n",
       "    tag.onload = () => {\n",
       "        exports = savedexports;\n",
       "        module = savedmodule;\n",
       "        resolve();\n",
       "    };\n",
       "  var firstScriptTag = document.getElementsByTagName('script')[0];\n",
       "  firstScriptTag.parentNode.insertBefore(tag, firstScriptTag);\n",
       "});\n",
       "};\n",
       "\n",
       "if(typeof $3Dmolpromise === 'undefined') {\n",
       "$3Dmolpromise = null;\n",
       "  $3Dmolpromise = loadScriptAsync('https://cdnjs.cloudflare.com/ajax/libs/3Dmol/2.1.0/3Dmol-min.js');\n",
       "}\n",
       "\n",
       "var viewer_1711054795899416 = null;\n",
       "var warn = document.getElementById(\"3dmolwarning_1711054795899416\");\n",
       "if(warn) {\n",
       "    warn.parentNode.removeChild(warn);\n",
       "}\n",
       "$3Dmolpromise.then(function() {\n",
       "viewer_1711054795899416 = $3Dmol.createViewer(document.getElementById(\"3dmolviewer_1711054795899416\"),{backgroundColor:\"white\"});\n",
       "viewer_1711054795899416.zoomTo();\n",
       "\tviewer_1711054795899416.addModel(\"\\n     RDKit          3D\\n\\n  8  6  0  0  0  0  0  0  0  0999 V2000\\n   -0.4446    0.0731    1.4457 C   0  0  0  0  0  0  0  0  0  1  0  0\\n   -0.2504    1.0090    0.6773 O   0  0  0  0  0  0  0  0  0  2  0  0\\n    0.2699   -0.4378   -1.8636 C   0  0  0  0  0  0  0  0  0  3  0  0\\n    0.4429   -1.5947   -1.4967 O   0  0  0  0  0  0  0  0  0  4  0  0\\n    0.2492   -0.7796    1.5246 H   0  0  0  0  0  0  0  0  0  5  0  0\\n   -1.3292    0.0279    2.1010 H   0  0  0  0  0  0  0  0  0  6  0  0\\n   -0.7174   -0.0625   -2.1751 H   0  0  0  0  0  0  0  0  0  7  0  0\\n    1.0885    0.3008   -1.8927 H   0  0  0  0  0  0  0  0  0  8  0  0\\n  1  2  2  0\\n  3  4  2  0\\n  1  5  1  0\\n  1  6  1  0\\n  3  7  1  0\\n  3  8  1  0\\nM  END\\n\",\"sdf\");\n",
       "\tviewer_1711054795899416.setStyle({\"stick\": {\"radius\": 0.05, \"color\": \"#f2f2f2\"}, \"sphere\": {\"scale\": 0.25}});\n",
       "\tviewer_1711054795899416.addPropertyLabels(\"index\",{},{\"fontSize\": 15, \"fontColor\": \"white\", \"alignment\": \"center\", \"showBackground\": true, \"backgroundOpacity\": 0.2, \"backgroundColor\": \"black\"});\n",
       "\tviewer_1711054795899416.zoomTo();\n",
       "viewer_1711054795899416.render();\n",
       "});\n",
       "</script>"
      ]
     },
     "metadata": {},
     "output_type": "display_data"
    },
    {
     "data": {
      "text/plain": [
       "<py3Dmol.view at 0x109902810>"
      ]
     },
     "execution_count": 19,
     "metadata": {},
     "output_type": "execute_result"
    }
   ],
   "source": [
    "ff = OpenBabelFF()\n",
    "ff.setup(mol2.Copy())\n",
    "ff.optimize()\n",
    "mol_viewer(ff.get_optimized_mol())"
   ]
  },
  {
   "cell_type": "markdown",
   "metadata": {},
   "source": [
    "## 4. Constrained optimization"
   ]
  },
  {
   "cell_type": "markdown",
   "metadata": {},
   "source": [
    "Set atom (1, 2) and (0, 3) = 2 Angstrom"
   ]
  },
  {
   "cell_type": "code",
   "execution_count": 24,
   "metadata": {},
   "outputs": [
    {
     "name": "stdout",
     "output_type": "stream",
     "text": [
      "Before optimization\n",
      "d(1,2) = 3.091533633597571\n",
      "d(0,3) = 5.54344245067431\n",
      "\n"
     ]
    },
    {
     "data": {
      "application/3dmoljs_load.v0": "<div id=\"3dmolviewer_1711054956206383\"  style=\"position: relative; width: 400px; height: 400px;\">\n        <p id=\"3dmolwarning_1711054956206383\" style=\"background-color:#ffcccc;color:black\">3Dmol.js failed to load for some reason.  Please check your browser console for error messages.<br></p>\n        </div>\n<script>\n\nvar loadScriptAsync = function(uri){\n  return new Promise((resolve, reject) => {\n    //this is to ignore the existence of requirejs amd\n    var savedexports, savedmodule;\n    if (typeof exports !== 'undefined') savedexports = exports;\n    else exports = {}\n    if (typeof module !== 'undefined') savedmodule = module;\n    else module = {}\n\n    var tag = document.createElement('script');\n    tag.src = uri;\n    tag.async = true;\n    tag.onload = () => {\n        exports = savedexports;\n        module = savedmodule;\n        resolve();\n    };\n  var firstScriptTag = document.getElementsByTagName('script')[0];\n  firstScriptTag.parentNode.insertBefore(tag, firstScriptTag);\n});\n};\n\nif(typeof $3Dmolpromise === 'undefined') {\n$3Dmolpromise = null;\n  $3Dmolpromise = loadScriptAsync('https://cdnjs.cloudflare.com/ajax/libs/3Dmol/2.1.0/3Dmol-min.js');\n}\n\nvar viewer_1711054956206383 = null;\nvar warn = document.getElementById(\"3dmolwarning_1711054956206383\");\nif(warn) {\n    warn.parentNode.removeChild(warn);\n}\n$3Dmolpromise.then(function() {\nviewer_1711054956206383 = $3Dmol.createViewer(document.getElementById(\"3dmolviewer_1711054956206383\"),{backgroundColor:\"white\"});\nviewer_1711054956206383.zoomTo();\n\tviewer_1711054956206383.addModel(\"\\n     RDKit          3D\\n\\n  8  6  0  0  0  0  0  0  0  0999 V2000\\n    2.1642    0.1807    0.0054 C   0  0  0  0  0  0  0  0  0  0  0  0\\n    0.9426    0.0787    0.0023 O   0  0  0  0  0  0  0  0  0  0  0  0\\n   -2.1382   -0.1785   -0.0053 C   0  0  0  0  0  0  0  0  0  0  0  0\\n   -3.3600   -0.2805   -0.0084 O   0  0  0  0  0  0  0  0  0  0  0  0\\n    2.8265   -0.6920    0.1238 H   0  0  0  0  0  0  0  0  0  0  0  0\\n    2.6732    1.1511   -0.1101 H   0  0  0  0  0  0  0  0  0  0  0  0\\n   -1.5187   -0.5296   -0.8456 H   0  0  0  0  0  0  0  0  0  0  0  0\\n   -1.5896    0.2701    0.8379 H   0  0  0  0  0  0  0  0  0  0  0  0\\n  7  3  1  0\\n  6  1  1  0\\n  4  3  2  0\\n  3  8  1  0\\n  2  1  2  0\\n  1  5  1  0\\nM  END\\n\",\"sdf\");\n\tviewer_1711054956206383.setStyle({\"stick\": {\"radius\": 0.05, \"color\": \"#f2f2f2\"}, \"sphere\": {\"scale\": 0.25}});\n\tviewer_1711054956206383.addPropertyLabels(\"index\",{},{\"fontSize\": 15, \"fontColor\": \"white\", \"alignment\": \"center\", \"showBackground\": true, \"backgroundOpacity\": 0.2, \"backgroundColor\": \"black\"});\n\tviewer_1711054956206383.zoomTo();\nviewer_1711054956206383.render();\n});\n</script>",
      "text/html": [
       "<div id=\"3dmolviewer_1711054956206383\"  style=\"position: relative; width: 400px; height: 400px;\">\n",
       "        <p id=\"3dmolwarning_1711054956206383\" style=\"background-color:#ffcccc;color:black\">3Dmol.js failed to load for some reason.  Please check your browser console for error messages.<br></p>\n",
       "        </div>\n",
       "<script>\n",
       "\n",
       "var loadScriptAsync = function(uri){\n",
       "  return new Promise((resolve, reject) => {\n",
       "    //this is to ignore the existence of requirejs amd\n",
       "    var savedexports, savedmodule;\n",
       "    if (typeof exports !== 'undefined') savedexports = exports;\n",
       "    else exports = {}\n",
       "    if (typeof module !== 'undefined') savedmodule = module;\n",
       "    else module = {}\n",
       "\n",
       "    var tag = document.createElement('script');\n",
       "    tag.src = uri;\n",
       "    tag.async = true;\n",
       "    tag.onload = () => {\n",
       "        exports = savedexports;\n",
       "        module = savedmodule;\n",
       "        resolve();\n",
       "    };\n",
       "  var firstScriptTag = document.getElementsByTagName('script')[0];\n",
       "  firstScriptTag.parentNode.insertBefore(tag, firstScriptTag);\n",
       "});\n",
       "};\n",
       "\n",
       "if(typeof $3Dmolpromise === 'undefined') {\n",
       "$3Dmolpromise = null;\n",
       "  $3Dmolpromise = loadScriptAsync('https://cdnjs.cloudflare.com/ajax/libs/3Dmol/2.1.0/3Dmol-min.js');\n",
       "}\n",
       "\n",
       "var viewer_1711054956206383 = null;\n",
       "var warn = document.getElementById(\"3dmolwarning_1711054956206383\");\n",
       "if(warn) {\n",
       "    warn.parentNode.removeChild(warn);\n",
       "}\n",
       "$3Dmolpromise.then(function() {\n",
       "viewer_1711054956206383 = $3Dmol.createViewer(document.getElementById(\"3dmolviewer_1711054956206383\"),{backgroundColor:\"white\"});\n",
       "viewer_1711054956206383.zoomTo();\n",
       "\tviewer_1711054956206383.addModel(\"\\n     RDKit          3D\\n\\n  8  6  0  0  0  0  0  0  0  0999 V2000\\n    2.1642    0.1807    0.0054 C   0  0  0  0  0  0  0  0  0  0  0  0\\n    0.9426    0.0787    0.0023 O   0  0  0  0  0  0  0  0  0  0  0  0\\n   -2.1382   -0.1785   -0.0053 C   0  0  0  0  0  0  0  0  0  0  0  0\\n   -3.3600   -0.2805   -0.0084 O   0  0  0  0  0  0  0  0  0  0  0  0\\n    2.8265   -0.6920    0.1238 H   0  0  0  0  0  0  0  0  0  0  0  0\\n    2.6732    1.1511   -0.1101 H   0  0  0  0  0  0  0  0  0  0  0  0\\n   -1.5187   -0.5296   -0.8456 H   0  0  0  0  0  0  0  0  0  0  0  0\\n   -1.5896    0.2701    0.8379 H   0  0  0  0  0  0  0  0  0  0  0  0\\n  7  3  1  0\\n  6  1  1  0\\n  4  3  2  0\\n  3  8  1  0\\n  2  1  2  0\\n  1  5  1  0\\nM  END\\n\",\"sdf\");\n",
       "\tviewer_1711054956206383.setStyle({\"stick\": {\"radius\": 0.05, \"color\": \"#f2f2f2\"}, \"sphere\": {\"scale\": 0.25}});\n",
       "\tviewer_1711054956206383.addPropertyLabels(\"index\",{},{\"fontSize\": 15, \"fontColor\": \"white\", \"alignment\": \"center\", \"showBackground\": true, \"backgroundOpacity\": 0.2, \"backgroundColor\": \"black\"});\n",
       "\tviewer_1711054956206383.zoomTo();\n",
       "viewer_1711054956206383.render();\n",
       "});\n",
       "</script>"
      ]
     },
     "metadata": {},
     "output_type": "display_data"
    },
    {
     "data": {
      "text/plain": [
       "<py3Dmol.view at 0x17a37f7d0>"
      ]
     },
     "execution_count": 24,
     "metadata": {},
     "output_type": "execute_result"
    }
   ],
   "source": [
    "xyz = \"\"\"C      2.164196    0.180658    0.005381\n",
    "O      0.942631    0.078687    0.002344\n",
    "C     -2.138178   -0.178485   -0.005316\n",
    "O     -3.360016   -0.280479   -0.008354\n",
    "H      2.826486   -0.691971    0.123773\n",
    "H      2.673219    1.151062   -0.110098\n",
    "H     -1.518697   -0.529599   -0.845624\n",
    "H     -1.589641    0.270129    0.837895\"\"\"\n",
    "\n",
    "mol3 = Mol.FromXYZ(xyz, header=False)\n",
    "\n",
    "print('Before optimization')\n",
    "print(\n",
    "      f'd(1,2) = {mol3.GetEditableConformer().GetBondLength([1,2])}\\n'\n",
    "      f'd(0,3) = {mol3.GetEditableConformer().GetBondLength([0,3])}\\n'\n",
    ")\n",
    "mol_viewer(mol3)"
   ]
  },
  {
   "cell_type": "markdown",
   "metadata": {},
   "source": [
    "Constrained optimization with RDKitFF"
   ]
  },
  {
   "cell_type": "code",
   "execution_count": 23,
   "metadata": {},
   "outputs": [
    {
     "name": "stdout",
     "output_type": "stream",
     "text": [
      "After Optimization:\n",
      "d(1,2) = 2.0104161144672386\n",
      "d(0,3) = 2.0104161207438698\n",
      "\n"
     ]
    },
    {
     "data": {
      "application/3dmoljs_load.v0": "<div id=\"3dmolviewer_1711054951660681\"  style=\"position: relative; width: 400px; height: 400px;\">\n        <p id=\"3dmolwarning_1711054951660681\" style=\"background-color:#ffcccc;color:black\">3Dmol.js failed to load for some reason.  Please check your browser console for error messages.<br></p>\n        </div>\n<script>\n\nvar loadScriptAsync = function(uri){\n  return new Promise((resolve, reject) => {\n    //this is to ignore the existence of requirejs amd\n    var savedexports, savedmodule;\n    if (typeof exports !== 'undefined') savedexports = exports;\n    else exports = {}\n    if (typeof module !== 'undefined') savedmodule = module;\n    else module = {}\n\n    var tag = document.createElement('script');\n    tag.src = uri;\n    tag.async = true;\n    tag.onload = () => {\n        exports = savedexports;\n        module = savedmodule;\n        resolve();\n    };\n  var firstScriptTag = document.getElementsByTagName('script')[0];\n  firstScriptTag.parentNode.insertBefore(tag, firstScriptTag);\n});\n};\n\nif(typeof $3Dmolpromise === 'undefined') {\n$3Dmolpromise = null;\n  $3Dmolpromise = loadScriptAsync('https://cdnjs.cloudflare.com/ajax/libs/3Dmol/2.1.0/3Dmol-min.js');\n}\n\nvar viewer_1711054951660681 = null;\nvar warn = document.getElementById(\"3dmolwarning_1711054951660681\");\nif(warn) {\n    warn.parentNode.removeChild(warn);\n}\n$3Dmolpromise.then(function() {\nviewer_1711054951660681 = $3Dmol.createViewer(document.getElementById(\"3dmolviewer_1711054951660681\"),{backgroundColor:\"white\"});\nviewer_1711054951660681.zoomTo();\n\tviewer_1711054951660681.addModel(\"\\n     RDKit          3D\\n\\n  8  6  0  0  0  0  0  0  0  0999 V2000\\n    1.2067    0.2472    0.0576 C   0  0  0  0  0  0  0  0  0  0  0  0\\n    0.4954   -0.1155    1.0041 O   0  0  0  0  0  0  0  0  0  0  0  0\\n   -1.2067   -0.2472   -0.0576 C   0  0  0  0  0  0  0  0  0  0  0  0\\n   -0.4955    0.1157   -1.0041 O   0  0  0  0  0  0  0  0  0  0  0  0\\n    1.7693   -0.4731   -0.5636 H   0  0  0  0  0  0  0  0  0  0  0  0\\n    1.3844    1.3145   -0.1677 H   0  0  0  0  0  0  0  0  0  0  0  0\\n   -1.3842   -1.3145    0.1677 H   0  0  0  0  0  0  0  0  0  0  0  0\\n   -1.7695    0.4730    0.5635 H   0  0  0  0  0  0  0  0  0  0  0  0\\n  7  3  1  0\\n  6  1  1  0\\n  4  3  2  0\\n  3  8  1  0\\n  2  1  2  0\\n  1  5  1  0\\nM  END\\n\",\"sdf\");\n\tviewer_1711054951660681.setStyle({\"stick\": {\"radius\": 0.05, \"color\": \"#f2f2f2\"}, \"sphere\": {\"scale\": 0.25}});\n\tviewer_1711054951660681.addPropertyLabels(\"index\",{},{\"fontSize\": 15, \"fontColor\": \"white\", \"alignment\": \"center\", \"showBackground\": true, \"backgroundOpacity\": 0.2, \"backgroundColor\": \"black\"});\n\tviewer_1711054951660681.zoomTo();\nviewer_1711054951660681.render();\n});\n</script>",
      "text/html": [
       "<div id=\"3dmolviewer_1711054951660681\"  style=\"position: relative; width: 400px; height: 400px;\">\n",
       "        <p id=\"3dmolwarning_1711054951660681\" style=\"background-color:#ffcccc;color:black\">3Dmol.js failed to load for some reason.  Please check your browser console for error messages.<br></p>\n",
       "        </div>\n",
       "<script>\n",
       "\n",
       "var loadScriptAsync = function(uri){\n",
       "  return new Promise((resolve, reject) => {\n",
       "    //this is to ignore the existence of requirejs amd\n",
       "    var savedexports, savedmodule;\n",
       "    if (typeof exports !== 'undefined') savedexports = exports;\n",
       "    else exports = {}\n",
       "    if (typeof module !== 'undefined') savedmodule = module;\n",
       "    else module = {}\n",
       "\n",
       "    var tag = document.createElement('script');\n",
       "    tag.src = uri;\n",
       "    tag.async = true;\n",
       "    tag.onload = () => {\n",
       "        exports = savedexports;\n",
       "        module = savedmodule;\n",
       "        resolve();\n",
       "    };\n",
       "  var firstScriptTag = document.getElementsByTagName('script')[0];\n",
       "  firstScriptTag.parentNode.insertBefore(tag, firstScriptTag);\n",
       "});\n",
       "};\n",
       "\n",
       "if(typeof $3Dmolpromise === 'undefined') {\n",
       "$3Dmolpromise = null;\n",
       "  $3Dmolpromise = loadScriptAsync('https://cdnjs.cloudflare.com/ajax/libs/3Dmol/2.1.0/3Dmol-min.js');\n",
       "}\n",
       "\n",
       "var viewer_1711054951660681 = null;\n",
       "var warn = document.getElementById(\"3dmolwarning_1711054951660681\");\n",
       "if(warn) {\n",
       "    warn.parentNode.removeChild(warn);\n",
       "}\n",
       "$3Dmolpromise.then(function() {\n",
       "viewer_1711054951660681 = $3Dmol.createViewer(document.getElementById(\"3dmolviewer_1711054951660681\"),{backgroundColor:\"white\"});\n",
       "viewer_1711054951660681.zoomTo();\n",
       "\tviewer_1711054951660681.addModel(\"\\n     RDKit          3D\\n\\n  8  6  0  0  0  0  0  0  0  0999 V2000\\n    1.2067    0.2472    0.0576 C   0  0  0  0  0  0  0  0  0  0  0  0\\n    0.4954   -0.1155    1.0041 O   0  0  0  0  0  0  0  0  0  0  0  0\\n   -1.2067   -0.2472   -0.0576 C   0  0  0  0  0  0  0  0  0  0  0  0\\n   -0.4955    0.1157   -1.0041 O   0  0  0  0  0  0  0  0  0  0  0  0\\n    1.7693   -0.4731   -0.5636 H   0  0  0  0  0  0  0  0  0  0  0  0\\n    1.3844    1.3145   -0.1677 H   0  0  0  0  0  0  0  0  0  0  0  0\\n   -1.3842   -1.3145    0.1677 H   0  0  0  0  0  0  0  0  0  0  0  0\\n   -1.7695    0.4730    0.5635 H   0  0  0  0  0  0  0  0  0  0  0  0\\n  7  3  1  0\\n  6  1  1  0\\n  4  3  2  0\\n  3  8  1  0\\n  2  1  2  0\\n  1  5  1  0\\nM  END\\n\",\"sdf\");\n",
       "\tviewer_1711054951660681.setStyle({\"stick\": {\"radius\": 0.05, \"color\": \"#f2f2f2\"}, \"sphere\": {\"scale\": 0.25}});\n",
       "\tviewer_1711054951660681.addPropertyLabels(\"index\",{},{\"fontSize\": 15, \"fontColor\": \"white\", \"alignment\": \"center\", \"showBackground\": true, \"backgroundOpacity\": 0.2, \"backgroundColor\": \"black\"});\n",
       "\tviewer_1711054951660681.zoomTo();\n",
       "viewer_1711054951660681.render();\n",
       "});\n",
       "</script>"
      ]
     },
     "metadata": {},
     "output_type": "display_data"
    },
    {
     "data": {
      "text/plain": [
       "<py3Dmol.view at 0x17cbe1d10>"
      ]
     },
     "execution_count": 23,
     "metadata": {},
     "output_type": "execute_result"
    }
   ],
   "source": [
    "ff = RDKitFF()\n",
    "ff.setup(mol3.Copy())\n",
    "ff.add_distance_constraint([1,2], 2.0, force_constant=1e4)\n",
    "ff.add_distance_constraint([0,3], 2.0, force_constant=1e4)\n",
    "ff.optimize()\n",
    "opt_mol = ff.get_optimized_mol()\n",
    "print(\"After Optimization:\")\n",
    "print(\n",
    "    f'd(1,2) = {opt_mol.GetEditableConformer().GetBondLength([1,2])}\\n'\n",
    "    f'd(0,3) = {opt_mol.GetEditableConformer().GetBondLength([0,3])}\\n'\n",
    ")\n",
    "mol_viewer(opt_mol)"
   ]
  },
  {
   "cell_type": "markdown",
   "metadata": {},
   "source": [
    "Constrained optimization with OpenBabelFF"
   ]
  },
  {
   "cell_type": "code",
   "execution_count": 26,
   "metadata": {},
   "outputs": [
    {
     "name": "stdout",
     "output_type": "stream",
     "text": [
      "d(1,2) = 2.0010775081854573\n",
      "d(0,3) = 2.000991178438568\n",
      "\n"
     ]
    },
    {
     "data": {
      "application/3dmoljs_load.v0": "<div id=\"3dmolviewer_1711055010551869\"  style=\"position: relative; width: 400px; height: 400px;\">\n        <p id=\"3dmolwarning_1711055010551869\" style=\"background-color:#ffcccc;color:black\">3Dmol.js failed to load for some reason.  Please check your browser console for error messages.<br></p>\n        </div>\n<script>\n\nvar loadScriptAsync = function(uri){\n  return new Promise((resolve, reject) => {\n    //this is to ignore the existence of requirejs amd\n    var savedexports, savedmodule;\n    if (typeof exports !== 'undefined') savedexports = exports;\n    else exports = {}\n    if (typeof module !== 'undefined') savedmodule = module;\n    else module = {}\n\n    var tag = document.createElement('script');\n    tag.src = uri;\n    tag.async = true;\n    tag.onload = () => {\n        exports = savedexports;\n        module = savedmodule;\n        resolve();\n    };\n  var firstScriptTag = document.getElementsByTagName('script')[0];\n  firstScriptTag.parentNode.insertBefore(tag, firstScriptTag);\n});\n};\n\nif(typeof $3Dmolpromise === 'undefined') {\n$3Dmolpromise = null;\n  $3Dmolpromise = loadScriptAsync('https://cdnjs.cloudflare.com/ajax/libs/3Dmol/2.1.0/3Dmol-min.js');\n}\n\nvar viewer_1711055010551869 = null;\nvar warn = document.getElementById(\"3dmolwarning_1711055010551869\");\nif(warn) {\n    warn.parentNode.removeChild(warn);\n}\n$3Dmolpromise.then(function() {\nviewer_1711055010551869 = $3Dmol.createViewer(document.getElementById(\"3dmolviewer_1711055010551869\"),{backgroundColor:\"white\"});\nviewer_1711055010551869.zoomTo();\n\tviewer_1711055010551869.addModel(\"\\n     RDKit          3D\\n\\n  8  6  0  0  0  0  0  0  0  0999 V2000\\n    0.9775    0.1991   -0.1045 C   0  0  0  0  0  0  0  0  0  0  0  0\\n    0.3599   -0.8289   -0.4137 O   0  0  0  0  0  0  0  0  0  0  0  0\\n   -1.4573   -0.1213    0.0353 C   0  0  0  0  0  0  0  0  0  0  0  0\\n   -0.8539    0.9487    0.1919 O   0  0  0  0  0  0  0  0  0  0  0  0\\n    1.4507    0.3011    0.8882 H   0  0  0  0  0  0  0  0  0  0  0  0\\n    1.1896    1.0170   -0.8188 H   0  0  0  0  0  0  0  0  0  0  0  0\\n   -1.8577   -0.4515   -0.9415 H   0  0  0  0  0  0  0  0  0  0  0  0\\n   -1.7183   -0.7605    0.8975 H   0  0  0  0  0  0  0  0  0  0  0  0\\n  7  3  1  0\\n  6  1  1  0\\n  4  3  2  0\\n  3  8  1  0\\n  2  1  2  0\\n  1  5  1  0\\nM  END\\n\",\"sdf\");\n\tviewer_1711055010551869.setStyle({\"stick\": {\"radius\": 0.05, \"color\": \"#f2f2f2\"}, \"sphere\": {\"scale\": 0.25}});\n\tviewer_1711055010551869.addPropertyLabels(\"index\",{},{\"fontSize\": 15, \"fontColor\": \"white\", \"alignment\": \"center\", \"showBackground\": true, \"backgroundOpacity\": 0.2, \"backgroundColor\": \"black\"});\n\tviewer_1711055010551869.zoomTo();\nviewer_1711055010551869.render();\n});\n</script>",
      "text/html": [
       "<div id=\"3dmolviewer_1711055010551869\"  style=\"position: relative; width: 400px; height: 400px;\">\n",
       "        <p id=\"3dmolwarning_1711055010551869\" style=\"background-color:#ffcccc;color:black\">3Dmol.js failed to load for some reason.  Please check your browser console for error messages.<br></p>\n",
       "        </div>\n",
       "<script>\n",
       "\n",
       "var loadScriptAsync = function(uri){\n",
       "  return new Promise((resolve, reject) => {\n",
       "    //this is to ignore the existence of requirejs amd\n",
       "    var savedexports, savedmodule;\n",
       "    if (typeof exports !== 'undefined') savedexports = exports;\n",
       "    else exports = {}\n",
       "    if (typeof module !== 'undefined') savedmodule = module;\n",
       "    else module = {}\n",
       "\n",
       "    var tag = document.createElement('script');\n",
       "    tag.src = uri;\n",
       "    tag.async = true;\n",
       "    tag.onload = () => {\n",
       "        exports = savedexports;\n",
       "        module = savedmodule;\n",
       "        resolve();\n",
       "    };\n",
       "  var firstScriptTag = document.getElementsByTagName('script')[0];\n",
       "  firstScriptTag.parentNode.insertBefore(tag, firstScriptTag);\n",
       "});\n",
       "};\n",
       "\n",
       "if(typeof $3Dmolpromise === 'undefined') {\n",
       "$3Dmolpromise = null;\n",
       "  $3Dmolpromise = loadScriptAsync('https://cdnjs.cloudflare.com/ajax/libs/3Dmol/2.1.0/3Dmol-min.js');\n",
       "}\n",
       "\n",
       "var viewer_1711055010551869 = null;\n",
       "var warn = document.getElementById(\"3dmolwarning_1711055010551869\");\n",
       "if(warn) {\n",
       "    warn.parentNode.removeChild(warn);\n",
       "}\n",
       "$3Dmolpromise.then(function() {\n",
       "viewer_1711055010551869 = $3Dmol.createViewer(document.getElementById(\"3dmolviewer_1711055010551869\"),{backgroundColor:\"white\"});\n",
       "viewer_1711055010551869.zoomTo();\n",
       "\tviewer_1711055010551869.addModel(\"\\n     RDKit          3D\\n\\n  8  6  0  0  0  0  0  0  0  0999 V2000\\n    0.9775    0.1991   -0.1045 C   0  0  0  0  0  0  0  0  0  0  0  0\\n    0.3599   -0.8289   -0.4137 O   0  0  0  0  0  0  0  0  0  0  0  0\\n   -1.4573   -0.1213    0.0353 C   0  0  0  0  0  0  0  0  0  0  0  0\\n   -0.8539    0.9487    0.1919 O   0  0  0  0  0  0  0  0  0  0  0  0\\n    1.4507    0.3011    0.8882 H   0  0  0  0  0  0  0  0  0  0  0  0\\n    1.1896    1.0170   -0.8188 H   0  0  0  0  0  0  0  0  0  0  0  0\\n   -1.8577   -0.4515   -0.9415 H   0  0  0  0  0  0  0  0  0  0  0  0\\n   -1.7183   -0.7605    0.8975 H   0  0  0  0  0  0  0  0  0  0  0  0\\n  7  3  1  0\\n  6  1  1  0\\n  4  3  2  0\\n  3  8  1  0\\n  2  1  2  0\\n  1  5  1  0\\nM  END\\n\",\"sdf\");\n",
       "\tviewer_1711055010551869.setStyle({\"stick\": {\"radius\": 0.05, \"color\": \"#f2f2f2\"}, \"sphere\": {\"scale\": 0.25}});\n",
       "\tviewer_1711055010551869.addPropertyLabels(\"index\",{},{\"fontSize\": 15, \"fontColor\": \"white\", \"alignment\": \"center\", \"showBackground\": true, \"backgroundOpacity\": 0.2, \"backgroundColor\": \"black\"});\n",
       "\tviewer_1711055010551869.zoomTo();\n",
       "viewer_1711055010551869.render();\n",
       "});\n",
       "</script>"
      ]
     },
     "metadata": {},
     "output_type": "display_data"
    },
    {
     "data": {
      "text/plain": [
       "<py3Dmol.view at 0x17cbc2910>"
      ]
     },
     "execution_count": 26,
     "metadata": {},
     "output_type": "execute_result"
    }
   ],
   "source": [
    "ff = OpenBabelFF()\n",
    "ff.setup(mol3.Copy())  # directly assign mol to allow correct atom index when setting constraints\n",
    "ff.add_distance_constraint([1,2], 2.0)\n",
    "ff.add_distance_constraint([0,3], 2.0)\n",
    "ff.optimize()\n",
    "opt_mol = ff.get_optimized_mol()\n",
    "\n",
    "print(\n",
    "    f'd(1,2) = {opt_mol.GetEditableConformer().GetBondLength([1,2])}\\n'\n",
    "    f'd(0,3) = {opt_mol.GetEditableConformer().GetBondLength([0,3])}\\n'\n",
    ")\n",
    "mol_viewer(opt_mol)"
   ]
  },
  {
   "cell_type": "markdown",
   "metadata": {},
   "source": [
    "### 5. Simultaneous constrained optimization for multiple conformers"
   ]
  },
  {
   "cell_type": "code",
   "execution_count": 29,
   "metadata": {},
   "outputs": [
    {
     "name": "stdout",
     "output_type": "stream",
     "text": [
      "conformer 0\n",
      "d(1,2) = 1.2175480914480463\n",
      "d(0,3) = 1.2141275783373007\n",
      "\n",
      "conformer 1\n",
      "d(1,2) = 1.1921424503791371\n",
      "d(0,3) = 1.2442288478856651\n",
      "\n",
      "conformer 2\n",
      "d(1,2) = 1.205391551161533\n",
      "d(0,3) = 1.237817705103411\n",
      "\n",
      "conformer 3\n",
      "d(1,2) = 1.196583728687554\n",
      "d(0,3) = 1.2153392084098922\n",
      "\n"
     ]
    },
    {
     "data": {
      "application/3dmoljs_load.v0": "<div id=\"3dmolviewer_1711055122187066\"  style=\"position: relative; width: 600px; height: 400px;\">\n        <p id=\"3dmolwarning_1711055122187066\" style=\"background-color:#ffcccc;color:black\">3Dmol.js failed to load for some reason.  Please check your browser console for error messages.<br></p>\n        </div>\n<script>\n\nvar loadScriptAsync = function(uri){\n  return new Promise((resolve, reject) => {\n    //this is to ignore the existence of requirejs amd\n    var savedexports, savedmodule;\n    if (typeof exports !== 'undefined') savedexports = exports;\n    else exports = {}\n    if (typeof module !== 'undefined') savedmodule = module;\n    else module = {}\n\n    var tag = document.createElement('script');\n    tag.src = uri;\n    tag.async = true;\n    tag.onload = () => {\n        exports = savedexports;\n        module = savedmodule;\n        resolve();\n    };\n  var firstScriptTag = document.getElementsByTagName('script')[0];\n  firstScriptTag.parentNode.insertBefore(tag, firstScriptTag);\n});\n};\n\nif(typeof $3Dmolpromise === 'undefined') {\n$3Dmolpromise = null;\n  $3Dmolpromise = loadScriptAsync('https://cdnjs.cloudflare.com/ajax/libs/3Dmol/2.1.0/3Dmol-min.js');\n}\n\nvar viewer_1711055122187066 = null;\nvar warn = document.getElementById(\"3dmolwarning_1711055122187066\");\nif(warn) {\n    warn.parentNode.removeChild(warn);\n}\n$3Dmolpromise.then(function() {\nvar viewergrid_1711055122187066 = null;\nviewergrid_1711055122187066 = $3Dmol.createViewerGrid(document.getElementById(\"3dmolviewer_1711055122187066\"),{rows: 2, cols: 2, control_all: true},{backgroundColor:\"white\"});\nviewer_1711055122187066 = viewergrid_1711055122187066[0][0];\nviewergrid_1711055122187066[0][0].zoomTo();viewergrid_1711055122187066[0][1].zoomTo();viewergrid_1711055122187066[1][0].zoomTo();viewergrid_1711055122187066[1][1].zoomTo();\tviewergrid_1711055122187066[0][0].addModel(\"\\n     RDKit          3D\\n\\n  8  6  0  0  0  0  0  0  0  0999 V2000\\n    0.9775    0.1991   -0.1045 C   0  0  0  0  0  0  0  0  0  0  0  0\\n    0.3599   -0.8289   -0.4137 O   0  0  0  0  0  0  0  0  0  0  0  0\\n   -1.4573   -0.1213    0.0353 C   0  0  0  0  0  0  0  0  0  0  0  0\\n   -0.8539    0.9487    0.1919 O   0  0  0  0  0  0  0  0  0  0  0  0\\n    1.4507    0.3011    0.8882 H   0  0  0  0  0  0  0  0  0  0  0  0\\n    1.1896    1.0170   -0.8188 H   0  0  0  0  0  0  0  0  0  0  0  0\\n   -1.8577   -0.4515   -0.9415 H   0  0  0  0  0  0  0  0  0  0  0  0\\n   -1.7183   -0.7605    0.8975 H   0  0  0  0  0  0  0  0  0  0  0  0\\n  7  3  1  0\\n  6  1  1  0\\n  4  3  2  0\\n  3  8  1  0\\n  2  1  2  0\\n  1  5  1  0\\nM  END\\n\",\"sdf\");\n\tviewergrid_1711055122187066[0][0].setStyle({\"stick\": {\"radius\": 0.05, \"color\": \"#f2f2f2\"}, \"sphere\": {\"scale\": 0.25}});\n\tviewergrid_1711055122187066[0][0].addPropertyLabels(\"index\",{},{\"fontSize\": 15, \"fontColor\": \"white\", \"alignment\": \"center\", \"showBackground\": true, \"backgroundOpacity\": 0.2, \"backgroundColor\": \"black\"});\n\tviewergrid_1711055122187066[0][0].zoomTo();\n\tviewergrid_1711055122187066[0][1].addModel(\"\\n     RDKit          3D\\n\\n  8  6  0  0  0  0  0  0  0  0999 V2000\\n    0.9775    0.1991   -0.1045 C   0  0  0  0  0  0  0  0  0  0  0  0\\n    0.3599   -0.8289   -0.4137 O   0  0  0  0  0  0  0  0  0  0  0  0\\n   -1.4573   -0.1213    0.0353 C   0  0  0  0  0  0  0  0  0  0  0  0\\n   -0.8539    0.9487    0.1919 O   0  0  0  0  0  0  0  0  0  0  0  0\\n    1.4507    0.3011    0.8882 H   0  0  0  0  0  0  0  0  0  0  0  0\\n    1.1896    1.0170   -0.8188 H   0  0  0  0  0  0  0  0  0  0  0  0\\n   -1.8577   -0.4515   -0.9415 H   0  0  0  0  0  0  0  0  0  0  0  0\\n   -1.7183   -0.7605    0.8975 H   0  0  0  0  0  0  0  0  0  0  0  0\\n  7  3  1  0\\n  6  1  1  0\\n  4  3  2  0\\n  3  8  1  0\\n  2  1  2  0\\n  1  5  1  0\\nM  END\\n\",\"sdf\");\n\tviewergrid_1711055122187066[0][1].setStyle({\"stick\": {\"radius\": 0.05, \"color\": \"#f2f2f2\"}, \"sphere\": {\"scale\": 0.25}});\n\tviewergrid_1711055122187066[0][1].addPropertyLabels(\"index\",{},{\"fontSize\": 15, \"fontColor\": \"white\", \"alignment\": \"center\", \"showBackground\": true, \"backgroundOpacity\": 0.2, \"backgroundColor\": \"black\"});\n\tviewergrid_1711055122187066[0][1].zoomTo();\n\tviewergrid_1711055122187066[1][0].addModel(\"\\n     RDKit          3D\\n\\n  8  6  0  0  0  0  0  0  0  0999 V2000\\n    0.9775    0.1991   -0.1045 C   0  0  0  0  0  0  0  0  0  0  0  0\\n    0.3599   -0.8289   -0.4137 O   0  0  0  0  0  0  0  0  0  0  0  0\\n   -1.4573   -0.1213    0.0353 C   0  0  0  0  0  0  0  0  0  0  0  0\\n   -0.8539    0.9487    0.1919 O   0  0  0  0  0  0  0  0  0  0  0  0\\n    1.4507    0.3011    0.8882 H   0  0  0  0  0  0  0  0  0  0  0  0\\n    1.1896    1.0170   -0.8188 H   0  0  0  0  0  0  0  0  0  0  0  0\\n   -1.8577   -0.4515   -0.9415 H   0  0  0  0  0  0  0  0  0  0  0  0\\n   -1.7183   -0.7605    0.8975 H   0  0  0  0  0  0  0  0  0  0  0  0\\n  7  3  1  0\\n  6  1  1  0\\n  4  3  2  0\\n  3  8  1  0\\n  2  1  2  0\\n  1  5  1  0\\nM  END\\n\",\"sdf\");\n\tviewergrid_1711055122187066[1][0].setStyle({\"stick\": {\"radius\": 0.05, \"color\": \"#f2f2f2\"}, \"sphere\": {\"scale\": 0.25}});\n\tviewergrid_1711055122187066[1][0].addPropertyLabels(\"index\",{},{\"fontSize\": 15, \"fontColor\": \"white\", \"alignment\": \"center\", \"showBackground\": true, \"backgroundOpacity\": 0.2, \"backgroundColor\": \"black\"});\n\tviewergrid_1711055122187066[1][0].zoomTo();\n\tviewergrid_1711055122187066[1][1].addModel(\"\\n     RDKit          3D\\n\\n  8  6  0  0  0  0  0  0  0  0999 V2000\\n    0.9775    0.1991   -0.1045 C   0  0  0  0  0  0  0  0  0  0  0  0\\n    0.3599   -0.8289   -0.4137 O   0  0  0  0  0  0  0  0  0  0  0  0\\n   -1.4573   -0.1213    0.0353 C   0  0  0  0  0  0  0  0  0  0  0  0\\n   -0.8539    0.9487    0.1919 O   0  0  0  0  0  0  0  0  0  0  0  0\\n    1.4507    0.3011    0.8882 H   0  0  0  0  0  0  0  0  0  0  0  0\\n    1.1896    1.0170   -0.8188 H   0  0  0  0  0  0  0  0  0  0  0  0\\n   -1.8577   -0.4515   -0.9415 H   0  0  0  0  0  0  0  0  0  0  0  0\\n   -1.7183   -0.7605    0.8975 H   0  0  0  0  0  0  0  0  0  0  0  0\\n  7  3  1  0\\n  6  1  1  0\\n  4  3  2  0\\n  3  8  1  0\\n  2  1  2  0\\n  1  5  1  0\\nM  END\\n\",\"sdf\");\n\tviewergrid_1711055122187066[1][1].setStyle({\"stick\": {\"radius\": 0.05, \"color\": \"#f2f2f2\"}, \"sphere\": {\"scale\": 0.25}});\n\tviewergrid_1711055122187066[1][1].addPropertyLabels(\"index\",{},{\"fontSize\": 15, \"fontColor\": \"white\", \"alignment\": \"center\", \"showBackground\": true, \"backgroundOpacity\": 0.2, \"backgroundColor\": \"black\"});\n\tviewergrid_1711055122187066[1][1].zoomTo();\nviewergrid_1711055122187066[1][1].render();\nviewergrid_1711055122187066[1][0].render();\nviewergrid_1711055122187066[0][1].render();\nviewergrid_1711055122187066[0][0].render();\n});\n</script>",
      "text/html": [
       "<div id=\"3dmolviewer_1711055122187066\"  style=\"position: relative; width: 600px; height: 400px;\">\n",
       "        <p id=\"3dmolwarning_1711055122187066\" style=\"background-color:#ffcccc;color:black\">3Dmol.js failed to load for some reason.  Please check your browser console for error messages.<br></p>\n",
       "        </div>\n",
       "<script>\n",
       "\n",
       "var loadScriptAsync = function(uri){\n",
       "  return new Promise((resolve, reject) => {\n",
       "    //this is to ignore the existence of requirejs amd\n",
       "    var savedexports, savedmodule;\n",
       "    if (typeof exports !== 'undefined') savedexports = exports;\n",
       "    else exports = {}\n",
       "    if (typeof module !== 'undefined') savedmodule = module;\n",
       "    else module = {}\n",
       "\n",
       "    var tag = document.createElement('script');\n",
       "    tag.src = uri;\n",
       "    tag.async = true;\n",
       "    tag.onload = () => {\n",
       "        exports = savedexports;\n",
       "        module = savedmodule;\n",
       "        resolve();\n",
       "    };\n",
       "  var firstScriptTag = document.getElementsByTagName('script')[0];\n",
       "  firstScriptTag.parentNode.insertBefore(tag, firstScriptTag);\n",
       "});\n",
       "};\n",
       "\n",
       "if(typeof $3Dmolpromise === 'undefined') {\n",
       "$3Dmolpromise = null;\n",
       "  $3Dmolpromise = loadScriptAsync('https://cdnjs.cloudflare.com/ajax/libs/3Dmol/2.1.0/3Dmol-min.js');\n",
       "}\n",
       "\n",
       "var viewer_1711055122187066 = null;\n",
       "var warn = document.getElementById(\"3dmolwarning_1711055122187066\");\n",
       "if(warn) {\n",
       "    warn.parentNode.removeChild(warn);\n",
       "}\n",
       "$3Dmolpromise.then(function() {\n",
       "var viewergrid_1711055122187066 = null;\n",
       "viewergrid_1711055122187066 = $3Dmol.createViewerGrid(document.getElementById(\"3dmolviewer_1711055122187066\"),{rows: 2, cols: 2, control_all: true},{backgroundColor:\"white\"});\n",
       "viewer_1711055122187066 = viewergrid_1711055122187066[0][0];\n",
       "viewergrid_1711055122187066[0][0].zoomTo();viewergrid_1711055122187066[0][1].zoomTo();viewergrid_1711055122187066[1][0].zoomTo();viewergrid_1711055122187066[1][1].zoomTo();\tviewergrid_1711055122187066[0][0].addModel(\"\\n     RDKit          3D\\n\\n  8  6  0  0  0  0  0  0  0  0999 V2000\\n    0.9775    0.1991   -0.1045 C   0  0  0  0  0  0  0  0  0  0  0  0\\n    0.3599   -0.8289   -0.4137 O   0  0  0  0  0  0  0  0  0  0  0  0\\n   -1.4573   -0.1213    0.0353 C   0  0  0  0  0  0  0  0  0  0  0  0\\n   -0.8539    0.9487    0.1919 O   0  0  0  0  0  0  0  0  0  0  0  0\\n    1.4507    0.3011    0.8882 H   0  0  0  0  0  0  0  0  0  0  0  0\\n    1.1896    1.0170   -0.8188 H   0  0  0  0  0  0  0  0  0  0  0  0\\n   -1.8577   -0.4515   -0.9415 H   0  0  0  0  0  0  0  0  0  0  0  0\\n   -1.7183   -0.7605    0.8975 H   0  0  0  0  0  0  0  0  0  0  0  0\\n  7  3  1  0\\n  6  1  1  0\\n  4  3  2  0\\n  3  8  1  0\\n  2  1  2  0\\n  1  5  1  0\\nM  END\\n\",\"sdf\");\n",
       "\tviewergrid_1711055122187066[0][0].setStyle({\"stick\": {\"radius\": 0.05, \"color\": \"#f2f2f2\"}, \"sphere\": {\"scale\": 0.25}});\n",
       "\tviewergrid_1711055122187066[0][0].addPropertyLabels(\"index\",{},{\"fontSize\": 15, \"fontColor\": \"white\", \"alignment\": \"center\", \"showBackground\": true, \"backgroundOpacity\": 0.2, \"backgroundColor\": \"black\"});\n",
       "\tviewergrid_1711055122187066[0][0].zoomTo();\n",
       "\tviewergrid_1711055122187066[0][1].addModel(\"\\n     RDKit          3D\\n\\n  8  6  0  0  0  0  0  0  0  0999 V2000\\n    0.9775    0.1991   -0.1045 C   0  0  0  0  0  0  0  0  0  0  0  0\\n    0.3599   -0.8289   -0.4137 O   0  0  0  0  0  0  0  0  0  0  0  0\\n   -1.4573   -0.1213    0.0353 C   0  0  0  0  0  0  0  0  0  0  0  0\\n   -0.8539    0.9487    0.1919 O   0  0  0  0  0  0  0  0  0  0  0  0\\n    1.4507    0.3011    0.8882 H   0  0  0  0  0  0  0  0  0  0  0  0\\n    1.1896    1.0170   -0.8188 H   0  0  0  0  0  0  0  0  0  0  0  0\\n   -1.8577   -0.4515   -0.9415 H   0  0  0  0  0  0  0  0  0  0  0  0\\n   -1.7183   -0.7605    0.8975 H   0  0  0  0  0  0  0  0  0  0  0  0\\n  7  3  1  0\\n  6  1  1  0\\n  4  3  2  0\\n  3  8  1  0\\n  2  1  2  0\\n  1  5  1  0\\nM  END\\n\",\"sdf\");\n",
       "\tviewergrid_1711055122187066[0][1].setStyle({\"stick\": {\"radius\": 0.05, \"color\": \"#f2f2f2\"}, \"sphere\": {\"scale\": 0.25}});\n",
       "\tviewergrid_1711055122187066[0][1].addPropertyLabels(\"index\",{},{\"fontSize\": 15, \"fontColor\": \"white\", \"alignment\": \"center\", \"showBackground\": true, \"backgroundOpacity\": 0.2, \"backgroundColor\": \"black\"});\n",
       "\tviewergrid_1711055122187066[0][1].zoomTo();\n",
       "\tviewergrid_1711055122187066[1][0].addModel(\"\\n     RDKit          3D\\n\\n  8  6  0  0  0  0  0  0  0  0999 V2000\\n    0.9775    0.1991   -0.1045 C   0  0  0  0  0  0  0  0  0  0  0  0\\n    0.3599   -0.8289   -0.4137 O   0  0  0  0  0  0  0  0  0  0  0  0\\n   -1.4573   -0.1213    0.0353 C   0  0  0  0  0  0  0  0  0  0  0  0\\n   -0.8539    0.9487    0.1919 O   0  0  0  0  0  0  0  0  0  0  0  0\\n    1.4507    0.3011    0.8882 H   0  0  0  0  0  0  0  0  0  0  0  0\\n    1.1896    1.0170   -0.8188 H   0  0  0  0  0  0  0  0  0  0  0  0\\n   -1.8577   -0.4515   -0.9415 H   0  0  0  0  0  0  0  0  0  0  0  0\\n   -1.7183   -0.7605    0.8975 H   0  0  0  0  0  0  0  0  0  0  0  0\\n  7  3  1  0\\n  6  1  1  0\\n  4  3  2  0\\n  3  8  1  0\\n  2  1  2  0\\n  1  5  1  0\\nM  END\\n\",\"sdf\");\n",
       "\tviewergrid_1711055122187066[1][0].setStyle({\"stick\": {\"radius\": 0.05, \"color\": \"#f2f2f2\"}, \"sphere\": {\"scale\": 0.25}});\n",
       "\tviewergrid_1711055122187066[1][0].addPropertyLabels(\"index\",{},{\"fontSize\": 15, \"fontColor\": \"white\", \"alignment\": \"center\", \"showBackground\": true, \"backgroundOpacity\": 0.2, \"backgroundColor\": \"black\"});\n",
       "\tviewergrid_1711055122187066[1][0].zoomTo();\n",
       "\tviewergrid_1711055122187066[1][1].addModel(\"\\n     RDKit          3D\\n\\n  8  6  0  0  0  0  0  0  0  0999 V2000\\n    0.9775    0.1991   -0.1045 C   0  0  0  0  0  0  0  0  0  0  0  0\\n    0.3599   -0.8289   -0.4137 O   0  0  0  0  0  0  0  0  0  0  0  0\\n   -1.4573   -0.1213    0.0353 C   0  0  0  0  0  0  0  0  0  0  0  0\\n   -0.8539    0.9487    0.1919 O   0  0  0  0  0  0  0  0  0  0  0  0\\n    1.4507    0.3011    0.8882 H   0  0  0  0  0  0  0  0  0  0  0  0\\n    1.1896    1.0170   -0.8188 H   0  0  0  0  0  0  0  0  0  0  0  0\\n   -1.8577   -0.4515   -0.9415 H   0  0  0  0  0  0  0  0  0  0  0  0\\n   -1.7183   -0.7605    0.8975 H   0  0  0  0  0  0  0  0  0  0  0  0\\n  7  3  1  0\\n  6  1  1  0\\n  4  3  2  0\\n  3  8  1  0\\n  2  1  2  0\\n  1  5  1  0\\nM  END\\n\",\"sdf\");\n",
       "\tviewergrid_1711055122187066[1][1].setStyle({\"stick\": {\"radius\": 0.05, \"color\": \"#f2f2f2\"}, \"sphere\": {\"scale\": 0.25}});\n",
       "\tviewergrid_1711055122187066[1][1].addPropertyLabels(\"index\",{},{\"fontSize\": 15, \"fontColor\": \"white\", \"alignment\": \"center\", \"showBackground\": true, \"backgroundOpacity\": 0.2, \"backgroundColor\": \"black\"});\n",
       "\tviewergrid_1711055122187066[1][1].zoomTo();\n",
       "viewergrid_1711055122187066[1][1].render();\n",
       "viewergrid_1711055122187066[1][0].render();\n",
       "viewergrid_1711055122187066[0][1].render();\n",
       "viewergrid_1711055122187066[0][0].render();\n",
       "});\n",
       "</script>"
      ]
     },
     "metadata": {},
     "output_type": "display_data"
    },
    {
     "data": {
      "text/plain": [
       "<py3Dmol.view at 0x17767d190>"
      ]
     },
     "execution_count": 29,
     "metadata": {},
     "output_type": "execute_result"
    }
   ],
   "source": [
    "xyz = \"\"\"C      2.164196    0.180658    0.005381\n",
    "O      0.942631    0.078687    0.002344\n",
    "C     -2.138178   -0.178485   -0.005316\n",
    "O     -3.360016   -0.280479   -0.008354\n",
    "H      2.826486   -0.691971    0.123773\n",
    "H      2.673219    1.151062   -0.110098\n",
    "H     -1.518697   -0.529599   -0.845624\n",
    "H     -1.589641    0.270129    0.837895\"\"\"\n",
    "\n",
    "mol5 = Mol.FromXYZ(xyz, header=False)\n",
    "mol5.EmbedMultipleConfs(4)\n",
    "\n",
    "viewer = grid_viewer(viewer_grid=(2, 2), viewer_size=(600, 400), linked=True)\n",
    "grids = [(0, 0), (0, 1), (1, 0), (1, 1)]\n",
    "for i in range(4):\n",
    "    print(f'conformer {i}')\n",
    "    print(\n",
    "        f'd(1,2) = {mol5.GetEditableConformer(i).GetBondLength([1,2])}\\n'\n",
    "        f'd(0,3) = {mol5.GetEditableConformer(i).GetBondLength([0,3])}\\n'\n",
    "    )\n",
    "    mol_viewer(opt_mol, viewer=viewer, viewer_loc=grids[i])\n",
    "viewer\n"
   ]
  },
  {
   "cell_type": "markdown",
   "metadata": {},
   "source": [
    "Optimization and constraint both d(1,2) and d(0,3) to be 2.0"
   ]
  },
  {
   "cell_type": "code",
   "execution_count": 31,
   "metadata": {},
   "outputs": [
    {
     "name": "stdout",
     "output_type": "stream",
     "text": [
      "conformer 0\n",
      "d(1,2) = 2.0813138368027926\n",
      "d(0,3) = 2.0813176199831016\n",
      "\n",
      "conformer 1\n",
      "d(1,2) = 2.0813154376358542\n",
      "d(0,3) = 2.0813153060303526\n",
      "\n",
      "conformer 2\n",
      "d(1,2) = 2.0813155343734144\n",
      "d(0,3) = 2.08131529926818\n",
      "\n",
      "conformer 3\n",
      "d(1,2) = 2.0813154240425233\n",
      "d(0,3) = 2.0813157149607884\n",
      "\n",
      "Force field energies for each conformers: [44.31933079730308, 44.319330840996656, 44.3193308404387, 44.319330795469625]\n"
     ]
    },
    {
     "data": {
      "application/3dmoljs_load.v0": "<div id=\"3dmolviewer_17110551877644842\"  style=\"position: relative; width: 600px; height: 400px;\">\n        <p id=\"3dmolwarning_17110551877644842\" style=\"background-color:#ffcccc;color:black\">3Dmol.js failed to load for some reason.  Please check your browser console for error messages.<br></p>\n        </div>\n<script>\n\nvar loadScriptAsync = function(uri){\n  return new Promise((resolve, reject) => {\n    //this is to ignore the existence of requirejs amd\n    var savedexports, savedmodule;\n    if (typeof exports !== 'undefined') savedexports = exports;\n    else exports = {}\n    if (typeof module !== 'undefined') savedmodule = module;\n    else module = {}\n\n    var tag = document.createElement('script');\n    tag.src = uri;\n    tag.async = true;\n    tag.onload = () => {\n        exports = savedexports;\n        module = savedmodule;\n        resolve();\n    };\n  var firstScriptTag = document.getElementsByTagName('script')[0];\n  firstScriptTag.parentNode.insertBefore(tag, firstScriptTag);\n});\n};\n\nif(typeof $3Dmolpromise === 'undefined') {\n$3Dmolpromise = null;\n  $3Dmolpromise = loadScriptAsync('https://cdnjs.cloudflare.com/ajax/libs/3Dmol/2.1.0/3Dmol-min.js');\n}\n\nvar viewer_17110551877644842 = null;\nvar warn = document.getElementById(\"3dmolwarning_17110551877644842\");\nif(warn) {\n    warn.parentNode.removeChild(warn);\n}\n$3Dmolpromise.then(function() {\nvar viewergrid_17110551877644842 = null;\nviewergrid_17110551877644842 = $3Dmol.createViewerGrid(document.getElementById(\"3dmolviewer_17110551877644842\"),{rows: 2, cols: 2, control_all: true},{backgroundColor:\"white\"});\nviewer_17110551877644842 = viewergrid_17110551877644842[0][0];\nviewergrid_17110551877644842[0][0].zoomTo();viewergrid_17110551877644842[0][1].zoomTo();viewergrid_17110551877644842[1][0].zoomTo();viewergrid_17110551877644842[1][1].zoomTo();\tviewergrid_17110551877644842[0][0].addModel(\"\\n     RDKit          3D\\n\\n  8  6  0  0  0  0  0  0  0  0999 V2000\\n   -0.3202    1.1511    0.4051 C   0  0  0  0  0  0  0  0  0  0  0  0\\n    0.0040    0.8760   -0.7556 O   0  0  0  0  0  0  0  0  0  0  0  0\\n    0.3202   -1.1511   -0.4051 C   0  0  0  0  0  0  0  0  0  0  0  0\\n   -0.0040   -0.8760    0.7556 O   0  0  0  0  0  0  0  0  0  0  0  0\\n    0.4159    1.4879    1.1562 H   0  0  0  0  0  0  0  0  0  0  0  0\\n   -1.3725    1.1368    0.7398 H   0  0  0  0  0  0  0  0  0  0  0  0\\n   -0.4159   -1.4878   -1.1562 H   0  0  0  0  0  0  0  0  0  0  0  0\\n    1.3725   -1.1369   -0.7398 H   0  0  0  0  0  0  0  0  0  0  0  0\\n  7  3  1  0\\n  6  1  1  0\\n  4  3  2  0\\n  3  8  1  0\\n  2  1  2  0\\n  1  5  1  0\\nM  END\\n\",\"sdf\");\n\tviewergrid_17110551877644842[0][0].setStyle({\"stick\": {\"radius\": 0.05, \"color\": \"#f2f2f2\"}, \"sphere\": {\"scale\": 0.25}});\n\tviewergrid_17110551877644842[0][0].addPropertyLabels(\"index\",{},{\"fontSize\": 15, \"fontColor\": \"white\", \"alignment\": \"center\", \"showBackground\": true, \"backgroundOpacity\": 0.2, \"backgroundColor\": \"black\"});\n\tviewergrid_17110551877644842[0][0].zoomTo();\n\tviewergrid_17110551877644842[0][1].addModel(\"\\n     RDKit          3D\\n\\n  8  6  0  0  0  0  0  0  0  0999 V2000\\n   -0.3202    1.1511    0.4051 C   0  0  0  0  0  0  0  0  0  0  0  0\\n    0.0040    0.8760   -0.7556 O   0  0  0  0  0  0  0  0  0  0  0  0\\n    0.3202   -1.1511   -0.4051 C   0  0  0  0  0  0  0  0  0  0  0  0\\n   -0.0040   -0.8760    0.7556 O   0  0  0  0  0  0  0  0  0  0  0  0\\n    0.4159    1.4879    1.1562 H   0  0  0  0  0  0  0  0  0  0  0  0\\n   -1.3725    1.1368    0.7398 H   0  0  0  0  0  0  0  0  0  0  0  0\\n   -0.4159   -1.4878   -1.1562 H   0  0  0  0  0  0  0  0  0  0  0  0\\n    1.3725   -1.1369   -0.7398 H   0  0  0  0  0  0  0  0  0  0  0  0\\n  7  3  1  0\\n  6  1  1  0\\n  4  3  2  0\\n  3  8  1  0\\n  2  1  2  0\\n  1  5  1  0\\nM  END\\n\",\"sdf\");\n\tviewergrid_17110551877644842[0][1].setStyle({\"stick\": {\"radius\": 0.05, \"color\": \"#f2f2f2\"}, \"sphere\": {\"scale\": 0.25}});\n\tviewergrid_17110551877644842[0][1].addPropertyLabels(\"index\",{},{\"fontSize\": 15, \"fontColor\": \"white\", \"alignment\": \"center\", \"showBackground\": true, \"backgroundOpacity\": 0.2, \"backgroundColor\": \"black\"});\n\tviewergrid_17110551877644842[0][1].zoomTo();\n\tviewergrid_17110551877644842[1][0].addModel(\"\\n     RDKit          3D\\n\\n  8  6  0  0  0  0  0  0  0  0999 V2000\\n   -0.3202    1.1511    0.4051 C   0  0  0  0  0  0  0  0  0  0  0  0\\n    0.0040    0.8760   -0.7556 O   0  0  0  0  0  0  0  0  0  0  0  0\\n    0.3202   -1.1511   -0.4051 C   0  0  0  0  0  0  0  0  0  0  0  0\\n   -0.0040   -0.8760    0.7556 O   0  0  0  0  0  0  0  0  0  0  0  0\\n    0.4159    1.4879    1.1562 H   0  0  0  0  0  0  0  0  0  0  0  0\\n   -1.3725    1.1368    0.7398 H   0  0  0  0  0  0  0  0  0  0  0  0\\n   -0.4159   -1.4878   -1.1562 H   0  0  0  0  0  0  0  0  0  0  0  0\\n    1.3725   -1.1369   -0.7398 H   0  0  0  0  0  0  0  0  0  0  0  0\\n  7  3  1  0\\n  6  1  1  0\\n  4  3  2  0\\n  3  8  1  0\\n  2  1  2  0\\n  1  5  1  0\\nM  END\\n\",\"sdf\");\n\tviewergrid_17110551877644842[1][0].setStyle({\"stick\": {\"radius\": 0.05, \"color\": \"#f2f2f2\"}, \"sphere\": {\"scale\": 0.25}});\n\tviewergrid_17110551877644842[1][0].addPropertyLabels(\"index\",{},{\"fontSize\": 15, \"fontColor\": \"white\", \"alignment\": \"center\", \"showBackground\": true, \"backgroundOpacity\": 0.2, \"backgroundColor\": \"black\"});\n\tviewergrid_17110551877644842[1][0].zoomTo();\n\tviewergrid_17110551877644842[1][1].addModel(\"\\n     RDKit          3D\\n\\n  8  6  0  0  0  0  0  0  0  0999 V2000\\n   -0.3202    1.1511    0.4051 C   0  0  0  0  0  0  0  0  0  0  0  0\\n    0.0040    0.8760   -0.7556 O   0  0  0  0  0  0  0  0  0  0  0  0\\n    0.3202   -1.1511   -0.4051 C   0  0  0  0  0  0  0  0  0  0  0  0\\n   -0.0040   -0.8760    0.7556 O   0  0  0  0  0  0  0  0  0  0  0  0\\n    0.4159    1.4879    1.1562 H   0  0  0  0  0  0  0  0  0  0  0  0\\n   -1.3725    1.1368    0.7398 H   0  0  0  0  0  0  0  0  0  0  0  0\\n   -0.4159   -1.4878   -1.1562 H   0  0  0  0  0  0  0  0  0  0  0  0\\n    1.3725   -1.1369   -0.7398 H   0  0  0  0  0  0  0  0  0  0  0  0\\n  7  3  1  0\\n  6  1  1  0\\n  4  3  2  0\\n  3  8  1  0\\n  2  1  2  0\\n  1  5  1  0\\nM  END\\n\",\"sdf\");\n\tviewergrid_17110551877644842[1][1].setStyle({\"stick\": {\"radius\": 0.05, \"color\": \"#f2f2f2\"}, \"sphere\": {\"scale\": 0.25}});\n\tviewergrid_17110551877644842[1][1].addPropertyLabels(\"index\",{},{\"fontSize\": 15, \"fontColor\": \"white\", \"alignment\": \"center\", \"showBackground\": true, \"backgroundOpacity\": 0.2, \"backgroundColor\": \"black\"});\n\tviewergrid_17110551877644842[1][1].zoomTo();\nviewergrid_17110551877644842[1][1].render();\nviewergrid_17110551877644842[1][0].render();\nviewergrid_17110551877644842[0][1].render();\nviewergrid_17110551877644842[0][0].render();\n});\n</script>",
      "text/html": [
       "<div id=\"3dmolviewer_17110551877644842\"  style=\"position: relative; width: 600px; height: 400px;\">\n",
       "        <p id=\"3dmolwarning_17110551877644842\" style=\"background-color:#ffcccc;color:black\">3Dmol.js failed to load for some reason.  Please check your browser console for error messages.<br></p>\n",
       "        </div>\n",
       "<script>\n",
       "\n",
       "var loadScriptAsync = function(uri){\n",
       "  return new Promise((resolve, reject) => {\n",
       "    //this is to ignore the existence of requirejs amd\n",
       "    var savedexports, savedmodule;\n",
       "    if (typeof exports !== 'undefined') savedexports = exports;\n",
       "    else exports = {}\n",
       "    if (typeof module !== 'undefined') savedmodule = module;\n",
       "    else module = {}\n",
       "\n",
       "    var tag = document.createElement('script');\n",
       "    tag.src = uri;\n",
       "    tag.async = true;\n",
       "    tag.onload = () => {\n",
       "        exports = savedexports;\n",
       "        module = savedmodule;\n",
       "        resolve();\n",
       "    };\n",
       "  var firstScriptTag = document.getElementsByTagName('script')[0];\n",
       "  firstScriptTag.parentNode.insertBefore(tag, firstScriptTag);\n",
       "});\n",
       "};\n",
       "\n",
       "if(typeof $3Dmolpromise === 'undefined') {\n",
       "$3Dmolpromise = null;\n",
       "  $3Dmolpromise = loadScriptAsync('https://cdnjs.cloudflare.com/ajax/libs/3Dmol/2.1.0/3Dmol-min.js');\n",
       "}\n",
       "\n",
       "var viewer_17110551877644842 = null;\n",
       "var warn = document.getElementById(\"3dmolwarning_17110551877644842\");\n",
       "if(warn) {\n",
       "    warn.parentNode.removeChild(warn);\n",
       "}\n",
       "$3Dmolpromise.then(function() {\n",
       "var viewergrid_17110551877644842 = null;\n",
       "viewergrid_17110551877644842 = $3Dmol.createViewerGrid(document.getElementById(\"3dmolviewer_17110551877644842\"),{rows: 2, cols: 2, control_all: true},{backgroundColor:\"white\"});\n",
       "viewer_17110551877644842 = viewergrid_17110551877644842[0][0];\n",
       "viewergrid_17110551877644842[0][0].zoomTo();viewergrid_17110551877644842[0][1].zoomTo();viewergrid_17110551877644842[1][0].zoomTo();viewergrid_17110551877644842[1][1].zoomTo();\tviewergrid_17110551877644842[0][0].addModel(\"\\n     RDKit          3D\\n\\n  8  6  0  0  0  0  0  0  0  0999 V2000\\n   -0.3202    1.1511    0.4051 C   0  0  0  0  0  0  0  0  0  0  0  0\\n    0.0040    0.8760   -0.7556 O   0  0  0  0  0  0  0  0  0  0  0  0\\n    0.3202   -1.1511   -0.4051 C   0  0  0  0  0  0  0  0  0  0  0  0\\n   -0.0040   -0.8760    0.7556 O   0  0  0  0  0  0  0  0  0  0  0  0\\n    0.4159    1.4879    1.1562 H   0  0  0  0  0  0  0  0  0  0  0  0\\n   -1.3725    1.1368    0.7398 H   0  0  0  0  0  0  0  0  0  0  0  0\\n   -0.4159   -1.4878   -1.1562 H   0  0  0  0  0  0  0  0  0  0  0  0\\n    1.3725   -1.1369   -0.7398 H   0  0  0  0  0  0  0  0  0  0  0  0\\n  7  3  1  0\\n  6  1  1  0\\n  4  3  2  0\\n  3  8  1  0\\n  2  1  2  0\\n  1  5  1  0\\nM  END\\n\",\"sdf\");\n",
       "\tviewergrid_17110551877644842[0][0].setStyle({\"stick\": {\"radius\": 0.05, \"color\": \"#f2f2f2\"}, \"sphere\": {\"scale\": 0.25}});\n",
       "\tviewergrid_17110551877644842[0][0].addPropertyLabels(\"index\",{},{\"fontSize\": 15, \"fontColor\": \"white\", \"alignment\": \"center\", \"showBackground\": true, \"backgroundOpacity\": 0.2, \"backgroundColor\": \"black\"});\n",
       "\tviewergrid_17110551877644842[0][0].zoomTo();\n",
       "\tviewergrid_17110551877644842[0][1].addModel(\"\\n     RDKit          3D\\n\\n  8  6  0  0  0  0  0  0  0  0999 V2000\\n   -0.3202    1.1511    0.4051 C   0  0  0  0  0  0  0  0  0  0  0  0\\n    0.0040    0.8760   -0.7556 O   0  0  0  0  0  0  0  0  0  0  0  0\\n    0.3202   -1.1511   -0.4051 C   0  0  0  0  0  0  0  0  0  0  0  0\\n   -0.0040   -0.8760    0.7556 O   0  0  0  0  0  0  0  0  0  0  0  0\\n    0.4159    1.4879    1.1562 H   0  0  0  0  0  0  0  0  0  0  0  0\\n   -1.3725    1.1368    0.7398 H   0  0  0  0  0  0  0  0  0  0  0  0\\n   -0.4159   -1.4878   -1.1562 H   0  0  0  0  0  0  0  0  0  0  0  0\\n    1.3725   -1.1369   -0.7398 H   0  0  0  0  0  0  0  0  0  0  0  0\\n  7  3  1  0\\n  6  1  1  0\\n  4  3  2  0\\n  3  8  1  0\\n  2  1  2  0\\n  1  5  1  0\\nM  END\\n\",\"sdf\");\n",
       "\tviewergrid_17110551877644842[0][1].setStyle({\"stick\": {\"radius\": 0.05, \"color\": \"#f2f2f2\"}, \"sphere\": {\"scale\": 0.25}});\n",
       "\tviewergrid_17110551877644842[0][1].addPropertyLabels(\"index\",{},{\"fontSize\": 15, \"fontColor\": \"white\", \"alignment\": \"center\", \"showBackground\": true, \"backgroundOpacity\": 0.2, \"backgroundColor\": \"black\"});\n",
       "\tviewergrid_17110551877644842[0][1].zoomTo();\n",
       "\tviewergrid_17110551877644842[1][0].addModel(\"\\n     RDKit          3D\\n\\n  8  6  0  0  0  0  0  0  0  0999 V2000\\n   -0.3202    1.1511    0.4051 C   0  0  0  0  0  0  0  0  0  0  0  0\\n    0.0040    0.8760   -0.7556 O   0  0  0  0  0  0  0  0  0  0  0  0\\n    0.3202   -1.1511   -0.4051 C   0  0  0  0  0  0  0  0  0  0  0  0\\n   -0.0040   -0.8760    0.7556 O   0  0  0  0  0  0  0  0  0  0  0  0\\n    0.4159    1.4879    1.1562 H   0  0  0  0  0  0  0  0  0  0  0  0\\n   -1.3725    1.1368    0.7398 H   0  0  0  0  0  0  0  0  0  0  0  0\\n   -0.4159   -1.4878   -1.1562 H   0  0  0  0  0  0  0  0  0  0  0  0\\n    1.3725   -1.1369   -0.7398 H   0  0  0  0  0  0  0  0  0  0  0  0\\n  7  3  1  0\\n  6  1  1  0\\n  4  3  2  0\\n  3  8  1  0\\n  2  1  2  0\\n  1  5  1  0\\nM  END\\n\",\"sdf\");\n",
       "\tviewergrid_17110551877644842[1][0].setStyle({\"stick\": {\"radius\": 0.05, \"color\": \"#f2f2f2\"}, \"sphere\": {\"scale\": 0.25}});\n",
       "\tviewergrid_17110551877644842[1][0].addPropertyLabels(\"index\",{},{\"fontSize\": 15, \"fontColor\": \"white\", \"alignment\": \"center\", \"showBackground\": true, \"backgroundOpacity\": 0.2, \"backgroundColor\": \"black\"});\n",
       "\tviewergrid_17110551877644842[1][0].zoomTo();\n",
       "\tviewergrid_17110551877644842[1][1].addModel(\"\\n     RDKit          3D\\n\\n  8  6  0  0  0  0  0  0  0  0999 V2000\\n   -0.3202    1.1511    0.4051 C   0  0  0  0  0  0  0  0  0  0  0  0\\n    0.0040    0.8760   -0.7556 O   0  0  0  0  0  0  0  0  0  0  0  0\\n    0.3202   -1.1511   -0.4051 C   0  0  0  0  0  0  0  0  0  0  0  0\\n   -0.0040   -0.8760    0.7556 O   0  0  0  0  0  0  0  0  0  0  0  0\\n    0.4159    1.4879    1.1562 H   0  0  0  0  0  0  0  0  0  0  0  0\\n   -1.3725    1.1368    0.7398 H   0  0  0  0  0  0  0  0  0  0  0  0\\n   -0.4159   -1.4878   -1.1562 H   0  0  0  0  0  0  0  0  0  0  0  0\\n    1.3725   -1.1369   -0.7398 H   0  0  0  0  0  0  0  0  0  0  0  0\\n  7  3  1  0\\n  6  1  1  0\\n  4  3  2  0\\n  3  8  1  0\\n  2  1  2  0\\n  1  5  1  0\\nM  END\\n\",\"sdf\");\n",
       "\tviewergrid_17110551877644842[1][1].setStyle({\"stick\": {\"radius\": 0.05, \"color\": \"#f2f2f2\"}, \"sphere\": {\"scale\": 0.25}});\n",
       "\tviewergrid_17110551877644842[1][1].addPropertyLabels(\"index\",{},{\"fontSize\": 15, \"fontColor\": \"white\", \"alignment\": \"center\", \"showBackground\": true, \"backgroundOpacity\": 0.2, \"backgroundColor\": \"black\"});\n",
       "\tviewergrid_17110551877644842[1][1].zoomTo();\n",
       "viewergrid_17110551877644842[1][1].render();\n",
       "viewergrid_17110551877644842[1][0].render();\n",
       "viewergrid_17110551877644842[0][1].render();\n",
       "viewergrid_17110551877644842[0][0].render();\n",
       "});\n",
       "</script>"
      ]
     },
     "metadata": {},
     "output_type": "display_data"
    },
    {
     "data": {
      "text/plain": [
       "<py3Dmol.view at 0x17ed73f10>"
      ]
     },
     "execution_count": 31,
     "metadata": {},
     "output_type": "execute_result"
    }
   ],
   "source": [
    "ff = RDKitFF()\n",
    "ff.setup(mol5.Copy())\n",
    "ff.add_distance_constraint([1,2], 2.0, force_constant=1e3)\n",
    "ff.add_distance_constraint([0,3], 2.0, force_constant=1e3)\n",
    "ff.optimize_confs()\n",
    "opt_mol = ff.get_optimized_mol()\n",
    "\n",
    "viewer = grid_viewer(viewer_grid=(2, 2), viewer_size=(600, 400), linked=True)\n",
    "grids = [(0,0), (0,1), (1,0), (1,1)]\n",
    "for i in range(4):\n",
    "    print(f'conformer {i}')\n",
    "    print(f'd(1,2) = {opt_mol.GetEditableConformer(i).GetBondLength([1,2])}\\n'\n",
    "          f'd(0,3) = {opt_mol.GetEditableConformer(i).GetBondLength([0,3])}\\n')\n",
    "    mol_viewer(opt_mol, viewer=viewer, viewer_loc=grids[i])\n",
    "print(f'Force field energies for each conformers: {ff.get_conformer_energies()}')\n",
    "viewer"
   ]
  },
  {
   "cell_type": "markdown",
   "metadata": {},
   "source": [
    "### 6. 1D torsional scan"
   ]
  },
  {
   "cell_type": "code",
   "execution_count": 2,
   "metadata": {},
   "outputs": [],
   "source": [
    "xyz = \"\"\"O     -1.4560320000   -0.6564780000   -0.0547780000\n",
    "  C      0.6264870000    0.6420160000   -0.2996580000\n",
    "  C     -0.7756090000    0.5456950000    0.3029210000\n",
    "  C      1.5452770000   -0.5075760000    0.1202110000\n",
    "  H      1.0636220000    1.6047080000   -0.0081600000\n",
    "  H      0.5390000000    0.6678840000   -1.3943400000\n",
    "  H     -1.3675760000    1.4276160000    0.0200750000\n",
    "  H     -0.7153500000    0.5286660000    1.3946760000\n",
    "  H      1.7247880000   -0.4909950000    1.1997250000\n",
    "  H      2.5146430000   -0.4479850000   -0.3811650000\n",
    "  H      1.0902030000   -1.4695310000   -0.1238680000\n",
    "  H     -1.5780000000   -0.6493500000   -1.0095640000\"\"\"\n",
    "\n",
    "mol6 = Mol.FromXYZ(xyz, header=False)\n",
    "\n",
    "torsion1 = mol6.GetTorsionalModes(excludeMethyl=True)[0]"
   ]
  },
  {
   "cell_type": "code",
   "execution_count": 8,
   "metadata": {},
   "outputs": [],
   "source": [
    "ff = RDKitFF()\n",
    "ff.setup(mol6.Copy())\n",
    "angles1, rigid_E, xyzs1 = ff.torsional_scan_1d(torsion1, num_points=45, return_xyz=True)\n",
    "angles2, relax_E, xyzs2 = ff.torsional_scan_1d(torsion1, num_points=45, rigid=False, return_xyz=True)\n"
   ]
  },
  {
   "cell_type": "code",
   "execution_count": 5,
   "metadata": {},
   "outputs": [
    {
     "data": {
      "text/plain": [
       "<matplotlib.legend.Legend at 0x17604a390>"
      ]
     },
     "execution_count": 5,
     "metadata": {},
     "output_type": "execute_result"
    },
    {
     "data": {
      "image/png": "[encoded data removed]",
      "text/plain": [
       "<Figure size 640x480 with 1 Axes>"
      ]
     },
     "metadata": {},
     "output_type": "display_data"
    }
   ],
   "source": [
    "fig, ax = plt.subplots(1, 1)\n",
    "plot_curve(x=angles1, y=rigid_E,\n",
    "           relative_x=0, periodic_x=360, relative_y='min',\n",
    "           ax=ax,\n",
    "           xlabel='Torsional angle (degree)',\n",
    "           ylabel='Energy (kcal/mol)')\n",
    "plot_curve(x=angles2, y=relax_E,\n",
    "           relative_x=0, periodic_x=360, relative_y=0,\n",
    "           ax=ax,\n",
    "           xlabel='Torsional angle (degree)',\n",
    "           ylabel='Energy (kcal/mol)')\n",
    "ax.legend(['Rigid', 'Relax'])\n"
   ]
  },
  {
   "cell_type": "code",
   "execution_count": 13,
   "metadata": {},
   "outputs": [
    {
     "data": {
      "application/3dmoljs_load.v0": "<div id=\"3dmolviewer_1711055601674338\"  style=\"position: relative; width: 800px; height: 400px;\">\n        <p id=\"3dmolwarning_1711055601674338\" style=\"background-color:#ffcccc;color:black\">3Dmol.js failed to load for some reason.  Please check your browser console for error messages.<br></p>\n        </div>\n<script>\n\nvar loadScriptAsync = function(uri){\n  return new Promise((resolve, reject) => {\n    //this is to ignore the existence of requirejs amd\n    var savedexports, savedmodule;\n    if (typeof exports !== 'undefined') savedexports = exports;\n    else exports = {}\n    if (typeof module !== 'undefined') savedmodule = module;\n    else module = {}\n\n    var tag = document.createElement('script');\n    tag.src = uri;\n    tag.async = true;\n    tag.onload = () => {\n        exports = savedexports;\n        module = savedmodule;\n        resolve();\n    };\n  var firstScriptTag = document.getElementsByTagName('script')[0];\n  firstScriptTag.parentNode.insertBefore(tag, firstScriptTag);\n});\n};\n\nif(typeof $3Dmolpromise === 'undefined') {\n$3Dmolpromise = null;\n  $3Dmolpromise = loadScriptAsync('https://cdnjs.cloudflare.com/ajax/libs/3Dmol/2.1.0/3Dmol-min.js');\n}\n\nvar viewer_1711055601674338 = null;\nvar warn = document.getElementById(\"3dmolwarning_1711055601674338\");\nif(warn) {\n    warn.parentNode.removeChild(warn);\n}\n$3Dmolpromise.then(function() {\nvar viewergrid_1711055601674338 = null;\nviewergrid_1711055601674338 = $3Dmol.createViewerGrid(document.getElementById(\"3dmolviewer_1711055601674338\"),{rows: 1, cols: 2, control_all: true},{backgroundColor:\"white\"});\nviewer_1711055601674338 = viewergrid_1711055601674338[0][0];\nviewergrid_1711055601674338[0][0].zoomTo();viewergrid_1711055601674338[0][1].zoomTo();\tviewergrid_1711055601674338[0][0].addModelsAsFrames(\"12\\n\\nO     -1.456032   -0.656478   -0.054778\\nC      0.626487    0.642016   -0.299658\\nC     -0.775609    0.545695    0.302921\\nC      1.545277   -0.507576    0.120211\\nH      1.063622    1.604708   -0.008160\\nH      0.539000    0.667884   -1.394340\\nH     -1.367576    1.427616    0.020075\\nH     -0.715350    0.528666    1.394676\\nH      1.724788   -0.490995    1.199725\\nH      2.514643   -0.447985   -0.381165\\nH      1.090203   -1.469531   -0.123868\\nH     -1.578000   -0.649350   -1.009564\\n12\\n\\nO     -1.456032   -0.656478   -0.054778\\nC      0.541606    0.734892   -0.450339\\nC     -0.775609    0.545695    0.302921\\nC      1.538818   -0.402808   -0.219614\\nH      0.980150    1.693079   -0.146379\\nH      0.324350    0.827690   -1.523111\\nH     -1.423938    1.420348    0.151715\\nH     -0.585996    0.460843    1.376558\\nH      1.844296   -0.448731    0.830350\\nH      2.439679   -0.273534   -0.824872\\nH      1.088063   -1.364005   -0.474454\\nH     -1.578000   -0.649350   -1.009564\\n12\\n\\nO     -1.456032   -0.656478   -0.054778\\nC      0.436644    0.833903   -0.583437\\nC     -0.775609    0.545695    0.302921\\nC      1.488923   -0.276733   -0.548421\\nH      0.878201    1.786850   -0.267601\\nH      0.091114    0.986998   -1.614855\\nH     -1.464063    1.402448    0.288200\\nH     -0.457659    0.399395    1.338949\\nH      1.917858   -0.378196    0.453362\\nH      2.307334   -0.073950   -1.243893\\nH      1.041155   -1.236315   -0.814373\\nH     -1.578000   -0.649350   -1.009564\\n12\\n\\nO     -1.456032   -0.656478   -0.054778\\nC      0.313643    0.937121   -0.696363\\nC     -0.775609    0.545695    0.302921\\nC      1.396561   -0.131804   -0.859811\\nH      0.759760    1.884197   -0.369467\\nH     -0.156166    1.142706   -1.667787\\nH     -1.487170    1.374265    0.426874\\nH     -0.332836    0.345519    1.282580\\nH      1.944040   -0.280762    0.076099\\nH      2.120183    0.146882   -1.630074\\nH      0.950394   -1.088945   -1.137011\\nH     -1.578000   -0.649350   -1.009564\\n12\\n\\nO     -1.456032   -0.656478   -0.054778\\nC      0.174998    1.042537   -0.786917\\nC     -0.775609    0.545695    0.302921\\nC      1.263531    0.029156   -1.147723\\nH      0.627131    1.983224   -0.449994\\nH     -0.412679    1.291786   -1.680876\\nH     -1.492809    1.336347    0.565037\\nH     -0.213958    0.300262    1.208549\\nH      1.922333   -0.158327   -0.294096\\nH      1.881868    0.384664   -1.975898\\nH      0.817544   -0.924765   -1.436087\\nH     -1.578000   -0.649350   -1.009564\\n12\\n\\nO     -1.456032   -0.656478   -0.054778\\nC      0.023406    1.148100   -0.853338\\nC     -0.775609    0.545695    0.302921\\nC      1.092422    0.203016   -1.406554\\nH      0.482896    2.082005   -0.507614\\nH     -0.673430    1.431334   -1.653869\\nH     -1.480871    1.289433    0.700000\\nH     -0.103339    0.264506    1.118296\\nH      1.853160   -0.013274   -0.650019\\nH      1.597029    0.634769   -2.274633\\nH      0.645192   -0.746970   -1.705780\\nH     -1.578000   -0.649350   -1.009564\\n12\\n\\nO     -1.456032   -0.656478   -0.054778\\nC     -0.138181    1.251755   -0.894333\\nC     -0.775609    0.545695    0.302921\\nC      0.886565    0.386392   -1.631265\\nH      0.329862    2.178617   -0.541207\\nH     -0.933347    1.558634   -1.587289\\nH     -1.451587    1.234434    0.829137\\nH     -0.003131    0.238947    1.013578\\nH      1.737868    0.151576   -0.984740\\nH      1.271210    0.892327   -2.520466\\nH      0.436693   -0.559020   -1.940841\\nH     -1.578000   -0.649350   -1.009564\\n12\\n\\nO     -1.456032   -0.656478   -0.054778\\nC     -0.306618    1.351485   -0.909103\\nC     -0.775609    0.545695    0.302921\\nC      0.649966    0.575713   -1.817482\\nH      0.171009    2.271178   -0.550117\\nH     -1.187368    1.671210   -1.482434\\nH     -1.405528    1.172423    0.949934\\nH      0.084715    0.224082    0.896434\\nH      1.578700    0.333012   -1.291746\\nH      0.910751    1.152325   -2.708610\\nH      0.196105   -0.364573   -2.136694\\nH     -1.578000   -0.649350   -1.009564\\n12\\n\\nO     -1.456032   -0.656478   -0.054778\\nC     -0.478628    1.445348   -0.897362\\nC     -0.775609    0.545695    0.302921\\nC      0.387230    0.767296   -1.961582\\nH      0.009427    2.357888   -0.534173\\nH     -1.430550    1.766869   -1.341344\\nH     -1.343591    1.104606    1.060039\\nH      0.158490    0.220201    0.769143\\nH      1.378754    0.527503   -1.565061\\nH      0.522670    1.409704   -2.835405\\nH     -0.071889   -0.167415   -2.289528\\nH     -1.578000   -0.649350   -1.009564\\n12\\n\\nO     -1.456032   -0.656478   -0.054778\\nC     -0.650861    1.531517   -0.859338\\nC     -0.775609    0.545695    0.302921\\nC      0.103471    0.957412   -2.060759\\nH     -0.151738    2.437059   -0.493683\\nH     -1.658160    1.843750   -1.166765\\nH     -1.266980    1.032302    1.157310\\nH      0.216757    0.227379    0.634183\\nH      1.141922    0.731264   -1.799365\\nH      0.114519    1.659454   -2.898383\\nH     -0.362074    0.028617   -2.396368\\nH     -1.578000   -0.649350   -1.009564\\n12\\n\\nO     -1.456032   -0.656478   -0.054778\\nC     -0.819966    1.608315   -0.795770\\nC     -0.775609    0.545695    0.302921\\nC     -0.195787    1.142359   -2.113083\\nH     -0.309348    2.507150   -0.429437\\nH     -1.865767    1.900357   -0.962096\\nH     -1.177187    0.956920    1.239853\\nH      0.258382    0.245476    0.494181\\nH      0.872814    0.940329   -1.990098\\nH     -0.305757    1.896713   -2.896317\\nH     -0.668801    0.219709   -2.455133\\nH     -1.578000   -0.649350   -1.009564\\n12\\n\\nO     -1.456032   -0.656478   -0.054778\\nC     -0.982652    1.674248   -0.707897\\nC     -0.775609    0.545695    0.302921\\nC     -0.504720    1.318538   -2.117535\\nH     -0.460338    2.566796   -0.342684\\nH     -2.049331    1.935587   -0.731320\\nH     -1.075960    0.879926    1.306061\\nH      0.282556    0.274140    0.351862\\nH      0.576667    1.150629   -2.133546\\nH     -0.729979    2.116864   -2.829247\\nH     -0.986100    0.402139   -2.464682\\nH     -1.578000   -0.649350   -1.009564\\n12\\n\\nO     -1.456032   -0.656478   -0.054778\\nC     -1.135751    1.728032   -0.597429\\nC     -0.775609    0.545695    0.302921\\nC     -0.817316    1.482520   -2.074029\\nH     -0.601767    2.614837   -0.235113\\nH     -2.205279    1.948755   -0.478928\\nH     -0.965269    0.802819    1.354647\\nH      0.288807    0.312813    0.209996\\nH      0.259247    1.358069   -2.226919\\nH     -1.149888    2.315621   -2.698480\\nH     -1.307795    0.572358   -2.424826\\nH     -1.578000   -0.649350   -1.009564\\n12\\n\\nO     -1.456032   -0.656478   -0.054778\\nC     -1.276283    1.768620   -0.466515\\nC     -0.775609    0.545695    0.302921\\nC     -1.127489    1.631114   -1.983412\\nH     -0.730882    2.650338   -0.108819\\nH     -2.330575    1.939605   -0.209834\\nH     -0.847268    0.727100    1.384664\\nH      0.277014    0.360743    0.071344\\nH     -0.073270    1.558614   -2.268399\\nH     -1.557312    2.489116   -2.506561\\nH     -1.627625    0.727052   -2.336344\\nH     -1.578000   -0.649350   -1.009564\\n12\\n\\nO     -1.456032   -0.656478   -0.054778\\nC     -1.401515    1.795223   -0.317704\\nC     -0.775609    0.545695    0.302921\\nC     -1.429202    1.761427   -1.847448\\nH     -0.845172    2.672607    0.033741\\nH     -2.422781    1.908314    0.070725\\nH     -0.724254    0.654242    1.395529\\nH      0.247406    0.416996   -0.061395\\nH     -0.414411    1.748359   -2.257177\\nH     -1.944321    2.633972   -2.257224\\nH     -1.939364    0.863211   -2.200955\\nH     -1.578000   -0.649350   -1.009564\\n12\\n\\nO     -1.456032   -0.656478   -0.054778\\nC     -1.509007    1.807322   -0.153892\\nC     -0.775609    0.545695    0.302921\\nC     -1.716584    1.870922   -1.668782\\nH     -0.942411    2.681211    0.189793\\nH     -2.480102    1.855492    0.357289\\nH     -0.598622    0.585664    1.387029\\nH      0.200561    0.480478   -0.185638\\nH     -0.757536    1.923611   -2.193474\\nH     -2.303382    2.747370   -1.955323\\nH     -2.236945    0.978184   -2.021297\\nH     -1.578000   -0.649350   -1.009564\\n12\\n\\nO     -1.456032   -0.656478   -0.054778\\nC     -1.596668    1.804681    0.021733\\nC     -0.775609    0.545695    0.302921\\nC     -1.984040    1.957469   -1.450893\\nH     -1.020706    2.675983    0.356298\\nH     -2.501423    1.782167    0.644280\\nH     -0.472817    0.522701    1.359330\\nH      0.137388    0.549954   -0.298966\\nH     -1.095967    2.080960   -2.078529\\nH     -2.627507    2.827103   -1.606735\\nH     -2.514577    1.069733   -1.800865\\nH     -1.578000   -0.649350   -1.009564\\n12\\n\\nO     -1.456032   -0.656478   -0.054778\\nC     -1.662792    1.787354    0.205751\\nC     -0.775609    0.545695    0.302921\\nC     -2.226364    2.019383   -1.198021\\nH     -1.078534    2.657025    0.530016\\nH     -2.486327    1.689766    0.926111\\nH     -0.349287    0.466577    1.312971\\nH      0.059119    0.624069   -0.399173\\nH     -1.423116    2.217342   -1.914578\\nH     -2.910387    2.871618   -1.218243\\nH     -2.766854    1.136077   -1.543950\\nH     -1.578000   -0.649350   -1.009564\\n12\\n\\nO     -1.456032   -0.656478   -0.054778\\nC     -1.706092    1.755676    0.394581\\nC     -0.775609    0.545695    0.302921\\nC     -2.438841    2.055459   -0.915088\\nH     -1.114769    2.624705    0.707566\\nH     -2.435110    1.580088    1.197297\\nH     -0.230437    0.418386    1.248855\\nH     -0.032723    0.701384   -0.484310\\nH     -1.732615    2.330103   -1.704813\\nH     -3.146515    2.880049   -0.797410\\nH     -2.988867    1.175925   -1.255553\\nH     -1.578000   -0.649350   -1.009564\\n12\\n\\nO     -1.456032   -0.656478   -0.054778\\nC     -1.725724    1.710264    0.584549\\nC     -0.775609    0.545695    0.302921\\nC     -2.617334    2.064994   -0.607602\\nH     -1.128706    2.579653    0.885491\\nH     -2.348768    1.455267    1.452561\\nH     -0.118580    0.379065    1.168229\\nH     -0.136352    0.780391   -0.552718\\nH     -2.018442    2.417048   -1.453318\\nH     -3.331296    2.852232   -0.352427\\nH     -3.176294    1.188500   -0.941286\\nH     -1.578000   -0.649350   -1.009564\\n12\\n\\nO     -1.456032   -0.656478   -0.054778\\nC     -1.721307    1.652002    0.771956\\nC     -0.775609    0.545695    0.302921\\nC     -2.758370    2.047804   -0.281546\\nH     -1.120074    2.522745    1.060330\\nH     -2.228982    1.317733    1.686932\\nH     -0.015893    0.349380    1.072663\\nH     -0.249749    0.859554   -0.603067\\nH     -2.275032    2.476485   -1.164986\\nH     -3.461134    2.788709    0.108046\\nH     -3.325488    1.173557   -0.607267\\nH     -1.578000   -0.649350   -1.009564\\n12\\n\\nO     -1.456032   -0.656478   -0.054778\\nC     -1.692926    1.582024    0.953155\\nC     -0.775609    0.545695    0.302921\\nC     -2.859203    2.004222    0.056732\\nH     -1.089040    2.455089    1.228678\\nH     -2.078082    1.170162    1.895851\\nH      0.075625    0.329908    0.964017\\nH     -0.370708    0.937332   -0.634376\\nH     -2.497391    2.507257   -0.845431\\nH     -3.533501    2.690715    0.575046\\nH     -3.433545    1.131389   -0.259998\\nH     -1.578000   -0.649350   -1.009564\\n12\\n\\nO     -1.456032   -0.656478   -0.054778\\nC     -1.641135    1.501692    1.124619\\nC     -0.775609    0.545695    0.302921\\nC     -2.917871    1.935097    0.400649\\nH     -1.036209    2.378002    1.387259\\nH     -1.899007    1.015427    2.075250\\nH      0.154192    0.321029    0.844406\\nH     -0.496874    1.012211   -0.646036\\nH     -2.681191    2.508765   -0.500871\\nH     -3.546989    2.560159    1.039482\\nH     -3.498361    1.062815    0.093764\\nH     -1.578000   -0.649350   -1.009564\\n12\\n\\nO     -1.456032   -0.656478   -0.054778\\nC     -1.566940    1.412570    1.283010\\nC     -0.775609    0.545695    0.302921\\nC     -2.933231    1.841775    0.743510\\nH     -0.962609    2.292985    1.532986\\nH     -1.695242    0.856541    2.221637\\nH      0.218281    0.322915    0.716157\\nH     -0.625792    1.082733   -0.637821\\nH     -2.822855    2.480980   -0.138013\\nH     -3.501334    2.399581    1.492316\\nH     -3.518675    0.969170    0.447131\\nH     -1.578000   -0.649350   -1.009564\\n12\\n\\nO     -1.456032   -0.656478   -0.054778\\nC     -1.471787    1.316393    1.425246\\nC     -0.775609    0.545695    0.302921\\nC     -2.904985    1.726072    1.078642\\nH     -0.869672    2.201691    1.663024\\nH     -1.470752    0.696594    2.332164\\nH      0.266642    0.335530    0.581767\\nH     -0.754952    1.147526   -0.609889\\nH     -2.919625    2.424443    0.236079\\nH     -3.397427    2.212107    1.924734\\nH     -3.494091    0.852277    0.793227\\nH     -1.578000   -0.649350   -1.009564\\n12\\n\\nO     -1.456032   -0.656478   -0.054778\\nC     -1.357527    1.215032    1.548558\\nC     -0.775609    0.545695    0.302921\\nC     -2.833683    1.590239    1.399523\\nH     -0.759208    2.105899    1.774840\\nH     -1.229908    0.538701    2.404679\\nH      0.298335    0.358628    0.443852\\nH     -0.881841    1.205329   -0.562785\\nH     -2.969619    2.340254    0.614126\\nH     -3.237288    2.001385    2.328318\\nH     -3.425089    0.714412    1.125315\\nH     -1.578000   -0.649350   -1.009564\\n12\\n\\nO     -1.456032   -0.656478   -0.054778\\nC     -1.226385    1.110460    1.650547\\nC     -0.775609    0.545695    0.302921\\nC     -2.720712    1.436921    1.699906\\nH     -0.633366    2.007472    1.866259\\nH     -0.977396    0.385935    2.437770\\nH      0.312743    0.391759    0.305095\\nH     -1.003989    1.255017   -0.497426\\nH     -2.971862    2.230051    0.988768\\nH     -3.024036    1.771518    2.695214\\nH     -3.313010    0.558256    1.436931\\nH     -1.578000   -0.649350   -1.009564\\n12\\n\\nO     -1.456032   -0.656478   -0.054778\\nC     -1.080912    1.004712    1.729226\\nC     -0.775609    0.545695    0.302921\\nC     -2.568271    1.269102    1.973945\\nH     -0.494596    1.908326    1.935501\\nH     -0.718132    0.241269    2.430794\\nH      0.309586    0.434279    0.168199\\nH     -1.119018    1.295622   -0.415083\\nH     -2.926312    2.095980    1.352713\\nH     -2.761820    1.526979    3.018280\\nH     -3.160037    0.386851    1.722010\\nH     -1.578000   -0.649350   -1.009564\\n12\\n\\nO     -1.456032   -0.656478   -0.054778\\nC     -0.923940    0.899848    1.783065\\nC     -0.775609    0.545695    0.302921\\nC     -2.379328    1.090048    2.216306\\nH     -0.345599    1.810392    1.981219\\nH     -0.457163    0.107519    2.383886\\nH      0.288924    0.485360    0.035826\\nH     -1.224689    1.326354   -0.317360\\nH     -2.833854    1.940650    1.698878\\nH     -2.455745    1.272529    3.291229\\nH     -2.969146    0.203532    1.975003\\nH     -1.578000   -0.649350   -1.009564\\n12\\n\\nO     -1.456032   -0.656478   -0.054778\\nC     -0.758525    0.797907    1.811016\\nC     -0.775609    0.545695    0.302921\\nC     -2.157559    0.903244    2.422272\\nH     -0.189274    1.715574    2.002522\\nH     -0.199566   -0.012712    2.297959\\nH      0.251161    0.544007   -0.089446\\nH     -1.318946    1.346616   -0.206158\\nH     -2.696288    1.767085    2.020526\\nH     -2.111768    1.013118    3.508748\\nH     -2.744055    0.011867    2.190986\\nH     -1.578000   -0.649350   -1.009564\\n12\\n\\nO     -1.456032   -0.656478   -0.054778\\nC     -0.587886    0.700874    1.812534\\nC     -0.775609    0.545695    0.302921\\nC     -1.907282    0.712327    2.587833\\nH     -0.028665    1.625720    1.998997\\nH      0.049642   -0.117084    2.174687\\nH      0.197031    0.609080   -0.205178\\nH     -1.399953    1.356012   -0.083642\\nH     -2.516293    1.578662    2.311395\\nH     -1.736585    0.753798    3.666602\\nH     -2.489142   -0.184414    2.365755\\nH     -1.578000   -0.649350   -1.009564\\n12\\n\\nO     -1.456032   -0.656478   -0.054778\\nC     -0.415344    0.610639    1.787591\\nC     -0.775609    0.545695    0.302921\\nC     -1.633367    0.521012    2.709769\\nH      0.133102    1.542577    1.970711\\nH      0.285613   -0.203565    2.016467\\nH      0.127588    0.679312   -0.309119\\nH     -1.466135    1.354360    0.047804\\nH     -2.297371    1.379050    2.565824\\nH     -1.337496    0.499614    3.761720\\nH     -2.209371   -0.381489    2.495909\\nH     -1.578000   -0.649350   -1.009564\\n12\\n\\nO     -1.456032   -0.656478   -0.054778\\nC     -0.244258    0.528956    1.736671\\nC     -0.775609    0.545695    0.302921\\nC     -1.341147    0.333023    2.785704\\nH      0.292879    1.467764    1.918215\\nH      0.503753   -0.270471    1.826380\\nH      0.044183    0.753335   -0.399246\\nH     -1.516204    1.341691    0.185620\\nH     -2.043783    1.172133    2.778861\\nH     -0.922271    0.255515    3.792250\\nH     -1.910186   -0.575524    2.578914\\nH     -1.578000   -0.649350   -1.009564\\n12\\n\\nO     -1.456032   -0.656478   -0.054778\\nC     -0.077958    0.457416    1.660765\\nC     -0.775609    0.545695    0.302921\\nC     -1.036309    0.152019    2.814162\\nH      0.447555    1.402737    1.842531\\nH      0.699816   -0.316502    1.608125\\nH     -0.051560    0.829709   -0.473803\\nH     -1.549183    1.318254    0.327126\\nH     -1.760466    0.961938    2.946360\\nH     -0.498991    0.026252    3.757598\\nH     -1.597411   -0.762740    2.613154\\nH     -1.578000   -0.649350   -1.009564\\n12\\n\\nO     -1.456032   -0.656478   -0.054778\\nC      0.080320    0.397411    1.561352\\nC     -0.775609    0.545695    0.302921\\nC     -0.724785   -0.018478    2.794587\\nH      0.594122    1.348762    1.745132\\nH      0.869987   -0.340760    1.365952\\nH     -0.157778    0.906948   -0.531341\\nH     -1.564433    1.284503    0.469565\\nH     -1.452933    0.752558    3.065059\\nH     -0.075896   -0.183714    3.658438\\nH     -1.277134   -0.939496    2.597964\\nH     -1.578000   -0.649350   -1.009564\\n12\\n\\nO     -1.456032   -0.656478   -0.054778\\nC      0.227495    0.350110    1.440366\\nC     -0.775609    0.545695    0.302921\\nC     -0.412641   -0.175147    2.727362\\nH      0.729724    1.306889    1.627914\\nH      1.010952   -0.342774    1.104572\\nH     -0.272403    0.983547   -0.570738\\nH     -1.561655    1.241095    0.610167\\nH     -1.127170    0.548067    3.132650\\nH      0.338781   -0.370294    3.496701\\nH     -0.955589   -1.102349    2.533638\\nH     -1.578000   -0.649350   -1.009564\\n12\\n\\nO     -1.456032   -0.656478   -0.054778\\nC      0.360701    0.316433    1.300162\\nC     -0.775609    0.545695    0.302921\\nC     -0.105951   -0.314941    2.613795\\nH      0.851724    1.277933    1.493158\\nH      1.119969   -0.322504    0.829074\\nH     -0.393205    1.058017   -0.591229\\nH     -1.540904    1.188877    0.746194\\nH     -0.789519    0.352446    3.147816\\nH      0.736968   -0.529859    3.275534\\nH     -0.639033   -1.248130    2.421429\\nH     -1.578000   -0.649350   -1.009564\\n12\\n\\nO     -1.456032   -0.656478   -0.054778\\nC      0.477347    0.297035    1.143469\\nC     -0.775609    0.545695    0.302921\\nC      0.189316   -0.435138    2.456096\\nH      0.957746    1.262459    1.343488\\nH      1.194915   -0.280345    0.544820\\nH     -0.517831    1.128908   -0.592414\\nH     -1.502584    1.128863    0.874998\\nH     -0.446550    0.169502    3.110263\\nH      1.110914   -0.659301    2.999242\\nH     -0.333629   -1.374003    2.263521\\nH     -1.578000   -0.649350   -1.009564\\n12\\n\\nO     -1.456032   -0.656478   -0.054778\\nC      0.575162    0.292294    0.973337\\nC     -0.775609    0.545695    0.302921\\nC      0.467412   -0.533398    2.257334\\nH      1.045728    1.260766    1.181816\\nH      1.234332   -0.217117    0.257343\\nH     -0.643857    1.194839   -0.574270\\nH     -1.447441    1.062222    0.994074\\nH     -0.104940    0.002795    3.020720\\nH      1.453341   -0.756102    2.673203\\nH     -0.045320   -1.477516    2.062987\\nH     -1.578000   -0.649350   -1.009564\\n12\\n\\nO     -1.456032   -0.656478   -0.054778\\nC      0.652243    0.302302    0.793076\\nC     -0.775609    0.545695    0.302921\\nC      0.722925   -0.607810    2.021379\\nH      1.113956    1.272889    1.011289\\nH      1.237452   -0.134052   -0.027763\\nH     -0.768829    1.254528   -0.537151\\nH     -1.376547    0.990251    1.101102\\nH      0.228662   -0.144429    2.880931\\nH      1.757584   -0.818378    2.303763\\nH      0.220281   -1.556656    1.823731\\nH     -1.578000   -0.649350   -1.009564\\n12\\n\\nO     -1.456032   -0.656478   -0.054778\\nC      0.707088    0.326865    0.606197\\nC     -0.775609    0.545695    0.302921\\nC      0.950881   -0.656924    1.752822\\nH      1.161102    1.298591    0.835226\\nH      1.204215   -0.032766   -0.304947\\nH     -0.890315    1.306813   -0.481779\\nH     -1.291284    0.914351    1.194000\\nH      0.547763   -0.269304    2.693618\\nH      2.017722   -0.844915    1.898113\\nH      0.458005   -1.609881    1.550409\\nH     -1.578000   -0.649350   -1.009564\\n12\\n\\nO     -1.456032   -0.656478   -0.054778\\nC      0.738630    0.365504    0.416335\\nC     -0.775609    0.545695    0.302921\\nC      1.146843   -0.679786    1.456891\\nH      1.186250    1.337371    0.657054\\nH      1.135267    0.084770   -0.568814\\nH     -1.005950    1.350675   -0.409231\\nH     -1.193310    0.835999    1.270960\\nH      0.846153   -0.369401    2.462424\\nH      2.228691   -0.835199    1.464147\\nH      0.663225   -1.636156    1.248341\\nH     -1.578000   -0.649350   -1.009564\\n12\\n\\nO     -1.456032   -0.656478   -0.054778\\nC      0.746256    0.417468    0.227187\\nC     -0.775609    0.545695    0.302921\\nC      1.306998   -0.675949    1.139347\\nH      1.188908    1.388476    0.480242\\nH      1.031951    0.216268   -0.814230\\nH     -1.113484    1.385263   -0.320920\\nH     -1.084532    0.756721    1.330484\\nH      1.118024   -0.442771    2.191852\\nH      2.386384   -0.789417    1.010314\\nH      0.831947   -1.634970    0.923407\\nH     -1.578000   -0.649350   -1.009564\\n12\\n\\nO     -1.456032   -0.656478   -0.054778\\nC      0.729818    0.481744    0.042434\\nC     -0.775609    0.545695    0.302921\\nC      1.428228   -0.645489    0.806369\\nH      1.169027    1.450910    0.308230\\nH      0.896278    0.359169   -1.036416\\nH     -1.210824    1.409901   -0.218565\\nH     -0.967068    0.678059    1.371412\\nH      1.358083   -0.487986    1.887166\\nH      2.487734   -0.708462    0.545445\\nH      0.960887   -1.606345    0.581931\\nH     -1.578000   -0.649350   -1.009564\\n12\\n\\nO     -1.456032   -0.656478   -0.054778\\nC      0.689634    0.557082   -0.134328\\nC     -0.775609    0.545695    0.302921\\nC      1.508173   -0.588998    0.464438\\nH      1.126992    1.523458    0.144366\\nH      0.730888    0.510690   -1.231049\\nH     -1.296074    1.424111   -0.104158\\nH     -0.843204    0.601544    1.392949\\nH      1.561658   -0.504165    1.554297\\nH      2.530766   -0.593908    0.078590\\nH      1.047534   -1.550838    0.230560\\nH     -1.578000   -0.649350   -1.009564\\n\",\"xyz\");\n\tviewergrid_1711055601674338[0][0].setStyle({\"stick\": {\"radius\": 0.05, \"color\": \"#f2f2f2\"}, \"sphere\": {\"scale\": 0.25}});\n\tviewergrid_1711055601674338[0][0].animate({\"loop\": \"forward\", \"reps\": 0, \"step\": 1, \"interval\": 120});\n\tviewergrid_1711055601674338[0][0].setHoverable({},true,\"function(atom,viewer,event,container) {\\n            if(!atom.label) {\\n            atom.label = viewer.addLabel(\\n                atom.atom+\\\":\\\"+atom.index,\\n                {\\n                    position: atom,\\n                    backgroundColor: 'black',\\n                    fontColor: 'white',\\n                    alignment: 'center',\\n                    showBackground: true,\\n                    backgroundOpacity: 0.2\\n                }\\n            );\\n        }}\",\"function(atom,viewer) {\\n            if(atom.label) {\\n            viewer.removeLabel(atom.label);\\n            delete atom.label;\\n            }\\n        }\");\n\tviewergrid_1711055601674338[0][1].setHoverable({},true,\"function(atom,viewer,event,container) {\\n            if(!atom.label) {\\n            atom.label = viewer.addLabel(\\n                atom.atom+\\\":\\\"+atom.index,\\n                {\\n                    position: atom,\\n                    backgroundColor: 'black',\\n                    fontColor: 'white',\\n                    alignment: 'center',\\n                    showBackground: true,\\n                    backgroundOpacity: 0.2\\n                }\\n            );\\n        }}\",\"function(atom,viewer) {\\n            if(atom.label) {\\n            viewer.removeLabel(atom.label);\\n            delete atom.label;\\n            }\\n        }\");\n\tviewergrid_1711055601674338[0][0].zoomTo();\n\tviewergrid_1711055601674338[0][1].addModelsAsFrames(\"12\\n\\nO     -1.430607   -0.643928   -0.065245\\nC      0.614629    0.632252   -0.310563\\nC     -0.763861    0.546265    0.331805\\nC      1.528625   -0.503959    0.125286\\nH      1.078230    1.589740   -0.048792\\nH      0.515190    0.597806   -1.401663\\nH     -1.380179    1.401181    0.036810\\nH     -0.685807    0.545485    1.423549\\nH      1.667038   -0.500240    1.210977\\nH      2.512567   -0.397385   -0.342589\\nH      1.121131   -1.476953   -0.166516\\nH     -1.565503   -0.595594   -1.026984\\n12\\n\\nO     -1.433551   -0.644110   -0.065775\\nC      0.530800    0.727199   -0.457217\\nC     -0.760833    0.543563    0.329679\\nC      1.522704   -0.400812   -0.213531\\nH      0.992580    1.681420   -0.180334\\nH      0.306047    0.765792   -1.529578\\nH     -1.433967    1.389638    0.160922\\nH     -0.559140    0.480576    1.403609\\nH      1.798447   -0.456556    0.844340\\nH      2.435640   -0.232263   -0.793656\\nH      1.107992   -1.368377   -0.512643\\nH     -1.569330   -0.598430   -1.027382\\n12\\n\\nO     -1.440771   -0.640191   -0.062085\\nC      0.425602    0.825169   -0.592217\\nC     -0.755140    0.541432    0.328809\\nC      1.475318   -0.275470   -0.540757\\nH      0.886309    1.777831   -0.308488\\nH      0.073355    0.921100   -1.625772\\nH     -1.467099    1.372172    0.296638\\nH     -0.424979    0.418745    1.364970\\nH      1.866090   -0.396053    0.474654\\nH      2.313636   -0.028283   -1.199776\\nH      1.062479   -1.235250   -0.866946\\nH     -1.584934   -0.596935   -1.022520\\n12\\n\\nO     -1.446493   -0.638885   -0.060216\\nC      0.303094    0.928634   -0.704472\\nC     -0.751673    0.539482    0.325162\\nC      1.385826   -0.130878   -0.849937\\nH      0.763837    1.878280   -0.410647\\nH     -0.170854    1.077960   -1.681524\\nH     -1.486705    1.343679    0.429679\\nH     -0.299286    0.365232    1.306430\\nH      1.897949   -0.299908    0.102466\\nH      2.131689    0.190250   -1.583942\\nH      0.967782   -1.083662   -1.189757\\nH     -1.596399   -0.601138   -1.019624\\n12\\n\\nO     -1.452886   -0.638229   -0.056806\\nC      0.164174    1.034087   -0.794893\\nC     -0.747980    0.536631    0.321308\\nC      1.256459    0.031278   -1.136856\\nH      0.625426    1.980315   -0.491189\\nH     -0.426597    1.227278   -1.697590\\nH     -1.488130    1.305022    0.565770\\nH     -0.177200    0.316706    1.229041\\nH      1.883854   -0.176414   -0.264101\\nH      1.898643    0.428606   -1.929344\\nH      0.833534   -0.914860   -1.489243\\nH     -1.610979   -0.605668   -1.015524\\n12\\n\\nO     -1.460874   -0.636112   -0.054825\\nC      0.013686    1.139321   -0.859918\\nC     -0.745710    0.535317    0.316613\\nC      1.089320    0.205086   -1.394766\\nH      0.477784    2.080771   -0.546394\\nH     -0.685316    1.368311   -1.672606\\nH     -1.471957    1.259726    0.698114\\nH     -0.065946    0.276992    1.134764\\nH      1.826965   -0.025857   -0.619293\\nH      1.614024    0.674916   -2.232751\\nH      0.660607   -0.736521   -1.752058\\nH     -1.625756   -0.609163   -1.011810\\n12\\n\\nO     -1.475400   -0.629967   -0.045010\\nC     -0.150757    1.239881   -0.904885\\nC     -0.741122    0.533948    0.311366\\nC      0.891403    0.389614   -1.617546\\nH      0.311064    2.181204   -0.587499\\nH     -0.948743    1.483971   -1.615863\\nH     -1.427241    1.209392    0.831798\\nH      0.042900    0.241823    1.016855\\nH      1.716989    0.137594   -0.944110\\nH      1.305166    0.936832   -2.470611\\nH      0.458859   -0.542371   -1.993969\\nH     -1.656807   -0.608390   -0.999371\\n12\\n\\nO     -1.486811   -0.627524   -0.032634\\nC     -0.323016    1.336180   -0.922591\\nC     -0.737684    0.532141    0.305736\\nC      0.663160    0.582132   -1.803465\\nH      0.135258    2.277527   -0.599369\\nH     -1.207946    1.584816   -1.519378\\nH     -1.365766    1.150196    0.955157\\nH      0.137043    0.218951    0.884375\\nH      1.568663    0.325151   -1.244574\\nH      0.956158    1.202063   -2.656830\\nH      0.226845   -0.342327   -2.193816\\nH     -1.683812   -0.612583   -0.983852\\n12\\n\\nO     -1.495960   -0.625978   -0.017400\\nC     -0.499788    1.426719   -0.913109\\nC     -0.734786    0.531889    0.299965\\nC      0.408788    0.777164   -1.947849\\nH     -0.044936    2.367443   -0.583178\\nH     -1.457729    1.667637   -1.388086\\nH     -1.286960    1.086286    1.065207\\nH      0.214200    0.208792    0.739233\\nH      1.381523    0.527613   -1.512067\\nH      0.578417    1.463675   -2.783508\\nH     -0.031623   -0.139658   -2.351195\\nH     -1.708874   -0.619715   -0.964707\\n12\\n\\nO     -1.496777   -0.628105   -0.000634\\nC     -0.675195    1.510185   -0.875650\\nC     -0.732696    0.533437    0.294979\\nC      0.129744    0.969853   -2.049834\\nH     -0.220015    2.447664   -0.538069\\nH     -1.690860    1.736756   -1.219898\\nH     -1.198978    1.019260    1.158183\\nH      0.272413    0.217153    0.591036\\nH      1.153828    0.731402   -1.744816\\nH      0.179798    1.718410   -2.847034\\nH     -0.322874    0.065996   -2.467653\\nH     -1.721171   -0.633390   -0.945198\\n12\\n\\nO     -1.494703   -0.631559    0.017383\\nC     -0.850701    1.583270   -0.814115\\nC     -0.731716    0.536320    0.289886\\nC     -0.162791    1.158300   -2.103985\\nH     -0.398963    2.519850   -0.467476\\nH     -1.908575    1.779217   -1.026274\\nH     -1.097366    0.951090    1.234350\\nH      0.312051    0.238642    0.436525\\nH      0.896020    0.942711   -1.930376\\nH     -0.226969    1.960451   -2.845288\\nH     -0.627707    0.267441   -2.535765\\nH     -1.729640   -0.648539   -0.924185\\n12\\n\\nO     -1.493745   -0.633721    0.034683\\nC     -1.016741    1.645105   -0.725245\\nC     -0.728221    0.538005    0.284296\\nC     -0.467887    1.338097   -2.111497\\nH     -0.563388    2.577374   -0.369988\\nH     -2.097694    1.806547   -0.800847\\nH     -0.977718    0.881053    1.293536\\nH      0.332158    0.264879    0.274686\\nH      0.611678    1.160790   -2.075079\\nH     -0.649808    2.183594   -2.782488\\nH     -0.945860    0.456925   -2.549267\\nH     -1.742271   -0.659914   -0.903199\\n12\\n\\nO     -1.472338   -0.642252    0.036453\\nC     -1.169939    1.698663   -0.612091\\nC     -0.730891    0.544283    0.283634\\nC     -0.784947    1.499839   -2.071685\\nH     -0.705021    2.623704   -0.251634\\nH     -2.256517    1.824025   -0.548692\\nH     -0.882633    0.810453    1.334119\\nH      0.331979    0.322260    0.144379\\nH      0.292976    1.340998   -2.175168\\nH     -1.053809    2.387002   -2.654255\\nH     -1.303327    0.643729   -2.513675\\nH     -1.710184   -0.677012   -0.903888\\n12\\n\\nO     -1.456346   -0.647435    0.032711\\nC     -1.307830    1.739469   -0.477728\\nC     -0.732447    0.548466    0.282100\\nC     -1.100549    1.646087   -1.983231\\nH     -0.829033    2.656255   -0.115100\\nH     -2.382350    1.822052   -0.276477\\nH     -0.776318    0.738665    1.359349\\nH      0.315640    0.380797    0.014020\\nH     -0.040265    1.525590   -2.226908\\nH     -1.457421    2.560359   -2.468165\\nH     -1.651714    0.806053   -2.415646\\nH     -1.684699   -0.684191   -0.910221\\n12\\n\\nO     -1.445723   -0.649392    0.028370\\nC     -1.432049    1.765329   -0.325056\\nC     -0.730924    0.552772    0.277655\\nC     -1.405598    1.774272   -1.846901\\nH     -0.941922    2.676202    0.037820\\nH     -2.476457    1.791564    0.007480\\nH     -0.656657    0.669779    1.363120\\nH      0.283831    0.443427   -0.119054\\nH     -0.379672    1.708180   -2.222962\\nH     -1.845167    2.703376   -2.223064\\nH     -1.980942    0.943303   -2.265566\\nH     -1.671976   -0.684593   -0.915170\\n12\\n\\nO     -1.436483   -0.648954    0.010670\\nC     -1.533206    1.780151   -0.158344\\nC     -0.734714    0.556787    0.277914\\nC     -1.699374    1.877032   -1.668036\\nH     -1.025423    2.683024    0.198877\\nH     -2.528243    1.753340    0.300441\\nH     -0.553043    0.598233    1.356339\\nH      0.237391    0.516057   -0.224250\\nH     -0.727457    1.870522   -2.171495\\nH     -2.210230    2.809378   -1.929415\\nH     -2.298100    1.050032   -2.060764\\nH     -1.644786   -0.675480   -0.937654\\n12\\n\\nO     -1.434898   -0.645763   -0.001397\\nC     -1.615587    1.779366    0.020004\\nC     -0.737712    0.560286    0.276315\\nC     -1.969295    1.958212   -1.449709\\nH     -1.093171    2.676396    0.370518\\nH     -2.545948    1.690207    0.592910\\nH     -0.441179    0.533762    1.329560\\nH      0.173746    0.588267   -0.329196\\nH     -1.066401    2.023178   -2.065132\\nH     -2.541576    2.881132   -1.588761\\nH     -2.580583    1.129384   -1.818516\\nH     -1.633353   -0.663807   -0.952362\\n12\\n\\nO     -1.437437   -0.640645   -0.009801\\nC     -1.676884    1.764223    0.205707\\nC     -0.740650    0.564076    0.274515\\nC     -2.212201    2.014672   -1.196666\\nH     -1.142326    2.657130    0.548397\\nH     -2.527477    1.605925    0.878813\\nH     -0.328348    0.475830    1.284407\\nH      0.096755    0.664365   -0.423692\\nH     -1.393295    2.159115   -1.908815\\nH     -2.833523    2.916033   -1.206756\\nH     -2.829055    1.180412   -1.544023\\nH     -1.629744   -0.652057   -0.962624\\n12\\n\\nO     -1.441210   -0.636166   -0.015567\\nC     -1.715559    1.734535    0.395830\\nC     -0.744662    0.567656    0.272959\\nC     -2.424198    2.046345   -0.914413\\nH     -1.170439    2.624598    0.728967\\nH     -2.473356    1.504078    1.153611\\nH     -0.219022    0.425130    1.222274\\nH      0.006051    0.743633   -0.504545\\nH     -1.702574    2.274873   -1.705180\\nH     -3.078957    2.914948   -0.790992\\nH     -3.042354    1.205532   -1.243911\\nH     -1.629330   -0.643523   -0.969329\\n12\\n\\nO     -1.444628   -0.633555   -0.015918\\nC     -1.731197    1.690983    0.586198\\nC     -0.748822    0.571008    0.271649\\nC     -2.601801    2.053115   -0.608411\\nH     -1.177052    2.579071    0.909721\\nH     -2.384767    1.385517    1.411532\\nH     -0.112211    0.384882    1.142212\\nH     -0.099012    0.824193   -0.572690\\nH     -1.988407    2.366340   -1.459200\\nH     -3.271183    2.879782   -0.350184\\nH     -3.220235    1.206657   -0.922697\\nH     -1.631824   -0.640713   -0.970152\\n12\\n\\nO     -1.444965   -0.632805   -0.014424\\nC     -1.724860    1.633163    0.773858\\nC     -0.753096    0.574531    0.271340\\nC     -2.741538    2.034889   -0.284994\\nH     -1.164404    2.519795    1.089702\\nH     -2.266067    1.251150    1.647214\\nH     -0.013107    0.355339    1.047369\\nH     -0.215778    0.907187   -0.623350\\nH     -2.243234    2.427809   -1.177027\\nH     -3.404224    2.814080    0.104841\\nH     -3.362425    1.184613   -0.584107\\nH     -1.631971   -0.641916   -0.968782\\n12\\n\\nO     -1.442678   -0.634182   -0.011402\\nC     -1.695033    1.563213    0.954932\\nC     -0.757344    0.577671    0.271714\\nC     -2.841880    1.991176    0.050532\\nH     -1.129175    2.449295    1.263223\\nH     -2.116811    1.105249    1.857068\\nH      0.078034    0.338839    0.937085\\nH     -0.344187    0.989390   -0.655450\\nH     -2.464823    2.459127   -0.864423\\nH     -3.477970    2.717661    0.566017\\nH     -3.466400    1.137710   -0.231677\\nH     -1.630145   -0.647183   -0.965367\\n12\\n\\nO     -1.444124   -0.634243   -0.011135\\nC     -1.640545    1.485180    1.124911\\nC     -0.761784    0.578722    0.274565\\nC     -2.900743    1.921441    0.391720\\nH     -1.069520    2.372073    1.420712\\nH     -1.936164    0.957703    2.039140\\nH      0.152362    0.325945    0.820251\\nH     -0.473155    1.065670   -0.663140\\nH     -2.651384    2.468212   -0.523237\\nH     -3.498516    2.580942    1.028733\\nH     -3.522071    1.062227    0.120448\\nH     -1.627441   -0.648808   -0.965869\\n12\\n\\nO     -1.438666   -0.637096   -0.009566\\nC     -1.566120    1.394855    1.283314\\nC     -0.765214    0.580849    0.276547\\nC     -2.916435    1.829381    0.731534\\nH     -0.992248    2.282107    1.572564\\nH     -1.736513    0.797718    2.186628\\nH      0.216878    0.331858    0.689972\\nH     -0.612300    1.140781   -0.652625\\nH     -2.793136    2.438412   -0.169652\\nH     -3.452807    2.427813    1.474690\\nH     -3.540827    0.966178    0.480481\\nH     -1.620650   -0.653738   -0.964394\\n12\\n\\nO     -1.435256   -0.639258   -0.009262\\nC     -1.470076    1.298840    1.424648\\nC     -0.768668    0.581701    0.279425\\nC     -2.889172    1.714644    1.064167\\nH     -0.893822    2.187652    1.704498\\nH     -1.513495    0.639623    2.299363\\nH      0.263641    0.345604    0.554759\\nH     -0.749344    1.207120   -0.619943\\nH     -2.892504    2.383702    0.197690\\nH     -3.351832    2.243828    1.903124\\nH     -3.511815    0.845415    0.829976\\nH     -1.613947   -0.656370   -0.964874\\n12\\n\\nO     -1.432096   -0.641615   -0.009585\\nC     -1.355046    1.197889    1.546874\\nC     -0.771725    0.581850    0.282585\\nC     -2.819209    1.580151    1.382405\\nH     -0.777841    2.088828    1.817072\\nH     -1.274154    0.483666    2.374497\\nH      0.293002    0.369072    0.417362\\nH     -0.882401    1.264530   -0.567068\\nH     -2.945800    2.302781    0.569849\\nH     -3.195750    2.036203    2.303605\\nH     -3.437775    0.704218    1.163328\\nH     -1.606671   -0.657826   -0.965923\\n12\\n\\nO     -1.427595   -0.644006   -0.010740\\nC     -1.223551    1.093551    1.647725\\nC     -0.774753    0.582514    0.285390\\nC     -2.708094    1.427963    1.680933\\nH     -0.646581    1.987553    1.908707\\nH     -1.022610    0.331844    2.410000\\nH      0.304710    0.404492    0.279093\\nH     -1.010622    1.313006   -0.496190\\nH     -2.953280    2.193696    0.938082\\nH     -2.986283    1.811353    2.667749\\nH     -3.320536    0.543692    1.478616\\nH     -1.598457   -0.658403   -0.967722\\n12\\n\\nO     -1.424256   -0.646597   -0.012040\\nC     -1.077814    0.988379    1.725028\\nC     -0.777927    0.582119    0.288510\\nC     -2.557557    1.262321    1.953218\\nH     -0.501882    1.885554    1.976853\\nH     -0.764533    0.188156    2.405563\\nH      0.298197    0.446685    0.144844\\nH     -1.128998    1.350221   -0.408987\\nH     -2.912105    2.064997    1.298752\\nH     -2.728765    1.569312    2.989847\\nH     -3.162321    0.370355    1.762453\\nH     -1.591193   -0.658514   -0.969878\\n12\\n\\nO     -1.420523   -0.648145   -0.015409\\nC     -0.920794    0.883695    1.777545\\nC     -0.781407    0.582786    0.291369\\nC     -2.370788    1.084027    2.194981\\nH     -0.347603    1.784945    2.021095\\nH     -0.503606    0.054551    2.360761\\nH      0.274197    0.499055    0.015799\\nH     -1.237361    1.378751   -0.307034\\nH     -2.827628    1.908947    1.638985\\nH     -2.426552    1.322305    3.261898\\nH     -2.964150    0.181049    2.020434\\nH     -1.583966   -0.655868   -0.973792\\n12\\n\\nO     -1.416102   -0.651419   -0.017744\\nC     -0.755624    0.782255    1.803872\\nC     -0.785309    0.582370    0.294619\\nC     -2.151022    0.899795    2.400434\\nH     -0.185315    1.687433    2.039531\\nH     -0.246936   -0.065933    2.276582\\nH      0.233049    0.558214   -0.105210\\nH     -1.334775    1.394386   -0.193050\\nH     -2.694294    1.742819    1.961708\\nH     -2.086698    1.063180    3.480907\\nH     -2.734532   -0.010729    2.232044\\nH     -1.576903   -0.655798   -0.976687\\n12\\n\\nO     -1.412681   -0.653351   -0.021720\\nC     -0.585579    0.685648    1.803986\\nC     -0.788914    0.581888    0.298469\\nC     -1.902984    0.710434    2.566042\\nH     -0.019786    1.595466    2.032532\\nH      0.001940   -0.170628    2.155174\\nH      0.176641    0.622745   -0.215227\\nH     -1.416962    1.400301   -0.068181\\nH     -2.521088    1.557328    2.251231\\nH     -1.715564    0.808139    3.640069\\nH     -2.473278   -0.209961    2.406388\\nH     -1.570519   -0.653167   -0.981201\\n12\\n\\nO     -1.409142   -0.655458   -0.026049\\nC     -0.413899    0.596104    1.777717\\nC     -0.792443    0.581033    0.302815\\nC     -1.631236    0.520672    2.688510\\nH      0.146384    1.510967    1.999813\\nH      0.237866   -0.257282    1.998549\\nH      0.105407    0.692495   -0.313429\\nH     -1.484991    1.394840    0.065334\\nH     -2.308155    1.361603    2.506867\\nH     -1.319957    0.556071    3.737306\\nH     -2.187773   -0.408944    2.533711\\nH     -1.564484   -0.650724   -0.985891\\n12\\n\\nO     -1.407998   -0.656259   -0.030722\\nC     -0.243714    0.514166    1.725627\\nC     -0.794763    0.579495    0.307606\\nC     -1.341048    0.334602    2.764982\\nH      0.311286    1.433431    1.942624\\nH      0.454972   -0.326289    1.810221\\nH      0.021961    0.763965   -0.397810\\nH     -1.534387    1.379725    0.205214\\nH     -2.060889    1.158027    2.720033\\nH     -0.908778    0.316472    3.770505\\nH     -1.882591   -0.604516    2.614631\\nH     -1.560726   -0.646529   -0.990964\\n12\\n\\nO     -1.405111   -0.658692   -0.034736\\nC     -0.078902    0.444557    1.648641\\nC     -0.796758    0.577194    0.312372\\nC     -1.038140    0.154947    2.794355\\nH      0.467574    1.369817    1.861402\\nH      0.652060   -0.370506    1.593829\\nH     -0.074126    0.838644   -0.467830\\nH     -1.568913    1.351904    0.348267\\nH     -1.779160    0.954400    2.895224\\nH     -0.487600    0.081669    3.737641\\nH     -1.569570   -0.789422    2.640660\\nH     -1.555501   -0.645562   -0.995230\\n12\\n\\nO     -1.405377   -0.658040   -0.040185\\nC      0.078537    0.383347    1.548528\\nC     -0.796594    0.574715    0.317245\\nC     -0.729135   -0.013841    2.775937\\nH      0.619263    1.312801    1.758334\\nH      0.821214   -0.399079    1.353842\\nH     -0.179093    0.914198   -0.521129\\nH     -1.581807    1.316033    0.494323\\nH     -1.481377    0.745653    3.011711\\nH     -0.069839   -0.119016    3.643391\\nH     -1.240716   -0.969482    2.624356\\nH     -1.553247   -0.639688   -1.001066\\n12\\n\\nO     -1.404740   -0.659061   -0.044060\\nC      0.224263    0.337484    1.427359\\nC     -0.795236    0.571294    0.320913\\nC     -0.419787   -0.169018    2.710054\\nH      0.755764    1.272432    1.635835\\nH      0.963750   -0.400686    1.095723\\nH     -0.292246    0.987712   -0.558574\\nH     -1.576732    1.269256    0.636313\\nH     -1.158985    0.546033    3.085136\\nH      0.340941   -0.308146    3.484740\\nH     -0.919524   -1.129935    2.552937\\nH     -1.549616   -0.638354   -1.005165\\n12\\n\\nO     -1.406696   -0.657427   -0.048312\\nC      0.356831    0.303040    1.286204\\nC     -0.793557    0.568680    0.324793\\nC     -0.114661   -0.308273    2.597998\\nH      0.881083    1.242198    1.494190\\nH      1.073299   -0.384025    0.821091\\nH     -0.414281    1.062174   -0.576633\\nH     -1.552312    1.214107    0.777782\\nH     -0.829679    0.350142    3.101600\\nH      0.735946   -0.462118    3.269574\\nH     -0.595039   -1.278172    2.435867\\nH     -1.549825   -0.632187   -1.009641\\n12\\n\\nO     -1.408459   -0.656323   -0.051389\\nC      0.472543    0.283917    1.129060\\nC     -0.790736    0.565839    0.327300\\nC      0.178581   -0.427901    2.441942\\nH      0.988455    1.227415    1.338321\\nH      1.149868   -0.343699    0.538340\\nH     -0.539940    1.131801   -0.576464\\nH     -1.508790    1.151111    0.909899\\nH     -0.490906    0.169277    3.069201\\nH      1.107127   -0.592511    2.997765\\nH     -0.288423   -1.402832    2.270984\\nH     -1.549316   -0.628247   -1.012897\\n12\\n\\nO     -1.409683   -0.655575   -0.053966\\nC      0.569311    0.280110    0.958978\\nC     -0.787257    0.563005    0.328370\\nC      0.454169   -0.525659    2.245202\\nH      1.076199    1.227748    1.171542\\nH      1.192172   -0.281172    0.252934\\nH     -0.666989    1.195355   -0.557865\\nH     -1.447687    1.081716    1.030061\\nH     -0.153035    0.004469    2.985878\\nH      1.446628   -0.691569    2.676402\\nH     -0.001260   -1.504103    2.063497\\nH     -1.547791   -0.625677   -1.015911\\n12\\n\\nO     -1.412221   -0.653831   -0.056824\\nC      0.645529    0.289780    0.778210\\nC     -0.783842    0.560475    0.329481\\nC      0.708004   -0.599714    2.011751\\nH      1.145211    1.240614    0.993620\\nH      1.197096   -0.201566   -0.031761\\nH     -0.793869    1.253533   -0.518609\\nH     -1.369708    1.006754    1.139114\\nH      0.173604   -0.143101    2.850945\\nH      1.748859   -0.751527    2.314656\\nH      0.267645   -1.582601    1.817228\\nH     -1.548223   -0.620302   -1.018875\\n12\\n\\nO     -1.413660   -0.653164   -0.058607\\nC      0.699182    0.315717    0.591983\\nC     -0.780875    0.558106    0.330004\\nC      0.934592   -0.649294    1.745284\\nH      1.189883    1.269787    0.813999\\nH      1.167173   -0.099201   -0.308282\\nH     -0.916683    1.302018   -0.462284\\nH     -1.279228    0.929141    1.231214\\nH      0.493139   -0.267221    2.671258\\nH      2.008194   -0.783368    1.911367\\nH      0.501101   -1.632577    1.537334\\nH     -1.547282   -0.617248   -1.021032\\n12\\n\\nO     -1.416347   -0.650904   -0.060717\\nC      0.729874    0.354300    0.402299\\nC     -0.777341    0.556206    0.330024\\nC      1.128924   -0.672764    1.452454\\nH      1.214169    1.310116    0.629892\\nH      1.100876    0.015547   -0.572053\\nH     -1.031160    1.342088   -0.389090\\nH     -1.175197    0.850893    1.306221\\nH      0.787400   -0.367925    2.447031\\nH      2.218273   -0.775339    1.484554\\nH      0.704794   -1.656688    1.229380\\nH     -1.548104   -0.611885   -1.023307\\n12\\n\\nO     -1.419774   -0.648892   -0.062766\\nC      0.736315    0.406214    0.212962\\nC     -0.774345    0.553645    0.331310\\nC      1.288953   -0.669491    1.137279\\nH      1.214524    1.363678    0.446748\\nH      0.999024    0.144641   -0.818666\\nH     -1.137460    1.372864   -0.297967\\nH     -1.061296    0.770040    1.365240\\nH      1.056465   -0.443798    2.182881\\nH      2.377370   -0.729624    1.037443\\nH      0.874244   -1.653446    0.897025\\nH     -1.551209   -0.604876   -1.025227\\n12\\n\\nO     -1.421059   -0.649057   -0.064461\\nC      0.718856    0.472469    0.031015\\nC     -0.771870    0.550959    0.331288\\nC      1.409967   -0.640007    0.806367\\nH      1.190214    1.430707    0.276245\\nH      0.867424    0.292298   -1.039945\\nH     -1.232988    1.390835   -0.198249\\nH     -0.943332    0.692755    1.402835\\nH      1.303447   -0.488964    1.885230\\nH      2.478567   -0.656729    0.569866\\nH      0.994183   -1.620332    0.553229\\nH     -1.550888   -0.603566   -1.026835\\n12\\n\\nO     -1.423592   -0.647776   -0.065681\\nC      0.678341    0.549113   -0.143446\\nC     -0.768559    0.548603    0.331374\\nC      1.489737   -0.585057    0.466273\\nH      1.145191    1.506172    0.112546\\nH      0.705387    0.446307   -1.234557\\nH     -1.314950    1.400098   -0.087102\\nH     -0.818826    0.618505    1.422603\\nH      1.511981   -0.506269    1.558049\\nH      2.521492   -0.548278    0.102426\\nH      1.074047   -1.561770    0.200109\\nH     -1.553524   -0.600805   -1.028348\\n\",\"xyz\");\n\tviewergrid_1711055601674338[0][1].setStyle({\"stick\": {\"radius\": 0.05, \"color\": \"#f2f2f2\"}, \"sphere\": {\"scale\": 0.25}});\n\tviewergrid_1711055601674338[0][1].animate({\"loop\": \"forward\", \"reps\": 0, \"step\": 1, \"interval\": 120});\n\tviewergrid_1711055601674338[0][0].setHoverable({},true,\"function(atom,viewer,event,container) {\\n            if(!atom.label) {\\n            atom.label = viewer.addLabel(\\n                atom.atom+\\\":\\\"+atom.index,\\n                {\\n                    position: atom,\\n                    backgroundColor: 'black',\\n                    fontColor: 'white',\\n                    alignment: 'center',\\n                    showBackground: true,\\n                    backgroundOpacity: 0.2\\n                }\\n            );\\n        }}\",\"function(atom,viewer) {\\n            if(atom.label) {\\n            viewer.removeLabel(atom.label);\\n            delete atom.label;\\n            }\\n        }\");\n\tviewergrid_1711055601674338[0][1].setHoverable({},true,\"function(atom,viewer,event,container) {\\n            if(!atom.label) {\\n            atom.label = viewer.addLabel(\\n                atom.atom+\\\":\\\"+atom.index,\\n                {\\n                    position: atom,\\n                    backgroundColor: 'black',\\n                    fontColor: 'white',\\n                    alignment: 'center',\\n                    showBackground: true,\\n                    backgroundOpacity: 0.2\\n                }\\n            );\\n        }}\",\"function(atom,viewer) {\\n            if(atom.label) {\\n            viewer.removeLabel(atom.label);\\n            delete atom.label;\\n            }\\n        }\");\n\tviewergrid_1711055601674338[0][1].zoomTo();\nviewergrid_1711055601674338[0][1].render();\nviewergrid_1711055601674338[0][0].render();\n});\n</script>",
      "text/html": [
       "<div id=\"3dmolviewer_1711055601674338\"  style=\"position: relative; width: 800px; height: 400px;\">\n",
       "        <p id=\"3dmolwarning_1711055601674338\" style=\"background-color:#ffcccc;color:black\">3Dmol.js failed to load for some reason.  Please check your browser console for error messages.<br></p>\n",
       "        </div>\n",
       "<script>\n",
       "\n",
       "var loadScriptAsync = function(uri){\n",
       "  return new Promise((resolve, reject) => {\n",
       "    //this is to ignore the existence of requirejs amd\n",
       "    var savedexports, savedmodule;\n",
       "    if (typeof exports !== 'undefined') savedexports = exports;\n",
       "    else exports = {}\n",
       "    if (typeof module !== 'undefined') savedmodule = module;\n",
       "    else module = {}\n",
       "\n",
       "    var tag = document.createElement('script');\n",
       "    tag.src = uri;\n",
       "    tag.async = true;\n",
       "    tag.onload = () => {\n",
       "        exports = savedexports;\n",
       "        module = savedmodule;\n",
       "        resolve();\n",
       "    };\n",
       "  var firstScriptTag = document.getElementsByTagName('script')[0];\n",
       "  firstScriptTag.parentNode.insertBefore(tag, firstScriptTag);\n",
       "});\n",
       "};\n",
       "\n",
       "if(typeof $3Dmolpromise === 'undefined') {\n",
       "$3Dmolpromise = null;\n",
       "  $3Dmolpromise = loadScriptAsync('https://cdnjs.cloudflare.com/ajax/libs/3Dmol/2.1.0/3Dmol-min.js');\n",
       "}\n",
       "\n",
       "var viewer_1711055601674338 = null;\n",
       "var warn = document.getElementById(\"3dmolwarning_1711055601674338\");\n",
       "if(warn) {\n",
       "    warn.parentNode.removeChild(warn);\n",
       "}\n",
       "$3Dmolpromise.then(function() {\n",
       "var viewergrid_1711055601674338 = null;\n",
       "viewergrid_1711055601674338 = $3Dmol.createViewerGrid(document.getElementById(\"3dmolviewer_1711055601674338\"),{rows: 1, cols: 2, control_all: true},{backgroundColor:\"white\"});\n",
       "viewer_1711055601674338 = viewergrid_1711055601674338[0][0];\n",
       "viewergrid_1711055601674338[0][0].zoomTo();viewergrid_1711055601674338[0][1].zoomTo();\tviewergrid_1711055601674338[0][0].addModelsAsFrames(\"12\\n\\nO     -1.456032   -0.656478   -0.054778\\nC      0.626487    0.642016   -0.299658\\nC     -0.775609    0.545695    0.302921\\nC      1.545277   -0.507576    0.120211\\nH      1.063622    1.604708   -0.008160\\nH      0.539000    0.667884   -1.394340\\nH     -1.367576    1.427616    0.020075\\nH     -0.715350    0.528666    1.394676\\nH      1.724788   -0.490995    1.199725\\nH      2.514643   -0.447985   -0.381165\\nH      1.090203   -1.469531   -0.123868\\nH     -1.578000   -0.649350   -1.009564\\n12\\n\\nO     -1.456032   -0.656478   -0.054778\\nC      0.541606    0.734892   -0.450339\\nC     -0.775609    0.545695    0.302921\\nC      1.538818   -0.402808   -0.219614\\nH      0.980150    1.693079   -0.146379\\nH      0.324350    0.827690   -1.523111\\nH     -1.423938    1.420348    0.151715\\nH     -0.585996    0.460843    1.376558\\nH      1.844296   -0.448731    0.830350\\nH      2.439679   -0.273534   -0.824872\\nH      1.088063   -1.364005   -0.474454\\nH     -1.578000   -0.649350   -1.009564\\n12\\n\\nO     -1.456032   -0.656478   -0.054778\\nC      0.436644    0.833903   -0.583437\\nC     -0.775609    0.545695    0.302921\\nC      1.488923   -0.276733   -0.548421\\nH      0.878201    1.786850   -0.267601\\nH      0.091114    0.986998   -1.614855\\nH     -1.464063    1.402448    0.288200\\nH     -0.457659    0.399395    1.338949\\nH      1.917858   -0.378196    0.453362\\nH      2.307334   -0.073950   -1.243893\\nH      1.041155   -1.236315   -0.814373\\nH     -1.578000   -0.649350   -1.009564\\n12\\n\\nO     -1.456032   -0.656478   -0.054778\\nC      0.313643    0.937121   -0.696363\\nC     -0.775609    0.545695    0.302921\\nC      1.396561   -0.131804   -0.859811\\nH      0.759760    1.884197   -0.369467\\nH     -0.156166    1.142706   -1.667787\\nH     -1.487170    1.374265    0.426874\\nH     -0.332836    0.345519    1.282580\\nH      1.944040   -0.280762    0.076099\\nH      2.120183    0.146882   -1.630074\\nH      0.950394   -1.088945   -1.137011\\nH     -1.578000   -0.649350   -1.009564\\n12\\n\\nO     -1.456032   -0.656478   -0.054778\\nC      0.174998    1.042537   -0.786917\\nC     -0.775609    0.545695    0.302921\\nC      1.263531    0.029156   -1.147723\\nH      0.627131    1.983224   -0.449994\\nH     -0.412679    1.291786   -1.680876\\nH     -1.492809    1.336347    0.565037\\nH     -0.213958    0.300262    1.208549\\nH      1.922333   -0.158327   -0.294096\\nH      1.881868    0.384664   -1.975898\\nH      0.817544   -0.924765   -1.436087\\nH     -1.578000   -0.649350   -1.009564\\n12\\n\\nO     -1.456032   -0.656478   -0.054778\\nC      0.023406    1.148100   -0.853338\\nC     -0.775609    0.545695    0.302921\\nC      1.092422    0.203016   -1.406554\\nH      0.482896    2.082005   -0.507614\\nH     -0.673430    1.431334   -1.653869\\nH     -1.480871    1.289433    0.700000\\nH     -0.103339    0.264506    1.118296\\nH      1.853160   -0.013274   -0.650019\\nH      1.597029    0.634769   -2.274633\\nH      0.645192   -0.746970   -1.705780\\nH     -1.578000   -0.649350   -1.009564\\n12\\n\\nO     -1.456032   -0.656478   -0.054778\\nC     -0.138181    1.251755   -0.894333\\nC     -0.775609    0.545695    0.302921\\nC      0.886565    0.386392   -1.631265\\nH      0.329862    2.178617   -0.541207\\nH     -0.933347    1.558634   -1.587289\\nH     -1.451587    1.234434    0.829137\\nH     -0.003131    0.238947    1.013578\\nH      1.737868    0.151576   -0.984740\\nH      1.271210    0.892327   -2.520466\\nH      0.436693   -0.559020   -1.940841\\nH     -1.578000   -0.649350   -1.009564\\n12\\n\\nO     -1.456032   -0.656478   -0.054778\\nC     -0.306618    1.351485   -0.909103\\nC     -0.775609    0.545695    0.302921\\nC      0.649966    0.575713   -1.817482\\nH      0.171009    2.271178   -0.550117\\nH     -1.187368    1.671210   -1.482434\\nH     -1.405528    1.172423    0.949934\\nH      0.084715    0.224082    0.896434\\nH      1.578700    0.333012   -1.291746\\nH      0.910751    1.152325   -2.708610\\nH      0.196105   -0.364573   -2.136694\\nH     -1.578000   -0.649350   -1.009564\\n12\\n\\nO     -1.456032   -0.656478   -0.054778\\nC     -0.478628    1.445348   -0.897362\\nC     -0.775609    0.545695    0.302921\\nC      0.387230    0.767296   -1.961582\\nH      0.009427    2.357888   -0.534173\\nH     -1.430550    1.766869   -1.341344\\nH     -1.343591    1.104606    1.060039\\nH      0.158490    0.220201    0.769143\\nH      1.378754    0.527503   -1.565061\\nH      0.522670    1.409704   -2.835405\\nH     -0.071889   -0.167415   -2.289528\\nH     -1.578000   -0.649350   -1.009564\\n12\\n\\nO     -1.456032   -0.656478   -0.054778\\nC     -0.650861    1.531517   -0.859338\\nC     -0.775609    0.545695    0.302921\\nC      0.103471    0.957412   -2.060759\\nH     -0.151738    2.437059   -0.493683\\nH     -1.658160    1.843750   -1.166765\\nH     -1.266980    1.032302    1.157310\\nH      0.216757    0.227379    0.634183\\nH      1.141922    0.731264   -1.799365\\nH      0.114519    1.659454   -2.898383\\nH     -0.362074    0.028617   -2.396368\\nH     -1.578000   -0.649350   -1.009564\\n12\\n\\nO     -1.456032   -0.656478   -0.054778\\nC     -0.819966    1.608315   -0.795770\\nC     -0.775609    0.545695    0.302921\\nC     -0.195787    1.142359   -2.113083\\nH     -0.309348    2.507150   -0.429437\\nH     -1.865767    1.900357   -0.962096\\nH     -1.177187    0.956920    1.239853\\nH      0.258382    0.245476    0.494181\\nH      0.872814    0.940329   -1.990098\\nH     -0.305757    1.896713   -2.896317\\nH     -0.668801    0.219709   -2.455133\\nH     -1.578000   -0.649350   -1.009564\\n12\\n\\nO     -1.456032   -0.656478   -0.054778\\nC     -0.982652    1.674248   -0.707897\\nC     -0.775609    0.545695    0.302921\\nC     -0.504720    1.318538   -2.117535\\nH     -0.460338    2.566796   -0.342684\\nH     -2.049331    1.935587   -0.731320\\nH     -1.075960    0.879926    1.306061\\nH      0.282556    0.274140    0.351862\\nH      0.576667    1.150629   -2.133546\\nH     -0.729979    2.116864   -2.829247\\nH     -0.986100    0.402139   -2.464682\\nH     -1.578000   -0.649350   -1.009564\\n12\\n\\nO     -1.456032   -0.656478   -0.054778\\nC     -1.135751    1.728032   -0.597429\\nC     -0.775609    0.545695    0.302921\\nC     -0.817316    1.482520   -2.074029\\nH     -0.601767    2.614837   -0.235113\\nH     -2.205279    1.948755   -0.478928\\nH     -0.965269    0.802819    1.354647\\nH      0.288807    0.312813    0.209996\\nH      0.259247    1.358069   -2.226919\\nH     -1.149888    2.315621   -2.698480\\nH     -1.307795    0.572358   -2.424826\\nH     -1.578000   -0.649350   -1.009564\\n12\\n\\nO     -1.456032   -0.656478   -0.054778\\nC     -1.276283    1.768620   -0.466515\\nC     -0.775609    0.545695    0.302921\\nC     -1.127489    1.631114   -1.983412\\nH     -0.730882    2.650338   -0.108819\\nH     -2.330575    1.939605   -0.209834\\nH     -0.847268    0.727100    1.384664\\nH      0.277014    0.360743    0.071344\\nH     -0.073270    1.558614   -2.268399\\nH     -1.557312    2.489116   -2.506561\\nH     -1.627625    0.727052   -2.336344\\nH     -1.578000   -0.649350   -1.009564\\n12\\n\\nO     -1.456032   -0.656478   -0.054778\\nC     -1.401515    1.795223   -0.317704\\nC     -0.775609    0.545695    0.302921\\nC     -1.429202    1.761427   -1.847448\\nH     -0.845172    2.672607    0.033741\\nH     -2.422781    1.908314    0.070725\\nH     -0.724254    0.654242    1.395529\\nH      0.247406    0.416996   -0.061395\\nH     -0.414411    1.748359   -2.257177\\nH     -1.944321    2.633972   -2.257224\\nH     -1.939364    0.863211   -2.200955\\nH     -1.578000   -0.649350   -1.009564\\n12\\n\\nO     -1.456032   -0.656478   -0.054778\\nC     -1.509007    1.807322   -0.153892\\nC     -0.775609    0.545695    0.302921\\nC     -1.716584    1.870922   -1.668782\\nH     -0.942411    2.681211    0.189793\\nH     -2.480102    1.855492    0.357289\\nH     -0.598622    0.585664    1.387029\\nH      0.200561    0.480478   -0.185638\\nH     -0.757536    1.923611   -2.193474\\nH     -2.303382    2.747370   -1.955323\\nH     -2.236945    0.978184   -2.021297\\nH     -1.578000   -0.649350   -1.009564\\n12\\n\\nO     -1.456032   -0.656478   -0.054778\\nC     -1.596668    1.804681    0.021733\\nC     -0.775609    0.545695    0.302921\\nC     -1.984040    1.957469   -1.450893\\nH     -1.020706    2.675983    0.356298\\nH     -2.501423    1.782167    0.644280\\nH     -0.472817    0.522701    1.359330\\nH      0.137388    0.549954   -0.298966\\nH     -1.095967    2.080960   -2.078529\\nH     -2.627507    2.827103   -1.606735\\nH     -2.514577    1.069733   -1.800865\\nH     -1.578000   -0.649350   -1.009564\\n12\\n\\nO     -1.456032   -0.656478   -0.054778\\nC     -1.662792    1.787354    0.205751\\nC     -0.775609    0.545695    0.302921\\nC     -2.226364    2.019383   -1.198021\\nH     -1.078534    2.657025    0.530016\\nH     -2.486327    1.689766    0.926111\\nH     -0.349287    0.466577    1.312971\\nH      0.059119    0.624069   -0.399173\\nH     -1.423116    2.217342   -1.914578\\nH     -2.910387    2.871618   -1.218243\\nH     -2.766854    1.136077   -1.543950\\nH     -1.578000   -0.649350   -1.009564\\n12\\n\\nO     -1.456032   -0.656478   -0.054778\\nC     -1.706092    1.755676    0.394581\\nC     -0.775609    0.545695    0.302921\\nC     -2.438841    2.055459   -0.915088\\nH     -1.114769    2.624705    0.707566\\nH     -2.435110    1.580088    1.197297\\nH     -0.230437    0.418386    1.248855\\nH     -0.032723    0.701384   -0.484310\\nH     -1.732615    2.330103   -1.704813\\nH     -3.146515    2.880049   -0.797410\\nH     -2.988867    1.175925   -1.255553\\nH     -1.578000   -0.649350   -1.009564\\n12\\n\\nO     -1.456032   -0.656478   -0.054778\\nC     -1.725724    1.710264    0.584549\\nC     -0.775609    0.545695    0.302921\\nC     -2.617334    2.064994   -0.607602\\nH     -1.128706    2.579653    0.885491\\nH     -2.348768    1.455267    1.452561\\nH     -0.118580    0.379065    1.168229\\nH     -0.136352    0.780391   -0.552718\\nH     -2.018442    2.417048   -1.453318\\nH     -3.331296    2.852232   -0.352427\\nH     -3.176294    1.188500   -0.941286\\nH     -1.578000   -0.649350   -1.009564\\n12\\n\\nO     -1.456032   -0.656478   -0.054778\\nC     -1.721307    1.652002    0.771956\\nC     -0.775609    0.545695    0.302921\\nC     -2.758370    2.047804   -0.281546\\nH     -1.120074    2.522745    1.060330\\nH     -2.228982    1.317733    1.686932\\nH     -0.015893    0.349380    1.072663\\nH     -0.249749    0.859554   -0.603067\\nH     -2.275032    2.476485   -1.164986\\nH     -3.461134    2.788709    0.108046\\nH     -3.325488    1.173557   -0.607267\\nH     -1.578000   -0.649350   -1.009564\\n12\\n\\nO     -1.456032   -0.656478   -0.054778\\nC     -1.692926    1.582024    0.953155\\nC     -0.775609    0.545695    0.302921\\nC     -2.859203    2.004222    0.056732\\nH     -1.089040    2.455089    1.228678\\nH     -2.078082    1.170162    1.895851\\nH      0.075625    0.329908    0.964017\\nH     -0.370708    0.937332   -0.634376\\nH     -2.497391    2.507257   -0.845431\\nH     -3.533501    2.690715    0.575046\\nH     -3.433545    1.131389   -0.259998\\nH     -1.578000   -0.649350   -1.009564\\n12\\n\\nO     -1.456032   -0.656478   -0.054778\\nC     -1.641135    1.501692    1.124619\\nC     -0.775609    0.545695    0.302921\\nC     -2.917871    1.935097    0.400649\\nH     -1.036209    2.378002    1.387259\\nH     -1.899007    1.015427    2.075250\\nH      0.154192    0.321029    0.844406\\nH     -0.496874    1.012211   -0.646036\\nH     -2.681191    2.508765   -0.500871\\nH     -3.546989    2.560159    1.039482\\nH     -3.498361    1.062815    0.093764\\nH     -1.578000   -0.649350   -1.009564\\n12\\n\\nO     -1.456032   -0.656478   -0.054778\\nC     -1.566940    1.412570    1.283010\\nC     -0.775609    0.545695    0.302921\\nC     -2.933231    1.841775    0.743510\\nH     -0.962609    2.292985    1.532986\\nH     -1.695242    0.856541    2.221637\\nH      0.218281    0.322915    0.716157\\nH     -0.625792    1.082733   -0.637821\\nH     -2.822855    2.480980   -0.138013\\nH     -3.501334    2.399581    1.492316\\nH     -3.518675    0.969170    0.447131\\nH     -1.578000   -0.649350   -1.009564\\n12\\n\\nO     -1.456032   -0.656478   -0.054778\\nC     -1.471787    1.316393    1.425246\\nC     -0.775609    0.545695    0.302921\\nC     -2.904985    1.726072    1.078642\\nH     -0.869672    2.201691    1.663024\\nH     -1.470752    0.696594    2.332164\\nH      0.266642    0.335530    0.581767\\nH     -0.754952    1.147526   -0.609889\\nH     -2.919625    2.424443    0.236079\\nH     -3.397427    2.212107    1.924734\\nH     -3.494091    0.852277    0.793227\\nH     -1.578000   -0.649350   -1.009564\\n12\\n\\nO     -1.456032   -0.656478   -0.054778\\nC     -1.357527    1.215032    1.548558\\nC     -0.775609    0.545695    0.302921\\nC     -2.833683    1.590239    1.399523\\nH     -0.759208    2.105899    1.774840\\nH     -1.229908    0.538701    2.404679\\nH      0.298335    0.358628    0.443852\\nH     -0.881841    1.205329   -0.562785\\nH     -2.969619    2.340254    0.614126\\nH     -3.237288    2.001385    2.328318\\nH     -3.425089    0.714412    1.125315\\nH     -1.578000   -0.649350   -1.009564\\n12\\n\\nO     -1.456032   -0.656478   -0.054778\\nC     -1.226385    1.110460    1.650547\\nC     -0.775609    0.545695    0.302921\\nC     -2.720712    1.436921    1.699906\\nH     -0.633366    2.007472    1.866259\\nH     -0.977396    0.385935    2.437770\\nH      0.312743    0.391759    0.305095\\nH     -1.003989    1.255017   -0.497426\\nH     -2.971862    2.230051    0.988768\\nH     -3.024036    1.771518    2.695214\\nH     -3.313010    0.558256    1.436931\\nH     -1.578000   -0.649350   -1.009564\\n12\\n\\nO     -1.456032   -0.656478   -0.054778\\nC     -1.080912    1.004712    1.729226\\nC     -0.775609    0.545695    0.302921\\nC     -2.568271    1.269102    1.973945\\nH     -0.494596    1.908326    1.935501\\nH     -0.718132    0.241269    2.430794\\nH      0.309586    0.434279    0.168199\\nH     -1.119018    1.295622   -0.415083\\nH     -2.926312    2.095980    1.352713\\nH     -2.761820    1.526979    3.018280\\nH     -3.160037    0.386851    1.722010\\nH     -1.578000   -0.649350   -1.009564\\n12\\n\\nO     -1.456032   -0.656478   -0.054778\\nC     -0.923940    0.899848    1.783065\\nC     -0.775609    0.545695    0.302921\\nC     -2.379328    1.090048    2.216306\\nH     -0.345599    1.810392    1.981219\\nH     -0.457163    0.107519    2.383886\\nH      0.288924    0.485360    0.035826\\nH     -1.224689    1.326354   -0.317360\\nH     -2.833854    1.940650    1.698878\\nH     -2.455745    1.272529    3.291229\\nH     -2.969146    0.203532    1.975003\\nH     -1.578000   -0.649350   -1.009564\\n12\\n\\nO     -1.456032   -0.656478   -0.054778\\nC     -0.758525    0.797907    1.811016\\nC     -0.775609    0.545695    0.302921\\nC     -2.157559    0.903244    2.422272\\nH     -0.189274    1.715574    2.002522\\nH     -0.199566   -0.012712    2.297959\\nH      0.251161    0.544007   -0.089446\\nH     -1.318946    1.346616   -0.206158\\nH     -2.696288    1.767085    2.020526\\nH     -2.111768    1.013118    3.508748\\nH     -2.744055    0.011867    2.190986\\nH     -1.578000   -0.649350   -1.009564\\n12\\n\\nO     -1.456032   -0.656478   -0.054778\\nC     -0.587886    0.700874    1.812534\\nC     -0.775609    0.545695    0.302921\\nC     -1.907282    0.712327    2.587833\\nH     -0.028665    1.625720    1.998997\\nH      0.049642   -0.117084    2.174687\\nH      0.197031    0.609080   -0.205178\\nH     -1.399953    1.356012   -0.083642\\nH     -2.516293    1.578662    2.311395\\nH     -1.736585    0.753798    3.666602\\nH     -2.489142   -0.184414    2.365755\\nH     -1.578000   -0.649350   -1.009564\\n12\\n\\nO     -1.456032   -0.656478   -0.054778\\nC     -0.415344    0.610639    1.787591\\nC     -0.775609    0.545695    0.302921\\nC     -1.633367    0.521012    2.709769\\nH      0.133102    1.542577    1.970711\\nH      0.285613   -0.203565    2.016467\\nH      0.127588    0.679312   -0.309119\\nH     -1.466135    1.354360    0.047804\\nH     -2.297371    1.379050    2.565824\\nH     -1.337496    0.499614    3.761720\\nH     -2.209371   -0.381489    2.495909\\nH     -1.578000   -0.649350   -1.009564\\n12\\n\\nO     -1.456032   -0.656478   -0.054778\\nC     -0.244258    0.528956    1.736671\\nC     -0.775609    0.545695    0.302921\\nC     -1.341147    0.333023    2.785704\\nH      0.292879    1.467764    1.918215\\nH      0.503753   -0.270471    1.826380\\nH      0.044183    0.753335   -0.399246\\nH     -1.516204    1.341691    0.185620\\nH     -2.043783    1.172133    2.778861\\nH     -0.922271    0.255515    3.792250\\nH     -1.910186   -0.575524    2.578914\\nH     -1.578000   -0.649350   -1.009564\\n12\\n\\nO     -1.456032   -0.656478   -0.054778\\nC     -0.077958    0.457416    1.660765\\nC     -0.775609    0.545695    0.302921\\nC     -1.036309    0.152019    2.814162\\nH      0.447555    1.402737    1.842531\\nH      0.699816   -0.316502    1.608125\\nH     -0.051560    0.829709   -0.473803\\nH     -1.549183    1.318254    0.327126\\nH     -1.760466    0.961938    2.946360\\nH     -0.498991    0.026252    3.757598\\nH     -1.597411   -0.762740    2.613154\\nH     -1.578000   -0.649350   -1.009564\\n12\\n\\nO     -1.456032   -0.656478   -0.054778\\nC      0.080320    0.397411    1.561352\\nC     -0.775609    0.545695    0.302921\\nC     -0.724785   -0.018478    2.794587\\nH      0.594122    1.348762    1.745132\\nH      0.869987   -0.340760    1.365952\\nH     -0.157778    0.906948   -0.531341\\nH     -1.564433    1.284503    0.469565\\nH     -1.452933    0.752558    3.065059\\nH     -0.075896   -0.183714    3.658438\\nH     -1.277134   -0.939496    2.597964\\nH     -1.578000   -0.649350   -1.009564\\n12\\n\\nO     -1.456032   -0.656478   -0.054778\\nC      0.227495    0.350110    1.440366\\nC     -0.775609    0.545695    0.302921\\nC     -0.412641   -0.175147    2.727362\\nH      0.729724    1.306889    1.627914\\nH      1.010952   -0.342774    1.104572\\nH     -0.272403    0.983547   -0.570738\\nH     -1.561655    1.241095    0.610167\\nH     -1.127170    0.548067    3.132650\\nH      0.338781   -0.370294    3.496701\\nH     -0.955589   -1.102349    2.533638\\nH     -1.578000   -0.649350   -1.009564\\n12\\n\\nO     -1.456032   -0.656478   -0.054778\\nC      0.360701    0.316433    1.300162\\nC     -0.775609    0.545695    0.302921\\nC     -0.105951   -0.314941    2.613795\\nH      0.851724    1.277933    1.493158\\nH      1.119969   -0.322504    0.829074\\nH     -0.393205    1.058017   -0.591229\\nH     -1.540904    1.188877    0.746194\\nH     -0.789519    0.352446    3.147816\\nH      0.736968   -0.529859    3.275534\\nH     -0.639033   -1.248130    2.421429\\nH     -1.578000   -0.649350   -1.009564\\n12\\n\\nO     -1.456032   -0.656478   -0.054778\\nC      0.477347    0.297035    1.143469\\nC     -0.775609    0.545695    0.302921\\nC      0.189316   -0.435138    2.456096\\nH      0.957746    1.262459    1.343488\\nH      1.194915   -0.280345    0.544820\\nH     -0.517831    1.128908   -0.592414\\nH     -1.502584    1.128863    0.874998\\nH     -0.446550    0.169502    3.110263\\nH      1.110914   -0.659301    2.999242\\nH     -0.333629   -1.374003    2.263521\\nH     -1.578000   -0.649350   -1.009564\\n12\\n\\nO     -1.456032   -0.656478   -0.054778\\nC      0.575162    0.292294    0.973337\\nC     -0.775609    0.545695    0.302921\\nC      0.467412   -0.533398    2.257334\\nH      1.045728    1.260766    1.181816\\nH      1.234332   -0.217117    0.257343\\nH     -0.643857    1.194839   -0.574270\\nH     -1.447441    1.062222    0.994074\\nH     -0.104940    0.002795    3.020720\\nH      1.453341   -0.756102    2.673203\\nH     -0.045320   -1.477516    2.062987\\nH     -1.578000   -0.649350   -1.009564\\n12\\n\\nO     -1.456032   -0.656478   -0.054778\\nC      0.652243    0.302302    0.793076\\nC     -0.775609    0.545695    0.302921\\nC      0.722925   -0.607810    2.021379\\nH      1.113956    1.272889    1.011289\\nH      1.237452   -0.134052   -0.027763\\nH     -0.768829    1.254528   -0.537151\\nH     -1.376547    0.990251    1.101102\\nH      0.228662   -0.144429    2.880931\\nH      1.757584   -0.818378    2.303763\\nH      0.220281   -1.556656    1.823731\\nH     -1.578000   -0.649350   -1.009564\\n12\\n\\nO     -1.456032   -0.656478   -0.054778\\nC      0.707088    0.326865    0.606197\\nC     -0.775609    0.545695    0.302921\\nC      0.950881   -0.656924    1.752822\\nH      1.161102    1.298591    0.835226\\nH      1.204215   -0.032766   -0.304947\\nH     -0.890315    1.306813   -0.481779\\nH     -1.291284    0.914351    1.194000\\nH      0.547763   -0.269304    2.693618\\nH      2.017722   -0.844915    1.898113\\nH      0.458005   -1.609881    1.550409\\nH     -1.578000   -0.649350   -1.009564\\n12\\n\\nO     -1.456032   -0.656478   -0.054778\\nC      0.738630    0.365504    0.416335\\nC     -0.775609    0.545695    0.302921\\nC      1.146843   -0.679786    1.456891\\nH      1.186250    1.337371    0.657054\\nH      1.135267    0.084770   -0.568814\\nH     -1.005950    1.350675   -0.409231\\nH     -1.193310    0.835999    1.270960\\nH      0.846153   -0.369401    2.462424\\nH      2.228691   -0.835199    1.464147\\nH      0.663225   -1.636156    1.248341\\nH     -1.578000   -0.649350   -1.009564\\n12\\n\\nO     -1.456032   -0.656478   -0.054778\\nC      0.746256    0.417468    0.227187\\nC     -0.775609    0.545695    0.302921\\nC      1.306998   -0.675949    1.139347\\nH      1.188908    1.388476    0.480242\\nH      1.031951    0.216268   -0.814230\\nH     -1.113484    1.385263   -0.320920\\nH     -1.084532    0.756721    1.330484\\nH      1.118024   -0.442771    2.191852\\nH      2.386384   -0.789417    1.010314\\nH      0.831947   -1.634970    0.923407\\nH     -1.578000   -0.649350   -1.009564\\n12\\n\\nO     -1.456032   -0.656478   -0.054778\\nC      0.729818    0.481744    0.042434\\nC     -0.775609    0.545695    0.302921\\nC      1.428228   -0.645489    0.806369\\nH      1.169027    1.450910    0.308230\\nH      0.896278    0.359169   -1.036416\\nH     -1.210824    1.409901   -0.218565\\nH     -0.967068    0.678059    1.371412\\nH      1.358083   -0.487986    1.887166\\nH      2.487734   -0.708462    0.545445\\nH      0.960887   -1.606345    0.581931\\nH     -1.578000   -0.649350   -1.009564\\n12\\n\\nO     -1.456032   -0.656478   -0.054778\\nC      0.689634    0.557082   -0.134328\\nC     -0.775609    0.545695    0.302921\\nC      1.508173   -0.588998    0.464438\\nH      1.126992    1.523458    0.144366\\nH      0.730888    0.510690   -1.231049\\nH     -1.296074    1.424111   -0.104158\\nH     -0.843204    0.601544    1.392949\\nH      1.561658   -0.504165    1.554297\\nH      2.530766   -0.593908    0.078590\\nH      1.047534   -1.550838    0.230560\\nH     -1.578000   -0.649350   -1.009564\\n\",\"xyz\");\n",
       "\tviewergrid_1711055601674338[0][0].setStyle({\"stick\": {\"radius\": 0.05, \"color\": \"#f2f2f2\"}, \"sphere\": {\"scale\": 0.25}});\n",
       "\tviewergrid_1711055601674338[0][0].animate({\"loop\": \"forward\", \"reps\": 0, \"step\": 1, \"interval\": 120});\n",
       "\tviewergrid_1711055601674338[0][0].setHoverable({},true,\"function(atom,viewer,event,container) {\\n            if(!atom.label) {\\n            atom.label = viewer.addLabel(\\n                atom.atom+\\\":\\\"+atom.index,\\n                {\\n                    position: atom,\\n                    backgroundColor: 'black',\\n                    fontColor: 'white',\\n                    alignment: 'center',\\n                    showBackground: true,\\n                    backgroundOpacity: 0.2\\n                }\\n            );\\n        }}\",\"function(atom,viewer) {\\n            if(atom.label) {\\n            viewer.removeLabel(atom.label);\\n            delete atom.label;\\n            }\\n        }\");\n",
       "\tviewergrid_1711055601674338[0][1].setHoverable({},true,\"function(atom,viewer,event,container) {\\n            if(!atom.label) {\\n            atom.label = viewer.addLabel(\\n                atom.atom+\\\":\\\"+atom.index,\\n                {\\n                    position: atom,\\n                    backgroundColor: 'black',\\n                    fontColor: 'white',\\n                    alignment: 'center',\\n                    showBackground: true,\\n                    backgroundOpacity: 0.2\\n                }\\n            );\\n        }}\",\"function(atom,viewer) {\\n            if(atom.label) {\\n            viewer.removeLabel(atom.label);\\n            delete atom.label;\\n            }\\n        }\");\n",
       "\tviewergrid_1711055601674338[0][0].zoomTo();\n",
       "\tviewergrid_1711055601674338[0][1].addModelsAsFrames(\"12\\n\\nO     -1.430607   -0.643928   -0.065245\\nC      0.614629    0.632252   -0.310563\\nC     -0.763861    0.546265    0.331805\\nC      1.528625   -0.503959    0.125286\\nH      1.078230    1.589740   -0.048792\\nH      0.515190    0.597806   -1.401663\\nH     -1.380179    1.401181    0.036810\\nH     -0.685807    0.545485    1.423549\\nH      1.667038   -0.500240    1.210977\\nH      2.512567   -0.397385   -0.342589\\nH      1.121131   -1.476953   -0.166516\\nH     -1.565503   -0.595594   -1.026984\\n12\\n\\nO     -1.433551   -0.644110   -0.065775\\nC      0.530800    0.727199   -0.457217\\nC     -0.760833    0.543563    0.329679\\nC      1.522704   -0.400812   -0.213531\\nH      0.992580    1.681420   -0.180334\\nH      0.306047    0.765792   -1.529578\\nH     -1.433967    1.389638    0.160922\\nH     -0.559140    0.480576    1.403609\\nH      1.798447   -0.456556    0.844340\\nH      2.435640   -0.232263   -0.793656\\nH      1.107992   -1.368377   -0.512643\\nH     -1.569330   -0.598430   -1.027382\\n12\\n\\nO     -1.440771   -0.640191   -0.062085\\nC      0.425602    0.825169   -0.592217\\nC     -0.755140    0.541432    0.328809\\nC      1.475318   -0.275470   -0.540757\\nH      0.886309    1.777831   -0.308488\\nH      0.073355    0.921100   -1.625772\\nH     -1.467099    1.372172    0.296638\\nH     -0.424979    0.418745    1.364970\\nH      1.866090   -0.396053    0.474654\\nH      2.313636   -0.028283   -1.199776\\nH      1.062479   -1.235250   -0.866946\\nH     -1.584934   -0.596935   -1.022520\\n12\\n\\nO     -1.446493   -0.638885   -0.060216\\nC      0.303094    0.928634   -0.704472\\nC     -0.751673    0.539482    0.325162\\nC      1.385826   -0.130878   -0.849937\\nH      0.763837    1.878280   -0.410647\\nH     -0.170854    1.077960   -1.681524\\nH     -1.486705    1.343679    0.429679\\nH     -0.299286    0.365232    1.306430\\nH      1.897949   -0.299908    0.102466\\nH      2.131689    0.190250   -1.583942\\nH      0.967782   -1.083662   -1.189757\\nH     -1.596399   -0.601138   -1.019624\\n12\\n\\nO     -1.452886   -0.638229   -0.056806\\nC      0.164174    1.034087   -0.794893\\nC     -0.747980    0.536631    0.321308\\nC      1.256459    0.031278   -1.136856\\nH      0.625426    1.980315   -0.491189\\nH     -0.426597    1.227278   -1.697590\\nH     -1.488130    1.305022    0.565770\\nH     -0.177200    0.316706    1.229041\\nH      1.883854   -0.176414   -0.264101\\nH      1.898643    0.428606   -1.929344\\nH      0.833534   -0.914860   -1.489243\\nH     -1.610979   -0.605668   -1.015524\\n12\\n\\nO     -1.460874   -0.636112   -0.054825\\nC      0.013686    1.139321   -0.859918\\nC     -0.745710    0.535317    0.316613\\nC      1.089320    0.205086   -1.394766\\nH      0.477784    2.080771   -0.546394\\nH     -0.685316    1.368311   -1.672606\\nH     -1.471957    1.259726    0.698114\\nH     -0.065946    0.276992    1.134764\\nH      1.826965   -0.025857   -0.619293\\nH      1.614024    0.674916   -2.232751\\nH      0.660607   -0.736521   -1.752058\\nH     -1.625756   -0.609163   -1.011810\\n12\\n\\nO     -1.475400   -0.629967   -0.045010\\nC     -0.150757    1.239881   -0.904885\\nC     -0.741122    0.533948    0.311366\\nC      0.891403    0.389614   -1.617546\\nH      0.311064    2.181204   -0.587499\\nH     -0.948743    1.483971   -1.615863\\nH     -1.427241    1.209392    0.831798\\nH      0.042900    0.241823    1.016855\\nH      1.716989    0.137594   -0.944110\\nH      1.305166    0.936832   -2.470611\\nH      0.458859   -0.542371   -1.993969\\nH     -1.656807   -0.608390   -0.999371\\n12\\n\\nO     -1.486811   -0.627524   -0.032634\\nC     -0.323016    1.336180   -0.922591\\nC     -0.737684    0.532141    0.305736\\nC      0.663160    0.582132   -1.803465\\nH      0.135258    2.277527   -0.599369\\nH     -1.207946    1.584816   -1.519378\\nH     -1.365766    1.150196    0.955157\\nH      0.137043    0.218951    0.884375\\nH      1.568663    0.325151   -1.244574\\nH      0.956158    1.202063   -2.656830\\nH      0.226845   -0.342327   -2.193816\\nH     -1.683812   -0.612583   -0.983852\\n12\\n\\nO     -1.495960   -0.625978   -0.017400\\nC     -0.499788    1.426719   -0.913109\\nC     -0.734786    0.531889    0.299965\\nC      0.408788    0.777164   -1.947849\\nH     -0.044936    2.367443   -0.583178\\nH     -1.457729    1.667637   -1.388086\\nH     -1.286960    1.086286    1.065207\\nH      0.214200    0.208792    0.739233\\nH      1.381523    0.527613   -1.512067\\nH      0.578417    1.463675   -2.783508\\nH     -0.031623   -0.139658   -2.351195\\nH     -1.708874   -0.619715   -0.964707\\n12\\n\\nO     -1.496777   -0.628105   -0.000634\\nC     -0.675195    1.510185   -0.875650\\nC     -0.732696    0.533437    0.294979\\nC      0.129744    0.969853   -2.049834\\nH     -0.220015    2.447664   -0.538069\\nH     -1.690860    1.736756   -1.219898\\nH     -1.198978    1.019260    1.158183\\nH      0.272413    0.217153    0.591036\\nH      1.153828    0.731402   -1.744816\\nH      0.179798    1.718410   -2.847034\\nH     -0.322874    0.065996   -2.467653\\nH     -1.721171   -0.633390   -0.945198\\n12\\n\\nO     -1.494703   -0.631559    0.017383\\nC     -0.850701    1.583270   -0.814115\\nC     -0.731716    0.536320    0.289886\\nC     -0.162791    1.158300   -2.103985\\nH     -0.398963    2.519850   -0.467476\\nH     -1.908575    1.779217   -1.026274\\nH     -1.097366    0.951090    1.234350\\nH      0.312051    0.238642    0.436525\\nH      0.896020    0.942711   -1.930376\\nH     -0.226969    1.960451   -2.845288\\nH     -0.627707    0.267441   -2.535765\\nH     -1.729640   -0.648539   -0.924185\\n12\\n\\nO     -1.493745   -0.633721    0.034683\\nC     -1.016741    1.645105   -0.725245\\nC     -0.728221    0.538005    0.284296\\nC     -0.467887    1.338097   -2.111497\\nH     -0.563388    2.577374   -0.369988\\nH     -2.097694    1.806547   -0.800847\\nH     -0.977718    0.881053    1.293536\\nH      0.332158    0.264879    0.274686\\nH      0.611678    1.160790   -2.075079\\nH     -0.649808    2.183594   -2.782488\\nH     -0.945860    0.456925   -2.549267\\nH     -1.742271   -0.659914   -0.903199\\n12\\n\\nO     -1.472338   -0.642252    0.036453\\nC     -1.169939    1.698663   -0.612091\\nC     -0.730891    0.544283    0.283634\\nC     -0.784947    1.499839   -2.071685\\nH     -0.705021    2.623704   -0.251634\\nH     -2.256517    1.824025   -0.548692\\nH     -0.882633    0.810453    1.334119\\nH      0.331979    0.322260    0.144379\\nH      0.292976    1.340998   -2.175168\\nH     -1.053809    2.387002   -2.654255\\nH     -1.303327    0.643729   -2.513675\\nH     -1.710184   -0.677012   -0.903888\\n12\\n\\nO     -1.456346   -0.647435    0.032711\\nC     -1.307830    1.739469   -0.477728\\nC     -0.732447    0.548466    0.282100\\nC     -1.100549    1.646087   -1.983231\\nH     -0.829033    2.656255   -0.115100\\nH     -2.382350    1.822052   -0.276477\\nH     -0.776318    0.738665    1.359349\\nH      0.315640    0.380797    0.014020\\nH     -0.040265    1.525590   -2.226908\\nH     -1.457421    2.560359   -2.468165\\nH     -1.651714    0.806053   -2.415646\\nH     -1.684699   -0.684191   -0.910221\\n12\\n\\nO     -1.445723   -0.649392    0.028370\\nC     -1.432049    1.765329   -0.325056\\nC     -0.730924    0.552772    0.277655\\nC     -1.405598    1.774272   -1.846901\\nH     -0.941922    2.676202    0.037820\\nH     -2.476457    1.791564    0.007480\\nH     -0.656657    0.669779    1.363120\\nH      0.283831    0.443427   -0.119054\\nH     -0.379672    1.708180   -2.222962\\nH     -1.845167    2.703376   -2.223064\\nH     -1.980942    0.943303   -2.265566\\nH     -1.671976   -0.684593   -0.915170\\n12\\n\\nO     -1.436483   -0.648954    0.010670\\nC     -1.533206    1.780151   -0.158344\\nC     -0.734714    0.556787    0.277914\\nC     -1.699374    1.877032   -1.668036\\nH     -1.025423    2.683024    0.198877\\nH     -2.528243    1.753340    0.300441\\nH     -0.553043    0.598233    1.356339\\nH      0.237391    0.516057   -0.224250\\nH     -0.727457    1.870522   -2.171495\\nH     -2.210230    2.809378   -1.929415\\nH     -2.298100    1.050032   -2.060764\\nH     -1.644786   -0.675480   -0.937654\\n12\\n\\nO     -1.434898   -0.645763   -0.001397\\nC     -1.615587    1.779366    0.020004\\nC     -0.737712    0.560286    0.276315\\nC     -1.969295    1.958212   -1.449709\\nH     -1.093171    2.676396    0.370518\\nH     -2.545948    1.690207    0.592910\\nH     -0.441179    0.533762    1.329560\\nH      0.173746    0.588267   -0.329196\\nH     -1.066401    2.023178   -2.065132\\nH     -2.541576    2.881132   -1.588761\\nH     -2.580583    1.129384   -1.818516\\nH     -1.633353   -0.663807   -0.952362\\n12\\n\\nO     -1.437437   -0.640645   -0.009801\\nC     -1.676884    1.764223    0.205707\\nC     -0.740650    0.564076    0.274515\\nC     -2.212201    2.014672   -1.196666\\nH     -1.142326    2.657130    0.548397\\nH     -2.527477    1.605925    0.878813\\nH     -0.328348    0.475830    1.284407\\nH      0.096755    0.664365   -0.423692\\nH     -1.393295    2.159115   -1.908815\\nH     -2.833523    2.916033   -1.206756\\nH     -2.829055    1.180412   -1.544023\\nH     -1.629744   -0.652057   -0.962624\\n12\\n\\nO     -1.441210   -0.636166   -0.015567\\nC     -1.715559    1.734535    0.395830\\nC     -0.744662    0.567656    0.272959\\nC     -2.424198    2.046345   -0.914413\\nH     -1.170439    2.624598    0.728967\\nH     -2.473356    1.504078    1.153611\\nH     -0.219022    0.425130    1.222274\\nH      0.006051    0.743633   -0.504545\\nH     -1.702574    2.274873   -1.705180\\nH     -3.078957    2.914948   -0.790992\\nH     -3.042354    1.205532   -1.243911\\nH     -1.629330   -0.643523   -0.969329\\n12\\n\\nO     -1.444628   -0.633555   -0.015918\\nC     -1.731197    1.690983    0.586198\\nC     -0.748822    0.571008    0.271649\\nC     -2.601801    2.053115   -0.608411\\nH     -1.177052    2.579071    0.909721\\nH     -2.384767    1.385517    1.411532\\nH     -0.112211    0.384882    1.142212\\nH     -0.099012    0.824193   -0.572690\\nH     -1.988407    2.366340   -1.459200\\nH     -3.271183    2.879782   -0.350184\\nH     -3.220235    1.206657   -0.922697\\nH     -1.631824   -0.640713   -0.970152\\n12\\n\\nO     -1.444965   -0.632805   -0.014424\\nC     -1.724860    1.633163    0.773858\\nC     -0.753096    0.574531    0.271340\\nC     -2.741538    2.034889   -0.284994\\nH     -1.164404    2.519795    1.089702\\nH     -2.266067    1.251150    1.647214\\nH     -0.013107    0.355339    1.047369\\nH     -0.215778    0.907187   -0.623350\\nH     -2.243234    2.427809   -1.177027\\nH     -3.404224    2.814080    0.104841\\nH     -3.362425    1.184613   -0.584107\\nH     -1.631971   -0.641916   -0.968782\\n12\\n\\nO     -1.442678   -0.634182   -0.011402\\nC     -1.695033    1.563213    0.954932\\nC     -0.757344    0.577671    0.271714\\nC     -2.841880    1.991176    0.050532\\nH     -1.129175    2.449295    1.263223\\nH     -2.116811    1.105249    1.857068\\nH      0.078034    0.338839    0.937085\\nH     -0.344187    0.989390   -0.655450\\nH     -2.464823    2.459127   -0.864423\\nH     -3.477970    2.717661    0.566017\\nH     -3.466400    1.137710   -0.231677\\nH     -1.630145   -0.647183   -0.965367\\n12\\n\\nO     -1.444124   -0.634243   -0.011135\\nC     -1.640545    1.485180    1.124911\\nC     -0.761784    0.578722    0.274565\\nC     -2.900743    1.921441    0.391720\\nH     -1.069520    2.372073    1.420712\\nH     -1.936164    0.957703    2.039140\\nH      0.152362    0.325945    0.820251\\nH     -0.473155    1.065670   -0.663140\\nH     -2.651384    2.468212   -0.523237\\nH     -3.498516    2.580942    1.028733\\nH     -3.522071    1.062227    0.120448\\nH     -1.627441   -0.648808   -0.965869\\n12\\n\\nO     -1.438666   -0.637096   -0.009566\\nC     -1.566120    1.394855    1.283314\\nC     -0.765214    0.580849    0.276547\\nC     -2.916435    1.829381    0.731534\\nH     -0.992248    2.282107    1.572564\\nH     -1.736513    0.797718    2.186628\\nH      0.216878    0.331858    0.689972\\nH     -0.612300    1.140781   -0.652625\\nH     -2.793136    2.438412   -0.169652\\nH     -3.452807    2.427813    1.474690\\nH     -3.540827    0.966178    0.480481\\nH     -1.620650   -0.653738   -0.964394\\n12\\n\\nO     -1.435256   -0.639258   -0.009262\\nC     -1.470076    1.298840    1.424648\\nC     -0.768668    0.581701    0.279425\\nC     -2.889172    1.714644    1.064167\\nH     -0.893822    2.187652    1.704498\\nH     -1.513495    0.639623    2.299363\\nH      0.263641    0.345604    0.554759\\nH     -0.749344    1.207120   -0.619943\\nH     -2.892504    2.383702    0.197690\\nH     -3.351832    2.243828    1.903124\\nH     -3.511815    0.845415    0.829976\\nH     -1.613947   -0.656370   -0.964874\\n12\\n\\nO     -1.432096   -0.641615   -0.009585\\nC     -1.355046    1.197889    1.546874\\nC     -0.771725    0.581850    0.282585\\nC     -2.819209    1.580151    1.382405\\nH     -0.777841    2.088828    1.817072\\nH     -1.274154    0.483666    2.374497\\nH      0.293002    0.369072    0.417362\\nH     -0.882401    1.264530   -0.567068\\nH     -2.945800    2.302781    0.569849\\nH     -3.195750    2.036203    2.303605\\nH     -3.437775    0.704218    1.163328\\nH     -1.606671   -0.657826   -0.965923\\n12\\n\\nO     -1.427595   -0.644006   -0.010740\\nC     -1.223551    1.093551    1.647725\\nC     -0.774753    0.582514    0.285390\\nC     -2.708094    1.427963    1.680933\\nH     -0.646581    1.987553    1.908707\\nH     -1.022610    0.331844    2.410000\\nH      0.304710    0.404492    0.279093\\nH     -1.010622    1.313006   -0.496190\\nH     -2.953280    2.193696    0.938082\\nH     -2.986283    1.811353    2.667749\\nH     -3.320536    0.543692    1.478616\\nH     -1.598457   -0.658403   -0.967722\\n12\\n\\nO     -1.424256   -0.646597   -0.012040\\nC     -1.077814    0.988379    1.725028\\nC     -0.777927    0.582119    0.288510\\nC     -2.557557    1.262321    1.953218\\nH     -0.501882    1.885554    1.976853\\nH     -0.764533    0.188156    2.405563\\nH      0.298197    0.446685    0.144844\\nH     -1.128998    1.350221   -0.408987\\nH     -2.912105    2.064997    1.298752\\nH     -2.728765    1.569312    2.989847\\nH     -3.162321    0.370355    1.762453\\nH     -1.591193   -0.658514   -0.969878\\n12\\n\\nO     -1.420523   -0.648145   -0.015409\\nC     -0.920794    0.883695    1.777545\\nC     -0.781407    0.582786    0.291369\\nC     -2.370788    1.084027    2.194981\\nH     -0.347603    1.784945    2.021095\\nH     -0.503606    0.054551    2.360761\\nH      0.274197    0.499055    0.015799\\nH     -1.237361    1.378751   -0.307034\\nH     -2.827628    1.908947    1.638985\\nH     -2.426552    1.322305    3.261898\\nH     -2.964150    0.181049    2.020434\\nH     -1.583966   -0.655868   -0.973792\\n12\\n\\nO     -1.416102   -0.651419   -0.017744\\nC     -0.755624    0.782255    1.803872\\nC     -0.785309    0.582370    0.294619\\nC     -2.151022    0.899795    2.400434\\nH     -0.185315    1.687433    2.039531\\nH     -0.246936   -0.065933    2.276582\\nH      0.233049    0.558214   -0.105210\\nH     -1.334775    1.394386   -0.193050\\nH     -2.694294    1.742819    1.961708\\nH     -2.086698    1.063180    3.480907\\nH     -2.734532   -0.010729    2.232044\\nH     -1.576903   -0.655798   -0.976687\\n12\\n\\nO     -1.412681   -0.653351   -0.021720\\nC     -0.585579    0.685648    1.803986\\nC     -0.788914    0.581888    0.298469\\nC     -1.902984    0.710434    2.566042\\nH     -0.019786    1.595466    2.032532\\nH      0.001940   -0.170628    2.155174\\nH      0.176641    0.622745   -0.215227\\nH     -1.416962    1.400301   -0.068181\\nH     -2.521088    1.557328    2.251231\\nH     -1.715564    0.808139    3.640069\\nH     -2.473278   -0.209961    2.406388\\nH     -1.570519   -0.653167   -0.981201\\n12\\n\\nO     -1.409142   -0.655458   -0.026049\\nC     -0.413899    0.596104    1.777717\\nC     -0.792443    0.581033    0.302815\\nC     -1.631236    0.520672    2.688510\\nH      0.146384    1.510967    1.999813\\nH      0.237866   -0.257282    1.998549\\nH      0.105407    0.692495   -0.313429\\nH     -1.484991    1.394840    0.065334\\nH     -2.308155    1.361603    2.506867\\nH     -1.319957    0.556071    3.737306\\nH     -2.187773   -0.408944    2.533711\\nH     -1.564484   -0.650724   -0.985891\\n12\\n\\nO     -1.407998   -0.656259   -0.030722\\nC     -0.243714    0.514166    1.725627\\nC     -0.794763    0.579495    0.307606\\nC     -1.341048    0.334602    2.764982\\nH      0.311286    1.433431    1.942624\\nH      0.454972   -0.326289    1.810221\\nH      0.021961    0.763965   -0.397810\\nH     -1.534387    1.379725    0.205214\\nH     -2.060889    1.158027    2.720033\\nH     -0.908778    0.316472    3.770505\\nH     -1.882591   -0.604516    2.614631\\nH     -1.560726   -0.646529   -0.990964\\n12\\n\\nO     -1.405111   -0.658692   -0.034736\\nC     -0.078902    0.444557    1.648641\\nC     -0.796758    0.577194    0.312372\\nC     -1.038140    0.154947    2.794355\\nH      0.467574    1.369817    1.861402\\nH      0.652060   -0.370506    1.593829\\nH     -0.074126    0.838644   -0.467830\\nH     -1.568913    1.351904    0.348267\\nH     -1.779160    0.954400    2.895224\\nH     -0.487600    0.081669    3.737641\\nH     -1.569570   -0.789422    2.640660\\nH     -1.555501   -0.645562   -0.995230\\n12\\n\\nO     -1.405377   -0.658040   -0.040185\\nC      0.078537    0.383347    1.548528\\nC     -0.796594    0.574715    0.317245\\nC     -0.729135   -0.013841    2.775937\\nH      0.619263    1.312801    1.758334\\nH      0.821214   -0.399079    1.353842\\nH     -0.179093    0.914198   -0.521129\\nH     -1.581807    1.316033    0.494323\\nH     -1.481377    0.745653    3.011711\\nH     -0.069839   -0.119016    3.643391\\nH     -1.240716   -0.969482    2.624356\\nH     -1.553247   -0.639688   -1.001066\\n12\\n\\nO     -1.404740   -0.659061   -0.044060\\nC      0.224263    0.337484    1.427359\\nC     -0.795236    0.571294    0.320913\\nC     -0.419787   -0.169018    2.710054\\nH      0.755764    1.272432    1.635835\\nH      0.963750   -0.400686    1.095723\\nH     -0.292246    0.987712   -0.558574\\nH     -1.576732    1.269256    0.636313\\nH     -1.158985    0.546033    3.085136\\nH      0.340941   -0.308146    3.484740\\nH     -0.919524   -1.129935    2.552937\\nH     -1.549616   -0.638354   -1.005165\\n12\\n\\nO     -1.406696   -0.657427   -0.048312\\nC      0.356831    0.303040    1.286204\\nC     -0.793557    0.568680    0.324793\\nC     -0.114661   -0.308273    2.597998\\nH      0.881083    1.242198    1.494190\\nH      1.073299   -0.384025    0.821091\\nH     -0.414281    1.062174   -0.576633\\nH     -1.552312    1.214107    0.777782\\nH     -0.829679    0.350142    3.101600\\nH      0.735946   -0.462118    3.269574\\nH     -0.595039   -1.278172    2.435867\\nH     -1.549825   -0.632187   -1.009641\\n12\\n\\nO     -1.408459   -0.656323   -0.051389\\nC      0.472543    0.283917    1.129060\\nC     -0.790736    0.565839    0.327300\\nC      0.178581   -0.427901    2.441942\\nH      0.988455    1.227415    1.338321\\nH      1.149868   -0.343699    0.538340\\nH     -0.539940    1.131801   -0.576464\\nH     -1.508790    1.151111    0.909899\\nH     -0.490906    0.169277    3.069201\\nH      1.107127   -0.592511    2.997765\\nH     -0.288423   -1.402832    2.270984\\nH     -1.549316   -0.628247   -1.012897\\n12\\n\\nO     -1.409683   -0.655575   -0.053966\\nC      0.569311    0.280110    0.958978\\nC     -0.787257    0.563005    0.328370\\nC      0.454169   -0.525659    2.245202\\nH      1.076199    1.227748    1.171542\\nH      1.192172   -0.281172    0.252934\\nH     -0.666989    1.195355   -0.557865\\nH     -1.447687    1.081716    1.030061\\nH     -0.153035    0.004469    2.985878\\nH      1.446628   -0.691569    2.676402\\nH     -0.001260   -1.504103    2.063497\\nH     -1.547791   -0.625677   -1.015911\\n12\\n\\nO     -1.412221   -0.653831   -0.056824\\nC      0.645529    0.289780    0.778210\\nC     -0.783842    0.560475    0.329481\\nC      0.708004   -0.599714    2.011751\\nH      1.145211    1.240614    0.993620\\nH      1.197096   -0.201566   -0.031761\\nH     -0.793869    1.253533   -0.518609\\nH     -1.369708    1.006754    1.139114\\nH      0.173604   -0.143101    2.850945\\nH      1.748859   -0.751527    2.314656\\nH      0.267645   -1.582601    1.817228\\nH     -1.548223   -0.620302   -1.018875\\n12\\n\\nO     -1.413660   -0.653164   -0.058607\\nC      0.699182    0.315717    0.591983\\nC     -0.780875    0.558106    0.330004\\nC      0.934592   -0.649294    1.745284\\nH      1.189883    1.269787    0.813999\\nH      1.167173   -0.099201   -0.308282\\nH     -0.916683    1.302018   -0.462284\\nH     -1.279228    0.929141    1.231214\\nH      0.493139   -0.267221    2.671258\\nH      2.008194   -0.783368    1.911367\\nH      0.501101   -1.632577    1.537334\\nH     -1.547282   -0.617248   -1.021032\\n12\\n\\nO     -1.416347   -0.650904   -0.060717\\nC      0.729874    0.354300    0.402299\\nC     -0.777341    0.556206    0.330024\\nC      1.128924   -0.672764    1.452454\\nH      1.214169    1.310116    0.629892\\nH      1.100876    0.015547   -0.572053\\nH     -1.031160    1.342088   -0.389090\\nH     -1.175197    0.850893    1.306221\\nH      0.787400   -0.367925    2.447031\\nH      2.218273   -0.775339    1.484554\\nH      0.704794   -1.656688    1.229380\\nH     -1.548104   -0.611885   -1.023307\\n12\\n\\nO     -1.419774   -0.648892   -0.062766\\nC      0.736315    0.406214    0.212962\\nC     -0.774345    0.553645    0.331310\\nC      1.288953   -0.669491    1.137279\\nH      1.214524    1.363678    0.446748\\nH      0.999024    0.144641   -0.818666\\nH     -1.137460    1.372864   -0.297967\\nH     -1.061296    0.770040    1.365240\\nH      1.056465   -0.443798    2.182881\\nH      2.377370   -0.729624    1.037443\\nH      0.874244   -1.653446    0.897025\\nH     -1.551209   -0.604876   -1.025227\\n12\\n\\nO     -1.421059   -0.649057   -0.064461\\nC      0.718856    0.472469    0.031015\\nC     -0.771870    0.550959    0.331288\\nC      1.409967   -0.640007    0.806367\\nH      1.190214    1.430707    0.276245\\nH      0.867424    0.292298   -1.039945\\nH     -1.232988    1.390835   -0.198249\\nH     -0.943332    0.692755    1.402835\\nH      1.303447   -0.488964    1.885230\\nH      2.478567   -0.656729    0.569866\\nH      0.994183   -1.620332    0.553229\\nH     -1.550888   -0.603566   -1.026835\\n12\\n\\nO     -1.423592   -0.647776   -0.065681\\nC      0.678341    0.549113   -0.143446\\nC     -0.768559    0.548603    0.331374\\nC      1.489737   -0.585057    0.466273\\nH      1.145191    1.506172    0.112546\\nH      0.705387    0.446307   -1.234557\\nH     -1.314950    1.400098   -0.087102\\nH     -0.818826    0.618505    1.422603\\nH      1.511981   -0.506269    1.558049\\nH      2.521492   -0.548278    0.102426\\nH      1.074047   -1.561770    0.200109\\nH     -1.553524   -0.600805   -1.028348\\n\",\"xyz\");\n",
       "\tviewergrid_1711055601674338[0][1].setStyle({\"stick\": {\"radius\": 0.05, \"color\": \"#f2f2f2\"}, \"sphere\": {\"scale\": 0.25}});\n",
       "\tviewergrid_1711055601674338[0][1].animate({\"loop\": \"forward\", \"reps\": 0, \"step\": 1, \"interval\": 120});\n",
       "\tviewergrid_1711055601674338[0][0].setHoverable({},true,\"function(atom,viewer,event,container) {\\n            if(!atom.label) {\\n            atom.label = viewer.addLabel(\\n                atom.atom+\\\":\\\"+atom.index,\\n                {\\n                    position: atom,\\n                    backgroundColor: 'black',\\n                    fontColor: 'white',\\n                    alignment: 'center',\\n                    showBackground: true,\\n                    backgroundOpacity: 0.2\\n                }\\n            );\\n        }}\",\"function(atom,viewer) {\\n            if(atom.label) {\\n            viewer.removeLabel(atom.label);\\n            delete atom.label;\\n            }\\n        }\");\n",
       "\tviewergrid_1711055601674338[0][1].setHoverable({},true,\"function(atom,viewer,event,container) {\\n            if(!atom.label) {\\n            atom.label = viewer.addLabel(\\n                atom.atom+\\\":\\\"+atom.index,\\n                {\\n                    position: atom,\\n                    backgroundColor: 'black',\\n                    fontColor: 'white',\\n                    alignment: 'center',\\n                    showBackground: true,\\n                    backgroundOpacity: 0.2\\n                }\\n            );\\n        }}\",\"function(atom,viewer) {\\n            if(atom.label) {\\n            viewer.removeLabel(atom.label);\\n            delete atom.label;\\n            }\\n        }\");\n",
       "\tviewergrid_1711055601674338[0][1].zoomTo();\n",
       "viewergrid_1711055601674338[0][1].render();\n",
       "viewergrid_1711055601674338[0][0].render();\n",
       "});\n",
       "</script>"
      ]
     },
     "metadata": {},
     "output_type": "display_data"
    },
    {
     "data": {
      "text/plain": [
       "<py3Dmol.view at 0x177271650>"
      ]
     },
     "execution_count": 13,
     "metadata": {},
     "output_type": "execute_result"
    }
   ],
   "source": [
    "viewer = grid_viewer(viewer_grid=(1, 2), viewer_size=(800, 400), linked=True)\n",
    "\n",
    "animation_viewer(\"\".join(xyzs1), 'xyz', interval=120, viewer=viewer, viewer_loc=(0, 0))\n",
    "animation_viewer(\"\".join(xyzs2), 'xyz', interval=120, viewer=viewer, viewer_loc=(0, 1))\n",
    "\n",
    "viewer"
   ]
  },
  {
   "cell_type": "code",
   "execution_count": null,
   "metadata": {},
   "outputs": [],
   "source": []
  }
 ],
 "metadata": {
  "kernelspec": {
   "display_name": "xtb_env",
   "language": "python",
   "name": "python3"
  },
  "language_info": {
   "codemirror_mode": {
    "name": "ipython",
    "version": 3
   },
   "file_extension": ".py",
   "mimetype": "text/x-python",
   "name": "python",
   "nbconvert_exporter": "python",
   "pygments_lexer": "ipython3",
   "version": "3.11.8"
  }
 },
 "nbformat": 4,
 "nbformat_minor": 2
}
