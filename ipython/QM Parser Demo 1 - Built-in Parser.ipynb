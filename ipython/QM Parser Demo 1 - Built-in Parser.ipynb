{
 "cells": [
  {
   "cell_type": "markdown",
   "id": "0b5ce9cd-4493-4fca-bedc-279a4b8e0db4",
   "metadata": {},
   "source": [
    "# A Demo for QM Parser"
   ]
  },
  {
   "cell_type": "markdown",
   "id": "9024deb1",
   "metadata": {},
   "source": [
    "Author: Xiaorui Dong\n",
    "\n",
    "This notebook showcases how RDMC and cclib can be combined into a interactive QM result log parser.\n",
    "\n",
    "Notes:\n",
    "- If you see a warning in an interactive cell indicating you need to install py3dmol while you have already do so, don't worry, the warning message should disappear once you drag the slider or change the selections."
   ]
  },
  {
   "cell_type": "code",
   "execution_count": null,
   "id": "1478c1c4-461a-45eb-ba2a-4c14e8f78ba0",
   "metadata": {},
   "outputs": [],
   "source": [
    "from rdmc import Mol\n",
    "from rdmc.external.logparser import GaussianLog, ORCALog, QChemLog\n",
    "from rdtools.reaction.ts import examine_normal_mode\n",
    "from rdtools.view import base_viewer, mol_viewer, reaction_viewer\n",
    "\n",
    "\n",
    "def general_info(glog):\n",
    "    print(f'Success?: {glog.success}')\n",
    "    print(f'TS?: {glog.is_ts}')\n",
    "    print(f'Involved job types: {\", \".join(glog.job_type)}')\n",
    "    try:\n",
    "        print(f'Scanning: {\", \".join(glog.scan_names)}')\n",
    "    except:\n",
    "        pass\n",
    "    print(f'Charge: {glog.charge}, Multiplicity: {glog.multiplicity}')\n",
    "\n",
    "%load_ext autoreload\n",
    "%autoreload 2\n",
    "%matplotlib inline"
   ]
  },
  {
   "cell_type": "markdown",
   "id": "aa11c9db-3521-4729-b017-98d572378cf0",
   "metadata": {},
   "source": [
    "## Input the path of log file <a id='HOME'></a>\n",
    "Currently, RDMC has three parsers `GaussianLog`, `QChemLog`, and `ORCALog`.\n",
    "You need to assign the path to `log`. Some gaussian results are provided for trying out this notebook. "
   ]
  },
  {
   "cell_type": "code",
   "execution_count": null,
   "id": "fad5a463",
   "metadata": {},
   "outputs": [],
   "source": [
    "############ EXAMPLES #################\n",
    "# non-TS\n",
    "log = 'data/well-cbsqb3.out'\n",
    "# TS\n",
    "# log = 'data/ts-cbsqb3.out'\n",
    "# scan\n",
    "# log = 'data/scan.out'\n",
    "# IRC\n",
    "# log = 'data/irc.out'\n",
    "######################################\n",
    "\n",
    "glog = GaussianLog(log)\n",
    "general_info(glog)"
   ]
  },
  {
   "cell_type": "markdown",
   "id": "7abbca02",
   "metadata": {},
   "source": [
    "## Hyperlinks: Analyze by job types\n",
    "\n",
    "- [Optimization](#OPT)\n",
    "- [Frequency](#FREQ)\n",
    "- [Scan](#SCAN)\n",
    "- [IRC](#IRC)"
   ]
  },
  {
   "cell_type": "markdown",
   "id": "62cd5c2a",
   "metadata": {},
   "source": [
    "## 1. Optimization <a id='OPT'></a>"
   ]
  },
  {
   "cell_type": "markdown",
   "id": "174c5f94",
   "metadata": {},
   "source": [
    "### 1.1 Visualize molecule\n",
    "\n",
    "If the optimization was converged, then show the converged geometry. Otherwise, show the geometry that is the closest to the convergence criteria.\n",
    "\n",
    "[back](#HOME)"
   ]
  },
  {
   "cell_type": "code",
   "execution_count": null,
   "id": "316e035c",
   "metadata": {},
   "outputs": [],
   "source": [
    "xyz = glog.get_best_opt_geom(xyz_str=True)\n",
    "if glog.success:\n",
    "    print('Converged XYZ:\\n')\n",
    "else:\n",
    "    print('Geometry that is the closest to the convergence criteria:\\n')\n",
    "base_viewer(xyz, 'xyz').update()\n",
    "\n",
    "# XYZ format\n",
    "print(xyz)\n",
    "# Gaussian format\n",
    "# g_xyz = f\"{glog.charge} {glog.multiplicity}\\n\" + \"\\n\".join([l for l in xyz.splitlines()[2:]]) + \"\\n\\n\"\n",
    "# print(g_xyz)"
   ]
  },
  {
   "cell_type": "markdown",
   "id": "23c5bd6c",
   "metadata": {},
   "source": [
    "### 1.2 Convergence analysis\n",
    "\n",
    "Check the trend for each convergence criterion\n",
    "- `logy`: plot the y axis in log scale\n",
    "- `relative`: Plot the relative value to the convergence criteria\n",
    "\n",
    "[back](#HOME)"
   ]
  },
  {
   "cell_type": "code",
   "execution_count": null,
   "id": "c5616f45-2fd4-4b03-8c8d-80f63a8d05ee",
   "metadata": {},
   "outputs": [],
   "source": [
    "glog.plot_opt_convergence(logy=True, relative=True)"
   ]
  },
  {
   "cell_type": "markdown",
   "id": "832284fe",
   "metadata": {},
   "source": [
    "### 1.3 Interact with opt job\n",
    "[back](#HOME)"
   ]
  },
  {
   "cell_type": "code",
   "execution_count": null,
   "id": "18fd8354",
   "metadata": {},
   "outputs": [],
   "source": [
    "glog.interact_opt();"
   ]
  },
  {
   "cell_type": "markdown",
   "id": "de28fbd5",
   "metadata": {},
   "source": [
    "### 1.4 Modify the molecule\n",
    "[back](#HOME)"
   ]
  },
  {
   "cell_type": "code",
   "execution_count": null,
   "id": "7d9daaac",
   "metadata": {},
   "outputs": [],
   "source": [
    "# Get the molecule in the file\n",
    "mol = glog.get_mol(converged=False)"
   ]
  },
  {
   "cell_type": "code",
   "execution_count": null,
   "id": "803f099c",
   "metadata": {},
   "outputs": [],
   "source": [
    "# Choose the conformer you want to edit\n",
    "conf_id = 4\n",
    "\n",
    "conf = mol.GetEditableConformer(conf_id)\n",
    "############  Edit Conformer #########\n",
    "# These numbers correpond to the file \"well-cbsqb3.out\"\n",
    "# Bond\n",
    "conf.SetBondLength([4, 11], 1.8)\n",
    "\n",
    "# Angle\n",
    "conf.SetAngleDeg([3, 4, 11], 100)\n",
    "\n",
    "# Torsion\n",
    "conf.SetTorsionDeg([2, 3, 4, 11], 40)\n",
    "######################################\n",
    "# Visualize\n",
    "mol_viewer(mol, conf_id=conf_id).update()"
   ]
  },
  {
   "cell_type": "markdown",
   "id": "f7c330b7",
   "metadata": {},
   "source": [
    "## 2. Frequency <a id='FREQ'></a>"
   ]
  },
  {
   "cell_type": "markdown",
   "id": "6c6dadce",
   "metadata": {},
   "source": [
    "### 2.1 Summary \n",
    "[back](#HOME)"
   ]
  },
  {
   "cell_type": "code",
   "execution_count": null,
   "id": "5c0cb7af",
   "metadata": {},
   "outputs": [],
   "source": [
    "print(f'Number of freqs: {glog.freqs.shape[0]}')\n",
    "print(f'Number of negative freqs: {glog.num_neg_freqs}')\n",
    "print(f'Negative freqs: {glog.neg_freqs}')"
   ]
  },
  {
   "cell_type": "markdown",
   "id": "60de9185",
   "metadata": {},
   "source": [
    "### 2.2 Interact with freq job\n",
    "\n",
    "- select the frequency you want to visualize\n",
    "- change its number of frames (the smaller the faster the animation is; the higher the more detailed the animation is)\n",
    "- change the amplitude of the mode\n",
    "\n",
    "[back](#HOME)"
   ]
  },
  {
   "cell_type": "code",
   "execution_count": null,
   "id": "d3a0f805",
   "metadata": {},
   "outputs": [],
   "source": [
    "glog.interact_freq();"
   ]
  },
  {
   "cell_type": "markdown",
   "id": "8ca2a221",
   "metadata": {},
   "source": [
    "### 2.3 Guess reaction from the imaginary frequency\n",
    "\n",
    "Guess the reactants and the products from the imaginary frequency mode. This requires the frequency job involves a Transition state molecule. Please be cautious that this method is not very accurate.\n",
    "\n",
    "- `amplitude`: The amplitude factor on the displacement matrix to generate theguess geometry for the reactant and the product. A smaller factor makes the geometry close to the TS, while a wildly large factor makes the geometry nonphysical.\n",
    "- `inverse`: Inverse the sequence of the reactant and the product.\n",
    "\n",
    "There will be messages about SaturateMol, you want to make sure the cell generate `r_mol` and `p_mol` has no failure, while ignore the failure message in the other cell. You may also ignore the SMILES generated for the TS\n",
    "\n",
    "[back](#HOME)"
   ]
  },
  {
   "cell_type": "code",
   "execution_count": null,
   "id": "8bb97755",
   "metadata": {},
   "outputs": [],
   "source": [
    "r_mols, p_mols = glog.guess_rxn_from_normal_mode(amplitude=[0.1, 0.25], atom_weighted=True, inverse=True)\n",
    "print(f'{len(r_mols)} potential reactants and {len(p_mols)} potential products are identified.')"
   ]
  },
  {
   "cell_type": "code",
   "execution_count": null,
   "id": "69782596",
   "metadata": {},
   "outputs": [],
   "source": [
    "#####  INPUT  #####\n",
    "r_idx, p_idx = 0, 0\n",
    "###################\n",
    "\n",
    "assert (r_idx < len(r_mols)) and (p_idx < len(p_mols)), \"invalid index of reactant/product mol provided\"\n",
    "\n",
    "ts = glog.get_mol(embed_conformers=False)\n",
    "r_mol, p_mol = r_mols[r_idx], p_mols[p_idx]\n",
    "\n",
    "print('\\nReactant    TS      Product')\n",
    "\n",
    "reaction_viewer(\n",
    "    r_mol, p_mol, ts,\n",
    "    broken_bond_color='red',\n",
    "    formed_bond_color='green',\n",
    "    broken_bond_width=0.1,\n",
    "    formed_bond_width=0.1,\n",
    "    viewer_size=(800, 100),\n",
    "    atom_index=False,\n",
    ").update()"
   ]
  },
  {
   "cell_type": "markdown",
   "id": "a53baa04",
   "metadata": {},
   "source": [
    "### 2.4 Examine the imaginary frequency\n",
    "\n",
    "Check if the displacement of the imaginary frequency mode corresponds to the bond formation/breaking.\n",
    "\n",
    "- `r_smi`: The atom-labeled smi for the reactant complex.\n",
    "- `p_smi`: The atom-labeled smi for the product complex.\n",
    "- `amplitude`: The amplitude factor on the displacement matrix, usually between 0-1. This analysis is not very sensitive to its value.\n",
    "\n",
    "[back](#HOME)"
   ]
  },
  {
   "cell_type": "code",
   "execution_count": null,
   "id": "32f1777a",
   "metadata": {},
   "outputs": [],
   "source": [
    "# Example based on ts-cbsqb3.output\n",
    "r_smi = '[C:1]([C:2]([C:3](=[C:4]([H:13])[H:14])[H:12])([H:9])[H:10])([H:15])([H:16])[H:17].[O:5]=[C:6]([O:7][H:11])[C:8]([H:18])([H:19])[H:20]'\n",
    "p_smi = '[C:1]([C:2]([C:3]([C:4]([H:13])([H:14])[O:5][C:6](=[O:7])[C:8]([H:18])([H:19])[H:20])([H:11])[H:12])([H:9])[H:10])([H:15])([H:16])[H:17]'\n",
    "amplitude = 0.1"
   ]
  },
  {
   "cell_type": "code",
   "execution_count": null,
   "id": "01b6d150",
   "metadata": {
    "scrolled": true
   },
   "outputs": [],
   "source": [
    "examine_normal_mode(\n",
    "    Mol.FromSmiles(r_smi),\n",
    "    Mol.FromSmiles(p_smi),\n",
    "    ts_xyz=glog.converged_geometries[0],\n",
    "    disp=glog.cclib_results.vibdisps[0],\n",
    "    amplitude=amplitude,\n",
    "    weights=True,\n",
    "    verbose=True,\n",
    "    as_factors=False,\n",
    ")"
   ]
  },
  {
   "cell_type": "markdown",
   "id": "cf6a7f7f",
   "metadata": {},
   "source": [
    "## 3. Scan <a id='SCAN'></a>"
   ]
  },
  {
   "cell_type": "markdown",
   "id": "1faab393",
   "metadata": {},
   "source": [
    "### 3.1 Visualize the scan\n",
    "- `align_scan`: if align the scanned coordinate to make the animaiton cleaner\n",
    "- `align_frag_idx`: in the animation, you will see one part of the molecule fixed while the other part moving. this argument sets which part of the body to move (value should be either 1 or 2).\n",
    "- `atom_index`: whether to show the atom index\n",
    "\n",
    "[back](#HOME)"
   ]
  },
  {
   "cell_type": "code",
   "execution_count": null,
   "id": "2047048d",
   "metadata": {},
   "outputs": [],
   "source": [
    "glog.view_traj(\n",
    "    interval=100,\n",
    "    align_scan=True,\n",
    "    align_frag_idx=1,\n",
    "    backend='openbabel'\n",
    ").update();"
   ]
  },
  {
   "cell_type": "markdown",
   "id": "f140e226",
   "metadata": {},
   "source": [
    "### 3.2 Plot the scan energies"
   ]
  },
  {
   "cell_type": "markdown",
   "id": "58f75501",
   "metadata": {},
   "source": [
    "- `converged`: only plot energies for converged geometries\n",
    "- `relative_x`: plot the x-axis as a relative value (value for initial geom mas the baseline)\n",
    "- `relative_y`: plot the y-axis as a relative value (value for initial geom as the baseline)\n",
    "\n",
    "[back](#HOME)"
   ]
  },
  {
   "cell_type": "code",
   "execution_count": null,
   "id": "6febde0d",
   "metadata": {},
   "outputs": [],
   "source": [
    "glog.plot_scan_energies(converged=True, relative_x=True, relative_y=True);"
   ]
  },
  {
   "cell_type": "markdown",
   "id": "ba5ac0d1",
   "metadata": {},
   "source": [
    "### 3.3 Interact with the scan job\n",
    "\n",
    "[back](#HOME)"
   ]
  },
  {
   "cell_type": "code",
   "execution_count": null,
   "id": "bc8663b5",
   "metadata": {
    "scrolled": false
   },
   "outputs": [],
   "source": [
    "glog.interact_scan(align_scan=True, align_frag_idx=1, backend='xyz2mol');"
   ]
  },
  {
   "cell_type": "markdown",
   "id": "b3280645",
   "metadata": {},
   "source": [
    "## 4. IRC <a id='IRC'></a>"
   ]
  },
  {
   "cell_type": "markdown",
   "id": "ce9ec955",
   "metadata": {},
   "source": [
    "### 4.1 Visualize the IRC\n",
    "- `loop`: the way animation plays (`'backAndForth'`, `'forward'`, `'reverse'`)\n",
    "- `interval`: the time interval between each frame (the smaller the fast the animiation is)\n",
    "\n",
    "Note: you don't need to worry about the comment of `SaturateMol` failure since we are dealing with TS.\n",
    "\n",
    "[back](#HOME)"
   ]
  },
  {
   "cell_type": "code",
   "execution_count": null,
   "id": "3b3bb14a",
   "metadata": {},
   "outputs": [],
   "source": [
    "glog.view_traj(\n",
    "    loop='backAndForth',\n",
    "    interval=1000,\n",
    ").update();"
   ]
  },
  {
   "cell_type": "markdown",
   "id": "c4667386",
   "metadata": {},
   "source": [
    "### 4.2 Plot the IRC energies\n",
    "- `converged`: only display the energies for the converged geometries\n",
    "\n",
    "[back](#HOME)"
   ]
  },
  {
   "cell_type": "code",
   "execution_count": null,
   "id": "357a832f",
   "metadata": {},
   "outputs": [],
   "source": [
    "glog.plot_irc_energies(converged=True);"
   ]
  },
  {
   "cell_type": "markdown",
   "id": "61772124",
   "metadata": {},
   "source": [
    "### 4.3 Interact with the IRC job\n",
    "\n",
    "[back](#HOME)"
   ]
  },
  {
   "cell_type": "code",
   "execution_count": null,
   "id": "15b14fb9",
   "metadata": {},
   "outputs": [],
   "source": [
    "glog.interact_irc();"
   ]
  },
  {
   "cell_type": "markdown",
   "id": "30cce1c2",
   "metadata": {},
   "source": [
    "### 4.4 Guess the reaction\n",
    "\n",
    "Guess the reactants and the products from the IRC results. This requires the IRC job to bidirectional.\n",
    "- `index`: the index of the conformer pair that is the distance from the TS. To use the geometries at both ends of the IRC curve, you can assign it to `0`.\n",
    "- `inverse`: Inverse the sequence of the reactant and the product.\n",
    "\n",
    "There will be messages about SaturateMol, you want to make sure the cell generate `r_mol` and `p_mol` has no failure, while ignore the failure message in the other cell. You may also ignore the SMILES generated for the TS\n",
    "\n",
    "[back](#HOME)"
   ]
  },
  {
   "cell_type": "code",
   "execution_count": null,
   "id": "20e14bec",
   "metadata": {
    "scrolled": true
   },
   "outputs": [],
   "source": [
    "r_mol, p_mol = glog.guess_rxn_from_irc(index=0, inverse=False)"
   ]
  },
  {
   "cell_type": "code",
   "execution_count": null,
   "id": "6d475392",
   "metadata": {},
   "outputs": [],
   "source": [
    "ts = glog.get_mol(embed_conformers=False)\n",
    "\n",
    "print('\\nReactant    TS      Product')\n",
    "\n",
    "reaction_viewer(\n",
    "    r_mol, p_mol, ts,\n",
    "    broken_bond_color='red',\n",
    "    formed_bond_color='green',\n",
    "    broken_bond_width=0.1,\n",
    "    formed_bond_width=0.1,\n",
    "    viewer_size=(800, 100),\n",
    "    atom_index=False,\n",
    ").update()"
   ]
  },
  {
   "cell_type": "code",
   "execution_count": null,
   "id": "9f11b2f9",
   "metadata": {},
   "outputs": [],
   "source": []
  }
 ],
 "metadata": {
  "@webio": {
   "lastCommId": null,
   "lastKernelId": null
  },
  "interpreter": {
   "hash": "f734dd8bb8dba54e055a6b986ac72a1a3509c3dff380149774060d53d7aed57a"
  },
  "kernelspec": {
   "display_name": "Python 3 (ipykernel)",
   "language": "python",
   "name": "python3"
  },
  "language_info": {
   "codemirror_mode": {
    "name": "ipython",
    "version": 3
   },
   "file_extension": ".py",
   "mimetype": "text/x-python",
   "name": "python",
   "nbconvert_exporter": "python",
   "pygments_lexer": "ipython3",
   "version": "3.11.5"
  }
 },
 "nbformat": 4,
 "nbformat_minor": 5
}
