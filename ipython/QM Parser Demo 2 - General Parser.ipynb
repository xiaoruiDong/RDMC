{
 "cells": [
  {
   "cell_type": "markdown",
   "id": "rental-africa",
   "metadata": {},
   "source": [
    "# A Demo of General Parsers for QM jobs"
   ]
  },
  {
   "cell_type": "markdown",
   "id": "traditional-designation",
   "metadata": {},
   "source": [
    "Author: Xiaorui Dong\n",
    "\n",
    "Currently, there are 3 built-in QM parsers for Gaussian, QChem, and ORCA, respectively. However, when encountering other QM software packages, e.g., Molpro, Psi4, Turbomole, a user may try the general parser `CclibLog` for help.\n",
    "\n",
    "Notes:\n",
    "- If you see a warning in an interactive cell indicating you need to install py3dmol while you have already do so, don't worry, the warning message should disappear once you drag the slider or change the selections."
   ]
  },
  {
   "cell_type": "code",
   "execution_count": null,
   "id": "danish-introduction",
   "metadata": {},
   "outputs": [],
   "source": [
    "from rdmc.external.logparser import CclibLog\n",
    "from rdtools.view import base_viewer, mol_viewer\n",
    "\n",
    "%load_ext autoreload\n",
    "%autoreload 2"
   ]
  },
  {
   "cell_type": "markdown",
   "id": "manual-memory",
   "metadata": {},
   "source": [
    "## 1. Load the file"
   ]
  },
  {
   "cell_type": "code",
   "execution_count": null,
   "id": "6f7e30fd",
   "metadata": {},
   "outputs": [],
   "source": [
    "############ EXAMPLES #################\n",
    "# opt\n",
    "log = 'data/psi4-opt.out'\n",
    "# freq\n",
    "# log = 'data/psi4-freq.out'\n",
    "######################################\n",
    "clog = CclibLog(log)\n",
    "print('QM Software:', clog.cclib_results.metadata['package'].lower())\n",
    "print(clog.job_type)"
   ]
  },
  {
   "cell_type": "code",
   "execution_count": null,
   "id": "7a26a702",
   "metadata": {},
   "outputs": [],
   "source": [
    "## Optional\n",
    "# you may also modify the `job_type` to enable analysis of scan or irc, if the job type is parsed wrongly\n",
    "# clog._job_type = ['opt', 'freq', 'scan', 'irc']"
   ]
  },
  {
   "cell_type": "markdown",
   "id": "experienced-moses",
   "metadata": {},
   "source": [
    "## 2. Converged?\n",
    "\n",
    "If the optimization was converged, then show the converged geometry\n"
   ]
  },
  {
   "cell_type": "code",
   "execution_count": null,
   "id": "e69e5075",
   "metadata": {
    "scrolled": false
   },
   "outputs": [],
   "source": [
    "try:\n",
    "    print(f'Optimization done?: {clog.cclib_results.optdone}')\n",
    "except AttributeError:\n",
    "    print('This is not an OPT job')\n",
    "\n",
    "xyz = clog.get_best_opt_geom(xyz_str=True)\n",
    "base_viewer(xyz, 'xyz').update()\n",
    "\n",
    "# XYZ format\n",
    "print('The optimized XYZ:\\n')\n",
    "print(xyz)"
   ]
  },
  {
   "cell_type": "markdown",
   "id": "1104d581",
   "metadata": {},
   "source": [
    "## 3. Convergence analysis\n",
    "\n",
    "Check the trend for each convergence criterion\n",
    "- `logy`: plot the y axis in log scale\n",
    "- `relative`: Plot the relative value to the convergence criteria"
   ]
  },
  {
   "cell_type": "code",
   "execution_count": null,
   "id": "2939075a",
   "metadata": {},
   "outputs": [],
   "source": [
    "clog.plot_opt_convergence(logy=True, relative=True)"
   ]
  },
  {
   "cell_type": "markdown",
   "id": "6c23505c",
   "metadata": {},
   "source": [
    "### 3.1 Interact with opt job"
   ]
  },
  {
   "cell_type": "code",
   "execution_count": null,
   "id": "5a440234",
   "metadata": {
    "scrolled": false
   },
   "outputs": [],
   "source": [
    "clog.interact_opt()"
   ]
  },
  {
   "cell_type": "markdown",
   "id": "balanced-denver",
   "metadata": {},
   "source": [
    "## 4. Frequencies"
   ]
  },
  {
   "cell_type": "code",
   "execution_count": null,
   "id": "abstract-graphic",
   "metadata": {},
   "outputs": [],
   "source": [
    "assert hasattr(clog.cclib_results, 'vibfreqs'), \"Not a frequency job\"\n",
    "print(f'Number of freqs: {clog.freqs.shape[0]}')\n",
    "print(', '.join([str(f) + ' cm^-1' for f in clog.freqs]))\n",
    "print(f'Number of negative freqs: {clog.num_neg_freqs}')\n",
    "print(f'Negative freqs: {clog.neg_freqs}')"
   ]
  },
  {
   "cell_type": "code",
   "execution_count": null,
   "id": "79fad534",
   "metadata": {
    "scrolled": true
   },
   "outputs": [],
   "source": [
    "clog.interact_freq()\n",
    "\n",
    "# According to our test, the cclib has an issue parsing `freq-psi4.out`'s geometries:\n",
    "# AttributeError: 'ccData_optdone_bool' object has no attribute 'atomcoords'\n",
    "# However, this function should work probably for other files"
   ]
  }
 ],
 "metadata": {
  "@webio": {
   "lastCommId": null,
   "lastKernelId": null
  },
  "kernelspec": {
   "display_name": "Python 3 (ipykernel)",
   "language": "python",
   "name": "python3"
  },
  "language_info": {
   "codemirror_mode": {
    "name": "ipython",
    "version": 3
   },
   "file_extension": ".py",
   "mimetype": "text/x-python",
   "name": "python",
   "nbconvert_exporter": "python",
   "pygments_lexer": "ipython3",
   "version": "3.11.8"
  }
 },
 "nbformat": 4,
 "nbformat_minor": 5
}
