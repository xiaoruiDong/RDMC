{
 "cells": [
  {
   "cell_type": "markdown",
   "metadata": {},
   "source": [
    "# Stable species conformer search\n",
    "\n",
    "Leverage ETKDG and GeoMol as 3D geometry embedder for stochastic conformer generation\n",
    "\n",
    "The idea is to have modular methods for each step, which are currently hardcoded. This includes:\n",
    "- initial conformer embedding (ETKDG, GeoMol, Torsional-Diffusion)\n",
    "- optimization/energy (MMFF, UFF, GFN-FF, GFN2-xTB, other semi-empirical in QM software)\n",
    "- pruning (torsion fingerprints, CREGEN)\n",
    "- convergence metrics (conformational entropy/partition function)"
   ]
  },
  {
   "cell_type": "code",
   "execution_count": null,
   "id": "3a45eb9b",
   "metadata": {},
   "outputs": [],
   "source": [
    "from pathlib import Path\n",
    "\n",
    "from rdmc.conformer_generation.embedders import *\n",
    "from rdmc.conformer_generation.optimizers import *\n",
    "from rdmc.conformer_generation.pruners import *\n",
    "from rdmc.conformer_generation.metrics import *\n",
    "from rdmc.conformer_generation.generators import StochasticConformerGenerator\n",
    "from rdmc.conformer_generation.utils import dict_to_mol\n",
    "\n",
    "from rdmc import Mol\n",
    "from rdtools.view import mol_viewer, interactive_conformer_viewer, conformer_viewer\n",
    "\n",
    "T = 298  # K\n",
    "R = 0.0019872  # kcal/(K*mol)\n",
    "HARTREE_TO_KCAL_MOL = 627.503\n",
    "\n",
    "%load_ext autoreload\n",
    "%autoreload 2"
   ]
  },
  {
   "cell_type": "markdown",
   "id": "e0216632",
   "metadata": {},
   "source": [
    "## 1. Test embedder"
   ]
  },
  {
   "cell_type": "markdown",
   "id": "79826cc2",
   "metadata": {},
   "source": [
    "Create the 3D geometry for the molecule specified by the SMILES (`smi`). Currently it has no 3D conformer embedded, therefore the visualization returns a 2D illustration of the molecule"
   ]
  },
  {
   "cell_type": "code",
   "execution_count": null,
   "id": "61a6eb92",
   "metadata": {},
   "outputs": [],
   "source": [
    "smi = \"[C:1]([C@@:2]([O:3][H:12])([C:4]([N:5]([C:6](=[O:7])[H:16])[H:15])([H:13])[H:14])[H:11])([H:8])([H:9])[H:10]\"  # example 1\n",
    "smi = \"CN1C2=C(C=C(C=C2)Cl)C(=NCC1=O)C3=CC=CC=C3\"  # example 2\n",
    "\n",
    "mol_viewer(Mol.FromSmiles(smi))"
   ]
  },
  {
   "cell_type": "markdown",
   "id": "7b022193",
   "metadata": {},
   "source": [
    "### 1.1 ETKDG embedder"
   ]
  },
  {
   "cell_type": "code",
   "execution_count": null,
   "id": "886ca5f8",
   "metadata": {},
   "outputs": [],
   "source": [
    "n_confs = 10  # Number of conformers to create\n",
    "\n",
    "embedder = ETKDGEmbedder()  # Initialize conformer embedder\n",
    "mol = embedder(smi, n_confs)  # Embed molecule 3D geometries with ETKDG"
   ]
  },
  {
   "cell_type": "code",
   "execution_count": null,
   "id": "f8b9af06",
   "metadata": {},
   "outputs": [],
   "source": [
    "visualize_conf_id = 2\n",
    "\n",
    "mol_viewer(mol, conf_id=visualize_conf_id)  # visualize the molecule"
   ]
  },
  {
   "cell_type": "markdown",
   "id": "7424c20e",
   "metadata": {},
   "source": [
    "### 1.2 GeoMol Conformer"
   ]
  },
  {
   "cell_type": "markdown",
   "id": "49022146",
   "metadata": {},
   "source": [
    "You can skip this block if you don't have GeoMol installed. To install GeoMol,\n",
    "```\n",
    "git clone https://github.com/xiaoruiDong/GeoMol  # Clone GeoMol repo\n",
    "cd GeoMol  # Go to the GeoMol repo\n",
    "make  # install select the cuda version if asked\n",
    "pip install -e .  # install geomol\n",
    "```\n",
    "\n",
    "Supported options:\n",
    "- `dataset`: `drug` or `qm9`\n",
    "- `device`: `cpu`, or `cuda` (or specific cuda device like `cuda:0`)"
   ]
  },
  {
   "cell_type": "code",
   "execution_count": null,
   "id": "9431fbc8",
   "metadata": {},
   "outputs": [],
   "source": [
    "n_confs = 10  # Number of conformers to create\n",
    "dataset = \"drugs\"\n",
    "device = \"cuda\"\n",
    "\n",
    "embedder = GeoMolEmbedder(dataset=dataset, track_stats=True, temp_schedule=\"none\", device=device)\n",
    "mol = embedder(smi, n_confs)"
   ]
  },
  {
   "cell_type": "code",
   "execution_count": null,
   "id": "9ac12a75",
   "metadata": {},
   "outputs": [],
   "source": [
    "visualize_conf_id = 2\n",
    "\n",
    "mol_viewer(mol, conf_id=visualize_conf_id)  # visualize the molecule"
   ]
  },
  {
   "cell_type": "markdown",
   "id": "cf852fbd",
   "metadata": {},
   "source": [
    "### 1.3 Torsional-Diffusion Embedder\n"
   ]
  },
  {
   "cell_type": "markdown",
   "id": "a00f0f28",
   "metadata": {},
   "source": [
    "You can skip this block if you don't have Torsional-Diffusion installed. To install it,\n",
    "\n",
    "Clone Xiaorui's fork\n",
    "```\n",
    "git clone https://github.com/xiaoruiDong/torsional-diffusion\n",
    "```\n",
    "and then follow the instruction for installing the environment and downloading the trained models"
   ]
  },
  {
   "cell_type": "code",
   "execution_count": null,
   "id": "38d85e46",
   "metadata": {},
   "outputs": [],
   "source": [
    "n_confs = 10  # Number of conformers to create\n",
    "\n",
    "embedder = TorsionalDiffusionEmbedder(\n",
    "    repo_dir= Path.home() / \"Apps/torsional-diffusion\",  # path to cloned repo\n",
    "    model_dir= Path.home() / \"Apps/torsional-diffusion/workdir/drugs_default\",  # path to downloaded model\n",
    ")\n",
    "\n",
    "mol = embedder(smi, n_confs)"
   ]
  },
  {
   "cell_type": "code",
   "execution_count": null,
   "id": "fd37bd33",
   "metadata": {},
   "outputs": [],
   "source": [
    "visualize_conf_id = 2\n",
    "\n",
    "mol_viewer(mol, conf_id=visualize_conf_id)  # visualize the molecule"
   ]
  },
  {
   "cell_type": "markdown",
   "id": "46be5c44",
   "metadata": {},
   "source": [
    "## 2. Create a conformer generation workflow"
   ]
  },
  {
   "cell_type": "markdown",
   "id": "a35cd583",
   "metadata": {},
   "source": [
    "### 2.1 Choose each components\n",
    "- embedder\n",
    "- optimizer\n",
    "- pruner\n",
    "- metric\n",
    "\n",
    "you can also use default config by providing `config` to the generator. You can open a new cell and use `StochasticConformerGenerator.set_config?` to check what is the default configuration"
   ]
  },
  {
   "cell_type": "code",
   "execution_count": null,
   "id": "92bfdbc4",
   "metadata": {},
   "outputs": [],
   "source": [
    "# Embedder\n",
    "embedder = ETKDGEmbedder(track_stats=True)\n",
    "# if you installed GeoMol, you can uncomment the following line\n",
    "# embedder = GeoMolEmbedder(dataset=\"drugs\", track_stats=True, temp_schedule=\"none\", device=\"cpu\") # Initialize conformer embedder\n",
    "\n",
    "# Optimizer:\n",
    "optimizer = MMFFOptimizer()\n",
    "# if you installed XTB, you can uncomment the following line\n",
    "# optimizer = XTBOptimizer()\n",
    "# if you have Gaussian, Orca, or QChem, you can try the following optimizers\n",
    "# but they can be much slower when using more expansive methods\n",
    "# optimizer = GaussianOptimizer(nprocs=16, memory=32, method=\"PM7\")\n",
    "\n",
    "# Pruner\n",
    "pruner = TorsionPruner(max_chk_threshold=30)\n",
    "\n",
    "# Metric\n",
    "metric = SCGMetric(metric=\"entropy\", window=5, threshold=0.005)"
   ]
  },
  {
   "cell_type": "markdown",
   "id": "0522a7ff",
   "metadata": {},
   "source": [
    "### 2.2 Conformer generation"
   ]
  },
  {
   "cell_type": "code",
   "execution_count": null,
   "id": "9f099b43",
   "metadata": {},
   "outputs": [],
   "source": [
    "smi = \"CN1C2=C(C=C(C=C2)Cl)C(=NCC1=O)C3=CC=CC=C3\"\n",
    "\n",
    "mol_viewer(Mol.FromSmiles(smi))"
   ]
  },
  {
   "cell_type": "code",
   "execution_count": null,
   "id": "e72b2651",
   "metadata": {
    "scrolled": true
   },
   "outputs": [],
   "source": [
    "n_conformers_per_iter = 10\n",
    "min_iters = 1\n",
    "max_iters = 3\n",
    "\n",
    "scg = StochasticConformerGenerator(\n",
    "    smiles=smi,\n",
    "    embedder=embedder,\n",
    "    optimizer=optimizer,\n",
    "    pruner=pruner,\n",
    "    metric=metric,\n",
    "    min_iters=min_iters,\n",
    "    max_iters=max_iters,\n",
    ")\n",
    "\n",
    "unique_mol_data = scg(n_conformers_per_iter)\n",
    "print(\n",
    "    f\"Number of conformers: {len(unique_mol_data)}\\n\"\n",
    "    f\"Metric: {scg.metric.metric_history[-1]:.3e}\"\n",
    ")\n",
    "mol = dict_to_mol(unique_mol_data)"
   ]
  },
  {
   "cell_type": "code",
   "execution_count": null,
   "id": "d9e4925b",
   "metadata": {},
   "outputs": [],
   "source": [
    "from rdkit import Chem\n",
    "\n",
    "Chem.rdMolAlign.AlignMolConformers(\n",
    "    mol, atomIds=[atom.GetIdx() for atom in mol.GetHeavyAtoms()]\n",
    ")  # Align heavy atoms\n",
    "\n",
    "interactive_conformer_viewer(mol)"
   ]
  }
 ],
 "metadata": {
  "kernelspec": {
   "display_name": "GeoMol",
   "language": "python",
   "name": "python3"
  },
  "language_info": {
   "codemirror_mode": {
    "name": "ipython",
    "version": 3
   },
   "file_extension": ".py",
   "mimetype": "text/x-python",
   "name": "python",
   "nbconvert_exporter": "python",
   "pygments_lexer": "ipython3",
   "version": "3.11.8"
  }
 },
 "nbformat": 4,
 "nbformat_minor": 5
}
