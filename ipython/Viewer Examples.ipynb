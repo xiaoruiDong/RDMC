{
 "cells": [
  {
   "cell_type": "markdown",
   "metadata": {},
   "source": [
    "# RDTools viewer examples\n",
    "\n",
    "Author: Xiaorui Dong\n",
    "\n",
    "This is a show case of how you can use the viewers (use py3Dmol and 3Dmol.js as backend) in RDTools to visualize and interact with the RDKit Molecules.\n",
    "\n",
    "A general guidance of how to interact with the viewer:\n",
    "| Movement | Mouse Input |\n",
    "|----------|-------------|\n",
    "| Rotation | Primary Mouse Button |\n",
    "| Translation | Middle Mouse Button or Ctrl+Primary |\n",
    "| Zoom | Scroll Wheel or Second Mouse Button or Shift+Primary |\n",
    "| Slab | Ctrl+Second |"
   ]
  },
  {
   "cell_type": "code",
   "execution_count": null,
   "metadata": {},
   "outputs": [],
   "source": [
    "from rdkit import Chem\n",
    "\n",
    "from rdtools.conversion.smiles import mol_from_smiles\n",
    "from rdtools.view import (\n",
    "    mol_viewer, mol_animation, ts_viewer,\n",
    "    conformer_viewer, conformer_animation, interactive_conformer_viewer,\n",
    "    freq_viewer, merge_xyz_dxdydz,\n",
    "    reaction_viewer,\n",
    "    grid_viewer,\n",
    ")\n",
    "\n",
    "%load_ext autoreload\n",
    "%autoreload 2"
   ]
  },
  {
   "cell_type": "markdown",
   "metadata": {},
   "source": [
    "## 1. Static structure viewer"
   ]
  },
  {
   "cell_type": "markdown",
   "metadata": {},
   "source": [
    "### 1.1 `mol_viewer`\n",
    "`mol_viewer` is used to create a 3D viewer of a single conformer of the molecule. The only mandatory input is the mol object."
   ]
  },
  {
   "cell_type": "markdown",
   "metadata": {},
   "source": [
    "Create a molecule object and embed a few conformers"
   ]
  },
  {
   "cell_type": "code",
   "execution_count": null,
   "metadata": {},
   "outputs": [],
   "source": [
    "smi = \"C[C@H](CCCC(C)C)[C@H]1CC[C@@H]2[C@@]1(CC[C@H]3[C@H]2CC=C4[C@@]3(CC[C@@H](C4)O)C)C\"\n",
    "mol = mol_from_smiles(smi)  # This is similar to Chem.MolFromSmiles(smi) but with more handy options\n",
    "Chem.AllChem.EmbedMultipleConfs(mol, 20);"
   ]
  },
  {
   "cell_type": "markdown",
   "metadata": {},
   "source": [
    "Optional arguments\n",
    "- `conf_id`: provide an integer to inspect other conformers other than the first one (`0` by default)\n",
    "- `viewer_size`: `(400, 400)` by default\n",
    "- `atom_index`: show atom indexes. `True` to persistently show the indexes, `False` to turn it off and only showing the index when hovering the mouse on a specific atom"
   ]
  },
  {
   "cell_type": "code",
   "execution_count": null,
   "metadata": {},
   "outputs": [],
   "source": [
    "mol_viewer(mol, conf_id=10, atom_index=False, viewer_size=(800, 400))"
   ]
  },
  {
   "cell_type": "markdown",
   "metadata": {},
   "source": [
    "### 1.2 `conformer_viewer`\n",
    "\n",
    "`conformer_viewer` is used to create a 3D viewer of multiple conformers of the molecule. You have the freedom to choose whichever conformers to include and whichever conformers to highlight.\n",
    "It is suggested aligning conformers first to have a better visualization effect."
   ]
  },
  {
   "cell_type": "code",
   "execution_count": null,
   "metadata": {},
   "outputs": [],
   "source": [
    "# Align conformers, and only align based on heavy atoms\n",
    "Chem.rdMolAlign.AlignMolConformers(mol, atomIds=[atom.GetIdx() for atom in mol.GetAtoms()])"
   ]
  },
  {
   "cell_type": "markdown",
   "metadata": {},
   "source": [
    "Optional arguments:\n",
    "- `conf_ids`: provide a list of conformer ids to display. When not providing, it will display all of the conformers.\n",
    "- `highlight_ids`: provide a list of conformer ids to indicate which ones to highlight. By default, it will highlight all conformers.\n",
    "- `conf_opacity`: a float number between 0 to 1 to indicate the opacity for conformers that are not highlighted.\n",
    "- `viewer_size`: `(400, 400)` by default\n",
    "- `style_spec`: you can also change style specs. The default is spheres and sticks. To only use sticks, try `{'stick': {'radius': 0.25}}`."
   ]
  },
  {
   "cell_type": "code",
   "execution_count": null,
   "metadata": {},
   "outputs": [],
   "source": [
    "conformer_viewer(\n",
    "    mol,\n",
    "    conf_ids=list(range(10)),  # showing the first 10\n",
    "    highlight_ids=[0],\n",
    "    conf_opacity=0.4,\n",
    "    style_spec={\"stick\": {\"radius\": 0.25}},\n",
    ")"
   ]
  },
  {
   "cell_type": "markdown",
   "metadata": {},
   "source": [
    "### 1.3 `ts_viewer`\n",
    "\n",
    "`ts_viewer` provides a special treatment to the bonds that are formed or broken compared to `mol_viewer`. Here we use a naive H transfer example to illustrate the idea."
   ]
  },
  {
   "cell_type": "code",
   "execution_count": null,
   "metadata": {},
   "outputs": [],
   "source": [
    "from rdtools.conversion import mol_from_xyz\n",
    "\n",
    "xyz = \\\n",
    "    \"\"\"4\n",
    "    \n",
    "    H      2.3 0.0 0.0\n",
    "    C      1.2 0.0 0.0\n",
    "    H     -0.5 0.0 0.0\n",
    "    H     -1.8 0.0 0.0\"\"\"\n",
    "\n",
    "mol = mol_from_xyz(xyz)  # This function creates a molecule object from the xyz"
   ]
  },
  {
   "cell_type": "markdown",
   "metadata": {},
   "source": [
    "Arguments:\n",
    "- mol: The mol has the transition state geometry embedded.\n",
    "- `broken_bonds`: a list of atom pair indexes indicate the broken bonds.\n",
    "- `formed_bonds`: a list of atom pair indexes indicate the formed bonds.\n",
    "\n",
    "You can also change the color and the width of the changing bonds. Besides, you can use the optional arguments that `mol_viewer` uses to further tune the illustration."
   ]
  },
  {
   "cell_type": "code",
   "execution_count": null,
   "metadata": {},
   "outputs": [],
   "source": [
    "ts_viewer(\n",
    "    mol,\n",
    "    conf_id=0,\n",
    "    broken_bonds=[(1, 2)],\n",
    "    formed_bonds=[(2, 3)],\n",
    "    broken_bond_color='red',\n",
    "    formed_bond_color='green',\n",
    "    broken_bond_width=0.05,\n",
    "    formed_bond_width=0.05,\n",
    ")"
   ]
  },
  {
   "cell_type": "markdown",
   "metadata": {},
   "source": [
    "### 1.4 `grid_viewer`\n",
    "\n",
    "You can use grid_viewer to show multiple molecules in a single view."
   ]
  },
  {
   "cell_type": "markdown",
   "metadata": {},
   "source": [
    "Create a list of molecules and embed a conformer for each of the molecule"
   ]
  },
  {
   "cell_type": "code",
   "execution_count": null,
   "metadata": {},
   "outputs": [],
   "source": [
    "smis = [\"C\"+ \"C\" * i + \"O\" for i in range(4)]\n",
    "mols = [mol_from_smiles(smi) for smi in smis]\n",
    "[Chem.AllChem.EmbedMolecule(mol) for mol in mols];"
   ]
  },
  {
   "cell_type": "markdown",
   "metadata": {},
   "source": [
    "Create a grid viewer with four sub-viewers.\n",
    "Arguments:\n",
    "- `viewer_grid`: a tuple to indicate the number of rows and the number of columns.\n",
    "- `viewer_size` (optional): the size of the grid"
   ]
  },
  {
   "cell_type": "code",
   "execution_count": null,
   "metadata": {},
   "outputs": [],
   "source": [
    "grid = grid_viewer(viewer_grid=(1, 4), viewer_size=(1200, 400))"
   ]
  },
  {
   "cell_type": "markdown",
   "metadata": {},
   "source": [
    "Create each sub-viewer with `mol_viewer`. other viewer can be used as well."
   ]
  },
  {
   "cell_type": "code",
   "execution_count": null,
   "metadata": {},
   "outputs": [],
   "source": [
    "for i in range(4):\n",
    "    mol_viewer(mols[i], viewer=grid, viewer_loc=(0, i))\n",
    "grid"
   ]
  },
  {
   "cell_type": "markdown",
   "metadata": {},
   "source": [
    "### 1.5 `reaction_viewer`"
   ]
  },
  {
   "cell_type": "markdown",
   "metadata": {},
   "source": [
    "`reaction_viewer` combines a few viewers we just saw together, so that we can visualize reactant, products, as well as TS (if provided) simultaneously."
   ]
  },
  {
   "cell_type": "code",
   "execution_count": null,
   "metadata": {},
   "outputs": [],
   "source": [
    "from rdtools.conversion import mol_from_xyz  # This function creates a molecule object from the xyz\n",
    "\n",
    "xyz_r = \"3\\n\\nH 1.0 0.0 0.0\\nH -0.25 0.0 0.0\\nH -1.0 0.0 0.0\"\n",
    "xyz_ts = \"3\\n\\nH 1.0 0.0 0.0\\nH 0.0 0.0 0.0\\nH -1.0 0.0 0.0\"\n",
    "xyz_p = \"3\\n\\nH 1.0 0.0 0.0\\nH 0.25 0.0 0.0\\nH -1.0 0.0 0.0\"\n",
    "\n",
    "r_mol, p_mol, ts_mol = map(mol_from_xyz, [xyz_r, xyz_p, xyz_ts])"
   ]
  },
  {
   "cell_type": "markdown",
   "metadata": {},
   "source": [
    "Arguments:\n",
    "- `r_mol`, `p_mol` are required as of the reactant and the product of the molecule\n",
    "- `ts_mol` is optional. If you don't provide `ts_mol`, then only `r_mol` and `p_mol` will be displayed\n",
    "- `alignment`: you can choose to visualize them `horizontal`ly or `vertical`ly.\n",
    "- `linked`: If linked, all molecules will move simultanously. Otherwise, you will just move the current molecule"
   ]
  },
  {
   "cell_type": "code",
   "execution_count": null,
   "metadata": {},
   "outputs": [],
   "source": [
    "reaction_viewer(r_mol, p_mol, ts_mol)"
   ]
  },
  {
   "cell_type": "markdown",
   "metadata": {},
   "source": [
    "## 2. Animation Viewer\n",
    "! If you are using Jupyter inside VS Code, the frame rate of the animation can be less stable "
   ]
  },
  {
   "cell_type": "markdown",
   "metadata": {},
   "source": [
    "### 2.1 `mol_animation`\n",
    "\n",
    "Combine conformation of different molecules and put them into a short animation. \n",
    "\n",
    "Below is the same example of a few alcohol molecules, but now they are shown in a short animation"
   ]
  },
  {
   "cell_type": "code",
   "execution_count": null,
   "metadata": {},
   "outputs": [],
   "source": [
    "smis = [\"C\" + \"C\" * i + \"O\" for i in range(4)]\n",
    "mols = [mol_from_smiles(smi) for smi in smis]\n",
    "[Chem.AllChem.EmbedMolecule(mol) for mol in mols];"
   ]
  },
  {
   "cell_type": "markdown",
   "metadata": {},
   "source": [
    "Arguments: \n",
    "- `mols`: molecules should be passed as a sequence, e.g., a list\n",
    "- `conf_ids`: Optional. if some molecules containing more than one conformer, you may provide a list indicating the conformer id to use for each molecule. It should has the same length as `mols`. Otherwise, just pass `None` to it.\n",
    "- `interval`: Optional. The time molecule stays before showing the next molecules in the unit of ms. Defaults to `1000` (1 second)."
   ]
  },
  {
   "cell_type": "code",
   "execution_count": null,
   "metadata": {},
   "outputs": [],
   "source": [
    "mol_animation(mols, conf_ids=None, interval=1000)"
   ]
  },
  {
   "cell_type": "markdown",
   "metadata": {},
   "source": [
    "### 2.2 `conformer_animation`\n",
    "\n",
    "`conformer_animation` is very similar to `mol_animation` but insteading is showing conformer structures of a single molecule. This can be very useful visualizing results from PES scan or trajectory calculation. We are re-using the cholesterol example as an naive illustration."
   ]
  },
  {
   "cell_type": "code",
   "execution_count": null,
   "metadata": {},
   "outputs": [],
   "source": [
    "smi = \"C[C@H](CCCC(C)C)[C@H]1CC[C@@H]2[C@@]1(CC[C@H]3[C@H]2CC=C4[C@@]3(CC[C@@H](C4)O)C)C\"\n",
    "mol = mol_from_smiles(smi)  # This is similar to Chem.MolFromSmiles(smi) but with more handy options\n",
    "Chem.AllChem.EmbedMultipleConfs(mol, 20);\n",
    "# Align conformers, and only align based on heavy atoms\n",
    "Chem.rdMolAlign.AlignMolConformers(mol, atomIds=[atom.GetIdx() for atom in mol.GetAtoms()])"
   ]
  },
  {
   "cell_type": "markdown",
   "metadata": {},
   "source": [
    "Arguments: \n",
    "- `mol`: Molecule.\n",
    "- `conf_ids`: Optional. You may provide a list indicating the conformer id to use if not using all conformers. It should has the same length as `mols`. Otherwise, just pass `None` to it.\n",
    "- `interval`: Optional. The time molecule stays before showing the next molecules in the unit of ms. Defaults to `1000` (1 second)."
   ]
  },
  {
   "cell_type": "code",
   "execution_count": null,
   "metadata": {},
   "outputs": [],
   "source": [
    "conformer_animation(mol, conf_ids=list(range(20))[::2], interval=1000)"
   ]
  },
  {
   "cell_type": "markdown",
   "metadata": {},
   "source": [
    "### 2.3 `freq_viewer`\n",
    "\n",
    "If you have the vibrational displacement matrix of a molecule, you can also visualize its vibrational motion as well. Currently, it only supports a special xyz format where dx, dy, dz of an atom is attached after the atom position. We provide a helper function (`merge_xyz_dxdydz`) to merge the xyz string with the displacement matrix. The following is a naive example of hydrogen's vibration."
   ]
  },
  {
   "cell_type": "code",
   "execution_count": null,
   "metadata": {},
   "outputs": [],
   "source": [
    "xyz = \\\n",
    "    \"\"\"2\n",
    "    [Geometry 1]\n",
    "    H    0.3720870000   0.0000000000    0.0000000000\n",
    "    H   -0.3720870000   0.0000000000    0.0000000000\"\"\"\n",
    "\n",
    "dxdydz = [\n",
    "    [  0.71,   0.  ,  0.  ,],\n",
    "    [ -0.71,   0.  ,  0.  ,],\n",
    "]\n",
    "xyz_input = merge_xyz_dxdydz(xyz, dxdydz)\n",
    "print(xyz_input)"
   ]
  },
  {
   "cell_type": "markdown",
   "metadata": {},
   "source": [
    "Arguments:\n",
    "- xyz_input: the input similar to the above example\n",
    "- frames (optional): Number of frames to be created. a larger number results in a better animation resolution and a slower motion during display. Defaults to `10`.\n",
    "- amplitude (optional): Controls the magnitude of the motion. Defaults to `1.0`."
   ]
  },
  {
   "cell_type": "code",
   "execution_count": null,
   "metadata": {},
   "outputs": [],
   "source": [
    "freq_viewer(xyz_input, frames=20, amplitude=1.0)"
   ]
  },
  {
   "cell_type": "markdown",
   "metadata": {},
   "source": [
    "## 3. Interactive Viewer\n",
    "The interactive viewer is in between the static viewer and the animation viewer, where the user has the freedom to choose when to stop and continue, when visualizing multiple structures.\n",
    "\n",
    "In order to use interactive viewers, please ensure that `ipywidgets` is installed."
   ]
  },
  {
   "cell_type": "markdown",
   "metadata": {},
   "source": [
    "### 3.1 `interactive_conformer_viewer`"
   ]
  },
  {
   "cell_type": "code",
   "execution_count": null,
   "metadata": {},
   "outputs": [],
   "source": [
    "smi = \"C[C@H](CCCC(C)C)[C@H]1CC[C@@H]2[C@@]1(CC[C@H]3[C@H]2CC=C4[C@@]3(CC[C@@H](C4)O)C)C\"\n",
    "mol = mol_from_smiles(smi)  # This is similar to Chem.MolFromSmiles(smi) but with more handy options\n",
    "Chem.AllChem.EmbedMultipleConfs(mol, 20);\n",
    "# Align conformers, and only align based on heavy atoms\n",
    "Chem.rdMolAlign.AlignMolConformers(mol, atomIds=[atom.GetIdx() for atom in mol.GetAtoms()])"
   ]
  },
  {
   "cell_type": "markdown",
   "metadata": {},
   "source": [
    "Arguments:\n",
    "- `mol`: can be a Mol or a list of molecules. If a list is provided, the first conformer will be displayed.\n",
    "\n",
    "Optional arguments are the same as `mol_viewer`.\n",
    "\n",
    "Don't worry if you got a warning immediately running the following cell. You can move the slider, and the warning should then go away."
   ]
  },
  {
   "cell_type": "code",
   "execution_count": null,
   "metadata": {},
   "outputs": [],
   "source": [
    "interactive_conformer_viewer(mol, atom_index=False, viewer_size=(1000, 400))"
   ]
  }
 ],
 "metadata": {
  "kernelspec": {
   "display_name": "Python 3 (ipykernel)",
   "language": "python",
   "name": "python3"
  },
  "language_info": {
   "codemirror_mode": {
    "name": "ipython",
    "version": 3
   },
   "file_extension": ".py",
   "mimetype": "text/x-python",
   "name": "python",
   "nbconvert_exporter": "python",
   "pygments_lexer": "ipython3",
   "version": "3.11.8"
  }
 },
 "nbformat": 4,
 "nbformat_minor": 2
}
