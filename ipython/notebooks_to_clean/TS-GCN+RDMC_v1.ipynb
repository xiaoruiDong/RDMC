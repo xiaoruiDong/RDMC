{
 "cells": [
  {
   "cell_type": "markdown",
   "metadata": {},
   "source": [
    "# A Demo of using RDKitMol as intermediate to generate TS by ts_gen\n",
    "\n",
    "A demo to show how RDKitMol can connect RMG and GCN to help predict TS geometry. GCN requires a same atom ordering for the reactant and the product, which is seldomly accessible in practice. RDKitMol + RMG provides an opportunity to match reactant and product atom indexes according to RMG reaction family. <br>\n",
    "\n",
    "Some codes are compiled from https://github.com/PattanaikL/ts_gen and https://github.com/kspieks/ts_gen_v2.\n"
   ]
  },
  {
   "cell_type": "code",
   "execution_count": 1,
   "metadata": {},
   "outputs": [],
   "source": [
    "import os\n",
    "import sys\n",
    "import subprocess\n",
    "# To add this RDMC into PYTHONPATH in case you doesn't do it\n",
    "sys.path.append(os.path.dirname(os.path.abspath('')))\n",
    "\n",
    "from rdmc.mol import RDKitMol\n",
    "\n",
    "# import RMG dependencies\n",
    "try:\n",
    "    from rdmc.external.rmg import (from_rdkit_mol,\n",
    "                                   load_rmg_database,\n",
    "                                   generate_product_complex,\n",
    "                                   mm)\n",
    "    # Load RMG database\n",
    "    database = load_rmg_database()\n",
    "except (ImportError, ModuleNotFoundError):\n",
    "    print('You need to install RMG-Py first and run this IPYNB in rmg_env!')\n",
    "\n",
    "%load_ext autoreload\n",
    "%autoreload 2"
   ]
  },
  {
   "cell_type": "markdown",
   "metadata": {},
   "source": [
    "### 1. Input molecule information\n",
    "Perceive xyz and generate RMG molecule\n"
   ]
  },
  {
   "cell_type": "markdown",
   "metadata": {},
   "source": [
    "Example 1: Intra H migration"
   ]
  },
  {
   "cell_type": "code",
   "execution_count": 2,
   "metadata": {},
   "outputs": [],
   "source": [
    "reactant_xyz = \"\"\"C -1.528265  0.117903  -0.48245\n",
    "C -0.214051  0.632333  0.11045\n",
    "C 0.185971  2.010727  -0.392941\n",
    "O 0.428964  2.005838  -1.836634\n",
    "O 1.53499  1.354342  -2.136876\n",
    "H -1.470265  0.057863  -1.571456\n",
    "H -1.761158  -0.879955  -0.103809\n",
    "H -2.364396  0.775879  -0.226557\n",
    "H -0.285989  0.690961  1.202293\n",
    "H 0.605557  -0.056315  -0.113934\n",
    "H -0.613001  2.746243  -0.275209\n",
    "H 1.100271  2.372681  0.080302\"\"\"\n",
    "\n",
    "product_xyz = \"\"\"C 1.765475  -0.57351  -0.068971\n",
    "H 1.474015  -1.391926  -0.715328\n",
    "H 2.791718  -0.529486  0.272883\n",
    "C 0.741534  0.368416  0.460793\n",
    "C -0.510358  0.471107  -0.412585\n",
    "O -1.168692  -0.776861  -0.612765\n",
    "O -1.768685  -1.15259  0.660846\n",
    "H 1.164505  1.37408  0.583524\n",
    "H 0.417329  0.069625  1.470788\n",
    "H -1.221189  1.194071  0.001131\n",
    "H -0.254525  0.771835  -1.433299\n",
    "H -1.297409  -1.977953  0.837367\"\"\""
   ]
  },
  {
   "cell_type": "markdown",
   "metadata": {},
   "source": [
    "Example 2: Intra_R_Add_Endocyclic"
   ]
  },
  {
   "cell_type": "code",
   "execution_count": 13,
   "metadata": {},
   "outputs": [],
   "source": [
    "reactant_xyz = \"\"\"C -1.280629  1.685312  0.071717\n",
    "C -0.442676  0.4472  -0.138756\n",
    "C 0.649852  0.459775  -0.911627\n",
    "C 1.664686  -0.612881  -1.217378\n",
    "O 1.590475  -1.810904  -0.470776\n",
    "C -0.908344  -0.766035  0.616935\n",
    "O -0.479496  -0.70883  2.04303\n",
    "O 0.804383  -0.936239  2.193929\n",
    "H -1.330008  1.940487  1.13602\n",
    "H -0.87426  2.544611  -0.46389\n",
    "H -2.311393  1.527834  -0.265852\n",
    "H 0.884957  1.398914  -1.412655\n",
    "H 2.661334  -0.151824  -1.125202\n",
    "H 1.56564  -0.901818  -2.270488\n",
    "H 1.630132  -1.574551  0.469563\n",
    "H -0.531309  -1.699031  0.2105\n",
    "H -1.994785  -0.790993  0.711395\"\"\"\n",
    "\n",
    "product_xyz = \"\"\"C -1.515438  1.173583  -0.148858\n",
    "C -0.776842  -0.102045  0.027824\n",
    "C 0.680366  -0.300896  -0.240616\n",
    "O 1.080339  -1.344575  0.660508\n",
    "O -0.122211  -2.188293  0.768145\n",
    "C -1.192654  -1.233281  0.917593\n",
    "C -1.377606  -0.848982  2.395301\n",
    "O -0.302953  -0.072705  2.896143\n",
    "H -2.596401  1.013314  -0.200053\n",
    "H -1.327563  1.859316  0.692798\n",
    "H -1.211486  1.693094  -1.062486\n",
    "H 0.888934  -0.598866  -1.280033\n",
    "H 1.294351  0.57113  0.013413\n",
    "H -2.08787  -1.759118  0.559676\n",
    "H -1.514675  -1.774461  2.97179\n",
    "H -2.282313  -0.243469  2.505554\n",
    "H 0.511127  -0.541653  2.673033\"\"\""
   ]
  },
  {
   "cell_type": "markdown",
   "metadata": {},
   "source": [
    "Example3: ketoenol"
   ]
  },
  {
   "cell_type": "code",
   "execution_count": 28,
   "metadata": {},
   "outputs": [],
   "source": [
    "reactant_xyz = \"\"\"O 0.898799  1.722422  0.70012\n",
    "C 0.293754  -0.475947  -0.083092\n",
    "C -1.182804  -0.101736  -0.000207\n",
    "C 1.238805  0.627529  0.330521\n",
    "H 0.527921  -1.348663  0.542462\n",
    "H 0.58037  -0.777872  -1.100185\n",
    "H -1.45745  0.17725  1.018899\n",
    "H -1.813437  -0.937615  -0.310796\n",
    "H -1.404454  0.753989  -0.640868\n",
    "H 2.318497  0.360641  0.272256\"\"\"\n",
    "\n",
    "product_xyz = \"\"\"O 2.136128  0.058786  -0.999372\n",
    "C -1.347448  0.039725  0.510465\n",
    "C 0.116046  -0.220125  0.294405\n",
    "C 0.810093  0.253091  -0.73937\n",
    "H -1.530204  0.552623  1.461378\n",
    "H -1.761309  0.662825  -0.286624\n",
    "H -1.923334  -0.892154  0.536088\n",
    "H 0.627132  -0.833978  1.035748\n",
    "H 0.359144  0.869454  -1.510183\n",
    "H 2.513751  -0.490247  -0.302535\"\"\""
   ]
  },
  {
   "cell_type": "code",
   "execution_count": 29,
   "metadata": {},
   "outputs": [],
   "source": [
    "r_rdkitmol = RDKitMol.FromXYZ(reactant_xyz, backend='pybel', header=False)\n",
    "p_rdkitmol = RDKitMol.FromXYZ(product_xyz, backend='pybel', header=False)\n",
    "reactants = [from_rdkit_mol(r_rdkitmol.ToRWMol())]\n",
    "products = [from_rdkit_mol(p_rdkitmol.ToRWMol())]"
   ]
  },
  {
   "cell_type": "markdown",
   "metadata": {},
   "source": [
    "### [ALTERNATIVE] If you don't have xyzs"
   ]
  },
  {
   "cell_type": "code",
   "execution_count": 27,
   "metadata": {},
   "outputs": [],
   "source": [
    "reactant_smiles = 'CCC(=O)C'\n",
    "product_smiles = 'CC=C(O)C'\n",
    "\n",
    "r_rdkitmol = RDKitMol.FromSmiles(reactant_smiles)\n",
    "p_rdkitmol = RDKitMol.FromSmiles(product_smiles)\n",
    "r_rdkitmol.EmbedConformer()\n",
    "p_rdkitmol.EmbedConformer()\n",
    "reactants = [from_rdkit_mol(r_rdkitmol.ToRWMol())]\n",
    "products = [from_rdkit_mol(p_rdkitmol.ToRWMol())]"
   ]
  },
  {
   "cell_type": "markdown",
   "metadata": {},
   "source": [
    "### 2. Check if this reaction matches RMG templates"
   ]
  },
  {
   "cell_type": "code",
   "execution_count": 30,
   "metadata": {},
   "outputs": [
    {
     "name": "stdout",
     "output_type": "stream",
     "text": [
      "CC=CO <=> CCC=O\n",
      "RMG family: ketoenol\n",
      "Is forward reaction: False\n"
     ]
    }
   ],
   "source": [
    "products_match = generate_product_complex(database,\n",
    "                                          reactants,\n",
    "                                          products)\n",
    "\n",
    "# p_rmg is a product RDKitMol with the same atom order as the reactant\n",
    "p_rmg = RDKitMol.FromRMGMol(products_match)"
   ]
  },
  {
   "cell_type": "markdown",
   "metadata": {},
   "source": [
    "### 4. Find structure match between RMG result and Original molecule"
   ]
  },
  {
   "cell_type": "code",
   "execution_count": null,
   "metadata": {},
   "outputs": [],
   "source": [
    "#### 4.1 "
   ]
  },
  {
   "cell_type": "markdown",
   "metadata": {},
   "source": [
    "Find all possible atom mapping between the reactant and the product."
   ]
  },
  {
   "cell_type": "code",
   "execution_count": 31,
   "metadata": {},
   "outputs": [],
   "source": [
    "matches = p_rmg.GetSubstructMatches(p_rdkitmol, uniquify=False)"
   ]
  },
  {
   "cell_type": "markdown",
   "metadata": {},
   "source": [
    "Find the best atom mapping by RMSD. <br>\n",
    "Note, this can perform relatively poorly if the reactant and the product are in different stereotype (cis/trans). or most rotors are significantly different oriented. However, previous step (match according to RMG reaction) makes sure that all heavy atoms and reacting H atoms are consistent, so only H atoms that are more trivial are influenced by this."
   ]
  },
  {
   "cell_type": "code",
   "execution_count": 32,
   "metadata": {},
   "outputs": [
    {
     "name": "stdout",
     "output_type": "stream",
     "text": [
      "Match index: 2, Reflect Conformation: False, RMSD: 1.248085365833409\n"
     ]
    }
   ],
   "source": [
    "rmsds = []\n",
    "\n",
    "# Make a copy of p_rdkitmol to preserve its original information\n",
    "p_align = p_rdkitmol.Copy()\n",
    "\n",
    "for i, match in enumerate(matches):\n",
    "    atom_map = [(ref, prb) for ref, prb in enumerate(match)]\n",
    "    # Align p_rdkitmol to r_rdkitmol\n",
    "    rmsd, reflect = p_align.GetBestAlign(refMol=r_rdkitmol,\n",
    "                                         atomMap=atom_map,\n",
    "                                         keepBestConformer=False)\n",
    "    rmsds.append((i, reflect, rmsd))\n",
    "\n",
    "best = sorted(rmsds, key=lambda x: x[2])[0]\n",
    "print('Match index: {0}, Reflect Conformation: {1}, RMSD: {2}'.format(*best))"
   ]
  },
  {
   "cell_type": "markdown",
   "metadata": {},
   "source": [
    "Create a product molecule that has matched atom indexes and aligned xyz"
   ]
  },
  {
   "cell_type": "code",
   "execution_count": 19,
   "metadata": {},
   "outputs": [],
   "source": [
    "best_match = matches[best[0]]\n",
    "p_align.AlignMol(refMol=r_rdkitmol,\n",
    "                 atomMap=[(ref, prb) for ref, prb in enumerate(best_match)],\n",
    "                 reflect=best[1])\n",
    "\n",
    "new_order = [best_match.index(i) for i in range(len(best_match))]\n",
    "p_rdkitmol_match = p_align.RenumberAtoms(new_order)"
   ]
  },
  {
   "cell_type": "markdown",
   "metadata": {},
   "source": [
    "### 5. View Molecules"
   ]
  },
  {
   "cell_type": "code",
   "execution_count": 20,
   "metadata": {
    "scrolled": false
   },
   "outputs": [
    {
     "name": "stdout",
     "output_type": "stream",
     "text": [
      "reactant    matched product      original product\n"
     ]
    },
    {
     "data": {
      "application/3dmoljs_load.v0": "<div id=\"3dmolviewer_16092989046965828\"  style=\"position: relative; width: 960px; height: 500px\">\n        <p id=\"3dmolwarning_16092989046965828\" style=\"background-color:#ffcccc;color:black\">You appear to be running in JupyterLab (or JavaScript failed to load for some other reason).  You need to install the 3dmol extension: <br>\n        <tt>jupyter labextension install jupyterlab_3dmol</tt></p>\n        </div>\n<script>\n\nvar loadScriptAsync = function(uri){\n  return new Promise((resolve, reject) => {\n    var tag = document.createElement('script');\n    tag.src = uri;\n    tag.async = true;\n    tag.onload = () => {\n      resolve();\n    };\n  var firstScriptTag = document.getElementsByTagName('script')[0];\n  firstScriptTag.parentNode.insertBefore(tag, firstScriptTag);\n});\n};\n\nif(typeof $3Dmolpromise === 'undefined') {\n$3Dmolpromise = null;\n  $3Dmolpromise = loadScriptAsync('https://3dmol.csb.pitt.edu/build/3Dmol.js');\n}\n\nvar viewer_16092989046965828 = null;\nvar warn = document.getElementById(\"3dmolwarning_16092989046965828\");\nif(warn) {\n    warn.parentNode.removeChild(warn);\n}\n$3Dmolpromise.then(function() {\nvar viewergrid_16092989046965828 = null;\nviewergrid_16092989046965828 = $3Dmol.createViewerGrid($(\"#3dmolviewer_16092989046965828\"),{rows: 1, cols: 3, control_all: false},{backgroundColor:\"white\"});\nviewer_16092989046965828 = viewergrid_16092989046965828[0][0];\n\tviewergrid_16092989046965828[0][0].removeAllModels();\n\tviewergrid_16092989046965828[0][0].addModel(\"\\n     RDKit          3D\\n\\n 17 16  0  0  0  0  0  0  0  0999 V2000\\n   -1.2806    1.6853    0.0717 C   0  0  0  0  0  0  0  0  0  0  0  0\\n   -0.4427    0.4472   -0.1388 C   0  0  0  0  0  0  0  0  0  1  0  0\\n    0.6499    0.4598   -0.9116 C   0  0  0  0  0  0  0  0  0  2  0  0\\n    1.6647   -0.6129   -1.2174 C   0  0  0  0  0  0  0  0  0  3  0  0\\n    1.5905   -1.8109   -0.4708 O   0  0  0  0  0  0  0  0  0  4  0  0\\n   -0.9083   -0.7660    0.6169 C   0  0  0  0  0  0  0  0  0  5  0  0\\n   -0.4795   -0.7088    2.0430 O   0  0  0  0  0  0  0  0  0  6  0  0\\n    0.8044   -0.9362    2.1939 O   0  0  0  0  0  1  0  0  0  7  0  0\\n   -1.3300    1.9405    1.1360 H   0  0  0  0  0  0  0  0  0  8  0  0\\n   -0.8743    2.5446   -0.4639 H   0  0  0  0  0  0  0  0  0  9  0  0\\n   -2.3114    1.5278   -0.2659 H   0  0  0  0  0  0  0  0  0 10  0  0\\n    0.8850    1.3989   -1.4127 H   0  0  0  0  0  0  0  0  0 11  0  0\\n    2.6613   -0.1518   -1.1252 H   0  0  0  0  0  0  0  0  0 12  0  0\\n    1.5656   -0.9018   -2.2705 H   0  0  0  0  0  0  0  0  0 13  0  0\\n    1.6301   -1.5746    0.4696 H   0  0  0  0  0  0  0  0  0 14  0  0\\n   -0.5313   -1.6990    0.2105 H   0  0  0  0  0  0  0  0  0 15  0  0\\n   -1.9948   -0.7910    0.7114 H   0  0  0  0  0  0  0  0  0 16  0  0\\n 14  4  1  0\\n 12  3  1  0\\n  4 13  1  0\\n  4  3  1  0\\n  4  5  1  0\\n  3  2  2  3\\n  5 15  1  0\\n 10  1  1  0\\n 11  1  1  0\\n  2  1  1  0\\n  2  6  1  0\\n  1  9  1  0\\n 16  6  1  0\\n  6 17  1  0\\n  6  7  1  0\\n  7  8  1  0\\nM  RAD  1   8   2\\nM  END\\n\",\"sdf\");\n\tviewergrid_16092989046965828[0][0].setStyle({\"model\": 0},{\"stick\": {}});\n\tviewergrid_16092989046965828[0][0].zoomTo();\n\tviewergrid_16092989046965828[0][1].removeAllModels();\n\tviewergrid_16092989046965828[0][1].addModel(\"\\n     RDKit          3D\\n\\n 17 17  0  0  0  0  0  0  0  0999 V2000\\n   -1.3142    1.2233   -0.6067 C   0  0  0  0  0  0  0  0  0  0  0  0\\n   -0.4270    0.5210    0.3543 C   0  0  0  0  0  3  0  0  0  1  0  0\\n    1.0573    0.3699    0.2192 C   0  0  0  0  0  0  0  0  0  2  0  0\\n    1.5142   -0.3121   -1.0814 C   0  0  0  0  0  0  0  0  0  3  0  0\\n    0.7759   -1.4866   -1.3705 O   0  0  0  0  0  0  0  0  0  4  0  0\\n   -0.8635   -0.5305    1.3233 C   0  0  0  0  0  0  0  0  0  5  0  0\\n    0.2921   -1.3626    1.5069 O   0  0  0  0  0  0  0  0  0  6  0  0\\n    1.4193   -0.4247    1.3672 O   0  0  0  0  0  0  0  0  0  7  0  0\\n   -2.2751    1.4839   -0.1532 H   0  0  0  0  0  0  0  0  0  8  0  0\\n   -0.8598    2.1462   -0.9792 H   0  0  0  0  0  0  0  0  0  9  0  0\\n   -1.5291    0.5899   -1.4823 H   0  0  0  0  0  0  0  0  0 10  0  0\\n    1.6024    1.3142    0.3503 H   0  0  0  0  0  0  0  0  0 11  0  0\\n    2.5903   -0.5182   -0.9963 H   0  0  0  0  0  0  0  0  0 12  0  0\\n    1.3650    0.3697   -1.9241 H   0  0  0  0  0  0  0  0  0 13  0  0\\n    0.7887   -2.0308   -0.5730 H   0  0  0  0  0  0  0  0  0 14  0  0\\n   -1.6502   -1.1860    0.9316 H   0  0  0  0  0  0  0  0  0 15  0  0\\n   -1.1876   -0.1155    2.2904 H   0  0  0  0  0  0  0  0  0 16  0  0\\n 17  6  1  0\\n  9  1  1  0\\n  6 16  1  0\\n  6  2  1  0\\n  6  7  1  0\\n 10  1  1  0\\n  1  2  1  0\\n  1 11  1  0\\n  2  3  1  0\\n 12  3  1  0\\n  7  8  1  0\\n  8  3  1  0\\n  3  4  1  0\\n  4 14  1  0\\n  4  5  1  0\\n  4 13  1  0\\n 15  5  1  0\\nM  RAD  1   2   2\\nM  END\\n\",\"sdf\");\n\tviewergrid_16092989046965828[0][1].setStyle({\"model\": 0},{\"stick\": {}});\n\tviewergrid_16092989046965828[0][1].zoomTo();\n\tviewergrid_16092989046965828[0][2].removeAllModels();\n\tviewergrid_16092989046965828[0][2].addModel(\"\\n     RDKit          3D\\n\\n 17 17  0  0  0  0  0  0  0  0999 V2000\\n   -1.5154    1.1736   -0.1489 C   0  0  0  0  0  0  0  0  0  0  0  0\\n   -0.7768   -0.1020    0.0278 C   0  0  0  0  0  3  0  0  0  1  0  0\\n    0.6804   -0.3009   -0.2406 C   0  0  0  0  0  0  0  0  0  2  0  0\\n    1.0803   -1.3446    0.6605 O   0  0  0  0  0  0  0  0  0  3  0  0\\n   -0.1222   -2.1883    0.7681 O   0  0  0  0  0  0  0  0  0  4  0  0\\n   -1.1927   -1.2333    0.9176 C   0  0  0  0  0  0  0  0  0  5  0  0\\n   -1.3776   -0.8490    2.3953 C   0  0  0  0  0  0  0  0  0  6  0  0\\n   -0.3030   -0.0727    2.8961 O   0  0  0  0  0  0  0  0  0  7  0  0\\n   -2.5964    1.0133   -0.2001 H   0  0  0  0  0  0  0  0  0  8  0  0\\n   -1.3276    1.8593    0.6928 H   0  0  0  0  0  0  0  0  0  9  0  0\\n   -1.2115    1.6931   -1.0625 H   0  0  0  0  0  0  0  0  0 10  0  0\\n    0.8889   -0.5989   -1.2800 H   0  0  0  0  0  0  0  0  0 11  0  0\\n    1.2944    0.5711    0.0134 H   0  0  0  0  0  0  0  0  0 12  0  0\\n   -2.0879   -1.7591    0.5597 H   0  0  0  0  0  0  0  0  0 13  0  0\\n   -1.5147   -1.7745    2.9718 H   0  0  0  0  0  0  0  0  0 14  0  0\\n   -2.2823   -0.2435    2.5056 H   0  0  0  0  0  0  0  0  0 15  0  0\\n    0.5111   -0.5417    2.6730 H   0  0  0  0  0  0  0  0  0 16  0  0\\n 12  3  1  0\\n 11  1  1  0\\n  3 13  1  0\\n  3  2  1  0\\n  3  4  1  0\\n  9  1  1  0\\n  1  2  1  0\\n  1 10  1  0\\n  2  6  1  0\\n 14  6  1  0\\n  4  5  1  0\\n  5  6  1  0\\n  6  7  1  0\\n  7 16  1  0\\n  7  8  1  0\\n  7 15  1  0\\n 17  8  1  0\\nM  RAD  1   2   2\\nM  END\\n\",\"sdf\");\n\tviewergrid_16092989046965828[0][2].setStyle({\"model\": 0},{\"stick\": {}});\n\tviewergrid_16092989046965828[0][2].zoomTo();\n\tviewergrid_16092989046965828[0][0].render();\n\tviewergrid_16092989046965828[0][1].render();\n\tviewergrid_16092989046965828[0][2].render();\nviewergrid_16092989046965828[0][2].render();\nviewergrid_16092989046965828[0][1].render();\nviewergrid_16092989046965828[0][0].render();\n});\n</script>",
      "text/html": [
       "<div id=\"3dmolviewer_16092989046965828\"  style=\"position: relative; width: 960px; height: 500px\">\n",
       "        <p id=\"3dmolwarning_16092989046965828\" style=\"background-color:#ffcccc;color:black\">You appear to be running in JupyterLab (or JavaScript failed to load for some other reason).  You need to install the 3dmol extension: <br>\n",
       "        <tt>jupyter labextension install jupyterlab_3dmol</tt></p>\n",
       "        </div>\n",
       "<script>\n",
       "\n",
       "var loadScriptAsync = function(uri){\n",
       "  return new Promise((resolve, reject) => {\n",
       "    var tag = document.createElement('script');\n",
       "    tag.src = uri;\n",
       "    tag.async = true;\n",
       "    tag.onload = () => {\n",
       "      resolve();\n",
       "    };\n",
       "  var firstScriptTag = document.getElementsByTagName('script')[0];\n",
       "  firstScriptTag.parentNode.insertBefore(tag, firstScriptTag);\n",
       "});\n",
       "};\n",
       "\n",
       "if(typeof $3Dmolpromise === 'undefined') {\n",
       "$3Dmolpromise = null;\n",
       "  $3Dmolpromise = loadScriptAsync('https://3dmol.csb.pitt.edu/build/3Dmol.js');\n",
       "}\n",
       "\n",
       "var viewer_16092989046965828 = null;\n",
       "var warn = document.getElementById(\"3dmolwarning_16092989046965828\");\n",
       "if(warn) {\n",
       "    warn.parentNode.removeChild(warn);\n",
       "}\n",
       "$3Dmolpromise.then(function() {\n",
       "var viewergrid_16092989046965828 = null;\n",
       "viewergrid_16092989046965828 = $3Dmol.createViewerGrid($(\"#3dmolviewer_16092989046965828\"),{rows: 1, cols: 3, control_all: false},{backgroundColor:\"white\"});\n",
       "viewer_16092989046965828 = viewergrid_16092989046965828[0][0];\n",
       "\tviewergrid_16092989046965828[0][0].removeAllModels();\n",
       "\tviewergrid_16092989046965828[0][0].addModel(\"\\n     RDKit          3D\\n\\n 17 16  0  0  0  0  0  0  0  0999 V2000\\n   -1.2806    1.6853    0.0717 C   0  0  0  0  0  0  0  0  0  0  0  0\\n   -0.4427    0.4472   -0.1388 C   0  0  0  0  0  0  0  0  0  1  0  0\\n    0.6499    0.4598   -0.9116 C   0  0  0  0  0  0  0  0  0  2  0  0\\n    1.6647   -0.6129   -1.2174 C   0  0  0  0  0  0  0  0  0  3  0  0\\n    1.5905   -1.8109   -0.4708 O   0  0  0  0  0  0  0  0  0  4  0  0\\n   -0.9083   -0.7660    0.6169 C   0  0  0  0  0  0  0  0  0  5  0  0\\n   -0.4795   -0.7088    2.0430 O   0  0  0  0  0  0  0  0  0  6  0  0\\n    0.8044   -0.9362    2.1939 O   0  0  0  0  0  1  0  0  0  7  0  0\\n   -1.3300    1.9405    1.1360 H   0  0  0  0  0  0  0  0  0  8  0  0\\n   -0.8743    2.5446   -0.4639 H   0  0  0  0  0  0  0  0  0  9  0  0\\n   -2.3114    1.5278   -0.2659 H   0  0  0  0  0  0  0  0  0 10  0  0\\n    0.8850    1.3989   -1.4127 H   0  0  0  0  0  0  0  0  0 11  0  0\\n    2.6613   -0.1518   -1.1252 H   0  0  0  0  0  0  0  0  0 12  0  0\\n    1.5656   -0.9018   -2.2705 H   0  0  0  0  0  0  0  0  0 13  0  0\\n    1.6301   -1.5746    0.4696 H   0  0  0  0  0  0  0  0  0 14  0  0\\n   -0.5313   -1.6990    0.2105 H   0  0  0  0  0  0  0  0  0 15  0  0\\n   -1.9948   -0.7910    0.7114 H   0  0  0  0  0  0  0  0  0 16  0  0\\n 14  4  1  0\\n 12  3  1  0\\n  4 13  1  0\\n  4  3  1  0\\n  4  5  1  0\\n  3  2  2  3\\n  5 15  1  0\\n 10  1  1  0\\n 11  1  1  0\\n  2  1  1  0\\n  2  6  1  0\\n  1  9  1  0\\n 16  6  1  0\\n  6 17  1  0\\n  6  7  1  0\\n  7  8  1  0\\nM  RAD  1   8   2\\nM  END\\n\",\"sdf\");\n",
       "\tviewergrid_16092989046965828[0][0].setStyle({\"model\": 0},{\"stick\": {}});\n",
       "\tviewergrid_16092989046965828[0][0].zoomTo();\n",
       "\tviewergrid_16092989046965828[0][1].removeAllModels();\n",
       "\tviewergrid_16092989046965828[0][1].addModel(\"\\n     RDKit          3D\\n\\n 17 17  0  0  0  0  0  0  0  0999 V2000\\n   -1.3142    1.2233   -0.6067 C   0  0  0  0  0  0  0  0  0  0  0  0\\n   -0.4270    0.5210    0.3543 C   0  0  0  0  0  3  0  0  0  1  0  0\\n    1.0573    0.3699    0.2192 C   0  0  0  0  0  0  0  0  0  2  0  0\\n    1.5142   -0.3121   -1.0814 C   0  0  0  0  0  0  0  0  0  3  0  0\\n    0.7759   -1.4866   -1.3705 O   0  0  0  0  0  0  0  0  0  4  0  0\\n   -0.8635   -0.5305    1.3233 C   0  0  0  0  0  0  0  0  0  5  0  0\\n    0.2921   -1.3626    1.5069 O   0  0  0  0  0  0  0  0  0  6  0  0\\n    1.4193   -0.4247    1.3672 O   0  0  0  0  0  0  0  0  0  7  0  0\\n   -2.2751    1.4839   -0.1532 H   0  0  0  0  0  0  0  0  0  8  0  0\\n   -0.8598    2.1462   -0.9792 H   0  0  0  0  0  0  0  0  0  9  0  0\\n   -1.5291    0.5899   -1.4823 H   0  0  0  0  0  0  0  0  0 10  0  0\\n    1.6024    1.3142    0.3503 H   0  0  0  0  0  0  0  0  0 11  0  0\\n    2.5903   -0.5182   -0.9963 H   0  0  0  0  0  0  0  0  0 12  0  0\\n    1.3650    0.3697   -1.9241 H   0  0  0  0  0  0  0  0  0 13  0  0\\n    0.7887   -2.0308   -0.5730 H   0  0  0  0  0  0  0  0  0 14  0  0\\n   -1.6502   -1.1860    0.9316 H   0  0  0  0  0  0  0  0  0 15  0  0\\n   -1.1876   -0.1155    2.2904 H   0  0  0  0  0  0  0  0  0 16  0  0\\n 17  6  1  0\\n  9  1  1  0\\n  6 16  1  0\\n  6  2  1  0\\n  6  7  1  0\\n 10  1  1  0\\n  1  2  1  0\\n  1 11  1  0\\n  2  3  1  0\\n 12  3  1  0\\n  7  8  1  0\\n  8  3  1  0\\n  3  4  1  0\\n  4 14  1  0\\n  4  5  1  0\\n  4 13  1  0\\n 15  5  1  0\\nM  RAD  1   2   2\\nM  END\\n\",\"sdf\");\n",
       "\tviewergrid_16092989046965828[0][1].setStyle({\"model\": 0},{\"stick\": {}});\n",
       "\tviewergrid_16092989046965828[0][1].zoomTo();\n",
       "\tviewergrid_16092989046965828[0][2].removeAllModels();\n",
       "\tviewergrid_16092989046965828[0][2].addModel(\"\\n     RDKit          3D\\n\\n 17 17  0  0  0  0  0  0  0  0999 V2000\\n   -1.5154    1.1736   -0.1489 C   0  0  0  0  0  0  0  0  0  0  0  0\\n   -0.7768   -0.1020    0.0278 C   0  0  0  0  0  3  0  0  0  1  0  0\\n    0.6804   -0.3009   -0.2406 C   0  0  0  0  0  0  0  0  0  2  0  0\\n    1.0803   -1.3446    0.6605 O   0  0  0  0  0  0  0  0  0  3  0  0\\n   -0.1222   -2.1883    0.7681 O   0  0  0  0  0  0  0  0  0  4  0  0\\n   -1.1927   -1.2333    0.9176 C   0  0  0  0  0  0  0  0  0  5  0  0\\n   -1.3776   -0.8490    2.3953 C   0  0  0  0  0  0  0  0  0  6  0  0\\n   -0.3030   -0.0727    2.8961 O   0  0  0  0  0  0  0  0  0  7  0  0\\n   -2.5964    1.0133   -0.2001 H   0  0  0  0  0  0  0  0  0  8  0  0\\n   -1.3276    1.8593    0.6928 H   0  0  0  0  0  0  0  0  0  9  0  0\\n   -1.2115    1.6931   -1.0625 H   0  0  0  0  0  0  0  0  0 10  0  0\\n    0.8889   -0.5989   -1.2800 H   0  0  0  0  0  0  0  0  0 11  0  0\\n    1.2944    0.5711    0.0134 H   0  0  0  0  0  0  0  0  0 12  0  0\\n   -2.0879   -1.7591    0.5597 H   0  0  0  0  0  0  0  0  0 13  0  0\\n   -1.5147   -1.7745    2.9718 H   0  0  0  0  0  0  0  0  0 14  0  0\\n   -2.2823   -0.2435    2.5056 H   0  0  0  0  0  0  0  0  0 15  0  0\\n    0.5111   -0.5417    2.6730 H   0  0  0  0  0  0  0  0  0 16  0  0\\n 12  3  1  0\\n 11  1  1  0\\n  3 13  1  0\\n  3  2  1  0\\n  3  4  1  0\\n  9  1  1  0\\n  1  2  1  0\\n  1 10  1  0\\n  2  6  1  0\\n 14  6  1  0\\n  4  5  1  0\\n  5  6  1  0\\n  6  7  1  0\\n  7 16  1  0\\n  7  8  1  0\\n  7 15  1  0\\n 17  8  1  0\\nM  RAD  1   2   2\\nM  END\\n\",\"sdf\");\n",
       "\tviewergrid_16092989046965828[0][2].setStyle({\"model\": 0},{\"stick\": {}});\n",
       "\tviewergrid_16092989046965828[0][2].zoomTo();\n",
       "\tviewergrid_16092989046965828[0][0].render();\n",
       "\tviewergrid_16092989046965828[0][1].render();\n",
       "\tviewergrid_16092989046965828[0][2].render();\n",
       "viewergrid_16092989046965828[0][2].render();\n",
       "viewergrid_16092989046965828[0][1].render();\n",
       "viewergrid_16092989046965828[0][0].render();\n",
       "});\n",
       "</script>"
      ]
     },
     "metadata": {},
     "output_type": "display_data"
    },
    {
     "data": {
      "text/plain": [
       "<py3Dmol.view at 0x7ffdb16aa310>"
      ]
     },
     "execution_count": 20,
     "metadata": {},
     "output_type": "execute_result"
    }
   ],
   "source": [
    "import py3Dmol\n",
    "\n",
    "def show_mol(mol, view, grid):\n",
    "    from rdkit import Chem\n",
    "    mb = Chem.MolToMolBlock(mol)\n",
    "    view.removeAllModels(viewer=grid)\n",
    "    view.addModel(mb,'sdf', viewer=grid)\n",
    "    view.setStyle({'model':0},{'stick': {}}, viewer=grid)\n",
    "    view.zoomTo(viewer=grid)\n",
    "    return view\n",
    "\n",
    "view = py3Dmol.view(width=960, height=500, linked=False, viewergrid=(1,3))\n",
    "show_mol(r_rdkitmol.ToRWMol(), view, grid=(0, 0))\n",
    "show_mol(p_rdkitmol_match.ToRWMol(), view, grid=(0, 1))\n",
    "show_mol(p_rdkitmol.ToRWMol(), view, grid=(0, 2))\n",
    "\n",
    "print('reactant    matched product      original product')\n",
    "view.render()"
   ]
  },
  {
   "cell_type": "markdown",
   "metadata": {},
   "source": [
    "### 6. Export to SDF file and run ts_gen"
   ]
  },
  {
   "cell_type": "code",
   "execution_count": 21,
   "metadata": {},
   "outputs": [],
   "source": [
    "r_rdkitmol.ToSDFFile('reactant.sdf')\n",
    "p_rdkitmol_match.ToSDFFile('product.sdf')"
   ]
  },
  {
   "cell_type": "markdown",
   "metadata": {},
   "source": [
    "#### 6.1 TS Gen V2"
   ]
  },
  {
   "cell_type": "code",
   "execution_count": 22,
   "metadata": {},
   "outputs": [],
   "source": [
    "TS_GEN_PYTHON = '~/Apps/anaconda3/envs/ts_gen_v2/bin/python3.7'\n",
    "TS_GEN_DIR = '~/Apps/ts_gen_v2'"
   ]
  },
  {
   "cell_type": "code",
   "execution_count": 23,
   "metadata": {},
   "outputs": [],
   "source": [
    "try:\n",
    "    subprocess.run(f'export PYTHONPATH=$PYTHONPATH:{TS_GEN_DIR};'\n",
    "                   f'{TS_GEN_PYTHON} {TS_GEN_DIR}/inference.py '\n",
    "                   f'--r_sdf_path reactant.sdf '\n",
    "                   f'--p_sdf_path product.sdf '\n",
    "                   f'--ts_xyz_path TS.xyz',\n",
    "                   check=True,\n",
    "                   shell=True)\n",
    "except subprocess.CalledProcessError as e:\n",
    "    print(e)\n",
    "else:\n",
    "    with open('TS.xyz', 'r') as f:\n",
    "        ts_xyz=f.read()\n",
    "    ts_rdkit = RDKitMol.FromXYZ(ts_xyz)"
   ]
  },
  {
   "cell_type": "markdown",
   "metadata": {},
   "source": [
    "### 7. Visualize TS"
   ]
  },
  {
   "cell_type": "code",
   "execution_count": 24,
   "metadata": {},
   "outputs": [
    {
     "name": "stdout",
     "output_type": "stream",
     "text": [
      "reactant    TS      product\n"
     ]
    },
    {
     "data": {
      "application/3dmoljs_load.v0": "<div id=\"3dmolviewer_1609298914377244\"  style=\"position: relative; width: 960px; height: 500px\">\n        <p id=\"3dmolwarning_1609298914377244\" style=\"background-color:#ffcccc;color:black\">You appear to be running in JupyterLab (or JavaScript failed to load for some other reason).  You need to install the 3dmol extension: <br>\n        <tt>jupyter labextension install jupyterlab_3dmol</tt></p>\n        </div>\n<script>\n\nvar loadScriptAsync = function(uri){\n  return new Promise((resolve, reject) => {\n    var tag = document.createElement('script');\n    tag.src = uri;\n    tag.async = true;\n    tag.onload = () => {\n      resolve();\n    };\n  var firstScriptTag = document.getElementsByTagName('script')[0];\n  firstScriptTag.parentNode.insertBefore(tag, firstScriptTag);\n});\n};\n\nif(typeof $3Dmolpromise === 'undefined') {\n$3Dmolpromise = null;\n  $3Dmolpromise = loadScriptAsync('https://3dmol.csb.pitt.edu/build/3Dmol.js');\n}\n\nvar viewer_1609298914377244 = null;\nvar warn = document.getElementById(\"3dmolwarning_1609298914377244\");\nif(warn) {\n    warn.parentNode.removeChild(warn);\n}\n$3Dmolpromise.then(function() {\nvar viewergrid_1609298914377244 = null;\nviewergrid_1609298914377244 = $3Dmol.createViewerGrid($(\"#3dmolviewer_1609298914377244\"),{rows: 1, cols: 3, control_all: false},{backgroundColor:\"white\"});\nviewer_1609298914377244 = viewergrid_1609298914377244[0][0];\n\tviewergrid_1609298914377244[0][0].removeAllModels();\n\tviewergrid_1609298914377244[0][0].addModel(\"\\n     RDKit          3D\\n\\n 17 16  0  0  0  0  0  0  0  0999 V2000\\n   -1.2806    1.6853    0.0717 C   0  0  0  0  0  0  0  0  0  0  0  0\\n   -0.4427    0.4472   -0.1388 C   0  0  0  0  0  0  0  0  0  1  0  0\\n    0.6499    0.4598   -0.9116 C   0  0  0  0  0  0  0  0  0  2  0  0\\n    1.6647   -0.6129   -1.2174 C   0  0  0  0  0  0  0  0  0  3  0  0\\n    1.5905   -1.8109   -0.4708 O   0  0  0  0  0  0  0  0  0  4  0  0\\n   -0.9083   -0.7660    0.6169 C   0  0  0  0  0  0  0  0  0  5  0  0\\n   -0.4795   -0.7088    2.0430 O   0  0  0  0  0  0  0  0  0  6  0  0\\n    0.8044   -0.9362    2.1939 O   0  0  0  0  0  1  0  0  0  7  0  0\\n   -1.3300    1.9405    1.1360 H   0  0  0  0  0  0  0  0  0  8  0  0\\n   -0.8743    2.5446   -0.4639 H   0  0  0  0  0  0  0  0  0  9  0  0\\n   -2.3114    1.5278   -0.2659 H   0  0  0  0  0  0  0  0  0 10  0  0\\n    0.8850    1.3989   -1.4127 H   0  0  0  0  0  0  0  0  0 11  0  0\\n    2.6613   -0.1518   -1.1252 H   0  0  0  0  0  0  0  0  0 12  0  0\\n    1.5656   -0.9018   -2.2705 H   0  0  0  0  0  0  0  0  0 13  0  0\\n    1.6301   -1.5746    0.4696 H   0  0  0  0  0  0  0  0  0 14  0  0\\n   -0.5313   -1.6990    0.2105 H   0  0  0  0  0  0  0  0  0 15  0  0\\n   -1.9948   -0.7910    0.7114 H   0  0  0  0  0  0  0  0  0 16  0  0\\n 14  4  1  0\\n 12  3  1  0\\n  4 13  1  0\\n  4  3  1  0\\n  4  5  1  0\\n  3  2  2  3\\n  5 15  1  0\\n 10  1  1  0\\n 11  1  1  0\\n  2  1  1  0\\n  2  6  1  0\\n  1  9  1  0\\n 16  6  1  0\\n  6 17  1  0\\n  6  7  1  0\\n  7  8  1  0\\nM  RAD  1   8   2\\nM  END\\n\",\"sdf\");\n\tviewergrid_1609298914377244[0][0].setStyle({\"model\": 0},{\"stick\": {}});\n\tviewergrid_1609298914377244[0][0].zoomTo();\n\tviewergrid_1609298914377244[0][1].removeAllModels();\n\tviewergrid_1609298914377244[0][1].addModel(\"\\n     RDKit          3D\\n\\n 17 17  0  0  0  0  0  0  0  0999 V2000\\n   -1.2560    1.5743   -0.1983 C   0  0  0  0  0  0  0  0  0  0  0  0\\n   -0.4352    0.4793    0.2132 C   0  0  0  0  0  3  0  0  0  1  0  0\\n    0.9601    0.3173   -0.1228 C   0  0  0  0  0  0  0  0  0  2  0  0\\n    1.4746   -0.5243   -1.2387 C   0  0  0  0  0  0  0  0  0  3  0  0\\n    1.0547   -1.7882   -1.1723 O   0  0  0  0  0  0  0  0  0  4  0  0\\n   -0.9121   -0.6556    1.0208 C   0  0  0  0  0  0  0  0  0  5  0  0\\n    0.1530   -0.9870    1.8731 O   0  0  0  0  0  0  0  0  0  6  0  0\\n    1.2377   -0.5290    1.3810 O   0  0  0  0  0  0  0  0  0  7  0  0\\n   -1.8294    1.9581    0.5715 H   0  0  0  0  0  0  0  0  0  8  0  0\\n   -0.7734    2.4140   -0.5907 H   0  0  0  0  0  0  0  0  0  9  0  0\\n   -1.9095    1.2500   -0.9192 H   0  0  0  0  0  0  0  0  0 10  0  0\\n    1.5166    1.2667   -0.1374 H   0  0  0  0  0  0  0  0  0 11  0  0\\n    2.5345   -0.4973   -1.2675 H   0  0  0  0  0  0  0  0  0 12  0  0\\n    1.2893   -0.1250   -2.1872 H   0  0  0  0  0  0  0  0  0 13  0  0\\n    1.0970   -2.1036   -0.3339 H   0  0  0  0  0  0  0  0  0 14  0  0\\n   -1.2162   -1.5382    0.5718 H   0  0  0  0  0  0  0  0  0 15  0  0\\n   -1.6871   -0.4606    1.7128 H   0  0  0  0  0  0  0  0  0 16  0  0\\n 12  3  1  0\\n  8  7  1  0\\n  8  3  1  0\\n  7  6  1  0\\n  3  2  1  0\\n  3  4  1  0\\n 13  4  1  0\\n 10  1  1  0\\n  9  1  1  0\\n  2  1  1  0\\n  2  6  1  0\\n  4 14  1  0\\n  4  5  1  0\\n  1 11  1  0\\n 17  6  1  0\\n  6 16  1  0\\n 15  5  1  0\\nM  RAD  1   2   2\\nM  END\\n\",\"sdf\");\n\tviewergrid_1609298914377244[0][1].setStyle({\"model\": 0},{\"stick\": {}});\n\tviewergrid_1609298914377244[0][1].zoomTo();\n\tviewergrid_1609298914377244[0][2].removeAllModels();\n\tviewergrid_1609298914377244[0][2].addModel(\"\\n     RDKit          3D\\n\\n 17 17  0  0  0  0  0  0  0  0999 V2000\\n   -1.3142    1.2233   -0.6067 C   0  0  0  0  0  0  0  0  0  0  0  0\\n   -0.4270    0.5210    0.3543 C   0  0  0  0  0  3  0  0  0  1  0  0\\n    1.0573    0.3699    0.2192 C   0  0  0  0  0  0  0  0  0  2  0  0\\n    1.5142   -0.3121   -1.0814 C   0  0  0  0  0  0  0  0  0  3  0  0\\n    0.7759   -1.4866   -1.3705 O   0  0  0  0  0  0  0  0  0  4  0  0\\n   -0.8635   -0.5305    1.3233 C   0  0  0  0  0  0  0  0  0  5  0  0\\n    0.2921   -1.3626    1.5069 O   0  0  0  0  0  0  0  0  0  6  0  0\\n    1.4193   -0.4247    1.3672 O   0  0  0  0  0  0  0  0  0  7  0  0\\n   -2.2751    1.4839   -0.1532 H   0  0  0  0  0  0  0  0  0  8  0  0\\n   -0.8598    2.1462   -0.9792 H   0  0  0  0  0  0  0  0  0  9  0  0\\n   -1.5291    0.5899   -1.4823 H   0  0  0  0  0  0  0  0  0 10  0  0\\n    1.6024    1.3142    0.3503 H   0  0  0  0  0  0  0  0  0 11  0  0\\n    2.5903   -0.5182   -0.9963 H   0  0  0  0  0  0  0  0  0 12  0  0\\n    1.3650    0.3697   -1.9241 H   0  0  0  0  0  0  0  0  0 13  0  0\\n    0.7887   -2.0308   -0.5730 H   0  0  0  0  0  0  0  0  0 14  0  0\\n   -1.6502   -1.1860    0.9316 H   0  0  0  0  0  0  0  0  0 15  0  0\\n   -1.1876   -0.1155    2.2904 H   0  0  0  0  0  0  0  0  0 16  0  0\\n 17  6  1  0\\n  9  1  1  0\\n  6 16  1  0\\n  6  2  1  0\\n  6  7  1  0\\n 10  1  1  0\\n  1  2  1  0\\n  1 11  1  0\\n  2  3  1  0\\n 12  3  1  0\\n  7  8  1  0\\n  8  3  1  0\\n  3  4  1  0\\n  4 14  1  0\\n  4  5  1  0\\n  4 13  1  0\\n 15  5  1  0\\nM  RAD  1   2   2\\nM  END\\n\",\"sdf\");\n\tviewergrid_1609298914377244[0][2].setStyle({\"model\": 0},{\"stick\": {}});\n\tviewergrid_1609298914377244[0][2].zoomTo();\n\tviewergrid_1609298914377244[0][0].render();\n\tviewergrid_1609298914377244[0][1].render();\n\tviewergrid_1609298914377244[0][2].render();\nviewergrid_1609298914377244[0][2].render();\nviewergrid_1609298914377244[0][1].render();\nviewergrid_1609298914377244[0][0].render();\n});\n</script>",
      "text/html": [
       "<div id=\"3dmolviewer_1609298914377244\"  style=\"position: relative; width: 960px; height: 500px\">\n",
       "        <p id=\"3dmolwarning_1609298914377244\" style=\"background-color:#ffcccc;color:black\">You appear to be running in JupyterLab (or JavaScript failed to load for some other reason).  You need to install the 3dmol extension: <br>\n",
       "        <tt>jupyter labextension install jupyterlab_3dmol</tt></p>\n",
       "        </div>\n",
       "<script>\n",
       "\n",
       "var loadScriptAsync = function(uri){\n",
       "  return new Promise((resolve, reject) => {\n",
       "    var tag = document.createElement('script');\n",
       "    tag.src = uri;\n",
       "    tag.async = true;\n",
       "    tag.onload = () => {\n",
       "      resolve();\n",
       "    };\n",
       "  var firstScriptTag = document.getElementsByTagName('script')[0];\n",
       "  firstScriptTag.parentNode.insertBefore(tag, firstScriptTag);\n",
       "});\n",
       "};\n",
       "\n",
       "if(typeof $3Dmolpromise === 'undefined') {\n",
       "$3Dmolpromise = null;\n",
       "  $3Dmolpromise = loadScriptAsync('https://3dmol.csb.pitt.edu/build/3Dmol.js');\n",
       "}\n",
       "\n",
       "var viewer_1609298914377244 = null;\n",
       "var warn = document.getElementById(\"3dmolwarning_1609298914377244\");\n",
       "if(warn) {\n",
       "    warn.parentNode.removeChild(warn);\n",
       "}\n",
       "$3Dmolpromise.then(function() {\n",
       "var viewergrid_1609298914377244 = null;\n",
       "viewergrid_1609298914377244 = $3Dmol.createViewerGrid($(\"#3dmolviewer_1609298914377244\"),{rows: 1, cols: 3, control_all: false},{backgroundColor:\"white\"});\n",
       "viewer_1609298914377244 = viewergrid_1609298914377244[0][0];\n",
       "\tviewergrid_1609298914377244[0][0].removeAllModels();\n",
       "\tviewergrid_1609298914377244[0][0].addModel(\"\\n     RDKit          3D\\n\\n 17 16  0  0  0  0  0  0  0  0999 V2000\\n   -1.2806    1.6853    0.0717 C   0  0  0  0  0  0  0  0  0  0  0  0\\n   -0.4427    0.4472   -0.1388 C   0  0  0  0  0  0  0  0  0  1  0  0\\n    0.6499    0.4598   -0.9116 C   0  0  0  0  0  0  0  0  0  2  0  0\\n    1.6647   -0.6129   -1.2174 C   0  0  0  0  0  0  0  0  0  3  0  0\\n    1.5905   -1.8109   -0.4708 O   0  0  0  0  0  0  0  0  0  4  0  0\\n   -0.9083   -0.7660    0.6169 C   0  0  0  0  0  0  0  0  0  5  0  0\\n   -0.4795   -0.7088    2.0430 O   0  0  0  0  0  0  0  0  0  6  0  0\\n    0.8044   -0.9362    2.1939 O   0  0  0  0  0  1  0  0  0  7  0  0\\n   -1.3300    1.9405    1.1360 H   0  0  0  0  0  0  0  0  0  8  0  0\\n   -0.8743    2.5446   -0.4639 H   0  0  0  0  0  0  0  0  0  9  0  0\\n   -2.3114    1.5278   -0.2659 H   0  0  0  0  0  0  0  0  0 10  0  0\\n    0.8850    1.3989   -1.4127 H   0  0  0  0  0  0  0  0  0 11  0  0\\n    2.6613   -0.1518   -1.1252 H   0  0  0  0  0  0  0  0  0 12  0  0\\n    1.5656   -0.9018   -2.2705 H   0  0  0  0  0  0  0  0  0 13  0  0\\n    1.6301   -1.5746    0.4696 H   0  0  0  0  0  0  0  0  0 14  0  0\\n   -0.5313   -1.6990    0.2105 H   0  0  0  0  0  0  0  0  0 15  0  0\\n   -1.9948   -0.7910    0.7114 H   0  0  0  0  0  0  0  0  0 16  0  0\\n 14  4  1  0\\n 12  3  1  0\\n  4 13  1  0\\n  4  3  1  0\\n  4  5  1  0\\n  3  2  2  3\\n  5 15  1  0\\n 10  1  1  0\\n 11  1  1  0\\n  2  1  1  0\\n  2  6  1  0\\n  1  9  1  0\\n 16  6  1  0\\n  6 17  1  0\\n  6  7  1  0\\n  7  8  1  0\\nM  RAD  1   8   2\\nM  END\\n\",\"sdf\");\n",
       "\tviewergrid_1609298914377244[0][0].setStyle({\"model\": 0},{\"stick\": {}});\n",
       "\tviewergrid_1609298914377244[0][0].zoomTo();\n",
       "\tviewergrid_1609298914377244[0][1].removeAllModels();\n",
       "\tviewergrid_1609298914377244[0][1].addModel(\"\\n     RDKit          3D\\n\\n 17 17  0  0  0  0  0  0  0  0999 V2000\\n   -1.2560    1.5743   -0.1983 C   0  0  0  0  0  0  0  0  0  0  0  0\\n   -0.4352    0.4793    0.2132 C   0  0  0  0  0  3  0  0  0  1  0  0\\n    0.9601    0.3173   -0.1228 C   0  0  0  0  0  0  0  0  0  2  0  0\\n    1.4746   -0.5243   -1.2387 C   0  0  0  0  0  0  0  0  0  3  0  0\\n    1.0547   -1.7882   -1.1723 O   0  0  0  0  0  0  0  0  0  4  0  0\\n   -0.9121   -0.6556    1.0208 C   0  0  0  0  0  0  0  0  0  5  0  0\\n    0.1530   -0.9870    1.8731 O   0  0  0  0  0  0  0  0  0  6  0  0\\n    1.2377   -0.5290    1.3810 O   0  0  0  0  0  0  0  0  0  7  0  0\\n   -1.8294    1.9581    0.5715 H   0  0  0  0  0  0  0  0  0  8  0  0\\n   -0.7734    2.4140   -0.5907 H   0  0  0  0  0  0  0  0  0  9  0  0\\n   -1.9095    1.2500   -0.9192 H   0  0  0  0  0  0  0  0  0 10  0  0\\n    1.5166    1.2667   -0.1374 H   0  0  0  0  0  0  0  0  0 11  0  0\\n    2.5345   -0.4973   -1.2675 H   0  0  0  0  0  0  0  0  0 12  0  0\\n    1.2893   -0.1250   -2.1872 H   0  0  0  0  0  0  0  0  0 13  0  0\\n    1.0970   -2.1036   -0.3339 H   0  0  0  0  0  0  0  0  0 14  0  0\\n   -1.2162   -1.5382    0.5718 H   0  0  0  0  0  0  0  0  0 15  0  0\\n   -1.6871   -0.4606    1.7128 H   0  0  0  0  0  0  0  0  0 16  0  0\\n 12  3  1  0\\n  8  7  1  0\\n  8  3  1  0\\n  7  6  1  0\\n  3  2  1  0\\n  3  4  1  0\\n 13  4  1  0\\n 10  1  1  0\\n  9  1  1  0\\n  2  1  1  0\\n  2  6  1  0\\n  4 14  1  0\\n  4  5  1  0\\n  1 11  1  0\\n 17  6  1  0\\n  6 16  1  0\\n 15  5  1  0\\nM  RAD  1   2   2\\nM  END\\n\",\"sdf\");\n",
       "\tviewergrid_1609298914377244[0][1].setStyle({\"model\": 0},{\"stick\": {}});\n",
       "\tviewergrid_1609298914377244[0][1].zoomTo();\n",
       "\tviewergrid_1609298914377244[0][2].removeAllModels();\n",
       "\tviewergrid_1609298914377244[0][2].addModel(\"\\n     RDKit          3D\\n\\n 17 17  0  0  0  0  0  0  0  0999 V2000\\n   -1.3142    1.2233   -0.6067 C   0  0  0  0  0  0  0  0  0  0  0  0\\n   -0.4270    0.5210    0.3543 C   0  0  0  0  0  3  0  0  0  1  0  0\\n    1.0573    0.3699    0.2192 C   0  0  0  0  0  0  0  0  0  2  0  0\\n    1.5142   -0.3121   -1.0814 C   0  0  0  0  0  0  0  0  0  3  0  0\\n    0.7759   -1.4866   -1.3705 O   0  0  0  0  0  0  0  0  0  4  0  0\\n   -0.8635   -0.5305    1.3233 C   0  0  0  0  0  0  0  0  0  5  0  0\\n    0.2921   -1.3626    1.5069 O   0  0  0  0  0  0  0  0  0  6  0  0\\n    1.4193   -0.4247    1.3672 O   0  0  0  0  0  0  0  0  0  7  0  0\\n   -2.2751    1.4839   -0.1532 H   0  0  0  0  0  0  0  0  0  8  0  0\\n   -0.8598    2.1462   -0.9792 H   0  0  0  0  0  0  0  0  0  9  0  0\\n   -1.5291    0.5899   -1.4823 H   0  0  0  0  0  0  0  0  0 10  0  0\\n    1.6024    1.3142    0.3503 H   0  0  0  0  0  0  0  0  0 11  0  0\\n    2.5903   -0.5182   -0.9963 H   0  0  0  0  0  0  0  0  0 12  0  0\\n    1.3650    0.3697   -1.9241 H   0  0  0  0  0  0  0  0  0 13  0  0\\n    0.7887   -2.0308   -0.5730 H   0  0  0  0  0  0  0  0  0 14  0  0\\n   -1.6502   -1.1860    0.9316 H   0  0  0  0  0  0  0  0  0 15  0  0\\n   -1.1876   -0.1155    2.2904 H   0  0  0  0  0  0  0  0  0 16  0  0\\n 17  6  1  0\\n  9  1  1  0\\n  6 16  1  0\\n  6  2  1  0\\n  6  7  1  0\\n 10  1  1  0\\n  1  2  1  0\\n  1 11  1  0\\n  2  3  1  0\\n 12  3  1  0\\n  7  8  1  0\\n  8  3  1  0\\n  3  4  1  0\\n  4 14  1  0\\n  4  5  1  0\\n  4 13  1  0\\n 15  5  1  0\\nM  RAD  1   2   2\\nM  END\\n\",\"sdf\");\n",
       "\tviewergrid_1609298914377244[0][2].setStyle({\"model\": 0},{\"stick\": {}});\n",
       "\tviewergrid_1609298914377244[0][2].zoomTo();\n",
       "\tviewergrid_1609298914377244[0][0].render();\n",
       "\tviewergrid_1609298914377244[0][1].render();\n",
       "\tviewergrid_1609298914377244[0][2].render();\n",
       "viewergrid_1609298914377244[0][2].render();\n",
       "viewergrid_1609298914377244[0][1].render();\n",
       "viewergrid_1609298914377244[0][0].render();\n",
       "});\n",
       "</script>"
      ]
     },
     "metadata": {},
     "output_type": "display_data"
    },
    {
     "data": {
      "text/plain": [
       "<py3Dmol.view at 0x7ffdb1643390>"
      ]
     },
     "execution_count": 24,
     "metadata": {},
     "output_type": "execute_result"
    }
   ],
   "source": [
    "import py3Dmol\n",
    "\n",
    "# Align the TS to make visualization more convenient\n",
    "atom_map = [(i, i) for i in range(r_rdkitmol.GetNumAtoms())]\n",
    "rmsd1 = ts_rdkit.AlignMol(r_rdkitmol,\n",
    "                          atomMap=atom_map)\n",
    "rmsd2 = ts_rdkit.AlignMol(r_rdkitmol,\n",
    "                          atomMap=atom_map,\n",
    "                          reflect=True)\n",
    "if rmsd1 < rmsd2:\n",
    "    ts_rdkit.AlignMol(r_rdkitmol,\n",
    "                      atomMap=atom_map,\n",
    "                      reflect=True,\n",
    "                      maxIters=1)\n",
    "\n",
    "view = py3Dmol.view(width=960, height=500, linked=False, viewergrid=(1,3))\n",
    "show_mol(r_rdkitmol.ToRWMol(), view, grid=(0, 0))\n",
    "show_mol(ts_rdkit.ToRWMol(), view, grid=(0, 1))\n",
    "show_mol(p_rdkitmol_match.ToRWMol(), view, grid=(0, 2))\n",
    "\n",
    "print('reactant    TS      product')\n",
    "view.render()"
   ]
  },
  {
   "cell_type": "code",
   "execution_count": null,
   "metadata": {},
   "outputs": [],
   "source": []
  }
 ],
 "metadata": {
  "@webio": {
   "lastCommId": null,
   "lastKernelId": null
  },
  "kernelspec": {
   "display_name": "Python 3.7.6 64-bit ('arc_env': conda)",
   "language": "python",
   "name": "python37664bitarcenvconda83c4abf9215d4a698ce68e2a44e6e6bc"
  },
  "language_info": {
   "codemirror_mode": {
    "name": "ipython",
    "version": 3
   },
   "file_extension": ".py",
   "mimetype": "text/x-python",
   "name": "python",
   "nbconvert_exporter": "python",
   "pygments_lexer": "ipython3",
   "version": "3.7.7"
  }
 },
 "nbformat": 4,
 "nbformat_minor": 2
}
