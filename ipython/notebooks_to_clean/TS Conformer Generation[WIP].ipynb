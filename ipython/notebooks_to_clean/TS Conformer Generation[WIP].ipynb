{
 "cells": [
  {
   "cell_type": "markdown",
   "metadata": {},
   "source": [
    "# Find TS conformers\n",
    "This uses a RDkit as backend to generate the TS conformers and calculate the energy by Psi4.\n",
    "\n",
    "Note: if the jupyter notebook crashes. It is highly possible that the `openbabel` and `rdkit` <br>\n",
    "uses different dependencies during compiling, assuming you are using conda builds.<br>\n",
    "You can either try to build your own version (solve the problem) or change the import sequence<br>\n",
    "(can make the latter one malfunctioning when use some of the methods)<br>"
   ]
  },
  {
   "cell_type": "markdown",
   "metadata": {},
   "source": [
    "## 1. Generate conformers\n",
    "Necessary packages"
   ]
  },
  {
   "cell_type": "code",
   "execution_count": null,
   "metadata": {},
   "outputs": [],
   "source": [
    "from typing import Optional, Union\n",
    "import os\n",
    "import sys\n",
    "# To add this RDMC into PYTHONPATH in case you haven't do it\n",
    "sys.path.append(os.path.dirname(os.path.abspath('')))\n",
    "from itertools import combinations, product\n",
    "from collections.abc import Iterable\n",
    "\n",
    "import numpy as np\n",
    "\n",
    "from rdkit import Chem\n",
    "from rdmc import RDKitMol\n",
    "from rdmc.ts import get_all_changing_bonds\n",
    "from rdmc.view import mol_viewer, grid_viewer\n",
    "from rdmc.external.gaussian import GaussianLog\n",
    "\n",
    "%load_ext autoreload\n",
    "%autoreload 2\n"
   ]
  },
  {
   "cell_type": "code",
   "execution_count": null,
   "metadata": {
    "scrolled": false
   },
   "outputs": [],
   "source": [
    "def gen_scan_angle_list(samplings: Union[list, tuple],\n",
    "                        from_angles: Optional[Iterable] = None,\n",
    "                        scale=360.,):\n",
    "    \"\"\"\n",
    "    Get a angle list for each input dimension. For each dimension\n",
    "    The input can be a int, indicating the angles will be evenly sampled;\n",
    "    Or a list, indicate the angles to be sampled;\n",
    "    Examples:\n",
    "    [[120, 240,], 4, 0] => [np.array([120, 240,]),\n",
    "                            np.array([0, 90, 180, 270,]),\n",
    "                            np.array([0])]\n",
    "    List of np.arrays are returned for the sake of further calculation\n",
    "\n",
    "    Args:\n",
    "        samplings (Union[list, tuple]): An array of sampling information.\n",
    "                  For each element, it can be either list or int.\n",
    "        from_angles (Union[list, tuple]): An array of initial angles.\n",
    "                    If not set, angles will begin at zeros.\n",
    "\n",
    "    Returns:\n",
    "        list: A list of sampled angles sets.\n",
    "    \"\"\"\n",
    "    from_angles = from_angles or len(samplings) * [0.]\n",
    "    angle_list = []\n",
    "    for ind, angles in enumerate(samplings):\n",
    "        # Only provide a number\n",
    "        # This is the step number of the angles\n",
    "        if isinstance(angles, (int, float)):\n",
    "            try:\n",
    "                step = scale // angles\n",
    "            except ZeroDivisionError:\n",
    "                # Does not change\n",
    "                angles = from_angles[ind] + np.array([0])\n",
    "            else:\n",
    "                angles = from_angles[ind] + \\\n",
    "                         np.array([step * i for i in range(angles)])\n",
    "        elif isinstance(angles, Iterable):\n",
    "            angles = from_angles[ind] + np.array(angles)\n",
    "\n",
    "        # Set to angles to be within 0 - scale\n",
    "        for i in range(angles.shape[0]):\n",
    "            while angles[i] < 0.:\n",
    "                angles[i] += scale\n",
    "            while angles[i] > scale:\n",
    "                angles[i] -= scale\n",
    "\n",
    "        angle_list.append(angles.tolist())\n",
    "    return angle_list\n",
    "\n",
    "\n",
    "def conformers_by_change_torsions(conf: 'RDKitConf',\n",
    "                                  angle_mesh,\n",
    "                                  bookkeep: dict,\n",
    "                                  torsions=None,\n",
    "                                  on_the_fly_check=False):\n",
    "    \"\"\"\n",
    "    Generate conformers by rotating the angles of the torsions. The result will be saved into\n",
    "    ``bookkeep``. A on-the-fly check can be applied, which identifies the conformers with colliding\n",
    "    atoms.\n",
    "\n",
    "    Args:\n",
    "        conf (RDkitConf): A RDKit Conformer to be used.\n",
    "        angle_mesh (iterable): An iterable contains the angle_list for conformers to be generated from.\n",
    "        bookkeep (dict): A dictionary to save the coords.\n",
    "        torsions (list): A list of four-atom-index lists indicating the torsional modes.\n",
    "        on_the_fly_filter (bool): Whether to check colliding atoms on the fly.\n",
    "    \"\"\"\n",
    "    if not torsions:\n",
    "        torsions = conf.GetTorsionalModes()\n",
    "        for ind, angles in enumerate(angle_mesh):\n",
    "            conf.SetAllTorsionsDeg(angles)\n",
    "            bookkeep[ind] = {'angles': angles,\n",
    "                             'coords': conf.GetPositions().tolist()}\n",
    "            bookkeep[ind]['colliding_atoms'] = conf.HasCollidingAtoms() \\\n",
    "                if on_the_fly_check == True else None\n",
    "\n",
    "    else:\n",
    "        all_torsions = conf.GetTorsionalModes()\n",
    "        try:\n",
    "            changing_torsions_index = [all_torsions.index(tor) for tor in torsions]\n",
    "        except ValueError as e:\n",
    "            # tor not in all_torsions\n",
    "            raise\n",
    "\n",
    "        original_angles = conf.GetAllTorsionsDeg()\n",
    "\n",
    "        for ind, angles in enumerate(angle_mesh):\n",
    "            for i, angle, tor in zip(range(len(angles)), angles, torsions):\n",
    "                conf.SetTorsionDeg(tor, angle)\n",
    "                original_angles[changing_torsions_index[i]] = angle\n",
    "\n",
    "            bookkeep[ind] = {'angles': original_angles,\n",
    "                             'coords': conf.GetPositions().tolist()}\n",
    "            bookkeep[ind]['colliding_atoms'] = conf.HasCollidingAtoms() \\\n",
    "                    if on_the_fly_check == True else None"
   ]
  },
  {
   "cell_type": "markdown",
   "metadata": {},
   "source": [
    "## Arguments"
   ]
  },
  {
   "cell_type": "code",
   "execution_count": null,
   "metadata": {},
   "outputs": [],
   "source": [
    "VISUAL_MOLECULE = True"
   ]
  },
  {
   "cell_type": "markdown",
   "metadata": {},
   "source": [
    "## 1.1 Perceive TS"
   ]
  },
  {
   "cell_type": "markdown",
   "metadata": {},
   "source": [
    "### 1.1.1 Directly input the TS conformer geometry [WIP]"
   ]
  },
  {
   "cell_type": "markdown",
   "metadata": {},
   "source": [
    "Directly input the geometry of the TS. You need to also provide the atom-mapped reactants and products to help analyze the bonding situation"
   ]
  },
  {
   "cell_type": "code",
   "execution_count": null,
   "metadata": {},
   "outputs": [],
   "source": [
    "############## INPUT  ##################\n",
    "xyz_str = \"\"\"C     -3.513463   -0.214965   -0.355384\n",
    "C     -2.054689   -0.689928   -0.311191\n",
    "C     -1.171525    0.126171    0.627947\n",
    "C     -0.583913    1.322614    0.186349\n",
    "O      1.375372    1.065851   -0.208339\n",
    "C      1.838730   -0.086320    0.026443\n",
    "O      1.196280   -1.003171    0.628779\n",
    "C      3.238549   -0.405117   -0.451715\n",
    "H     -1.626384   -0.657815   -1.319769\n",
    "H     -2.027644   -1.742210   -0.009143\n",
    "H     -0.038732   -0.513987    0.715911\n",
    "H     -1.472457    0.124541    1.677775\n",
    "H     -0.676687    1.649585   -0.842428\n",
    "H     -0.306660    2.098582    0.887087\n",
    "H     -3.582321    0.818358   -0.709252\n",
    "H     -4.115398   -0.839707   -1.021863\n",
    "H     -3.968731   -0.253716    0.638890\n",
    "H      3.175289   -1.092244   -1.300079\n",
    "H      3.755340    0.503284   -0.758985\n",
    "H      3.789038   -0.910844    0.343636\n",
    "\"\"\"\n",
    "\n",
    "r_complex = RDKitMol.FromSmiles('[C:0]([C:1]([C:2]([C:3]([O:4][C:5](=[O:6])[C:7]([H:17])([H:18])[H:19])([H:12])[H:13])([H:10])[H:11])([H:8])[H:9])([H:14])([H:15])[H:16]')\n",
    "p_complex = RDKitMol.FromSmiles('[C:0]([C:1]([C:2](=[C:3]([H:12])[H:13])[H:11])([H:8])[H:9])([H:14])([H:15])[H:16].[O:4]=[C:5]([O:6][H:10])[C:7]([H:17])([H:18])[H:19]')\n",
    "\n",
    "######################################\n",
    "ts = r_complex.Copy()\n",
    "ts.SetPositions(xyz_str, header=False)"
   ]
  },
  {
   "cell_type": "markdown",
   "metadata": {},
   "source": [
    "### 1.1.2 Read a TS frequency job / IRC job\n",
    "Frequency jobs or IRC jobs provide extra information about the bonding\n"
   ]
  },
  {
   "cell_type": "code",
   "execution_count": null,
   "metadata": {},
   "outputs": [],
   "source": [
    "############## INPUT  ##################\n",
    "log_path = 'data/ts-cbsqb3.out'\n",
    "########################################\n",
    "glog = GaussianLog(log_path)\n",
    "mol = glog.get_mol(backend='openbabel')\n",
    "\n",
    "if 'freq' in glog.job_type and glog.success:\n",
    "    r_complex, p_complex = glog.guess_rxn_from_normal_mode(\n",
    "        amplitude=0.5, atom_weighted=True)\n",
    "    r_complex = r_complex[0]\n",
    "    p_complex = p_complex[0]\n",
    "elif 'irc' in glog.job_type and glog.success:\n",
    "    r_complex, p_complex = glog.guess_rxn_from_irc()"
   ]
  },
  {
   "cell_type": "markdown",
   "metadata": {},
   "source": [
    "### 1.1.3 Create a fake molecule"
   ]
  },
  {
   "cell_type": "markdown",
   "metadata": {},
   "source": [
    "Create a fake molecule that have all the bonds. The purpose is to identify the rigidity dihedrals in the TS."
   ]
  },
  {
   "cell_type": "code",
   "execution_count": null,
   "metadata": {},
   "outputs": [],
   "source": [
    "formed_bonds, broken_bonds, change_bonds = get_all_changing_bonds(r_complex, p_complex)\n",
    "\n",
    "fake_ts = ts.Copy()\n",
    "for bond in change_bonds:\n",
    "    bond1 = r_complex.GetBondBetweenAtoms(*bond)\n",
    "    bond2 = p_complex.GetBondBetweenAtoms(*bond)\n",
    "    if bond1.GetBondTypeAsDouble() > bond2.GetBondTypeAsDouble():\n",
    "        fake_ts.GetBondBetweenAtoms(*bond).SetBondType(bond1.GetBondType())\n",
    "    else:\n",
    "        fake_ts.GetBondBetweenAtoms(*bond).SetBondType(bond2.GetBondType())\n",
    "fake_ts = fake_ts.AddRedundantBonds(bonds=formed_bonds)"
   ]
  },
  {
   "cell_type": "markdown",
   "metadata": {},
   "source": [
    "## 1.2 Use RDKit to generate conformers"
   ]
  },
  {
   "cell_type": "markdown",
   "metadata": {},
   "source": [
    "### 1.2.1 Get the torsional mode and the original angles"
   ]
  },
  {
   "cell_type": "code",
   "execution_count": null,
   "metadata": {},
   "outputs": [],
   "source": [
    "# You can set the correct (all) torsions, otherwise RDKit will perceive.\n",
    "######################################\n",
    "# INPUT\n",
    "torsions = []\n",
    "exclude_methyl_rotors = False\n",
    "######################################\n",
    "if not torsions:\n",
    "    torsions = fake_ts.GetTorsionalModes(excludeMethyl=exclude_methyl_rotors)\n",
    "    print(f'RDKit perceived torsions: {torsions}')\n",
    "\n",
    "\n",
    "conf = fake_ts.GetConformer()\n",
    "conf.SetTorsionalModes(torsions)\n",
    "num_torsions = len(torsions)\n",
    "original_angles = conf.GetAllTorsionsDeg()\n",
    "print(f'The original dihedral angles is: {original_angles}')\n",
    "if VISUAL_MOLECULE:\n",
    "    mol_viewer(fake_ts).update()"
   ]
  },
  {
   "cell_type": "markdown",
   "metadata": {},
   "source": [
    "### 1.2.3 Generate conformers according to the angle mesh"
   ]
  },
  {
   "cell_type": "markdown",
   "metadata": {},
   "source": [
    "#### Example 1:\n",
    "Sampling the angles `0, 120, 240` for each torsion for a 7 heavy atom species with 5 rotors cost ~20 ms on Intel(R) Core(TM) i9-9880H CPU @ 2.30GHz\n",
    "\n",
    "#### Example2:\n",
    "Sampling the angles with a 45 x 45 evenly spaced mesh for each torsion pairs of a 7 heavy atom species with 5 rotors cost 1.4 s on Intel(R) Core(TM) i9-9880H CPU @ 2.30GHz\n",
    "\n",
    "- `RESOLUTION`: the resolution in degree for rotational bond scan\n",
    "- `RESOLUTION_METHYL`: the resolution in degree for rotational bond scan for the methyl group\n",
    "- `DIMENSION`: the dimension for rotor coupling. The default is `0` for coupling all rotors\n",
    "- `SAMPLING` : The sampling for each rotor. If `sampling` is provided as an empty list `[]`, it will be automatically created."
   ]
  },
  {
   "cell_type": "code",
   "execution_count": null,
   "metadata": {},
   "outputs": [],
   "source": [
    "################ INPUT ################################\n",
    "\n",
    "RESOLUTION = 60  # degrees\n",
    "RESOLUTION_METHYL = 180  # degrees\n",
    "DIMENSION = 0\n",
    "SAMPLING = []  # you can provide something like SAMPLING = [3, 3, 3] to customized the sampling\n",
    "########################################################\n",
    "\n",
    "if not SAMPLING:\n",
    "    methyl_carbons = [item[0] for item in fake_ts.GetSubstructMatches(RDKitMol.FromSmarts('[CH3]'))]\n",
    "    sampling = []\n",
    "    for tor in torsions:\n",
    "        if tor[1] in methyl_carbons or tor[2] in methyl_carbons:\n",
    "            sampling.append(360 // RESOLUTION_METHYL)\n",
    "        else:\n",
    "            sampling.append(360 // RESOLUTION)\n",
    "else:\n",
    "    sampling = SAMPLING\n",
    "print(sampling)"
   ]
  },
  {
   "cell_type": "markdown",
   "metadata": {},
   "source": [
    "Generate initial guesses"
   ]
  },
  {
   "cell_type": "code",
   "execution_count": null,
   "metadata": {},
   "outputs": [],
   "source": [
    "bookkeeps = {}\n",
    "if DIMENSION == 0:\n",
    "    DIMENSION = len(torsions)\n",
    "init_coords = conf.GetPositions()\n",
    "for tor_indexes in combinations(range(len(torsions)), DIMENSION):\n",
    "    # Reset the geometry\n",
    "    conf.SetPositions(init_coords)\n",
    "    # Get angles\n",
    "    sampling_points = [sampling[i] for i in tor_indexes]\n",
    "    tor_orig_angles = [original_angles[i] for i in tor_indexes]\n",
    "    tor_to_gen = [torsions[i] for i in tor_indexes]\n",
    "\n",
    "    angles_list = gen_scan_angle_list(sampling_points,\n",
    "                                      tor_orig_angles)\n",
    "    angle_mesh = product(*angles_list)\n",
    "    # Generate conformers\n",
    "    bookkeep = {}\n",
    "    conformers_by_change_torsions(conf,\n",
    "                                  angle_mesh,\n",
    "                                  bookkeep=bookkeep,\n",
    "                                  torsions=tor_to_gen,\n",
    "                                  on_the_fly_check=False)\n",
    "    bookkeeps[str(tor_indexes)] = bookkeep"
   ]
  },
  {
   "cell_type": "markdown",
   "metadata": {},
   "source": [
    "### 1.3 [OPTIONAL] Check volume of the TS\n",
    "You can check the distribution of the molecule exvolume to see whether the molecule is apart. It is possible to see smaller volume due to folding or colliding."
   ]
  },
  {
   "cell_type": "code",
   "execution_count": null,
   "metadata": {},
   "outputs": [],
   "source": [
    "import seaborn as sns\n",
    "from rdkit import Chem\n",
    "\n",
    "check_bookkeep = bookkeeps\n",
    "random_points = 30  # each group"
   ]
  },
  {
   "cell_type": "code",
   "execution_count": null,
   "metadata": {},
   "outputs": [],
   "source": [
    "all_volumes = []\n",
    "for bk in check_bookkeep.values():\n",
    "    rnd_sample = np.random.randint(len(bk), size=min(random_points, len(bk)))\n",
    "    volume = np.zeros_like(rnd_sample)\n",
    "    for index in range(rnd_sample.shape[0]):\n",
    "        conf.SetPositions(bk[rnd_sample[index]]['coords'])\n",
    "        volume[index] = Chem.AllChem.ComputeMolVolume(fake_ts.ToRWMol())\n",
    "    all_volumes.append(volume)"
   ]
  },
  {
   "cell_type": "code",
   "execution_count": null,
   "metadata": {},
   "outputs": [],
   "source": [
    "ax = sns.violinplot(data=all_volumes)\n",
    "ax.set_xlabel('group index')\n",
    "ax.set_ylabel('volume')\n",
    "for tick in ax.get_xticklabels():\n",
    "    tick.set_rotation(90)"
   ]
  },
  {
   "cell_type": "markdown",
   "metadata": {},
   "source": [
    "## 2.1 Calculate using Psi4 [Not working]"
   ]
  },
  {
   "cell_type": "markdown",
   "metadata": {},
   "source": [
    "This section is only for testing instead of actual tasks.\n",
    "From experience, for conformer search purpose, better to use `n_threads_each_calculation = 1` and use `n_worker` as many as possible"
   ]
  },
  {
   "cell_type": "code",
   "execution_count": null,
   "metadata": {},
   "outputs": [],
   "source": [
    "import psi4\n",
    "\n",
    "# How many threads to use as worker\n",
    "n_worker = 8  # -1 to use all threads\n",
    "n_memory_each_calculation = 12000 / n_worker  # Assuming you have \n",
    "n_threads_each_calculation = 1\n",
    "reference = 'uhf'\n",
    "level_of_theory = 'b3lyp/def2-svp'"
   ]
  },
  {
   "cell_type": "code",
   "execution_count": null,
   "metadata": {},
   "outputs": [],
   "source": [
    "def geom_producer(bookkeep, xyz_dict):\n",
    "    for ind, conf in bookkeep.items():\n",
    "        xyz_dict['coords'] = conf['coords']\n",
    "        xyz_file = xyz_dict_to_xyz_file(xyz_dict)\n",
    "        yield (ind, xyz_file)\n",
    "        \n",
    "def get_psi4_dftenergy(ind, xyz_file):\n",
    "    psi4.set_memory(f'{n_memory_each_calculation} MB')\n",
    "    psi4.set_options({'reference': reference})\n",
    "    try:\n",
    "        psi4.geometry(xyz_file)\n",
    "        psi4.set_num_threads(n_threads_each_calculation)\n",
    "        return (ind, psi4.energy(level_of_theory))\n",
    "    except Exception as e:\n",
    "        print(e)\n",
    "        return (ind, 1e4)"
   ]
  },
  {
   "cell_type": "code",
   "execution_count": null,
   "metadata": {},
   "outputs": [],
   "source": [
    "result = Parallel(n_jobs=n_worker, verbose=100) \\\n",
    "         (delayed(get_psi4_dftenergy)(*data) for data in geom_producer(bookkeep, xyz_dict))"
   ]
  },
  {
   "cell_type": "markdown",
   "metadata": {},
   "source": [
    "### 2.2 Optimize using Forcefield"
   ]
  },
  {
   "cell_type": "code",
   "execution_count": null,
   "metadata": {},
   "outputs": [],
   "source": [
    "from rdmc.forcefield import RDKitFF\n",
    "\n",
    "# one of the ND combination as an example.\n",
    "bookkeep = list(bookkeeps.values())[0]\n",
    "\n",
    "# To use force field we need a normal molecule as a template. Otherwise force\n",
    "# field may not be able to find parameters\n",
    "ts_mol = r_complex.Copy()"
   ]
  },
  {
   "cell_type": "markdown",
   "metadata": {},
   "source": [
    "### 2.2.1 Align reaction center"
   ]
  },
  {
   "cell_type": "code",
   "execution_count": null,
   "metadata": {},
   "outputs": [],
   "source": [
    "ts_mol.EmbedMultipleConfs(len(bookkeep))\n",
    "confs = ts_mol.GetAllConformers()\n",
    "for i, value in bookkeep.items():\n",
    "    confs[i].SetPositions(value['coords'])\n",
    "symbols = ts_mol.GetElementSymbols()\n",
    "\n",
    "atom_list = list(set.union(*formed_bonds+broken_bonds+change_bonds))  # Align according to the reaction center\n",
    "Chem.rdMolAlign.AlignMolConformers(ts_mol.ToRWMol(), maxIters=200, atomIds=atom_list)\n",
    "\n",
    "if VISUAL_MOLECULE:\n",
    "    view = grid_viewer((1,1), viewer_size=(600, 400))\n",
    "    for i in range(len(bookkeep)):\n",
    "        view.addModel(Chem.MolToMolBlock(ts_mol.ToRWMol(), confId=i), 'sdf')\n",
    "    view.zoomTo()\n",
    "    view.update()"
   ]
  },
  {
   "cell_type": "code",
   "execution_count": null,
   "metadata": {},
   "outputs": [],
   "source": [
    "from rdmc.forcefield import RDKitFF"
   ]
  },
  {
   "cell_type": "markdown",
   "metadata": {},
   "source": [
    "### 2.2.2 Optimize By force field"
   ]
  },
  {
   "cell_type": "code",
   "execution_count": null,
   "metadata": {},
   "outputs": [],
   "source": [
    "ff = RDKitFF(force_field='MMFF94s')\n",
    "# All at once or iterative optimization\n",
    "# Don't know which way is faster using optimize_confs or optimize each conformer one by one\n",
    "\n",
    "# # All at once\n",
    "# ff.setup(ts_mol)\n",
    "# for atom in atom_list:\n",
    "#     ff.fix_atom(atom)\n",
    "# results = ff.optimize_confs(num_threads=-1)\n",
    "# energies = [e for _, e in results]\n",
    "\n",
    "# Iterative\n",
    "energies = []\n",
    "for i in range(ts_mol.GetNumConformers()):\n",
    "    ff.setup(ts_mol, conf_id=i)\n",
    "    for atom in atom_list:\n",
    "        ff.fix_atom(atom)\n",
    "    ff.optimize()\n",
    "    energies.append(ff.get_energy())\n",
    "\n",
    "ts_mol = ff.get_optimized_mol()"
   ]
  },
  {
   "cell_type": "code",
   "execution_count": null,
   "metadata": {},
   "outputs": [],
   "source": [
    "if VISUAL_MOLECULE:\n",
    "    view = grid_viewer((1,1), viewer_size=(600, 400))\n",
    "    for i in range(len(bookkeep)):\n",
    "        view.addModel(Chem.MolToMolBlock(ts_mol.ToRWMol(), confId=i), 'sdf')\n",
    "    view.zoomTo()\n",
    "    view.update()"
   ]
  },
  {
   "cell_type": "markdown",
   "metadata": {},
   "source": [
    "## 2.3 Cluster conformers by energies\n",
    "This will make the filtering duplicate conformers easier in the latter steps"
   ]
  },
  {
   "cell_type": "code",
   "execution_count": null,
   "metadata": {},
   "outputs": [],
   "source": [
    "energy_clusters = {value: [] for value in set([round(energy, 2)\n",
    "                                               for energy in energies])}\n",
    "for ind, energy in enumerate(energies):\n",
    "    energy_clusters[round(energy, 2)].append(ind)\n",
    "print(energy_clusters)"
   ]
  },
  {
   "cell_type": "markdown",
   "metadata": {},
   "source": [
    "You can visualize the conformer from each of the group"
   ]
  },
  {
   "cell_type": "code",
   "execution_count": null,
   "metadata": {},
   "outputs": [],
   "source": [
    "mol_viewer(ts_mol.ToMolBlock(confId=4), 'sdf')"
   ]
  },
  {
   "cell_type": "markdown",
   "metadata": {},
   "source": [
    "## 2.4 Filter out duplicate conformers"
   ]
  },
  {
   "cell_type": "markdown",
   "metadata": {},
   "source": [
    "### 2.4.1 Filtering according to the torsional fingerprint\n",
    "Currently, it uses the naivest fingerprint (angle values)"
   ]
  },
  {
   "cell_type": "code",
   "execution_count": null,
   "metadata": {},
   "outputs": [],
   "source": [
    "import scipy.cluster.hierarchy as hcluster\n",
    "\n",
    "threshold = 10."
   ]
  },
  {
   "cell_type": "code",
   "execution_count": null,
   "metadata": {},
   "outputs": [],
   "source": [
    "for energy_level, confs in energy_clusters.items():\n",
    "    tor_matrix = []\n",
    "    for conf_id in confs:\n",
    "        conf = ts_mol.GetConformer(id=conf_id)\n",
    "        conf.SetTorsionalModes(torsions)\n",
    "        tor_matrix.append(conf.GetAllTorsionsDeg())\n",
    "\n",
    "    tor_matrix = np.array(tor_matrix)\n",
    "    clusters = hcluster.fclusterdata(tor_matrix, threshold, criterion='distance').tolist()\n",
    "\n",
    "    clusters_unique = {}\n",
    "    for i, cluster in enumerate(clusters):\n",
    "        if not clusters_unique.get(cluster):\n",
    "            clusters_unique[cluster] = confs[i]\n",
    "    energy_clusters[energy_level] = list(clusters_unique.values())\n",
    "\n",
    "energy_clusters"
   ]
  },
  {
   "cell_type": "markdown",
   "metadata": {},
   "source": [
    "### 2.4.2 Filtering according to RMSD without changing atom orders"
   ]
  },
  {
   "cell_type": "code",
   "execution_count": null,
   "metadata": {},
   "outputs": [],
   "source": [
    "rmsd_threshold = 1e-3\n",
    "\n",
    "for energy_level, confs in energy_clusters.items():\n",
    "\n",
    "    if len(confs) == 1:\n",
    "        continue\n",
    "\n",
    "    distinct_confs = []\n",
    "    while len(confs) > 1:\n",
    "        distinct_confs.append(confs[0])\n",
    "        rmsd_list = []\n",
    "        Chem.rdMolAlign.AlignMolConformers(ts_mol.ToRWMol(),\n",
    "                                           confIds=confs,\n",
    "                                           maxIters=1000,\n",
    "                                           RMSlist=rmsd_list,\n",
    "                                          )\n",
    "\n",
    "        confs_no_reflect = [confs[0]] + [conf for idx, conf in enumerate(confs[1:])\n",
    "                                         if rmsd_list[idx] > rmsd_threshold]\n",
    "\n",
    "        rmsd_list = []\n",
    "        Chem.rdMolAlign.AlignMolConformers(ts_mol.ToRWMol(),\n",
    "                                           confIds=confs_no_reflect,\n",
    "                                           maxIters=1000,\n",
    "                                           RMSlist=rmsd_list,\n",
    "                                           reflect=True,)\n",
    "\n",
    "        # Reflect everything back\n",
    "        Chem.rdMolAlign.AlignMolConformers(ts_mol.ToRWMol(),\n",
    "                                           confIds=confs_no_reflect,\n",
    "                                           maxIters=0,\n",
    "                                           reflect=True,)\n",
    "\n",
    "        confs = [conf for idx, conf in enumerate(confs_no_reflect[1:])\n",
    "                 if rmsd_list[idx] > rmsd_threshold]\n",
    "\n",
    "    distinct_confs += confs\n",
    "    energy_clusters[energy_level] = distinct_confs\n",
    "\n",
    "energy_clusters"
   ]
  },
  {
   "cell_type": "markdown",
   "metadata": {},
   "source": [
    "### 2.4.3 Filtering according to RMSD with changing atom orders [Broken]\n",
    "This can be really computational expensive"
   ]
  },
  {
   "cell_type": "code",
   "execution_count": null,
   "metadata": {},
   "outputs": [],
   "source": [
    "def calc_rmsd_single_thread(symbols,\n",
    "                            confs_id,\n",
    "                            confs_coords,\n",
    "                            rmsd_threshold=1e-2):\n",
    "    \n",
    "    distinct = [(confs_coords[0], confs_id[0])]\n",
    "    \n",
    "    if len(confs_id) > 1:\n",
    "        \n",
    "        for idx in range(1, len(confs_id)):\n",
    "            new_coords = confs_coords[idx]\n",
    "            for coords, conf_id in distinct:\n",
    "                xyzs = [{'symbols': symbols, 'coords': new_coords},\n",
    "                        {'symbols': symbols, 'coords': coords}]\n",
    "                if calc_rmsd_wrapper(*xyzs) < rmsd_threshold:\n",
    "                    break\n",
    "            else:\n",
    "                distinct.append((new_coords, confs_id[idx]))\n",
    "    \n",
    "    return distinct"
   ]
  },
  {
   "cell_type": "code",
   "execution_count": null,
   "metadata": {},
   "outputs": [],
   "source": [
    "result = Parallel(n_jobs=-1, verbose=100) \\\n",
    "         (delayed(calc_rmsd_single_thread)(symbols,\n",
    "                                           energy_clusters[key],\n",
    "                                           energy_clusters_coords[key])\n",
    "          for key in energy_clusters.keys())"
   ]
  },
  {
   "cell_type": "code",
   "execution_count": null,
   "metadata": {},
   "outputs": [],
   "source": []
  }
 ],
 "metadata": {
  "@webio": {
   "lastCommId": null,
   "lastKernelId": null
  },
  "interpreter": {
   "hash": "f734dd8bb8dba54e055a6b986ac72a1a3509c3dff380149774060d53d7aed57a"
  },
  "kernelspec": {
   "display_name": "Python 3 (ipykernel)",
   "language": "python",
   "name": "python3"
  },
  "language_info": {
   "codemirror_mode": {
    "name": "ipython",
    "version": 3
   },
   "file_extension": ".py",
   "mimetype": "text/x-python",
   "name": "python",
   "nbconvert_exporter": "python",
   "pygments_lexer": "ipython3",
   "version": "3.7.12"
  },
  "latex_envs": {
   "LaTeX_envs_menu_present": true,
   "autoclose": false,
   "autocomplete": true,
   "bibliofile": "biblio.bib",
   "cite_by": "apalike",
   "current_citInitial": 1,
   "eqLabelWithNumbers": true,
   "eqNumInitial": 1,
   "hotkeys": {
    "equation": "Ctrl-E",
    "itemize": "Ctrl-I"
   },
   "labels_anchors": false,
   "latex_user_defs": false,
   "report_style_numbering": false,
   "user_envs_cfg": false
  },
  "toc": {
   "base_numbering": 1,
   "nav_menu": {},
   "number_sections": true,
   "sideBar": true,
   "skip_h1_title": false,
   "title_cell": "Table of Contents",
   "title_sidebar": "Contents",
   "toc_cell": false,
   "toc_position": {},
   "toc_section_display": true,
   "toc_window_display": false
  },
  "varInspector": {
   "cols": {
    "lenName": 16,
    "lenType": 16,
    "lenVar": 40
   },
   "kernels_config": {
    "python": {
     "delete_cmd_postfix": "",
     "delete_cmd_prefix": "del ",
     "library": "var_list.py",
     "varRefreshCmd": "print(var_dic_list())"
    },
    "r": {
     "delete_cmd_postfix": ") ",
     "delete_cmd_prefix": "rm(",
     "library": "var_list.r",
     "varRefreshCmd": "cat(var_dic_list()) "
    }
   },
   "types_to_exclude": [
    "module",
    "function",
    "builtin_function_or_method",
    "instance",
    "_Feature"
   ],
   "window_display": false
  }
 },
 "nbformat": 4,
 "nbformat_minor": 4
}
