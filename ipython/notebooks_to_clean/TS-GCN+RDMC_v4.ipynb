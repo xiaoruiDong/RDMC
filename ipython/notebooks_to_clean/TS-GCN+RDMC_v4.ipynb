{
 "cells": [
  {
   "cell_type": "markdown",
   "metadata": {},
   "source": [
    "# Demo of generating TS geometries from SMILES\n",
    "\n",
    "In this demo, we try to use force field to prepare the input for TS-GCN. The requirements are:\n",
    "- the SMILES for all reactants and products involving in the reactions\n",
    "- the reaction must belong to a RMG reaction family\n",
    "\n",
    "Since there are randomness introduced in conformer embedding and in the graph neural network, you may want to run this notebook multiple times if the initial results are not desirable.\n",
    "\n",
    "NOTE: Currently, inputting XYZ is also available\n",
    "- For A = B, A = B + C (also A = B + C + D if RMG has this kind of family), XYZ of the reactant will be used for TS-GCN, and it will also be used as a template for generating the geometry of the product complex. The XYZs of products will only be used for molecule identification.\n",
    "- For A + B = C + D, XYZs for all input species are only used for molecule identification and will not be used for TS-GCN.\n",
    "\n",
    "Some codes are compiled from https://github.com/ReactionMechanismGenerator/TS-GCN"
   ]
  },
  {
   "cell_type": "code",
   "execution_count": 2,
   "metadata": {},
   "outputs": [
    {
     "name": "stderr",
     "output_type": "stream",
     "text": [
      "WARNING:root:An instance of RMGDatabase already exists. Re-initializing it.\n"
     ]
    },
    {
     "name": "stdout",
     "output_type": "stream",
     "text": [
      "Using Openbabel 3...\n",
      "The autoreload extension is already loaded. To reload it, use:\n",
      "  %reload_ext autoreload\n"
     ]
    }
   ],
   "source": [
    "import os\n",
    "import sys\n",
    "import subprocess\n",
    "\n",
    "# To add this RDMC into PYTHONPATH in case you haven't do it\n",
    "sys.path.append(os.path.dirname(os.path.abspath('')))\n",
    "\n",
    "from rdkit import Chem\n",
    "from rdmc.mol import RDKitMol\n",
    "from rdmc.view import grid_viewer, mol_viewer\n",
    "from rdmc.forcefield import RDKitFF, OpenBabelFF\n",
    "try:\n",
    "    # import RMG dependencies\n",
    "    from rdmc.external.rmg import (from_rdkit_mol,\n",
    "                                   find_reaction_family,\n",
    "                                   generate_reaction_complex,\n",
    "                                   load_rmg_database,\n",
    "                                   )\n",
    "    # Load RMG database\n",
    "    database = load_rmg_database()\n",
    "except (ImportError, ModuleNotFoundError):\n",
    "    print('You need to install RMG-Py first and run this IPYNB in rmg_env!')\n",
    "\n",
    "try:\n",
    "    # Openbabel 3\n",
    "    print('Using Openbabel 3...')\n",
    "    from openbabel import openbabel as ob\n",
    "except ImportError:\n",
    "    # Openbabel 2\n",
    "    pring('Using Openbabel 2...')\n",
    "    import openbabel as ob\n",
    "\n",
    "\n",
    "def parse_xyz_or_smiles(identifier, **kwargs):\n",
    "    try:\n",
    "        return RDKitMol.FromXYZ(identifier, **kwargs)\n",
    "    except:\n",
    "        mol = RDKitMol.FromSmiles(identifier,)\n",
    "        mol.EmbedConformer()\n",
    "        return mol\n",
    "\n",
    "# Testing features\n",
    "# Ideally, each reaction family may have a value that works better\n",
    "# and the author is still trying to find those numbers\n",
    "# Ones recorded below are just for reference\n",
    "BOND_CONSTRAINT = {'1,3_Insertion_ROR': 2.5,\n",
    "                   'Retroene': 2.5,\n",
    "                   '1,2_Insertion': 2.5,\n",
    "                   '2+2_cycloaddition_Cd': 2.5,\n",
    "                   'Diels_alder_addition': 3.0,\n",
    "                   'H_Abstraction': 3.0,}\n",
    "\n",
    "%load_ext autoreload\n",
    "%autoreload 2"
   ]
  },
  {
   "cell_type": "markdown",
   "metadata": {},
   "source": [
    "### 1. Input molecule information\n",
    "You can input SMILEs, XYZs or mix them together. Molecule instances are then generated from the input identifiers.<br>\n",
    "**RECOMMENDATIONs:**\n",
    "- **Better define the single species end of the reaction as the reactant.**\n",
    "- **Better put the heavier product in the first place of the list.**\n",
    "\n",
    "Here, some examples are provided"
   ]
  },
  {
   "cell_type": "markdown",
   "metadata": {},
   "source": [
    "#### 1.1: Intra H migration (A = B)"
   ]
  },
  {
   "cell_type": "code",
   "execution_count": 2,
   "metadata": {},
   "outputs": [],
   "source": [
    "reactants = [\"\"\"CCC[O]\"\"\",\n",
    "]\n",
    "\n",
    "products = [\"\"\"C[CH]CO\"\"\",\n",
    "]"
   ]
  },
  {
   "cell_type": "markdown",
   "metadata": {},
   "source": [
    "#### 1.2: Intra_R_Add_Endocyclic (A = B)"
   ]
  },
  {
   "cell_type": "code",
   "execution_count": 3,
   "metadata": {},
   "outputs": [],
   "source": [
    "reactants = [\"\"\"C=CCCO[O]\"\"\",\n",
    "]\n",
    "\n",
    "products = [\"\"\"[CH2]C1CCOO1\"\"\",\n",
    "]"
   ]
  },
  {
   "cell_type": "markdown",
   "metadata": {},
   "source": [
    "#### 1.3: ketoenol (A = B)\n",
    "An example of xyzs"
   ]
  },
  {
   "cell_type": "code",
   "execution_count": 4,
   "metadata": {},
   "outputs": [],
   "source": [
    "reactants = [\"\"\"O 0.898799  1.722422  0.70012\n",
    "C 0.293754  -0.475947  -0.083092\n",
    "C -1.182804  -0.101736  -0.000207\n",
    "C 1.238805  0.627529  0.330521\n",
    "H 0.527921  -1.348663  0.542462\n",
    "H 0.58037  -0.777872  -1.100185\n",
    "H -1.45745  0.17725  1.018899\n",
    "H -1.813437  -0.937615  -0.310796\n",
    "H -1.404454  0.753989  -0.640868\n",
    "H 2.318497  0.360641  0.272256\"\"\",\n",
    "    ]\n",
    "\n",
    "products = [\"\"\"O 2.136128  0.058786  -0.999372\n",
    "C -1.347448  0.039725  0.510465\n",
    "C 0.116046  -0.220125  0.294405\n",
    "C 0.810093  0.253091  -0.73937\n",
    "H -1.530204  0.552623  1.461378\n",
    "H -1.761309  0.662825  -0.286624\n",
    "H -1.923334  -0.892154  0.536088\n",
    "H 0.627132  -0.833978  1.035748\n",
    "H 0.359144  0.869454  -1.510183\n",
    "H 2.513751  -0.490247  -0.302535\"\"\"]"
   ]
  },
  {
   "cell_type": "markdown",
   "metadata": {},
   "source": [
    "#### 1.4: Retroene (A = B + C)"
   ]
  },
  {
   "cell_type": "code",
   "execution_count": 5,
   "metadata": {},
   "outputs": [],
   "source": [
    "reactants = [\n",
    "\"\"\"CCC1C=CC=C1\"\"\",\n",
    "]\n",
    "\n",
    "products = [\n",
    "\"\"\"C1C=CC=C1\"\"\",\n",
    "\n",
    "\"\"\"C=C\"\"\",\n",
    "]"
   ]
  },
  {
   "cell_type": "markdown",
   "metadata": {},
   "source": [
    "#### 1.5 HO2 Addition (A = B + C)"
   ]
  },
  {
   "cell_type": "code",
   "execution_count": 6,
   "metadata": {},
   "outputs": [],
   "source": [
    "reactants = [\n",
    "\"\"\"C -1.890664  -0.709255  -0.271996\n",
    "C -0.601182  0.078056  -0.018811\n",
    "C 0.586457  -0.545096  -0.777924\n",
    "C -0.292203  0.188974  1.451901\n",
    "H -0.683164  -0.56844  2.124827\n",
    "C 0.477032  1.332664  2.012529\n",
    "O -0.367239  2.493656  2.288335\n",
    "O -0.679966  1.393013  -0.618968\n",
    "O -1.811606  2.119506  -0.074789\n",
    "H -1.819659  -1.711353  0.159844\n",
    "H -2.063907  -0.801665  -1.346104\n",
    "H -2.739557  -0.190076  0.171835\n",
    "H 0.374452  -0.548385  -1.849706\n",
    "H 1.501209  0.026135  -0.608139\n",
    "H 0.747239  -1.572318  -0.444379\n",
    "H 1.209047  1.707778  1.296557\n",
    "H 0.998836  1.047896  2.931789\n",
    "H -0.994076  2.235514  2.974109\n",
    "H -1.392774  2.537261  0.704151\"\"\"\n",
    "]\n",
    "\n",
    "products = [\n",
    "\"\"\"C -1.395681  1.528483  -0.00216\n",
    "C -0.402668  0.411601  -0.210813\n",
    "C -0.997629  -0.972081  -0.127641\n",
    "C 0.890607  0.678979  -0.433435\n",
    "C 2.015631  -0.28316  -0.676721\n",
    "O 2.741986  0.043989  -1.867415\n",
    "H -0.923699  2.509933  -0.072949\n",
    "H -2.200649  1.479183  -0.744922\n",
    "H -1.873843  1.44886  0.981238\n",
    "H -1.839799  -1.068706  -0.822233\n",
    "H -0.283424  -1.765173  -0.346167\n",
    "H -1.400492  -1.154354  0.875459\n",
    "H 1.201336  1.7219  -0.466637\n",
    "H 2.754241  -0.212398  0.127575\n",
    "H 1.667906  -1.32225  -0.7073\n",
    "H 2.101868  0.079395  -2.5857\"\"\",\n",
    "\n",
    "\"\"\"O -0.168488  0.443026  0.0\n",
    "O 1.006323  -0.176508  0.0\n",
    "H -0.837834  -0.266518  0.0\"\"\",\n",
    "]"
   ]
  },
  {
   "cell_type": "markdown",
   "metadata": {},
   "source": [
    "#### 1.6 cycloaddition (A = B + C)"
   ]
  },
  {
   "cell_type": "code",
   "execution_count": 7,
   "metadata": {},
   "outputs": [],
   "source": [
    "reactants = [\n",
    "\"\"\"O -0.854577  1.055663  -0.58206\n",
    "O 0.549424  1.357531  -0.196886\n",
    "C -0.727718  -0.273028  -0.011573\n",
    "C 0.76774  -0.043476  0.113736\n",
    "H -1.066903  -1.044054  -0.706048\n",
    "H -1.263435  -0.349651  0.939354\n",
    "H 1.374762  -0.530738  -0.655177\n",
    "H 1.220707  -0.172248  1.098653\"\"\"\n",
    "           ]\n",
    "\n",
    "products = [\n",
    "\"\"\"O 0.0  0.0  0.682161\n",
    "C 0.0  0.0  -0.517771\n",
    "H 0.0  0.938619  -1.110195\n",
    "H 0.0  -0.938619  -1.110195\"\"\",\n",
    "\n",
    "\"\"\"O 0.0  0.0  0.682161\n",
    "C 0.0  0.0  -0.517771\n",
    "H 0.0  0.938619  -1.110195\n",
    "H 0.0  -0.938619  -1.110195\"\"\",\n",
    "]"
   ]
  },
  {
   "cell_type": "markdown",
   "metadata": {},
   "source": [
    "#### 1.7 Disproportionation"
   ]
  },
  {
   "cell_type": "code",
   "execution_count": 8,
   "metadata": {},
   "outputs": [],
   "source": [
    "reactants = [\n",
    "\"\"\"[OH]\"\"\",\n",
    "\"\"\"CC(C)=C(C)C\"\"\",]            \n",
    "\n",
    "products = [\n",
    "\"\"\"O\"\"\",\n",
    "\"\"\"[CH2]C(C)=C(C)C\"\"\",]"
   ]
  },
  {
   "cell_type": "markdown",
   "metadata": {},
   "source": [
    "#### [TEST]"
   ]
  },
  {
   "cell_type": "code",
   "execution_count": 9,
   "metadata": {},
   "outputs": [],
   "source": [
    "reactants = [\n",
    "\"\"\"C=CC(C)C1C=CCC1\"\"\",\n",
    "]            \n",
    "\n",
    "products = [\n",
    "\"\"\"C1=CC(C2C=CCC2)C=C1\"\"\",\n",
    "\"\"\"C1C=CC=C1\"\"\",]"
   ]
  },
  {
   "cell_type": "code",
   "execution_count": null,
   "metadata": {},
   "outputs": [],
   "source": []
  },
  {
   "cell_type": "code",
   "execution_count": 9,
   "metadata": {},
   "outputs": [],
   "source": [
    "with open('diene.xyz') as f:\n",
    "    diene = f.read()\n",
    "with open('dienophile.xyz') as f:\n",
    "    dienophile = f.read()\n",
    "reactants = ['\\n'.join(diene.splitlines()[2:]),\n",
    "             '\\n'.join(dienophile.splitlines()[2:])]\n",
    "products = ['C1=CC2CC1C1CC3C4C=CC(C4)C3C21']"
   ]
  },
  {
   "cell_type": "markdown",
   "metadata": {},
   "source": [
    "## 2. Find RMG reaction and generate reactant/product complex"
   ]
  },
  {
   "cell_type": "markdown",
   "metadata": {},
   "source": [
    "#### [OPTIONAL] XYZ perception arguments\n",
    "- `backends`: choose the backends for XYZ perception. It has no influence if you are using SMILES. Previously, `openbabel` xyz perception is prefered over `jensen`\n",
    "- `header`: The xyz files contains a line indicates the number of atoms and a line of title/comments. If your string does not contain those two lines, set `header` to `False`. "
   ]
  },
  {
   "cell_type": "code",
   "execution_count": 10,
   "metadata": {},
   "outputs": [],
   "source": [
    "############### XYZ Perception ################\n",
    "# Backend perception algorithm\n",
    "backends = ['openbabel', 'jensen']\n",
    "# If the XYZ has the first two lines (atom number + title/comments)\n",
    "header = False\n",
    "################################################"
   ]
  },
  {
   "cell_type": "markdown",
   "metadata": {},
   "source": [
    "Check if this reaction matches RMG templates. If the reaction matches at least one RMG family, the result will be shown, and complexes will be generated. Otherwise, this notebook is not helpful to you. "
   ]
  },
  {
   "cell_type": "code",
   "execution_count": 11,
   "metadata": {},
   "outputs": [
    {
     "name": "stdout",
     "output_type": "stream",
     "text": [
      "Using \"jensen\" method as the XYZ perception backend.\n",
      "C1=CC2C3C=CC(C3)C2C1 + C1=CCC=C1 <=> C1=CC2CC1C1CC3C4C=CC(C4)C3C21\n",
      "RMG family: Diels_alder_addition\n",
      "Is forward reaction: False\n",
      "Following bonds are formed in the reaction: []\n",
      "Following bonds are broken in the reaction: [{2, 14}, {4, 5}]\n"
     ]
    }
   ],
   "source": [
    "# For A = B + C reactions, Better to make A as the reactant\n",
    "if len(reactants) == 2 and len(products) == 1:\n",
    "    reactants, products = products, reactants\n",
    "\n",
    "# Generate reactant and product complex\n",
    "for backend in backends:\n",
    "    print(f'Using \\\"{backend}\\\" method as the XYZ perception backend.')\n",
    "    try:\n",
    "        # Convert XYZ to rdkit mol\n",
    "        reactants_rdkit = [parse_xyz_or_smiles(reactant, backend=backend, header=False) for reactant in reactants]\n",
    "        products_rdkit = [parse_xyz_or_smiles(product, backend=backend, header=False) for product in products]\n",
    "\n",
    "        # Convert rdkit mol to RMG mol\n",
    "        reactant_molecules = [from_rdkit_mol(r.ToRWMol()) for r in reactants_rdkit]\n",
    "        product_molecules = [from_rdkit_mol(p.ToRWMol()) for p in products_rdkit]\n",
    "\n",
    "    except Exception as e:\n",
    "        print(e)\n",
    "        print(f'Cannot generate molecule instances using {backend}...')\n",
    "        continue\n",
    "\n",
    "    else:\n",
    "        # A product complex with the same atom indexing as the reactant is generated\n",
    "        family_label, _ = find_reaction_family(database, reactant_molecules,\n",
    "                                               product_molecules, verbose=False)\n",
    "        r_complex, p_complex = generate_reaction_complex(database,\n",
    "                                                 reactant_molecules,\n",
    "                                                 product_molecules,\n",
    "                                                 verbose=True)\n",
    "    if not r_complex:\n",
    "        continue\n",
    "\n",
    "    try:\n",
    "        # p_rmg is the complex in RDKitMol form and product_match is its RMG molecule form\n",
    "        r_mol = RDKitMol.FromRMGMol(r_complex)\n",
    "        p_mol = RDKitMol.FromRMGMol(p_complex)\n",
    "    except Exception as e:\n",
    "        # There can be some problem converting RMG mol back to RDKit\n",
    "        print(e)\n",
    "        continue\n",
    "    else:\n",
    "        # Find formed and broken bonds\n",
    "        r_bonds = [{bond.GetBeginAtomIdx(), bond.GetEndAtomIdx()} for bond in r_mol.GetBonds()]\n",
    "        p_bonds = [{bond.GetBeginAtomIdx(), bond.GetEndAtomIdx()} for bond in p_mol.GetBonds()]\n",
    "        formed_bonds = [bond for bond in p_bonds if bond not in r_bonds]\n",
    "        broken_bonds = [bond for bond in r_bonds if bond not in p_bonds]\n",
    "        print(f'Following bonds are formed in the reaction: {formed_bonds}')\n",
    "        print(f'Following bonds are broken in the reaction: {broken_bonds}')\n",
    "        break\n",
    "\n",
    "else:\n",
    "    print('No matched RMG reaction is found for the given reactants and products.')"
   ]
  },
  {
   "cell_type": "markdown",
   "metadata": {},
   "source": [
    "## 3. Complex geometry generation"
   ]
  },
  {
   "cell_type": "markdown",
   "metadata": {},
   "source": [
    "### Force field arguments"
   ]
  },
  {
   "cell_type": "code",
   "execution_count": 19,
   "metadata": {},
   "outputs": [],
   "source": [
    "############### Force Field ###################\n",
    "# bond length be fixed at the following value\n",
    "bond_constraint_factor = 3.0 #BOND_CONSTRAINT.get(family_label, 3.0) # Unit: Angstrom\n",
    "\n",
    "# Force Field\n",
    "force_field_type = \"MMFF94s\"\n",
    "# Convergence criteria\n",
    "tol = 1e-8\n",
    "# Step size\n",
    "step = 5\n",
    "# Max step\n",
    "max_step = 10000\n",
    "###############################################\n",
    "\n",
    "def optimize_mol(mol, frozen_bonds=[],):\n",
    "    mol_copy = mol.Copy()\n",
    "    try:\n",
    "        # First try if we can use RDKit Forcefield to optimize\n",
    "        # It is faster, relatively more robust, but have limited atom-type support\n",
    "        ff = RDKitFF(force_field_type)\n",
    "        # In RDKit FF, setup first then add constraints\n",
    "        ff.setup(mol_copy, ignore_interfrag_interactions=False)\n",
    "        for frozen_bond in frozen_bonds:\n",
    "            ff.add_distance_constraint(frozen_bond, bond_constraint_factor)\n",
    "    except NotImplementedError as e:\n",
    "        print(e)\n",
    "        # It usually means we cannot make the molecule optimizable by RDKit force field\n",
    "        # Then use OpenBabel force field\n",
    "        ff = OpenBabelFF(force_field_type)\n",
    "        # provides mol can help adjust the atom index difference between RDKit Mol and OpenBabel Mol\n",
    "        ff.mol = mol_copy\n",
    "        # In Openbabel Forcefield, add constraints first then setup the force field\n",
    "        for frozen_bond in frozen_bonds:\n",
    "            ff.add_distance_constraint(frozen_bond, bond_constraint_factor)\n",
    "        ff.setup()\n",
    "    finally:\n",
    "        ff.optimize(max_step=max_step, tol=tol, step_per_iter=step)\n",
    "        mol_copy = ff.get_optimized_mol()\n",
    "    return mol_copy"
   ]
  },
  {
   "cell_type": "markdown",
   "metadata": {},
   "source": [
    "### Generate reactant complex geometry\n",
    "- For A = B and A = B + C, if XYZ is available then reactant complex uses the exact same geometry as the input; otherwise, we just use a RDKit embed geometry;\n",
    "- For A + B = C + D, reactant complex will be embeded by RDKit and optimized by a force field"
   ]
  },
  {
   "cell_type": "code",
   "execution_count": 20,
   "metadata": {},
   "outputs": [
    {
     "name": "stdout",
     "output_type": "stream",
     "text": [
      "\n",
      "The generated reactant complex:\n"
     ]
    },
    {
     "data": {
      "application/3dmoljs_load.v0": "<div id=\"3dmolviewer_1630197289001569\"  style=\"position: relative; width: 400px; height: 400px\">\n        <p id=\"3dmolwarning_1630197289001569\" style=\"background-color:#ffcccc;color:black\">You appear to be running in JupyterLab (or JavaScript failed to load for some other reason).  You need to install the 3dmol extension: <br>\n        <tt>jupyter labextension install jupyterlab_3dmol</tt></p>\n        </div>\n<script>\n\nvar loadScriptAsync = function(uri){\n  return new Promise((resolve, reject) => {\n    var tag = document.createElement('script');\n    tag.src = uri;\n    tag.async = true;\n    tag.onload = () => {\n      resolve();\n    };\n  var firstScriptTag = document.getElementsByTagName('script')[0];\n  firstScriptTag.parentNode.insertBefore(tag, firstScriptTag);\n});\n};\n\nif(typeof $3Dmolpromise === 'undefined') {\n$3Dmolpromise = null;\n  $3Dmolpromise = loadScriptAsync('https://3dmol.csb.pitt.edu/build/3Dmol.js');\n}\n\nvar viewer_1630197289001569 = null;\nvar warn = document.getElementById(\"3dmolwarning_1630197289001569\");\nif(warn) {\n    warn.parentNode.removeChild(warn);\n}\n$3Dmolpromise.then(function() {\nviewer_1630197289001569 = $3Dmol.createViewer($(\"#3dmolviewer_1630197289001569\"),{backgroundColor:\"white\"});\n\tviewer_1630197289001569.addModel(\"\\n     RDKit          3D\\n\\n 33 37  0  0  0  0  0  0  0  0999 V2000\\n   -3.3688   -0.7264   -0.5253 C   0  0  0  0  0  0  0  0  0  0  0  0\\n   -3.0449    0.3028   -1.3236 C   0  0  0  0  0  0  0  0  0  1  0  0\\n   -1.8982    1.0360   -0.6614 C   0  0  0  0  0  0  0  0  0  2  0  0\\n   -2.3205    0.8464    0.7990 C   0  0  0  0  0  0  0  0  0  3  0  0\\n   -2.4382   -0.6753    0.6668 C   0  0  0  0  0  0  0  0  0  4  0  0\\n   -1.0232   -1.0682    0.1660 C   0  0  0  0  0  0  0  0  0  5  0  0\\n    0.0239   -1.1548    1.2724 C   0  0  0  0  0  0  0  0  0  6  0  0\\n    1.0456   -0.0419    1.0578 C   0  0  0  0  0  0  0  0  0  7  0  0\\n    2.4636   -0.5514    0.6878 C   0  0  0  0  0  0  0  0  0  8  0  0\\n    3.3695    0.6578    0.6031 C   0  0  0  0  0  0  0  0  0  9  0  0\\n    3.0104    1.3443   -0.4929 C   0  0  0  0  0  0  0  0  0 10  0  0\\n    1.8649    0.5913   -1.1344 C   0  0  0  0  0  0  0  0  0 11  0  0\\n    2.3212   -0.8350   -0.8110 C   0  0  0  0  0  0  0  0  0 12  0  0\\n    0.6266    0.7635   -0.2110 C   0  0  0  0  0  0  0  0  0 13  0  0\\n   -0.6450    0.1227   -0.7681 C   0  0  0  0  0  0  0  0  0 14  0  0\\n   -4.1142   -1.4835   -0.7149 H   0  0  0  0  0  0  0  0  0 15  0  0\\n   -3.4774    0.5390   -2.2838 H   0  0  0  0  0  0  0  0  0 16  0  0\\n   -1.7753    2.0717   -0.9808 H   0  0  0  0  0  0  0  0  0 17  0  0\\n   -3.2719    1.3368    1.0439 H   0  0  0  0  0  0  0  0  0 18  0  0\\n   -1.5674    1.1715    1.5234 H   0  0  0  0  0  0  0  0  0 19  0  0\\n   -2.8045   -1.1933    1.5541 H   0  0  0  0  0  0  0  0  0 20  0  0\\n   -1.0534   -2.0124   -0.3923 H   0  0  0  0  0  0  0  0  0 21  0  0\\n    0.5023   -2.1413    1.2618 H   0  0  0  0  0  0  0  0  0 22  0  0\\n   -0.4354   -1.0586    2.2633 H   0  0  0  0  0  0  0  0  0 23  0  0\\n    1.0804    0.6067    1.9422 H   0  0  0  0  0  0  0  0  0 24  0  0\\n    2.8579   -1.3760    1.2829 H   0  0  0  0  0  0  0  0  0 25  0  0\\n    4.1241    0.9354    1.3230 H   0  0  0  0  0  0  0  0  0 26  0  0\\n    3.4182    2.2848   -0.8307 H   0  0  0  0  0  0  0  0  0 27  0  0\\n    1.7166    0.8047   -2.1937 H   0  0  0  0  0  0  0  0  0 28  0  0\\n    1.5778   -1.6021   -1.0484 H   0  0  0  0  0  0  0  0  0 29  0  0\\n    3.2687   -1.1086   -1.2939 H   0  0  0  0  0  0  0  0  0 30  0  0\\n    0.4703    1.8242    0.0226 H   0  0  0  0  0  0  0  0  0 31  0  0\\n   -0.5038   -0.2108   -1.8039 H   0  0  0  0  0  0  0  0  0 32  0  0\\n  1  2  2  0\\n  1  5  1  0\\n  1 16  1  0\\n  2  3  1  0\\n  2 17  1  0\\n  3  4  1  0\\n  3 15  1  0\\n  3 18  1  0\\n  4  5  1  0\\n  4 19  1  0\\n  4 20  1  0\\n  5  6  1  0\\n  5 21  1  0\\n  6  7  1  0\\n  6 15  1  0\\n  6 22  1  0\\n  7  8  1  0\\n  7 23  1  0\\n  7 24  1  0\\n  8  9  1  0\\n  8 14  1  0\\n  8 25  1  0\\n  9 10  1  0\\n  9 13  1  0\\n  9 26  1  0\\n 10 11  2  0\\n 10 27  1  0\\n 11 12  1  0\\n 11 28  1  0\\n 12 13  1  0\\n 12 14  1  0\\n 12 29  1  0\\n 13 30  1  0\\n 13 31  1  0\\n 14 15  1  0\\n 14 32  1  0\\n 15 33  1  0\\nM  END\\n\",\"sdf\");\n\tviewer_1630197289001569.setStyle({\"stick\": {\"radius\": 0.05, \"color\": \"#f2f2f2\"}, \"sphere\": {\"scale\": 0.25}});\n\tviewer_1630197289001569.addPropertyLabels(\"index\",\"\",{\"fontSize\": 15, \"fontColor\": \"white\", \"showBackground\": true, \"alignment\": \"center\", \"backgroundOpacity\": 0.2, \"backgroundColor\": \"black\"});\n\tviewer_1630197289001569.setBackgroundColor(\"#e5e5ff\");\n\tviewer_1630197289001569.zoomTo();\nviewer_1630197289001569.render();\n});\n</script>",
      "text/html": [
       "<div id=\"3dmolviewer_1630197289001569\"  style=\"position: relative; width: 400px; height: 400px\">\n",
       "        <p id=\"3dmolwarning_1630197289001569\" style=\"background-color:#ffcccc;color:black\">You appear to be running in JupyterLab (or JavaScript failed to load for some other reason).  You need to install the 3dmol extension: <br>\n",
       "        <tt>jupyter labextension install jupyterlab_3dmol</tt></p>\n",
       "        </div>\n",
       "<script>\n",
       "\n",
       "var loadScriptAsync = function(uri){\n",
       "  return new Promise((resolve, reject) => {\n",
       "    var tag = document.createElement('script');\n",
       "    tag.src = uri;\n",
       "    tag.async = true;\n",
       "    tag.onload = () => {\n",
       "      resolve();\n",
       "    };\n",
       "  var firstScriptTag = document.getElementsByTagName('script')[0];\n",
       "  firstScriptTag.parentNode.insertBefore(tag, firstScriptTag);\n",
       "});\n",
       "};\n",
       "\n",
       "if(typeof $3Dmolpromise === 'undefined') {\n",
       "$3Dmolpromise = null;\n",
       "  $3Dmolpromise = loadScriptAsync('https://3dmol.csb.pitt.edu/build/3Dmol.js');\n",
       "}\n",
       "\n",
       "var viewer_1630197289001569 = null;\n",
       "var warn = document.getElementById(\"3dmolwarning_1630197289001569\");\n",
       "if(warn) {\n",
       "    warn.parentNode.removeChild(warn);\n",
       "}\n",
       "$3Dmolpromise.then(function() {\n",
       "viewer_1630197289001569 = $3Dmol.createViewer($(\"#3dmolviewer_1630197289001569\"),{backgroundColor:\"white\"});\n",
       "\tviewer_1630197289001569.addModel(\"\\n     RDKit          3D\\n\\n 33 37  0  0  0  0  0  0  0  0999 V2000\\n   -3.3688   -0.7264   -0.5253 C   0  0  0  0  0  0  0  0  0  0  0  0\\n   -3.0449    0.3028   -1.3236 C   0  0  0  0  0  0  0  0  0  1  0  0\\n   -1.8982    1.0360   -0.6614 C   0  0  0  0  0  0  0  0  0  2  0  0\\n   -2.3205    0.8464    0.7990 C   0  0  0  0  0  0  0  0  0  3  0  0\\n   -2.4382   -0.6753    0.6668 C   0  0  0  0  0  0  0  0  0  4  0  0\\n   -1.0232   -1.0682    0.1660 C   0  0  0  0  0  0  0  0  0  5  0  0\\n    0.0239   -1.1548    1.2724 C   0  0  0  0  0  0  0  0  0  6  0  0\\n    1.0456   -0.0419    1.0578 C   0  0  0  0  0  0  0  0  0  7  0  0\\n    2.4636   -0.5514    0.6878 C   0  0  0  0  0  0  0  0  0  8  0  0\\n    3.3695    0.6578    0.6031 C   0  0  0  0  0  0  0  0  0  9  0  0\\n    3.0104    1.3443   -0.4929 C   0  0  0  0  0  0  0  0  0 10  0  0\\n    1.8649    0.5913   -1.1344 C   0  0  0  0  0  0  0  0  0 11  0  0\\n    2.3212   -0.8350   -0.8110 C   0  0  0  0  0  0  0  0  0 12  0  0\\n    0.6266    0.7635   -0.2110 C   0  0  0  0  0  0  0  0  0 13  0  0\\n   -0.6450    0.1227   -0.7681 C   0  0  0  0  0  0  0  0  0 14  0  0\\n   -4.1142   -1.4835   -0.7149 H   0  0  0  0  0  0  0  0  0 15  0  0\\n   -3.4774    0.5390   -2.2838 H   0  0  0  0  0  0  0  0  0 16  0  0\\n   -1.7753    2.0717   -0.9808 H   0  0  0  0  0  0  0  0  0 17  0  0\\n   -3.2719    1.3368    1.0439 H   0  0  0  0  0  0  0  0  0 18  0  0\\n   -1.5674    1.1715    1.5234 H   0  0  0  0  0  0  0  0  0 19  0  0\\n   -2.8045   -1.1933    1.5541 H   0  0  0  0  0  0  0  0  0 20  0  0\\n   -1.0534   -2.0124   -0.3923 H   0  0  0  0  0  0  0  0  0 21  0  0\\n    0.5023   -2.1413    1.2618 H   0  0  0  0  0  0  0  0  0 22  0  0\\n   -0.4354   -1.0586    2.2633 H   0  0  0  0  0  0  0  0  0 23  0  0\\n    1.0804    0.6067    1.9422 H   0  0  0  0  0  0  0  0  0 24  0  0\\n    2.8579   -1.3760    1.2829 H   0  0  0  0  0  0  0  0  0 25  0  0\\n    4.1241    0.9354    1.3230 H   0  0  0  0  0  0  0  0  0 26  0  0\\n    3.4182    2.2848   -0.8307 H   0  0  0  0  0  0  0  0  0 27  0  0\\n    1.7166    0.8047   -2.1937 H   0  0  0  0  0  0  0  0  0 28  0  0\\n    1.5778   -1.6021   -1.0484 H   0  0  0  0  0  0  0  0  0 29  0  0\\n    3.2687   -1.1086   -1.2939 H   0  0  0  0  0  0  0  0  0 30  0  0\\n    0.4703    1.8242    0.0226 H   0  0  0  0  0  0  0  0  0 31  0  0\\n   -0.5038   -0.2108   -1.8039 H   0  0  0  0  0  0  0  0  0 32  0  0\\n  1  2  2  0\\n  1  5  1  0\\n  1 16  1  0\\n  2  3  1  0\\n  2 17  1  0\\n  3  4  1  0\\n  3 15  1  0\\n  3 18  1  0\\n  4  5  1  0\\n  4 19  1  0\\n  4 20  1  0\\n  5  6  1  0\\n  5 21  1  0\\n  6  7  1  0\\n  6 15  1  0\\n  6 22  1  0\\n  7  8  1  0\\n  7 23  1  0\\n  7 24  1  0\\n  8  9  1  0\\n  8 14  1  0\\n  8 25  1  0\\n  9 10  1  0\\n  9 13  1  0\\n  9 26  1  0\\n 10 11  2  0\\n 10 27  1  0\\n 11 12  1  0\\n 11 28  1  0\\n 12 13  1  0\\n 12 14  1  0\\n 12 29  1  0\\n 13 30  1  0\\n 13 31  1  0\\n 14 15  1  0\\n 14 32  1  0\\n 15 33  1  0\\nM  END\\n\",\"sdf\");\n",
       "\tviewer_1630197289001569.setStyle({\"stick\": {\"radius\": 0.05, \"color\": \"#f2f2f2\"}, \"sphere\": {\"scale\": 0.25}});\n",
       "\tviewer_1630197289001569.addPropertyLabels(\"index\",\"\",{\"fontSize\": 15, \"fontColor\": \"white\", \"showBackground\": true, \"alignment\": \"center\", \"backgroundOpacity\": 0.2, \"backgroundColor\": \"black\"});\n",
       "\tviewer_1630197289001569.setBackgroundColor(\"#e5e5ff\");\n",
       "\tviewer_1630197289001569.zoomTo();\n",
       "viewer_1630197289001569.render();\n",
       "});\n",
       "</script>"
      ]
     },
     "metadata": {},
     "output_type": "display_data"
    }
   ],
   "source": [
    "if len(reactants) == 1 and r_mol.GetNumConformers() > 0:\n",
    "    # XYZ inputs\n",
    "    r_mol = reactants_rdkit[0]\n",
    "        \n",
    "elif len(reactants) in [1, 2]:\n",
    "\n",
    "    # There is no 3D information, originally generated from a SMILES\n",
    "    r_mol.EmbedConformer()\n",
    "    r_mol = optimize_mol(r_mol, frozen_bonds=formed_bonds)\n",
    "    \n",
    "if r_mol:\n",
    "    print('\\nThe generated reactant complex:')\n",
    "    viewer = mol_viewer(r_mol.ToMolBlock(), 'sdf')\n",
    "    viewer.show()"
   ]
  },
  {
   "cell_type": "markdown",
   "metadata": {},
   "source": [
    "### Generate product complex geometry\n",
    "Using the reactant atom coordinates as the initial guess for the product complex geometry; then, use a force field to optimize the geometry."
   ]
  },
  {
   "cell_type": "code",
   "execution_count": 21,
   "metadata": {},
   "outputs": [
    {
     "name": "stdout",
     "output_type": "stream",
     "text": [
      "\n",
      "The generated product complex:\n"
     ]
    },
    {
     "data": {
      "application/3dmoljs_load.v0": "<div id=\"3dmolviewer_1630197304913364\"  style=\"position: relative; width: 400px; height: 400px\">\n        <p id=\"3dmolwarning_1630197304913364\" style=\"background-color:#ffcccc;color:black\">You appear to be running in JupyterLab (or JavaScript failed to load for some other reason).  You need to install the 3dmol extension: <br>\n        <tt>jupyter labextension install jupyterlab_3dmol</tt></p>\n        </div>\n<script>\n\nvar loadScriptAsync = function(uri){\n  return new Promise((resolve, reject) => {\n    var tag = document.createElement('script');\n    tag.src = uri;\n    tag.async = true;\n    tag.onload = () => {\n      resolve();\n    };\n  var firstScriptTag = document.getElementsByTagName('script')[0];\n  firstScriptTag.parentNode.insertBefore(tag, firstScriptTag);\n});\n};\n\nif(typeof $3Dmolpromise === 'undefined') {\n$3Dmolpromise = null;\n  $3Dmolpromise = loadScriptAsync('https://3dmol.csb.pitt.edu/build/3Dmol.js');\n}\n\nvar viewer_1630197304913364 = null;\nvar warn = document.getElementById(\"3dmolwarning_1630197304913364\");\nif(warn) {\n    warn.parentNode.removeChild(warn);\n}\n$3Dmolpromise.then(function() {\nviewer_1630197304913364 = $3Dmol.createViewer($(\"#3dmolviewer_1630197304913364\"),{backgroundColor:\"white\"});\n\tviewer_1630197304913364.addModel(\"\\n     RDKit          3D\\n\\n 33 35  0  0  0  0  0  0  0  0999 V2000\\n   -3.7880   -0.5943   -0.3876 C   0  0  0  0  0  0  0  0  0  0  0  0\\n   -3.4438    0.4999   -1.2573 C   0  0  0  0  0  0  0  0  0  1  0  0\\n   -2.7166    1.3959   -0.5723 C   0  0  0  0  0  0  0  0  0  2  0  0\\n   -2.6383    0.9909    0.8706 C   0  0  0  0  0  0  0  0  0  3  0  0\\n   -3.2722   -0.3688    0.8306 C   0  0  0  0  0  0  0  0  0  4  0  0\\n   -0.5886   -1.3216   -0.1137 C   0  0  0  0  0  0  0  0  0  5  0  0\\n    0.2624   -1.3597    1.1141 C   0  0  0  0  0  0  0  0  0  6  0  0\\n    1.1995   -0.1527    0.9698 C   0  0  0  0  0  0  0  0  0  7  0  0\\n    2.6959   -0.5114    0.7664 C   0  0  0  0  0  0  0  0  0  8  0  0\\n    3.4630    0.7941    0.7047 C   0  0  0  0  0  0  0  0  0  9  0  0\\n    3.1496    1.3844   -0.4601 C   0  0  0  0  0  0  0  0  0 10  0  0\\n    2.1712    0.4730   -1.1727 C   0  0  0  0  0  0  0  0  0 11  0  0\\n    2.7563   -0.8724   -0.7223 C   0  0  0  0  0  0  0  0  0 12  0  0\\n    0.8341    0.5386   -0.3898 C   0  0  0  0  0  0  0  0  0 13  0  0\\n   -0.2737   -0.3084   -0.9315 C   0  0  0  0  0  0  0  0  0 14  0  0\\n   -4.3272   -1.4747   -0.7015 H   0  0  0  0  0  0  0  0  0 15  0  0\\n   -3.6919    0.5447   -2.3065 H   0  0  0  0  0  0  0  0  0 16  0  0\\n   -2.3038    2.3089   -0.9730 H   0  0  0  0  0  0  0  0  0 17  0  0\\n   -3.2157    1.6742    1.5015 H   0  0  0  0  0  0  0  0  0 18  0  0\\n   -1.6127    0.9607    1.2392 H   0  0  0  0  0  0  0  0  0 19  0  0\\n   -3.3550   -1.0290    1.6801 H   0  0  0  0  0  0  0  0  0 20  0  0\\n   -1.3249   -2.0806   -0.3403 H   0  0  0  0  0  0  0  0  0 21  0  0\\n    0.8086   -2.3054    1.1864 H   0  0  0  0  0  0  0  0  0 22  0  0\\n   -0.3626   -1.2582    2.0074 H   0  0  0  0  0  0  0  0  0 23  0  0\\n    1.0695    0.5324    1.8174 H   0  0  0  0  0  0  0  0  0 24  0  0\\n    3.1152   -1.2562    1.4438 H   0  0  0  0  0  0  0  0  0 25  0  0\\n    4.1008    1.1900    1.4803 H   0  0  0  0  0  0  0  0  0 26  0  0\\n    3.4836    2.3498   -0.8084 H   0  0  0  0  0  0  0  0  0 27  0  0\\n    2.1141    0.6122   -2.2532 H   0  0  0  0  0  0  0  0  0 28  0  0\\n    2.1461   -1.7388   -0.9946 H   0  0  0  0  0  0  0  0  0 29  0  0\\n    3.7780   -1.0447   -1.0864 H   0  0  0  0  0  0  0  0  0 30  0  0\\n    0.4915    1.5691   -0.2410 H   0  0  0  0  0  0  0  0  0 31  0  0\\n   -0.7247   -0.1418   -1.9001 H   0  0  0  0  0  0  0  0  0 32  0  0\\n  1  2  1  0\\n  1  5  2  0\\n  1 16  1  0\\n  2  3  2  0\\n  2 17  1  0\\n  3  4  1  0\\n  3 18  1  0\\n  4  5  1  0\\n  4 19  1  0\\n  4 20  1  0\\n  5 21  1  0\\n  6  7  1  0\\n  6 15  2  0\\n  6 22  1  0\\n  7  8  1  0\\n  7 23  1  0\\n  7 24  1  0\\n  8  9  1  0\\n  8 14  1  0\\n  8 25  1  0\\n  9 10  1  0\\n  9 13  1  0\\n  9 26  1  0\\n 10 11  2  0\\n 10 27  1  0\\n 11 12  1  0\\n 11 28  1  0\\n 12 13  1  0\\n 12 14  1  0\\n 12 29  1  0\\n 13 30  1  0\\n 13 31  1  0\\n 14 15  1  0\\n 14 32  1  0\\n 15 33  1  0\\nM  END\\n\",\"sdf\");\n\tviewer_1630197304913364.setStyle({\"stick\": {\"radius\": 0.05, \"color\": \"#f2f2f2\"}, \"sphere\": {\"scale\": 0.25}});\n\tviewer_1630197304913364.addPropertyLabels(\"index\",\"\",{\"fontSize\": 15, \"fontColor\": \"white\", \"showBackground\": true, \"alignment\": \"center\", \"backgroundOpacity\": 0.2, \"backgroundColor\": \"black\"});\n\tviewer_1630197304913364.setBackgroundColor(\"#e5e5ff\");\n\tviewer_1630197304913364.zoomTo();\nviewer_1630197304913364.render();\n});\n</script>",
      "text/html": [
       "<div id=\"3dmolviewer_1630197304913364\"  style=\"position: relative; width: 400px; height: 400px\">\n",
       "        <p id=\"3dmolwarning_1630197304913364\" style=\"background-color:#ffcccc;color:black\">You appear to be running in JupyterLab (or JavaScript failed to load for some other reason).  You need to install the 3dmol extension: <br>\n",
       "        <tt>jupyter labextension install jupyterlab_3dmol</tt></p>\n",
       "        </div>\n",
       "<script>\n",
       "\n",
       "var loadScriptAsync = function(uri){\n",
       "  return new Promise((resolve, reject) => {\n",
       "    var tag = document.createElement('script');\n",
       "    tag.src = uri;\n",
       "    tag.async = true;\n",
       "    tag.onload = () => {\n",
       "      resolve();\n",
       "    };\n",
       "  var firstScriptTag = document.getElementsByTagName('script')[0];\n",
       "  firstScriptTag.parentNode.insertBefore(tag, firstScriptTag);\n",
       "});\n",
       "};\n",
       "\n",
       "if(typeof $3Dmolpromise === 'undefined') {\n",
       "$3Dmolpromise = null;\n",
       "  $3Dmolpromise = loadScriptAsync('https://3dmol.csb.pitt.edu/build/3Dmol.js');\n",
       "}\n",
       "\n",
       "var viewer_1630197304913364 = null;\n",
       "var warn = document.getElementById(\"3dmolwarning_1630197304913364\");\n",
       "if(warn) {\n",
       "    warn.parentNode.removeChild(warn);\n",
       "}\n",
       "$3Dmolpromise.then(function() {\n",
       "viewer_1630197304913364 = $3Dmol.createViewer($(\"#3dmolviewer_1630197304913364\"),{backgroundColor:\"white\"});\n",
       "\tviewer_1630197304913364.addModel(\"\\n     RDKit          3D\\n\\n 33 35  0  0  0  0  0  0  0  0999 V2000\\n   -3.7880   -0.5943   -0.3876 C   0  0  0  0  0  0  0  0  0  0  0  0\\n   -3.4438    0.4999   -1.2573 C   0  0  0  0  0  0  0  0  0  1  0  0\\n   -2.7166    1.3959   -0.5723 C   0  0  0  0  0  0  0  0  0  2  0  0\\n   -2.6383    0.9909    0.8706 C   0  0  0  0  0  0  0  0  0  3  0  0\\n   -3.2722   -0.3688    0.8306 C   0  0  0  0  0  0  0  0  0  4  0  0\\n   -0.5886   -1.3216   -0.1137 C   0  0  0  0  0  0  0  0  0  5  0  0\\n    0.2624   -1.3597    1.1141 C   0  0  0  0  0  0  0  0  0  6  0  0\\n    1.1995   -0.1527    0.9698 C   0  0  0  0  0  0  0  0  0  7  0  0\\n    2.6959   -0.5114    0.7664 C   0  0  0  0  0  0  0  0  0  8  0  0\\n    3.4630    0.7941    0.7047 C   0  0  0  0  0  0  0  0  0  9  0  0\\n    3.1496    1.3844   -0.4601 C   0  0  0  0  0  0  0  0  0 10  0  0\\n    2.1712    0.4730   -1.1727 C   0  0  0  0  0  0  0  0  0 11  0  0\\n    2.7563   -0.8724   -0.7223 C   0  0  0  0  0  0  0  0  0 12  0  0\\n    0.8341    0.5386   -0.3898 C   0  0  0  0  0  0  0  0  0 13  0  0\\n   -0.2737   -0.3084   -0.9315 C   0  0  0  0  0  0  0  0  0 14  0  0\\n   -4.3272   -1.4747   -0.7015 H   0  0  0  0  0  0  0  0  0 15  0  0\\n   -3.6919    0.5447   -2.3065 H   0  0  0  0  0  0  0  0  0 16  0  0\\n   -2.3038    2.3089   -0.9730 H   0  0  0  0  0  0  0  0  0 17  0  0\\n   -3.2157    1.6742    1.5015 H   0  0  0  0  0  0  0  0  0 18  0  0\\n   -1.6127    0.9607    1.2392 H   0  0  0  0  0  0  0  0  0 19  0  0\\n   -3.3550   -1.0290    1.6801 H   0  0  0  0  0  0  0  0  0 20  0  0\\n   -1.3249   -2.0806   -0.3403 H   0  0  0  0  0  0  0  0  0 21  0  0\\n    0.8086   -2.3054    1.1864 H   0  0  0  0  0  0  0  0  0 22  0  0\\n   -0.3626   -1.2582    2.0074 H   0  0  0  0  0  0  0  0  0 23  0  0\\n    1.0695    0.5324    1.8174 H   0  0  0  0  0  0  0  0  0 24  0  0\\n    3.1152   -1.2562    1.4438 H   0  0  0  0  0  0  0  0  0 25  0  0\\n    4.1008    1.1900    1.4803 H   0  0  0  0  0  0  0  0  0 26  0  0\\n    3.4836    2.3498   -0.8084 H   0  0  0  0  0  0  0  0  0 27  0  0\\n    2.1141    0.6122   -2.2532 H   0  0  0  0  0  0  0  0  0 28  0  0\\n    2.1461   -1.7388   -0.9946 H   0  0  0  0  0  0  0  0  0 29  0  0\\n    3.7780   -1.0447   -1.0864 H   0  0  0  0  0  0  0  0  0 30  0  0\\n    0.4915    1.5691   -0.2410 H   0  0  0  0  0  0  0  0  0 31  0  0\\n   -0.7247   -0.1418   -1.9001 H   0  0  0  0  0  0  0  0  0 32  0  0\\n  1  2  1  0\\n  1  5  2  0\\n  1 16  1  0\\n  2  3  2  0\\n  2 17  1  0\\n  3  4  1  0\\n  3 18  1  0\\n  4  5  1  0\\n  4 19  1  0\\n  4 20  1  0\\n  5 21  1  0\\n  6  7  1  0\\n  6 15  2  0\\n  6 22  1  0\\n  7  8  1  0\\n  7 23  1  0\\n  7 24  1  0\\n  8  9  1  0\\n  8 14  1  0\\n  8 25  1  0\\n  9 10  1  0\\n  9 13  1  0\\n  9 26  1  0\\n 10 11  2  0\\n 10 27  1  0\\n 11 12  1  0\\n 11 28  1  0\\n 12 13  1  0\\n 12 14  1  0\\n 12 29  1  0\\n 13 30  1  0\\n 13 31  1  0\\n 14 15  1  0\\n 14 32  1  0\\n 15 33  1  0\\nM  END\\n\",\"sdf\");\n",
       "\tviewer_1630197304913364.setStyle({\"stick\": {\"radius\": 0.05, \"color\": \"#f2f2f2\"}, \"sphere\": {\"scale\": 0.25}});\n",
       "\tviewer_1630197304913364.addPropertyLabels(\"index\",\"\",{\"fontSize\": 15, \"fontColor\": \"white\", \"showBackground\": true, \"alignment\": \"center\", \"backgroundOpacity\": 0.2, \"backgroundColor\": \"black\"});\n",
       "\tviewer_1630197304913364.setBackgroundColor(\"#e5e5ff\");\n",
       "\tviewer_1630197304913364.zoomTo();\n",
       "viewer_1630197304913364.render();\n",
       "});\n",
       "</script>"
      ]
     },
     "metadata": {},
     "output_type": "display_data"
    }
   ],
   "source": [
    "try:\n",
    "    p_mol.SetPositions(r_mol.GetPositions())\n",
    "except ValueError as e:\n",
    "    # Very ocassionally, RDKit Cannot embed molecules \n",
    "    # Though the molecule itself looks okay\n",
    "    # Generate a openbabel first and convert it to RDKitMol\n",
    "    print(e)\n",
    "\n",
    "p_combine = optimize_mol(p_mol, frozen_bonds=broken_bonds)\n",
    "\n",
    "if p_combine:\n",
    "    print('\\nThe generated product complex:')\n",
    "    viewer = mol_viewer(p_combine.ToMolBlock(), 'sdf')\n",
    "    viewer.show()"
   ]
  },
  {
   "cell_type": "markdown",
   "metadata": {},
   "source": [
    "### Find the best atom mapping by RMSD. \n",
    "At this point, all heavy atoms are mapped, but some H atoms may be no longer mapped, for example due to a rotation in the methyl rotor during the optimization. We recommend you to do this step, but it is not a requirement though\n",
    "\n",
    "NOTE:\n",
    "1. this can perform relatively poorly if the reactant and the product are in different stereotype (cis/trans). or most rotors are significantly different oriented. However, previous step (match according to RMG reaction) makes sure that all heavy atoms and reacting H atoms are consistent, so only H atoms that are more trivial are influenced by this.\n",
    "2. AlignMol can yields wrong numbers, we switch to `GetBestRMS` and `CalcRMS`."
   ]
  },
  {
   "cell_type": "code",
   "execution_count": null,
   "metadata": {},
   "outputs": [],
   "source": [
    "# Whether to find better matches by reflecting the molecule (resulting in mirror image)\n",
    "reflect = False"
   ]
  },
  {
   "cell_type": "code",
   "execution_count": null,
   "metadata": {},
   "outputs": [],
   "source": [
    "# Generate substructure matches,\n",
    "# There is no difference using `p_combine` or `p_mol` as the argument\n",
    "# Since both of them have the same connectivity information\n",
    "matches = p_mol.GetSubstructMatches(p_combine, uniquify=False)\n",
    "\n",
    "# Make a copy of p_combine to preserve its original information\n",
    "p_align = p_combine.Copy()\n",
    "\n",
    "rmsds = []\n",
    "\n",
    "# Align the combined complex to the rmg generated complex\n",
    "# According to different mapping and find the best one.\n",
    "for i, match in enumerate(matches):\n",
    "    atom_map = [list(enumerate(match))]\n",
    "    rmsd1 = Chem.rdMolAlign.GetBestRMS(prbMol=p_align.ToRWMol(),\n",
    "                                       refMol=p_mol.ToRWMol(),\n",
    "                                       map=atom_map)\n",
    "    if reflect:\n",
    "        p_align.Reflect()\n",
    "        rmsd2 = Chem.rdMolAlign.GetBestRMS(prbMol=p_align.ToRWMol(),\n",
    "                                           refMol=p_mol.ToRWMol(),\n",
    "                                           map=atom_map)\n",
    "        p_align.Reflect()\n",
    "    else:\n",
    "        rmsd2 = 1e10\n",
    "    if rmsd1 > rmsd2:\n",
    "        rmsds.append((i, True, rmsd2,))\n",
    "    else:\n",
    "        rmsds.append((i, False, rmsd1,))\n",
    "best = sorted(rmsds, key=lambda x: x[2])[0]\n",
    "print('Match index: {0}, Reflect Conformation: {1}, RMSD: {2}'.format(*best))\n",
    "\n",
    "# Realign and reorder atom indexes according to the best match\n",
    "best_match = matches[best[0]]\n",
    "Chem.rdMolAlign.GetBestRMS(prbMol=p_align.ToRWMol(),\n",
    "                           refMol=p_mol.ToRWMol(),\n",
    "                           map=[list(enumerate(best_match))])\n",
    "if best[1]:\n",
    "    p_align.Reflect()\n",
    "new_atom_indexes = [best_match.index(i) for i in range(len(best_match))]\n",
    "p_align = p_align.RenumberAtoms(new_atom_indexes)"
   ]
  },
  {
   "cell_type": "markdown",
   "metadata": {},
   "source": [
    "### 4. View Complexes"
   ]
  },
  {
   "cell_type": "code",
   "execution_count": null,
   "metadata": {
    "scrolled": true
   },
   "outputs": [],
   "source": [
    "# mols_to_view = r_mols + [r_mol, p_align,] + p_mols\n",
    "mols_to_view = [r_mol, p_align]\n",
    "entries = len(mols_to_view)\n",
    "\n",
    "viewer = grid_viewer(viewer_grid=(1, entries), viewer_size=(240 * entries, 300),)\n",
    "for i in range(entries):\n",
    "    mol_viewer(mols_to_view[i].ToMolBlock(), 'sdf', viewer=viewer, viewer_loc=(0, i))\n",
    "\n",
    "print('reactant complex    product complex')\n",
    "viewer.show()"
   ]
  },
  {
   "cell_type": "markdown",
   "metadata": {},
   "source": [
    "### 5. Export to SDF file and run ts_gen"
   ]
  },
  {
   "cell_type": "code",
   "execution_count": null,
   "metadata": {},
   "outputs": [],
   "source": [
    "r_mol.ToSDFFile('reactant.sdf')\n",
    "p_align.ToSDFFile('product.sdf')"
   ]
  },
  {
   "cell_type": "markdown",
   "metadata": {},
   "source": [
    "#### 5.1 TS Gen V2"
   ]
  },
  {
   "cell_type": "code",
   "execution_count": null,
   "metadata": {},
   "outputs": [],
   "source": [
    "TS_GEN_PYTHON = '~/Apps/anaconda3/envs/ts_gen_v2/bin/python3.7'\n",
    "TS_GEN_DIR = '~/Apps/ts_gen_v2'"
   ]
  },
  {
   "cell_type": "code",
   "execution_count": null,
   "metadata": {},
   "outputs": [],
   "source": [
    "try:\n",
    "    subprocess.run(f'export PYTHONPATH=$PYTHONPATH:{TS_GEN_DIR};'\n",
    "                   f'{TS_GEN_PYTHON} {TS_GEN_DIR}/inference.py '\n",
    "                   f'--r_sdf_path reactant.sdf '\n",
    "                   f'--p_sdf_path product.sdf '\n",
    "                   f'--ts_xyz_path TS.xyz',\n",
    "                   check=True,\n",
    "                   shell=True)\n",
    "except subprocess.CalledProcessError as e:\n",
    "    print(e)\n",
    "else:\n",
    "    with open('TS.xyz', 'r') as f:\n",
    "        ts_xyz=f.read()\n",
    "    ts = RDKitMol.FromXYZ(ts_xyz)"
   ]
  },
  {
   "cell_type": "markdown",
   "metadata": {},
   "source": [
    "### 6. Visualize TS"
   ]
  },
  {
   "cell_type": "code",
   "execution_count": null,
   "metadata": {
    "scrolled": false
   },
   "outputs": [],
   "source": [
    "# Align the TS to make visualization more convenient\n",
    "atom_map = [(i, i) for i in range(r_mol.GetNumAtoms())]\n",
    "ts.GetBestAlign(refMol=r_mol,\n",
    "                atomMap=atom_map,\n",
    "                keepBestConformer=True)\n",
    "\n",
    "# View results in 3D geometries\n",
    "mols_to_view = [r_mol, ts, p_align]\n",
    "entries = len(mols_to_view)\n",
    "viewer = grid_viewer(viewer_grid=(1, entries), viewer_size=(400 * entries, 400),)\n",
    "for i in range(entries):\n",
    "    mol_viewer(mols_to_view[i].ToMolBlock(), 'sdf', viewer=viewer, viewer_loc=(0, i))\n",
    "\n",
    "print('reactant    TS      product')\n",
    "viewer.show()"
   ]
  },
  {
   "cell_type": "markdown",
   "metadata": {},
   "source": [
    "Get TS xyz"
   ]
  },
  {
   "cell_type": "code",
   "execution_count": null,
   "metadata": {
    "scrolled": false
   },
   "outputs": [],
   "source": [
    "print(ts.ToXYZ())"
   ]
  },
  {
   "cell_type": "code",
   "execution_count": null,
   "metadata": {},
   "outputs": [],
   "source": []
  }
 ],
 "metadata": {
  "@webio": {
   "lastCommId": null,
   "lastKernelId": null
  },
  "kernelspec": {
   "display_name": "Python 3.7.6 64-bit ('arc_env': conda)",
   "language": "python",
   "name": "python37664bitarcenvconda83c4abf9215d4a698ce68e2a44e6e6bc"
  },
  "language_info": {
   "codemirror_mode": {
    "name": "ipython",
    "version": 3
   },
   "file_extension": ".py",
   "mimetype": "text/x-python",
   "name": "python",
   "nbconvert_exporter": "python",
   "pygments_lexer": "ipython3",
   "version": "3.7.7"
  }
 },
 "nbformat": 4,
 "nbformat_minor": 2
}
