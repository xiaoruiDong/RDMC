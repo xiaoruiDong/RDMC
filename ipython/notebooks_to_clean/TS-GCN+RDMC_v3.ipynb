{
 "cells": [
  {
   "cell_type": "markdown",
   "metadata": {},
   "source": [
    "# Demo of RDKitMol + TS-GCN + FF ALIGNMENT\n",
    "\n",
    "Compared to the other demo, in this demo, we tries to use force field to prepare the input for TS-GCN.\n",
    "In the current implementation, this method completely ignores the product\n",
    "\n",
    "Some codes are compiled from https://github.com/ReactionMechanismGenerator/TS-GCN"
   ]
  },
  {
   "cell_type": "code",
   "execution_count": 31,
   "metadata": {},
   "outputs": [
    {
     "name": "stderr",
     "output_type": "stream",
     "text": [
      "WARNING:root:An instance of RMGDatabase already exists. Re-initializing it.\n"
     ]
    },
    {
     "name": "stdout",
     "output_type": "stream",
     "text": [
      "The autoreload extension is already loaded. To reload it, use:\n",
      "  %reload_ext autoreload\n"
     ]
    }
   ],
   "source": [
    "import os\n",
    "import sys\n",
    "import subprocess\n",
    "\n",
    "# To add this RDMC into PYTHONPATH in case you haven't do it\n",
    "sys.path.append(os.path.dirname(os.path.abspath('')))\n",
    "\n",
    "from rdkit import Chem\n",
    "from rdmc.mol import RDKitMol\n",
    "from rdmc.view import grid_viewer, mol_viewer\n",
    "from rdmc.forcefield import RDKitFF, OpenBabelFF\n",
    "try:\n",
    "    # import RMG dependencies\n",
    "    from rdmc.external.rmg import (from_rdkit_mol,\n",
    "                                   find_reaction_family,\n",
    "                                   generate_reaction_complex,\n",
    "                                   load_rmg_database,\n",
    "                                   )\n",
    "    # Load RMG database\n",
    "    database = load_rmg_database()\n",
    "except (ImportError, ModuleNotFoundError):\n",
    "    print('You need to install RMG-Py first and run this IPYNB in rmg_env!')\n",
    "\n",
    "import openbabel as ob\n",
    "\n",
    "def parse_xyz_or_smiles(identifier, **kwargs):\n",
    "    try:\n",
    "        return RDKitMol.FromXYZ(identifier, **kwargs)\n",
    "    except:\n",
    "        mol = RDKitMol.FromSmiles(identifier,)\n",
    "        mol.EmbedConformer()\n",
    "        return mol\n",
    "\n",
    "BOND_CONSTRAINT = {'1,3_Insertion_ROR': 3.0,\n",
    "                   'Retroene': 3.0,\n",
    "                   '1,2_Insertion': 2.5,\n",
    "                   '2+2_cycloaddition_Cd': 3.5,\n",
    "                   'Diels_alder_addition': 4.0,\n",
    "                   'H_Abstraction': 3.0,}\n",
    "\n",
    "%load_ext autoreload\n",
    "%autoreload 2"
   ]
  },
  {
   "cell_type": "markdown",
   "metadata": {},
   "source": [
    "### 1. Input molecule information\n",
    "Perceive xyz and generate RMG molecule.\n",
    "- **Please always define the single species end of the reaction as the reactant.**\n",
    "- **Prefered to put the heavier product in the first place of the list.**\n",
    "\n",
    "Here, some examples are provided"
   ]
  },
  {
   "cell_type": "markdown",
   "metadata": {},
   "source": [
    "#### 1.1: Intra H migration (A = B)"
   ]
  },
  {
   "cell_type": "code",
   "execution_count": 12,
   "metadata": {},
   "outputs": [],
   "source": [
    "reactants = [\"\"\"C -1.528265  0.117903  -0.48245\n",
    "C -0.214051  0.632333  0.11045\n",
    "C 0.185971  2.010727  -0.392941\n",
    "O 0.428964  2.005838  -1.836634\n",
    "O 1.53499  1.354342  -2.136876\n",
    "H -1.470265  0.057863  -1.571456\n",
    "H -1.761158  -0.879955  -0.103809\n",
    "H -2.364396  0.775879  -0.226557\n",
    "H -0.285989  0.690961  1.202293\n",
    "H 0.605557  -0.056315  -0.113934\n",
    "H -0.613001  2.746243  -0.275209\n",
    "H 1.100271  2.372681  0.080302\"\"\"\n",
    "]\n",
    "\n",
    "products = [\"\"\"C 1.765475  -0.57351  -0.068971\n",
    "H 1.474015  -1.391926  -0.715328\n",
    "H 2.791718  -0.529486  0.272883\n",
    "C 0.741534  0.368416  0.460793\n",
    "C -0.510358  0.471107  -0.412585\n",
    "O -1.168692  -0.776861  -0.612765\n",
    "O -1.768685  -1.15259  0.660846\n",
    "H 1.164505  1.37408  0.583524\n",
    "H 0.417329  0.069625  1.470788\n",
    "H -1.221189  1.194071  0.001131\n",
    "H -0.254525  0.771835  -1.433299\n",
    "H -1.297409  -1.977953  0.837367\"\"\"]"
   ]
  },
  {
   "cell_type": "markdown",
   "metadata": {},
   "source": [
    "#### 1.2: Intra_R_Add_Endocyclic (A = B)"
   ]
  },
  {
   "cell_type": "code",
   "execution_count": 3,
   "metadata": {},
   "outputs": [],
   "source": [
    "reactants = [\"\"\"C -1.280629  1.685312  0.071717\n",
    "C -0.442676  0.4472  -0.138756\n",
    "C 0.649852  0.459775  -0.911627\n",
    "C 1.664686  -0.612881  -1.217378\n",
    "O 1.590475  -1.810904  -0.470776\n",
    "C -0.908344  -0.766035  0.616935\n",
    "O -0.479496  -0.70883  2.04303\n",
    "O 0.804383  -0.936239  2.193929\n",
    "H -1.330008  1.940487  1.13602\n",
    "H -0.87426  2.544611  -0.46389\n",
    "H -2.311393  1.527834  -0.265852\n",
    "H 0.884957  1.398914  -1.412655\n",
    "H 2.661334  -0.151824  -1.125202\n",
    "H 1.56564  -0.901818  -2.270488\n",
    "H 1.630132  -1.574551  0.469563\n",
    "H -0.531309  -1.699031  0.2105\n",
    "H -1.994785  -0.790993  0.711395\"\"\",\n",
    "]\n",
    "\n",
    "products = [\"\"\"C -1.515438  1.173583  -0.148858\n",
    "C -0.776842  -0.102045  0.027824\n",
    "C 0.680366  -0.300896  -0.240616\n",
    "O 1.080339  -1.344575  0.660508\n",
    "O -0.122211  -2.188293  0.768145\n",
    "C -1.192654  -1.233281  0.917593\n",
    "C -1.377606  -0.848982  2.395301\n",
    "O -0.302953  -0.072705  2.896143\n",
    "H -2.596401  1.013314  -0.200053\n",
    "H -1.327563  1.859316  0.692798\n",
    "H -1.211486  1.693094  -1.062486\n",
    "H 0.888934  -0.598866  -1.280033\n",
    "H 1.294351  0.57113  0.013413\n",
    "H -2.08787  -1.759118  0.559676\n",
    "H -1.514675  -1.774461  2.97179\n",
    "H -2.282313  -0.243469  2.505554\n",
    "H 0.511127  -0.541653  2.673033\"\"\"]"
   ]
  },
  {
   "cell_type": "markdown",
   "metadata": {},
   "source": [
    "#### 1.3: ketoenol (A = B)"
   ]
  },
  {
   "cell_type": "code",
   "execution_count": 4,
   "metadata": {},
   "outputs": [],
   "source": [
    "reactants = [\"\"\"O 0.898799  1.722422  0.70012\n",
    "C 0.293754  -0.475947  -0.083092\n",
    "C -1.182804  -0.101736  -0.000207\n",
    "C 1.238805  0.627529  0.330521\n",
    "H 0.527921  -1.348663  0.542462\n",
    "H 0.58037  -0.777872  -1.100185\n",
    "H -1.45745  0.17725  1.018899\n",
    "H -1.813437  -0.937615  -0.310796\n",
    "H -1.404454  0.753989  -0.640868\n",
    "H 2.318497  0.360641  0.272256\"\"\",\n",
    "    ]\n",
    "\n",
    "products = [\"\"\"O 2.136128  0.058786  -0.999372\n",
    "C -1.347448  0.039725  0.510465\n",
    "C 0.116046  -0.220125  0.294405\n",
    "C 0.810093  0.253091  -0.73937\n",
    "H -1.530204  0.552623  1.461378\n",
    "H -1.761309  0.662825  -0.286624\n",
    "H -1.923334  -0.892154  0.536088\n",
    "H 0.627132  -0.833978  1.035748\n",
    "H 0.359144  0.869454  -1.510183\n",
    "H 2.513751  -0.490247  -0.302535\"\"\"]"
   ]
  },
  {
   "cell_type": "markdown",
   "metadata": {},
   "source": [
    "#### 1.4: Retroene (A = B + C)"
   ]
  },
  {
   "cell_type": "code",
   "execution_count": 20,
   "metadata": {},
   "outputs": [],
   "source": [
    "reactants = [\n",
    "\"\"\"C -6.006673  2.090429  -0.326601\n",
    "C -4.967524  1.669781  0.388617\n",
    "C -3.589427  2.26746  0.357355\n",
    "C -2.508902  1.272686  -0.104697\n",
    "H -3.327271  2.622795  1.363524\n",
    "H -3.58379  3.147152  -0.296003\n",
    "C -1.100521  1.87264  -0.092522\n",
    "H -2.756221  0.924031  -1.113232\n",
    "H -2.5361  0.386526  0.540381\n",
    "H -1.035149  2.742418  -0.753598\n",
    "H -0.355581  1.145552  -0.426718\n",
    "H -0.818137  2.200037  0.913007\n",
    "H -6.976055  1.60886  -0.26225\n",
    "H -5.925943  2.93703  -1.002368\n",
    "H -5.097445  0.815022  1.052006\"\"\",\n",
    "]\n",
    "\n",
    "products = [\n",
    "\"\"\"C -1.134399  -0.013643  -0.104812\n",
    "C 0.269995  0.453024  0.142565\n",
    "C 1.359378  -0.302236  0.042286\n",
    "H -1.605932  0.564934  -0.907015\n",
    "H -1.757078  0.122064  0.786524\n",
    "H -1.163175  -1.069646  -0.383531\n",
    "H 0.381197  1.49848  0.425883\n",
    "H 1.301395  -1.350314  -0.236967\n",
    "H 2.348619  0.097335  0.235065\"\"\",\n",
    "\n",
    "\"\"\"C 0.659713  0.003927  0.070539\n",
    "C -0.659713  -0.003926  -0.070539\n",
    "H 1.253364  0.882833  -0.158319\n",
    "H 1.20186  -0.86822  0.420842\n",
    "H -1.20186  0.86822  -0.420842\n",
    "H -1.253364  -0.882833  0.158319\"\"\",\n",
    "]"
   ]
  },
  {
   "cell_type": "markdown",
   "metadata": {},
   "source": [
    "#### 1.5 HO2 Addition (A = B + C)"
   ]
  },
  {
   "cell_type": "code",
   "execution_count": 6,
   "metadata": {},
   "outputs": [],
   "source": [
    "reactants = [\n",
    "\"\"\"C -1.890664  -0.709255  -0.271996\n",
    "C -0.601182  0.078056  -0.018811\n",
    "C 0.586457  -0.545096  -0.777924\n",
    "C -0.292203  0.188974  1.451901\n",
    "H -0.683164  -0.56844  2.124827\n",
    "C 0.477032  1.332664  2.012529\n",
    "O -0.367239  2.493656  2.288335\n",
    "O -0.679966  1.393013  -0.618968\n",
    "O -1.811606  2.119506  -0.074789\n",
    "H -1.819659  -1.711353  0.159844\n",
    "H -2.063907  -0.801665  -1.346104\n",
    "H -2.739557  -0.190076  0.171835\n",
    "H 0.374452  -0.548385  -1.849706\n",
    "H 1.501209  0.026135  -0.608139\n",
    "H 0.747239  -1.572318  -0.444379\n",
    "H 1.209047  1.707778  1.296557\n",
    "H 0.998836  1.047896  2.931789\n",
    "H -0.994076  2.235514  2.974109\n",
    "H -1.392774  2.537261  0.704151\"\"\"\n",
    "]\n",
    "\n",
    "products = [\n",
    "\"\"\"C -1.395681  1.528483  -0.00216\n",
    "C -0.402668  0.411601  -0.210813\n",
    "C -0.997629  -0.972081  -0.127641\n",
    "C 0.890607  0.678979  -0.433435\n",
    "C 2.015631  -0.28316  -0.676721\n",
    "O 2.741986  0.043989  -1.867415\n",
    "H -0.923699  2.509933  -0.072949\n",
    "H -2.200649  1.479183  -0.744922\n",
    "H -1.873843  1.44886  0.981238\n",
    "H -1.839799  -1.068706  -0.822233\n",
    "H -0.283424  -1.765173  -0.346167\n",
    "H -1.400492  -1.154354  0.875459\n",
    "H 1.201336  1.7219  -0.466637\n",
    "H 2.754241  -0.212398  0.127575\n",
    "H 1.667906  -1.32225  -0.7073\n",
    "H 2.101868  0.079395  -2.5857\"\"\",\n",
    "\n",
    "\"\"\"O -0.168488  0.443026  0.0\n",
    "O 1.006323  -0.176508  0.0\n",
    "H -0.837834  -0.266518  0.0\"\"\",\n",
    "]"
   ]
  },
  {
   "cell_type": "markdown",
   "metadata": {},
   "source": [
    "#### 1.6 cycloaddition (A = B + C)"
   ]
  },
  {
   "cell_type": "code",
   "execution_count": 28,
   "metadata": {},
   "outputs": [],
   "source": [
    "reactants = [\n",
    "\"\"\"O -0.854577  1.055663  -0.58206\n",
    "O 0.549424  1.357531  -0.196886\n",
    "C -0.727718  -0.273028  -0.011573\n",
    "C 0.76774  -0.043476  0.113736\n",
    "H -1.066903  -1.044054  -0.706048\n",
    "H -1.263435  -0.349651  0.939354\n",
    "H 1.374762  -0.530738  -0.655177\n",
    "H 1.220707  -0.172248  1.098653\"\"\"\n",
    "           ]\n",
    "\n",
    "products = [\n",
    "\"\"\"O 0.0  0.0  0.682161\n",
    "C 0.0  0.0  -0.517771\n",
    "H 0.0  0.938619  -1.110195\n",
    "H 0.0  -0.938619  -1.110195\"\"\",\n",
    "\n",
    "\"\"\"O 0.0  0.0  0.682161\n",
    "C 0.0  0.0  -0.517771\n",
    "H 0.0  0.938619  -1.110195\n",
    "H 0.0  -0.938619  -1.110195\"\"\",\n",
    "]"
   ]
  },
  {
   "cell_type": "markdown",
   "metadata": {},
   "source": [
    "#### [TEST]"
   ]
  },
  {
   "cell_type": "code",
   "execution_count": 7,
   "metadata": {},
   "outputs": [],
   "source": [
    "reactants = [\n",
    "\"\"\"[CH3]\"\"\",\n",
    "\"\"\"CCCCO\"\"\",]            \n",
    "\n",
    "products = [\n",
    "\"\"\"C\"\"\",\n",
    "\"\"\"[CH2]CCCO\"\"\",]"
   ]
  },
  {
   "cell_type": "markdown",
   "metadata": {},
   "source": [
    "### 2. Check if this reaction matches RMG templates and generate product complex\n",
    "If the reaction matches at least one RMG family, the result will be shown. Otherwise,\n",
    "this script will not be helpful"
   ]
  },
  {
   "cell_type": "code",
   "execution_count": 13,
   "metadata": {},
   "outputs": [],
   "source": [
    "# xyz perception algorithm\n",
    "backends = ['openbabel', 'jensen']\n",
    "\n",
    "# header, if your xyz string has the first two lines (atom number + title/comments)\n",
    "header = False"
   ]
  },
  {
   "cell_type": "code",
   "execution_count": 14,
   "metadata": {},
   "outputs": [
    {
     "name": "stdout",
     "output_type": "stream",
     "text": [
      "Automatic pdb calling has been turned OFF\n"
     ]
    }
   ],
   "source": [
    "%pdb"
   ]
  },
  {
   "cell_type": "code",
   "execution_count": 30,
   "metadata": {},
   "outputs": [
    {
     "name": "stdout",
     "output_type": "stream",
     "text": [
      "Using openbabel as XYZ perception backend.\n",
      "C=O + C=O <=> C1COO1\n",
      "RMG family: 2+2_cycloaddition_CO\n",
      "Is forward reaction: False\n"
     ]
    }
   ],
   "source": [
    "# For A = B + C reactions, Better to make A as the reactant\n",
    "if len(reactants) == 2 and len(products) == 1:\n",
    "    reactants, products = products, reactants\n",
    "\n",
    "# Generate reactant and product complex\n",
    "for backend in backends:\n",
    "    print(f'Using {backend} as XYZ perception backend.')\n",
    "    try:\n",
    "        # Convert XYZ to rdkit mol\n",
    "        reactants_rdkit = [parse_xyz_or_smiles(reactant, backend=backend, header=False) for reactant in reactants]\n",
    "        products_rdkit = [parse_xyz_or_smiles(product, backend=backend, header=False) for product in products]\n",
    "\n",
    "        # Convert rdkit mol to RMG mol\n",
    "        reactant_molecules = [from_rdkit_mol(r.ToRWMol()) for r in reactants_rdkit]\n",
    "        product_molecules = [from_rdkit_mol(p.ToRWMol()) for p in products_rdkit]\n",
    "\n",
    "    except Exception as e:\n",
    "        print(e)\n",
    "        print(f'Cannot generate molecule instances using {backend}...')\n",
    "        continue\n",
    "    else:\n",
    "        # A product complex with the same atom indexing as the reactant is generated\n",
    "        family_label, _ = find_reaction_family(database, reactant_molecules,\n",
    "                                               product_molecules, verbose=False)\n",
    "        r_complex, p_complex = generate_reaction_complex(database,\n",
    "                                                 reactant_molecules,\n",
    "                                                 product_molecules,\n",
    "                                                 verbose=True)\n",
    "    if not r_complex:\n",
    "        continue\n",
    "\n",
    "    try:\n",
    "        # p_rmg is the complex in RDKitMol form and product_match is its RMG molecule form\n",
    "        r_mol = RDKitMol.FromRMGMol(r_complex)\n",
    "        p_mol = RDKitMol.FromRMGMol(p_complex)\n",
    "        break\n",
    "    except Exception as e:\n",
    "        # There can be some problem converting RMG mol back to RDKit\n",
    "        print(e)\n",
    "        continue\n",
    "else:\n",
    "    print('No matched RMG reaction is found for the given reactants and products.')"
   ]
  },
  {
   "cell_type": "markdown",
   "metadata": {},
   "source": [
    "### If Single reactants"
   ]
  },
  {
   "cell_type": "code",
   "execution_count": 40,
   "metadata": {},
   "outputs": [
    {
     "name": "stdout",
     "output_type": "stream",
     "text": [
      "\n",
      "The generated product complex:\n"
     ]
    },
    {
     "data": {
      "application/3dmoljs_load.v0": "<div id=\"3dmolviewer_16248199376345348\"  style=\"position: relative; width: 400px; height: 400px\">\n        <p id=\"3dmolwarning_16248199376345348\" style=\"background-color:#ffcccc;color:black\">You appear to be running in JupyterLab (or JavaScript failed to load for some other reason).  You need to install the 3dmol extension: <br>\n        <tt>jupyter labextension install jupyterlab_3dmol</tt></p>\n        </div>\n<script>\n\nvar loadScriptAsync = function(uri){\n  return new Promise((resolve, reject) => {\n    var tag = document.createElement('script');\n    tag.src = uri;\n    tag.async = true;\n    tag.onload = () => {\n      resolve();\n    };\n  var firstScriptTag = document.getElementsByTagName('script')[0];\n  firstScriptTag.parentNode.insertBefore(tag, firstScriptTag);\n});\n};\n\nif(typeof $3Dmolpromise === 'undefined') {\n$3Dmolpromise = null;\n  $3Dmolpromise = loadScriptAsync('https://3dmol.csb.pitt.edu/build/3Dmol.js');\n}\n\nvar viewer_16248199376345348 = null;\nvar warn = document.getElementById(\"3dmolwarning_16248199376345348\");\nif(warn) {\n    warn.parentNode.removeChild(warn);\n}\n$3Dmolpromise.then(function() {\nviewer_16248199376345348 = $3Dmol.createViewer($(\"#3dmolviewer_16248199376345348\"),{backgroundColor:\"white\"});\n\tviewer_16248199376345348.addModel(\"\\n     RDKit          3D\\n\\n  8  6  0  0  0  0  0  0  0  0999 V2000\\n   -0.8546    1.0557   -0.5821 O   0  0  0  0  0  0  0  0  0  0  0  0\\n    0.5494    1.3575   -0.1969 O   0  0  0  0  0  0  0  0  0  1  0  0\\n   -0.7277   -0.2730   -0.0116 C   0  0  0  0  0  0  0  0  0  2  0  0\\n    0.7677   -0.0435    0.1137 C   0  0  0  0  0  0  0  0  0  3  0  0\\n   -1.0669   -1.0441   -0.7060 H   0  0  0  0  0  0  0  0  0  4  0  0\\n   -1.2634   -0.3497    0.9394 H   0  0  0  0  0  0  0  0  0  5  0  0\\n    1.3748   -0.5307   -0.6552 H   0  0  0  0  0  0  0  0  0  6  0  0\\n    1.2207   -0.1722    1.0987 H   0  0  0  0  0  0  0  0  0  7  0  0\\n  1  3  2  0\\n  2  4  2  0\\n  3  5  1  0\\n  3  6  1  0\\n  4  7  1  0\\n  4  8  1  0\\nM  END\\n\",\"sdf\");\n\tviewer_16248199376345348.setStyle({\"stick\": {\"radius\": 0.2}, \"sphere\": {\"scale\": 0.25}});\n\tviewer_16248199376345348.addPropertyLabels(\"index\",\"\",{\"fontSize\": 15, \"fontColor\": \"white\", \"showBackground\": true, \"alignment\": \"center\", \"backgroundOpacity\": 0.2, \"backgroundColor\": \"black\"});\n\tviewer_16248199376345348.zoomTo();\nviewer_16248199376345348.render();\n});\n</script>",
      "text/html": [
       "<div id=\"3dmolviewer_16248199376345348\"  style=\"position: relative; width: 400px; height: 400px\">\n",
       "        <p id=\"3dmolwarning_16248199376345348\" style=\"background-color:#ffcccc;color:black\">You appear to be running in JupyterLab (or JavaScript failed to load for some other reason).  You need to install the 3dmol extension: <br>\n",
       "        <tt>jupyter labextension install jupyterlab_3dmol</tt></p>\n",
       "        </div>\n",
       "<script>\n",
       "\n",
       "var loadScriptAsync = function(uri){\n",
       "  return new Promise((resolve, reject) => {\n",
       "    var tag = document.createElement('script');\n",
       "    tag.src = uri;\n",
       "    tag.async = true;\n",
       "    tag.onload = () => {\n",
       "      resolve();\n",
       "    };\n",
       "  var firstScriptTag = document.getElementsByTagName('script')[0];\n",
       "  firstScriptTag.parentNode.insertBefore(tag, firstScriptTag);\n",
       "});\n",
       "};\n",
       "\n",
       "if(typeof $3Dmolpromise === 'undefined') {\n",
       "$3Dmolpromise = null;\n",
       "  $3Dmolpromise = loadScriptAsync('https://3dmol.csb.pitt.edu/build/3Dmol.js');\n",
       "}\n",
       "\n",
       "var viewer_16248199376345348 = null;\n",
       "var warn = document.getElementById(\"3dmolwarning_16248199376345348\");\n",
       "if(warn) {\n",
       "    warn.parentNode.removeChild(warn);\n",
       "}\n",
       "$3Dmolpromise.then(function() {\n",
       "viewer_16248199376345348 = $3Dmol.createViewer($(\"#3dmolviewer_16248199376345348\"),{backgroundColor:\"white\"});\n",
       "\tviewer_16248199376345348.addModel(\"\\n     RDKit          3D\\n\\n  8  6  0  0  0  0  0  0  0  0999 V2000\\n   -0.8546    1.0557   -0.5821 O   0  0  0  0  0  0  0  0  0  0  0  0\\n    0.5494    1.3575   -0.1969 O   0  0  0  0  0  0  0  0  0  1  0  0\\n   -0.7277   -0.2730   -0.0116 C   0  0  0  0  0  0  0  0  0  2  0  0\\n    0.7677   -0.0435    0.1137 C   0  0  0  0  0  0  0  0  0  3  0  0\\n   -1.0669   -1.0441   -0.7060 H   0  0  0  0  0  0  0  0  0  4  0  0\\n   -1.2634   -0.3497    0.9394 H   0  0  0  0  0  0  0  0  0  5  0  0\\n    1.3748   -0.5307   -0.6552 H   0  0  0  0  0  0  0  0  0  6  0  0\\n    1.2207   -0.1722    1.0987 H   0  0  0  0  0  0  0  0  0  7  0  0\\n  1  3  2  0\\n  2  4  2  0\\n  3  5  1  0\\n  3  6  1  0\\n  4  7  1  0\\n  4  8  1  0\\nM  END\\n\",\"sdf\");\n",
       "\tviewer_16248199376345348.setStyle({\"stick\": {\"radius\": 0.2}, \"sphere\": {\"scale\": 0.25}});\n",
       "\tviewer_16248199376345348.addPropertyLabels(\"index\",\"\",{\"fontSize\": 15, \"fontColor\": \"white\", \"showBackground\": true, \"alignment\": \"center\", \"backgroundOpacity\": 0.2, \"backgroundColor\": \"black\"});\n",
       "\tviewer_16248199376345348.zoomTo();\n",
       "viewer_16248199376345348.render();\n",
       "});\n",
       "</script>"
      ]
     },
     "metadata": {},
     "output_type": "display_data"
    }
   ],
   "source": [
    "if len(reactants) == 1:\n",
    "    r_mol = reactants_rdkit[0]\n",
    "    \n",
    "    try:\n",
    "        p_mol.SetPositions(r_mol.GetPositions())\n",
    "    except ValueError as e:\n",
    "        # Very ocassionally, RDKit Cannot embed molecules \n",
    "        # Though the molecule itself looks okay\n",
    "        # Generate a openbabel first and convert it to RDKitMol\n",
    "        print(e)\n",
    "\n",
    "    if p_mol:\n",
    "        print('\\nThe generated product complex:')\n",
    "        viewer = mol_viewer(p_mol.ToMolBlock(), 'sdf')\n",
    "        viewer.show()"
   ]
  },
  {
   "cell_type": "markdown",
   "metadata": {},
   "source": [
    "### 3. Apply force field optimization to get reasonable alignment\n",
    "Instead of using RDKit force field module, we are using Openbabel force field. It is due to RDKit force field doesn't treat molecule-molecule interaction correctly"
   ]
  },
  {
   "cell_type": "code",
   "execution_count": 43,
   "metadata": {},
   "outputs": [],
   "source": [
    "# bond length for bonds will be fixed at the following value\n",
    "bond_constraint_factor = 2.0 #BOND_CONSTRAINT.get(family_label, 3.0) # Unit: Angstrom\n",
    "\n",
    "# Force Field\n",
    "force_field_type = \"MMFF94s\"\n",
    "# Convergence criteria\n",
    "tol = 1e-8\n",
    "# Step size\n",
    "step = 5\n",
    "# Max step\n",
    "max_step = 10000"
   ]
  },
  {
   "cell_type": "code",
   "execution_count": 44,
   "metadata": {},
   "outputs": [
    {
     "name": "stdout",
     "output_type": "stream",
     "text": [
      "Following bonds are formed in the reaction: []\n",
      "Following bonds are broken in the reaction: [{0, 1}, {2, 3}]\n",
      "\n",
      "Visualize optimized molecule:\n"
     ]
    },
    {
     "data": {
      "application/3dmoljs_load.v0": "<div id=\"3dmolviewer_16248199930410812\"  style=\"position: relative; width: 400px; height: 400px\">\n        <p id=\"3dmolwarning_16248199930410812\" style=\"background-color:#ffcccc;color:black\">You appear to be running in JupyterLab (or JavaScript failed to load for some other reason).  You need to install the 3dmol extension: <br>\n        <tt>jupyter labextension install jupyterlab_3dmol</tt></p>\n        </div>\n<script>\n\nvar loadScriptAsync = function(uri){\n  return new Promise((resolve, reject) => {\n    var tag = document.createElement('script');\n    tag.src = uri;\n    tag.async = true;\n    tag.onload = () => {\n      resolve();\n    };\n  var firstScriptTag = document.getElementsByTagName('script')[0];\n  firstScriptTag.parentNode.insertBefore(tag, firstScriptTag);\n});\n};\n\nif(typeof $3Dmolpromise === 'undefined') {\n$3Dmolpromise = null;\n  $3Dmolpromise = loadScriptAsync('https://3dmol.csb.pitt.edu/build/3Dmol.js');\n}\n\nvar viewer_16248199930410812 = null;\nvar warn = document.getElementById(\"3dmolwarning_16248199930410812\");\nif(warn) {\n    warn.parentNode.removeChild(warn);\n}\n$3Dmolpromise.then(function() {\nviewer_16248199930410812 = $3Dmol.createViewer($(\"#3dmolviewer_16248199930410812\"),{backgroundColor:\"white\"});\n\tviewer_16248199930410812.addModel(\"\\n     RDKit          3D\\n\\n  8  6  0  0  0  0  0  0  0  0999 V2000\\n   -1.0644    0.9026   -0.6811 O   0  0  0  0  0  0  0  0  0  0  0  0\\n    0.7806    1.3418   -0.0433 O   0  0  0  0  0  0  0  0  0  1  0  0\\n   -0.9830   -0.1689   -0.0855 C   0  0  0  0  0  0  0  0  0  2  0  0\\n    0.9869    0.1385    0.0953 C   0  0  0  0  0  0  0  0  0  3  0  0\\n   -0.9105   -1.1359   -0.6227 H   0  0  0  0  0  0  0  0  0  4  0  0\\n   -1.2008   -0.2496    0.9991 H   0  0  0  0  0  0  0  0  0  5  0  0\\n    1.2956   -0.5007   -0.7569 H   0  0  0  0  0  0  0  0  0  6  0  0\\n    1.0956   -0.3278    1.0952 H   0  0  0  0  0  0  0  0  0  7  0  0\\n  1  3  2  0\\n  2  4  2  0\\n  3  5  1  0\\n  3  6  1  0\\n  4  7  1  0\\n  4  8  1  0\\nM  END\\n\",\"sdf\");\n\tviewer_16248199930410812.setStyle({\"stick\": {\"radius\": 0.2}, \"sphere\": {\"scale\": 0.25}});\n\tviewer_16248199930410812.addPropertyLabels(\"index\",\"\",{\"fontSize\": 15, \"fontColor\": \"white\", \"showBackground\": true, \"alignment\": \"center\", \"backgroundOpacity\": 0.2, \"backgroundColor\": \"black\"});\n\tviewer_16248199930410812.zoomTo();\nviewer_16248199930410812.render();\n});\n</script>",
      "text/html": [
       "<div id=\"3dmolviewer_16248199930410812\"  style=\"position: relative; width: 400px; height: 400px\">\n",
       "        <p id=\"3dmolwarning_16248199930410812\" style=\"background-color:#ffcccc;color:black\">You appear to be running in JupyterLab (or JavaScript failed to load for some other reason).  You need to install the 3dmol extension: <br>\n",
       "        <tt>jupyter labextension install jupyterlab_3dmol</tt></p>\n",
       "        </div>\n",
       "<script>\n",
       "\n",
       "var loadScriptAsync = function(uri){\n",
       "  return new Promise((resolve, reject) => {\n",
       "    var tag = document.createElement('script');\n",
       "    tag.src = uri;\n",
       "    tag.async = true;\n",
       "    tag.onload = () => {\n",
       "      resolve();\n",
       "    };\n",
       "  var firstScriptTag = document.getElementsByTagName('script')[0];\n",
       "  firstScriptTag.parentNode.insertBefore(tag, firstScriptTag);\n",
       "});\n",
       "};\n",
       "\n",
       "if(typeof $3Dmolpromise === 'undefined') {\n",
       "$3Dmolpromise = null;\n",
       "  $3Dmolpromise = loadScriptAsync('https://3dmol.csb.pitt.edu/build/3Dmol.js');\n",
       "}\n",
       "\n",
       "var viewer_16248199930410812 = null;\n",
       "var warn = document.getElementById(\"3dmolwarning_16248199930410812\");\n",
       "if(warn) {\n",
       "    warn.parentNode.removeChild(warn);\n",
       "}\n",
       "$3Dmolpromise.then(function() {\n",
       "viewer_16248199930410812 = $3Dmol.createViewer($(\"#3dmolviewer_16248199930410812\"),{backgroundColor:\"white\"});\n",
       "\tviewer_16248199930410812.addModel(\"\\n     RDKit          3D\\n\\n  8  6  0  0  0  0  0  0  0  0999 V2000\\n   -1.0644    0.9026   -0.6811 O   0  0  0  0  0  0  0  0  0  0  0  0\\n    0.7806    1.3418   -0.0433 O   0  0  0  0  0  0  0  0  0  1  0  0\\n   -0.9830   -0.1689   -0.0855 C   0  0  0  0  0  0  0  0  0  2  0  0\\n    0.9869    0.1385    0.0953 C   0  0  0  0  0  0  0  0  0  3  0  0\\n   -0.9105   -1.1359   -0.6227 H   0  0  0  0  0  0  0  0  0  4  0  0\\n   -1.2008   -0.2496    0.9991 H   0  0  0  0  0  0  0  0  0  5  0  0\\n    1.2956   -0.5007   -0.7569 H   0  0  0  0  0  0  0  0  0  6  0  0\\n    1.0956   -0.3278    1.0952 H   0  0  0  0  0  0  0  0  0  7  0  0\\n  1  3  2  0\\n  2  4  2  0\\n  3  5  1  0\\n  3  6  1  0\\n  4  7  1  0\\n  4  8  1  0\\nM  END\\n\",\"sdf\");\n",
       "\tviewer_16248199930410812.setStyle({\"stick\": {\"radius\": 0.2}, \"sphere\": {\"scale\": 0.25}});\n",
       "\tviewer_16248199930410812.addPropertyLabels(\"index\",\"\",{\"fontSize\": 15, \"fontColor\": \"white\", \"showBackground\": true, \"alignment\": \"center\", \"backgroundOpacity\": 0.2, \"backgroundColor\": \"black\"});\n",
       "\tviewer_16248199930410812.zoomTo();\n",
       "viewer_16248199930410812.render();\n",
       "});\n",
       "</script>"
      ]
     },
     "metadata": {},
     "output_type": "display_data"
    },
    {
     "data": {
      "text/plain": [
       "<py3Dmol.view at 0x7f85a175d290>"
      ]
     },
     "execution_count": 44,
     "metadata": {},
     "output_type": "execute_result"
    }
   ],
   "source": [
    "# Find broken bonds\n",
    "r_bonds = [{bond.GetBeginAtomIdx(), bond.GetEndAtomIdx()} for bond in r_mol.GetBonds()]\n",
    "p_bonds = [{bond.GetBeginAtomIdx(), bond.GetEndAtomIdx()} for bond in p_mol.GetBonds()]\n",
    "formed_bonds = [bond for bond in p_bonds if bond not in r_bonds]\n",
    "broken_bonds = [bond for bond in r_bonds if bond not in p_bonds]\n",
    "print(f'Following bonds are formed in the reaction: {formed_bonds}')\n",
    "print(f'Following bonds are broken in the reaction: {broken_bonds}')\n",
    "\n",
    "# Make a backup molecule\n",
    "p_combine = p_mol.Copy()\n",
    "try:\n",
    "    # First try if we can use RDKit Forcefield to optimize\n",
    "    # It is faster, relatively more robust, but have limited atom-type support\n",
    "    ff = RDKitFF(force_field_type)\n",
    "    # In RDKit FF, setup first then add constraints\n",
    "    ff.setup(p_combine, ignore_interfrag_interactions=False)\n",
    "    for broken_bond in broken_bonds:\n",
    "        ff.add_distance_constraint(broken_bond, bond_constraint_factor)\n",
    "\n",
    "except NotImplementedError as e:\n",
    "    print(e)\n",
    "    # It means we cannot make the molecule optimizable by RDKit force field\n",
    "    # Then use OpenBabel force field\n",
    "    ff = OpenBabelFF(force_field_type)\n",
    "    # provides mol can help adjust the atom index difference between RDKit Mol and OpenBabel Mol\n",
    "    ff.mol = p_combine\n",
    "    # In Openbabel Forcefield, add constraints first then setup the force field\n",
    "    for broken_bond in broken_bonds:\n",
    "        ff.add_distance_constraint(broken_bond, bond_constraint_factor)\n",
    "    ff.setup()\n",
    "\n",
    "finally:\n",
    "    ff.optimize(max_step=max_step, tol=tol, step_per_iter=step)\n",
    "    p_combine = ff.get_optimized_mol()\n",
    "\n",
    "print('\\nVisualize optimized molecule:')\n",
    "mol_viewer(p_combine.ToMolBlock(), 'sdf')"
   ]
  },
  {
   "cell_type": "markdown",
   "metadata": {},
   "source": [
    "### 4. Find the best atom mapping by RMSD. <br>\n",
    "Note, this can perform relatively poorly if the reactant and the product are in different stereotype (cis/trans). or most rotors are significantly different oriented. However, previous step (match according to RMG reaction) makes sure that all heavy atoms and reacting H atoms are consistent, so only H atoms that are more trivial are influenced by this.\n",
    "\n",
    "NOTE: AlignMol can yields wrong numbers, we switch to `GetBestRMS` and `CalcRMS`."
   ]
  },
  {
   "cell_type": "code",
   "execution_count": 45,
   "metadata": {},
   "outputs": [],
   "source": [
    "# Whether to find better matches by reflecting the molecule (resulting in mirror image)\n",
    "reflect = False"
   ]
  },
  {
   "cell_type": "code",
   "execution_count": 46,
   "metadata": {},
   "outputs": [
    {
     "ename": "NameError",
     "evalue": "name 'p_rmg' is not defined",
     "output_type": "error",
     "traceback": [
      "\u001b[0;31m---------------------------------------------------------------------------\u001b[0m",
      "\u001b[0;31mNameError\u001b[0m                                 Traceback (most recent call last)",
      "\u001b[0;32m<ipython-input-46-d125efc88de2>\u001b[0m in \u001b[0;36m<module>\u001b[0;34m\u001b[0m\n\u001b[1;32m     14\u001b[0m     \u001b[0matom_map\u001b[0m \u001b[0;34m=\u001b[0m \u001b[0;34m[\u001b[0m\u001b[0mlist\u001b[0m\u001b[0;34m(\u001b[0m\u001b[0menumerate\u001b[0m\u001b[0;34m(\u001b[0m\u001b[0mmatch\u001b[0m\u001b[0;34m)\u001b[0m\u001b[0;34m)\u001b[0m\u001b[0;34m]\u001b[0m\u001b[0;34m\u001b[0m\u001b[0;34m\u001b[0m\u001b[0m\n\u001b[1;32m     15\u001b[0m     rmsd1 = Chem.rdMolAlign.GetBestRMS(prbMol=p_align.ToRWMol(),\n\u001b[0;32m---> 16\u001b[0;31m                                        \u001b[0mrefMol\u001b[0m\u001b[0;34m=\u001b[0m\u001b[0mp_rmg\u001b[0m\u001b[0;34m.\u001b[0m\u001b[0mToRWMol\u001b[0m\u001b[0;34m(\u001b[0m\u001b[0;34m)\u001b[0m\u001b[0;34m,\u001b[0m\u001b[0;34m\u001b[0m\u001b[0;34m\u001b[0m\u001b[0m\n\u001b[0m\u001b[1;32m     17\u001b[0m                                        map=atom_map)\n\u001b[1;32m     18\u001b[0m     \u001b[0;32mif\u001b[0m \u001b[0mreflect\u001b[0m\u001b[0;34m:\u001b[0m\u001b[0;34m\u001b[0m\u001b[0;34m\u001b[0m\u001b[0m\n",
      "\u001b[0;31mNameError\u001b[0m: name 'p_rmg' is not defined"
     ]
    }
   ],
   "source": [
    "# Generate substructure matches,\n",
    "# There is no difference using `p_combine` or `p_mol` as the argument\n",
    "# Since both of them have the same connectivity information\n",
    "matches = p_mol.GetSubstructMatches(p_combine, uniquify=False)\n",
    "\n",
    "# Make a copy of p_combine to preserve its original information\n",
    "p_align = p_combine.Copy()\n",
    "\n",
    "rmsds = []\n",
    "\n",
    "# Align the combined complex to the rmg generated complex\n",
    "# According to different mapping and find the best one.\n",
    "for i, match in enumerate(matches):\n",
    "    atom_map = [list(enumerate(match))]\n",
    "    rmsd1 = Chem.rdMolAlign.GetBestRMS(prbMol=p_align.ToRWMol(),\n",
    "                                       refMol=p_rmg.ToRWMol(),\n",
    "                                       map=atom_map)\n",
    "    if reflect:\n",
    "        p_align.Reflect()\n",
    "        rmsd2 = Chem.rdMolAlign.GetBestRMS(prbMol=p_align.ToRWMol(),\n",
    "                                           refMol=p_rmg.ToRWMol(),\n",
    "                                           map=atom_map)\n",
    "        p_align.Reflect()\n",
    "    else:\n",
    "        rmsd2=1e10\n",
    "    if rmsd1 > rmsd2:\n",
    "        rmsds.append((i, True, rmsd2,))\n",
    "    else:\n",
    "        rmsds.append((i, False, rmsd1,))\n",
    "best = sorted(rmsds, key=lambda x: x[2])[0]\n",
    "print('Match index: {0}, Reflect Conformation: {1}, RMSD: {2}'.format(*best))\n",
    "\n",
    "# Realign and reorder atom indexes according to the best match\n",
    "best_match = matches[best[0]]\n",
    "Chem.rdMolAlign.GetBestRMS(prbMol=p_align.ToRWMol(),\n",
    "                           refMol=p_rmg.ToRWMol(),\n",
    "                           map=[list(enumerate(best_match))])\n",
    "if best[1]:\n",
    "    p_align.Reflect()\n",
    "new_atom_indexes = [best_match.index(i) for i in range(len(best_match))]\n",
    "p_align = p_align.RenumberAtoms(new_atom_indexes)"
   ]
  },
  {
   "cell_type": "markdown",
   "metadata": {},
   "source": [
    "### 4. View Molecules"
   ]
  },
  {
   "cell_type": "code",
   "execution_count": 46,
   "metadata": {
    "scrolled": true
   },
   "outputs": [
    {
     "name": "stdout",
     "output_type": "stream",
     "text": [
      "reactant    matched product      original products\n"
     ]
    },
    {
     "data": {
      "application/3dmoljs_load.v0": "<div id=\"3dmolviewer_1623385259579193\"  style=\"position: relative; width: 960px; height: 300px\">\n        <p id=\"3dmolwarning_1623385259579193\" style=\"background-color:#ffcccc;color:black\">You appear to be running in JupyterLab (or JavaScript failed to load for some other reason).  You need to install the 3dmol extension: <br>\n        <tt>jupyter labextension install jupyterlab_3dmol</tt></p>\n        </div>\n<script>\n\nvar loadScriptAsync = function(uri){\n  return new Promise((resolve, reject) => {\n    var tag = document.createElement('script');\n    tag.src = uri;\n    tag.async = true;\n    tag.onload = () => {\n      resolve();\n    };\n  var firstScriptTag = document.getElementsByTagName('script')[0];\n  firstScriptTag.parentNode.insertBefore(tag, firstScriptTag);\n});\n};\n\nif(typeof $3Dmolpromise === 'undefined') {\n$3Dmolpromise = null;\n  $3Dmolpromise = loadScriptAsync('https://3dmol.csb.pitt.edu/build/3Dmol.js');\n}\n\nvar viewer_1623385259579193 = null;\nvar warn = document.getElementById(\"3dmolwarning_1623385259579193\");\nif(warn) {\n    warn.parentNode.removeChild(warn);\n}\n$3Dmolpromise.then(function() {\nvar viewergrid_1623385259579193 = null;\nviewergrid_1623385259579193 = $3Dmol.createViewerGrid($(\"#3dmolviewer_1623385259579193\"),{rows: 1, cols: 4, control_all: false},{backgroundColor:\"white\"});\nviewer_1623385259579193 = viewergrid_1623385259579193[0][0];\n\tviewergrid_1623385259579193[0][0].addModel(\"\\n     RDKit          3D\\n\\n 22 23  0  0  0  0  0  0  0  0999 V2000\\n    2.7950    0.0625    0.8452 C   0  0  0  0  0  0  0  0  0  0  0  0\\n    1.7471    0.8581    0.7201 C   0  0  0  0  0  0  0  0  0  1  0  0\\n    0.9502    0.3516   -0.4235 C   0  0  0  0  0  0  0  0  0  2  0  0\\n   -0.3764   -0.1023    0.1163 C   0  0  0  0  0  0  0  0  0  3  0  0\\n   -1.1360    0.9974    0.7869 C   0  0  0  0  0  0  0  0  0  4  0  0\\n   -2.4358    0.8517    0.5726 C   0  0  0  0  0  0  0  0  0  5  0  0\\n   -2.6532   -0.3556   -0.2569 C   0  0  0  0  0  0  0  0  0  6  0  0\\n   -1.3528   -0.4374   -1.0230 C   0  0  0  0  0  0  0  0  0  7  0  0\\n    1.6962   -0.8255   -0.9104 C   0  0  0  0  0  0  0  0  0  8  0  0\\n    2.7759   -0.9882   -0.1617 C   0  0  0  0  0  0  0  0  0  9  0  0\\n    3.6063    0.1236    1.5807 H   0  0  0  0  0  0  0  0  0 10  0  0\\n    1.5081    1.7177    1.3310 H   0  0  0  0  0  0  0  0  0 11  0  0\\n    0.8503    1.1304   -1.1983 H   0  0  0  0  0  0  0  0  0 12  0  0\\n   -0.2895   -0.9646    0.7978 H   0  0  0  0  0  0  0  0  0 13  0  0\\n   -0.6725    1.7889    1.3602 H   0  0  0  0  0  0  0  0  0 14  0  0\\n   -3.1986    1.5392    0.9655 H   0  0  0  0  0  0  0  0  0 15  0  0\\n   -3.5340   -0.2920   -0.9089 H   0  0  0  0  0  0  0  0  0 16  0  0\\n   -2.7459   -1.2195    0.4620 H   0  0  0  0  0  0  0  0  0 17  0  0\\n   -1.3290    0.4082   -1.7294 H   0  0  0  0  0  0  0  0  0 18  0  0\\n   -1.1529   -1.4151   -1.4582 H   0  0  0  0  0  0  0  0  0 19  0  0\\n    1.4211   -1.4466   -1.7260 H   0  0  0  0  0  0  0  0  0 20  0  0\\n    3.5264   -1.7823   -0.2835 H   0  0  0  0  0  0  0  0  0 21  0  0\\n  1  2  2  0\\n  2  3  1  0\\n  3  4  1  0\\n  4  5  1  0\\n  5  6  2  0\\n  6  7  1  0\\n  7  8  1  0\\n  3  9  1  0\\n  9 10  2  0\\n 10  1  1  0\\n  8  4  1  0\\n  1 11  1  0\\n  2 12  1  0\\n  3 13  1  0\\n  4 14  1  0\\n  5 15  1  0\\n  6 16  1  0\\n  7 17  1  0\\n  7 18  1  0\\n  8 19  1  0\\n  8 20  1  0\\n  9 21  1  0\\n 10 22  1  0\\nM  END\\n\",\"sdf\");\n\tviewergrid_1623385259579193[0][0].setStyle({\"stick\": {\"radius\": 0.2}, \"sphere\": {\"scale\": 0.25}});\n\tviewergrid_1623385259579193[0][1].setStyle({\"stick\": {\"radius\": 0.2}, \"sphere\": {\"scale\": 0.25}});\n\tviewergrid_1623385259579193[0][2].setStyle({\"stick\": {\"radius\": 0.2}, \"sphere\": {\"scale\": 0.25}});\n\tviewergrid_1623385259579193[0][3].setStyle({\"stick\": {\"radius\": 0.2}, \"sphere\": {\"scale\": 0.25}});\n\tviewergrid_1623385259579193[0][0].addPropertyLabels(\"index\",\"\",{\"fontSize\": 15, \"fontColor\": \"white\", \"showBackground\": true, \"alignment\": \"center\", \"backgroundOpacity\": 0.2, \"backgroundColor\": \"black\"});\n\tviewergrid_1623385259579193[0][0].zoomTo();\n\tviewergrid_1623385259579193[0][1].addModel(\"\\n     RDKit          3D\\n\\n 22 22  0  0  0  0  0  0  0  0999 V2000\\n    1.8637   -0.1728    1.3907 C   0  0  0  0  0  0  0  0  0  6  0  0\\n    2.2297    1.1197    0.7221 C   0  0  0  0  0  0  0  0  0  5  0  0\\n    2.0148    1.0232   -0.5975 C   0  0  0  0  0  0  0  0  0  4  0  0\\n   -1.3782    0.3333   -1.4637 C   0  0  0  0  0  0  0  0  0  2  0  0\\n   -1.6103    1.1680   -0.3126 C   0  0  0  0  0  0  0  0  0  8  0  0\\n   -2.0577    0.4136    0.7008 C   0  0  0  0  0  0  0  0  0  9  0  0\\n   -2.1488   -1.0179    0.2613 C   0  0  0  0  0  0  0  0  0  0  0  0\\n   -1.7291   -0.9286   -1.1761 C   0  0  0  0  0  0  0  0  0  1  0  0\\n    1.5032   -0.2878   -0.9042 C   0  0  0  0  0  0  0  0  0  3  0  0\\n    1.4224   -1.0079    0.2255 C   0  0  0  0  0  0  0  0  0  7  0  0\\n    2.7290   -0.6176    1.8904 H   0  0  0  0  0  0  0  0  0 17  0  0\\n    2.6073    1.9900    1.2364 H   0  0  0  0  0  0  0  0  0 15  0  0\\n    2.1869    1.7943   -1.3324 H   0  0  0  0  0  0  0  0  0 14  0  0\\n   -1.0234    0.7000   -2.4146 H   0  0  0  0  0  0  0  0  0 12  0  0\\n   -1.4320    2.2320   -0.2891 H   0  0  0  0  0  0  0  0  0 20  0  0\\n   -2.3036    0.7696    1.6891 H   0  0  0  0  0  0  0  0  0 21  0  0\\n   -3.1677   -1.4021    0.3579 H   0  0  0  0  0  0  0  0  0 10  0  0\\n   -1.4477   -1.6423    0.8260 H   0  0  0  0  0  0  0  0  0 18  0  0\\n    1.0511   -0.0326    2.1093 H   0  0  0  0  0  0  0  0  0 16  0  0\\n   -1.6808   -1.7660   -1.8546 H   0  0  0  0  0  0  0  0  0 11  0  0\\n    1.2767   -0.6348   -1.9004 H   0  0  0  0  0  0  0  0  0 13  0  0\\n    1.0944   -2.0332    0.2943 H   0  0  0  0  0  0  0  0  0 19  0  0\\n  7  8  1  0\\n  7  6  1  0\\n  7 17  1  0\\n  7 18  1  0\\n  8  4  2  0\\n  8 20  1  0\\n  4  5  1  0\\n  4 14  1  0\\n  9  3  1  0\\n  9 10  2  0\\n  9 21  1  0\\n  3  2  2  0\\n  3 13  1  0\\n  2  1  1  0\\n  2 12  1  0\\n  1 10  1  0\\n  1 19  1  0\\n  1 11  1  0\\n 10 22  1  0\\n  5  6  2  0\\n  5 15  1  0\\n  6 16  1  0\\nM  END\\n\",\"sdf\");\n\tviewergrid_1623385259579193[0][0].setStyle({\"stick\": {\"radius\": 0.2}, \"sphere\": {\"scale\": 0.25}});\n\tviewergrid_1623385259579193[0][1].setStyle({\"stick\": {\"radius\": 0.2}, \"sphere\": {\"scale\": 0.25}});\n\tviewergrid_1623385259579193[0][2].setStyle({\"stick\": {\"radius\": 0.2}, \"sphere\": {\"scale\": 0.25}});\n\tviewergrid_1623385259579193[0][3].setStyle({\"stick\": {\"radius\": 0.2}, \"sphere\": {\"scale\": 0.25}});\n\tviewergrid_1623385259579193[0][1].addPropertyLabels(\"index\",\"\",{\"fontSize\": 15, \"fontColor\": \"white\", \"showBackground\": true, \"alignment\": \"center\", \"backgroundOpacity\": 0.2, \"backgroundColor\": \"black\"});\n\tviewergrid_1623385259579193[0][1].zoomTo();\n\tviewergrid_1623385259579193[0][2].addModel(\"\\n     RDKit          3D\\n\\n 11 11  0  0  0  0  0  0  0  0999 V2000\\n   -0.2104   -1.1671   -0.0750 C   0  0  0  0  0  0  0  0  0  0  0  0\\n    1.0144   -0.7553    0.1554 C   0  0  0  0  0  0  0  0  0  1  0  0\\n    1.0488    0.6934    0.2186 C   0  0  0  0  0  0  0  0  0  2  0  0\\n   -0.1630    1.1531    0.0248 C   0  0  0  0  0  0  0  0  0  3  0  0\\n   -1.0738    0.0162   -0.1794 C   0  0  0  0  0  0  0  0  0  4  0  0\\n   -0.5192   -2.2249   -0.1708 H   0  0  0  0  0  0  0  0  0  5  0  0\\n    1.8792   -1.3943    0.2815 H   0  0  0  0  0  0  0  0  0  6  0  0\\n    1.8876    1.3615    0.3916 H   0  0  0  0  0  0  0  0  0  7  0  0\\n   -0.4636    2.2212    0.0143 H   0  0  0  0  0  0  0  0  0  8  0  0\\n   -1.4974    0.0856   -1.2264 H   0  0  0  0  0  0  0  0  0  9  0  0\\n   -1.9025    0.0105    0.5654 H   0  0  0  0  0  0  0  0  0 10  0  0\\n  1  2  2  0\\n  2  3  1  0\\n  3  4  2  0\\n  4  5  1  0\\n  5  1  1  0\\n  1  6  1  0\\n  2  7  1  0\\n  3  8  1  0\\n  4  9  1  0\\n  5 10  1  0\\n  5 11  1  0\\nM  END\\n\",\"sdf\");\n\tviewergrid_1623385259579193[0][0].setStyle({\"stick\": {\"radius\": 0.2}, \"sphere\": {\"scale\": 0.25}});\n\tviewergrid_1623385259579193[0][1].setStyle({\"stick\": {\"radius\": 0.2}, \"sphere\": {\"scale\": 0.25}});\n\tviewergrid_1623385259579193[0][2].setStyle({\"stick\": {\"radius\": 0.2}, \"sphere\": {\"scale\": 0.25}});\n\tviewergrid_1623385259579193[0][3].setStyle({\"stick\": {\"radius\": 0.2}, \"sphere\": {\"scale\": 0.25}});\n\tviewergrid_1623385259579193[0][2].addPropertyLabels(\"index\",\"\",{\"fontSize\": 15, \"fontColor\": \"white\", \"showBackground\": true, \"alignment\": \"center\", \"backgroundOpacity\": 0.2, \"backgroundColor\": \"black\"});\n\tviewergrid_1623385259579193[0][2].zoomTo();\n\tviewergrid_1623385259579193[0][3].addModel(\"\\n     RDKit          3D\\n\\n 11 11  0  0  0  0  0  0  0  0999 V2000\\n   -0.3429    1.1105    0.1589 C   0  0  0  0  0  0  0  0  0  0  0  0\\n    0.9195    0.7869    0.3286 C   0  0  0  0  0  0  0  0  0  1  0  0\\n    1.1158   -0.6222    0.0814 C   0  0  0  0  0  0  0  0  0  2  0  0\\n   -0.0368   -1.1600   -0.2412 C   0  0  0  0  0  0  0  0  0  3  0  0\\n   -1.0656   -0.1108   -0.2214 C   0  0  0  0  0  0  0  0  0  4  0  0\\n   -0.7805    2.1193    0.2807 H   0  0  0  0  0  0  0  0  0  5  0  0\\n    1.6660    1.5459    0.6203 H   0  0  0  0  0  0  0  0  0  6  0  0\\n    2.0938   -1.1164    0.1639 H   0  0  0  0  0  0  0  0  0  7  0  0\\n   -0.1848   -2.2343   -0.4851 H   0  0  0  0  0  0  0  0  0  8  0  0\\n   -1.5324   -0.0074   -1.2362 H   0  0  0  0  0  0  0  0  0  9  0  0\\n   -1.8520   -0.3115    0.5500 H   0  0  0  0  0  0  0  0  0 10  0  0\\n  1  2  2  0\\n  2  3  1  0\\n  3  4  2  0\\n  4  5  1  0\\n  5  1  1  0\\n  1  6  1  0\\n  2  7  1  0\\n  3  8  1  0\\n  4  9  1  0\\n  5 10  1  0\\n  5 11  1  0\\nM  END\\n\",\"sdf\");\n\tviewergrid_1623385259579193[0][0].setStyle({\"stick\": {\"radius\": 0.2}, \"sphere\": {\"scale\": 0.25}});\n\tviewergrid_1623385259579193[0][1].setStyle({\"stick\": {\"radius\": 0.2}, \"sphere\": {\"scale\": 0.25}});\n\tviewergrid_1623385259579193[0][2].setStyle({\"stick\": {\"radius\": 0.2}, \"sphere\": {\"scale\": 0.25}});\n\tviewergrid_1623385259579193[0][3].setStyle({\"stick\": {\"radius\": 0.2}, \"sphere\": {\"scale\": 0.25}});\n\tviewergrid_1623385259579193[0][3].addPropertyLabels(\"index\",\"\",{\"fontSize\": 15, \"fontColor\": \"white\", \"showBackground\": true, \"alignment\": \"center\", \"backgroundOpacity\": 0.2, \"backgroundColor\": \"black\"});\n\tviewergrid_1623385259579193[0][3].zoomTo();\nviewergrid_1623385259579193[0][3].render();\nviewergrid_1623385259579193[0][2].render();\nviewergrid_1623385259579193[0][1].render();\nviewergrid_1623385259579193[0][0].render();\n});\n</script>",
      "text/html": [
       "<div id=\"3dmolviewer_1623385259579193\"  style=\"position: relative; width: 960px; height: 300px\">\n",
       "        <p id=\"3dmolwarning_1623385259579193\" style=\"background-color:#ffcccc;color:black\">You appear to be running in JupyterLab (or JavaScript failed to load for some other reason).  You need to install the 3dmol extension: <br>\n",
       "        <tt>jupyter labextension install jupyterlab_3dmol</tt></p>\n",
       "        </div>\n",
       "<script>\n",
       "\n",
       "var loadScriptAsync = function(uri){\n",
       "  return new Promise((resolve, reject) => {\n",
       "    var tag = document.createElement('script');\n",
       "    tag.src = uri;\n",
       "    tag.async = true;\n",
       "    tag.onload = () => {\n",
       "      resolve();\n",
       "    };\n",
       "  var firstScriptTag = document.getElementsByTagName('script')[0];\n",
       "  firstScriptTag.parentNode.insertBefore(tag, firstScriptTag);\n",
       "});\n",
       "};\n",
       "\n",
       "if(typeof $3Dmolpromise === 'undefined') {\n",
       "$3Dmolpromise = null;\n",
       "  $3Dmolpromise = loadScriptAsync('https://3dmol.csb.pitt.edu/build/3Dmol.js');\n",
       "}\n",
       "\n",
       "var viewer_1623385259579193 = null;\n",
       "var warn = document.getElementById(\"3dmolwarning_1623385259579193\");\n",
       "if(warn) {\n",
       "    warn.parentNode.removeChild(warn);\n",
       "}\n",
       "$3Dmolpromise.then(function() {\n",
       "var viewergrid_1623385259579193 = null;\n",
       "viewergrid_1623385259579193 = $3Dmol.createViewerGrid($(\"#3dmolviewer_1623385259579193\"),{rows: 1, cols: 4, control_all: false},{backgroundColor:\"white\"});\n",
       "viewer_1623385259579193 = viewergrid_1623385259579193[0][0];\n",
       "\tviewergrid_1623385259579193[0][0].addModel(\"\\n     RDKit          3D\\n\\n 22 23  0  0  0  0  0  0  0  0999 V2000\\n    2.7950    0.0625    0.8452 C   0  0  0  0  0  0  0  0  0  0  0  0\\n    1.7471    0.8581    0.7201 C   0  0  0  0  0  0  0  0  0  1  0  0\\n    0.9502    0.3516   -0.4235 C   0  0  0  0  0  0  0  0  0  2  0  0\\n   -0.3764   -0.1023    0.1163 C   0  0  0  0  0  0  0  0  0  3  0  0\\n   -1.1360    0.9974    0.7869 C   0  0  0  0  0  0  0  0  0  4  0  0\\n   -2.4358    0.8517    0.5726 C   0  0  0  0  0  0  0  0  0  5  0  0\\n   -2.6532   -0.3556   -0.2569 C   0  0  0  0  0  0  0  0  0  6  0  0\\n   -1.3528   -0.4374   -1.0230 C   0  0  0  0  0  0  0  0  0  7  0  0\\n    1.6962   -0.8255   -0.9104 C   0  0  0  0  0  0  0  0  0  8  0  0\\n    2.7759   -0.9882   -0.1617 C   0  0  0  0  0  0  0  0  0  9  0  0\\n    3.6063    0.1236    1.5807 H   0  0  0  0  0  0  0  0  0 10  0  0\\n    1.5081    1.7177    1.3310 H   0  0  0  0  0  0  0  0  0 11  0  0\\n    0.8503    1.1304   -1.1983 H   0  0  0  0  0  0  0  0  0 12  0  0\\n   -0.2895   -0.9646    0.7978 H   0  0  0  0  0  0  0  0  0 13  0  0\\n   -0.6725    1.7889    1.3602 H   0  0  0  0  0  0  0  0  0 14  0  0\\n   -3.1986    1.5392    0.9655 H   0  0  0  0  0  0  0  0  0 15  0  0\\n   -3.5340   -0.2920   -0.9089 H   0  0  0  0  0  0  0  0  0 16  0  0\\n   -2.7459   -1.2195    0.4620 H   0  0  0  0  0  0  0  0  0 17  0  0\\n   -1.3290    0.4082   -1.7294 H   0  0  0  0  0  0  0  0  0 18  0  0\\n   -1.1529   -1.4151   -1.4582 H   0  0  0  0  0  0  0  0  0 19  0  0\\n    1.4211   -1.4466   -1.7260 H   0  0  0  0  0  0  0  0  0 20  0  0\\n    3.5264   -1.7823   -0.2835 H   0  0  0  0  0  0  0  0  0 21  0  0\\n  1  2  2  0\\n  2  3  1  0\\n  3  4  1  0\\n  4  5  1  0\\n  5  6  2  0\\n  6  7  1  0\\n  7  8  1  0\\n  3  9  1  0\\n  9 10  2  0\\n 10  1  1  0\\n  8  4  1  0\\n  1 11  1  0\\n  2 12  1  0\\n  3 13  1  0\\n  4 14  1  0\\n  5 15  1  0\\n  6 16  1  0\\n  7 17  1  0\\n  7 18  1  0\\n  8 19  1  0\\n  8 20  1  0\\n  9 21  1  0\\n 10 22  1  0\\nM  END\\n\",\"sdf\");\n",
       "\tviewergrid_1623385259579193[0][0].setStyle({\"stick\": {\"radius\": 0.2}, \"sphere\": {\"scale\": 0.25}});\n",
       "\tviewergrid_1623385259579193[0][1].setStyle({\"stick\": {\"radius\": 0.2}, \"sphere\": {\"scale\": 0.25}});\n",
       "\tviewergrid_1623385259579193[0][2].setStyle({\"stick\": {\"radius\": 0.2}, \"sphere\": {\"scale\": 0.25}});\n",
       "\tviewergrid_1623385259579193[0][3].setStyle({\"stick\": {\"radius\": 0.2}, \"sphere\": {\"scale\": 0.25}});\n",
       "\tviewergrid_1623385259579193[0][0].addPropertyLabels(\"index\",\"\",{\"fontSize\": 15, \"fontColor\": \"white\", \"showBackground\": true, \"alignment\": \"center\", \"backgroundOpacity\": 0.2, \"backgroundColor\": \"black\"});\n",
       "\tviewergrid_1623385259579193[0][0].zoomTo();\n",
       "\tviewergrid_1623385259579193[0][1].addModel(\"\\n     RDKit          3D\\n\\n 22 22  0  0  0  0  0  0  0  0999 V2000\\n    1.8637   -0.1728    1.3907 C   0  0  0  0  0  0  0  0  0  6  0  0\\n    2.2297    1.1197    0.7221 C   0  0  0  0  0  0  0  0  0  5  0  0\\n    2.0148    1.0232   -0.5975 C   0  0  0  0  0  0  0  0  0  4  0  0\\n   -1.3782    0.3333   -1.4637 C   0  0  0  0  0  0  0  0  0  2  0  0\\n   -1.6103    1.1680   -0.3126 C   0  0  0  0  0  0  0  0  0  8  0  0\\n   -2.0577    0.4136    0.7008 C   0  0  0  0  0  0  0  0  0  9  0  0\\n   -2.1488   -1.0179    0.2613 C   0  0  0  0  0  0  0  0  0  0  0  0\\n   -1.7291   -0.9286   -1.1761 C   0  0  0  0  0  0  0  0  0  1  0  0\\n    1.5032   -0.2878   -0.9042 C   0  0  0  0  0  0  0  0  0  3  0  0\\n    1.4224   -1.0079    0.2255 C   0  0  0  0  0  0  0  0  0  7  0  0\\n    2.7290   -0.6176    1.8904 H   0  0  0  0  0  0  0  0  0 17  0  0\\n    2.6073    1.9900    1.2364 H   0  0  0  0  0  0  0  0  0 15  0  0\\n    2.1869    1.7943   -1.3324 H   0  0  0  0  0  0  0  0  0 14  0  0\\n   -1.0234    0.7000   -2.4146 H   0  0  0  0  0  0  0  0  0 12  0  0\\n   -1.4320    2.2320   -0.2891 H   0  0  0  0  0  0  0  0  0 20  0  0\\n   -2.3036    0.7696    1.6891 H   0  0  0  0  0  0  0  0  0 21  0  0\\n   -3.1677   -1.4021    0.3579 H   0  0  0  0  0  0  0  0  0 10  0  0\\n   -1.4477   -1.6423    0.8260 H   0  0  0  0  0  0  0  0  0 18  0  0\\n    1.0511   -0.0326    2.1093 H   0  0  0  0  0  0  0  0  0 16  0  0\\n   -1.6808   -1.7660   -1.8546 H   0  0  0  0  0  0  0  0  0 11  0  0\\n    1.2767   -0.6348   -1.9004 H   0  0  0  0  0  0  0  0  0 13  0  0\\n    1.0944   -2.0332    0.2943 H   0  0  0  0  0  0  0  0  0 19  0  0\\n  7  8  1  0\\n  7  6  1  0\\n  7 17  1  0\\n  7 18  1  0\\n  8  4  2  0\\n  8 20  1  0\\n  4  5  1  0\\n  4 14  1  0\\n  9  3  1  0\\n  9 10  2  0\\n  9 21  1  0\\n  3  2  2  0\\n  3 13  1  0\\n  2  1  1  0\\n  2 12  1  0\\n  1 10  1  0\\n  1 19  1  0\\n  1 11  1  0\\n 10 22  1  0\\n  5  6  2  0\\n  5 15  1  0\\n  6 16  1  0\\nM  END\\n\",\"sdf\");\n",
       "\tviewergrid_1623385259579193[0][0].setStyle({\"stick\": {\"radius\": 0.2}, \"sphere\": {\"scale\": 0.25}});\n",
       "\tviewergrid_1623385259579193[0][1].setStyle({\"stick\": {\"radius\": 0.2}, \"sphere\": {\"scale\": 0.25}});\n",
       "\tviewergrid_1623385259579193[0][2].setStyle({\"stick\": {\"radius\": 0.2}, \"sphere\": {\"scale\": 0.25}});\n",
       "\tviewergrid_1623385259579193[0][3].setStyle({\"stick\": {\"radius\": 0.2}, \"sphere\": {\"scale\": 0.25}});\n",
       "\tviewergrid_1623385259579193[0][1].addPropertyLabels(\"index\",\"\",{\"fontSize\": 15, \"fontColor\": \"white\", \"showBackground\": true, \"alignment\": \"center\", \"backgroundOpacity\": 0.2, \"backgroundColor\": \"black\"});\n",
       "\tviewergrid_1623385259579193[0][1].zoomTo();\n",
       "\tviewergrid_1623385259579193[0][2].addModel(\"\\n     RDKit          3D\\n\\n 11 11  0  0  0  0  0  0  0  0999 V2000\\n   -0.2104   -1.1671   -0.0750 C   0  0  0  0  0  0  0  0  0  0  0  0\\n    1.0144   -0.7553    0.1554 C   0  0  0  0  0  0  0  0  0  1  0  0\\n    1.0488    0.6934    0.2186 C   0  0  0  0  0  0  0  0  0  2  0  0\\n   -0.1630    1.1531    0.0248 C   0  0  0  0  0  0  0  0  0  3  0  0\\n   -1.0738    0.0162   -0.1794 C   0  0  0  0  0  0  0  0  0  4  0  0\\n   -0.5192   -2.2249   -0.1708 H   0  0  0  0  0  0  0  0  0  5  0  0\\n    1.8792   -1.3943    0.2815 H   0  0  0  0  0  0  0  0  0  6  0  0\\n    1.8876    1.3615    0.3916 H   0  0  0  0  0  0  0  0  0  7  0  0\\n   -0.4636    2.2212    0.0143 H   0  0  0  0  0  0  0  0  0  8  0  0\\n   -1.4974    0.0856   -1.2264 H   0  0  0  0  0  0  0  0  0  9  0  0\\n   -1.9025    0.0105    0.5654 H   0  0  0  0  0  0  0  0  0 10  0  0\\n  1  2  2  0\\n  2  3  1  0\\n  3  4  2  0\\n  4  5  1  0\\n  5  1  1  0\\n  1  6  1  0\\n  2  7  1  0\\n  3  8  1  0\\n  4  9  1  0\\n  5 10  1  0\\n  5 11  1  0\\nM  END\\n\",\"sdf\");\n",
       "\tviewergrid_1623385259579193[0][0].setStyle({\"stick\": {\"radius\": 0.2}, \"sphere\": {\"scale\": 0.25}});\n",
       "\tviewergrid_1623385259579193[0][1].setStyle({\"stick\": {\"radius\": 0.2}, \"sphere\": {\"scale\": 0.25}});\n",
       "\tviewergrid_1623385259579193[0][2].setStyle({\"stick\": {\"radius\": 0.2}, \"sphere\": {\"scale\": 0.25}});\n",
       "\tviewergrid_1623385259579193[0][3].setStyle({\"stick\": {\"radius\": 0.2}, \"sphere\": {\"scale\": 0.25}});\n",
       "\tviewergrid_1623385259579193[0][2].addPropertyLabels(\"index\",\"\",{\"fontSize\": 15, \"fontColor\": \"white\", \"showBackground\": true, \"alignment\": \"center\", \"backgroundOpacity\": 0.2, \"backgroundColor\": \"black\"});\n",
       "\tviewergrid_1623385259579193[0][2].zoomTo();\n",
       "\tviewergrid_1623385259579193[0][3].addModel(\"\\n     RDKit          3D\\n\\n 11 11  0  0  0  0  0  0  0  0999 V2000\\n   -0.3429    1.1105    0.1589 C   0  0  0  0  0  0  0  0  0  0  0  0\\n    0.9195    0.7869    0.3286 C   0  0  0  0  0  0  0  0  0  1  0  0\\n    1.1158   -0.6222    0.0814 C   0  0  0  0  0  0  0  0  0  2  0  0\\n   -0.0368   -1.1600   -0.2412 C   0  0  0  0  0  0  0  0  0  3  0  0\\n   -1.0656   -0.1108   -0.2214 C   0  0  0  0  0  0  0  0  0  4  0  0\\n   -0.7805    2.1193    0.2807 H   0  0  0  0  0  0  0  0  0  5  0  0\\n    1.6660    1.5459    0.6203 H   0  0  0  0  0  0  0  0  0  6  0  0\\n    2.0938   -1.1164    0.1639 H   0  0  0  0  0  0  0  0  0  7  0  0\\n   -0.1848   -2.2343   -0.4851 H   0  0  0  0  0  0  0  0  0  8  0  0\\n   -1.5324   -0.0074   -1.2362 H   0  0  0  0  0  0  0  0  0  9  0  0\\n   -1.8520   -0.3115    0.5500 H   0  0  0  0  0  0  0  0  0 10  0  0\\n  1  2  2  0\\n  2  3  1  0\\n  3  4  2  0\\n  4  5  1  0\\n  5  1  1  0\\n  1  6  1  0\\n  2  7  1  0\\n  3  8  1  0\\n  4  9  1  0\\n  5 10  1  0\\n  5 11  1  0\\nM  END\\n\",\"sdf\");\n",
       "\tviewergrid_1623385259579193[0][0].setStyle({\"stick\": {\"radius\": 0.2}, \"sphere\": {\"scale\": 0.25}});\n",
       "\tviewergrid_1623385259579193[0][1].setStyle({\"stick\": {\"radius\": 0.2}, \"sphere\": {\"scale\": 0.25}});\n",
       "\tviewergrid_1623385259579193[0][2].setStyle({\"stick\": {\"radius\": 0.2}, \"sphere\": {\"scale\": 0.25}});\n",
       "\tviewergrid_1623385259579193[0][3].setStyle({\"stick\": {\"radius\": 0.2}, \"sphere\": {\"scale\": 0.25}});\n",
       "\tviewergrid_1623385259579193[0][3].addPropertyLabels(\"index\",\"\",{\"fontSize\": 15, \"fontColor\": \"white\", \"showBackground\": true, \"alignment\": \"center\", \"backgroundOpacity\": 0.2, \"backgroundColor\": \"black\"});\n",
       "\tviewergrid_1623385259579193[0][3].zoomTo();\n",
       "viewergrid_1623385259579193[0][3].render();\n",
       "viewergrid_1623385259579193[0][2].render();\n",
       "viewergrid_1623385259579193[0][1].render();\n",
       "viewergrid_1623385259579193[0][0].render();\n",
       "});\n",
       "</script>"
      ]
     },
     "metadata": {},
     "output_type": "display_data"
    }
   ],
   "source": [
    "mols_to_view = [r_mol, p_align,] + p_mols\n",
    "entries = len(mols_to_view)\n",
    "\n",
    "viewer = grid_viewer(viewer_grid=(1, entries), viewer_size=(240 * entries, 300),)\n",
    "for i in range(entries):\n",
    "    mol_viewer(mols_to_view[i].ToMolBlock(), 'sdf', viewer=viewer, viewer_loc=(0, i))\n",
    "\n",
    "print('reactant    matched product      original products')\n",
    "viewer.show()"
   ]
  },
  {
   "cell_type": "markdown",
   "metadata": {},
   "source": [
    "### 5. Export to SDF file and run ts_gen"
   ]
  },
  {
   "cell_type": "code",
   "execution_count": 47,
   "metadata": {},
   "outputs": [],
   "source": [
    "r_mol.ToSDFFile('reactant.sdf')\n",
    "p_align.ToSDFFile('product.sdf')"
   ]
  },
  {
   "cell_type": "markdown",
   "metadata": {},
   "source": [
    "#### 5.1 TS Gen V2"
   ]
  },
  {
   "cell_type": "code",
   "execution_count": 48,
   "metadata": {},
   "outputs": [],
   "source": [
    "TS_GEN_PYTHON = '~/Apps/anaconda3/envs/ts_gen_v2/bin/python3.7'\n",
    "TS_GEN_DIR = '~/Apps/ts_gen_v2'"
   ]
  },
  {
   "cell_type": "code",
   "execution_count": 49,
   "metadata": {},
   "outputs": [],
   "source": [
    "try:\n",
    "    subprocess.run(f'export PYTHONPATH=$PYTHONPATH:{TS_GEN_DIR};'\n",
    "                   f'{TS_GEN_PYTHON} {TS_GEN_DIR}/inference.py '\n",
    "                   f'--r_sdf_path reactant.sdf '\n",
    "                   f'--p_sdf_path product.sdf '\n",
    "                   f'--ts_xyz_path TS.xyz',\n",
    "                   check=True,\n",
    "                   shell=True)\n",
    "except subprocess.CalledProcessError as e:\n",
    "    print(e)\n",
    "else:\n",
    "    with open('TS.xyz', 'r') as f:\n",
    "        ts_xyz=f.read()\n",
    "    ts = RDKitMol.FromXYZ(ts_xyz)"
   ]
  },
  {
   "cell_type": "markdown",
   "metadata": {},
   "source": [
    "### 6. Visualize TS"
   ]
  },
  {
   "cell_type": "code",
   "execution_count": 50,
   "metadata": {
    "scrolled": true
   },
   "outputs": [
    {
     "name": "stdout",
     "output_type": "stream",
     "text": [
      "reactant    TS      product\n"
     ]
    },
    {
     "data": {
      "application/3dmoljs_load.v0": "<div id=\"3dmolviewer_1623385270583318\"  style=\"position: relative; width: 720px; height: 300px\">\n        <p id=\"3dmolwarning_1623385270583318\" style=\"background-color:#ffcccc;color:black\">You appear to be running in JupyterLab (or JavaScript failed to load for some other reason).  You need to install the 3dmol extension: <br>\n        <tt>jupyter labextension install jupyterlab_3dmol</tt></p>\n        </div>\n<script>\n\nvar loadScriptAsync = function(uri){\n  return new Promise((resolve, reject) => {\n    var tag = document.createElement('script');\n    tag.src = uri;\n    tag.async = true;\n    tag.onload = () => {\n      resolve();\n    };\n  var firstScriptTag = document.getElementsByTagName('script')[0];\n  firstScriptTag.parentNode.insertBefore(tag, firstScriptTag);\n});\n};\n\nif(typeof $3Dmolpromise === 'undefined') {\n$3Dmolpromise = null;\n  $3Dmolpromise = loadScriptAsync('https://3dmol.csb.pitt.edu/build/3Dmol.js');\n}\n\nvar viewer_1623385270583318 = null;\nvar warn = document.getElementById(\"3dmolwarning_1623385270583318\");\nif(warn) {\n    warn.parentNode.removeChild(warn);\n}\n$3Dmolpromise.then(function() {\nvar viewergrid_1623385270583318 = null;\nviewergrid_1623385270583318 = $3Dmol.createViewerGrid($(\"#3dmolviewer_1623385270583318\"),{rows: 1, cols: 3, control_all: false},{backgroundColor:\"white\"});\nviewer_1623385270583318 = viewergrid_1623385270583318[0][0];\n\tviewergrid_1623385270583318[0][0].addModel(\"\\n     RDKit          3D\\n\\n 22 23  0  0  0  0  0  0  0  0999 V2000\\n    2.7950    0.0625    0.8452 C   0  0  0  0  0  0  0  0  0  0  0  0\\n    1.7471    0.8581    0.7201 C   0  0  0  0  0  0  0  0  0  1  0  0\\n    0.9502    0.3516   -0.4235 C   0  0  0  0  0  0  0  0  0  2  0  0\\n   -0.3764   -0.1023    0.1163 C   0  0  0  0  0  0  0  0  0  3  0  0\\n   -1.1360    0.9974    0.7869 C   0  0  0  0  0  0  0  0  0  4  0  0\\n   -2.4358    0.8517    0.5726 C   0  0  0  0  0  0  0  0  0  5  0  0\\n   -2.6532   -0.3556   -0.2569 C   0  0  0  0  0  0  0  0  0  6  0  0\\n   -1.3528   -0.4374   -1.0230 C   0  0  0  0  0  0  0  0  0  7  0  0\\n    1.6962   -0.8255   -0.9104 C   0  0  0  0  0  0  0  0  0  8  0  0\\n    2.7759   -0.9882   -0.1617 C   0  0  0  0  0  0  0  0  0  9  0  0\\n    3.6063    0.1236    1.5807 H   0  0  0  0  0  0  0  0  0 10  0  0\\n    1.5081    1.7177    1.3310 H   0  0  0  0  0  0  0  0  0 11  0  0\\n    0.8503    1.1304   -1.1983 H   0  0  0  0  0  0  0  0  0 12  0  0\\n   -0.2895   -0.9646    0.7978 H   0  0  0  0  0  0  0  0  0 13  0  0\\n   -0.6725    1.7889    1.3602 H   0  0  0  0  0  0  0  0  0 14  0  0\\n   -3.1986    1.5392    0.9655 H   0  0  0  0  0  0  0  0  0 15  0  0\\n   -3.5340   -0.2920   -0.9089 H   0  0  0  0  0  0  0  0  0 16  0  0\\n   -2.7459   -1.2195    0.4620 H   0  0  0  0  0  0  0  0  0 17  0  0\\n   -1.3290    0.4082   -1.7294 H   0  0  0  0  0  0  0  0  0 18  0  0\\n   -1.1529   -1.4151   -1.4582 H   0  0  0  0  0  0  0  0  0 19  0  0\\n    1.4211   -1.4466   -1.7260 H   0  0  0  0  0  0  0  0  0 20  0  0\\n    3.5264   -1.7823   -0.2835 H   0  0  0  0  0  0  0  0  0 21  0  0\\n  1  2  2  0\\n  2  3  1  0\\n  3  4  1  0\\n  4  5  1  0\\n  5  6  2  0\\n  6  7  1  0\\n  7  8  1  0\\n  3  9  1  0\\n  9 10  2  0\\n 10  1  1  0\\n  8  4  1  0\\n  1 11  1  0\\n  2 12  1  0\\n  3 13  1  0\\n  4 14  1  0\\n  5 15  1  0\\n  6 16  1  0\\n  7 17  1  0\\n  7 18  1  0\\n  8 19  1  0\\n  8 20  1  0\\n  9 21  1  0\\n 10 22  1  0\\nM  END\\n\",\"sdf\");\n\tviewergrid_1623385270583318[0][0].setStyle({\"stick\": {\"radius\": 0.2}, \"sphere\": {\"scale\": 0.25}});\n\tviewergrid_1623385270583318[0][1].setStyle({\"stick\": {\"radius\": 0.2}, \"sphere\": {\"scale\": 0.25}});\n\tviewergrid_1623385270583318[0][2].setStyle({\"stick\": {\"radius\": 0.2}, \"sphere\": {\"scale\": 0.25}});\n\tviewergrid_1623385270583318[0][0].addPropertyLabels(\"index\",\"\",{\"fontSize\": 15, \"fontColor\": \"white\", \"showBackground\": true, \"alignment\": \"center\", \"backgroundOpacity\": 0.2, \"backgroundColor\": \"black\"});\n\tviewergrid_1623385270583318[0][0].zoomTo();\n\tviewergrid_1623385270583318[0][1].addModel(\"\\n     RDKit          3D\\n\\n 22 21  0  0  0  0  0  0  0  0999 V2000\\n    1.7351   -0.4393    1.0516 C   0  0  0  0  0  0  0  0  0  0  0  0\\n    1.8540    0.8931    0.6789 C   0  0  0  0  0  0  0  0  0  1  0  0\\n    1.6413    0.9050   -0.6634 C   0  0  0  0  0  0  0  0  0  2  0  0\\n   -0.8317    0.4861   -0.9661 C   0  0  0  0  0  0  0  0  0  3  0  0\\n   -1.3925    1.3193    0.0720 C   0  0  0  0  0  0  0  0  0  4  0  0\\n   -2.2543    0.6091    0.7413 C   0  0  0  0  0  0  0  0  0  5  0  0\\n   -2.1797   -0.7313    0.3412 C   0  0  0  0  0  0  0  0  0  6  0  0\\n   -1.1888   -0.7411   -0.6450 C   0  0  0  0  0  0  0  0  0  7  0  0\\n    1.8165   -0.4123   -1.1535 C   0  0  0  0  0  0  0  0  0  8  0  0\\n    2.1207   -1.1809   -0.1240 C   0  0  0  0  0  0  0  0  0  9  0  0\\n    1.9869   -0.7417    1.9411 H   0  0  0  0  0  0  0  0  0 10  0  0\\n    1.8864    1.6970    1.3100 H   0  0  0  0  0  0  0  0  0 11  0  0\\n    1.6544    1.6466   -1.1428 H   0  0  0  0  0  0  0  0  0 12  0  0\\n   -0.8280    0.7508   -1.8837 H   0  0  0  0  0  0  0  0  0 13  0  0\\n   -1.1833    2.3489    0.2530 H   0  0  0  0  0  0  0  0  0 14  0  0\\n   -2.9258    1.0538    1.4076 H   0  0  0  0  0  0  0  0  0 15  0  0\\n   -3.0871   -1.1211    0.1226 H   0  0  0  0  0  0  0  0  0 16  0  0\\n   -1.9646   -1.3940    1.0006 H   0  0  0  0  0  0  0  0  0 17  0  0\\n    0.1648   -0.4601    0.6196 H   0  0  0  0  0  0  0  0  0 18  0  0\\n   -1.0976   -1.5290   -1.2993 H   0  0  0  0  0  0  0  0  0 19  0  0\\n    1.6353   -0.7857   -2.1076 H   0  0  0  0  0  0  0  0  0 20  0  0\\n    2.4382   -2.1731   -0.0955 H   0  0  0  0  0  0  0  0  0 21  0  0\\n 13  3  1  0\\n 14  4  1  0\\n 21  9  1  0\\n  3  9  2  0\\n  3  2  1  0\\n  9 10  1  0\\n 15  5  1  0\\n  4  5  1  0\\n  4  8  1  0\\n  5  6  2  0\\n  2 12  1  0\\n  2  1  2  0\\n 20  8  1  0\\n  8  7  1  0\\n 10 22  1  0\\n 10  1  1  0\\n  6 16  1  0\\n  6  7  1  0\\n  1 11  1  0\\n  7 17  1  0\\n  7 18  1  0\\nM  END\\n\",\"sdf\");\n\tviewergrid_1623385270583318[0][0].setStyle({\"stick\": {\"radius\": 0.2}, \"sphere\": {\"scale\": 0.25}});\n\tviewergrid_1623385270583318[0][1].setStyle({\"stick\": {\"radius\": 0.2}, \"sphere\": {\"scale\": 0.25}});\n\tviewergrid_1623385270583318[0][2].setStyle({\"stick\": {\"radius\": 0.2}, \"sphere\": {\"scale\": 0.25}});\n\tviewergrid_1623385270583318[0][1].addPropertyLabels(\"index\",\"\",{\"fontSize\": 15, \"fontColor\": \"white\", \"showBackground\": true, \"alignment\": \"center\", \"backgroundOpacity\": 0.2, \"backgroundColor\": \"black\"});\n\tviewergrid_1623385270583318[0][1].zoomTo();\n\tviewergrid_1623385270583318[0][2].addModel(\"\\n     RDKit          3D\\n\\n 22 22  0  0  0  0  0  0  0  0999 V2000\\n    1.8637   -0.1728    1.3907 C   0  0  0  0  0  0  0  0  0  6  0  0\\n    2.2297    1.1197    0.7221 C   0  0  0  0  0  0  0  0  0  5  0  0\\n    2.0148    1.0232   -0.5975 C   0  0  0  0  0  0  0  0  0  4  0  0\\n   -1.3782    0.3333   -1.4637 C   0  0  0  0  0  0  0  0  0  2  0  0\\n   -1.6103    1.1680   -0.3126 C   0  0  0  0  0  0  0  0  0  8  0  0\\n   -2.0577    0.4136    0.7008 C   0  0  0  0  0  0  0  0  0  9  0  0\\n   -2.1488   -1.0179    0.2613 C   0  0  0  0  0  0  0  0  0  0  0  0\\n   -1.7291   -0.9286   -1.1761 C   0  0  0  0  0  0  0  0  0  1  0  0\\n    1.5032   -0.2878   -0.9042 C   0  0  0  0  0  0  0  0  0  3  0  0\\n    1.4224   -1.0079    0.2255 C   0  0  0  0  0  0  0  0  0  7  0  0\\n    2.7290   -0.6176    1.8904 H   0  0  0  0  0  0  0  0  0 17  0  0\\n    2.6073    1.9900    1.2364 H   0  0  0  0  0  0  0  0  0 15  0  0\\n    2.1869    1.7943   -1.3324 H   0  0  0  0  0  0  0  0  0 14  0  0\\n   -1.0234    0.7000   -2.4146 H   0  0  0  0  0  0  0  0  0 12  0  0\\n   -1.4320    2.2320   -0.2891 H   0  0  0  0  0  0  0  0  0 20  0  0\\n   -2.3036    0.7696    1.6891 H   0  0  0  0  0  0  0  0  0 21  0  0\\n   -3.1677   -1.4021    0.3579 H   0  0  0  0  0  0  0  0  0 10  0  0\\n   -1.4477   -1.6423    0.8260 H   0  0  0  0  0  0  0  0  0 18  0  0\\n    1.0511   -0.0326    2.1093 H   0  0  0  0  0  0  0  0  0 16  0  0\\n   -1.6808   -1.7660   -1.8546 H   0  0  0  0  0  0  0  0  0 11  0  0\\n    1.2767   -0.6348   -1.9004 H   0  0  0  0  0  0  0  0  0 13  0  0\\n    1.0944   -2.0332    0.2943 H   0  0  0  0  0  0  0  0  0 19  0  0\\n  7  8  1  0\\n  7  6  1  0\\n  7 17  1  0\\n  7 18  1  0\\n  8  4  2  0\\n  8 20  1  0\\n  4  5  1  0\\n  4 14  1  0\\n  9  3  1  0\\n  9 10  2  0\\n  9 21  1  0\\n  3  2  2  0\\n  3 13  1  0\\n  2  1  1  0\\n  2 12  1  0\\n  1 10  1  0\\n  1 19  1  0\\n  1 11  1  0\\n 10 22  1  0\\n  5  6  2  0\\n  5 15  1  0\\n  6 16  1  0\\nM  END\\n\",\"sdf\");\n\tviewergrid_1623385270583318[0][0].setStyle({\"stick\": {\"radius\": 0.2}, \"sphere\": {\"scale\": 0.25}});\n\tviewergrid_1623385270583318[0][1].setStyle({\"stick\": {\"radius\": 0.2}, \"sphere\": {\"scale\": 0.25}});\n\tviewergrid_1623385270583318[0][2].setStyle({\"stick\": {\"radius\": 0.2}, \"sphere\": {\"scale\": 0.25}});\n\tviewergrid_1623385270583318[0][2].addPropertyLabels(\"index\",\"\",{\"fontSize\": 15, \"fontColor\": \"white\", \"showBackground\": true, \"alignment\": \"center\", \"backgroundOpacity\": 0.2, \"backgroundColor\": \"black\"});\n\tviewergrid_1623385270583318[0][2].zoomTo();\nviewergrid_1623385270583318[0][2].render();\nviewergrid_1623385270583318[0][1].render();\nviewergrid_1623385270583318[0][0].render();\n});\n</script>",
      "text/html": [
       "<div id=\"3dmolviewer_1623385270583318\"  style=\"position: relative; width: 720px; height: 300px\">\n",
       "        <p id=\"3dmolwarning_1623385270583318\" style=\"background-color:#ffcccc;color:black\">You appear to be running in JupyterLab (or JavaScript failed to load for some other reason).  You need to install the 3dmol extension: <br>\n",
       "        <tt>jupyter labextension install jupyterlab_3dmol</tt></p>\n",
       "        </div>\n",
       "<script>\n",
       "\n",
       "var loadScriptAsync = function(uri){\n",
       "  return new Promise((resolve, reject) => {\n",
       "    var tag = document.createElement('script');\n",
       "    tag.src = uri;\n",
       "    tag.async = true;\n",
       "    tag.onload = () => {\n",
       "      resolve();\n",
       "    };\n",
       "  var firstScriptTag = document.getElementsByTagName('script')[0];\n",
       "  firstScriptTag.parentNode.insertBefore(tag, firstScriptTag);\n",
       "});\n",
       "};\n",
       "\n",
       "if(typeof $3Dmolpromise === 'undefined') {\n",
       "$3Dmolpromise = null;\n",
       "  $3Dmolpromise = loadScriptAsync('https://3dmol.csb.pitt.edu/build/3Dmol.js');\n",
       "}\n",
       "\n",
       "var viewer_1623385270583318 = null;\n",
       "var warn = document.getElementById(\"3dmolwarning_1623385270583318\");\n",
       "if(warn) {\n",
       "    warn.parentNode.removeChild(warn);\n",
       "}\n",
       "$3Dmolpromise.then(function() {\n",
       "var viewergrid_1623385270583318 = null;\n",
       "viewergrid_1623385270583318 = $3Dmol.createViewerGrid($(\"#3dmolviewer_1623385270583318\"),{rows: 1, cols: 3, control_all: false},{backgroundColor:\"white\"});\n",
       "viewer_1623385270583318 = viewergrid_1623385270583318[0][0];\n",
       "\tviewergrid_1623385270583318[0][0].addModel(\"\\n     RDKit          3D\\n\\n 22 23  0  0  0  0  0  0  0  0999 V2000\\n    2.7950    0.0625    0.8452 C   0  0  0  0  0  0  0  0  0  0  0  0\\n    1.7471    0.8581    0.7201 C   0  0  0  0  0  0  0  0  0  1  0  0\\n    0.9502    0.3516   -0.4235 C   0  0  0  0  0  0  0  0  0  2  0  0\\n   -0.3764   -0.1023    0.1163 C   0  0  0  0  0  0  0  0  0  3  0  0\\n   -1.1360    0.9974    0.7869 C   0  0  0  0  0  0  0  0  0  4  0  0\\n   -2.4358    0.8517    0.5726 C   0  0  0  0  0  0  0  0  0  5  0  0\\n   -2.6532   -0.3556   -0.2569 C   0  0  0  0  0  0  0  0  0  6  0  0\\n   -1.3528   -0.4374   -1.0230 C   0  0  0  0  0  0  0  0  0  7  0  0\\n    1.6962   -0.8255   -0.9104 C   0  0  0  0  0  0  0  0  0  8  0  0\\n    2.7759   -0.9882   -0.1617 C   0  0  0  0  0  0  0  0  0  9  0  0\\n    3.6063    0.1236    1.5807 H   0  0  0  0  0  0  0  0  0 10  0  0\\n    1.5081    1.7177    1.3310 H   0  0  0  0  0  0  0  0  0 11  0  0\\n    0.8503    1.1304   -1.1983 H   0  0  0  0  0  0  0  0  0 12  0  0\\n   -0.2895   -0.9646    0.7978 H   0  0  0  0  0  0  0  0  0 13  0  0\\n   -0.6725    1.7889    1.3602 H   0  0  0  0  0  0  0  0  0 14  0  0\\n   -3.1986    1.5392    0.9655 H   0  0  0  0  0  0  0  0  0 15  0  0\\n   -3.5340   -0.2920   -0.9089 H   0  0  0  0  0  0  0  0  0 16  0  0\\n   -2.7459   -1.2195    0.4620 H   0  0  0  0  0  0  0  0  0 17  0  0\\n   -1.3290    0.4082   -1.7294 H   0  0  0  0  0  0  0  0  0 18  0  0\\n   -1.1529   -1.4151   -1.4582 H   0  0  0  0  0  0  0  0  0 19  0  0\\n    1.4211   -1.4466   -1.7260 H   0  0  0  0  0  0  0  0  0 20  0  0\\n    3.5264   -1.7823   -0.2835 H   0  0  0  0  0  0  0  0  0 21  0  0\\n  1  2  2  0\\n  2  3  1  0\\n  3  4  1  0\\n  4  5  1  0\\n  5  6  2  0\\n  6  7  1  0\\n  7  8  1  0\\n  3  9  1  0\\n  9 10  2  0\\n 10  1  1  0\\n  8  4  1  0\\n  1 11  1  0\\n  2 12  1  0\\n  3 13  1  0\\n  4 14  1  0\\n  5 15  1  0\\n  6 16  1  0\\n  7 17  1  0\\n  7 18  1  0\\n  8 19  1  0\\n  8 20  1  0\\n  9 21  1  0\\n 10 22  1  0\\nM  END\\n\",\"sdf\");\n",
       "\tviewergrid_1623385270583318[0][0].setStyle({\"stick\": {\"radius\": 0.2}, \"sphere\": {\"scale\": 0.25}});\n",
       "\tviewergrid_1623385270583318[0][1].setStyle({\"stick\": {\"radius\": 0.2}, \"sphere\": {\"scale\": 0.25}});\n",
       "\tviewergrid_1623385270583318[0][2].setStyle({\"stick\": {\"radius\": 0.2}, \"sphere\": {\"scale\": 0.25}});\n",
       "\tviewergrid_1623385270583318[0][0].addPropertyLabels(\"index\",\"\",{\"fontSize\": 15, \"fontColor\": \"white\", \"showBackground\": true, \"alignment\": \"center\", \"backgroundOpacity\": 0.2, \"backgroundColor\": \"black\"});\n",
       "\tviewergrid_1623385270583318[0][0].zoomTo();\n",
       "\tviewergrid_1623385270583318[0][1].addModel(\"\\n     RDKit          3D\\n\\n 22 21  0  0  0  0  0  0  0  0999 V2000\\n    1.7351   -0.4393    1.0516 C   0  0  0  0  0  0  0  0  0  0  0  0\\n    1.8540    0.8931    0.6789 C   0  0  0  0  0  0  0  0  0  1  0  0\\n    1.6413    0.9050   -0.6634 C   0  0  0  0  0  0  0  0  0  2  0  0\\n   -0.8317    0.4861   -0.9661 C   0  0  0  0  0  0  0  0  0  3  0  0\\n   -1.3925    1.3193    0.0720 C   0  0  0  0  0  0  0  0  0  4  0  0\\n   -2.2543    0.6091    0.7413 C   0  0  0  0  0  0  0  0  0  5  0  0\\n   -2.1797   -0.7313    0.3412 C   0  0  0  0  0  0  0  0  0  6  0  0\\n   -1.1888   -0.7411   -0.6450 C   0  0  0  0  0  0  0  0  0  7  0  0\\n    1.8165   -0.4123   -1.1535 C   0  0  0  0  0  0  0  0  0  8  0  0\\n    2.1207   -1.1809   -0.1240 C   0  0  0  0  0  0  0  0  0  9  0  0\\n    1.9869   -0.7417    1.9411 H   0  0  0  0  0  0  0  0  0 10  0  0\\n    1.8864    1.6970    1.3100 H   0  0  0  0  0  0  0  0  0 11  0  0\\n    1.6544    1.6466   -1.1428 H   0  0  0  0  0  0  0  0  0 12  0  0\\n   -0.8280    0.7508   -1.8837 H   0  0  0  0  0  0  0  0  0 13  0  0\\n   -1.1833    2.3489    0.2530 H   0  0  0  0  0  0  0  0  0 14  0  0\\n   -2.9258    1.0538    1.4076 H   0  0  0  0  0  0  0  0  0 15  0  0\\n   -3.0871   -1.1211    0.1226 H   0  0  0  0  0  0  0  0  0 16  0  0\\n   -1.9646   -1.3940    1.0006 H   0  0  0  0  0  0  0  0  0 17  0  0\\n    0.1648   -0.4601    0.6196 H   0  0  0  0  0  0  0  0  0 18  0  0\\n   -1.0976   -1.5290   -1.2993 H   0  0  0  0  0  0  0  0  0 19  0  0\\n    1.6353   -0.7857   -2.1076 H   0  0  0  0  0  0  0  0  0 20  0  0\\n    2.4382   -2.1731   -0.0955 H   0  0  0  0  0  0  0  0  0 21  0  0\\n 13  3  1  0\\n 14  4  1  0\\n 21  9  1  0\\n  3  9  2  0\\n  3  2  1  0\\n  9 10  1  0\\n 15  5  1  0\\n  4  5  1  0\\n  4  8  1  0\\n  5  6  2  0\\n  2 12  1  0\\n  2  1  2  0\\n 20  8  1  0\\n  8  7  1  0\\n 10 22  1  0\\n 10  1  1  0\\n  6 16  1  0\\n  6  7  1  0\\n  1 11  1  0\\n  7 17  1  0\\n  7 18  1  0\\nM  END\\n\",\"sdf\");\n",
       "\tviewergrid_1623385270583318[0][0].setStyle({\"stick\": {\"radius\": 0.2}, \"sphere\": {\"scale\": 0.25}});\n",
       "\tviewergrid_1623385270583318[0][1].setStyle({\"stick\": {\"radius\": 0.2}, \"sphere\": {\"scale\": 0.25}});\n",
       "\tviewergrid_1623385270583318[0][2].setStyle({\"stick\": {\"radius\": 0.2}, \"sphere\": {\"scale\": 0.25}});\n",
       "\tviewergrid_1623385270583318[0][1].addPropertyLabels(\"index\",\"\",{\"fontSize\": 15, \"fontColor\": \"white\", \"showBackground\": true, \"alignment\": \"center\", \"backgroundOpacity\": 0.2, \"backgroundColor\": \"black\"});\n",
       "\tviewergrid_1623385270583318[0][1].zoomTo();\n",
       "\tviewergrid_1623385270583318[0][2].addModel(\"\\n     RDKit          3D\\n\\n 22 22  0  0  0  0  0  0  0  0999 V2000\\n    1.8637   -0.1728    1.3907 C   0  0  0  0  0  0  0  0  0  6  0  0\\n    2.2297    1.1197    0.7221 C   0  0  0  0  0  0  0  0  0  5  0  0\\n    2.0148    1.0232   -0.5975 C   0  0  0  0  0  0  0  0  0  4  0  0\\n   -1.3782    0.3333   -1.4637 C   0  0  0  0  0  0  0  0  0  2  0  0\\n   -1.6103    1.1680   -0.3126 C   0  0  0  0  0  0  0  0  0  8  0  0\\n   -2.0577    0.4136    0.7008 C   0  0  0  0  0  0  0  0  0  9  0  0\\n   -2.1488   -1.0179    0.2613 C   0  0  0  0  0  0  0  0  0  0  0  0\\n   -1.7291   -0.9286   -1.1761 C   0  0  0  0  0  0  0  0  0  1  0  0\\n    1.5032   -0.2878   -0.9042 C   0  0  0  0  0  0  0  0  0  3  0  0\\n    1.4224   -1.0079    0.2255 C   0  0  0  0  0  0  0  0  0  7  0  0\\n    2.7290   -0.6176    1.8904 H   0  0  0  0  0  0  0  0  0 17  0  0\\n    2.6073    1.9900    1.2364 H   0  0  0  0  0  0  0  0  0 15  0  0\\n    2.1869    1.7943   -1.3324 H   0  0  0  0  0  0  0  0  0 14  0  0\\n   -1.0234    0.7000   -2.4146 H   0  0  0  0  0  0  0  0  0 12  0  0\\n   -1.4320    2.2320   -0.2891 H   0  0  0  0  0  0  0  0  0 20  0  0\\n   -2.3036    0.7696    1.6891 H   0  0  0  0  0  0  0  0  0 21  0  0\\n   -3.1677   -1.4021    0.3579 H   0  0  0  0  0  0  0  0  0 10  0  0\\n   -1.4477   -1.6423    0.8260 H   0  0  0  0  0  0  0  0  0 18  0  0\\n    1.0511   -0.0326    2.1093 H   0  0  0  0  0  0  0  0  0 16  0  0\\n   -1.6808   -1.7660   -1.8546 H   0  0  0  0  0  0  0  0  0 11  0  0\\n    1.2767   -0.6348   -1.9004 H   0  0  0  0  0  0  0  0  0 13  0  0\\n    1.0944   -2.0332    0.2943 H   0  0  0  0  0  0  0  0  0 19  0  0\\n  7  8  1  0\\n  7  6  1  0\\n  7 17  1  0\\n  7 18  1  0\\n  8  4  2  0\\n  8 20  1  0\\n  4  5  1  0\\n  4 14  1  0\\n  9  3  1  0\\n  9 10  2  0\\n  9 21  1  0\\n  3  2  2  0\\n  3 13  1  0\\n  2  1  1  0\\n  2 12  1  0\\n  1 10  1  0\\n  1 19  1  0\\n  1 11  1  0\\n 10 22  1  0\\n  5  6  2  0\\n  5 15  1  0\\n  6 16  1  0\\nM  END\\n\",\"sdf\");\n",
       "\tviewergrid_1623385270583318[0][0].setStyle({\"stick\": {\"radius\": 0.2}, \"sphere\": {\"scale\": 0.25}});\n",
       "\tviewergrid_1623385270583318[0][1].setStyle({\"stick\": {\"radius\": 0.2}, \"sphere\": {\"scale\": 0.25}});\n",
       "\tviewergrid_1623385270583318[0][2].setStyle({\"stick\": {\"radius\": 0.2}, \"sphere\": {\"scale\": 0.25}});\n",
       "\tviewergrid_1623385270583318[0][2].addPropertyLabels(\"index\",\"\",{\"fontSize\": 15, \"fontColor\": \"white\", \"showBackground\": true, \"alignment\": \"center\", \"backgroundOpacity\": 0.2, \"backgroundColor\": \"black\"});\n",
       "\tviewergrid_1623385270583318[0][2].zoomTo();\n",
       "viewergrid_1623385270583318[0][2].render();\n",
       "viewergrid_1623385270583318[0][1].render();\n",
       "viewergrid_1623385270583318[0][0].render();\n",
       "});\n",
       "</script>"
      ]
     },
     "metadata": {},
     "output_type": "display_data"
    }
   ],
   "source": [
    "# Align the TS to make visualization more convenient\n",
    "atom_map = [(i, i) for i in range(r_mol.GetNumAtoms())]\n",
    "ts.GetBestAlign(refMol=r_mol,\n",
    "                atomMap=atom_map,\n",
    "                keepBestConformer=True)\n",
    "\n",
    "# View results in 3D geometries\n",
    "mols_to_view = [r_mol, ts, p_align]\n",
    "entries = len(mols_to_view)\n",
    "viewer = grid_viewer(viewer_grid=(1, entries), viewer_size=(240 * entries, 300),)\n",
    "for i in range(entries):\n",
    "    mol_viewer(mols_to_view[i].ToMolBlock(), 'sdf', viewer=viewer, viewer_loc=(0, i))\n",
    "\n",
    "print('reactant    TS      product')\n",
    "viewer.show()"
   ]
  },
  {
   "cell_type": "markdown",
   "metadata": {},
   "source": [
    "Get TS xyz"
   ]
  },
  {
   "cell_type": "code",
   "execution_count": 51,
   "metadata": {},
   "outputs": [
    {
     "name": "stdout",
     "output_type": "stream",
     "text": [
      "22\n",
      "\n",
      "C      1.735066   -0.439314    1.051607\n",
      "C      1.853989    0.893110    0.678944\n",
      "C      1.641262    0.905010   -0.663430\n",
      "C     -0.831680    0.486149   -0.966058\n",
      "C     -1.392511    1.319296    0.072020\n",
      "C     -2.254315    0.609091    0.741270\n",
      "C     -2.179691   -0.731317    0.341177\n",
      "C     -1.188826   -0.741141   -0.644998\n",
      "C      1.816470   -0.412329   -1.153476\n",
      "C      2.120668   -1.180878   -0.123956\n",
      "H      1.986889   -0.741698    1.941073\n",
      "H      1.886390    1.696963    1.309975\n",
      "H      1.654443    1.646568   -1.142845\n",
      "H     -0.828014    0.750773   -1.883750\n",
      "H     -1.183272    2.348933    0.253047\n",
      "H     -2.925812    1.053808    1.407552\n",
      "H     -3.087100   -1.121142    0.122647\n",
      "H     -1.964623   -1.393974    1.000605\n",
      "H      0.164755   -0.460121    0.619571\n",
      "H     -1.097631   -1.528969   -1.299336\n",
      "H      1.635321   -0.785689   -2.107590\n",
      "H      2.438221   -2.173130   -0.095473\n",
      "\n"
     ]
    }
   ],
   "source": [
    "print(ts.ToXYZ())"
   ]
  },
  {
   "cell_type": "code",
   "execution_count": null,
   "metadata": {},
   "outputs": [],
   "source": []
  }
 ],
 "metadata": {
  "@webio": {
   "lastCommId": null,
   "lastKernelId": null
  },
  "kernelspec": {
   "display_name": "Python 3.7.7 64-bit ('rmg_env': conda)",
   "language": "python",
   "name": "python37764bitrmgenvcondac02b0b81a4b642cf8610ea18f5d2fd9c"
  },
  "language_info": {
   "codemirror_mode": {
    "name": "ipython",
    "version": 3
   },
   "file_extension": ".py",
   "mimetype": "text/x-python",
   "name": "python",
   "nbconvert_exporter": "python",
   "pygments_lexer": "ipython3",
   "version": "3.7.10"
  }
 },
 "nbformat": 4,
 "nbformat_minor": 2
}
