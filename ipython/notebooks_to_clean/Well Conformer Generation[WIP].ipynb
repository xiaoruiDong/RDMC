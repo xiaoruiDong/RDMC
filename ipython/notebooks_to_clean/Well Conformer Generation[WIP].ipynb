{
 "cells": [
  {
   "cell_type": "markdown",
   "metadata": {},
   "source": [
    "# Find conformers for wells\n",
    "This uses a RDkit as backend to generate the TS conformers and calculate the energy."
   ]
  },
  {
   "cell_type": "markdown",
   "metadata": {},
   "source": [
    "## 1. Generate conformers\n",
    "Necessary packages"
   ]
  },
  {
   "cell_type": "code",
   "execution_count": null,
   "metadata": {},
   "outputs": [],
   "source": [
    "from typing import Optional, Union\n",
    "import math\n",
    "import os\n",
    "import sys\n",
    "# To add this RDMC into PYTHONPATH in case you haven't do it\n",
    "sys.path.append(os.path.dirname(os.path.abspath('')))\n",
    "from itertools import combinations, product, chain\n",
    "from collections.abc import Iterable\n",
    "\n",
    "import numpy as np\n",
    "from tqdm.notebook import tqdm\n",
    "\n",
    "from rdkit import Chem\n",
    "from rdmc.mol import RDKitMol, parse_xyz_or_smiles_list\n",
    "from rdmc.forcefield import RDKitFF\n",
    "from rdmc.view import mol_viewer, grid_viewer, conformer_viewer\n",
    "\n",
    "%load_ext autoreload\n",
    "%autoreload 2\n",
    "%load_ext autotime"
   ]
  },
  {
   "cell_type": "code",
   "execution_count": null,
   "metadata": {
    "scrolled": false
   },
   "outputs": [],
   "source": [
    "def gen_scan_angle_list(samplings: Union[list, tuple],\n",
    "                        from_angles: Optional[Iterable] = None,\n",
    "                        scale=360.,):\n",
    "    \"\"\"\n",
    "    Get a angle list for each input dimension. For each dimension\n",
    "    The input can be a int, indicating the angles will be evenly sampled;\n",
    "    Or a list, indicate the angles to be sampled;\n",
    "    Examples:\n",
    "    [[120, 240,], 4, 0] => [np.array([120, 240,]),\n",
    "                            np.array([0, 90, 180, 270,]),\n",
    "                            np.array([0])]\n",
    "    List of np.arrays are returned for the sake of further calculation\n",
    "\n",
    "    Args:\n",
    "        samplings (Union[list, tuple]): An array of sampling information.\n",
    "                  For each element, it can be either list or int.\n",
    "        from_angles (Union[list, tuple]): An array of initial angles.\n",
    "                    If not set, angles will begin at zeros.\n",
    "\n",
    "    Returns:\n",
    "        list: A list of sampled angles sets.\n",
    "    \"\"\"\n",
    "    from_angles = from_angles or len(samplings) * [0.]\n",
    "    angle_list = []\n",
    "    for ind, angles in enumerate(samplings):\n",
    "        # Only provide a number\n",
    "        # This is the step number of the angles\n",
    "        if isinstance(angles, (int, float)):\n",
    "            try:\n",
    "                step = scale // angles\n",
    "            except ZeroDivisionError:\n",
    "                # Does not change\n",
    "                angles = from_angles[ind] + np.array([0])\n",
    "            else:\n",
    "                angles = from_angles[ind] + \\\n",
    "                         np.array([step * i for i in range(angles)])\n",
    "        elif isinstance(angles, Iterable):\n",
    "            angles = from_angles[ind] + np.array(angles)\n",
    "\n",
    "        # Set to angles to be within 0 - scale\n",
    "        for i in range(angles.shape[0]):\n",
    "            while angles[i] < 0.:\n",
    "                angles[i] += scale\n",
    "            while angles[i] > scale:\n",
    "                angles[i] -= scale\n",
    "\n",
    "        angle_list.append(angles.tolist())\n",
    "    return angle_list\n",
    "\n",
    "\n",
    "def conformers_by_change_torsions(conf: 'RDKitConf',\n",
    "                                  angle_mesh,\n",
    "                                  bookkeep: dict,\n",
    "                                  torsions=None,\n",
    "                                  on_the_fly_check=False):\n",
    "    \"\"\"\n",
    "    Generate conformers by rotating the angles of the torsions. The result will be saved into\n",
    "    ``bookkeep``. A on-the-fly check can be applied, which identifies the conformers with colliding\n",
    "    atoms.\n",
    "\n",
    "    Args:\n",
    "        conf (RDkitConf): A RDKit Conformer to be used.\n",
    "        angle_mesh (iterable): An iterable contains the angle_list for conformers to be generated from.\n",
    "        bookkeep (dict): A dictionary to save the coords.\n",
    "        torsions (list): A list of four-atom-index lists indicating the torsional modes.\n",
    "        on_the_fly_filter (bool): Whether to check colliding atoms on the fly.\n",
    "    \"\"\"\n",
    "    if torsions == None:\n",
    "        torsions = conf.GetTorsionalModes()\n",
    "        for ind, angles in enumerate(angle_mesh):\n",
    "            conf.SetAllTorsionsDeg(angles)\n",
    "            bookkeep[ind] = {'angles': angles,\n",
    "                             'coords': conf.GetPositions().tolist()}\n",
    "            bookkeep[ind]['colliding_atoms'] = conf.HasCollidingAtoms() \\\n",
    "                if on_the_fly_check == True else None\n",
    "\n",
    "    else:\n",
    "        all_torsions = conf.GetTorsionalModes()\n",
    "        try:\n",
    "            changing_torsions_index = [all_torsions.index(tor) for tor in torsions]\n",
    "        except ValueError as e:\n",
    "            # tor not in all_torsions\n",
    "            raise\n",
    "\n",
    "        original_angles = conf.GetAllTorsionsDeg()\n",
    "\n",
    "        for ind, angles in enumerate(angle_mesh):\n",
    "            for i, angle, tor in zip(range(len(angles)), angles, torsions):\n",
    "                conf.SetTorsionDeg(tor, angle)\n",
    "                original_angles[changing_torsions_index[i]] = angle\n",
    "\n",
    "            bookkeep[ind] = {'angles': original_angles,\n",
    "                             'coords': conf.GetPositions().tolist()}\n",
    "            bookkeep[ind]['colliding_atoms'] = conf.HasCollidingAtoms() \\\n",
    "                    if on_the_fly_check == True else None"
   ]
  },
  {
   "cell_type": "markdown",
   "metadata": {},
   "source": [
    "## Arguments"
   ]
  },
  {
   "cell_type": "code",
   "execution_count": null,
   "metadata": {},
   "outputs": [],
   "source": [
    "VISUAL_MOLECULE = True"
   ]
  },
  {
   "cell_type": "markdown",
   "metadata": {},
   "source": [
    "## 1.1 Input structure representation\n",
    "### 1.1.1 SMILES [OPTION 1]"
   ]
  },
  {
   "cell_type": "code",
   "execution_count": null,
   "metadata": {},
   "outputs": [],
   "source": [
    "representation = '[C:1](=[C:2]([O:3][H:7])[C:4](=[O:5])[N:6]([H:10])[H:11])([H:8])[H:9]'\n",
    "# representation = '''C1O[CH]OO1'''\n",
    "multiplicity = 1"
   ]
  },
  {
   "cell_type": "markdown",
   "metadata": {},
   "source": [
    "### 1.1.2 XYZ [OPTION2]"
   ]
  },
  {
   "cell_type": "code",
   "execution_count": null,
   "metadata": {},
   "outputs": [],
   "source": [
    "representation = \"\"\"O     -0.716754    2.571054    0.039049\n",
    "O     -0.843390    1.450441   -0.648092\n",
    "C     -0.299338    0.399888    0.096181\n",
    "C     -1.444302   -0.519741    0.493544\n",
    "C      0.642012   -0.323022   -0.849381\n",
    "O      1.456755   -1.158727   -0.121201\n",
    "O      2.585607   -0.616592    0.254560\n",
    "H      0.235197    0.812654    0.963319\n",
    "H     -2.418435   -0.145859    0.090662\n",
    "H     -1.276283   -1.544097    0.114804\n",
    "H     -1.537460   -0.504811    1.608270\n",
    "H     -0.004205   -0.924720   -1.534047\n",
    "H      1.165206    0.421121   -1.461232\n",
    "H      2.455389    0.082412    0.953563\"\"\"\n",
    "multiplicity = 2"
   ]
  },
  {
   "cell_type": "markdown",
   "metadata": {},
   "source": [
    "### 1.1.3 generate molecule"
   ]
  },
  {
   "cell_type": "code",
   "execution_count": null,
   "metadata": {},
   "outputs": [],
   "source": [
    "rdmol = parse_xyz_or_smiles_list([(representation,\n",
    "                                   multiplicity)],\n",
    "                                 header=False,\n",
    "                                 backend='openbabel')[0]\n",
    "if not rdmol.GetNumConformers():\n",
    "    rdmol.EmbedConformer()"
   ]
  },
  {
   "cell_type": "markdown",
   "metadata": {},
   "source": [
    "## 1.2 Use RDKit to generate conformers"
   ]
  },
  {
   "cell_type": "markdown",
   "metadata": {},
   "source": [
    "### 1.2.1 Get the torsional mode and the original angles"
   ]
  },
  {
   "cell_type": "code",
   "execution_count": null,
   "metadata": {},
   "outputs": [],
   "source": [
    "# You can set the correct (all) torsions, otherwise RDKit will perceive.\n",
    "######################################\n",
    "# INPUT\n",
    "torsions = []\n",
    "exclude_methyl_rotors = False\n",
    "######################################\n",
    "if not torsions:\n",
    "    torsions = rdmol.GetTorsionalModes(excludeMethyl=exclude_methyl_rotors)\n",
    "    print(f'RDKit perceived torsions: {torsions}')\n",
    "\n",
    "conf = rdmol.GetConformer()\n",
    "conf.SetTorsionalModes(torsions)\n",
    "num_torsions = len(torsions)\n",
    "original_angles = conf.GetAllTorsionsDeg()\n",
    "print(f'The original dihedral angles is: {original_angles}')\n",
    "if VISUAL_MOLECULE:\n",
    "    mol_viewer(rdmol).update()"
   ]
  },
  {
   "cell_type": "markdown",
   "metadata": {},
   "source": [
    "### 1.2.3 Generate conformers according to the angle mesh"
   ]
  },
  {
   "cell_type": "markdown",
   "metadata": {},
   "source": [
    "#### Example 1:\n",
    "Sampling the angles `0, 120, 240` for each torsion for a 7 heavy atom species with 5 rotors cost ~20 ms on Intel(R) Core(TM) i9-9880H CPU @ 2.30GHz\n",
    "\n",
    "#### Example2:\n",
    "Sampling the angles with a 45 x 45 evenly spaced mesh for each torsion pairs of a 7 heavy atom species with 5 rotors cost 1.4 s on Intel(R) Core(TM) i9-9880H CPU @ 2.30GHz\n",
    "\n",
    "- `RESOLUTION`: the resolution in degree for rotational bond scan\n",
    "- `RESOLUTION_METHYL`: the resolution in degree for rotational bond scan for the methyl group\n",
    "- `DIMENSION`: the dimension for rotor coupling. The default is `0` for coupling all rotors\n",
    "- `SAMPLING` : The sampling for each rotor. If `sampling` is provided as an empty list `[]`, it will be automatically created."
   ]
  },
  {
   "cell_type": "code",
   "execution_count": null,
   "metadata": {},
   "outputs": [],
   "source": [
    "################ INPUT ################################\n",
    "RESOLUTION = 30  # degrees\n",
    "RESOLUTION_METHYL = 180  # degrees\n",
    "DIMENSION = 0\n",
    "SAMPLING = []  # you can provide something like SAMPLING = [3, 3, 3] to customized the sampling\n",
    "########################################################\n",
    "\n",
    "if not SAMPLING:\n",
    "    methyl_carbons = [item[0] for item in rdmol.GetSubstructMatches(RDKitMol.FromSmarts('[CH3]'))]\n",
    "    sampling = []\n",
    "    for tor in torsions:\n",
    "        if tor[1] in methyl_carbons or tor[2] in methyl_carbons:\n",
    "            sampling.append(360 // RESOLUTION_METHYL)\n",
    "        else:\n",
    "            sampling.append(360 // RESOLUTION)\n",
    "else:\n",
    "    sampling = SAMPLING\n",
    "print(sampling)"
   ]
  },
  {
   "cell_type": "markdown",
   "metadata": {},
   "source": [
    "Generate initial guesses"
   ]
  },
  {
   "cell_type": "code",
   "execution_count": null,
   "metadata": {},
   "outputs": [],
   "source": [
    "bookkeeps = {}\n",
    "if DIMENSION == 0:\n",
    "    DIMENSION = len(torsions)\n",
    "init_coords = conf.GetPositions()\n",
    "for tor_indexes in combinations(range(len(torsions)), DIMENSION):\n",
    "    # Reset the geometry\n",
    "    conf.SetPositions(init_coords)\n",
    "    # Get angles\n",
    "    sampling_points = [sampling[i] for i in tor_indexes]\n",
    "    tor_orig_angles = [original_angles[i] for i in tor_indexes]\n",
    "    tor_to_gen = [torsions[i] for i in tor_indexes]\n",
    "\n",
    "    angles_list = gen_scan_angle_list(sampling_points,\n",
    "                                      tor_orig_angles)\n",
    "    angle_mesh = product(*angles_list)\n",
    "    # Generate conformers\n",
    "    bookkeep = {}\n",
    "    conformers_by_change_torsions(conf,\n",
    "                                  angle_mesh,\n",
    "                                  bookkeep=bookkeep,\n",
    "                                  torsions=tor_to_gen,\n",
    "                                  on_the_fly_check=False)\n",
    "    bookkeeps[str(tor_indexes)] = bookkeep"
   ]
  },
  {
   "cell_type": "markdown",
   "metadata": {},
   "source": [
    "## 2.1 Calculate using Psi4 [Not working]"
   ]
  },
  {
   "cell_type": "markdown",
   "metadata": {},
   "source": [
    "This section is only for testing instead of actual tasks.\n",
    "From experience, for conformer search purpose, better to use `n_threads_each_calculation = 1` and use `n_worker` as many as possible"
   ]
  },
  {
   "cell_type": "code",
   "execution_count": null,
   "metadata": {},
   "outputs": [],
   "source": [
    "import psi4\n",
    "\n",
    "# How many threads to use as worker\n",
    "n_worker = 8  # -1 to use all threads\n",
    "n_memory_each_calculation = 12000 / n_worker  # Assuming you have \n",
    "n_threads_each_calculation = 1\n",
    "reference = 'uhf'\n",
    "level_of_theory = 'b3lyp/def2-svp'"
   ]
  },
  {
   "cell_type": "code",
   "execution_count": null,
   "metadata": {},
   "outputs": [],
   "source": [
    "def geom_producer(bookkeep, xyz_dict):\n",
    "    for ind, conf in bookkeep.items():\n",
    "        xyz_dict['coords'] = conf['coords']\n",
    "        xyz_file = xyz_dict_to_xyz_file(xyz_dict)\n",
    "        yield (ind, xyz_file)\n",
    "        \n",
    "def get_psi4_dftenergy(ind, xyz_file):\n",
    "    psi4.set_memory(f'{n_memory_each_calculation} MB')\n",
    "    psi4.set_options({'reference': reference})\n",
    "    try:\n",
    "        psi4.geometry(xyz_file)\n",
    "        psi4.set_num_threads(n_threads_each_calculation)\n",
    "        return (ind, psi4.energy(level_of_theory))\n",
    "    except Exception as e:\n",
    "        print(e)\n",
    "        return (ind, 1e4)"
   ]
  },
  {
   "cell_type": "code",
   "execution_count": null,
   "metadata": {},
   "outputs": [],
   "source": [
    "result = Parallel(n_jobs=n_worker, verbose=100) \\\n",
    "         (delayed(get_psi4_dftenergy)(*data) for data in geom_producer(bookkeep, xyz_dict))"
   ]
  },
  {
   "cell_type": "markdown",
   "metadata": {},
   "source": [
    "## 2.2 Optimize using Forcefield"
   ]
  },
  {
   "cell_type": "code",
   "execution_count": null,
   "metadata": {},
   "outputs": [],
   "source": [
    "# One of the ND combination as an example.\n",
    "# If coupling all rotors, there will be only one item in the list.\n",
    "bookkeep = list(bookkeeps.values())[0]\n",
    "\n",
    "# Backup the molecule\n",
    "rdmol_cp = rdmol.Copy()"
   ]
  },
  {
   "cell_type": "markdown",
   "metadata": {},
   "source": [
    "### 2.2.1 Optimize By force field"
   ]
  },
  {
   "cell_type": "code",
   "execution_count": null,
   "metadata": {},
   "outputs": [],
   "source": [
    "rdmol_cp = rdmol.Copy()\n",
    "rdmol_cp.EmbedMultipleConfs(500)\n",
    "confs = rdmol_cp.GetAllConformers()"
   ]
  },
  {
   "cell_type": "code",
   "execution_count": null,
   "metadata": {},
   "outputs": [],
   "source": [
    "rdmol_cp.EmbedMultipleConfs(len(bookkeep))\n",
    "confs = rdmol_cp.GetAllConformers()\n",
    "for i, value in bookkeep.items():\n",
    "    confs[i].SetPositions(value['coords'])"
   ]
  },
  {
   "cell_type": "code",
   "execution_count": null,
   "metadata": {},
   "outputs": [],
   "source": [
    "ff = RDKitFF(force_field='MMFF94s')\n",
    "# All at once\n",
    "# All at once is faster if enough RAM\n",
    "ff.setup(rdmol_cp)\n",
    "results = ff.optimize_confs(num_threads=-1)\n",
    "energies = [e for _, e in results]\n",
    "\n",
    "\n",
    "# # Iterative\n",
    "# energies = []\n",
    "# for i in tqdm(range(rdmol_cp.GetNumConformers())):\n",
    "#     ff.setup(rdmol_cp, conf_id=i)\n",
    "#     ff.optimize()\n",
    "#     energies.append(ff.get_energy())\n",
    "\n",
    "rdmol_cp = ff.get_optimized_mol()"
   ]
  },
  {
   "cell_type": "code",
   "execution_count": null,
   "metadata": {},
   "outputs": [],
   "source": [
    "conf_ids = np.arange(rdmol_cp.GetNumConformers())\n",
    "energies = np.array(energies)"
   ]
  },
  {
   "cell_type": "markdown",
   "metadata": {},
   "source": [
    "### 2.2.2 Align conformers [OPTIONAL]\n",
    "Showing too many structures can make figure diffcult to study and cause the notebook to crash"
   ]
  },
  {
   "cell_type": "code",
   "execution_count": null,
   "metadata": {},
   "outputs": [],
   "source": [
    "## INPUT ##\n",
    "# By default, it only shows the first 100 conformers\n",
    "number_of_conforms_to_view = range(min(rdmol_cp.GetNumConformers(), 100))\n",
    "###########\n",
    "\n",
    "\n",
    "Chem.rdMolAlign.AlignMolConformers(rdmol_cp.ToRWMol(), maxIters=200,)\n",
    "\n",
    "if VISUAL_MOLECULE:\n",
    "    view = conformer_viewer(rdmol_cp, conf_ids=number_of_conforms_to_view, style_spec={'stick': {'radius': 0.1}})\n",
    "    view.update()"
   ]
  },
  {
   "cell_type": "markdown",
   "metadata": {},
   "source": [
    "## 2.3 Read from previous calculation"
   ]
  },
  {
   "cell_type": "code",
   "execution_count": null,
   "metadata": {},
   "outputs": [],
   "source": [
    "import os\n",
    "from arkane.ess.factory import ess_factory\n",
    "from rmgpy import constants\n",
    "from arc.species.converter import xyz_from_data\n",
    "\n",
    "wb97xd3 = '/Users/xiaorui/Dropbox (Personal)/RMG/Co-OPTIMA/TSGen/conformer_collaboration/ground_truth_conformer_dataset/p000301_3_rotors/wb97xd3'\n",
    "num_dirs = 0\n",
    "errored = {}\n",
    "opt_confs = {}\n",
    "for root, dirs, files in os.walk(wb97xd3):\n",
    "    dirs.sort()\n",
    "    for directory in dirs:\n",
    "        outfile = os.path.join(root, directory, 'output.log')\n",
    "        try:\n",
    "            qchem_log = ess_factory(outfile, check_for_errors=True)\n",
    "        except Exception as e:\n",
    "            print(f'Error with {directory}')\n",
    "            print(e)\n",
    "            errored[directory] = e\n",
    "            qchem_log = ess_factory(outfile, check_for_errors=False)\n",
    "        key = int(directory)\n",
    "        opt_confs[key] = {}\n",
    "        coord, number, mass = qchem_log.load_geometry()\n",
    "        opt_confs[key]['xyz_dict'] = xyz_from_data(coord, numbers=number)\n",
    "        opt_confs[key]['energy'] = qchem_log.load_energy() / (constants.E_h * constants.Na)  # convert J/mol to Hartrees\n",
    "        # qchem_log.load_zero_point_energy()  # ZPE doesn't exist since we didn't do freq calc\n",
    "        \n",
    "        num_dirs += 1\n",
    "    break\n",
    "num_dirs"
   ]
  },
  {
   "cell_type": "markdown",
   "metadata": {},
   "source": [
    "Set molecule information"
   ]
  },
  {
   "cell_type": "code",
   "execution_count": null,
   "metadata": {},
   "outputs": [],
   "source": [
    "rdmol_cp = RDKitMol.FromSmiles('[C:1](=[C:2]([O:3][H:7])[C:4](=[O:5])[N:6]([H:10])[H:11])([H:8])[H:9]')\n",
    "rdmol = rdmol_cp.Copy()\n",
    "exclude_methyl_rotors = False \n",
    "torsions = rdmol_cp.GetTorsionalModes()"
   ]
  },
  {
   "cell_type": "markdown",
   "metadata": {},
   "source": [
    "Load conformers on to the molecule"
   ]
  },
  {
   "cell_type": "code",
   "execution_count": null,
   "metadata": {},
   "outputs": [],
   "source": [
    "rdmol_cp.EmbedMultipleConfs(len(opt_confs))\n",
    "for idx, conf in opt_confs.items():\n",
    "    rdmol_cp.SetPositions(conf['xyz_dict']['coords'], id=int(idx))\n",
    "    \n",
    "conf_ids = np.arange(rdmol_cp.GetNumConformers())\n",
    "energies = np.array([opt_confs[i]['energy'] for i in range(num_dirs)])"
   ]
  },
  {
   "cell_type": "markdown",
   "metadata": {},
   "source": [
    "## 2.3 Filter out duplicate conformers"
   ]
  },
  {
   "cell_type": "code",
   "execution_count": null,
   "metadata": {
    "scrolled": true
   },
   "outputs": [],
   "source": [
    "from rdmc.conf import ConformerCluster, ConformerFilter\n",
    "\n",
    "# Created a filter object \n",
    "fil = ConformerFilter(mol=rdmol_cp)"
   ]
  },
  {
   "cell_type": "markdown",
   "metadata": {},
   "source": [
    "## 2.3.1 Cluster conformers by energies\n",
    "This will make the filtering duplicate conformers easier in the latter steps. "
   ]
  },
  {
   "cell_type": "code",
   "execution_count": null,
   "metadata": {},
   "outputs": [],
   "source": [
    "decimals = 4  # Energy clustering based on the number of decimals"
   ]
  },
  {
   "cell_type": "code",
   "execution_count": null,
   "metadata": {},
   "outputs": [],
   "source": [
    "energy_clusters = ConformerCluster(children=conf_ids,\n",
    "                                   energies=energies).split_by_energies(decimals=decimals,\n",
    "                                                                        as_dict=True)\n",
    "print(f'Totally, {len(energies)} conformers.')\n",
    "print(f'Generated {len(energy_clusters)} energy clusters.')"
   ]
  },
  {
   "cell_type": "markdown",
   "metadata": {},
   "source": [
    "### 2.3.2 Filtering according to the torsional fingerprint\n",
    "Threshold defined by dihedral angle differences for both root squared summed angles and individual angles\n"
   ]
  },
  {
   "cell_type": "code",
   "execution_count": null,
   "metadata": {},
   "outputs": [],
   "source": [
    "threshold = 5."
   ]
  },
  {
   "cell_type": "code",
   "execution_count": null,
   "metadata": {},
   "outputs": [],
   "source": [
    "for e_value, e_clusters in energy_clusters.items():\n",
    "    e_clusters = fil.filter_by_iter_hcluster(e_clusters, threshold=threshold)\n",
    "    energy_clusters[e_value] = fil.filter_by_dihed_angles(e_clusters, threshold=threshold)"
   ]
  },
  {
   "cell_type": "markdown",
   "metadata": {},
   "source": [
    "Merge clusters split by energies back together; and filter again to avoid mis-division"
   ]
  },
  {
   "cell_type": "code",
   "execution_count": null,
   "metadata": {},
   "outputs": [],
   "source": [
    "all_clusters = [c for clusters in energy_clusters.values() for c in clusters]\n",
    "all_clusters = fil.filter_by_iter_hcluster(all_clusters, threshold=threshold)\n",
    "all_clusters = fil.filter_by_dihed_angles(all_clusters, threshold=threshold)\n",
    "\n",
    "confs = [int(c.head) for c in all_clusters]\n",
    "print(f'Eventually, {len(all_clusters)} conformers are obtained.')\n",
    "all_clusters\n"
   ]
  },
  {
   "cell_type": "markdown",
   "metadata": {},
   "source": [
    "Calculate the RMSD stats in each cluster"
   ]
  },
  {
   "cell_type": "code",
   "execution_count": null,
   "metadata": {},
   "outputs": [],
   "source": [
    "rmsds_in_cluster = []\n",
    "for cluster in all_clusters:\n",
    "    rmsds_in_cluster.append(fil.generate_rmsds_of_cluster(cluster, reflect=False, reorder=False))\n",
    "    \n",
    "for i, rmsd in enumerate(rmsds_in_cluster):\n",
    "    print(f'{i}: Mean: {rmsd.mean():.3e}; Max: {rmsd.max():.3e} ; Std: {rmsd.std():.3e}')"
   ]
  },
  {
   "cell_type": "markdown",
   "metadata": {},
   "source": [
    "Calculate the RMSD stats across clusters"
   ]
  },
  {
   "cell_type": "code",
   "execution_count": null,
   "metadata": {},
   "outputs": [],
   "source": [
    "for idx, i in enumerate(confs):\n",
    "    rmsd = []\n",
    "    for j in confs:\n",
    "        if i == j:\n",
    "            continue\n",
    "        rmsd.append(fil.pairwise_rmsd(i, j, reflect=False, reorder=False))\n",
    "    rmsd = np.array(rmsd)\n",
    "    print(f'{idx}: Mean: {rmsd.mean():.3e}; Min: {rmsd.min():.3e} ; Std: {rmsd.std():.3e}')\n",
    "    "
   ]
  },
  {
   "cell_type": "code",
   "execution_count": null,
   "metadata": {},
   "outputs": [],
   "source": [
    "# rmsds_x_clusters = fil.compare_rmsds_across_clusters(all_clusters, reflect=False, reorder=False, diagonal_nan=True)\n",
    "\n",
    "# for i, rmsd in enumerate(rmsds_x_clusters):\n",
    "#     rmsd = rmsd[~np.isnan(rmsd)]\n",
    "#     print(f'{i}: Mean: {rmsd.mean():.3e}; Min: {rmsd.min():.3e} ; Std: {rmsd.std():.3e}')"
   ]
  },
  {
   "cell_type": "markdown",
   "metadata": {},
   "source": [
    "Identify possible problematic clusters"
   ]
  },
  {
   "cell_type": "code",
   "execution_count": null,
   "metadata": {},
   "outputs": [],
   "source": [
    "# for idx in range(len(all_clusters)):\n",
    "    \n",
    "#     if len(all_clusters[idx].children) == 1:\n",
    "#         # Describe that this clusters population is super small\n",
    "#         # It is possible that this conformer is fake\n",
    "#         # Not necessary to be 1. need a better threshold\n",
    "#         print(f'warning: {idx}')\n",
    "#     max_rmsd_in_a_cluster = rmsds_in_cluster[idx].max()\n",
    "#     rmsd_xc = rmsds_x_clusters[idx, :]\n",
    "#     min_rmsd_x_clusters = rmsd_xc[~np.isnan(rmsd_xc)].min()\n",
    "    \n",
    "#     print(idx, min_rmsd_x_clusters/max_rmsd_in_a_cluster)\n",
    "#     if min_rmsd_x_clusters < max_rmsd_in_a_cluster:\n",
    "        \n",
    "#         print(key)\n",
    "    "
   ]
  },
  {
   "cell_type": "code",
   "execution_count": null,
   "metadata": {},
   "outputs": [],
   "source": [
    "cluster_id = 0\n",
    "\n",
    "cluster = all_clusters[cluster_id]\n",
    "for i in cluster.children:\n",
    "    rdmol_cp.AlignMol(prbMol=rdmol_cp, refCid=int(cluster.head), prbCid=int(i), reflect=False,)\n",
    "\n",
    "view = conformer_viewer(rdmol_cp, conf_ids=[int(i) for i in cluster.children], style_spec={'stick': {'radius': 0.1}})\n",
    "view.show()"
   ]
  },
  {
   "cell_type": "markdown",
   "metadata": {},
   "source": [
    "Torsional fingerprints"
   ]
  },
  {
   "cell_type": "code",
   "execution_count": null,
   "metadata": {},
   "outputs": [],
   "source": [
    "tor_fps = fil.get_tor_matrix([c.head for c in all_clusters], adjust_periodicity=False)\n",
    "\n",
    "np.set_printoptions(suppress=True)\n",
    "np.round(tor_fps/180, 2)"
   ]
  },
  {
   "cell_type": "markdown",
   "metadata": {},
   "source": [
    "Visualize all conformers"
   ]
  },
  {
   "cell_type": "code",
   "execution_count": null,
   "metadata": {},
   "outputs": [],
   "source": [
    "for i in confs:\n",
    "    rdmol_cp.AlignMol(refMol=rdmol_cp, refCid=confs[0], prbCid=int(i), reflect=False,)\n",
    "\n",
    "view = conformer_viewer(rdmol_cp, conf_ids=confs, style_spec={'stick': {'radius': 0.1}}, highlight_ids=[confs[0]])\n",
    "view.show()"
   ]
  },
  {
   "cell_type": "markdown",
   "metadata": {},
   "source": [
    "Remove mirror images"
   ]
  },
  {
   "cell_type": "markdown",
   "metadata": {},
   "source": [
    "### 2.4.2 Filtering according to RMSD without changing atom orders [WIP]"
   ]
  },
  {
   "cell_type": "code",
   "execution_count": null,
   "metadata": {},
   "outputs": [],
   "source": [
    "rmsd_threshold = 1e-3\n",
    "\n",
    "for energy_level, confs in energy_clusters.items():\n",
    "\n",
    "    if len(confs) == 1:\n",
    "        continue\n",
    "\n",
    "    distinct_confs = []\n",
    "    while len(confs) > 1:\n",
    "        distinct_confs.append(confs[0])\n",
    "        rmsd_list = []\n",
    "        Chem.rdMolAlign.AlignMolConformers(rdmol_cp.ToRWMol(),\n",
    "                                           confIds=confs,\n",
    "                                           maxIters=1000,\n",
    "                                           RMSlist=rmsd_list,\n",
    "                                          )\n",
    "\n",
    "        confs_no_reflect = [confs[0]] + [conf for idx, conf in enumerate(confs[1:])\n",
    "                                         if rmsd_list[idx] > rmsd_threshold]\n",
    "\n",
    "        rmsd_list = []\n",
    "        Chem.rdMolAlign.AlignMolConformers(rdmol_cp.ToRWMol(),\n",
    "                                           confIds=confs_no_reflect,\n",
    "                                           maxIters=1000,\n",
    "                                           RMSlist=rmsd_list,\n",
    "                                           reflect=True,)\n",
    "\n",
    "        # Reflect everything back\n",
    "        Chem.rdMolAlign.AlignMolConformers(rdmol_cp.ToRWMol(),\n",
    "                                           confIds=confs_no_reflect,\n",
    "                                           maxIters=0,\n",
    "                                           reflect=True,)\n",
    "\n",
    "        confs = [conf for idx, conf in enumerate(confs_no_reflect[1:])\n",
    "                 if rmsd_list[idx] > rmsd_threshold]\n",
    "\n",
    "    distinct_confs += confs\n",
    "    energy_clusters[energy_level] = distinct_confs\n",
    "\n",
    "print(f'totally, {len(list(chain.from_iterable(energy_clusters.values())))} conformers.')\n",
    "energy_clusters"
   ]
  },
  {
   "cell_type": "markdown",
   "metadata": {},
   "source": [
    "### 2.4.3 Remove the influence from the methyl rotors [WIP]"
   ]
  },
  {
   "cell_type": "code",
   "execution_count": null,
   "metadata": {},
   "outputs": [],
   "source": [
    "if not exclude_methyl_rotors:\n",
    "    methyl_carbons = [item[0] for item in rdmol.GetSubstructMatches(RDKitMol.FromSmarts('[CH3]'))]\n",
    "    methyl_rotor_mask = np.array([(tor[1] in methyl_carbons or tor[2] in methyl_carbons)\n",
    "                                 for tor in rdmol.GetTorsionalModes()])\n",
    "\n",
    "    for energy, confs in energy_clusters.items():\n",
    "        prune = []\n",
    "        for i in range(len(confs)):\n",
    "            if i in prune:\n",
    "                continue\n",
    "            for j in range(i+1, len(confs)):\n",
    "                conf_i, conf_j = rdmol_cp.GetConformers([int(confs[i]), int(confs[j])])\n",
    "                tor_diff = np.array(conf_i.GetAllTorsionsDeg()) - np.array(conf_j.GetAllTorsionsDeg())\n",
    "                if np.max(np.abs(np.ma.masked_array(tor_diff, methyl_rotor_mask))) < 5:\n",
    "                    prune.append(j)\n",
    "        energy_clusters[energy] = np.delete(confs, prune)\n",
    "\n",
    "all_conf = []\n",
    "for confs in energy_clusters.values():\n",
    "    for conf in confs:\n",
    "        all_conf.append(int(conf))\n",
    "\n",
    "prune = []\n",
    "for i in range(len(all_conf)):\n",
    "    if i in prune:\n",
    "        continue\n",
    "    for j in range(i+1, len(all_conf)):\n",
    "        conf_i, conf_j = rdmol_cp.GetConformers([int(all_conf[i]), int(all_conf[j])])\n",
    "        tor_diff = np.array(conf_i.GetAllTorsionsDeg()) - np.array(conf_j.GetAllTorsionsDeg())\n",
    "        if np.max(np.abs(np.ma.masked_array(tor_diff, methyl_rotor_mask))) < 5:\n",
    "            prune.append(j)\n",
    "all_conf = np.delete(all_conf, prune).tolist()\n",
    "print(f'Totally, {len(all_conf)} conformers')"
   ]
  },
  {
   "cell_type": "markdown",
   "metadata": {},
   "source": [
    "### 2.4.4 Filtering according to RMSD to avoid higher level symmetry [WIP]\n",
    "Find all isomorphic mapping and try each one. Also try to figure out if any mirror image."
   ]
  },
  {
   "cell_type": "code",
   "execution_count": null,
   "metadata": {},
   "outputs": [],
   "source": [
    "reflect = True"
   ]
  },
  {
   "cell_type": "code",
   "execution_count": null,
   "metadata": {},
   "outputs": [],
   "source": [
    "matches = rdmol_cp.GetSubstructMatches(rdmol_cp, uniquify=False, maxMatches=100000)\n",
    "\n",
    "prune = []\n",
    "for i in tqdm(range(len(all_conf))):\n",
    "    if i in prune:\n",
    "        continue\n",
    "    for j in range(i+1, len(all_conf)):\n",
    "        for match in matches:\n",
    "            atom_map = [list(enumerate(match))]\n",
    "            rmsd = Chem.rdMolAlign.CalcRMS(rdmol_cp.ToRWMol(),\n",
    "                                           rdmol_cp.ToRWMol(),\n",
    "                                           prbId=all_conf[j],\n",
    "                                           refId=all_conf[i],\n",
    "                                           map=atom_map,\n",
    "                                          )\n",
    "            if rmsd < rmsd_threshold:\n",
    "                prune.append(j)\n",
    "                break\n",
    "            if reflect:\n",
    "                rdmol_cp.Reflect(id=all_conf[j])\n",
    "                rmsd = Chem.rdMolAlign.CalcRMS(rdmol_cp.ToRWMol(),\n",
    "                                               rdmol_cp.ToRWMol(),\n",
    "                                               prbId=all_conf[j],\n",
    "                                               refId=all_conf[i],\n",
    "                                               map=atom_map,\n",
    "                                              )\n",
    "                rdmol_cp.Reflect(id=all_conf[j])\n",
    "\n",
    "                if rmsd < rmsd_threshold:\n",
    "                    prune.append(j)\n",
    "                    break\n",
    "\n",
    "all_conf = np.delete(all_conf, prune).tolist()\n",
    "print(f'Totally, {len(all_conf)} conformers')                    "
   ]
  },
  {
   "cell_type": "markdown",
   "metadata": {},
   "source": [
    "You can visualize the conformer from each of the group"
   ]
  },
  {
   "cell_type": "code",
   "execution_count": null,
   "metadata": {
    "scrolled": false
   },
   "outputs": [],
   "source": [
    "mols_to_view = [int(all_clusters[i].head) for i in [0,2,3,4,5,7,9,10]]\n",
    "entries = len(mols_to_view)\n",
    "\n",
    "viewer = grid_viewer(viewer_grid=(math.ceil(entries/3), 3), viewer_size=(240 * 3, 300 * math.ceil(entries/3)),)\n",
    "for i in range(entries):\n",
    "    loc = (i // 3, i % 3)\n",
    "    mol_viewer(rdmol_cp.ToMolBlock(confId=mols_to_view[i]), 'sdf', viewer=viewer, viewer_loc=loc)\n",
    "\n",
    "viewer.update()"
   ]
  },
  {
   "cell_type": "code",
   "execution_count": null,
   "metadata": {},
   "outputs": [],
   "source": [
    "Chem.rdMolAlign.AlignMolConformers(rdmol_cp.ToRWMol(), confIds=all_conf, maxIters=200)\n",
    "\n",
    "from rdmc.view import conformer_viewer\n",
    "view = conformer_viewer(rdmol_cp, conf_ids=all_conf, highlight_ids=[all_conf[0]], opacity=0.4, style_spec={'stick':{'radius':0.1}})\n",
    "view.update()"
   ]
  },
  {
   "cell_type": "markdown",
   "metadata": {},
   "source": [
    "## 3. Batch conformer search"
   ]
  },
  {
   "cell_type": "markdown",
   "metadata": {},
   "source": [
    "### 3.1 Define the scope\n",
    "[(label, representation, mulitplicity)]"
   ]
  },
  {
   "cell_type": "code",
   "execution_count": null,
   "metadata": {},
   "outputs": [],
   "source": [
    "scope = [('HTMPO(456)', 'OC1CC(C)(C)N(C(C1)(C)C)[O]', 2.0),\n",
    " ('S(457)', 'OC1CC(C)(C)N(C(C1)(C)C)OC1CC=CC=C1', 1.0),\n",
    " ('S(458)', 'OC1CC(C)(C)N(C(C1)(C)C)OC1C=CCC=C1', 1.0),\n",
    " ('S(459)', 'OC1CC(C)(C)N(C(C1)(C)C)OOOC1CC=CC=C1', 1.0),\n",
    " ('S(460)', 'C=CC(ON1C(C)(C)CC(CC1(C)C)O)C', 1.0),\n",
    " ('S(461)', 'CC=CCON1C(C)(C)CC(CC1(C)C)O', 1.0),\n",
    " ('S(462)', 'C=CC(OOON1C(C)(C)CC(CC1(C)C)O)C', 1.0),\n",
    " ('S(463)', 'OC1CC(C)(C)N(C(C1)(C)C)OOOC1C=CCC=C1', 1.0),\n",
    " ('S(464)', 'CC=CCOOON1C(C)(C)CC(CC1(C)C)O', 1.0),\n",
    " ('S(465)', 'OC1CC(C)(C)N(C(C1)(C)C)OC1CCCC=C1', 1.0),\n",
    " ('S(466)', 'OC1CC(C)(C)N(C(C1)(C)C)OOOC1CCCC=C1', 1.0),\n",
    " ('S(467)', 'OC1CC(C)(C)N(C(C1)(C)C)OC1CCC=C1', 1.0),\n",
    " ('S(468)', 'OC1CC(C)(C)N(C(C1)(C)C)OOOC1CCC=C1', 1.0),\n",
    " ('S(469)', 'OC1CC(C)(C)N(C(C1)(C)C)OC1C=CC=C1', 1.0),\n",
    " ('S(470)', 'OC1CC(C)(C)N(C(C1)(C)C)OOOC1C=CC=C1', 1.0),\n",
    " ('S(471)', 'OC1CC(C)(C)N(C(C1)(C)C)OC1=CC=C[CH]C1', 2.0),\n",
    " ('S(472)', 'OC1CC(C)(C)N(C(C1)(C)C)OC1=C[CH]CC=C1', 2.0),\n",
    " ('S(473)', 'OC1CC(C)(C)N(C(C1)(C)C)OOOC1=CC=C[CH]C1', 2.0),\n",
    " ('S(474)', '[CH2]C=C(ON1C(C)(C)CC(CC1(C)C)O)C', 2.0),\n",
    " ('S(475)', 'CC=C[CH]ON1C(C)(C)CC(CC1(C)C)O', 2.0),\n",
    " ('S(476)', '[CH2]C=C(OOON1C(C)(C)CC(CC1(C)C)O)C', 2.0),\n",
    " ('S(477)', 'OC1CC(C)(C)N(C(C1)(C)C)OOOC1=C[CH]CC=C1', 2.0),\n",
    " ('S(478)', 'CC=C[CH]OOON1C(C)(C)CC(CC1(C)C)O', 2.0),\n",
    " ('S(479)', 'OC1CC(C)(C)N(C(C1)(C)C)OC1=C[CH]CCC1', 2.0),\n",
    " ('S(480)', 'OC1CC(C)(C)N(C(C1)(C)C)OOOC1=C[CH]CCC1', 2.0),\n",
    " ('S(481)', 'OC1CC(C)(C)N(C(C1)(C)C)OC1=C[CH]CC1', 2.0),\n",
    " ('S(482)', 'OC1CC(C)(C)N(C(C1)(C)C)OOOC1=C[CH]CC1', 2.0),\n",
    " ('S(483)', 'OC1CC(C)(C)N(C(C1)(C)C)OC1=CC=C[CH]1', 2.0),\n",
    " ('S(484)', 'OC1CC(C)(C)N(C(C1)(C)C)OOOC1=CC=C[CH]1', 2.0),\n",
    " ('HTMP(486)', 'OC1CC(C)(C)[N]C(C1)(C)C', 2.0),\n",
    " ('S(488)', '[O]ON1C(C)(C)CC(CC1(C)C)O', 2.0),\n",
    " ('S(494)', 'OC1CC(C)(C)N(C(C1)(C)C)OOC1CC=CC=C1', 1.0),\n",
    " ('S(495)', 'C=CC(OON1C(C)(C)CC(CC1(C)C)O)C', 1.0),\n",
    " ('S(496)', 'OC1CC(C)(C)N(C(C1)(C)C)OOC1C=CCC=C1', 1.0),\n",
    " ('S(497)', 'CC=CCOON1C(C)(C)CC(CC1(C)C)O', 1.0),\n",
    " ('S(498)', 'OC1CC(C)(C)N(C(C1)(C)C)OOC1CCCC=C1', 1.0),\n",
    " ('S(499)', 'OC1CC(C)(C)N(C(C1)(C)C)OOC1CCC=C1', 1.0),\n",
    " ('S(500)', 'OC1CC(C)(C)N(C(C1)(C)C)OOC1C=CC=C1', 1.0),\n",
    " ('S(506)', 'OC1CC(C)(C)N(C(C1)(C)C)OON1C(C)(C)CC(CC1(C)C)O', 1.0),\n",
    " ('S(507)', 'OC1CC(C)(C)N(C(C1)(C)C)OOOON1C(C)(C)CC(CC1(C)C)O', 1.0),\n",
    " ('S(508)', '[O]OON1C(C)(C)CC(CC1(C)C)O', 2.0)]"
   ]
  },
  {
   "cell_type": "markdown",
   "metadata": {},
   "source": [
    "### 3.2 Find the lowest energy conformer for each item"
   ]
  },
  {
   "cell_type": "code",
   "execution_count": null,
   "metadata": {},
   "outputs": [],
   "source": [
    "################ INPUT ################################\n",
    "exclude_methyl_rotors = True\n",
    "\n",
    "RESOLUTION = 120  # degrees\n",
    "RESOLUTION_METHYL = 180  # degrees\n",
    "DIMENSION = 0\n",
    "########################################################\n",
    "\n",
    "results = []\n",
    "\n",
    "for label, smi, mult in tqdm(scope):\n",
    "    \n",
    "    rdmol = parse_xyz_or_smiles_list([(smi, mult)])[0]\n",
    "    torsions = rdmol.GetTorsionalModes(excludeMethyl=exclude_methyl_rotors)\n",
    "    rdmol.EmbedConformer()\n",
    "    conf = rdmol.GetConformer()\n",
    "    conf.SetTorsionalModes(torsions)\n",
    "    num_torsions = len(torsions)\n",
    "    original_angles = conf.GetAllTorsionsDeg()\n",
    "    \n",
    "    methyl_carbons = [item[0] for item in rdmol.GetSubstructMatches(RDKitMol.FromSmarts('[CH3]'))]\n",
    "    sampling = []\n",
    "    for tor in torsions:\n",
    "        if tor[1] in methyl_carbons or tor[2] in methyl_carbons:\n",
    "            sampling.append(360 // RESOLUTION_METHYL)\n",
    "        else:\n",
    "            sampling.append(360 // RESOLUTION)\n",
    "    \n",
    "    bookkeeps = {}\n",
    "    if DIMENSION == 0:\n",
    "        DIMENSION = len(torsions)\n",
    "    init_coords = conf.GetPositions()\n",
    "    for tor_indexes in combinations(range(len(torsions)), DIMENSION):\n",
    "        # Reset the geometry\n",
    "        conf.SetPositions(init_coords)\n",
    "        # Get angles\n",
    "        sampling_points = [sampling[i] for i in tor_indexes]\n",
    "        tor_orig_angles = [original_angles[i] for i in tor_indexes]\n",
    "        tor_to_gen = [torsions[i] for i in tor_indexes]\n",
    "\n",
    "        angles_list = gen_scan_angle_list(sampling_points,\n",
    "                                          tor_orig_angles)\n",
    "        angle_mesh = product(*angles_list)\n",
    "        # Generate conformers\n",
    "        bookkeep = {}\n",
    "        conformers_by_change_torsions(conf,\n",
    "                                      angle_mesh,\n",
    "                                      bookkeep=bookkeep,\n",
    "                                      torsions=tor_to_gen,\n",
    "                                      on_the_fly_check=False)\n",
    "        bookkeeps[str(tor_indexes)] = bookkeep\n",
    "        \n",
    "    \n",
    "    bookkeep = list(bookkeeps.values())[0]\n",
    "    rdmol_cp = rdmol.Copy()\n",
    "    \n",
    "    rdmol_cp.EmbedMultipleConfs(len(bookkeep))\n",
    "    confs = rdmol_cp.GetAllConformers()\n",
    "    for i, value in bookkeep.items():\n",
    "        confs[i].SetPositions(value['coords'])\n",
    "    symbols = rdmol_cp.GetElementSymbols()\n",
    "    \n",
    "    ff = RDKitFF(force_field='MMFF94s')\n",
    "    energies = []\n",
    "    for i in range(rdmol_cp.GetNumConformers()):\n",
    "        ff.setup(rdmol_cp, conf_id=i)\n",
    "        ff.optimize()\n",
    "        energies.append(ff.get_energy())\n",
    "\n",
    "    rdmol_cp = ff.get_optimized_mol()\n",
    "    \n",
    "    results.append({'label': label,\n",
    "                    'smi': rdmol_cp.ToSmiles(),\n",
    "                    'full_smi': rdmol_cp.ToSmiles(removeHs=False, RemoveAtomMap=False),\n",
    "                    'multiplicity': rdmol_cp.GetSpinMultiplicity(),\n",
    "                    'charge': rdmol_cp.GetFormalCharge(),\n",
    "                    'xyz': rdmol_cp.ToXYZ(confId=int(np.argmin(energies))),\n",
    "                    'torsions': torsions})"
   ]
  },
  {
   "cell_type": "markdown",
   "metadata": {},
   "source": [
    "### 3.3 Generate an ARC input"
   ]
  },
  {
   "cell_type": "code",
   "execution_count": null,
   "metadata": {},
   "outputs": [],
   "source": [
    "arc_input = {'project': 'dow_htempo_1',\n",
    "             'level_of_theory': 'CBS-QB3',\n",
    "             'species': [\n",
    "                 {'label': r['label'],\n",
    "                  'multiplicity': r['multiplicity'],\n",
    "                  'charge': r['charge'],\n",
    "                  'xyz': '\\n'.join(r['xyz'].splitlines()[2:]),}\n",
    "                 for r in results]\n",
    "            }"
   ]
  },
  {
   "cell_type": "code",
   "execution_count": null,
   "metadata": {},
   "outputs": [],
   "source": [
    "import subprocess"
   ]
  },
  {
   "cell_type": "code",
   "execution_count": null,
   "metadata": {},
   "outputs": [],
   "source": [
    "p_result = subprocess.run('echo \"haha\"', check=True, shell=True)"
   ]
  },
  {
   "cell_type": "code",
   "execution_count": null,
   "metadata": {},
   "outputs": [],
   "source": [
    "p_result."
   ]
  },
  {
   "cell_type": "code",
   "execution_count": null,
   "metadata": {},
   "outputs": [],
   "source": [
    "p"
   ]
  }
 ],
 "metadata": {
  "@webio": {
   "lastCommId": null,
   "lastKernelId": null
  },
  "interpreter": {
   "hash": "f734dd8bb8dba54e055a6b986ac72a1a3509c3dff380149774060d53d7aed57a"
  },
  "kernelspec": {
   "display_name": "Python 3.7.6 64-bit ('arc_env': conda)",
   "language": "python",
   "name": "python37664bitarcenvconda83c4abf9215d4a698ce68e2a44e6e6bc"
  },
  "language_info": {
   "codemirror_mode": {
    "name": "ipython",
    "version": 3
   },
   "file_extension": ".py",
   "mimetype": "text/x-python",
   "name": "python",
   "nbconvert_exporter": "python",
   "pygments_lexer": "ipython3",
   "version": "3.7.12"
  },
  "latex_envs": {
   "LaTeX_envs_menu_present": true,
   "autoclose": false,
   "autocomplete": true,
   "bibliofile": "biblio.bib",
   "cite_by": "apalike",
   "current_citInitial": 1,
   "eqLabelWithNumbers": true,
   "eqNumInitial": 1,
   "hotkeys": {
    "equation": "Ctrl-E",
    "itemize": "Ctrl-I"
   },
   "labels_anchors": false,
   "latex_user_defs": false,
   "report_style_numbering": false,
   "user_envs_cfg": false
  },
  "toc": {
   "base_numbering": 1,
   "nav_menu": {},
   "number_sections": true,
   "sideBar": true,
   "skip_h1_title": false,
   "title_cell": "Table of Contents",
   "title_sidebar": "Contents",
   "toc_cell": false,
   "toc_position": {},
   "toc_section_display": true,
   "toc_window_display": false
  },
  "varInspector": {
   "cols": {
    "lenName": 16,
    "lenType": 16,
    "lenVar": 40
   },
   "kernels_config": {
    "python": {
     "delete_cmd_postfix": "",
     "delete_cmd_prefix": "del ",
     "library": "var_list.py",
     "varRefreshCmd": "print(var_dic_list())"
    },
    "r": {
     "delete_cmd_postfix": ") ",
     "delete_cmd_prefix": "rm(",
     "library": "var_list.r",
     "varRefreshCmd": "cat(var_dic_list()) "
    }
   },
   "types_to_exclude": [
    "module",
    "function",
    "builtin_function_or_method",
    "instance",
    "_Feature"
   ],
   "window_display": false
  }
 },
 "nbformat": 4,
 "nbformat_minor": 4
}
