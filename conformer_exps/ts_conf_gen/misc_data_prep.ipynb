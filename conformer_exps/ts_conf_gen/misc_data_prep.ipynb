{
 "cells": [
  {
   "cell_type": "markdown",
   "metadata": {},
   "source": [
    "### generate smiles for testing"
   ]
  },
  {
   "cell_type": "code",
   "execution_count": 37,
   "metadata": {},
   "outputs": [],
   "source": [
    "import pickle\n",
    "import pandas as pd\n",
    "\n",
    "with open(\"../../../../ts_egnn/data/gsm_clean/splits/split0.pkl\", \"rb\") as f:\n",
    "    split = pickle.load(f)\n",
    "all_data = pd.read_csv(\"../../../../ts_egnn/data/gsm_clean/wb97xd3.csv\")\n",
    "\n",
    "val_data = all_data.filter(split[1], axis=0)\n",
    "val_data[\"rxn_smiles\"] = val_data[\"rsmi\"] + \">>\" + val_data[\"psmi\"]\n",
    "val_data[\"rxn_smiles\"].to_csv(\"./val_rxns.csv\", index=False)"
   ]
  },
  {
   "cell_type": "markdown",
   "metadata": {},
   "source": [
    "### generate smiles from val set to test semiempirical methods"
   ]
  },
  {
   "cell_type": "code",
   "execution_count": 20,
   "metadata": {},
   "outputs": [],
   "source": [
    "from rdmc import RDKitMol\n",
    "import pickle\n",
    "import pandas as pd\n",
    "\n",
    "with open(\"../../../../ts_egnn/data/gsm_clean/splits/split0.pkl\", \"rb\") as f:\n",
    "    split = pickle.load(f)\n",
    "all_data = pd.read_csv(\"../../../../ts_egnn/data/gsm_clean/wb97xd3_barriers.csv\")"
   ]
  },
  {
   "cell_type": "code",
   "execution_count": 32,
   "metadata": {},
   "outputs": [
    {
     "name": "stderr",
     "output_type": "stream",
     "text": [
      "/home/lagnajit/anaconda3/envs/rdmc_env/lib/python3.7/site-packages/ipykernel_launcher.py:3: SettingWithCopyWarning: \n",
      "A value is trying to be set on a copy of a slice from a DataFrame.\n",
      "Try using .loc[row_indexer,col_indexer] = value instead\n",
      "\n",
      "See the caveats in the documentation: https://pandas.pydata.org/pandas-docs/stable/user_guide/indexing.html#returning-a-view-versus-a-copy\n",
      "  This is separate from the ipykernel package so we can avoid doing imports until\n"
     ]
    }
   ],
   "source": [
    "val_data = all_data.filter(split[1], axis=0)\n",
    "low_barrier_val_data = val_data[val_data[\"dE0\"] < 60]\n",
    "low_barrier_val_data[\"rxn_smiles\"] = low_barrier_val_data[\"rsmi\"] + \">>\" + low_barrier_val_data[\"psmi\"]\n",
    "low_barrier_val_data[\"rxn_smiles\"].to_csv(\"./val_rxns_low_barrier.csv\", index=False)\n",
    "\n",
    "low_barrier_ids = low_barrier_val_data.index.values\n",
    "with open(\"./val_ids_low_barrier.pkl\", \"wb\") as f:\n",
    "    pickle.dump(low_barrier_ids, f)"
   ]
  },
  {
   "cell_type": "markdown",
   "metadata": {},
   "source": [
    "### deal with errors"
   ]
  },
  {
   "cell_type": "code",
   "execution_count": 5,
   "metadata": {},
   "outputs": [
    {
     "data": {
      "text/plain": [
       "array([106, 108, 117, 131, 141, 165, 176, 178, 185,  19, 198, 215, 234,\n",
       "       236, 250,  38,  41,  51,  57,  59,  71,  98, 254, 269, 273, 293,\n",
       "       299, 300, 309, 317, 323, 337, 339, 352, 353, 365, 398, 401, 411,\n",
       "       415, 443, 447, 451, 452, 454, 463, 466, 467, 468, 471, 473, 499,\n",
       "       515, 517, 525, 530, 533, 554, 656, 660, 665, 685, 697, 712, 738,\n",
       "       747])"
      ]
     },
     "execution_count": 5,
     "metadata": {},
     "output_type": "execute_result"
    }
   ],
   "source": [
    "import numpy as np\n",
    "\n",
    "with open(\"errors.txt\") as f:\n",
    "    errors = f.readlines()\n",
    "\n",
    "fail_ids = [int(l.split(\".\")[0].split(\"-\")[-1]) for l in errors]\n",
    "np.array(fail_ids)"
   ]
  },
  {
   "cell_type": "code",
   "execution_count": null,
   "metadata": {},
   "outputs": [],
   "source": [
    "106, 108, 117, 131, 141, 165, 176, 178, 185,  19, 198, 215, 234, 236, 250,  38,  41,  51,  57,  59,  71,  98, 254, 269, 273, 293, 299, 300, 309, 317, 323, 337, 339, 369, 352, 353, 365, 398, 401, 411, 415, 443, 447, 451, 452, 454, 463, 466, 467, 468, 471, 473, 499, 515, 517, 525, 530, 533, 554, 656, 660, 665, 685, 697, 712, 738, 747"
   ]
  },
  {
   "cell_type": "code",
   "execution_count": null,
   "metadata": {},
   "outputs": [],
   "source": [
    "err-14416473-141.txt:RuntimeError: Pre-condition Violation\n",
    "err-14416473-337.txt:RuntimeError: Pre-condition Violation\n",
    "err-14416473-339.txt:RuntimeError: Pre-condition Violation\n",
    "err-14416473-352.txt:RuntimeError: Pre-condition Violation\n",
    "err-14416473-353.txt:RuntimeError: Pre-condition Violation\n",
    "err-14416473-415.txt:RuntimeError: Pre-condition Violation\n",
    "err-14416473-443.txt:RuntimeError: Pre-condition Violation\n",
    "err-14416473-451.txt:RuntimeError: Pre-condition Violation\n",
    "err-14416473-466.txt:RuntimeError: Pre-condition Violation\n",
    "err-14416473-467.txt:RuntimeError: Pre-condition Violation\n",
    "err-14416473-525.txt:RuntimeError: Pre-condition Violation\n",
    "err-14416473-71.txt:RuntimeError: Pre-condition Violation"
   ]
  }
 ],
 "metadata": {
  "kernelspec": {
   "display_name": "Python [conda env:rdmc_env] *",
   "language": "python",
   "name": "conda-env-rdmc_env-py"
  },
  "language_info": {
   "codemirror_mode": {
    "name": "ipython",
    "version": 3
   },
   "file_extension": ".py",
   "mimetype": "text/x-python",
   "name": "python",
   "nbconvert_exporter": "python",
   "pygments_lexer": "ipython3",
   "version": "3.7.7"
  }
 },
 "nbformat": 4,
 "nbformat_minor": 4
}
